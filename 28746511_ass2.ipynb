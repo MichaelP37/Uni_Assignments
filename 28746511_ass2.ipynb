{
  "cells": [
    {
      "cell_type": "markdown",
      "metadata": {
        "id": "LalhNpdrlqWq"
      },
      "source": [
        "# FIT5196 Assignment 2\n",
        "Student Name: Michael Pettit\n",
        "\n",
        "Student ID: 28746511"
      ]
    },
    {
      "cell_type": "markdown",
      "metadata": {
        "id": "6l1r2sSrls6T"
      },
      "source": [
        "Mount the drive"
      ]
    },
    {
      "cell_type": "code",
      "execution_count": 370,
      "metadata": {
        "colab": {
          "base_uri": "https://localhost:8080/"
        },
        "id": "gdJxPN7hketN",
        "outputId": "215fa38d-6d8e-4414-84d9-3ffaaa4f8d35"
      },
      "outputs": [
        {
          "output_type": "stream",
          "name": "stdout",
          "text": [
            "Drive already mounted at /content/drive; to attempt to forcibly remount, call drive.mount(\"/content/drive\", force_remount=True).\n"
          ]
        }
      ],
      "source": [
        "from google.colab import drive\n",
        "drive.mount('/content/drive') "
      ]
    },
    {
      "cell_type": "markdown",
      "metadata": {
        "id": "c1BxpZWol_gF"
      },
      "source": [
        "In this assignment, there are 3 files in which data needs to be cleaned, removed and imputed respectively. There will be  dirty data file, an outlier data file and a missing data file. Each of these files will be explored with the appropriate cleansing performed on each"
      ]
    },
    {
      "cell_type": "markdown",
      "metadata": {
        "id": "8EZDuM4KmIqz"
      },
      "source": [
        "# Part 1. Looking at the Dirty File"
      ]
    },
    {
      "cell_type": "markdown",
      "metadata": {
        "id": "QpzdxT5smJZb"
      },
      "source": [
        "So, firstly we want to look at our dirty file and fix up an analmoies we can find. We know there can only be one ananomly per row with only one fix. Thus, lets open our file and take a quick look to see if we can find any such anomolies\n",
        "\n",
        "Note: we are told that order_id, time, the numeric quantitiy in order_items and delivery_fee are error-free. \n",
        "\n",
        "Hence there are 4 error-free columns and 8 columns we need to check"
      ]
    },
    {
      "cell_type": "code",
      "execution_count": 371,
      "metadata": {
        "colab": {
          "base_uri": "https://localhost:8080/",
          "height": 843
        },
        "id": "SyO9cVICl8p7",
        "outputId": "2e7bb445-86ea-471a-dc10-3fe5a2ecca08"
      },
      "outputs": [
        {
          "output_type": "stream",
          "name": "stdout",
          "text": [
            "(500, 12)\n"
          ]
        },
        {
          "output_type": "execute_result",
          "data": {
            "text/plain": [
              "    order_id        date      time order_type branch_code  \\\n",
              "0  ORDA07117  2021-09-09  16:16:54     Dinner          BK   \n",
              "1  ORDZ07064  2021-01-19  08:30:25  Breakfast          NS   \n",
              "2  ORDJ10873  2021-04-16  11:22:49  Breakfast          TP   \n",
              "3  ORDB00540  2021-04-17  11:32:57  Breakfast          TP   \n",
              "4  ORDC02969  2021-10-08  17:17:44     Dinner          NS   \n",
              "5  ORDY02742  2021-02-26  09:51:32  Breakfast          TP   \n",
              "6  ORDA10112  2021-02-12  09:21:07  Breakfast          BK   \n",
              "7  ORDK06856  2021-10-24  17:48:10     Dinner          BK   \n",
              "8  ORDA00203  2021-03-05  10:01:41  Breakfast          BK   \n",
              "9  ORDI09527  2021-07-25  14:45:38      Lunch          NS   \n",
              "\n",
              "                                         order_items  order_price  \\\n",
              "0  [('Fish&Chips', 3), ('Salmon', 10), ('Shrimp',...      1001.00   \n",
              "1                      [('Cereal', 10), ('Eggs', 9)]       389.00   \n",
              "2       [('Eggs', 3), ('Pancake', 3), ('Cereal', 9)]       309.75   \n",
              "3                       [('Coffee', 3), ('Eggs', 7)]       163.50   \n",
              "4   [('Salmon', 5), ('Pasta', 3), ('Fish&Chips', 5)]       462.50   \n",
              "5                    [('Coffee', 2), ('Pancake', 9)]       211.25   \n",
              "6  [('Cereal', 7), ('Eggs', 9), ('Pancake', 4), (...       473.00   \n",
              "7  [('Salmon', 3), ('Fish&Chips', 3), ('Shrimp', ...       665.00   \n",
              "8  [('Pancake', 9), ('Eggs', 10), ('Coffee', 1), ...       595.75   \n",
              "9  [('Steak', 1), ('Salad', 4), ('Burger', 1), ('...       252.80   \n",
              "\n",
              "   customer_lat  customer_lon  customerHasloyalty?  distance_to_customer_KM  \\\n",
              "0    -37.822204    144.975708                    0                    7.446   \n",
              "1    -37.799833    144.939835                    1                    8.944   \n",
              "2    -37.824397    144.988546                    0                    9.196   \n",
              "3    -37.815964    144.972272                    0                    8.202   \n",
              "4    -37.804378    144.993297                    0                    8.551   \n",
              "5    -37.818576    144.966991                    0                    7.576   \n",
              "6    -37.807997    144.968795                    0                    6.913   \n",
              "7    -37.815824    144.992110                    0                    5.307   \n",
              "8    -37.803123    144.961601                    0                    7.862   \n",
              "9    -37.813115    144.951406                    0                    8.582   \n",
              "\n",
              "   delivery_fee  \n",
              "0     14.696441  \n",
              "1     14.147243  \n",
              "2     11.626007  \n",
              "3     12.283309  \n",
              "4     14.187069  \n",
              "5     10.634576  \n",
              "6     11.814639  \n",
              "7     14.561978  \n",
              "8     13.415311  \n",
              "9     15.586482  "
            ],
            "text/html": [
              "\n",
              "  <div id=\"df-a1483577-226e-4e05-aae9-08f2717fdcc3\">\n",
              "    <div class=\"colab-df-container\">\n",
              "      <div>\n",
              "<style scoped>\n",
              "    .dataframe tbody tr th:only-of-type {\n",
              "        vertical-align: middle;\n",
              "    }\n",
              "\n",
              "    .dataframe tbody tr th {\n",
              "        vertical-align: top;\n",
              "    }\n",
              "\n",
              "    .dataframe thead th {\n",
              "        text-align: right;\n",
              "    }\n",
              "</style>\n",
              "<table border=\"1\" class=\"dataframe\">\n",
              "  <thead>\n",
              "    <tr style=\"text-align: right;\">\n",
              "      <th></th>\n",
              "      <th>order_id</th>\n",
              "      <th>date</th>\n",
              "      <th>time</th>\n",
              "      <th>order_type</th>\n",
              "      <th>branch_code</th>\n",
              "      <th>order_items</th>\n",
              "      <th>order_price</th>\n",
              "      <th>customer_lat</th>\n",
              "      <th>customer_lon</th>\n",
              "      <th>customerHasloyalty?</th>\n",
              "      <th>distance_to_customer_KM</th>\n",
              "      <th>delivery_fee</th>\n",
              "    </tr>\n",
              "  </thead>\n",
              "  <tbody>\n",
              "    <tr>\n",
              "      <th>0</th>\n",
              "      <td>ORDA07117</td>\n",
              "      <td>2021-09-09</td>\n",
              "      <td>16:16:54</td>\n",
              "      <td>Dinner</td>\n",
              "      <td>BK</td>\n",
              "      <td>[('Fish&amp;Chips', 3), ('Salmon', 10), ('Shrimp',...</td>\n",
              "      <td>1001.00</td>\n",
              "      <td>-37.822204</td>\n",
              "      <td>144.975708</td>\n",
              "      <td>0</td>\n",
              "      <td>7.446</td>\n",
              "      <td>14.696441</td>\n",
              "    </tr>\n",
              "    <tr>\n",
              "      <th>1</th>\n",
              "      <td>ORDZ07064</td>\n",
              "      <td>2021-01-19</td>\n",
              "      <td>08:30:25</td>\n",
              "      <td>Breakfast</td>\n",
              "      <td>NS</td>\n",
              "      <td>[('Cereal', 10), ('Eggs', 9)]</td>\n",
              "      <td>389.00</td>\n",
              "      <td>-37.799833</td>\n",
              "      <td>144.939835</td>\n",
              "      <td>1</td>\n",
              "      <td>8.944</td>\n",
              "      <td>14.147243</td>\n",
              "    </tr>\n",
              "    <tr>\n",
              "      <th>2</th>\n",
              "      <td>ORDJ10873</td>\n",
              "      <td>2021-04-16</td>\n",
              "      <td>11:22:49</td>\n",
              "      <td>Breakfast</td>\n",
              "      <td>TP</td>\n",
              "      <td>[('Eggs', 3), ('Pancake', 3), ('Cereal', 9)]</td>\n",
              "      <td>309.75</td>\n",
              "      <td>-37.824397</td>\n",
              "      <td>144.988546</td>\n",
              "      <td>0</td>\n",
              "      <td>9.196</td>\n",
              "      <td>11.626007</td>\n",
              "    </tr>\n",
              "    <tr>\n",
              "      <th>3</th>\n",
              "      <td>ORDB00540</td>\n",
              "      <td>2021-04-17</td>\n",
              "      <td>11:32:57</td>\n",
              "      <td>Breakfast</td>\n",
              "      <td>TP</td>\n",
              "      <td>[('Coffee', 3), ('Eggs', 7)]</td>\n",
              "      <td>163.50</td>\n",
              "      <td>-37.815964</td>\n",
              "      <td>144.972272</td>\n",
              "      <td>0</td>\n",
              "      <td>8.202</td>\n",
              "      <td>12.283309</td>\n",
              "    </tr>\n",
              "    <tr>\n",
              "      <th>4</th>\n",
              "      <td>ORDC02969</td>\n",
              "      <td>2021-10-08</td>\n",
              "      <td>17:17:44</td>\n",
              "      <td>Dinner</td>\n",
              "      <td>NS</td>\n",
              "      <td>[('Salmon', 5), ('Pasta', 3), ('Fish&amp;Chips', 5)]</td>\n",
              "      <td>462.50</td>\n",
              "      <td>-37.804378</td>\n",
              "      <td>144.993297</td>\n",
              "      <td>0</td>\n",
              "      <td>8.551</td>\n",
              "      <td>14.187069</td>\n",
              "    </tr>\n",
              "    <tr>\n",
              "      <th>5</th>\n",
              "      <td>ORDY02742</td>\n",
              "      <td>2021-02-26</td>\n",
              "      <td>09:51:32</td>\n",
              "      <td>Breakfast</td>\n",
              "      <td>TP</td>\n",
              "      <td>[('Coffee', 2), ('Pancake', 9)]</td>\n",
              "      <td>211.25</td>\n",
              "      <td>-37.818576</td>\n",
              "      <td>144.966991</td>\n",
              "      <td>0</td>\n",
              "      <td>7.576</td>\n",
              "      <td>10.634576</td>\n",
              "    </tr>\n",
              "    <tr>\n",
              "      <th>6</th>\n",
              "      <td>ORDA10112</td>\n",
              "      <td>2021-02-12</td>\n",
              "      <td>09:21:07</td>\n",
              "      <td>Breakfast</td>\n",
              "      <td>BK</td>\n",
              "      <td>[('Cereal', 7), ('Eggs', 9), ('Pancake', 4), (...</td>\n",
              "      <td>473.00</td>\n",
              "      <td>-37.807997</td>\n",
              "      <td>144.968795</td>\n",
              "      <td>0</td>\n",
              "      <td>6.913</td>\n",
              "      <td>11.814639</td>\n",
              "    </tr>\n",
              "    <tr>\n",
              "      <th>7</th>\n",
              "      <td>ORDK06856</td>\n",
              "      <td>2021-10-24</td>\n",
              "      <td>17:48:10</td>\n",
              "      <td>Dinner</td>\n",
              "      <td>BK</td>\n",
              "      <td>[('Salmon', 3), ('Fish&amp;Chips', 3), ('Shrimp', ...</td>\n",
              "      <td>665.00</td>\n",
              "      <td>-37.815824</td>\n",
              "      <td>144.992110</td>\n",
              "      <td>0</td>\n",
              "      <td>5.307</td>\n",
              "      <td>14.561978</td>\n",
              "    </tr>\n",
              "    <tr>\n",
              "      <th>8</th>\n",
              "      <td>ORDA00203</td>\n",
              "      <td>2021-03-05</td>\n",
              "      <td>10:01:41</td>\n",
              "      <td>Breakfast</td>\n",
              "      <td>BK</td>\n",
              "      <td>[('Pancake', 9), ('Eggs', 10), ('Coffee', 1), ...</td>\n",
              "      <td>595.75</td>\n",
              "      <td>-37.803123</td>\n",
              "      <td>144.961601</td>\n",
              "      <td>0</td>\n",
              "      <td>7.862</td>\n",
              "      <td>13.415311</td>\n",
              "    </tr>\n",
              "    <tr>\n",
              "      <th>9</th>\n",
              "      <td>ORDI09527</td>\n",
              "      <td>2021-07-25</td>\n",
              "      <td>14:45:38</td>\n",
              "      <td>Lunch</td>\n",
              "      <td>NS</td>\n",
              "      <td>[('Steak', 1), ('Salad', 4), ('Burger', 1), ('...</td>\n",
              "      <td>252.80</td>\n",
              "      <td>-37.813115</td>\n",
              "      <td>144.951406</td>\n",
              "      <td>0</td>\n",
              "      <td>8.582</td>\n",
              "      <td>15.586482</td>\n",
              "    </tr>\n",
              "  </tbody>\n",
              "</table>\n",
              "</div>\n",
              "      <button class=\"colab-df-convert\" onclick=\"convertToInteractive('df-a1483577-226e-4e05-aae9-08f2717fdcc3')\"\n",
              "              title=\"Convert this dataframe to an interactive table.\"\n",
              "              style=\"display:none;\">\n",
              "        \n",
              "  <svg xmlns=\"http://www.w3.org/2000/svg\" height=\"24px\"viewBox=\"0 0 24 24\"\n",
              "       width=\"24px\">\n",
              "    <path d=\"M0 0h24v24H0V0z\" fill=\"none\"/>\n",
              "    <path d=\"M18.56 5.44l.94 2.06.94-2.06 2.06-.94-2.06-.94-.94-2.06-.94 2.06-2.06.94zm-11 1L8.5 8.5l.94-2.06 2.06-.94-2.06-.94L8.5 2.5l-.94 2.06-2.06.94zm10 10l.94 2.06.94-2.06 2.06-.94-2.06-.94-.94-2.06-.94 2.06-2.06.94z\"/><path d=\"M17.41 7.96l-1.37-1.37c-.4-.4-.92-.59-1.43-.59-.52 0-1.04.2-1.43.59L10.3 9.45l-7.72 7.72c-.78.78-.78 2.05 0 2.83L4 21.41c.39.39.9.59 1.41.59.51 0 1.02-.2 1.41-.59l7.78-7.78 2.81-2.81c.8-.78.8-2.07 0-2.86zM5.41 20L4 18.59l7.72-7.72 1.47 1.35L5.41 20z\"/>\n",
              "  </svg>\n",
              "      </button>\n",
              "      \n",
              "  <style>\n",
              "    .colab-df-container {\n",
              "      display:flex;\n",
              "      flex-wrap:wrap;\n",
              "      gap: 12px;\n",
              "    }\n",
              "\n",
              "    .colab-df-convert {\n",
              "      background-color: #E8F0FE;\n",
              "      border: none;\n",
              "      border-radius: 50%;\n",
              "      cursor: pointer;\n",
              "      display: none;\n",
              "      fill: #1967D2;\n",
              "      height: 32px;\n",
              "      padding: 0 0 0 0;\n",
              "      width: 32px;\n",
              "    }\n",
              "\n",
              "    .colab-df-convert:hover {\n",
              "      background-color: #E2EBFA;\n",
              "      box-shadow: 0px 1px 2px rgba(60, 64, 67, 0.3), 0px 1px 3px 1px rgba(60, 64, 67, 0.15);\n",
              "      fill: #174EA6;\n",
              "    }\n",
              "\n",
              "    [theme=dark] .colab-df-convert {\n",
              "      background-color: #3B4455;\n",
              "      fill: #D2E3FC;\n",
              "    }\n",
              "\n",
              "    [theme=dark] .colab-df-convert:hover {\n",
              "      background-color: #434B5C;\n",
              "      box-shadow: 0px 1px 3px 1px rgba(0, 0, 0, 0.15);\n",
              "      filter: drop-shadow(0px 1px 2px rgba(0, 0, 0, 0.3));\n",
              "      fill: #FFFFFF;\n",
              "    }\n",
              "  </style>\n",
              "\n",
              "      <script>\n",
              "        const buttonEl =\n",
              "          document.querySelector('#df-a1483577-226e-4e05-aae9-08f2717fdcc3 button.colab-df-convert');\n",
              "        buttonEl.style.display =\n",
              "          google.colab.kernel.accessAllowed ? 'block' : 'none';\n",
              "\n",
              "        async function convertToInteractive(key) {\n",
              "          const element = document.querySelector('#df-a1483577-226e-4e05-aae9-08f2717fdcc3');\n",
              "          const dataTable =\n",
              "            await google.colab.kernel.invokeFunction('convertToInteractive',\n",
              "                                                     [key], {});\n",
              "          if (!dataTable) return;\n",
              "\n",
              "          const docLinkHtml = 'Like what you see? Visit the ' +\n",
              "            '<a target=\"_blank\" href=https://colab.research.google.com/notebooks/data_table.ipynb>data table notebook</a>'\n",
              "            + ' to learn more about interactive tables.';\n",
              "          element.innerHTML = '';\n",
              "          dataTable['output_type'] = 'display_data';\n",
              "          await google.colab.output.renderOutput(dataTable, element);\n",
              "          const docLink = document.createElement('div');\n",
              "          docLink.innerHTML = docLinkHtml;\n",
              "          element.appendChild(docLink);\n",
              "        }\n",
              "      </script>\n",
              "    </div>\n",
              "  </div>\n",
              "  "
            ]
          },
          "metadata": {},
          "execution_count": 371
        }
      ],
      "source": [
        "# Load the dirty file and take a look at the dataset\n",
        "\n",
        "import pandas as pd\n",
        "\n",
        "dirty = pd.read_csv('/content/drive/Shareddrives/FIT5196-s2-2022/A2/input_data/28746511_dirty_data.csv')\n",
        "\n",
        "print(dirty.shape)\n",
        "\n",
        "dirty.head(10)"
      ]
    },
    {
      "cell_type": "code",
      "execution_count": 372,
      "metadata": {
        "colab": {
          "base_uri": "https://localhost:8080/"
        },
        "id": "gII8q30fmkSl",
        "outputId": "61e6f13d-48e0-454b-8e82-6649430b3ff1"
      },
      "outputs": [
        {
          "output_type": "stream",
          "name": "stdout",
          "text": [
            "<class 'pandas.core.frame.DataFrame'>\n",
            "RangeIndex: 500 entries, 0 to 499\n",
            "Data columns (total 12 columns):\n",
            " #   Column                   Non-Null Count  Dtype  \n",
            "---  ------                   --------------  -----  \n",
            " 0   order_id                 500 non-null    object \n",
            " 1   date                     500 non-null    object \n",
            " 2   time                     500 non-null    object \n",
            " 3   order_type               500 non-null    object \n",
            " 4   branch_code              500 non-null    object \n",
            " 5   order_items              500 non-null    object \n",
            " 6   order_price              500 non-null    float64\n",
            " 7   customer_lat             500 non-null    float64\n",
            " 8   customer_lon             500 non-null    float64\n",
            " 9   customerHasloyalty?      500 non-null    int64  \n",
            " 10  distance_to_customer_KM  500 non-null    float64\n",
            " 11  delivery_fee             500 non-null    float64\n",
            "dtypes: float64(5), int64(1), object(6)\n",
            "memory usage: 47.0+ KB\n"
          ]
        }
      ],
      "source": [
        "dirty.info()"
      ]
    },
    {
      "cell_type": "code",
      "execution_count": 373,
      "metadata": {
        "colab": {
          "base_uri": "https://localhost:8080/",
          "height": 300
        },
        "id": "O81yzHtxml6L",
        "outputId": "8fd592bb-99ae-4794-a8cf-f1aeed940068"
      },
      "outputs": [
        {
          "output_type": "execute_result",
          "data": {
            "text/plain": [
              "       order_price  customer_lat  customer_lon  customerHasloyalty?  \\\n",
              "count   500.000000    500.000000    500.000000           500.000000   \n",
              "mean    469.185700    -35.379083    143.139009             0.062000   \n",
              "std     269.262196     19.357390     18.204538             0.241397   \n",
              "min      32.000000    -37.828229    -37.817430             0.000000   \n",
              "25%     268.875000    -37.818522    144.949846             0.000000   \n",
              "50%     398.750000    -37.812196    144.964126             0.000000   \n",
              "75%     640.875000    -37.804926    144.982107             0.000000   \n",
              "max    1465.500000    145.010615    145.015488             1.000000   \n",
              "\n",
              "       distance_to_customer_KM  delivery_fee  \n",
              "count               500.000000    500.000000  \n",
              "mean                  8.878164     14.045670  \n",
              "std                   1.733091      2.518901  \n",
              "min                   3.481000      5.834092  \n",
              "25%                   7.848750     12.856113  \n",
              "50%                   8.883500     14.180308  \n",
              "75%                   9.943250     15.580120  \n",
              "max                  13.071000     21.334668  "
            ],
            "text/html": [
              "\n",
              "  <div id=\"df-624bf923-e4ee-4c7a-a750-aa22f1a73e5a\">\n",
              "    <div class=\"colab-df-container\">\n",
              "      <div>\n",
              "<style scoped>\n",
              "    .dataframe tbody tr th:only-of-type {\n",
              "        vertical-align: middle;\n",
              "    }\n",
              "\n",
              "    .dataframe tbody tr th {\n",
              "        vertical-align: top;\n",
              "    }\n",
              "\n",
              "    .dataframe thead th {\n",
              "        text-align: right;\n",
              "    }\n",
              "</style>\n",
              "<table border=\"1\" class=\"dataframe\">\n",
              "  <thead>\n",
              "    <tr style=\"text-align: right;\">\n",
              "      <th></th>\n",
              "      <th>order_price</th>\n",
              "      <th>customer_lat</th>\n",
              "      <th>customer_lon</th>\n",
              "      <th>customerHasloyalty?</th>\n",
              "      <th>distance_to_customer_KM</th>\n",
              "      <th>delivery_fee</th>\n",
              "    </tr>\n",
              "  </thead>\n",
              "  <tbody>\n",
              "    <tr>\n",
              "      <th>count</th>\n",
              "      <td>500.000000</td>\n",
              "      <td>500.000000</td>\n",
              "      <td>500.000000</td>\n",
              "      <td>500.000000</td>\n",
              "      <td>500.000000</td>\n",
              "      <td>500.000000</td>\n",
              "    </tr>\n",
              "    <tr>\n",
              "      <th>mean</th>\n",
              "      <td>469.185700</td>\n",
              "      <td>-35.379083</td>\n",
              "      <td>143.139009</td>\n",
              "      <td>0.062000</td>\n",
              "      <td>8.878164</td>\n",
              "      <td>14.045670</td>\n",
              "    </tr>\n",
              "    <tr>\n",
              "      <th>std</th>\n",
              "      <td>269.262196</td>\n",
              "      <td>19.357390</td>\n",
              "      <td>18.204538</td>\n",
              "      <td>0.241397</td>\n",
              "      <td>1.733091</td>\n",
              "      <td>2.518901</td>\n",
              "    </tr>\n",
              "    <tr>\n",
              "      <th>min</th>\n",
              "      <td>32.000000</td>\n",
              "      <td>-37.828229</td>\n",
              "      <td>-37.817430</td>\n",
              "      <td>0.000000</td>\n",
              "      <td>3.481000</td>\n",
              "      <td>5.834092</td>\n",
              "    </tr>\n",
              "    <tr>\n",
              "      <th>25%</th>\n",
              "      <td>268.875000</td>\n",
              "      <td>-37.818522</td>\n",
              "      <td>144.949846</td>\n",
              "      <td>0.000000</td>\n",
              "      <td>7.848750</td>\n",
              "      <td>12.856113</td>\n",
              "    </tr>\n",
              "    <tr>\n",
              "      <th>50%</th>\n",
              "      <td>398.750000</td>\n",
              "      <td>-37.812196</td>\n",
              "      <td>144.964126</td>\n",
              "      <td>0.000000</td>\n",
              "      <td>8.883500</td>\n",
              "      <td>14.180308</td>\n",
              "    </tr>\n",
              "    <tr>\n",
              "      <th>75%</th>\n",
              "      <td>640.875000</td>\n",
              "      <td>-37.804926</td>\n",
              "      <td>144.982107</td>\n",
              "      <td>0.000000</td>\n",
              "      <td>9.943250</td>\n",
              "      <td>15.580120</td>\n",
              "    </tr>\n",
              "    <tr>\n",
              "      <th>max</th>\n",
              "      <td>1465.500000</td>\n",
              "      <td>145.010615</td>\n",
              "      <td>145.015488</td>\n",
              "      <td>1.000000</td>\n",
              "      <td>13.071000</td>\n",
              "      <td>21.334668</td>\n",
              "    </tr>\n",
              "  </tbody>\n",
              "</table>\n",
              "</div>\n",
              "      <button class=\"colab-df-convert\" onclick=\"convertToInteractive('df-624bf923-e4ee-4c7a-a750-aa22f1a73e5a')\"\n",
              "              title=\"Convert this dataframe to an interactive table.\"\n",
              "              style=\"display:none;\">\n",
              "        \n",
              "  <svg xmlns=\"http://www.w3.org/2000/svg\" height=\"24px\"viewBox=\"0 0 24 24\"\n",
              "       width=\"24px\">\n",
              "    <path d=\"M0 0h24v24H0V0z\" fill=\"none\"/>\n",
              "    <path d=\"M18.56 5.44l.94 2.06.94-2.06 2.06-.94-2.06-.94-.94-2.06-.94 2.06-2.06.94zm-11 1L8.5 8.5l.94-2.06 2.06-.94-2.06-.94L8.5 2.5l-.94 2.06-2.06.94zm10 10l.94 2.06.94-2.06 2.06-.94-2.06-.94-.94-2.06-.94 2.06-2.06.94z\"/><path d=\"M17.41 7.96l-1.37-1.37c-.4-.4-.92-.59-1.43-.59-.52 0-1.04.2-1.43.59L10.3 9.45l-7.72 7.72c-.78.78-.78 2.05 0 2.83L4 21.41c.39.39.9.59 1.41.59.51 0 1.02-.2 1.41-.59l7.78-7.78 2.81-2.81c.8-.78.8-2.07 0-2.86zM5.41 20L4 18.59l7.72-7.72 1.47 1.35L5.41 20z\"/>\n",
              "  </svg>\n",
              "      </button>\n",
              "      \n",
              "  <style>\n",
              "    .colab-df-container {\n",
              "      display:flex;\n",
              "      flex-wrap:wrap;\n",
              "      gap: 12px;\n",
              "    }\n",
              "\n",
              "    .colab-df-convert {\n",
              "      background-color: #E8F0FE;\n",
              "      border: none;\n",
              "      border-radius: 50%;\n",
              "      cursor: pointer;\n",
              "      display: none;\n",
              "      fill: #1967D2;\n",
              "      height: 32px;\n",
              "      padding: 0 0 0 0;\n",
              "      width: 32px;\n",
              "    }\n",
              "\n",
              "    .colab-df-convert:hover {\n",
              "      background-color: #E2EBFA;\n",
              "      box-shadow: 0px 1px 2px rgba(60, 64, 67, 0.3), 0px 1px 3px 1px rgba(60, 64, 67, 0.15);\n",
              "      fill: #174EA6;\n",
              "    }\n",
              "\n",
              "    [theme=dark] .colab-df-convert {\n",
              "      background-color: #3B4455;\n",
              "      fill: #D2E3FC;\n",
              "    }\n",
              "\n",
              "    [theme=dark] .colab-df-convert:hover {\n",
              "      background-color: #434B5C;\n",
              "      box-shadow: 0px 1px 3px 1px rgba(0, 0, 0, 0.15);\n",
              "      filter: drop-shadow(0px 1px 2px rgba(0, 0, 0, 0.3));\n",
              "      fill: #FFFFFF;\n",
              "    }\n",
              "  </style>\n",
              "\n",
              "      <script>\n",
              "        const buttonEl =\n",
              "          document.querySelector('#df-624bf923-e4ee-4c7a-a750-aa22f1a73e5a button.colab-df-convert');\n",
              "        buttonEl.style.display =\n",
              "          google.colab.kernel.accessAllowed ? 'block' : 'none';\n",
              "\n",
              "        async function convertToInteractive(key) {\n",
              "          const element = document.querySelector('#df-624bf923-e4ee-4c7a-a750-aa22f1a73e5a');\n",
              "          const dataTable =\n",
              "            await google.colab.kernel.invokeFunction('convertToInteractive',\n",
              "                                                     [key], {});\n",
              "          if (!dataTable) return;\n",
              "\n",
              "          const docLinkHtml = 'Like what you see? Visit the ' +\n",
              "            '<a target=\"_blank\" href=https://colab.research.google.com/notebooks/data_table.ipynb>data table notebook</a>'\n",
              "            + ' to learn more about interactive tables.';\n",
              "          element.innerHTML = '';\n",
              "          dataTable['output_type'] = 'display_data';\n",
              "          await google.colab.output.renderOutput(dataTable, element);\n",
              "          const docLink = document.createElement('div');\n",
              "          docLink.innerHTML = docLinkHtml;\n",
              "          element.appendChild(docLink);\n",
              "        }\n",
              "      </script>\n",
              "    </div>\n",
              "  </div>\n",
              "  "
            ]
          },
          "metadata": {},
          "execution_count": 373
        }
      ],
      "source": [
        "dirty.describe()"
      ]
    },
    {
      "cell_type": "code",
      "execution_count": 374,
      "metadata": {
        "colab": {
          "base_uri": "https://localhost:8080/",
          "height": 175
        },
        "id": "4nUqPcVemoga",
        "outputId": "835fb75f-6da8-4fdf-b827-65f002c02bdc"
      },
      "outputs": [
        {
          "output_type": "execute_result",
          "data": {
            "text/plain": [
              "         order_id        date      time order_type branch_code  \\\n",
              "count         500         500       500        500         500   \n",
              "unique        500         266        72          3           5   \n",
              "top     ORDA07117  2021-06-10  09:00:50  Breakfast          NS   \n",
              "freq            1           5        15        176         189   \n",
              "\n",
              "                         order_items  \n",
              "count                            500  \n",
              "unique                           498  \n",
              "top     [('Fries', 5), ('Steak', 7)]  \n",
              "freq                               2  "
            ],
            "text/html": [
              "\n",
              "  <div id=\"df-3d629d77-0553-4e8a-99e1-68e7173c31fb\">\n",
              "    <div class=\"colab-df-container\">\n",
              "      <div>\n",
              "<style scoped>\n",
              "    .dataframe tbody tr th:only-of-type {\n",
              "        vertical-align: middle;\n",
              "    }\n",
              "\n",
              "    .dataframe tbody tr th {\n",
              "        vertical-align: top;\n",
              "    }\n",
              "\n",
              "    .dataframe thead th {\n",
              "        text-align: right;\n",
              "    }\n",
              "</style>\n",
              "<table border=\"1\" class=\"dataframe\">\n",
              "  <thead>\n",
              "    <tr style=\"text-align: right;\">\n",
              "      <th></th>\n",
              "      <th>order_id</th>\n",
              "      <th>date</th>\n",
              "      <th>time</th>\n",
              "      <th>order_type</th>\n",
              "      <th>branch_code</th>\n",
              "      <th>order_items</th>\n",
              "    </tr>\n",
              "  </thead>\n",
              "  <tbody>\n",
              "    <tr>\n",
              "      <th>count</th>\n",
              "      <td>500</td>\n",
              "      <td>500</td>\n",
              "      <td>500</td>\n",
              "      <td>500</td>\n",
              "      <td>500</td>\n",
              "      <td>500</td>\n",
              "    </tr>\n",
              "    <tr>\n",
              "      <th>unique</th>\n",
              "      <td>500</td>\n",
              "      <td>266</td>\n",
              "      <td>72</td>\n",
              "      <td>3</td>\n",
              "      <td>5</td>\n",
              "      <td>498</td>\n",
              "    </tr>\n",
              "    <tr>\n",
              "      <th>top</th>\n",
              "      <td>ORDA07117</td>\n",
              "      <td>2021-06-10</td>\n",
              "      <td>09:00:50</td>\n",
              "      <td>Breakfast</td>\n",
              "      <td>NS</td>\n",
              "      <td>[('Fries', 5), ('Steak', 7)]</td>\n",
              "    </tr>\n",
              "    <tr>\n",
              "      <th>freq</th>\n",
              "      <td>1</td>\n",
              "      <td>5</td>\n",
              "      <td>15</td>\n",
              "      <td>176</td>\n",
              "      <td>189</td>\n",
              "      <td>2</td>\n",
              "    </tr>\n",
              "  </tbody>\n",
              "</table>\n",
              "</div>\n",
              "      <button class=\"colab-df-convert\" onclick=\"convertToInteractive('df-3d629d77-0553-4e8a-99e1-68e7173c31fb')\"\n",
              "              title=\"Convert this dataframe to an interactive table.\"\n",
              "              style=\"display:none;\">\n",
              "        \n",
              "  <svg xmlns=\"http://www.w3.org/2000/svg\" height=\"24px\"viewBox=\"0 0 24 24\"\n",
              "       width=\"24px\">\n",
              "    <path d=\"M0 0h24v24H0V0z\" fill=\"none\"/>\n",
              "    <path d=\"M18.56 5.44l.94 2.06.94-2.06 2.06-.94-2.06-.94-.94-2.06-.94 2.06-2.06.94zm-11 1L8.5 8.5l.94-2.06 2.06-.94-2.06-.94L8.5 2.5l-.94 2.06-2.06.94zm10 10l.94 2.06.94-2.06 2.06-.94-2.06-.94-.94-2.06-.94 2.06-2.06.94z\"/><path d=\"M17.41 7.96l-1.37-1.37c-.4-.4-.92-.59-1.43-.59-.52 0-1.04.2-1.43.59L10.3 9.45l-7.72 7.72c-.78.78-.78 2.05 0 2.83L4 21.41c.39.39.9.59 1.41.59.51 0 1.02-.2 1.41-.59l7.78-7.78 2.81-2.81c.8-.78.8-2.07 0-2.86zM5.41 20L4 18.59l7.72-7.72 1.47 1.35L5.41 20z\"/>\n",
              "  </svg>\n",
              "      </button>\n",
              "      \n",
              "  <style>\n",
              "    .colab-df-container {\n",
              "      display:flex;\n",
              "      flex-wrap:wrap;\n",
              "      gap: 12px;\n",
              "    }\n",
              "\n",
              "    .colab-df-convert {\n",
              "      background-color: #E8F0FE;\n",
              "      border: none;\n",
              "      border-radius: 50%;\n",
              "      cursor: pointer;\n",
              "      display: none;\n",
              "      fill: #1967D2;\n",
              "      height: 32px;\n",
              "      padding: 0 0 0 0;\n",
              "      width: 32px;\n",
              "    }\n",
              "\n",
              "    .colab-df-convert:hover {\n",
              "      background-color: #E2EBFA;\n",
              "      box-shadow: 0px 1px 2px rgba(60, 64, 67, 0.3), 0px 1px 3px 1px rgba(60, 64, 67, 0.15);\n",
              "      fill: #174EA6;\n",
              "    }\n",
              "\n",
              "    [theme=dark] .colab-df-convert {\n",
              "      background-color: #3B4455;\n",
              "      fill: #D2E3FC;\n",
              "    }\n",
              "\n",
              "    [theme=dark] .colab-df-convert:hover {\n",
              "      background-color: #434B5C;\n",
              "      box-shadow: 0px 1px 3px 1px rgba(0, 0, 0, 0.15);\n",
              "      filter: drop-shadow(0px 1px 2px rgba(0, 0, 0, 0.3));\n",
              "      fill: #FFFFFF;\n",
              "    }\n",
              "  </style>\n",
              "\n",
              "      <script>\n",
              "        const buttonEl =\n",
              "          document.querySelector('#df-3d629d77-0553-4e8a-99e1-68e7173c31fb button.colab-df-convert');\n",
              "        buttonEl.style.display =\n",
              "          google.colab.kernel.accessAllowed ? 'block' : 'none';\n",
              "\n",
              "        async function convertToInteractive(key) {\n",
              "          const element = document.querySelector('#df-3d629d77-0553-4e8a-99e1-68e7173c31fb');\n",
              "          const dataTable =\n",
              "            await google.colab.kernel.invokeFunction('convertToInteractive',\n",
              "                                                     [key], {});\n",
              "          if (!dataTable) return;\n",
              "\n",
              "          const docLinkHtml = 'Like what you see? Visit the ' +\n",
              "            '<a target=\"_blank\" href=https://colab.research.google.com/notebooks/data_table.ipynb>data table notebook</a>'\n",
              "            + ' to learn more about interactive tables.';\n",
              "          element.innerHTML = '';\n",
              "          dataTable['output_type'] = 'display_data';\n",
              "          await google.colab.output.renderOutput(dataTable, element);\n",
              "          const docLink = document.createElement('div');\n",
              "          docLink.innerHTML = docLinkHtml;\n",
              "          element.appendChild(docLink);\n",
              "        }\n",
              "      </script>\n",
              "    </div>\n",
              "  </div>\n",
              "  "
            ]
          },
          "metadata": {},
          "execution_count": 374
        }
      ],
      "source": [
        "# The distribution of the categorical variables\n",
        "\n",
        "dirty.describe(include=['O'])"
      ]
    },
    {
      "cell_type": "code",
      "execution_count": 375,
      "metadata": {
        "colab": {
          "base_uri": "https://localhost:8080/",
          "height": 266
        },
        "id": "1q4ERKo3egrG",
        "outputId": "b3062e51-fb13-4ee3-b2ab-931e7c3db32b"
      },
      "outputs": [
        {
          "output_type": "display_data",
          "data": {
            "text/plain": [
              "<Figure size 432x288 with 1 Axes>"
            ],
            "image/png": "[encoded data removed]"
          },
          "metadata": {
            "needs_background": "light"
          }
        }
      ],
      "source": [
        "# Boxplot of all the variables\n",
        "\n",
        "import matplotlib.pyplot as plt\n",
        "%matplotlib inline\n",
        "\n",
        "bp = dirty.boxplot()"
      ]
    },
    {
      "cell_type": "markdown",
      "metadata": {
        "id": "uYIWzRTkRe82"
      },
      "source": [
        "## 1.1 Branch Code"
      ]
    },
    {
      "cell_type": "markdown",
      "metadata": {
        "id": "ElqUgEz5Newi"
      },
      "source": [
        "The first issue we can see is the branch_code, we notice that there a 5 unique codes whereas in the supplementary file branches.csv, there are only 3 codes. Hence there are 2 codes present that should not be there "
      ]
    },
    {
      "cell_type": "code",
      "execution_count": 376,
      "metadata": {
        "colab": {
          "base_uri": "https://localhost:8080/"
        },
        "id": "krQBGUTiO9uX",
        "outputId": "7ac379d2-69d9-47b5-a351-8d705803ee22"
      },
      "outputs": [
        {
          "output_type": "execute_result",
          "data": {
            "text/plain": [
              "array(['BK', 'NS', 'TP', 'tp', 'bk'], dtype=object)"
            ]
          },
          "metadata": {},
          "execution_count": 376
        }
      ],
      "source": [
        "# First we can look at all the unique values of branch_code in our dataset\n",
        "\n",
        "dirty['branch_code'].unique()"
      ]
    },
    {
      "cell_type": "code",
      "execution_count": 377,
      "metadata": {
        "colab": {
          "base_uri": "https://localhost:8080/"
        },
        "id": "_VdwN8uIPU4W",
        "outputId": "a7fb786c-943b-47fc-95ba-0793c7d58ca8"
      },
      "outputs": [
        {
          "output_type": "execute_result",
          "data": {
            "text/plain": [
              "NS    189\n",
              "BK    156\n",
              "TP    152\n",
              "bk      2\n",
              "tp      1\n",
              "Name: branch_code, dtype: int64"
            ]
          },
          "metadata": {},
          "execution_count": 377
        }
      ],
      "source": [
        "# Here we can look at their individual counts\n",
        "\n",
        "dirty.branch_code.value_counts()"
      ]
    },
    {
      "cell_type": "markdown",
      "metadata": {
        "id": "rZV_dG6RP9BJ"
      },
      "source": [
        "We can see that the issue is some of the codes being lowercase. Hence we can replace these with the proper codes"
      ]
    },
    {
      "cell_type": "code",
      "execution_count": 378,
      "metadata": {
        "id": "yL2_rDHnPeOs"
      },
      "outputs": [],
      "source": [
        "# Replace all the other forms of branch_code that aren't in the supplementary file into the desired format\n",
        "\n",
        "dirty['branch_code'].replace({'bk':'BK', 'tp':'TP'}, inplace=True)"
      ]
    },
    {
      "cell_type": "code",
      "execution_count": 379,
      "metadata": {
        "colab": {
          "base_uri": "https://localhost:8080/"
        },
        "id": "nszm13a4PvF1",
        "outputId": "10b029f1-0401-48f0-e33d-350ea09094d3"
      },
      "outputs": [
        {
          "output_type": "execute_result",
          "data": {
            "text/plain": [
              "NS    189\n",
              "BK    158\n",
              "TP    153\n",
              "Name: branch_code, dtype: int64"
            ]
          },
          "metadata": {},
          "execution_count": 379
        }
      ],
      "source": [
        "# Check the counts again\n",
        "\n",
        "dirty.branch_code.value_counts()"
      ]
    },
    {
      "cell_type": "markdown",
      "metadata": {
        "id": "45C9KBXVRief"
      },
      "source": [
        "## 1.2 Date"
      ]
    },
    {
      "cell_type": "markdown",
      "metadata": {
        "id": "1FRl9uZNR9wf"
      },
      "source": [
        "Now that we have fixed the branch code, we can no longer see any issues at the forefront just based on looking at some of the data. Thus, we can start looking at the each of the columns, we can look at columns from left to right and knowing that the order_id is error-free, date is the next column to look at.\n",
        "\n",
        "We know that date should be in the format of YYYY-MM-DD, thus we can check each of the instances to make sure this is the case and if not, we can change them"
      ]
    },
    {
      "cell_type": "code",
      "execution_count": 380,
      "metadata": {
        "id": "_rLjGnHFV4C1"
      },
      "outputs": [],
      "source": [
        "# Create a function that validates the date and if the date is not in the right format to print that date\n",
        "\n",
        "import datetime\n",
        "\n",
        "def validate(date_text):\n",
        "      try:\n",
        "          datetime.datetime.strptime(date_text, '%Y-%m-%d')\n",
        "      except ValueError:\n",
        "          print(date_text)"
      ]
    },
    {
      "cell_type": "markdown",
      "metadata": {
        "id": "SBONItyfXa4V"
      },
      "source": [
        "Run some test cases"
      ]
    },
    {
      "cell_type": "code",
      "execution_count": 381,
      "metadata": {
        "id": "8hWQpWwSV-9S"
      },
      "outputs": [],
      "source": [
        "validate('2003-12-23')"
      ]
    },
    {
      "cell_type": "code",
      "execution_count": 382,
      "metadata": {
        "colab": {
          "base_uri": "https://localhost:8080/"
        },
        "id": "EJ8lD4YEWAzB",
        "outputId": "15aec7d3-6ff2-46db-fee9-fa289a85249f"
      },
      "outputs": [
        {
          "output_type": "stream",
          "name": "stdout",
          "text": [
            "2003-12-32\n"
          ]
        }
      ],
      "source": [
        "validate('2003-12-32')"
      ]
    },
    {
      "cell_type": "code",
      "execution_count": 383,
      "metadata": {
        "colab": {
          "base_uri": "https://localhost:8080/"
        },
        "id": "o0R-ZQ5TWeuG",
        "outputId": "377603c7-c1cb-436b-8194-61637c111fd4"
      },
      "outputs": [
        {
          "output_type": "stream",
          "name": "stdout",
          "text": [
            "Thu Jul  8 00:00:00 2021\n",
            "2021-17-04\n",
            "2021-31-12\n",
            "Sun Dec 12 00:00:00 2021\n",
            "2021-Oct-12\n",
            "2021-19-12\n"
          ]
        }
      ],
      "source": [
        "# Apply the validation to each of the dates in the date column\n",
        "\n",
        "a = list(dirty['date'])\n",
        "\n",
        "for item in a:\n",
        "  validate(item)"
      ]
    },
    {
      "cell_type": "markdown",
      "metadata": {
        "id": "dW6YM3leXjZn"
      },
      "source": [
        "Now that we have all the dates that are in the wrong format, we can go ahead and change them to the correct format\n",
        "\n",
        "As we want to ensure these are changed for every scenario, we can use regular expressions to validate the dates or change them when necessary"
      ]
    },
    {
      "cell_type": "code",
      "execution_count": 384,
      "metadata": {
        "colab": {
          "base_uri": "https://localhost:8080/",
          "height": 197
        },
        "id": "AxNf_y-CXilj",
        "outputId": "eefa24f5-f91b-478d-d9bd-d38f7a249cc8"
      },
      "outputs": [
        {
          "output_type": "execute_result",
          "data": {
            "text/plain": [
              "     order_id                      date      time order_type branch_code  \\\n",
              "58  ORDZ04342  Thu Jul  8 00:00:00 2021  14:15:12      Lunch          NS   \n",
              "\n",
              "                                     order_items  order_price  customer_lat  \\\n",
              "58  [('Steak', 8), ('Fries', 3), ('Chicken', 3)]        492.0    -37.813338   \n",
              "\n",
              "    customer_lon  customerHasloyalty?  distance_to_customer_KM  delivery_fee  \n",
              "58    144.938684                    0                   10.238     16.146339  "
            ],
            "text/html": [
              "\n",
              "  <div id=\"df-659afe21-dd0b-479a-9a50-f27a44e20f81\">\n",
              "    <div class=\"colab-df-container\">\n",
              "      <div>\n",
              "<style scoped>\n",
              "    .dataframe tbody tr th:only-of-type {\n",
              "        vertical-align: middle;\n",
              "    }\n",
              "\n",
              "    .dataframe tbody tr th {\n",
              "        vertical-align: top;\n",
              "    }\n",
              "\n",
              "    .dataframe thead th {\n",
              "        text-align: right;\n",
              "    }\n",
              "</style>\n",
              "<table border=\"1\" class=\"dataframe\">\n",
              "  <thead>\n",
              "    <tr style=\"text-align: right;\">\n",
              "      <th></th>\n",
              "      <th>order_id</th>\n",
              "      <th>date</th>\n",
              "      <th>time</th>\n",
              "      <th>order_type</th>\n",
              "      <th>branch_code</th>\n",
              "      <th>order_items</th>\n",
              "      <th>order_price</th>\n",
              "      <th>customer_lat</th>\n",
              "      <th>customer_lon</th>\n",
              "      <th>customerHasloyalty?</th>\n",
              "      <th>distance_to_customer_KM</th>\n",
              "      <th>delivery_fee</th>\n",
              "    </tr>\n",
              "  </thead>\n",
              "  <tbody>\n",
              "    <tr>\n",
              "      <th>58</th>\n",
              "      <td>ORDZ04342</td>\n",
              "      <td>Thu Jul  8 00:00:00 2021</td>\n",
              "      <td>14:15:12</td>\n",
              "      <td>Lunch</td>\n",
              "      <td>NS</td>\n",
              "      <td>[('Steak', 8), ('Fries', 3), ('Chicken', 3)]</td>\n",
              "      <td>492.0</td>\n",
              "      <td>-37.813338</td>\n",
              "      <td>144.938684</td>\n",
              "      <td>0</td>\n",
              "      <td>10.238</td>\n",
              "      <td>16.146339</td>\n",
              "    </tr>\n",
              "  </tbody>\n",
              "</table>\n",
              "</div>\n",
              "      <button class=\"colab-df-convert\" onclick=\"convertToInteractive('df-659afe21-dd0b-479a-9a50-f27a44e20f81')\"\n",
              "              title=\"Convert this dataframe to an interactive table.\"\n",
              "              style=\"display:none;\">\n",
              "        \n",
              "  <svg xmlns=\"http://www.w3.org/2000/svg\" height=\"24px\"viewBox=\"0 0 24 24\"\n",
              "       width=\"24px\">\n",
              "    <path d=\"M0 0h24v24H0V0z\" fill=\"none\"/>\n",
              "    <path d=\"M18.56 5.44l.94 2.06.94-2.06 2.06-.94-2.06-.94-.94-2.06-.94 2.06-2.06.94zm-11 1L8.5 8.5l.94-2.06 2.06-.94-2.06-.94L8.5 2.5l-.94 2.06-2.06.94zm10 10l.94 2.06.94-2.06 2.06-.94-2.06-.94-.94-2.06-.94 2.06-2.06.94z\"/><path d=\"M17.41 7.96l-1.37-1.37c-.4-.4-.92-.59-1.43-.59-.52 0-1.04.2-1.43.59L10.3 9.45l-7.72 7.72c-.78.78-.78 2.05 0 2.83L4 21.41c.39.39.9.59 1.41.59.51 0 1.02-.2 1.41-.59l7.78-7.78 2.81-2.81c.8-.78.8-2.07 0-2.86zM5.41 20L4 18.59l7.72-7.72 1.47 1.35L5.41 20z\"/>\n",
              "  </svg>\n",
              "      </button>\n",
              "      \n",
              "  <style>\n",
              "    .colab-df-container {\n",
              "      display:flex;\n",
              "      flex-wrap:wrap;\n",
              "      gap: 12px;\n",
              "    }\n",
              "\n",
              "    .colab-df-convert {\n",
              "      background-color: #E8F0FE;\n",
              "      border: none;\n",
              "      border-radius: 50%;\n",
              "      cursor: pointer;\n",
              "      display: none;\n",
              "      fill: #1967D2;\n",
              "      height: 32px;\n",
              "      padding: 0 0 0 0;\n",
              "      width: 32px;\n",
              "    }\n",
              "\n",
              "    .colab-df-convert:hover {\n",
              "      background-color: #E2EBFA;\n",
              "      box-shadow: 0px 1px 2px rgba(60, 64, 67, 0.3), 0px 1px 3px 1px rgba(60, 64, 67, 0.15);\n",
              "      fill: #174EA6;\n",
              "    }\n",
              "\n",
              "    [theme=dark] .colab-df-convert {\n",
              "      background-color: #3B4455;\n",
              "      fill: #D2E3FC;\n",
              "    }\n",
              "\n",
              "    [theme=dark] .colab-df-convert:hover {\n",
              "      background-color: #434B5C;\n",
              "      box-shadow: 0px 1px 3px 1px rgba(0, 0, 0, 0.15);\n",
              "      filter: drop-shadow(0px 1px 2px rgba(0, 0, 0, 0.3));\n",
              "      fill: #FFFFFF;\n",
              "    }\n",
              "  </style>\n",
              "\n",
              "      <script>\n",
              "        const buttonEl =\n",
              "          document.querySelector('#df-659afe21-dd0b-479a-9a50-f27a44e20f81 button.colab-df-convert');\n",
              "        buttonEl.style.display =\n",
              "          google.colab.kernel.accessAllowed ? 'block' : 'none';\n",
              "\n",
              "        async function convertToInteractive(key) {\n",
              "          const element = document.querySelector('#df-659afe21-dd0b-479a-9a50-f27a44e20f81');\n",
              "          const dataTable =\n",
              "            await google.colab.kernel.invokeFunction('convertToInteractive',\n",
              "                                                     [key], {});\n",
              "          if (!dataTable) return;\n",
              "\n",
              "          const docLinkHtml = 'Like what you see? Visit the ' +\n",
              "            '<a target=\"_blank\" href=https://colab.research.google.com/notebooks/data_table.ipynb>data table notebook</a>'\n",
              "            + ' to learn more about interactive tables.';\n",
              "          element.innerHTML = '';\n",
              "          dataTable['output_type'] = 'display_data';\n",
              "          await google.colab.output.renderOutput(dataTable, element);\n",
              "          const docLink = document.createElement('div');\n",
              "          docLink.innerHTML = docLinkHtml;\n",
              "          element.appendChild(docLink);\n",
              "        }\n",
              "      </script>\n",
              "    </div>\n",
              "  </div>\n",
              "  "
            ]
          },
          "metadata": {},
          "execution_count": 384
        }
      ],
      "source": [
        "dirty.loc[dirty['date'] == 'Thu Jul  8 00:00:00 2021']"
      ]
    },
    {
      "cell_type": "code",
      "execution_count": 385,
      "metadata": {
        "id": "nY0wkPXxXwtb"
      },
      "outputs": [],
      "source": [
        "dirty.at[58,'date'] = '2021-07-08'"
      ]
    },
    {
      "cell_type": "code",
      "execution_count": 386,
      "metadata": {
        "colab": {
          "base_uri": "https://localhost:8080/",
          "height": 197
        },
        "id": "qR0SS7AtYOoz",
        "outputId": "f20d6524-7395-4bb6-e35c-174bf48ed38f"
      },
      "outputs": [
        {
          "output_type": "execute_result",
          "data": {
            "text/plain": [
              "      order_id                      date      time order_type branch_code  \\\n",
              "351  ORDJ05907  Sun Dec 12 00:00:00 2021  19:29:34     Dinner          TP   \n",
              "\n",
              "                           order_items  order_price  customer_lat  \\\n",
              "351  [('Pasta', 7), ('Fish&Chips', 2)]        262.5    -37.809486   \n",
              "\n",
              "     customer_lon  customerHasloyalty?  distance_to_customer_KM  delivery_fee  \n",
              "351    144.963764                    0                    8.666     14.265718  "
            ],
            "text/html": [
              "\n",
              "  <div id=\"df-ca58721f-c8c7-4bbd-af84-c8b070c9fe05\">\n",
              "    <div class=\"colab-df-container\">\n",
              "      <div>\n",
              "<style scoped>\n",
              "    .dataframe tbody tr th:only-of-type {\n",
              "        vertical-align: middle;\n",
              "    }\n",
              "\n",
              "    .dataframe tbody tr th {\n",
              "        vertical-align: top;\n",
              "    }\n",
              "\n",
              "    .dataframe thead th {\n",
              "        text-align: right;\n",
              "    }\n",
              "</style>\n",
              "<table border=\"1\" class=\"dataframe\">\n",
              "  <thead>\n",
              "    <tr style=\"text-align: right;\">\n",
              "      <th></th>\n",
              "      <th>order_id</th>\n",
              "      <th>date</th>\n",
              "      <th>time</th>\n",
              "      <th>order_type</th>\n",
              "      <th>branch_code</th>\n",
              "      <th>order_items</th>\n",
              "      <th>order_price</th>\n",
              "      <th>customer_lat</th>\n",
              "      <th>customer_lon</th>\n",
              "      <th>customerHasloyalty?</th>\n",
              "      <th>distance_to_customer_KM</th>\n",
              "      <th>delivery_fee</th>\n",
              "    </tr>\n",
              "  </thead>\n",
              "  <tbody>\n",
              "    <tr>\n",
              "      <th>351</th>\n",
              "      <td>ORDJ05907</td>\n",
              "      <td>Sun Dec 12 00:00:00 2021</td>\n",
              "      <td>19:29:34</td>\n",
              "      <td>Dinner</td>\n",
              "      <td>TP</td>\n",
              "      <td>[('Pasta', 7), ('Fish&amp;Chips', 2)]</td>\n",
              "      <td>262.5</td>\n",
              "      <td>-37.809486</td>\n",
              "      <td>144.963764</td>\n",
              "      <td>0</td>\n",
              "      <td>8.666</td>\n",
              "      <td>14.265718</td>\n",
              "    </tr>\n",
              "  </tbody>\n",
              "</table>\n",
              "</div>\n",
              "      <button class=\"colab-df-convert\" onclick=\"convertToInteractive('df-ca58721f-c8c7-4bbd-af84-c8b070c9fe05')\"\n",
              "              title=\"Convert this dataframe to an interactive table.\"\n",
              "              style=\"display:none;\">\n",
              "        \n",
              "  <svg xmlns=\"http://www.w3.org/2000/svg\" height=\"24px\"viewBox=\"0 0 24 24\"\n",
              "       width=\"24px\">\n",
              "    <path d=\"M0 0h24v24H0V0z\" fill=\"none\"/>\n",
              "    <path d=\"M18.56 5.44l.94 2.06.94-2.06 2.06-.94-2.06-.94-.94-2.06-.94 2.06-2.06.94zm-11 1L8.5 8.5l.94-2.06 2.06-.94-2.06-.94L8.5 2.5l-.94 2.06-2.06.94zm10 10l.94 2.06.94-2.06 2.06-.94-2.06-.94-.94-2.06-.94 2.06-2.06.94z\"/><path d=\"M17.41 7.96l-1.37-1.37c-.4-.4-.92-.59-1.43-.59-.52 0-1.04.2-1.43.59L10.3 9.45l-7.72 7.72c-.78.78-.78 2.05 0 2.83L4 21.41c.39.39.9.59 1.41.59.51 0 1.02-.2 1.41-.59l7.78-7.78 2.81-2.81c.8-.78.8-2.07 0-2.86zM5.41 20L4 18.59l7.72-7.72 1.47 1.35L5.41 20z\"/>\n",
              "  </svg>\n",
              "      </button>\n",
              "      \n",
              "  <style>\n",
              "    .colab-df-container {\n",
              "      display:flex;\n",
              "      flex-wrap:wrap;\n",
              "      gap: 12px;\n",
              "    }\n",
              "\n",
              "    .colab-df-convert {\n",
              "      background-color: #E8F0FE;\n",
              "      border: none;\n",
              "      border-radius: 50%;\n",
              "      cursor: pointer;\n",
              "      display: none;\n",
              "      fill: #1967D2;\n",
              "      height: 32px;\n",
              "      padding: 0 0 0 0;\n",
              "      width: 32px;\n",
              "    }\n",
              "\n",
              "    .colab-df-convert:hover {\n",
              "      background-color: #E2EBFA;\n",
              "      box-shadow: 0px 1px 2px rgba(60, 64, 67, 0.3), 0px 1px 3px 1px rgba(60, 64, 67, 0.15);\n",
              "      fill: #174EA6;\n",
              "    }\n",
              "\n",
              "    [theme=dark] .colab-df-convert {\n",
              "      background-color: #3B4455;\n",
              "      fill: #D2E3FC;\n",
              "    }\n",
              "\n",
              "    [theme=dark] .colab-df-convert:hover {\n",
              "      background-color: #434B5C;\n",
              "      box-shadow: 0px 1px 3px 1px rgba(0, 0, 0, 0.15);\n",
              "      filter: drop-shadow(0px 1px 2px rgba(0, 0, 0, 0.3));\n",
              "      fill: #FFFFFF;\n",
              "    }\n",
              "  </style>\n",
              "\n",
              "      <script>\n",
              "        const buttonEl =\n",
              "          document.querySelector('#df-ca58721f-c8c7-4bbd-af84-c8b070c9fe05 button.colab-df-convert');\n",
              "        buttonEl.style.display =\n",
              "          google.colab.kernel.accessAllowed ? 'block' : 'none';\n",
              "\n",
              "        async function convertToInteractive(key) {\n",
              "          const element = document.querySelector('#df-ca58721f-c8c7-4bbd-af84-c8b070c9fe05');\n",
              "          const dataTable =\n",
              "            await google.colab.kernel.invokeFunction('convertToInteractive',\n",
              "                                                     [key], {});\n",
              "          if (!dataTable) return;\n",
              "\n",
              "          const docLinkHtml = 'Like what you see? Visit the ' +\n",
              "            '<a target=\"_blank\" href=https://colab.research.google.com/notebooks/data_table.ipynb>data table notebook</a>'\n",
              "            + ' to learn more about interactive tables.';\n",
              "          element.innerHTML = '';\n",
              "          dataTable['output_type'] = 'display_data';\n",
              "          await google.colab.output.renderOutput(dataTable, element);\n",
              "          const docLink = document.createElement('div');\n",
              "          docLink.innerHTML = docLinkHtml;\n",
              "          element.appendChild(docLink);\n",
              "        }\n",
              "      </script>\n",
              "    </div>\n",
              "  </div>\n",
              "  "
            ]
          },
          "metadata": {},
          "execution_count": 386
        }
      ],
      "source": [
        "dirty.loc[dirty['date'] ==  'Sun Dec 12 00:00:00 2021']"
      ]
    },
    {
      "cell_type": "code",
      "source": [
        "dirty.at[351,'date'] = '2021-12-12'"
      ],
      "metadata": {
        "id": "JdgixG3GxwgT"
      },
      "execution_count": 387,
      "outputs": []
    },
    {
      "cell_type": "markdown",
      "source": [
        "Now we want to change the rest, we can see that we have one month with the Oct, thus we can change this in case any month occurs as a name and not a number. Then we can check if the month is larger than 12, if it is we can switch it with the day "
      ],
      "metadata": {
        "id": "MWI18DI3XDl9"
      }
    },
    {
      "cell_type": "code",
      "source": [
        "dirty"
      ],
      "metadata": {
        "colab": {
          "base_uri": "https://localhost:8080/",
          "height": 887
        },
        "id": "y7ro7vB5xfMk",
        "outputId": "b40a314e-9090-4855-cdb7-861f30797c7e"
      },
      "execution_count": 388,
      "outputs": [
        {
          "output_type": "execute_result",
          "data": {
            "text/plain": [
              "      order_id        date      time order_type branch_code  \\\n",
              "0    ORDA07117  2021-09-09  16:16:54     Dinner          BK   \n",
              "1    ORDZ07064  2021-01-19  08:30:25  Breakfast          NS   \n",
              "2    ORDJ10873  2021-04-16  11:22:49  Breakfast          TP   \n",
              "3    ORDB00540  2021-04-17  11:32:57  Breakfast          TP   \n",
              "4    ORDC02969  2021-10-08  17:17:44     Dinner          NS   \n",
              "..         ...         ...       ...        ...         ...   \n",
              "495  ORDA02834  2021-07-11  14:15:12      Lunch          BK   \n",
              "496  ORDA01721  2021-11-23  18:49:00     Dinner          BK   \n",
              "497  ORDX05750  2021-06-04  13:04:13      Lunch          BK   \n",
              "498  ORDX10826  2021-07-18  14:35:29      Lunch          BK   \n",
              "499  ORDJ09303  2021-04-05  11:02:32  Breakfast          TP   \n",
              "\n",
              "                                           order_items  order_price  \\\n",
              "0    [('Fish&Chips', 3), ('Salmon', 10), ('Shrimp',...      1001.00   \n",
              "1                        [('Cereal', 10), ('Eggs', 9)]       389.00   \n",
              "2         [('Eggs', 3), ('Pancake', 3), ('Cereal', 9)]       309.75   \n",
              "3                         [('Coffee', 3), ('Eggs', 7)]       163.50   \n",
              "4     [('Salmon', 5), ('Pasta', 3), ('Fish&Chips', 5)]       462.50   \n",
              "..                                                 ...          ...   \n",
              "495  [('Burger', 9), ('Chicken', 10), ('Fries', 7),...       820.60   \n",
              "496                     [('Shrimp', 5), ('Salmon', 1)]       311.00   \n",
              "497  [('Salad', 7), ('Steak', 7), ('Fries', 9), ('B...       734.40   \n",
              "498  [('Chicken', 8), ('Salad', 4), ('Burger', 10),...       979.80   \n",
              "499  [('Pancake', 9), ('Coffee', 5), ('Cereal', 7),...       388.75   \n",
              "\n",
              "     customer_lat  customer_lon  customerHasloyalty?  distance_to_customer_KM  \\\n",
              "0      -37.822204    144.975708                    0                    7.446   \n",
              "1      -37.799833    144.939835                    1                    8.944   \n",
              "2      -37.824397    144.988546                    0                    9.196   \n",
              "3      -37.815964    144.972272                    0                    8.202   \n",
              "4      -37.804378    144.993297                    0                    8.551   \n",
              "..            ...           ...                  ...                      ...   \n",
              "495    -37.802059    144.957004                    0                    8.209   \n",
              "496    -37.821000    144.976720                    0                    7.254   \n",
              "497    -37.817088    144.932764                    0                   10.563   \n",
              "498    -37.817893    145.008265                    0                    4.025   \n",
              "499    -37.801975    145.011237                    0                   12.577   \n",
              "\n",
              "     delivery_fee  \n",
              "0       14.696441  \n",
              "1       14.147243  \n",
              "2       11.626007  \n",
              "3       12.283309  \n",
              "4       14.187069  \n",
              "..            ...  \n",
              "495     16.538886  \n",
              "496     13.529690  \n",
              "497     16.105944  \n",
              "498     11.981232  \n",
              "499     14.867167  \n",
              "\n",
              "[500 rows x 12 columns]"
            ],
            "text/html": [
              "\n",
              "  <div id=\"df-3e119474-e56b-4ff3-85d9-5d71b151b63d\">\n",
              "    <div class=\"colab-df-container\">\n",
              "      <div>\n",
              "<style scoped>\n",
              "    .dataframe tbody tr th:only-of-type {\n",
              "        vertical-align: middle;\n",
              "    }\n",
              "\n",
              "    .dataframe tbody tr th {\n",
              "        vertical-align: top;\n",
              "    }\n",
              "\n",
              "    .dataframe thead th {\n",
              "        text-align: right;\n",
              "    }\n",
              "</style>\n",
              "<table border=\"1\" class=\"dataframe\">\n",
              "  <thead>\n",
              "    <tr style=\"text-align: right;\">\n",
              "      <th></th>\n",
              "      <th>order_id</th>\n",
              "      <th>date</th>\n",
              "      <th>time</th>\n",
              "      <th>order_type</th>\n",
              "      <th>branch_code</th>\n",
              "      <th>order_items</th>\n",
              "      <th>order_price</th>\n",
              "      <th>customer_lat</th>\n",
              "      <th>customer_lon</th>\n",
              "      <th>customerHasloyalty?</th>\n",
              "      <th>distance_to_customer_KM</th>\n",
              "      <th>delivery_fee</th>\n",
              "    </tr>\n",
              "  </thead>\n",
              "  <tbody>\n",
              "    <tr>\n",
              "      <th>0</th>\n",
              "      <td>ORDA07117</td>\n",
              "      <td>2021-09-09</td>\n",
              "      <td>16:16:54</td>\n",
              "      <td>Dinner</td>\n",
              "      <td>BK</td>\n",
              "      <td>[('Fish&amp;Chips', 3), ('Salmon', 10), ('Shrimp',...</td>\n",
              "      <td>1001.00</td>\n",
              "      <td>-37.822204</td>\n",
              "      <td>144.975708</td>\n",
              "      <td>0</td>\n",
              "      <td>7.446</td>\n",
              "      <td>14.696441</td>\n",
              "    </tr>\n",
              "    <tr>\n",
              "      <th>1</th>\n",
              "      <td>ORDZ07064</td>\n",
              "      <td>2021-01-19</td>\n",
              "      <td>08:30:25</td>\n",
              "      <td>Breakfast</td>\n",
              "      <td>NS</td>\n",
              "      <td>[('Cereal', 10), ('Eggs', 9)]</td>\n",
              "      <td>389.00</td>\n",
              "      <td>-37.799833</td>\n",
              "      <td>144.939835</td>\n",
              "      <td>1</td>\n",
              "      <td>8.944</td>\n",
              "      <td>14.147243</td>\n",
              "    </tr>\n",
              "    <tr>\n",
              "      <th>2</th>\n",
              "      <td>ORDJ10873</td>\n",
              "      <td>2021-04-16</td>\n",
              "      <td>11:22:49</td>\n",
              "      <td>Breakfast</td>\n",
              "      <td>TP</td>\n",
              "      <td>[('Eggs', 3), ('Pancake', 3), ('Cereal', 9)]</td>\n",
              "      <td>309.75</td>\n",
              "      <td>-37.824397</td>\n",
              "      <td>144.988546</td>\n",
              "      <td>0</td>\n",
              "      <td>9.196</td>\n",
              "      <td>11.626007</td>\n",
              "    </tr>\n",
              "    <tr>\n",
              "      <th>3</th>\n",
              "      <td>ORDB00540</td>\n",
              "      <td>2021-04-17</td>\n",
              "      <td>11:32:57</td>\n",
              "      <td>Breakfast</td>\n",
              "      <td>TP</td>\n",
              "      <td>[('Coffee', 3), ('Eggs', 7)]</td>\n",
              "      <td>163.50</td>\n",
              "      <td>-37.815964</td>\n",
              "      <td>144.972272</td>\n",
              "      <td>0</td>\n",
              "      <td>8.202</td>\n",
              "      <td>12.283309</td>\n",
              "    </tr>\n",
              "    <tr>\n",
              "      <th>4</th>\n",
              "      <td>ORDC02969</td>\n",
              "      <td>2021-10-08</td>\n",
              "      <td>17:17:44</td>\n",
              "      <td>Dinner</td>\n",
              "      <td>NS</td>\n",
              "      <td>[('Salmon', 5), ('Pasta', 3), ('Fish&amp;Chips', 5)]</td>\n",
              "      <td>462.50</td>\n",
              "      <td>-37.804378</td>\n",
              "      <td>144.993297</td>\n",
              "      <td>0</td>\n",
              "      <td>8.551</td>\n",
              "      <td>14.187069</td>\n",
              "    </tr>\n",
              "    <tr>\n",
              "      <th>...</th>\n",
              "      <td>...</td>\n",
              "      <td>...</td>\n",
              "      <td>...</td>\n",
              "      <td>...</td>\n",
              "      <td>...</td>\n",
              "      <td>...</td>\n",
              "      <td>...</td>\n",
              "      <td>...</td>\n",
              "      <td>...</td>\n",
              "      <td>...</td>\n",
              "      <td>...</td>\n",
              "      <td>...</td>\n",
              "    </tr>\n",
              "    <tr>\n",
              "      <th>495</th>\n",
              "      <td>ORDA02834</td>\n",
              "      <td>2021-07-11</td>\n",
              "      <td>14:15:12</td>\n",
              "      <td>Lunch</td>\n",
              "      <td>BK</td>\n",
              "      <td>[('Burger', 9), ('Chicken', 10), ('Fries', 7),...</td>\n",
              "      <td>820.60</td>\n",
              "      <td>-37.802059</td>\n",
              "      <td>144.957004</td>\n",
              "      <td>0</td>\n",
              "      <td>8.209</td>\n",
              "      <td>16.538886</td>\n",
              "    </tr>\n",
              "    <tr>\n",
              "      <th>496</th>\n",
              "      <td>ORDA01721</td>\n",
              "      <td>2021-11-23</td>\n",
              "      <td>18:49:00</td>\n",
              "      <td>Dinner</td>\n",
              "      <td>BK</td>\n",
              "      <td>[('Shrimp', 5), ('Salmon', 1)]</td>\n",
              "      <td>311.00</td>\n",
              "      <td>-37.821000</td>\n",
              "      <td>144.976720</td>\n",
              "      <td>0</td>\n",
              "      <td>7.254</td>\n",
              "      <td>13.529690</td>\n",
              "    </tr>\n",
              "    <tr>\n",
              "      <th>497</th>\n",
              "      <td>ORDX05750</td>\n",
              "      <td>2021-06-04</td>\n",
              "      <td>13:04:13</td>\n",
              "      <td>Lunch</td>\n",
              "      <td>BK</td>\n",
              "      <td>[('Salad', 7), ('Steak', 7), ('Fries', 9), ('B...</td>\n",
              "      <td>734.40</td>\n",
              "      <td>-37.817088</td>\n",
              "      <td>144.932764</td>\n",
              "      <td>0</td>\n",
              "      <td>10.563</td>\n",
              "      <td>16.105944</td>\n",
              "    </tr>\n",
              "    <tr>\n",
              "      <th>498</th>\n",
              "      <td>ORDX10826</td>\n",
              "      <td>2021-07-18</td>\n",
              "      <td>14:35:29</td>\n",
              "      <td>Lunch</td>\n",
              "      <td>BK</td>\n",
              "      <td>[('Chicken', 8), ('Salad', 4), ('Burger', 10),...</td>\n",
              "      <td>979.80</td>\n",
              "      <td>-37.817893</td>\n",
              "      <td>145.008265</td>\n",
              "      <td>0</td>\n",
              "      <td>4.025</td>\n",
              "      <td>11.981232</td>\n",
              "    </tr>\n",
              "    <tr>\n",
              "      <th>499</th>\n",
              "      <td>ORDJ09303</td>\n",
              "      <td>2021-04-05</td>\n",
              "      <td>11:02:32</td>\n",
              "      <td>Breakfast</td>\n",
              "      <td>TP</td>\n",
              "      <td>[('Pancake', 9), ('Coffee', 5), ('Cereal', 7),...</td>\n",
              "      <td>388.75</td>\n",
              "      <td>-37.801975</td>\n",
              "      <td>145.011237</td>\n",
              "      <td>0</td>\n",
              "      <td>12.577</td>\n",
              "      <td>14.867167</td>\n",
              "    </tr>\n",
              "  </tbody>\n",
              "</table>\n",
              "<p>500 rows × 12 columns</p>\n",
              "</div>\n",
              "      <button class=\"colab-df-convert\" onclick=\"convertToInteractive('df-3e119474-e56b-4ff3-85d9-5d71b151b63d')\"\n",
              "              title=\"Convert this dataframe to an interactive table.\"\n",
              "              style=\"display:none;\">\n",
              "        \n",
              "  <svg xmlns=\"http://www.w3.org/2000/svg\" height=\"24px\"viewBox=\"0 0 24 24\"\n",
              "       width=\"24px\">\n",
              "    <path d=\"M0 0h24v24H0V0z\" fill=\"none\"/>\n",
              "    <path d=\"M18.56 5.44l.94 2.06.94-2.06 2.06-.94-2.06-.94-.94-2.06-.94 2.06-2.06.94zm-11 1L8.5 8.5l.94-2.06 2.06-.94-2.06-.94L8.5 2.5l-.94 2.06-2.06.94zm10 10l.94 2.06.94-2.06 2.06-.94-2.06-.94-.94-2.06-.94 2.06-2.06.94z\"/><path d=\"M17.41 7.96l-1.37-1.37c-.4-.4-.92-.59-1.43-.59-.52 0-1.04.2-1.43.59L10.3 9.45l-7.72 7.72c-.78.78-.78 2.05 0 2.83L4 21.41c.39.39.9.59 1.41.59.51 0 1.02-.2 1.41-.59l7.78-7.78 2.81-2.81c.8-.78.8-2.07 0-2.86zM5.41 20L4 18.59l7.72-7.72 1.47 1.35L5.41 20z\"/>\n",
              "  </svg>\n",
              "      </button>\n",
              "      \n",
              "  <style>\n",
              "    .colab-df-container {\n",
              "      display:flex;\n",
              "      flex-wrap:wrap;\n",
              "      gap: 12px;\n",
              "    }\n",
              "\n",
              "    .colab-df-convert {\n",
              "      background-color: #E8F0FE;\n",
              "      border: none;\n",
              "      border-radius: 50%;\n",
              "      cursor: pointer;\n",
              "      display: none;\n",
              "      fill: #1967D2;\n",
              "      height: 32px;\n",
              "      padding: 0 0 0 0;\n",
              "      width: 32px;\n",
              "    }\n",
              "\n",
              "    .colab-df-convert:hover {\n",
              "      background-color: #E2EBFA;\n",
              "      box-shadow: 0px 1px 2px rgba(60, 64, 67, 0.3), 0px 1px 3px 1px rgba(60, 64, 67, 0.15);\n",
              "      fill: #174EA6;\n",
              "    }\n",
              "\n",
              "    [theme=dark] .colab-df-convert {\n",
              "      background-color: #3B4455;\n",
              "      fill: #D2E3FC;\n",
              "    }\n",
              "\n",
              "    [theme=dark] .colab-df-convert:hover {\n",
              "      background-color: #434B5C;\n",
              "      box-shadow: 0px 1px 3px 1px rgba(0, 0, 0, 0.15);\n",
              "      filter: drop-shadow(0px 1px 2px rgba(0, 0, 0, 0.3));\n",
              "      fill: #FFFFFF;\n",
              "    }\n",
              "  </style>\n",
              "\n",
              "      <script>\n",
              "        const buttonEl =\n",
              "          document.querySelector('#df-3e119474-e56b-4ff3-85d9-5d71b151b63d button.colab-df-convert');\n",
              "        buttonEl.style.display =\n",
              "          google.colab.kernel.accessAllowed ? 'block' : 'none';\n",
              "\n",
              "        async function convertToInteractive(key) {\n",
              "          const element = document.querySelector('#df-3e119474-e56b-4ff3-85d9-5d71b151b63d');\n",
              "          const dataTable =\n",
              "            await google.colab.kernel.invokeFunction('convertToInteractive',\n",
              "                                                     [key], {});\n",
              "          if (!dataTable) return;\n",
              "\n",
              "          const docLinkHtml = 'Like what you see? Visit the ' +\n",
              "            '<a target=\"_blank\" href=https://colab.research.google.com/notebooks/data_table.ipynb>data table notebook</a>'\n",
              "            + ' to learn more about interactive tables.';\n",
              "          element.innerHTML = '';\n",
              "          dataTable['output_type'] = 'display_data';\n",
              "          await google.colab.output.renderOutput(dataTable, element);\n",
              "          const docLink = document.createElement('div');\n",
              "          docLink.innerHTML = docLinkHtml;\n",
              "          element.appendChild(docLink);\n",
              "        }\n",
              "      </script>\n",
              "    </div>\n",
              "  </div>\n",
              "  "
            ]
          },
          "metadata": {},
          "execution_count": 388
        }
      ]
    },
    {
      "cell_type": "code",
      "source": [
        "# extracting year, month and date columns by pandas Series and spliting the date value\n",
        "split_date = dirty['date'].apply(lambda s: pd.Series({'year': (s.split('-')[0].strip()),\n",
        "                            'month': (s.split('-')[1].strip()), 'day': (s.split('-')[2].strip())}))"
      ],
      "metadata": {
        "id": "9waCIWaaWrHj"
      },
      "execution_count": 389,
      "outputs": []
    },
    {
      "cell_type": "code",
      "source": [
        "#concating new columns with original dataframe\n",
        "dirty = pd.concat([dirty, split_date], axis=1) \n",
        "dirty.head()"
      ],
      "metadata": {
        "colab": {
          "base_uri": "https://localhost:8080/",
          "height": 444
        },
        "id": "O9rj4r65xV9w",
        "outputId": "ee4d249d-aa71-43e1-afe8-836d7d8d9bcd"
      },
      "execution_count": 390,
      "outputs": [
        {
          "output_type": "execute_result",
          "data": {
            "text/plain": [
              "    order_id        date      time order_type branch_code  \\\n",
              "0  ORDA07117  2021-09-09  16:16:54     Dinner          BK   \n",
              "1  ORDZ07064  2021-01-19  08:30:25  Breakfast          NS   \n",
              "2  ORDJ10873  2021-04-16  11:22:49  Breakfast          TP   \n",
              "3  ORDB00540  2021-04-17  11:32:57  Breakfast          TP   \n",
              "4  ORDC02969  2021-10-08  17:17:44     Dinner          NS   \n",
              "\n",
              "                                         order_items  order_price  \\\n",
              "0  [('Fish&Chips', 3), ('Salmon', 10), ('Shrimp',...      1001.00   \n",
              "1                      [('Cereal', 10), ('Eggs', 9)]       389.00   \n",
              "2       [('Eggs', 3), ('Pancake', 3), ('Cereal', 9)]       309.75   \n",
              "3                       [('Coffee', 3), ('Eggs', 7)]       163.50   \n",
              "4   [('Salmon', 5), ('Pasta', 3), ('Fish&Chips', 5)]       462.50   \n",
              "\n",
              "   customer_lat  customer_lon  customerHasloyalty?  distance_to_customer_KM  \\\n",
              "0    -37.822204    144.975708                    0                    7.446   \n",
              "1    -37.799833    144.939835                    1                    8.944   \n",
              "2    -37.824397    144.988546                    0                    9.196   \n",
              "3    -37.815964    144.972272                    0                    8.202   \n",
              "4    -37.804378    144.993297                    0                    8.551   \n",
              "\n",
              "   delivery_fee  year month day  \n",
              "0     14.696441  2021    09  09  \n",
              "1     14.147243  2021    01  19  \n",
              "2     11.626007  2021    04  16  \n",
              "3     12.283309  2021    04  17  \n",
              "4     14.187069  2021    10  08  "
            ],
            "text/html": [
              "\n",
              "  <div id=\"df-cf6b408e-873a-41b6-a926-08be2a94b60d\">\n",
              "    <div class=\"colab-df-container\">\n",
              "      <div>\n",
              "<style scoped>\n",
              "    .dataframe tbody tr th:only-of-type {\n",
              "        vertical-align: middle;\n",
              "    }\n",
              "\n",
              "    .dataframe tbody tr th {\n",
              "        vertical-align: top;\n",
              "    }\n",
              "\n",
              "    .dataframe thead th {\n",
              "        text-align: right;\n",
              "    }\n",
              "</style>\n",
              "<table border=\"1\" class=\"dataframe\">\n",
              "  <thead>\n",
              "    <tr style=\"text-align: right;\">\n",
              "      <th></th>\n",
              "      <th>order_id</th>\n",
              "      <th>date</th>\n",
              "      <th>time</th>\n",
              "      <th>order_type</th>\n",
              "      <th>branch_code</th>\n",
              "      <th>order_items</th>\n",
              "      <th>order_price</th>\n",
              "      <th>customer_lat</th>\n",
              "      <th>customer_lon</th>\n",
              "      <th>customerHasloyalty?</th>\n",
              "      <th>distance_to_customer_KM</th>\n",
              "      <th>delivery_fee</th>\n",
              "      <th>year</th>\n",
              "      <th>month</th>\n",
              "      <th>day</th>\n",
              "    </tr>\n",
              "  </thead>\n",
              "  <tbody>\n",
              "    <tr>\n",
              "      <th>0</th>\n",
              "      <td>ORDA07117</td>\n",
              "      <td>2021-09-09</td>\n",
              "      <td>16:16:54</td>\n",
              "      <td>Dinner</td>\n",
              "      <td>BK</td>\n",
              "      <td>[('Fish&amp;Chips', 3), ('Salmon', 10), ('Shrimp',...</td>\n",
              "      <td>1001.00</td>\n",
              "      <td>-37.822204</td>\n",
              "      <td>144.975708</td>\n",
              "      <td>0</td>\n",
              "      <td>7.446</td>\n",
              "      <td>14.696441</td>\n",
              "      <td>2021</td>\n",
              "      <td>09</td>\n",
              "      <td>09</td>\n",
              "    </tr>\n",
              "    <tr>\n",
              "      <th>1</th>\n",
              "      <td>ORDZ07064</td>\n",
              "      <td>2021-01-19</td>\n",
              "      <td>08:30:25</td>\n",
              "      <td>Breakfast</td>\n",
              "      <td>NS</td>\n",
              "      <td>[('Cereal', 10), ('Eggs', 9)]</td>\n",
              "      <td>389.00</td>\n",
              "      <td>-37.799833</td>\n",
              "      <td>144.939835</td>\n",
              "      <td>1</td>\n",
              "      <td>8.944</td>\n",
              "      <td>14.147243</td>\n",
              "      <td>2021</td>\n",
              "      <td>01</td>\n",
              "      <td>19</td>\n",
              "    </tr>\n",
              "    <tr>\n",
              "      <th>2</th>\n",
              "      <td>ORDJ10873</td>\n",
              "      <td>2021-04-16</td>\n",
              "      <td>11:22:49</td>\n",
              "      <td>Breakfast</td>\n",
              "      <td>TP</td>\n",
              "      <td>[('Eggs', 3), ('Pancake', 3), ('Cereal', 9)]</td>\n",
              "      <td>309.75</td>\n",
              "      <td>-37.824397</td>\n",
              "      <td>144.988546</td>\n",
              "      <td>0</td>\n",
              "      <td>9.196</td>\n",
              "      <td>11.626007</td>\n",
              "      <td>2021</td>\n",
              "      <td>04</td>\n",
              "      <td>16</td>\n",
              "    </tr>\n",
              "    <tr>\n",
              "      <th>3</th>\n",
              "      <td>ORDB00540</td>\n",
              "      <td>2021-04-17</td>\n",
              "      <td>11:32:57</td>\n",
              "      <td>Breakfast</td>\n",
              "      <td>TP</td>\n",
              "      <td>[('Coffee', 3), ('Eggs', 7)]</td>\n",
              "      <td>163.50</td>\n",
              "      <td>-37.815964</td>\n",
              "      <td>144.972272</td>\n",
              "      <td>0</td>\n",
              "      <td>8.202</td>\n",
              "      <td>12.283309</td>\n",
              "      <td>2021</td>\n",
              "      <td>04</td>\n",
              "      <td>17</td>\n",
              "    </tr>\n",
              "    <tr>\n",
              "      <th>4</th>\n",
              "      <td>ORDC02969</td>\n",
              "      <td>2021-10-08</td>\n",
              "      <td>17:17:44</td>\n",
              "      <td>Dinner</td>\n",
              "      <td>NS</td>\n",
              "      <td>[('Salmon', 5), ('Pasta', 3), ('Fish&amp;Chips', 5)]</td>\n",
              "      <td>462.50</td>\n",
              "      <td>-37.804378</td>\n",
              "      <td>144.993297</td>\n",
              "      <td>0</td>\n",
              "      <td>8.551</td>\n",
              "      <td>14.187069</td>\n",
              "      <td>2021</td>\n",
              "      <td>10</td>\n",
              "      <td>08</td>\n",
              "    </tr>\n",
              "  </tbody>\n",
              "</table>\n",
              "</div>\n",
              "      <button class=\"colab-df-convert\" onclick=\"convertToInteractive('df-cf6b408e-873a-41b6-a926-08be2a94b60d')\"\n",
              "              title=\"Convert this dataframe to an interactive table.\"\n",
              "              style=\"display:none;\">\n",
              "        \n",
              "  <svg xmlns=\"http://www.w3.org/2000/svg\" height=\"24px\"viewBox=\"0 0 24 24\"\n",
              "       width=\"24px\">\n",
              "    <path d=\"M0 0h24v24H0V0z\" fill=\"none\"/>\n",
              "    <path d=\"M18.56 5.44l.94 2.06.94-2.06 2.06-.94-2.06-.94-.94-2.06-.94 2.06-2.06.94zm-11 1L8.5 8.5l.94-2.06 2.06-.94-2.06-.94L8.5 2.5l-.94 2.06-2.06.94zm10 10l.94 2.06.94-2.06 2.06-.94-2.06-.94-.94-2.06-.94 2.06-2.06.94z\"/><path d=\"M17.41 7.96l-1.37-1.37c-.4-.4-.92-.59-1.43-.59-.52 0-1.04.2-1.43.59L10.3 9.45l-7.72 7.72c-.78.78-.78 2.05 0 2.83L4 21.41c.39.39.9.59 1.41.59.51 0 1.02-.2 1.41-.59l7.78-7.78 2.81-2.81c.8-.78.8-2.07 0-2.86zM5.41 20L4 18.59l7.72-7.72 1.47 1.35L5.41 20z\"/>\n",
              "  </svg>\n",
              "      </button>\n",
              "      \n",
              "  <style>\n",
              "    .colab-df-container {\n",
              "      display:flex;\n",
              "      flex-wrap:wrap;\n",
              "      gap: 12px;\n",
              "    }\n",
              "\n",
              "    .colab-df-convert {\n",
              "      background-color: #E8F0FE;\n",
              "      border: none;\n",
              "      border-radius: 50%;\n",
              "      cursor: pointer;\n",
              "      display: none;\n",
              "      fill: #1967D2;\n",
              "      height: 32px;\n",
              "      padding: 0 0 0 0;\n",
              "      width: 32px;\n",
              "    }\n",
              "\n",
              "    .colab-df-convert:hover {\n",
              "      background-color: #E2EBFA;\n",
              "      box-shadow: 0px 1px 2px rgba(60, 64, 67, 0.3), 0px 1px 3px 1px rgba(60, 64, 67, 0.15);\n",
              "      fill: #174EA6;\n",
              "    }\n",
              "\n",
              "    [theme=dark] .colab-df-convert {\n",
              "      background-color: #3B4455;\n",
              "      fill: #D2E3FC;\n",
              "    }\n",
              "\n",
              "    [theme=dark] .colab-df-convert:hover {\n",
              "      background-color: #434B5C;\n",
              "      box-shadow: 0px 1px 3px 1px rgba(0, 0, 0, 0.15);\n",
              "      filter: drop-shadow(0px 1px 2px rgba(0, 0, 0, 0.3));\n",
              "      fill: #FFFFFF;\n",
              "    }\n",
              "  </style>\n",
              "\n",
              "      <script>\n",
              "        const buttonEl =\n",
              "          document.querySelector('#df-cf6b408e-873a-41b6-a926-08be2a94b60d button.colab-df-convert');\n",
              "        buttonEl.style.display =\n",
              "          google.colab.kernel.accessAllowed ? 'block' : 'none';\n",
              "\n",
              "        async function convertToInteractive(key) {\n",
              "          const element = document.querySelector('#df-cf6b408e-873a-41b6-a926-08be2a94b60d');\n",
              "          const dataTable =\n",
              "            await google.colab.kernel.invokeFunction('convertToInteractive',\n",
              "                                                     [key], {});\n",
              "          if (!dataTable) return;\n",
              "\n",
              "          const docLinkHtml = 'Like what you see? Visit the ' +\n",
              "            '<a target=\"_blank\" href=https://colab.research.google.com/notebooks/data_table.ipynb>data table notebook</a>'\n",
              "            + ' to learn more about interactive tables.';\n",
              "          element.innerHTML = '';\n",
              "          dataTable['output_type'] = 'display_data';\n",
              "          await google.colab.output.renderOutput(dataTable, element);\n",
              "          const docLink = document.createElement('div');\n",
              "          docLink.innerHTML = docLinkHtml;\n",
              "          element.appendChild(docLink);\n",
              "        }\n",
              "      </script>\n",
              "    </div>\n",
              "  </div>\n",
              "  "
            ]
          },
          "metadata": {},
          "execution_count": 390
        }
      ]
    },
    {
      "cell_type": "code",
      "source": [
        "def fix_date(date):\n",
        "    # split the date values by \"-\"\n",
        "    year, month, day = date.split('-')\n",
        "   \n",
        "    # if the month is not a literal, change to a literal\n",
        "    if month == 'Jan':\n",
        "      month = 1\n",
        "    elif month == 'Feb':\n",
        "      month = 2\n",
        "    elif month == 'Mar':\n",
        "      month = 3\n",
        "    elif month == 'Apr':\n",
        "      month = 4\n",
        "    elif month == 'May':\n",
        "      month = 5\n",
        "    elif month == 'Jun':\n",
        "      month = 6\n",
        "    elif month == 'Jul':\n",
        "      month = 7\n",
        "    elif month == 'Aug':\n",
        "      month = 8\n",
        "    elif month == 'Sep':\n",
        "      month = 9\n",
        "    elif month == 'Oct':\n",
        "      month = 10\n",
        "    elif month == 'Nov':\n",
        "      month = 11\n",
        "    elif month == 'Dec':\n",
        "      month = 12\n",
        "    \n",
        "    # if the month is greater than 12, swap it with the day\n",
        "    elif int(month) > 12:\n",
        "      day, month = month, day\n",
        "\n",
        "    \n",
        "    #formulating correct date format\n",
        "    date_correct = f'{year}-{month}-{day}'\n",
        "            \n",
        "    return date_correct"
      ],
      "metadata": {
        "id": "rooC3fM6aPtE"
      },
      "execution_count": 391,
      "outputs": []
    },
    {
      "cell_type": "code",
      "source": [
        "#apply the function into original dataset\n",
        "dirty['date'] = dirty['date'].apply(lambda x: fix_date(x))"
      ],
      "metadata": {
        "id": "ORja00ONaRzU"
      },
      "execution_count": 392,
      "outputs": []
    },
    {
      "cell_type": "code",
      "source": [
        "# Apply the validation again to see if any dates are still wrong\n",
        "\n",
        "a = list(dirty['date'])\n",
        "\n",
        "for item in a:\n",
        "  validate(item)"
      ],
      "metadata": {
        "id": "0wM1NZMEbbTP"
      },
      "execution_count": 393,
      "outputs": []
    },
    {
      "cell_type": "code",
      "source": [
        "dirty = dirty.drop(['year', 'month', 'day'], axis = 1)"
      ],
      "metadata": {
        "id": "zzSsdfaobyPd"
      },
      "execution_count": 394,
      "outputs": []
    },
    {
      "cell_type": "markdown",
      "metadata": {
        "id": "RScYbDabZOhm"
      },
      "source": [
        "## 1.3 Order Type"
      ]
    },
    {
      "cell_type": "markdown",
      "metadata": {
        "id": "o4-HNWMWZW3k"
      },
      "source": [
        "Next we can move on to order_type, order_type is an attribute representing the type of order, namely: Breakfast, Lunch or Dinner. \n",
        "\n",
        "We already know from the unique values that there are exactly 3 unique values which was to be expected, so we don't have to remove or replace any incorrect spellings or anything like that. However, we can pair order_type with time, knowing that the time column is error-free, we can check the time and order_type together and see if they match. We know that breakfast is served between 8am-12pm, lunch between 12:00:01pm-4pm and dinner between 4:00:01pm-8pm. Thus, we can check these and change the order_type if it doesn't match what it should be comparable to the time"
      ]
    },
    {
      "cell_type": "code",
      "execution_count": 395,
      "metadata": {
        "colab": {
          "base_uri": "https://localhost:8080/"
        },
        "id": "66g0bwINZWil",
        "outputId": "8491761f-2e30-49b9-fed7-d453d415d582"
      },
      "outputs": [
        {
          "output_type": "execute_result",
          "data": {
            "text/plain": [
              "Breakfast    176\n",
              "Dinner       165\n",
              "Lunch        159\n",
              "Name: order_type, dtype: int64"
            ]
          },
          "metadata": {},
          "execution_count": 395
        }
      ],
      "source": [
        "# Check the order_type counts \n",
        "\n",
        "dirty.order_type.value_counts()"
      ]
    },
    {
      "cell_type": "code",
      "execution_count": 396,
      "metadata": {
        "id": "O7_b7QOT0NSJ"
      },
      "outputs": [],
      "source": [
        "import numpy as np"
      ]
    },
    {
      "cell_type": "code",
      "execution_count": 397,
      "metadata": {
        "id": "lVET00xm1qK5"
      },
      "outputs": [],
      "source": [
        "# Create a new column based on the conditions and values\n",
        "\n",
        "conditions = [\n",
        "    (dirty['time'] >= '08:00:00') & (dirty['time'] <= '12:00:00'),\n",
        "    (dirty['time'] >= '12:00:01') & (dirty['time'] <= '16:00:00'),\n",
        "    (dirty['time'] >= '16:00:01') & (dirty['time'] <= '20:00:00')\n",
        "]\n",
        "\n",
        "values = ['Breakfast', 'Lunch', 'Dinner']\n",
        "\n",
        "dirty['order_type'] = np.select(conditions, values)"
      ]
    },
    {
      "cell_type": "code",
      "execution_count": 398,
      "metadata": {
        "colab": {
          "base_uri": "https://localhost:8080/"
        },
        "id": "aohjeVdh2lLu",
        "outputId": "3fbd28d4-762e-48e8-8174-63930b95f183"
      },
      "outputs": [
        {
          "output_type": "execute_result",
          "data": {
            "text/plain": [
              "Breakfast    178\n",
              "Dinner       165\n",
              "Lunch        157\n",
              "Name: order_type, dtype: int64"
            ]
          },
          "metadata": {},
          "execution_count": 398
        }
      ],
      "source": [
        "dirty.order_type.value_counts()"
      ]
    },
    {
      "cell_type": "markdown",
      "metadata": {
        "id": "0eOX0Uhf29_L"
      },
      "source": [
        "We can see that 2 order_types that were previously lunch are now breakfast"
      ]
    },
    {
      "cell_type": "markdown",
      "metadata": {
        "id": "z8tTI3Up_C3l"
      },
      "source": [
        "## 1.4 Longitude and Latitude"
      ]
    },
    {
      "cell_type": "markdown",
      "metadata": {
        "id": "FAU5Bj7m_GUO"
      },
      "source": [
        "Having another look at the longitude and latitude, it looks as though some of the longitudes and latitudes have been swapped around, this we can check the nodes.csv (the supplementary document) and change any rows necessary \n"
      ]
    },
    {
      "cell_type": "code",
      "execution_count": 399,
      "metadata": {
        "colab": {
          "base_uri": "https://localhost:8080/",
          "height": 206
        },
        "id": "R6cFqQLw_nE3",
        "outputId": "d6ef077b-c6d4-413c-cbcd-7c0f298410af"
      },
      "outputs": [
        {
          "output_type": "execute_result",
          "data": {
            "text/plain": [
              "        node        lat         lon\n",
              "0  711327755 -37.807675  144.955873\n",
              "1  711327756 -37.807094  144.955978\n",
              "2  711327759 -37.807301  144.957817\n",
              "3  711327760 -37.807885  144.957719\n",
              "4  777781264 -37.805221  144.952173"
            ],
            "text/html": [
              "\n",
              "  <div id=\"df-cda7a5f3-53af-48e1-a732-dc9fef2c7bbc\">\n",
              "    <div class=\"colab-df-container\">\n",
              "      <div>\n",
              "<style scoped>\n",
              "    .dataframe tbody tr th:only-of-type {\n",
              "        vertical-align: middle;\n",
              "    }\n",
              "\n",
              "    .dataframe tbody tr th {\n",
              "        vertical-align: top;\n",
              "    }\n",
              "\n",
              "    .dataframe thead th {\n",
              "        text-align: right;\n",
              "    }\n",
              "</style>\n",
              "<table border=\"1\" class=\"dataframe\">\n",
              "  <thead>\n",
              "    <tr style=\"text-align: right;\">\n",
              "      <th></th>\n",
              "      <th>node</th>\n",
              "      <th>lat</th>\n",
              "      <th>lon</th>\n",
              "    </tr>\n",
              "  </thead>\n",
              "  <tbody>\n",
              "    <tr>\n",
              "      <th>0</th>\n",
              "      <td>711327755</td>\n",
              "      <td>-37.807675</td>\n",
              "      <td>144.955873</td>\n",
              "    </tr>\n",
              "    <tr>\n",
              "      <th>1</th>\n",
              "      <td>711327756</td>\n",
              "      <td>-37.807094</td>\n",
              "      <td>144.955978</td>\n",
              "    </tr>\n",
              "    <tr>\n",
              "      <th>2</th>\n",
              "      <td>711327759</td>\n",
              "      <td>-37.807301</td>\n",
              "      <td>144.957817</td>\n",
              "    </tr>\n",
              "    <tr>\n",
              "      <th>3</th>\n",
              "      <td>711327760</td>\n",
              "      <td>-37.807885</td>\n",
              "      <td>144.957719</td>\n",
              "    </tr>\n",
              "    <tr>\n",
              "      <th>4</th>\n",
              "      <td>777781264</td>\n",
              "      <td>-37.805221</td>\n",
              "      <td>144.952173</td>\n",
              "    </tr>\n",
              "  </tbody>\n",
              "</table>\n",
              "</div>\n",
              "      <button class=\"colab-df-convert\" onclick=\"convertToInteractive('df-cda7a5f3-53af-48e1-a732-dc9fef2c7bbc')\"\n",
              "              title=\"Convert this dataframe to an interactive table.\"\n",
              "              style=\"display:none;\">\n",
              "        \n",
              "  <svg xmlns=\"http://www.w3.org/2000/svg\" height=\"24px\"viewBox=\"0 0 24 24\"\n",
              "       width=\"24px\">\n",
              "    <path d=\"M0 0h24v24H0V0z\" fill=\"none\"/>\n",
              "    <path d=\"M18.56 5.44l.94 2.06.94-2.06 2.06-.94-2.06-.94-.94-2.06-.94 2.06-2.06.94zm-11 1L8.5 8.5l.94-2.06 2.06-.94-2.06-.94L8.5 2.5l-.94 2.06-2.06.94zm10 10l.94 2.06.94-2.06 2.06-.94-2.06-.94-.94-2.06-.94 2.06-2.06.94z\"/><path d=\"M17.41 7.96l-1.37-1.37c-.4-.4-.92-.59-1.43-.59-.52 0-1.04.2-1.43.59L10.3 9.45l-7.72 7.72c-.78.78-.78 2.05 0 2.83L4 21.41c.39.39.9.59 1.41.59.51 0 1.02-.2 1.41-.59l7.78-7.78 2.81-2.81c.8-.78.8-2.07 0-2.86zM5.41 20L4 18.59l7.72-7.72 1.47 1.35L5.41 20z\"/>\n",
              "  </svg>\n",
              "      </button>\n",
              "      \n",
              "  <style>\n",
              "    .colab-df-container {\n",
              "      display:flex;\n",
              "      flex-wrap:wrap;\n",
              "      gap: 12px;\n",
              "    }\n",
              "\n",
              "    .colab-df-convert {\n",
              "      background-color: #E8F0FE;\n",
              "      border: none;\n",
              "      border-radius: 50%;\n",
              "      cursor: pointer;\n",
              "      display: none;\n",
              "      fill: #1967D2;\n",
              "      height: 32px;\n",
              "      padding: 0 0 0 0;\n",
              "      width: 32px;\n",
              "    }\n",
              "\n",
              "    .colab-df-convert:hover {\n",
              "      background-color: #E2EBFA;\n",
              "      box-shadow: 0px 1px 2px rgba(60, 64, 67, 0.3), 0px 1px 3px 1px rgba(60, 64, 67, 0.15);\n",
              "      fill: #174EA6;\n",
              "    }\n",
              "\n",
              "    [theme=dark] .colab-df-convert {\n",
              "      background-color: #3B4455;\n",
              "      fill: #D2E3FC;\n",
              "    }\n",
              "\n",
              "    [theme=dark] .colab-df-convert:hover {\n",
              "      background-color: #434B5C;\n",
              "      box-shadow: 0px 1px 3px 1px rgba(0, 0, 0, 0.15);\n",
              "      filter: drop-shadow(0px 1px 2px rgba(0, 0, 0, 0.3));\n",
              "      fill: #FFFFFF;\n",
              "    }\n",
              "  </style>\n",
              "\n",
              "      <script>\n",
              "        const buttonEl =\n",
              "          document.querySelector('#df-cda7a5f3-53af-48e1-a732-dc9fef2c7bbc button.colab-df-convert');\n",
              "        buttonEl.style.display =\n",
              "          google.colab.kernel.accessAllowed ? 'block' : 'none';\n",
              "\n",
              "        async function convertToInteractive(key) {\n",
              "          const element = document.querySelector('#df-cda7a5f3-53af-48e1-a732-dc9fef2c7bbc');\n",
              "          const dataTable =\n",
              "            await google.colab.kernel.invokeFunction('convertToInteractive',\n",
              "                                                     [key], {});\n",
              "          if (!dataTable) return;\n",
              "\n",
              "          const docLinkHtml = 'Like what you see? Visit the ' +\n",
              "            '<a target=\"_blank\" href=https://colab.research.google.com/notebooks/data_table.ipynb>data table notebook</a>'\n",
              "            + ' to learn more about interactive tables.';\n",
              "          element.innerHTML = '';\n",
              "          dataTable['output_type'] = 'display_data';\n",
              "          await google.colab.output.renderOutput(dataTable, element);\n",
              "          const docLink = document.createElement('div');\n",
              "          docLink.innerHTML = docLinkHtml;\n",
              "          element.appendChild(docLink);\n",
              "        }\n",
              "      </script>\n",
              "    </div>\n",
              "  </div>\n",
              "  "
            ]
          },
          "metadata": {},
          "execution_count": 399
        }
      ],
      "source": [
        "# Get the nodes files from the shared drive\n",
        "nodes = pd.read_csv(\"/content/drive/Shareddrives/FIT5196-s2-2022/A2/supplementary_files/nodes.csv\")\n",
        "nodes.head()"
      ]
    },
    {
      "cell_type": "markdown",
      "metadata": {
        "id": "MeIyBKPoAoBb"
      },
      "source": [
        "Take a look at the values in the nodes.csv and see if our dataframe values match these"
      ]
    },
    {
      "cell_type": "code",
      "execution_count": 400,
      "metadata": {
        "colab": {
          "base_uri": "https://localhost:8080/"
        },
        "id": "yavMPvBJAO5G",
        "outputId": "c8f5a920-9f77-402b-ccad-c2dc38c1f570"
      },
      "outputs": [
        {
          "output_type": "stream",
          "name": "stdout",
          "text": [
            "Latititude max: -37.7396359\n",
            "Latititude min: -38.1109156\n",
            "Longitute max: 145.04645\n",
            "Longitute min: 144.6541725\n"
          ]
        }
      ],
      "source": [
        "# get the max and min values of latitude and longitude columns using min() and max()\n",
        "lat_max = nodes['lat'].max()\n",
        "lat_min = nodes['lat'].min()\n",
        "\n",
        "lon_max = nodes['lon'].max()\n",
        "lon_min = nodes['lon'].min()\n",
        "\n",
        "print('Latititude max:', lat_max)\n",
        "print('Latititude min:', lat_min)\n",
        "print('Longitute max:', lon_max)\n",
        "print('Longitute min:', lon_min)"
      ]
    },
    {
      "cell_type": "markdown",
      "metadata": {
        "id": "KdWH84DdBLVM"
      },
      "source": [
        "We can check all the values outside these ranges in our dataset"
      ]
    },
    {
      "cell_type": "code",
      "execution_count": 401,
      "metadata": {
        "id": "whIn302gAuPz"
      },
      "outputs": [],
      "source": [
        "# check lat\n",
        "dirty_lat = dirty[(dirty['customer_lat'] > lat_max) | (dirty['customer_lat'] < lat_min)]\n",
        "\n",
        "# check lon\n",
        "dirty_lon = dirty[(dirty['customer_lon'] > lon_max) | (dirty['customer_lon'] < lon_min)]"
      ]
    },
    {
      "cell_type": "code",
      "execution_count": 402,
      "metadata": {
        "colab": {
          "base_uri": "https://localhost:8080/",
          "height": 795
        },
        "id": "mbkqldcYBHzV",
        "outputId": "d76b3e89-060b-4248-c305-12f89d3be73c"
      },
      "outputs": [
        {
          "output_type": "stream",
          "name": "stdout",
          "text": [
            "(9, 12)\n"
          ]
        },
        {
          "output_type": "execute_result",
          "data": {
            "text/plain": [
              "      order_id        date      time order_type branch_code  \\\n",
              "54   ORDZ00531  2021-04-06  11:02:32  Breakfast          NS   \n",
              "113  ORDK03468  2021-03-01  09:51:32  Breakfast          BK   \n",
              "146  ORDJ02286  2021-09-20  16:37:10     Dinner          TP   \n",
              "240  ORDJ00459  2021-10-23  17:48:10     Dinner          TP   \n",
              "268  ORDZ05019  2021-03-08  10:11:49  Breakfast          NS   \n",
              "398  ORDC08087  2021-12-26  19:49:51     Dinner          NS   \n",
              "429  ORDX04104  2021-02-21  09:41:24  Breakfast          BK   \n",
              "433  ORDI08314  2021-12-12  19:29:34     Dinner          NS   \n",
              "440  ORDX11010  2021-11-06  18:08:27     Dinner          BK   \n",
              "\n",
              "                                           order_items  order_price  \\\n",
              "54   [('Pancake', 3), ('Cereal', 9), ('Eggs', 9), (...       457.75   \n",
              "113                      [('Pancake', 4), ('Eggs', 9)]       278.00   \n",
              "146                 [('Salmon', 7), ('Fish&Chips', 8)]       567.00   \n",
              "240  [('Fish&Chips', 8), ('Shrimp', 8), ('Pasta', 5...      1095.50   \n",
              "268  [('Pancake', 2), ('Coffee', 9), ('Eggs', 7), (...       341.00   \n",
              "398  [('Shrimp', 1), ('Fish&Chips', 7), ('Salmon', ...       656.00   \n",
              "429                     [('Cereal', 7), ('Coffee', 8)]       184.00   \n",
              "433  [('Pasta', 5), ('Fish&Chips', 10), ('Salmon', 6)]       733.50   \n",
              "440  [('Shrimp', 8), ('Fish&Chips', 2), ('Salmon', 2)]       584.00   \n",
              "\n",
              "     customer_lat  customer_lon  customerHasloyalty?  distance_to_customer_KM  \\\n",
              "54     144.989877    -37.815324                    0                    9.125   \n",
              "113     37.813244    145.015362                    0                    5.432   \n",
              "146     37.806476    144.932217                    0                   11.000   \n",
              "240    145.009942    -37.816164                    0                   11.747   \n",
              "268     37.820198    145.000540                    0                   10.352   \n",
              "398    144.932813    -37.814383                    0                    9.103   \n",
              "429    145.010615    -37.799136                    0                    5.051   \n",
              "433     37.808289    144.968739                    0                    6.969   \n",
              "440    144.952643    -37.817430                    0                    8.755   \n",
              "\n",
              "     delivery_fee  \n",
              "54      14.340727  \n",
              "113      9.565580  \n",
              "146     14.588976  \n",
              "240     17.082845  \n",
              "268     15.840609  \n",
              "398     16.993275  \n",
              "429     12.394329  \n",
              "433     15.055874  \n",
              "440     18.007520  "
            ],
            "text/html": [
              "\n",
              "  <div id=\"df-1812f44b-b949-4208-9648-04c4d5820d8c\">\n",
              "    <div class=\"colab-df-container\">\n",
              "      <div>\n",
              "<style scoped>\n",
              "    .dataframe tbody tr th:only-of-type {\n",
              "        vertical-align: middle;\n",
              "    }\n",
              "\n",
              "    .dataframe tbody tr th {\n",
              "        vertical-align: top;\n",
              "    }\n",
              "\n",
              "    .dataframe thead th {\n",
              "        text-align: right;\n",
              "    }\n",
              "</style>\n",
              "<table border=\"1\" class=\"dataframe\">\n",
              "  <thead>\n",
              "    <tr style=\"text-align: right;\">\n",
              "      <th></th>\n",
              "      <th>order_id</th>\n",
              "      <th>date</th>\n",
              "      <th>time</th>\n",
              "      <th>order_type</th>\n",
              "      <th>branch_code</th>\n",
              "      <th>order_items</th>\n",
              "      <th>order_price</th>\n",
              "      <th>customer_lat</th>\n",
              "      <th>customer_lon</th>\n",
              "      <th>customerHasloyalty?</th>\n",
              "      <th>distance_to_customer_KM</th>\n",
              "      <th>delivery_fee</th>\n",
              "    </tr>\n",
              "  </thead>\n",
              "  <tbody>\n",
              "    <tr>\n",
              "      <th>54</th>\n",
              "      <td>ORDZ00531</td>\n",
              "      <td>2021-04-06</td>\n",
              "      <td>11:02:32</td>\n",
              "      <td>Breakfast</td>\n",
              "      <td>NS</td>\n",
              "      <td>[('Pancake', 3), ('Cereal', 9), ('Eggs', 9), (...</td>\n",
              "      <td>457.75</td>\n",
              "      <td>144.989877</td>\n",
              "      <td>-37.815324</td>\n",
              "      <td>0</td>\n",
              "      <td>9.125</td>\n",
              "      <td>14.340727</td>\n",
              "    </tr>\n",
              "    <tr>\n",
              "      <th>113</th>\n",
              "      <td>ORDK03468</td>\n",
              "      <td>2021-03-01</td>\n",
              "      <td>09:51:32</td>\n",
              "      <td>Breakfast</td>\n",
              "      <td>BK</td>\n",
              "      <td>[('Pancake', 4), ('Eggs', 9)]</td>\n",
              "      <td>278.00</td>\n",
              "      <td>37.813244</td>\n",
              "      <td>145.015362</td>\n",
              "      <td>0</td>\n",
              "      <td>5.432</td>\n",
              "      <td>9.565580</td>\n",
              "    </tr>\n",
              "    <tr>\n",
              "      <th>146</th>\n",
              "      <td>ORDJ02286</td>\n",
              "      <td>2021-09-20</td>\n",
              "      <td>16:37:10</td>\n",
              "      <td>Dinner</td>\n",
              "      <td>TP</td>\n",
              "      <td>[('Salmon', 7), ('Fish&amp;Chips', 8)]</td>\n",
              "      <td>567.00</td>\n",
              "      <td>37.806476</td>\n",
              "      <td>144.932217</td>\n",
              "      <td>0</td>\n",
              "      <td>11.000</td>\n",
              "      <td>14.588976</td>\n",
              "    </tr>\n",
              "    <tr>\n",
              "      <th>240</th>\n",
              "      <td>ORDJ00459</td>\n",
              "      <td>2021-10-23</td>\n",
              "      <td>17:48:10</td>\n",
              "      <td>Dinner</td>\n",
              "      <td>TP</td>\n",
              "      <td>[('Fish&amp;Chips', 8), ('Shrimp', 8), ('Pasta', 5...</td>\n",
              "      <td>1095.50</td>\n",
              "      <td>145.009942</td>\n",
              "      <td>-37.816164</td>\n",
              "      <td>0</td>\n",
              "      <td>11.747</td>\n",
              "      <td>17.082845</td>\n",
              "    </tr>\n",
              "    <tr>\n",
              "      <th>268</th>\n",
              "      <td>ORDZ05019</td>\n",
              "      <td>2021-03-08</td>\n",
              "      <td>10:11:49</td>\n",
              "      <td>Breakfast</td>\n",
              "      <td>NS</td>\n",
              "      <td>[('Pancake', 2), ('Coffee', 9), ('Eggs', 7), (...</td>\n",
              "      <td>341.00</td>\n",
              "      <td>37.820198</td>\n",
              "      <td>145.000540</td>\n",
              "      <td>0</td>\n",
              "      <td>10.352</td>\n",
              "      <td>15.840609</td>\n",
              "    </tr>\n",
              "    <tr>\n",
              "      <th>398</th>\n",
              "      <td>ORDC08087</td>\n",
              "      <td>2021-12-26</td>\n",
              "      <td>19:49:51</td>\n",
              "      <td>Dinner</td>\n",
              "      <td>NS</td>\n",
              "      <td>[('Shrimp', 1), ('Fish&amp;Chips', 7), ('Salmon', ...</td>\n",
              "      <td>656.00</td>\n",
              "      <td>144.932813</td>\n",
              "      <td>-37.814383</td>\n",
              "      <td>0</td>\n",
              "      <td>9.103</td>\n",
              "      <td>16.993275</td>\n",
              "    </tr>\n",
              "    <tr>\n",
              "      <th>429</th>\n",
              "      <td>ORDX04104</td>\n",
              "      <td>2021-02-21</td>\n",
              "      <td>09:41:24</td>\n",
              "      <td>Breakfast</td>\n",
              "      <td>BK</td>\n",
              "      <td>[('Cereal', 7), ('Coffee', 8)]</td>\n",
              "      <td>184.00</td>\n",
              "      <td>145.010615</td>\n",
              "      <td>-37.799136</td>\n",
              "      <td>0</td>\n",
              "      <td>5.051</td>\n",
              "      <td>12.394329</td>\n",
              "    </tr>\n",
              "    <tr>\n",
              "      <th>433</th>\n",
              "      <td>ORDI08314</td>\n",
              "      <td>2021-12-12</td>\n",
              "      <td>19:29:34</td>\n",
              "      <td>Dinner</td>\n",
              "      <td>NS</td>\n",
              "      <td>[('Pasta', 5), ('Fish&amp;Chips', 10), ('Salmon', 6)]</td>\n",
              "      <td>733.50</td>\n",
              "      <td>37.808289</td>\n",
              "      <td>144.968739</td>\n",
              "      <td>0</td>\n",
              "      <td>6.969</td>\n",
              "      <td>15.055874</td>\n",
              "    </tr>\n",
              "    <tr>\n",
              "      <th>440</th>\n",
              "      <td>ORDX11010</td>\n",
              "      <td>2021-11-06</td>\n",
              "      <td>18:08:27</td>\n",
              "      <td>Dinner</td>\n",
              "      <td>BK</td>\n",
              "      <td>[('Shrimp', 8), ('Fish&amp;Chips', 2), ('Salmon', 2)]</td>\n",
              "      <td>584.00</td>\n",
              "      <td>144.952643</td>\n",
              "      <td>-37.817430</td>\n",
              "      <td>0</td>\n",
              "      <td>8.755</td>\n",
              "      <td>18.007520</td>\n",
              "    </tr>\n",
              "  </tbody>\n",
              "</table>\n",
              "</div>\n",
              "      <button class=\"colab-df-convert\" onclick=\"convertToInteractive('df-1812f44b-b949-4208-9648-04c4d5820d8c')\"\n",
              "              title=\"Convert this dataframe to an interactive table.\"\n",
              "              style=\"display:none;\">\n",
              "        \n",
              "  <svg xmlns=\"http://www.w3.org/2000/svg\" height=\"24px\"viewBox=\"0 0 24 24\"\n",
              "       width=\"24px\">\n",
              "    <path d=\"M0 0h24v24H0V0z\" fill=\"none\"/>\n",
              "    <path d=\"M18.56 5.44l.94 2.06.94-2.06 2.06-.94-2.06-.94-.94-2.06-.94 2.06-2.06.94zm-11 1L8.5 8.5l.94-2.06 2.06-.94-2.06-.94L8.5 2.5l-.94 2.06-2.06.94zm10 10l.94 2.06.94-2.06 2.06-.94-2.06-.94-.94-2.06-.94 2.06-2.06.94z\"/><path d=\"M17.41 7.96l-1.37-1.37c-.4-.4-.92-.59-1.43-.59-.52 0-1.04.2-1.43.59L10.3 9.45l-7.72 7.72c-.78.78-.78 2.05 0 2.83L4 21.41c.39.39.9.59 1.41.59.51 0 1.02-.2 1.41-.59l7.78-7.78 2.81-2.81c.8-.78.8-2.07 0-2.86zM5.41 20L4 18.59l7.72-7.72 1.47 1.35L5.41 20z\"/>\n",
              "  </svg>\n",
              "      </button>\n",
              "      \n",
              "  <style>\n",
              "    .colab-df-container {\n",
              "      display:flex;\n",
              "      flex-wrap:wrap;\n",
              "      gap: 12px;\n",
              "    }\n",
              "\n",
              "    .colab-df-convert {\n",
              "      background-color: #E8F0FE;\n",
              "      border: none;\n",
              "      border-radius: 50%;\n",
              "      cursor: pointer;\n",
              "      display: none;\n",
              "      fill: #1967D2;\n",
              "      height: 32px;\n",
              "      padding: 0 0 0 0;\n",
              "      width: 32px;\n",
              "    }\n",
              "\n",
              "    .colab-df-convert:hover {\n",
              "      background-color: #E2EBFA;\n",
              "      box-shadow: 0px 1px 2px rgba(60, 64, 67, 0.3), 0px 1px 3px 1px rgba(60, 64, 67, 0.15);\n",
              "      fill: #174EA6;\n",
              "    }\n",
              "\n",
              "    [theme=dark] .colab-df-convert {\n",
              "      background-color: #3B4455;\n",
              "      fill: #D2E3FC;\n",
              "    }\n",
              "\n",
              "    [theme=dark] .colab-df-convert:hover {\n",
              "      background-color: #434B5C;\n",
              "      box-shadow: 0px 1px 3px 1px rgba(0, 0, 0, 0.15);\n",
              "      filter: drop-shadow(0px 1px 2px rgba(0, 0, 0, 0.3));\n",
              "      fill: #FFFFFF;\n",
              "    }\n",
              "  </style>\n",
              "\n",
              "      <script>\n",
              "        const buttonEl =\n",
              "          document.querySelector('#df-1812f44b-b949-4208-9648-04c4d5820d8c button.colab-df-convert');\n",
              "        buttonEl.style.display =\n",
              "          google.colab.kernel.accessAllowed ? 'block' : 'none';\n",
              "\n",
              "        async function convertToInteractive(key) {\n",
              "          const element = document.querySelector('#df-1812f44b-b949-4208-9648-04c4d5820d8c');\n",
              "          const dataTable =\n",
              "            await google.colab.kernel.invokeFunction('convertToInteractive',\n",
              "                                                     [key], {});\n",
              "          if (!dataTable) return;\n",
              "\n",
              "          const docLinkHtml = 'Like what you see? Visit the ' +\n",
              "            '<a target=\"_blank\" href=https://colab.research.google.com/notebooks/data_table.ipynb>data table notebook</a>'\n",
              "            + ' to learn more about interactive tables.';\n",
              "          element.innerHTML = '';\n",
              "          dataTable['output_type'] = 'display_data';\n",
              "          await google.colab.output.renderOutput(dataTable, element);\n",
              "          const docLink = document.createElement('div');\n",
              "          docLink.innerHTML = docLinkHtml;\n",
              "          element.appendChild(docLink);\n",
              "        }\n",
              "      </script>\n",
              "    </div>\n",
              "  </div>\n",
              "  "
            ]
          },
          "metadata": {},
          "execution_count": 402
        }
      ],
      "source": [
        "# Show the shape of the incorrect latitudes\n",
        "print(dirty_lat.shape)\n",
        "dirty_lat.head(10)"
      ]
    },
    {
      "cell_type": "code",
      "execution_count": 403,
      "metadata": {
        "colab": {
          "base_uri": "https://localhost:8080/",
          "height": 513
        },
        "id": "U-ocn73cBfwX",
        "outputId": "407009b8-02fd-4719-9bf1-dfd5aec1acc7"
      },
      "outputs": [
        {
          "output_type": "stream",
          "name": "stdout",
          "text": [
            "(5, 12)\n"
          ]
        },
        {
          "output_type": "execute_result",
          "data": {
            "text/plain": [
              "      order_id        date      time order_type branch_code  \\\n",
              "54   ORDZ00531  2021-04-06  11:02:32  Breakfast          NS   \n",
              "240  ORDJ00459  2021-10-23  17:48:10     Dinner          TP   \n",
              "398  ORDC08087  2021-12-26  19:49:51     Dinner          NS   \n",
              "429  ORDX04104  2021-02-21  09:41:24  Breakfast          BK   \n",
              "440  ORDX11010  2021-11-06  18:08:27     Dinner          BK   \n",
              "\n",
              "                                           order_items  order_price  \\\n",
              "54   [('Pancake', 3), ('Cereal', 9), ('Eggs', 9), (...       457.75   \n",
              "240  [('Fish&Chips', 8), ('Shrimp', 8), ('Pasta', 5...      1095.50   \n",
              "398  [('Shrimp', 1), ('Fish&Chips', 7), ('Salmon', ...       656.00   \n",
              "429                     [('Cereal', 7), ('Coffee', 8)]       184.00   \n",
              "440  [('Shrimp', 8), ('Fish&Chips', 2), ('Salmon', 2)]       584.00   \n",
              "\n",
              "     customer_lat  customer_lon  customerHasloyalty?  distance_to_customer_KM  \\\n",
              "54     144.989877    -37.815324                    0                    9.125   \n",
              "240    145.009942    -37.816164                    0                   11.747   \n",
              "398    144.932813    -37.814383                    0                    9.103   \n",
              "429    145.010615    -37.799136                    0                    5.051   \n",
              "440    144.952643    -37.817430                    0                    8.755   \n",
              "\n",
              "     delivery_fee  \n",
              "54      14.340727  \n",
              "240     17.082845  \n",
              "398     16.993275  \n",
              "429     12.394329  \n",
              "440     18.007520  "
            ],
            "text/html": [
              "\n",
              "  <div id=\"df-77900313-af94-4918-afd5-45f554551cc0\">\n",
              "    <div class=\"colab-df-container\">\n",
              "      <div>\n",
              "<style scoped>\n",
              "    .dataframe tbody tr th:only-of-type {\n",
              "        vertical-align: middle;\n",
              "    }\n",
              "\n",
              "    .dataframe tbody tr th {\n",
              "        vertical-align: top;\n",
              "    }\n",
              "\n",
              "    .dataframe thead th {\n",
              "        text-align: right;\n",
              "    }\n",
              "</style>\n",
              "<table border=\"1\" class=\"dataframe\">\n",
              "  <thead>\n",
              "    <tr style=\"text-align: right;\">\n",
              "      <th></th>\n",
              "      <th>order_id</th>\n",
              "      <th>date</th>\n",
              "      <th>time</th>\n",
              "      <th>order_type</th>\n",
              "      <th>branch_code</th>\n",
              "      <th>order_items</th>\n",
              "      <th>order_price</th>\n",
              "      <th>customer_lat</th>\n",
              "      <th>customer_lon</th>\n",
              "      <th>customerHasloyalty?</th>\n",
              "      <th>distance_to_customer_KM</th>\n",
              "      <th>delivery_fee</th>\n",
              "    </tr>\n",
              "  </thead>\n",
              "  <tbody>\n",
              "    <tr>\n",
              "      <th>54</th>\n",
              "      <td>ORDZ00531</td>\n",
              "      <td>2021-04-06</td>\n",
              "      <td>11:02:32</td>\n",
              "      <td>Breakfast</td>\n",
              "      <td>NS</td>\n",
              "      <td>[('Pancake', 3), ('Cereal', 9), ('Eggs', 9), (...</td>\n",
              "      <td>457.75</td>\n",
              "      <td>144.989877</td>\n",
              "      <td>-37.815324</td>\n",
              "      <td>0</td>\n",
              "      <td>9.125</td>\n",
              "      <td>14.340727</td>\n",
              "    </tr>\n",
              "    <tr>\n",
              "      <th>240</th>\n",
              "      <td>ORDJ00459</td>\n",
              "      <td>2021-10-23</td>\n",
              "      <td>17:48:10</td>\n",
              "      <td>Dinner</td>\n",
              "      <td>TP</td>\n",
              "      <td>[('Fish&amp;Chips', 8), ('Shrimp', 8), ('Pasta', 5...</td>\n",
              "      <td>1095.50</td>\n",
              "      <td>145.009942</td>\n",
              "      <td>-37.816164</td>\n",
              "      <td>0</td>\n",
              "      <td>11.747</td>\n",
              "      <td>17.082845</td>\n",
              "    </tr>\n",
              "    <tr>\n",
              "      <th>398</th>\n",
              "      <td>ORDC08087</td>\n",
              "      <td>2021-12-26</td>\n",
              "      <td>19:49:51</td>\n",
              "      <td>Dinner</td>\n",
              "      <td>NS</td>\n",
              "      <td>[('Shrimp', 1), ('Fish&amp;Chips', 7), ('Salmon', ...</td>\n",
              "      <td>656.00</td>\n",
              "      <td>144.932813</td>\n",
              "      <td>-37.814383</td>\n",
              "      <td>0</td>\n",
              "      <td>9.103</td>\n",
              "      <td>16.993275</td>\n",
              "    </tr>\n",
              "    <tr>\n",
              "      <th>429</th>\n",
              "      <td>ORDX04104</td>\n",
              "      <td>2021-02-21</td>\n",
              "      <td>09:41:24</td>\n",
              "      <td>Breakfast</td>\n",
              "      <td>BK</td>\n",
              "      <td>[('Cereal', 7), ('Coffee', 8)]</td>\n",
              "      <td>184.00</td>\n",
              "      <td>145.010615</td>\n",
              "      <td>-37.799136</td>\n",
              "      <td>0</td>\n",
              "      <td>5.051</td>\n",
              "      <td>12.394329</td>\n",
              "    </tr>\n",
              "    <tr>\n",
              "      <th>440</th>\n",
              "      <td>ORDX11010</td>\n",
              "      <td>2021-11-06</td>\n",
              "      <td>18:08:27</td>\n",
              "      <td>Dinner</td>\n",
              "      <td>BK</td>\n",
              "      <td>[('Shrimp', 8), ('Fish&amp;Chips', 2), ('Salmon', 2)]</td>\n",
              "      <td>584.00</td>\n",
              "      <td>144.952643</td>\n",
              "      <td>-37.817430</td>\n",
              "      <td>0</td>\n",
              "      <td>8.755</td>\n",
              "      <td>18.007520</td>\n",
              "    </tr>\n",
              "  </tbody>\n",
              "</table>\n",
              "</div>\n",
              "      <button class=\"colab-df-convert\" onclick=\"convertToInteractive('df-77900313-af94-4918-afd5-45f554551cc0')\"\n",
              "              title=\"Convert this dataframe to an interactive table.\"\n",
              "              style=\"display:none;\">\n",
              "        \n",
              "  <svg xmlns=\"http://www.w3.org/2000/svg\" height=\"24px\"viewBox=\"0 0 24 24\"\n",
              "       width=\"24px\">\n",
              "    <path d=\"M0 0h24v24H0V0z\" fill=\"none\"/>\n",
              "    <path d=\"M18.56 5.44l.94 2.06.94-2.06 2.06-.94-2.06-.94-.94-2.06-.94 2.06-2.06.94zm-11 1L8.5 8.5l.94-2.06 2.06-.94-2.06-.94L8.5 2.5l-.94 2.06-2.06.94zm10 10l.94 2.06.94-2.06 2.06-.94-2.06-.94-.94-2.06-.94 2.06-2.06.94z\"/><path d=\"M17.41 7.96l-1.37-1.37c-.4-.4-.92-.59-1.43-.59-.52 0-1.04.2-1.43.59L10.3 9.45l-7.72 7.72c-.78.78-.78 2.05 0 2.83L4 21.41c.39.39.9.59 1.41.59.51 0 1.02-.2 1.41-.59l7.78-7.78 2.81-2.81c.8-.78.8-2.07 0-2.86zM5.41 20L4 18.59l7.72-7.72 1.47 1.35L5.41 20z\"/>\n",
              "  </svg>\n",
              "      </button>\n",
              "      \n",
              "  <style>\n",
              "    .colab-df-container {\n",
              "      display:flex;\n",
              "      flex-wrap:wrap;\n",
              "      gap: 12px;\n",
              "    }\n",
              "\n",
              "    .colab-df-convert {\n",
              "      background-color: #E8F0FE;\n",
              "      border: none;\n",
              "      border-radius: 50%;\n",
              "      cursor: pointer;\n",
              "      display: none;\n",
              "      fill: #1967D2;\n",
              "      height: 32px;\n",
              "      padding: 0 0 0 0;\n",
              "      width: 32px;\n",
              "    }\n",
              "\n",
              "    .colab-df-convert:hover {\n",
              "      background-color: #E2EBFA;\n",
              "      box-shadow: 0px 1px 2px rgba(60, 64, 67, 0.3), 0px 1px 3px 1px rgba(60, 64, 67, 0.15);\n",
              "      fill: #174EA6;\n",
              "    }\n",
              "\n",
              "    [theme=dark] .colab-df-convert {\n",
              "      background-color: #3B4455;\n",
              "      fill: #D2E3FC;\n",
              "    }\n",
              "\n",
              "    [theme=dark] .colab-df-convert:hover {\n",
              "      background-color: #434B5C;\n",
              "      box-shadow: 0px 1px 3px 1px rgba(0, 0, 0, 0.15);\n",
              "      filter: drop-shadow(0px 1px 2px rgba(0, 0, 0, 0.3));\n",
              "      fill: #FFFFFF;\n",
              "    }\n",
              "  </style>\n",
              "\n",
              "      <script>\n",
              "        const buttonEl =\n",
              "          document.querySelector('#df-77900313-af94-4918-afd5-45f554551cc0 button.colab-df-convert');\n",
              "        buttonEl.style.display =\n",
              "          google.colab.kernel.accessAllowed ? 'block' : 'none';\n",
              "\n",
              "        async function convertToInteractive(key) {\n",
              "          const element = document.querySelector('#df-77900313-af94-4918-afd5-45f554551cc0');\n",
              "          const dataTable =\n",
              "            await google.colab.kernel.invokeFunction('convertToInteractive',\n",
              "                                                     [key], {});\n",
              "          if (!dataTable) return;\n",
              "\n",
              "          const docLinkHtml = 'Like what you see? Visit the ' +\n",
              "            '<a target=\"_blank\" href=https://colab.research.google.com/notebooks/data_table.ipynb>data table notebook</a>'\n",
              "            + ' to learn more about interactive tables.';\n",
              "          element.innerHTML = '';\n",
              "          dataTable['output_type'] = 'display_data';\n",
              "          await google.colab.output.renderOutput(dataTable, element);\n",
              "          const docLink = document.createElement('div');\n",
              "          docLink.innerHTML = docLinkHtml;\n",
              "          element.appendChild(docLink);\n",
              "        }\n",
              "      </script>\n",
              "    </div>\n",
              "  </div>\n",
              "  "
            ]
          },
          "metadata": {},
          "execution_count": 403
        }
      ],
      "source": [
        "# Show the shape of the incorrect longitudes\n",
        "print(dirty_lon.shape)\n",
        "dirty_lon.head(10)"
      ]
    },
    {
      "cell_type": "markdown",
      "source": [
        "If the latitude is greater than the max and the longitude lower than the min, then swap the values around"
      ],
      "metadata": {
        "id": "bjspzoIGcqvZ"
      }
    },
    {
      "cell_type": "code",
      "execution_count": 404,
      "metadata": {
        "id": "RfRUW-vVGSZn"
      },
      "outputs": [],
      "source": [
        "def fix_location(lat, lon):\n",
        "    if (lat > 144.6541725 and lon < -37.7396359):\n",
        "        # if the condition meets swaping lon, lat values\n",
        "        lat, lon = lon, lat\n",
        "        \n",
        "    # the function return a series datatype \n",
        "    location = pd.Series({'customer_lat':lat, 'customer_lon':lon})\n",
        "    return location"
      ]
    },
    {
      "cell_type": "code",
      "execution_count": 405,
      "metadata": {
        "id": "yGUOKz8ZGWRk"
      },
      "outputs": [],
      "source": [
        "correct_location = dirty.apply(lambda x: fix_location(x['customer_lat'], x['customer_lon']), axis=1)\n",
        "\n",
        "# change the longitudes and latitudes\n",
        "dirty['customer_lat'] = correct_location['customer_lat']\n",
        "dirty['customer_lon'] = correct_location['customer_lon']"
      ]
    },
    {
      "cell_type": "code",
      "execution_count": 406,
      "metadata": {
        "colab": {
          "base_uri": "https://localhost:8080/"
        },
        "id": "BqEgY97UGZJz",
        "outputId": "38f201c1-bd9f-4104-b71e-5463d145628d"
      },
      "outputs": [
        {
          "output_type": "execute_result",
          "data": {
            "text/plain": [
              "count    500.000000\n",
              "mean     -37.207000\n",
              "std        6.743662\n",
              "min      -37.828229\n",
              "25%      -37.818522\n",
              "50%      -37.812460\n",
              "75%      -37.805085\n",
              "max       37.820198\n",
              "Name: customer_lat, dtype: float64"
            ]
          },
          "metadata": {},
          "execution_count": 406
        }
      ],
      "source": [
        "dirty['customer_lat'].describe()"
      ]
    },
    {
      "cell_type": "code",
      "execution_count": 407,
      "metadata": {
        "colab": {
          "base_uri": "https://localhost:8080/"
        },
        "id": "xOOcJ_51GdtB",
        "outputId": "d3e76c6c-2396-4d3e-b749-80c5f6925dbb"
      },
      "outputs": [
        {
          "output_type": "execute_result",
          "data": {
            "text/plain": [
              "count    500.000000\n",
              "mean     144.966926\n",
              "std        0.023138\n",
              "min      144.919800\n",
              "25%      144.950242\n",
              "50%      144.964532\n",
              "75%      144.982626\n",
              "max      145.015488\n",
              "Name: customer_lon, dtype: float64"
            ]
          },
          "metadata": {},
          "execution_count": 407
        }
      ],
      "source": [
        "dirty['customer_lon'].describe()"
      ]
    },
    {
      "cell_type": "code",
      "source": [
        "dirty[dirty['customer_lat'] > 0]"
      ],
      "metadata": {
        "colab": {
          "base_uri": "https://localhost:8080/",
          "height": 412
        },
        "id": "GD9X3FpYoNBA",
        "outputId": "ac65edb8-3512-4b00-eb37-37419ff1c6b4"
      },
      "execution_count": 408,
      "outputs": [
        {
          "output_type": "execute_result",
          "data": {
            "text/plain": [
              "      order_id        date      time order_type branch_code  \\\n",
              "113  ORDK03468  2021-03-01  09:51:32  Breakfast          BK   \n",
              "146  ORDJ02286  2021-09-20  16:37:10     Dinner          TP   \n",
              "268  ORDZ05019  2021-03-08  10:11:49  Breakfast          NS   \n",
              "433  ORDI08314  2021-12-12  19:29:34     Dinner          NS   \n",
              "\n",
              "                                           order_items  order_price  \\\n",
              "113                      [('Pancake', 4), ('Eggs', 9)]        278.0   \n",
              "146                 [('Salmon', 7), ('Fish&Chips', 8)]        567.0   \n",
              "268  [('Pancake', 2), ('Coffee', 9), ('Eggs', 7), (...        341.0   \n",
              "433  [('Pasta', 5), ('Fish&Chips', 10), ('Salmon', 6)]        733.5   \n",
              "\n",
              "     customer_lat  customer_lon  customerHasloyalty?  distance_to_customer_KM  \\\n",
              "113     37.813244    145.015362                    0                    5.432   \n",
              "146     37.806476    144.932217                    0                   11.000   \n",
              "268     37.820198    145.000540                    0                   10.352   \n",
              "433     37.808289    144.968739                    0                    6.969   \n",
              "\n",
              "     delivery_fee  \n",
              "113      9.565580  \n",
              "146     14.588976  \n",
              "268     15.840609  \n",
              "433     15.055874  "
            ],
            "text/html": [
              "\n",
              "  <div id=\"df-0921b9aa-2ad3-47f2-95ff-969687c9c40e\">\n",
              "    <div class=\"colab-df-container\">\n",
              "      <div>\n",
              "<style scoped>\n",
              "    .dataframe tbody tr th:only-of-type {\n",
              "        vertical-align: middle;\n",
              "    }\n",
              "\n",
              "    .dataframe tbody tr th {\n",
              "        vertical-align: top;\n",
              "    }\n",
              "\n",
              "    .dataframe thead th {\n",
              "        text-align: right;\n",
              "    }\n",
              "</style>\n",
              "<table border=\"1\" class=\"dataframe\">\n",
              "  <thead>\n",
              "    <tr style=\"text-align: right;\">\n",
              "      <th></th>\n",
              "      <th>order_id</th>\n",
              "      <th>date</th>\n",
              "      <th>time</th>\n",
              "      <th>order_type</th>\n",
              "      <th>branch_code</th>\n",
              "      <th>order_items</th>\n",
              "      <th>order_price</th>\n",
              "      <th>customer_lat</th>\n",
              "      <th>customer_lon</th>\n",
              "      <th>customerHasloyalty?</th>\n",
              "      <th>distance_to_customer_KM</th>\n",
              "      <th>delivery_fee</th>\n",
              "    </tr>\n",
              "  </thead>\n",
              "  <tbody>\n",
              "    <tr>\n",
              "      <th>113</th>\n",
              "      <td>ORDK03468</td>\n",
              "      <td>2021-03-01</td>\n",
              "      <td>09:51:32</td>\n",
              "      <td>Breakfast</td>\n",
              "      <td>BK</td>\n",
              "      <td>[('Pancake', 4), ('Eggs', 9)]</td>\n",
              "      <td>278.0</td>\n",
              "      <td>37.813244</td>\n",
              "      <td>145.015362</td>\n",
              "      <td>0</td>\n",
              "      <td>5.432</td>\n",
              "      <td>9.565580</td>\n",
              "    </tr>\n",
              "    <tr>\n",
              "      <th>146</th>\n",
              "      <td>ORDJ02286</td>\n",
              "      <td>2021-09-20</td>\n",
              "      <td>16:37:10</td>\n",
              "      <td>Dinner</td>\n",
              "      <td>TP</td>\n",
              "      <td>[('Salmon', 7), ('Fish&amp;Chips', 8)]</td>\n",
              "      <td>567.0</td>\n",
              "      <td>37.806476</td>\n",
              "      <td>144.932217</td>\n",
              "      <td>0</td>\n",
              "      <td>11.000</td>\n",
              "      <td>14.588976</td>\n",
              "    </tr>\n",
              "    <tr>\n",
              "      <th>268</th>\n",
              "      <td>ORDZ05019</td>\n",
              "      <td>2021-03-08</td>\n",
              "      <td>10:11:49</td>\n",
              "      <td>Breakfast</td>\n",
              "      <td>NS</td>\n",
              "      <td>[('Pancake', 2), ('Coffee', 9), ('Eggs', 7), (...</td>\n",
              "      <td>341.0</td>\n",
              "      <td>37.820198</td>\n",
              "      <td>145.000540</td>\n",
              "      <td>0</td>\n",
              "      <td>10.352</td>\n",
              "      <td>15.840609</td>\n",
              "    </tr>\n",
              "    <tr>\n",
              "      <th>433</th>\n",
              "      <td>ORDI08314</td>\n",
              "      <td>2021-12-12</td>\n",
              "      <td>19:29:34</td>\n",
              "      <td>Dinner</td>\n",
              "      <td>NS</td>\n",
              "      <td>[('Pasta', 5), ('Fish&amp;Chips', 10), ('Salmon', 6)]</td>\n",
              "      <td>733.5</td>\n",
              "      <td>37.808289</td>\n",
              "      <td>144.968739</td>\n",
              "      <td>0</td>\n",
              "      <td>6.969</td>\n",
              "      <td>15.055874</td>\n",
              "    </tr>\n",
              "  </tbody>\n",
              "</table>\n",
              "</div>\n",
              "      <button class=\"colab-df-convert\" onclick=\"convertToInteractive('df-0921b9aa-2ad3-47f2-95ff-969687c9c40e')\"\n",
              "              title=\"Convert this dataframe to an interactive table.\"\n",
              "              style=\"display:none;\">\n",
              "        \n",
              "  <svg xmlns=\"http://www.w3.org/2000/svg\" height=\"24px\"viewBox=\"0 0 24 24\"\n",
              "       width=\"24px\">\n",
              "    <path d=\"M0 0h24v24H0V0z\" fill=\"none\"/>\n",
              "    <path d=\"M18.56 5.44l.94 2.06.94-2.06 2.06-.94-2.06-.94-.94-2.06-.94 2.06-2.06.94zm-11 1L8.5 8.5l.94-2.06 2.06-.94-2.06-.94L8.5 2.5l-.94 2.06-2.06.94zm10 10l.94 2.06.94-2.06 2.06-.94-2.06-.94-.94-2.06-.94 2.06-2.06.94z\"/><path d=\"M17.41 7.96l-1.37-1.37c-.4-.4-.92-.59-1.43-.59-.52 0-1.04.2-1.43.59L10.3 9.45l-7.72 7.72c-.78.78-.78 2.05 0 2.83L4 21.41c.39.39.9.59 1.41.59.51 0 1.02-.2 1.41-.59l7.78-7.78 2.81-2.81c.8-.78.8-2.07 0-2.86zM5.41 20L4 18.59l7.72-7.72 1.47 1.35L5.41 20z\"/>\n",
              "  </svg>\n",
              "      </button>\n",
              "      \n",
              "  <style>\n",
              "    .colab-df-container {\n",
              "      display:flex;\n",
              "      flex-wrap:wrap;\n",
              "      gap: 12px;\n",
              "    }\n",
              "\n",
              "    .colab-df-convert {\n",
              "      background-color: #E8F0FE;\n",
              "      border: none;\n",
              "      border-radius: 50%;\n",
              "      cursor: pointer;\n",
              "      display: none;\n",
              "      fill: #1967D2;\n",
              "      height: 32px;\n",
              "      padding: 0 0 0 0;\n",
              "      width: 32px;\n",
              "    }\n",
              "\n",
              "    .colab-df-convert:hover {\n",
              "      background-color: #E2EBFA;\n",
              "      box-shadow: 0px 1px 2px rgba(60, 64, 67, 0.3), 0px 1px 3px 1px rgba(60, 64, 67, 0.15);\n",
              "      fill: #174EA6;\n",
              "    }\n",
              "\n",
              "    [theme=dark] .colab-df-convert {\n",
              "      background-color: #3B4455;\n",
              "      fill: #D2E3FC;\n",
              "    }\n",
              "\n",
              "    [theme=dark] .colab-df-convert:hover {\n",
              "      background-color: #434B5C;\n",
              "      box-shadow: 0px 1px 3px 1px rgba(0, 0, 0, 0.15);\n",
              "      filter: drop-shadow(0px 1px 2px rgba(0, 0, 0, 0.3));\n",
              "      fill: #FFFFFF;\n",
              "    }\n",
              "  </style>\n",
              "\n",
              "      <script>\n",
              "        const buttonEl =\n",
              "          document.querySelector('#df-0921b9aa-2ad3-47f2-95ff-969687c9c40e button.colab-df-convert');\n",
              "        buttonEl.style.display =\n",
              "          google.colab.kernel.accessAllowed ? 'block' : 'none';\n",
              "\n",
              "        async function convertToInteractive(key) {\n",
              "          const element = document.querySelector('#df-0921b9aa-2ad3-47f2-95ff-969687c9c40e');\n",
              "          const dataTable =\n",
              "            await google.colab.kernel.invokeFunction('convertToInteractive',\n",
              "                                                     [key], {});\n",
              "          if (!dataTable) return;\n",
              "\n",
              "          const docLinkHtml = 'Like what you see? Visit the ' +\n",
              "            '<a target=\"_blank\" href=https://colab.research.google.com/notebooks/data_table.ipynb>data table notebook</a>'\n",
              "            + ' to learn more about interactive tables.';\n",
              "          element.innerHTML = '';\n",
              "          dataTable['output_type'] = 'display_data';\n",
              "          await google.colab.output.renderOutput(dataTable, element);\n",
              "          const docLink = document.createElement('div');\n",
              "          docLink.innerHTML = docLinkHtml;\n",
              "          element.appendChild(docLink);\n",
              "        }\n",
              "      </script>\n",
              "    </div>\n",
              "  </div>\n",
              "  "
            ]
          },
          "metadata": {},
          "execution_count": 408
        }
      ]
    },
    {
      "cell_type": "markdown",
      "source": [
        "## 1.5 Distance_to_cutomer_KM"
      ],
      "metadata": {
        "id": "PrF_e31PsCmB"
      }
    },
    {
      "cell_type": "markdown",
      "source": [
        "Next we want to check the distance to customer column, we are given supplementary files which contain the longitude and latitude of each of the branches as well as their corresponding nodes. There are also a node file which also contains relevant longitude and latitude, and finally there is an edges file that can be used to link all these together using a graph "
      ],
      "metadata": {
        "id": "9qUXwA2odANH"
      }
    },
    {
      "cell_type": "code",
      "source": [
        "unfixed = dirty[dirty['customer_lat'] > 0]"
      ],
      "metadata": {
        "id": "U0ofj-C2-FJ6"
      },
      "execution_count": 409,
      "outputs": []
    },
    {
      "cell_type": "code",
      "source": [
        "# Get the nodes from shared drive\n",
        "nodes = pd.read_csv(\"/content/drive/Shareddrives/FIT5196-s2-2022/A2/supplementary_files/nodes.csv\")\n",
        "nodes.head()"
      ],
      "metadata": {
        "colab": {
          "base_uri": "https://localhost:8080/",
          "height": 206
        },
        "id": "-GXYwWg0GIee",
        "outputId": "1686f612-c279-40d4-8d07-923632c4c97f"
      },
      "execution_count": 410,
      "outputs": [
        {
          "output_type": "execute_result",
          "data": {
            "text/plain": [
              "        node        lat         lon\n",
              "0  711327755 -37.807675  144.955873\n",
              "1  711327756 -37.807094  144.955978\n",
              "2  711327759 -37.807301  144.957817\n",
              "3  711327760 -37.807885  144.957719\n",
              "4  777781264 -37.805221  144.952173"
            ],
            "text/html": [
              "\n",
              "  <div id=\"df-5ef30eae-217e-45c3-9574-fddd591c7d32\">\n",
              "    <div class=\"colab-df-container\">\n",
              "      <div>\n",
              "<style scoped>\n",
              "    .dataframe tbody tr th:only-of-type {\n",
              "        vertical-align: middle;\n",
              "    }\n",
              "\n",
              "    .dataframe tbody tr th {\n",
              "        vertical-align: top;\n",
              "    }\n",
              "\n",
              "    .dataframe thead th {\n",
              "        text-align: right;\n",
              "    }\n",
              "</style>\n",
              "<table border=\"1\" class=\"dataframe\">\n",
              "  <thead>\n",
              "    <tr style=\"text-align: right;\">\n",
              "      <th></th>\n",
              "      <th>node</th>\n",
              "      <th>lat</th>\n",
              "      <th>lon</th>\n",
              "    </tr>\n",
              "  </thead>\n",
              "  <tbody>\n",
              "    <tr>\n",
              "      <th>0</th>\n",
              "      <td>711327755</td>\n",
              "      <td>-37.807675</td>\n",
              "      <td>144.955873</td>\n",
              "    </tr>\n",
              "    <tr>\n",
              "      <th>1</th>\n",
              "      <td>711327756</td>\n",
              "      <td>-37.807094</td>\n",
              "      <td>144.955978</td>\n",
              "    </tr>\n",
              "    <tr>\n",
              "      <th>2</th>\n",
              "      <td>711327759</td>\n",
              "      <td>-37.807301</td>\n",
              "      <td>144.957817</td>\n",
              "    </tr>\n",
              "    <tr>\n",
              "      <th>3</th>\n",
              "      <td>711327760</td>\n",
              "      <td>-37.807885</td>\n",
              "      <td>144.957719</td>\n",
              "    </tr>\n",
              "    <tr>\n",
              "      <th>4</th>\n",
              "      <td>777781264</td>\n",
              "      <td>-37.805221</td>\n",
              "      <td>144.952173</td>\n",
              "    </tr>\n",
              "  </tbody>\n",
              "</table>\n",
              "</div>\n",
              "      <button class=\"colab-df-convert\" onclick=\"convertToInteractive('df-5ef30eae-217e-45c3-9574-fddd591c7d32')\"\n",
              "              title=\"Convert this dataframe to an interactive table.\"\n",
              "              style=\"display:none;\">\n",
              "        \n",
              "  <svg xmlns=\"http://www.w3.org/2000/svg\" height=\"24px\"viewBox=\"0 0 24 24\"\n",
              "       width=\"24px\">\n",
              "    <path d=\"M0 0h24v24H0V0z\" fill=\"none\"/>\n",
              "    <path d=\"M18.56 5.44l.94 2.06.94-2.06 2.06-.94-2.06-.94-.94-2.06-.94 2.06-2.06.94zm-11 1L8.5 8.5l.94-2.06 2.06-.94-2.06-.94L8.5 2.5l-.94 2.06-2.06.94zm10 10l.94 2.06.94-2.06 2.06-.94-2.06-.94-.94-2.06-.94 2.06-2.06.94z\"/><path d=\"M17.41 7.96l-1.37-1.37c-.4-.4-.92-.59-1.43-.59-.52 0-1.04.2-1.43.59L10.3 9.45l-7.72 7.72c-.78.78-.78 2.05 0 2.83L4 21.41c.39.39.9.59 1.41.59.51 0 1.02-.2 1.41-.59l7.78-7.78 2.81-2.81c.8-.78.8-2.07 0-2.86zM5.41 20L4 18.59l7.72-7.72 1.47 1.35L5.41 20z\"/>\n",
              "  </svg>\n",
              "      </button>\n",
              "      \n",
              "  <style>\n",
              "    .colab-df-container {\n",
              "      display:flex;\n",
              "      flex-wrap:wrap;\n",
              "      gap: 12px;\n",
              "    }\n",
              "\n",
              "    .colab-df-convert {\n",
              "      background-color: #E8F0FE;\n",
              "      border: none;\n",
              "      border-radius: 50%;\n",
              "      cursor: pointer;\n",
              "      display: none;\n",
              "      fill: #1967D2;\n",
              "      height: 32px;\n",
              "      padding: 0 0 0 0;\n",
              "      width: 32px;\n",
              "    }\n",
              "\n",
              "    .colab-df-convert:hover {\n",
              "      background-color: #E2EBFA;\n",
              "      box-shadow: 0px 1px 2px rgba(60, 64, 67, 0.3), 0px 1px 3px 1px rgba(60, 64, 67, 0.15);\n",
              "      fill: #174EA6;\n",
              "    }\n",
              "\n",
              "    [theme=dark] .colab-df-convert {\n",
              "      background-color: #3B4455;\n",
              "      fill: #D2E3FC;\n",
              "    }\n",
              "\n",
              "    [theme=dark] .colab-df-convert:hover {\n",
              "      background-color: #434B5C;\n",
              "      box-shadow: 0px 1px 3px 1px rgba(0, 0, 0, 0.15);\n",
              "      filter: drop-shadow(0px 1px 2px rgba(0, 0, 0, 0.3));\n",
              "      fill: #FFFFFF;\n",
              "    }\n",
              "  </style>\n",
              "\n",
              "      <script>\n",
              "        const buttonEl =\n",
              "          document.querySelector('#df-5ef30eae-217e-45c3-9574-fddd591c7d32 button.colab-df-convert');\n",
              "        buttonEl.style.display =\n",
              "          google.colab.kernel.accessAllowed ? 'block' : 'none';\n",
              "\n",
              "        async function convertToInteractive(key) {\n",
              "          const element = document.querySelector('#df-5ef30eae-217e-45c3-9574-fddd591c7d32');\n",
              "          const dataTable =\n",
              "            await google.colab.kernel.invokeFunction('convertToInteractive',\n",
              "                                                     [key], {});\n",
              "          if (!dataTable) return;\n",
              "\n",
              "          const docLinkHtml = 'Like what you see? Visit the ' +\n",
              "            '<a target=\"_blank\" href=https://colab.research.google.com/notebooks/data_table.ipynb>data table notebook</a>'\n",
              "            + ' to learn more about interactive tables.';\n",
              "          element.innerHTML = '';\n",
              "          dataTable['output_type'] = 'display_data';\n",
              "          await google.colab.output.renderOutput(dataTable, element);\n",
              "          const docLink = document.createElement('div');\n",
              "          docLink.innerHTML = docLinkHtml;\n",
              "          element.appendChild(docLink);\n",
              "        }\n",
              "      </script>\n",
              "    </div>\n",
              "  </div>\n",
              "  "
            ]
          },
          "metadata": {},
          "execution_count": 410
        }
      ]
    },
    {
      "cell_type": "code",
      "source": [
        "# Get the edges files from the shared drive\n",
        "edges = pd.read_csv(\"/content/drive/Shareddrives/FIT5196-s2-2022/A2/supplementary_files/edges.csv\")\n",
        "edges.head()"
      ],
      "metadata": {
        "colab": {
          "base_uri": "https://localhost:8080/",
          "height": 206
        },
        "id": "H1Z4tmw9dsVb",
        "outputId": "16abc10f-9674-4138-9c77-a98ee4475ef1"
      },
      "execution_count": 411,
      "outputs": [
        {
          "output_type": "execute_result",
          "data": {
            "text/plain": [
              "   Unnamed: 0          u          v  distance(m)  street type  speed(km/h)\n",
              "0           0  711327755  711332946         58.0            1         15.0\n",
              "1           2  711327755   55725841         15.0            2         20.0\n",
              "2           3  711327755  711327760        165.0            1         15.0\n",
              "3           4  711327756  703557073          4.0            0         10.0\n",
              "4           5  711327756  711332946          8.0            1         15.0"
            ],
            "text/html": [
              "\n",
              "  <div id=\"df-3909f447-e0ad-43ed-8cbc-16abdba0cb34\">\n",
              "    <div class=\"colab-df-container\">\n",
              "      <div>\n",
              "<style scoped>\n",
              "    .dataframe tbody tr th:only-of-type {\n",
              "        vertical-align: middle;\n",
              "    }\n",
              "\n",
              "    .dataframe tbody tr th {\n",
              "        vertical-align: top;\n",
              "    }\n",
              "\n",
              "    .dataframe thead th {\n",
              "        text-align: right;\n",
              "    }\n",
              "</style>\n",
              "<table border=\"1\" class=\"dataframe\">\n",
              "  <thead>\n",
              "    <tr style=\"text-align: right;\">\n",
              "      <th></th>\n",
              "      <th>Unnamed: 0</th>\n",
              "      <th>u</th>\n",
              "      <th>v</th>\n",
              "      <th>distance(m)</th>\n",
              "      <th>street type</th>\n",
              "      <th>speed(km/h)</th>\n",
              "    </tr>\n",
              "  </thead>\n",
              "  <tbody>\n",
              "    <tr>\n",
              "      <th>0</th>\n",
              "      <td>0</td>\n",
              "      <td>711327755</td>\n",
              "      <td>711332946</td>\n",
              "      <td>58.0</td>\n",
              "      <td>1</td>\n",
              "      <td>15.0</td>\n",
              "    </tr>\n",
              "    <tr>\n",
              "      <th>1</th>\n",
              "      <td>2</td>\n",
              "      <td>711327755</td>\n",
              "      <td>55725841</td>\n",
              "      <td>15.0</td>\n",
              "      <td>2</td>\n",
              "      <td>20.0</td>\n",
              "    </tr>\n",
              "    <tr>\n",
              "      <th>2</th>\n",
              "      <td>3</td>\n",
              "      <td>711327755</td>\n",
              "      <td>711327760</td>\n",
              "      <td>165.0</td>\n",
              "      <td>1</td>\n",
              "      <td>15.0</td>\n",
              "    </tr>\n",
              "    <tr>\n",
              "      <th>3</th>\n",
              "      <td>4</td>\n",
              "      <td>711327756</td>\n",
              "      <td>703557073</td>\n",
              "      <td>4.0</td>\n",
              "      <td>0</td>\n",
              "      <td>10.0</td>\n",
              "    </tr>\n",
              "    <tr>\n",
              "      <th>4</th>\n",
              "      <td>5</td>\n",
              "      <td>711327756</td>\n",
              "      <td>711332946</td>\n",
              "      <td>8.0</td>\n",
              "      <td>1</td>\n",
              "      <td>15.0</td>\n",
              "    </tr>\n",
              "  </tbody>\n",
              "</table>\n",
              "</div>\n",
              "      <button class=\"colab-df-convert\" onclick=\"convertToInteractive('df-3909f447-e0ad-43ed-8cbc-16abdba0cb34')\"\n",
              "              title=\"Convert this dataframe to an interactive table.\"\n",
              "              style=\"display:none;\">\n",
              "        \n",
              "  <svg xmlns=\"http://www.w3.org/2000/svg\" height=\"24px\"viewBox=\"0 0 24 24\"\n",
              "       width=\"24px\">\n",
              "    <path d=\"M0 0h24v24H0V0z\" fill=\"none\"/>\n",
              "    <path d=\"M18.56 5.44l.94 2.06.94-2.06 2.06-.94-2.06-.94-.94-2.06-.94 2.06-2.06.94zm-11 1L8.5 8.5l.94-2.06 2.06-.94-2.06-.94L8.5 2.5l-.94 2.06-2.06.94zm10 10l.94 2.06.94-2.06 2.06-.94-2.06-.94-.94-2.06-.94 2.06-2.06.94z\"/><path d=\"M17.41 7.96l-1.37-1.37c-.4-.4-.92-.59-1.43-.59-.52 0-1.04.2-1.43.59L10.3 9.45l-7.72 7.72c-.78.78-.78 2.05 0 2.83L4 21.41c.39.39.9.59 1.41.59.51 0 1.02-.2 1.41-.59l7.78-7.78 2.81-2.81c.8-.78.8-2.07 0-2.86zM5.41 20L4 18.59l7.72-7.72 1.47 1.35L5.41 20z\"/>\n",
              "  </svg>\n",
              "      </button>\n",
              "      \n",
              "  <style>\n",
              "    .colab-df-container {\n",
              "      display:flex;\n",
              "      flex-wrap:wrap;\n",
              "      gap: 12px;\n",
              "    }\n",
              "\n",
              "    .colab-df-convert {\n",
              "      background-color: #E8F0FE;\n",
              "      border: none;\n",
              "      border-radius: 50%;\n",
              "      cursor: pointer;\n",
              "      display: none;\n",
              "      fill: #1967D2;\n",
              "      height: 32px;\n",
              "      padding: 0 0 0 0;\n",
              "      width: 32px;\n",
              "    }\n",
              "\n",
              "    .colab-df-convert:hover {\n",
              "      background-color: #E2EBFA;\n",
              "      box-shadow: 0px 1px 2px rgba(60, 64, 67, 0.3), 0px 1px 3px 1px rgba(60, 64, 67, 0.15);\n",
              "      fill: #174EA6;\n",
              "    }\n",
              "\n",
              "    [theme=dark] .colab-df-convert {\n",
              "      background-color: #3B4455;\n",
              "      fill: #D2E3FC;\n",
              "    }\n",
              "\n",
              "    [theme=dark] .colab-df-convert:hover {\n",
              "      background-color: #434B5C;\n",
              "      box-shadow: 0px 1px 3px 1px rgba(0, 0, 0, 0.15);\n",
              "      filter: drop-shadow(0px 1px 2px rgba(0, 0, 0, 0.3));\n",
              "      fill: #FFFFFF;\n",
              "    }\n",
              "  </style>\n",
              "\n",
              "      <script>\n",
              "        const buttonEl =\n",
              "          document.querySelector('#df-3909f447-e0ad-43ed-8cbc-16abdba0cb34 button.colab-df-convert');\n",
              "        buttonEl.style.display =\n",
              "          google.colab.kernel.accessAllowed ? 'block' : 'none';\n",
              "\n",
              "        async function convertToInteractive(key) {\n",
              "          const element = document.querySelector('#df-3909f447-e0ad-43ed-8cbc-16abdba0cb34');\n",
              "          const dataTable =\n",
              "            await google.colab.kernel.invokeFunction('convertToInteractive',\n",
              "                                                     [key], {});\n",
              "          if (!dataTable) return;\n",
              "\n",
              "          const docLinkHtml = 'Like what you see? Visit the ' +\n",
              "            '<a target=\"_blank\" href=https://colab.research.google.com/notebooks/data_table.ipynb>data table notebook</a>'\n",
              "            + ' to learn more about interactive tables.';\n",
              "          element.innerHTML = '';\n",
              "          dataTable['output_type'] = 'display_data';\n",
              "          await google.colab.output.renderOutput(dataTable, element);\n",
              "          const docLink = document.createElement('div');\n",
              "          docLink.innerHTML = docLinkHtml;\n",
              "          element.appendChild(docLink);\n",
              "        }\n",
              "      </script>\n",
              "    </div>\n",
              "  </div>\n",
              "  "
            ]
          },
          "metadata": {},
          "execution_count": 411
        }
      ]
    },
    {
      "cell_type": "code",
      "source": [
        "# Get the branches files from the shared drive\n",
        "branches = pd.read_csv(\"/content/drive/Shareddrives/FIT5196-s2-2022/A2/supplementary_files/branches.csv\")\n",
        "branches.head()"
      ],
      "metadata": {
        "colab": {
          "base_uri": "https://localhost:8080/",
          "height": 143
        },
        "id": "Ae3FtMHtd4pu",
        "outputId": "152308a3-0a85-4a8f-8c97-e754a1dd222a"
      },
      "execution_count": 412,
      "outputs": [
        {
          "output_type": "execute_result",
          "data": {
            "text/plain": [
              "  branch_code branch_name  branch_lat  branch_lon\n",
              "0          NS   Nickolson  -37.773803  144.983647\n",
              "1          TP    Thompson  -37.861835  144.905716\n",
              "2          BK      Bakers  -37.815834  145.046450"
            ],
            "text/html": [
              "\n",
              "  <div id=\"df-5d0725ef-9ace-4b65-aca0-e791a149254f\">\n",
              "    <div class=\"colab-df-container\">\n",
              "      <div>\n",
              "<style scoped>\n",
              "    .dataframe tbody tr th:only-of-type {\n",
              "        vertical-align: middle;\n",
              "    }\n",
              "\n",
              "    .dataframe tbody tr th {\n",
              "        vertical-align: top;\n",
              "    }\n",
              "\n",
              "    .dataframe thead th {\n",
              "        text-align: right;\n",
              "    }\n",
              "</style>\n",
              "<table border=\"1\" class=\"dataframe\">\n",
              "  <thead>\n",
              "    <tr style=\"text-align: right;\">\n",
              "      <th></th>\n",
              "      <th>branch_code</th>\n",
              "      <th>branch_name</th>\n",
              "      <th>branch_lat</th>\n",
              "      <th>branch_lon</th>\n",
              "    </tr>\n",
              "  </thead>\n",
              "  <tbody>\n",
              "    <tr>\n",
              "      <th>0</th>\n",
              "      <td>NS</td>\n",
              "      <td>Nickolson</td>\n",
              "      <td>-37.773803</td>\n",
              "      <td>144.983647</td>\n",
              "    </tr>\n",
              "    <tr>\n",
              "      <th>1</th>\n",
              "      <td>TP</td>\n",
              "      <td>Thompson</td>\n",
              "      <td>-37.861835</td>\n",
              "      <td>144.905716</td>\n",
              "    </tr>\n",
              "    <tr>\n",
              "      <th>2</th>\n",
              "      <td>BK</td>\n",
              "      <td>Bakers</td>\n",
              "      <td>-37.815834</td>\n",
              "      <td>145.046450</td>\n",
              "    </tr>\n",
              "  </tbody>\n",
              "</table>\n",
              "</div>\n",
              "      <button class=\"colab-df-convert\" onclick=\"convertToInteractive('df-5d0725ef-9ace-4b65-aca0-e791a149254f')\"\n",
              "              title=\"Convert this dataframe to an interactive table.\"\n",
              "              style=\"display:none;\">\n",
              "        \n",
              "  <svg xmlns=\"http://www.w3.org/2000/svg\" height=\"24px\"viewBox=\"0 0 24 24\"\n",
              "       width=\"24px\">\n",
              "    <path d=\"M0 0h24v24H0V0z\" fill=\"none\"/>\n",
              "    <path d=\"M18.56 5.44l.94 2.06.94-2.06 2.06-.94-2.06-.94-.94-2.06-.94 2.06-2.06.94zm-11 1L8.5 8.5l.94-2.06 2.06-.94-2.06-.94L8.5 2.5l-.94 2.06-2.06.94zm10 10l.94 2.06.94-2.06 2.06-.94-2.06-.94-.94-2.06-.94 2.06-2.06.94z\"/><path d=\"M17.41 7.96l-1.37-1.37c-.4-.4-.92-.59-1.43-.59-.52 0-1.04.2-1.43.59L10.3 9.45l-7.72 7.72c-.78.78-.78 2.05 0 2.83L4 21.41c.39.39.9.59 1.41.59.51 0 1.02-.2 1.41-.59l7.78-7.78 2.81-2.81c.8-.78.8-2.07 0-2.86zM5.41 20L4 18.59l7.72-7.72 1.47 1.35L5.41 20z\"/>\n",
              "  </svg>\n",
              "      </button>\n",
              "      \n",
              "  <style>\n",
              "    .colab-df-container {\n",
              "      display:flex;\n",
              "      flex-wrap:wrap;\n",
              "      gap: 12px;\n",
              "    }\n",
              "\n",
              "    .colab-df-convert {\n",
              "      background-color: #E8F0FE;\n",
              "      border: none;\n",
              "      border-radius: 50%;\n",
              "      cursor: pointer;\n",
              "      display: none;\n",
              "      fill: #1967D2;\n",
              "      height: 32px;\n",
              "      padding: 0 0 0 0;\n",
              "      width: 32px;\n",
              "    }\n",
              "\n",
              "    .colab-df-convert:hover {\n",
              "      background-color: #E2EBFA;\n",
              "      box-shadow: 0px 1px 2px rgba(60, 64, 67, 0.3), 0px 1px 3px 1px rgba(60, 64, 67, 0.15);\n",
              "      fill: #174EA6;\n",
              "    }\n",
              "\n",
              "    [theme=dark] .colab-df-convert {\n",
              "      background-color: #3B4455;\n",
              "      fill: #D2E3FC;\n",
              "    }\n",
              "\n",
              "    [theme=dark] .colab-df-convert:hover {\n",
              "      background-color: #434B5C;\n",
              "      box-shadow: 0px 1px 3px 1px rgba(0, 0, 0, 0.15);\n",
              "      filter: drop-shadow(0px 1px 2px rgba(0, 0, 0, 0.3));\n",
              "      fill: #FFFFFF;\n",
              "    }\n",
              "  </style>\n",
              "\n",
              "      <script>\n",
              "        const buttonEl =\n",
              "          document.querySelector('#df-5d0725ef-9ace-4b65-aca0-e791a149254f button.colab-df-convert');\n",
              "        buttonEl.style.display =\n",
              "          google.colab.kernel.accessAllowed ? 'block' : 'none';\n",
              "\n",
              "        async function convertToInteractive(key) {\n",
              "          const element = document.querySelector('#df-5d0725ef-9ace-4b65-aca0-e791a149254f');\n",
              "          const dataTable =\n",
              "            await google.colab.kernel.invokeFunction('convertToInteractive',\n",
              "                                                     [key], {});\n",
              "          if (!dataTable) return;\n",
              "\n",
              "          const docLinkHtml = 'Like what you see? Visit the ' +\n",
              "            '<a target=\"_blank\" href=https://colab.research.google.com/notebooks/data_table.ipynb>data table notebook</a>'\n",
              "            + ' to learn more about interactive tables.';\n",
              "          element.innerHTML = '';\n",
              "          dataTable['output_type'] = 'display_data';\n",
              "          await google.colab.output.renderOutput(dataTable, element);\n",
              "          const docLink = document.createElement('div');\n",
              "          docLink.innerHTML = docLinkHtml;\n",
              "          element.appendChild(docLink);\n",
              "        }\n",
              "      </script>\n",
              "    </div>\n",
              "  </div>\n",
              "  "
            ]
          },
          "metadata": {},
          "execution_count": 412
        }
      ]
    },
    {
      "cell_type": "code",
      "source": [
        "# Combine branches and nodes \n",
        "branches = pd.merge(branches, nodes, how='left'\n",
        "                       , left_on=['branch_lat','branch_lon'], right_on=['lat','lon'])\n",
        "print(branches.shape)\n",
        "branches.head()"
      ],
      "metadata": {
        "colab": {
          "base_uri": "https://localhost:8080/",
          "height": 161
        },
        "id": "Cv1pwKi1d-V1",
        "outputId": "427888c5-5b0b-4133-d27c-f9a9f16edf01"
      },
      "execution_count": 413,
      "outputs": [
        {
          "output_type": "stream",
          "name": "stdout",
          "text": [
            "(3, 7)\n"
          ]
        },
        {
          "output_type": "execute_result",
          "data": {
            "text/plain": [
              "  branch_code branch_name  branch_lat  branch_lon        node        lat  \\\n",
              "0          NS   Nickolson  -37.773803  144.983647  2455254505 -37.773803   \n",
              "1          TP    Thompson  -37.861835  144.905716  1390575046 -37.861835   \n",
              "2          BK      Bakers  -37.815834  145.046450  1889485053 -37.815834   \n",
              "\n",
              "          lon  \n",
              "0  144.983647  \n",
              "1  144.905716  \n",
              "2  145.046450  "
            ],
            "text/html": [
              "\n",
              "  <div id=\"df-7e6b0cf9-467d-4d41-8ec9-818706a0e70f\">\n",
              "    <div class=\"colab-df-container\">\n",
              "      <div>\n",
              "<style scoped>\n",
              "    .dataframe tbody tr th:only-of-type {\n",
              "        vertical-align: middle;\n",
              "    }\n",
              "\n",
              "    .dataframe tbody tr th {\n",
              "        vertical-align: top;\n",
              "    }\n",
              "\n",
              "    .dataframe thead th {\n",
              "        text-align: right;\n",
              "    }\n",
              "</style>\n",
              "<table border=\"1\" class=\"dataframe\">\n",
              "  <thead>\n",
              "    <tr style=\"text-align: right;\">\n",
              "      <th></th>\n",
              "      <th>branch_code</th>\n",
              "      <th>branch_name</th>\n",
              "      <th>branch_lat</th>\n",
              "      <th>branch_lon</th>\n",
              "      <th>node</th>\n",
              "      <th>lat</th>\n",
              "      <th>lon</th>\n",
              "    </tr>\n",
              "  </thead>\n",
              "  <tbody>\n",
              "    <tr>\n",
              "      <th>0</th>\n",
              "      <td>NS</td>\n",
              "      <td>Nickolson</td>\n",
              "      <td>-37.773803</td>\n",
              "      <td>144.983647</td>\n",
              "      <td>2455254505</td>\n",
              "      <td>-37.773803</td>\n",
              "      <td>144.983647</td>\n",
              "    </tr>\n",
              "    <tr>\n",
              "      <th>1</th>\n",
              "      <td>TP</td>\n",
              "      <td>Thompson</td>\n",
              "      <td>-37.861835</td>\n",
              "      <td>144.905716</td>\n",
              "      <td>1390575046</td>\n",
              "      <td>-37.861835</td>\n",
              "      <td>144.905716</td>\n",
              "    </tr>\n",
              "    <tr>\n",
              "      <th>2</th>\n",
              "      <td>BK</td>\n",
              "      <td>Bakers</td>\n",
              "      <td>-37.815834</td>\n",
              "      <td>145.046450</td>\n",
              "      <td>1889485053</td>\n",
              "      <td>-37.815834</td>\n",
              "      <td>145.046450</td>\n",
              "    </tr>\n",
              "  </tbody>\n",
              "</table>\n",
              "</div>\n",
              "      <button class=\"colab-df-convert\" onclick=\"convertToInteractive('df-7e6b0cf9-467d-4d41-8ec9-818706a0e70f')\"\n",
              "              title=\"Convert this dataframe to an interactive table.\"\n",
              "              style=\"display:none;\">\n",
              "        \n",
              "  <svg xmlns=\"http://www.w3.org/2000/svg\" height=\"24px\"viewBox=\"0 0 24 24\"\n",
              "       width=\"24px\">\n",
              "    <path d=\"M0 0h24v24H0V0z\" fill=\"none\"/>\n",
              "    <path d=\"M18.56 5.44l.94 2.06.94-2.06 2.06-.94-2.06-.94-.94-2.06-.94 2.06-2.06.94zm-11 1L8.5 8.5l.94-2.06 2.06-.94-2.06-.94L8.5 2.5l-.94 2.06-2.06.94zm10 10l.94 2.06.94-2.06 2.06-.94-2.06-.94-.94-2.06-.94 2.06-2.06.94z\"/><path d=\"M17.41 7.96l-1.37-1.37c-.4-.4-.92-.59-1.43-.59-.52 0-1.04.2-1.43.59L10.3 9.45l-7.72 7.72c-.78.78-.78 2.05 0 2.83L4 21.41c.39.39.9.59 1.41.59.51 0 1.02-.2 1.41-.59l7.78-7.78 2.81-2.81c.8-.78.8-2.07 0-2.86zM5.41 20L4 18.59l7.72-7.72 1.47 1.35L5.41 20z\"/>\n",
              "  </svg>\n",
              "      </button>\n",
              "      \n",
              "  <style>\n",
              "    .colab-df-container {\n",
              "      display:flex;\n",
              "      flex-wrap:wrap;\n",
              "      gap: 12px;\n",
              "    }\n",
              "\n",
              "    .colab-df-convert {\n",
              "      background-color: #E8F0FE;\n",
              "      border: none;\n",
              "      border-radius: 50%;\n",
              "      cursor: pointer;\n",
              "      display: none;\n",
              "      fill: #1967D2;\n",
              "      height: 32px;\n",
              "      padding: 0 0 0 0;\n",
              "      width: 32px;\n",
              "    }\n",
              "\n",
              "    .colab-df-convert:hover {\n",
              "      background-color: #E2EBFA;\n",
              "      box-shadow: 0px 1px 2px rgba(60, 64, 67, 0.3), 0px 1px 3px 1px rgba(60, 64, 67, 0.15);\n",
              "      fill: #174EA6;\n",
              "    }\n",
              "\n",
              "    [theme=dark] .colab-df-convert {\n",
              "      background-color: #3B4455;\n",
              "      fill: #D2E3FC;\n",
              "    }\n",
              "\n",
              "    [theme=dark] .colab-df-convert:hover {\n",
              "      background-color: #434B5C;\n",
              "      box-shadow: 0px 1px 3px 1px rgba(0, 0, 0, 0.15);\n",
              "      filter: drop-shadow(0px 1px 2px rgba(0, 0, 0, 0.3));\n",
              "      fill: #FFFFFF;\n",
              "    }\n",
              "  </style>\n",
              "\n",
              "      <script>\n",
              "        const buttonEl =\n",
              "          document.querySelector('#df-7e6b0cf9-467d-4d41-8ec9-818706a0e70f button.colab-df-convert');\n",
              "        buttonEl.style.display =\n",
              "          google.colab.kernel.accessAllowed ? 'block' : 'none';\n",
              "\n",
              "        async function convertToInteractive(key) {\n",
              "          const element = document.querySelector('#df-7e6b0cf9-467d-4d41-8ec9-818706a0e70f');\n",
              "          const dataTable =\n",
              "            await google.colab.kernel.invokeFunction('convertToInteractive',\n",
              "                                                     [key], {});\n",
              "          if (!dataTable) return;\n",
              "\n",
              "          const docLinkHtml = 'Like what you see? Visit the ' +\n",
              "            '<a target=\"_blank\" href=https://colab.research.google.com/notebooks/data_table.ipynb>data table notebook</a>'\n",
              "            + ' to learn more about interactive tables.';\n",
              "          element.innerHTML = '';\n",
              "          dataTable['output_type'] = 'display_data';\n",
              "          await google.colab.output.renderOutput(dataTable, element);\n",
              "          const docLink = document.createElement('div');\n",
              "          docLink.innerHTML = docLinkHtml;\n",
              "          element.appendChild(docLink);\n",
              "        }\n",
              "      </script>\n",
              "    </div>\n",
              "  </div>\n",
              "  "
            ]
          },
          "metadata": {},
          "execution_count": 413
        }
      ]
    },
    {
      "cell_type": "code",
      "source": [
        "# Remove unnecessary files\n",
        "branches = branches.drop('lat', axis=1)\n",
        "branches = branches.drop('lon', axis=1)\n",
        "branches.rename(columns={'node':'branch_node'}, inplace=True)\n",
        "branches.head()"
      ],
      "metadata": {
        "colab": {
          "base_uri": "https://localhost:8080/",
          "height": 143
        },
        "id": "4J_l0EdxeG-v",
        "outputId": "ec7b2e6f-463b-4da8-9f38-2e47bf750758"
      },
      "execution_count": 414,
      "outputs": [
        {
          "output_type": "execute_result",
          "data": {
            "text/plain": [
              "  branch_code branch_name  branch_lat  branch_lon  branch_node\n",
              "0          NS   Nickolson  -37.773803  144.983647   2455254505\n",
              "1          TP    Thompson  -37.861835  144.905716   1390575046\n",
              "2          BK      Bakers  -37.815834  145.046450   1889485053"
            ],
            "text/html": [
              "\n",
              "  <div id=\"df-9c07f5a0-0ed3-411b-987f-90100d9a34fc\">\n",
              "    <div class=\"colab-df-container\">\n",
              "      <div>\n",
              "<style scoped>\n",
              "    .dataframe tbody tr th:only-of-type {\n",
              "        vertical-align: middle;\n",
              "    }\n",
              "\n",
              "    .dataframe tbody tr th {\n",
              "        vertical-align: top;\n",
              "    }\n",
              "\n",
              "    .dataframe thead th {\n",
              "        text-align: right;\n",
              "    }\n",
              "</style>\n",
              "<table border=\"1\" class=\"dataframe\">\n",
              "  <thead>\n",
              "    <tr style=\"text-align: right;\">\n",
              "      <th></th>\n",
              "      <th>branch_code</th>\n",
              "      <th>branch_name</th>\n",
              "      <th>branch_lat</th>\n",
              "      <th>branch_lon</th>\n",
              "      <th>branch_node</th>\n",
              "    </tr>\n",
              "  </thead>\n",
              "  <tbody>\n",
              "    <tr>\n",
              "      <th>0</th>\n",
              "      <td>NS</td>\n",
              "      <td>Nickolson</td>\n",
              "      <td>-37.773803</td>\n",
              "      <td>144.983647</td>\n",
              "      <td>2455254505</td>\n",
              "    </tr>\n",
              "    <tr>\n",
              "      <th>1</th>\n",
              "      <td>TP</td>\n",
              "      <td>Thompson</td>\n",
              "      <td>-37.861835</td>\n",
              "      <td>144.905716</td>\n",
              "      <td>1390575046</td>\n",
              "    </tr>\n",
              "    <tr>\n",
              "      <th>2</th>\n",
              "      <td>BK</td>\n",
              "      <td>Bakers</td>\n",
              "      <td>-37.815834</td>\n",
              "      <td>145.046450</td>\n",
              "      <td>1889485053</td>\n",
              "    </tr>\n",
              "  </tbody>\n",
              "</table>\n",
              "</div>\n",
              "      <button class=\"colab-df-convert\" onclick=\"convertToInteractive('df-9c07f5a0-0ed3-411b-987f-90100d9a34fc')\"\n",
              "              title=\"Convert this dataframe to an interactive table.\"\n",
              "              style=\"display:none;\">\n",
              "        \n",
              "  <svg xmlns=\"http://www.w3.org/2000/svg\" height=\"24px\"viewBox=\"0 0 24 24\"\n",
              "       width=\"24px\">\n",
              "    <path d=\"M0 0h24v24H0V0z\" fill=\"none\"/>\n",
              "    <path d=\"M18.56 5.44l.94 2.06.94-2.06 2.06-.94-2.06-.94-.94-2.06-.94 2.06-2.06.94zm-11 1L8.5 8.5l.94-2.06 2.06-.94-2.06-.94L8.5 2.5l-.94 2.06-2.06.94zm10 10l.94 2.06.94-2.06 2.06-.94-2.06-.94-.94-2.06-.94 2.06-2.06.94z\"/><path d=\"M17.41 7.96l-1.37-1.37c-.4-.4-.92-.59-1.43-.59-.52 0-1.04.2-1.43.59L10.3 9.45l-7.72 7.72c-.78.78-.78 2.05 0 2.83L4 21.41c.39.39.9.59 1.41.59.51 0 1.02-.2 1.41-.59l7.78-7.78 2.81-2.81c.8-.78.8-2.07 0-2.86zM5.41 20L4 18.59l7.72-7.72 1.47 1.35L5.41 20z\"/>\n",
              "  </svg>\n",
              "      </button>\n",
              "      \n",
              "  <style>\n",
              "    .colab-df-container {\n",
              "      display:flex;\n",
              "      flex-wrap:wrap;\n",
              "      gap: 12px;\n",
              "    }\n",
              "\n",
              "    .colab-df-convert {\n",
              "      background-color: #E8F0FE;\n",
              "      border: none;\n",
              "      border-radius: 50%;\n",
              "      cursor: pointer;\n",
              "      display: none;\n",
              "      fill: #1967D2;\n",
              "      height: 32px;\n",
              "      padding: 0 0 0 0;\n",
              "      width: 32px;\n",
              "    }\n",
              "\n",
              "    .colab-df-convert:hover {\n",
              "      background-color: #E2EBFA;\n",
              "      box-shadow: 0px 1px 2px rgba(60, 64, 67, 0.3), 0px 1px 3px 1px rgba(60, 64, 67, 0.15);\n",
              "      fill: #174EA6;\n",
              "    }\n",
              "\n",
              "    [theme=dark] .colab-df-convert {\n",
              "      background-color: #3B4455;\n",
              "      fill: #D2E3FC;\n",
              "    }\n",
              "\n",
              "    [theme=dark] .colab-df-convert:hover {\n",
              "      background-color: #434B5C;\n",
              "      box-shadow: 0px 1px 3px 1px rgba(0, 0, 0, 0.15);\n",
              "      filter: drop-shadow(0px 1px 2px rgba(0, 0, 0, 0.3));\n",
              "      fill: #FFFFFF;\n",
              "    }\n",
              "  </style>\n",
              "\n",
              "      <script>\n",
              "        const buttonEl =\n",
              "          document.querySelector('#df-9c07f5a0-0ed3-411b-987f-90100d9a34fc button.colab-df-convert');\n",
              "        buttonEl.style.display =\n",
              "          google.colab.kernel.accessAllowed ? 'block' : 'none';\n",
              "\n",
              "        async function convertToInteractive(key) {\n",
              "          const element = document.querySelector('#df-9c07f5a0-0ed3-411b-987f-90100d9a34fc');\n",
              "          const dataTable =\n",
              "            await google.colab.kernel.invokeFunction('convertToInteractive',\n",
              "                                                     [key], {});\n",
              "          if (!dataTable) return;\n",
              "\n",
              "          const docLinkHtml = 'Like what you see? Visit the ' +\n",
              "            '<a target=\"_blank\" href=https://colab.research.google.com/notebooks/data_table.ipynb>data table notebook</a>'\n",
              "            + ' to learn more about interactive tables.';\n",
              "          element.innerHTML = '';\n",
              "          dataTable['output_type'] = 'display_data';\n",
              "          await google.colab.output.renderOutput(dataTable, element);\n",
              "          const docLink = document.createElement('div');\n",
              "          docLink.innerHTML = docLinkHtml;\n",
              "          element.appendChild(docLink);\n",
              "        }\n",
              "      </script>\n",
              "    </div>\n",
              "  </div>\n",
              "  "
            ]
          },
          "metadata": {},
          "execution_count": 414
        }
      ]
    },
    {
      "cell_type": "code",
      "source": [
        "# merge dirty dataset with nodes by latitude and longitude\n",
        "dirty = pd.merge(dirty, nodes, how='left'\n",
        "                       , left_on=['customer_lat','customer_lon'], right_on=['lat','lon'])\n",
        "print(dirty.shape)"
      ],
      "metadata": {
        "colab": {
          "base_uri": "https://localhost:8080/"
        },
        "id": "knJCeMxleMW9",
        "outputId": "f378a141-f8ce-4500-9228-5630de1c10a3"
      },
      "execution_count": 415,
      "outputs": [
        {
          "output_type": "stream",
          "name": "stdout",
          "text": [
            "(500, 15)\n"
          ]
        }
      ]
    },
    {
      "cell_type": "code",
      "source": [
        "# Remove unnecessary columns\n",
        "dirty = dirty.drop('lat', axis=1)\n",
        "dirty = dirty.drop('lon', axis=1)"
      ],
      "metadata": {
        "id": "MSI2mEo3flLs"
      },
      "execution_count": 416,
      "outputs": []
    },
    {
      "cell_type": "code",
      "source": [
        "# create list from nodes df node column\n",
        "nodes_list=list(nodes.node)\n",
        "print(len(nodes_list))\n",
        "print(nodes_list[0:10])"
      ],
      "metadata": {
        "colab": {
          "base_uri": "https://localhost:8080/"
        },
        "id": "-FeKmOStfp3W",
        "outputId": "91f0831f-97a4-40cd-fbcd-f867854a3d76"
      },
      "execution_count": 417,
      "outputs": [
        {
          "output_type": "stream",
          "name": "stdout",
          "text": [
            "17117\n",
            "[711327755, 711327756, 711327759, 711327760, 777781264, 711327758, 164102232, 26476632, 26476637, 26476642]\n"
          ]
        }
      ]
    },
    {
      "cell_type": "code",
      "source": [
        "import networkx as nx"
      ],
      "metadata": {
        "id": "lRW4Ppk_fxsj"
      },
      "execution_count": 418,
      "outputs": []
    },
    {
      "cell_type": "code",
      "source": [
        "G = nx.Graph()\n",
        "# add nodes list into the graph\n",
        "G.add_nodes_from(nodes_list)\n",
        "# check nodes count\n",
        "G.number_of_nodes()"
      ],
      "metadata": {
        "colab": {
          "base_uri": "https://localhost:8080/"
        },
        "id": "J8YJxFhpgafD",
        "outputId": "c8b6f45f-5e7d-4845-9e5b-8419fe0a3a6d"
      },
      "execution_count": 419,
      "outputs": [
        {
          "output_type": "execute_result",
          "data": {
            "text/plain": [
              "17117"
            ]
          },
          "metadata": {},
          "execution_count": 419
        }
      ]
    },
    {
      "cell_type": "code",
      "source": [
        "edges_list = []\n",
        "for index, row in edges.iterrows():\n",
        "    edges_list.append((row['u'], row['v'], {'weight':row['distance(m)']}))\n",
        "print(len(edges_list))\n",
        "print(edges_list[0:10])"
      ],
      "metadata": {
        "colab": {
          "base_uri": "https://localhost:8080/"
        },
        "id": "YPUOjvjKgdt7",
        "outputId": "b6d58524-74b2-4cfa-e3f1-3ae4f0c21134"
      },
      "execution_count": 420,
      "outputs": [
        {
          "output_type": "stream",
          "name": "stdout",
          "text": [
            "42224\n",
            "[(711327755.0, 711332946.0, {'weight': 58.0}), (711327755.0, 55725841.0, {'weight': 15.0}), (711327755.0, 711327760.0, {'weight': 165.0}), (711327756.0, 703557073.0, {'weight': 4.0}), (711327756.0, 711332946.0, {'weight': 8.0}), (711327756.0, 711331420.0, {'weight': 44.0}), (711327759.0, 711331451.0, {'weight': 8.0}), (711327759.0, 703557072.0, {'weight': 5.0}), (711327759.0, 711331434.0, {'weight': 32.0}), (711327760.0, 603633283.0, {'weight': 14.0})]\n"
          ]
        }
      ]
    },
    {
      "cell_type": "code",
      "source": [
        "G.add_edges_from(edges_list)\n",
        "# check number of edges in the graph\n",
        "G.number_of_edges()"
      ],
      "metadata": {
        "colab": {
          "base_uri": "https://localhost:8080/"
        },
        "id": "LarVGHRIgg2o",
        "outputId": "aeb6ebb6-568f-4145-ca0c-0ce131761b51"
      },
      "execution_count": 421,
      "outputs": [
        {
          "output_type": "execute_result",
          "data": {
            "text/plain": [
              "25491"
            ]
          },
          "metadata": {},
          "execution_count": 421
        }
      ]
    },
    {
      "cell_type": "code",
      "source": [
        "dirty = dirty[dirty['customer_lat'] < 0]"
      ],
      "metadata": {
        "id": "gMSQJCFH2yQl"
      },
      "execution_count": 422,
      "outputs": []
    },
    {
      "cell_type": "code",
      "source": [
        "dirty_BK = dirty[dirty['branch_code'] == 'BK']"
      ],
      "metadata": {
        "id": "vYVXFB3UhaCG"
      },
      "execution_count": 423,
      "outputs": []
    },
    {
      "cell_type": "code",
      "source": [
        "# Add branch code node \n",
        "dirty_BK['BK_branch_node'] = '1889485053'"
      ],
      "metadata": {
        "colab": {
          "base_uri": "https://localhost:8080/"
        },
        "id": "VRYUVHXGhlHV",
        "outputId": "13c81cbb-89b9-4cb9-8710-2548b54250ad"
      },
      "execution_count": 424,
      "outputs": [
        {
          "output_type": "stream",
          "name": "stderr",
          "text": [
            "/usr/local/lib/python3.7/dist-packages/ipykernel_launcher.py:2: SettingWithCopyWarning: \n",
            "A value is trying to be set on a copy of a slice from a DataFrame.\n",
            "Try using .loc[row_indexer,col_indexer] = value instead\n",
            "\n",
            "See the caveats in the documentation: https://pandas.pydata.org/pandas-docs/stable/user_guide/indexing.html#returning-a-view-versus-a-copy\n",
            "  \n"
          ]
        }
      ]
    },
    {
      "cell_type": "code",
      "source": [
        "# Get distance to the BK branch\n",
        "\n",
        "BK_distance_list = []\n",
        "for index, row in dirty_BK.iterrows():\n",
        "  BK_distance_list.append((nx.dijkstra_path_length(G,int(row['node']),int(row['BK_branch_node']))))  \n",
        "\n",
        "BK_distance_list = [item/1000 for item in BK_distance_list]\n",
        "print(len(BK_distance_list))\n",
        "BK_distance_list[0:10]"
      ],
      "metadata": {
        "colab": {
          "base_uri": "https://localhost:8080/"
        },
        "id": "5c0hTRyzhzni",
        "outputId": "dbdd3d53-773b-49e5-a6f5-0c8cda9b676d"
      },
      "execution_count": 425,
      "outputs": [
        {
          "output_type": "stream",
          "name": "stdout",
          "text": [
            "157\n"
          ]
        },
        {
          "output_type": "execute_result",
          "data": {
            "text/plain": [
              "[7.446, 6.913, 5.307, 7.862, 7.278, 8.617, 6.01, 4.187, 3.61, 9.137]"
            ]
          },
          "metadata": {},
          "execution_count": 425
        }
      ]
    },
    {
      "cell_type": "code",
      "source": [
        "# ADd new column to dataframe\n",
        "dirty_BK = dirty_BK.assign(new_calculated_distance = BK_distance_list)\n",
        "\n",
        "print(dirty_BK.shape)\n",
        "dirty_BK.head()"
      ],
      "metadata": {
        "colab": {
          "base_uri": "https://localhost:8080/",
          "height": 530
        },
        "id": "4JJITjXD3SkY",
        "outputId": "10a469b1-52ad-43be-aa8d-145b2e98e98b"
      },
      "execution_count": 426,
      "outputs": [
        {
          "output_type": "stream",
          "name": "stdout",
          "text": [
            "(157, 15)\n"
          ]
        },
        {
          "output_type": "execute_result",
          "data": {
            "text/plain": [
              "     order_id        date      time order_type branch_code  \\\n",
              "0   ORDA07117  2021-09-09  16:16:54     Dinner          BK   \n",
              "6   ORDA10112  2021-02-12  09:21:07  Breakfast          BK   \n",
              "7   ORDK06856  2021-10-24  17:48:10     Dinner          BK   \n",
              "8   ORDA00203  2021-03-05  10:01:41  Breakfast          BK   \n",
              "12  ORDX04680  2021-09-26  16:47:19     Dinner          BK   \n",
              "\n",
              "                                          order_items  order_price  \\\n",
              "0   [('Fish&Chips', 3), ('Salmon', 10), ('Shrimp',...      1001.00   \n",
              "6   [('Cereal', 7), ('Eggs', 9), ('Pancake', 4), (...       473.00   \n",
              "7   [('Salmon', 3), ('Fish&Chips', 3), ('Shrimp', ...       665.00   \n",
              "8   [('Pancake', 9), ('Eggs', 10), ('Coffee', 1), ...       595.75   \n",
              "12                 [('Fish&Chips', 3), ('Salmon', 9)]       474.00   \n",
              "\n",
              "    customer_lat  customer_lon  customerHasloyalty?  distance_to_customer_KM  \\\n",
              "0     -37.822204    144.975708                    0                    7.446   \n",
              "6     -37.807997    144.968795                    0                    6.913   \n",
              "7     -37.815824    144.992110                    0                    5.307   \n",
              "8     -37.803123    144.961601                    0                    7.862   \n",
              "12    -37.804002    144.968017                    0                    7.278   \n",
              "\n",
              "    delivery_fee          node BK_branch_node  new_calculated_distance  \n",
              "0      14.696441  2.700682e+09     1889485053                    7.446  \n",
              "6      11.814639  2.518598e+08     1889485053                    6.913  \n",
              "7      14.561978  4.315300e+09     1889485053                    5.307  \n",
              "8      13.415311  3.127183e+08     1889485053                    7.862  \n",
              "12     16.650184  3.189789e+09     1889485053                    7.278  "
            ],
            "text/html": [
              "\n",
              "  <div id=\"df-d7dc031c-1be2-4c84-b58b-e600ab981a10\">\n",
              "    <div class=\"colab-df-container\">\n",
              "      <div>\n",
              "<style scoped>\n",
              "    .dataframe tbody tr th:only-of-type {\n",
              "        vertical-align: middle;\n",
              "    }\n",
              "\n",
              "    .dataframe tbody tr th {\n",
              "        vertical-align: top;\n",
              "    }\n",
              "\n",
              "    .dataframe thead th {\n",
              "        text-align: right;\n",
              "    }\n",
              "</style>\n",
              "<table border=\"1\" class=\"dataframe\">\n",
              "  <thead>\n",
              "    <tr style=\"text-align: right;\">\n",
              "      <th></th>\n",
              "      <th>order_id</th>\n",
              "      <th>date</th>\n",
              "      <th>time</th>\n",
              "      <th>order_type</th>\n",
              "      <th>branch_code</th>\n",
              "      <th>order_items</th>\n",
              "      <th>order_price</th>\n",
              "      <th>customer_lat</th>\n",
              "      <th>customer_lon</th>\n",
              "      <th>customerHasloyalty?</th>\n",
              "      <th>distance_to_customer_KM</th>\n",
              "      <th>delivery_fee</th>\n",
              "      <th>node</th>\n",
              "      <th>BK_branch_node</th>\n",
              "      <th>new_calculated_distance</th>\n",
              "    </tr>\n",
              "  </thead>\n",
              "  <tbody>\n",
              "    <tr>\n",
              "      <th>0</th>\n",
              "      <td>ORDA07117</td>\n",
              "      <td>2021-09-09</td>\n",
              "      <td>16:16:54</td>\n",
              "      <td>Dinner</td>\n",
              "      <td>BK</td>\n",
              "      <td>[('Fish&amp;Chips', 3), ('Salmon', 10), ('Shrimp',...</td>\n",
              "      <td>1001.00</td>\n",
              "      <td>-37.822204</td>\n",
              "      <td>144.975708</td>\n",
              "      <td>0</td>\n",
              "      <td>7.446</td>\n",
              "      <td>14.696441</td>\n",
              "      <td>2.700682e+09</td>\n",
              "      <td>1889485053</td>\n",
              "      <td>7.446</td>\n",
              "    </tr>\n",
              "    <tr>\n",
              "      <th>6</th>\n",
              "      <td>ORDA10112</td>\n",
              "      <td>2021-02-12</td>\n",
              "      <td>09:21:07</td>\n",
              "      <td>Breakfast</td>\n",
              "      <td>BK</td>\n",
              "      <td>[('Cereal', 7), ('Eggs', 9), ('Pancake', 4), (...</td>\n",
              "      <td>473.00</td>\n",
              "      <td>-37.807997</td>\n",
              "      <td>144.968795</td>\n",
              "      <td>0</td>\n",
              "      <td>6.913</td>\n",
              "      <td>11.814639</td>\n",
              "      <td>2.518598e+08</td>\n",
              "      <td>1889485053</td>\n",
              "      <td>6.913</td>\n",
              "    </tr>\n",
              "    <tr>\n",
              "      <th>7</th>\n",
              "      <td>ORDK06856</td>\n",
              "      <td>2021-10-24</td>\n",
              "      <td>17:48:10</td>\n",
              "      <td>Dinner</td>\n",
              "      <td>BK</td>\n",
              "      <td>[('Salmon', 3), ('Fish&amp;Chips', 3), ('Shrimp', ...</td>\n",
              "      <td>665.00</td>\n",
              "      <td>-37.815824</td>\n",
              "      <td>144.992110</td>\n",
              "      <td>0</td>\n",
              "      <td>5.307</td>\n",
              "      <td>14.561978</td>\n",
              "      <td>4.315300e+09</td>\n",
              "      <td>1889485053</td>\n",
              "      <td>5.307</td>\n",
              "    </tr>\n",
              "    <tr>\n",
              "      <th>8</th>\n",
              "      <td>ORDA00203</td>\n",
              "      <td>2021-03-05</td>\n",
              "      <td>10:01:41</td>\n",
              "      <td>Breakfast</td>\n",
              "      <td>BK</td>\n",
              "      <td>[('Pancake', 9), ('Eggs', 10), ('Coffee', 1), ...</td>\n",
              "      <td>595.75</td>\n",
              "      <td>-37.803123</td>\n",
              "      <td>144.961601</td>\n",
              "      <td>0</td>\n",
              "      <td>7.862</td>\n",
              "      <td>13.415311</td>\n",
              "      <td>3.127183e+08</td>\n",
              "      <td>1889485053</td>\n",
              "      <td>7.862</td>\n",
              "    </tr>\n",
              "    <tr>\n",
              "      <th>12</th>\n",
              "      <td>ORDX04680</td>\n",
              "      <td>2021-09-26</td>\n",
              "      <td>16:47:19</td>\n",
              "      <td>Dinner</td>\n",
              "      <td>BK</td>\n",
              "      <td>[('Fish&amp;Chips', 3), ('Salmon', 9)]</td>\n",
              "      <td>474.00</td>\n",
              "      <td>-37.804002</td>\n",
              "      <td>144.968017</td>\n",
              "      <td>0</td>\n",
              "      <td>7.278</td>\n",
              "      <td>16.650184</td>\n",
              "      <td>3.189789e+09</td>\n",
              "      <td>1889485053</td>\n",
              "      <td>7.278</td>\n",
              "    </tr>\n",
              "  </tbody>\n",
              "</table>\n",
              "</div>\n",
              "      <button class=\"colab-df-convert\" onclick=\"convertToInteractive('df-d7dc031c-1be2-4c84-b58b-e600ab981a10')\"\n",
              "              title=\"Convert this dataframe to an interactive table.\"\n",
              "              style=\"display:none;\">\n",
              "        \n",
              "  <svg xmlns=\"http://www.w3.org/2000/svg\" height=\"24px\"viewBox=\"0 0 24 24\"\n",
              "       width=\"24px\">\n",
              "    <path d=\"M0 0h24v24H0V0z\" fill=\"none\"/>\n",
              "    <path d=\"M18.56 5.44l.94 2.06.94-2.06 2.06-.94-2.06-.94-.94-2.06-.94 2.06-2.06.94zm-11 1L8.5 8.5l.94-2.06 2.06-.94-2.06-.94L8.5 2.5l-.94 2.06-2.06.94zm10 10l.94 2.06.94-2.06 2.06-.94-2.06-.94-.94-2.06-.94 2.06-2.06.94z\"/><path d=\"M17.41 7.96l-1.37-1.37c-.4-.4-.92-.59-1.43-.59-.52 0-1.04.2-1.43.59L10.3 9.45l-7.72 7.72c-.78.78-.78 2.05 0 2.83L4 21.41c.39.39.9.59 1.41.59.51 0 1.02-.2 1.41-.59l7.78-7.78 2.81-2.81c.8-.78.8-2.07 0-2.86zM5.41 20L4 18.59l7.72-7.72 1.47 1.35L5.41 20z\"/>\n",
              "  </svg>\n",
              "      </button>\n",
              "      \n",
              "  <style>\n",
              "    .colab-df-container {\n",
              "      display:flex;\n",
              "      flex-wrap:wrap;\n",
              "      gap: 12px;\n",
              "    }\n",
              "\n",
              "    .colab-df-convert {\n",
              "      background-color: #E8F0FE;\n",
              "      border: none;\n",
              "      border-radius: 50%;\n",
              "      cursor: pointer;\n",
              "      display: none;\n",
              "      fill: #1967D2;\n",
              "      height: 32px;\n",
              "      padding: 0 0 0 0;\n",
              "      width: 32px;\n",
              "    }\n",
              "\n",
              "    .colab-df-convert:hover {\n",
              "      background-color: #E2EBFA;\n",
              "      box-shadow: 0px 1px 2px rgba(60, 64, 67, 0.3), 0px 1px 3px 1px rgba(60, 64, 67, 0.15);\n",
              "      fill: #174EA6;\n",
              "    }\n",
              "\n",
              "    [theme=dark] .colab-df-convert {\n",
              "      background-color: #3B4455;\n",
              "      fill: #D2E3FC;\n",
              "    }\n",
              "\n",
              "    [theme=dark] .colab-df-convert:hover {\n",
              "      background-color: #434B5C;\n",
              "      box-shadow: 0px 1px 3px 1px rgba(0, 0, 0, 0.15);\n",
              "      filter: drop-shadow(0px 1px 2px rgba(0, 0, 0, 0.3));\n",
              "      fill: #FFFFFF;\n",
              "    }\n",
              "  </style>\n",
              "\n",
              "      <script>\n",
              "        const buttonEl =\n",
              "          document.querySelector('#df-d7dc031c-1be2-4c84-b58b-e600ab981a10 button.colab-df-convert');\n",
              "        buttonEl.style.display =\n",
              "          google.colab.kernel.accessAllowed ? 'block' : 'none';\n",
              "\n",
              "        async function convertToInteractive(key) {\n",
              "          const element = document.querySelector('#df-d7dc031c-1be2-4c84-b58b-e600ab981a10');\n",
              "          const dataTable =\n",
              "            await google.colab.kernel.invokeFunction('convertToInteractive',\n",
              "                                                     [key], {});\n",
              "          if (!dataTable) return;\n",
              "\n",
              "          const docLinkHtml = 'Like what you see? Visit the ' +\n",
              "            '<a target=\"_blank\" href=https://colab.research.google.com/notebooks/data_table.ipynb>data table notebook</a>'\n",
              "            + ' to learn more about interactive tables.';\n",
              "          element.innerHTML = '';\n",
              "          dataTable['output_type'] = 'display_data';\n",
              "          await google.colab.output.renderOutput(dataTable, element);\n",
              "          const docLink = document.createElement('div');\n",
              "          docLink.innerHTML = docLinkHtml;\n",
              "          element.appendChild(docLink);\n",
              "        }\n",
              "      </script>\n",
              "    </div>\n",
              "  </div>\n",
              "  "
            ]
          },
          "metadata": {},
          "execution_count": 426
        }
      ]
    },
    {
      "cell_type": "code",
      "source": [
        "# check if the two columns are the same, return 1 if true and 0 otherwise\n",
        "dirty_BK['Diff'] = np.where(dirty_BK['distance_to_customer_KM'] == dirty_BK['new_calculated_distance'] , '1', '0')\n",
        "# check how many rows are same\n",
        "dirty_BK['Diff'].value_counts()"
      ],
      "metadata": {
        "colab": {
          "base_uri": "https://localhost:8080/"
        },
        "id": "-PDb84PN4Kpw",
        "outputId": "d29c2b5d-8dba-4022-f840-b5735c4b748d"
      },
      "execution_count": 427,
      "outputs": [
        {
          "output_type": "execute_result",
          "data": {
            "text/plain": [
              "1    152\n",
              "0      5\n",
              "Name: Diff, dtype: int64"
            ]
          },
          "metadata": {},
          "execution_count": 427
        }
      ]
    },
    {
      "cell_type": "code",
      "source": [
        "dirty_BK[dirty_BK['Diff'] == '0']"
      ],
      "metadata": {
        "colab": {
          "base_uri": "https://localhost:8080/",
          "height": 496
        },
        "id": "bTZ4bkN-4z2B",
        "outputId": "546e0f0a-0394-418e-9983-66e0110c33f5"
      },
      "execution_count": 428,
      "outputs": [
        {
          "output_type": "execute_result",
          "data": {
            "text/plain": [
              "      order_id        date      time order_type branch_code  \\\n",
              "63   ORDK02624  2021-06-05  13:04:13      Lunch          BK   \n",
              "210  ORDK07094  2021-12-02  19:09:17     Dinner          BK   \n",
              "354  ORDJ09323  2021-12-27  20:00:00     Dinner          BK   \n",
              "365  ORDK00179  2021-05-23  12:43:56      Lunch          BK   \n",
              "386  ORDJ10645  2021-01-28  08:50:42  Breakfast          BK   \n",
              "\n",
              "                                           order_items  order_price  \\\n",
              "63   [('Steak', 6), ('Chicken', 5), ('Salad', 5), (...       743.00   \n",
              "210       [('Pasta', 6), ('Salmon', 5), ('Shrimp', 7)]       748.00   \n",
              "354  [('Shrimp', 1), ('Fish&Chips', 9), ('Pasta', 1...      1054.00   \n",
              "365  [('Steak', 6), ('Fries', 9), ('Chicken', 3), (...       742.60   \n",
              "386                    [('Cereal', 8), ('Pancake', 3)]       226.75   \n",
              "\n",
              "     customer_lat  customer_lon  customerHasloyalty?  distance_to_customer_KM  \\\n",
              "63     -37.813473    144.950174                    0                    9.870   \n",
              "210    -37.807754    144.961596                    0                    8.504   \n",
              "354    -37.815006    144.932818                    0                   11.107   \n",
              "365    -37.813532    144.941001                    0                   10.401   \n",
              "386    -37.810420    145.010473                    0                   12.408   \n",
              "\n",
              "     delivery_fee          node BK_branch_node  new_calculated_distance Diff  \n",
              "63      16.715761  7.100491e+08     1889485053                    8.676    0  \n",
              "210     14.049261  6.087942e+09     1889485053                    7.574    0  \n",
              "354     15.131367  6.197212e+09     1889485053                   10.955    0  \n",
              "365     18.158485  6.355297e+08     1889485053                    9.606    0  \n",
              "386     14.646531  2.070859e+08     1889485053                    3.790    0  "
            ],
            "text/html": [
              "\n",
              "  <div id=\"df-b06be46b-4bac-4cc5-97ea-dc65429ec783\">\n",
              "    <div class=\"colab-df-container\">\n",
              "      <div>\n",
              "<style scoped>\n",
              "    .dataframe tbody tr th:only-of-type {\n",
              "        vertical-align: middle;\n",
              "    }\n",
              "\n",
              "    .dataframe tbody tr th {\n",
              "        vertical-align: top;\n",
              "    }\n",
              "\n",
              "    .dataframe thead th {\n",
              "        text-align: right;\n",
              "    }\n",
              "</style>\n",
              "<table border=\"1\" class=\"dataframe\">\n",
              "  <thead>\n",
              "    <tr style=\"text-align: right;\">\n",
              "      <th></th>\n",
              "      <th>order_id</th>\n",
              "      <th>date</th>\n",
              "      <th>time</th>\n",
              "      <th>order_type</th>\n",
              "      <th>branch_code</th>\n",
              "      <th>order_items</th>\n",
              "      <th>order_price</th>\n",
              "      <th>customer_lat</th>\n",
              "      <th>customer_lon</th>\n",
              "      <th>customerHasloyalty?</th>\n",
              "      <th>distance_to_customer_KM</th>\n",
              "      <th>delivery_fee</th>\n",
              "      <th>node</th>\n",
              "      <th>BK_branch_node</th>\n",
              "      <th>new_calculated_distance</th>\n",
              "      <th>Diff</th>\n",
              "    </tr>\n",
              "  </thead>\n",
              "  <tbody>\n",
              "    <tr>\n",
              "      <th>63</th>\n",
              "      <td>ORDK02624</td>\n",
              "      <td>2021-06-05</td>\n",
              "      <td>13:04:13</td>\n",
              "      <td>Lunch</td>\n",
              "      <td>BK</td>\n",
              "      <td>[('Steak', 6), ('Chicken', 5), ('Salad', 5), (...</td>\n",
              "      <td>743.00</td>\n",
              "      <td>-37.813473</td>\n",
              "      <td>144.950174</td>\n",
              "      <td>0</td>\n",
              "      <td>9.870</td>\n",
              "      <td>16.715761</td>\n",
              "      <td>7.100491e+08</td>\n",
              "      <td>1889485053</td>\n",
              "      <td>8.676</td>\n",
              "      <td>0</td>\n",
              "    </tr>\n",
              "    <tr>\n",
              "      <th>210</th>\n",
              "      <td>ORDK07094</td>\n",
              "      <td>2021-12-02</td>\n",
              "      <td>19:09:17</td>\n",
              "      <td>Dinner</td>\n",
              "      <td>BK</td>\n",
              "      <td>[('Pasta', 6), ('Salmon', 5), ('Shrimp', 7)]</td>\n",
              "      <td>748.00</td>\n",
              "      <td>-37.807754</td>\n",
              "      <td>144.961596</td>\n",
              "      <td>0</td>\n",
              "      <td>8.504</td>\n",
              "      <td>14.049261</td>\n",
              "      <td>6.087942e+09</td>\n",
              "      <td>1889485053</td>\n",
              "      <td>7.574</td>\n",
              "      <td>0</td>\n",
              "    </tr>\n",
              "    <tr>\n",
              "      <th>354</th>\n",
              "      <td>ORDJ09323</td>\n",
              "      <td>2021-12-27</td>\n",
              "      <td>20:00:00</td>\n",
              "      <td>Dinner</td>\n",
              "      <td>BK</td>\n",
              "      <td>[('Shrimp', 1), ('Fish&amp;Chips', 9), ('Pasta', 1...</td>\n",
              "      <td>1054.00</td>\n",
              "      <td>-37.815006</td>\n",
              "      <td>144.932818</td>\n",
              "      <td>0</td>\n",
              "      <td>11.107</td>\n",
              "      <td>15.131367</td>\n",
              "      <td>6.197212e+09</td>\n",
              "      <td>1889485053</td>\n",
              "      <td>10.955</td>\n",
              "      <td>0</td>\n",
              "    </tr>\n",
              "    <tr>\n",
              "      <th>365</th>\n",
              "      <td>ORDK00179</td>\n",
              "      <td>2021-05-23</td>\n",
              "      <td>12:43:56</td>\n",
              "      <td>Lunch</td>\n",
              "      <td>BK</td>\n",
              "      <td>[('Steak', 6), ('Fries', 9), ('Chicken', 3), (...</td>\n",
              "      <td>742.60</td>\n",
              "      <td>-37.813532</td>\n",
              "      <td>144.941001</td>\n",
              "      <td>0</td>\n",
              "      <td>10.401</td>\n",
              "      <td>18.158485</td>\n",
              "      <td>6.355297e+08</td>\n",
              "      <td>1889485053</td>\n",
              "      <td>9.606</td>\n",
              "      <td>0</td>\n",
              "    </tr>\n",
              "    <tr>\n",
              "      <th>386</th>\n",
              "      <td>ORDJ10645</td>\n",
              "      <td>2021-01-28</td>\n",
              "      <td>08:50:42</td>\n",
              "      <td>Breakfast</td>\n",
              "      <td>BK</td>\n",
              "      <td>[('Cereal', 8), ('Pancake', 3)]</td>\n",
              "      <td>226.75</td>\n",
              "      <td>-37.810420</td>\n",
              "      <td>145.010473</td>\n",
              "      <td>0</td>\n",
              "      <td>12.408</td>\n",
              "      <td>14.646531</td>\n",
              "      <td>2.070859e+08</td>\n",
              "      <td>1889485053</td>\n",
              "      <td>3.790</td>\n",
              "      <td>0</td>\n",
              "    </tr>\n",
              "  </tbody>\n",
              "</table>\n",
              "</div>\n",
              "      <button class=\"colab-df-convert\" onclick=\"convertToInteractive('df-b06be46b-4bac-4cc5-97ea-dc65429ec783')\"\n",
              "              title=\"Convert this dataframe to an interactive table.\"\n",
              "              style=\"display:none;\">\n",
              "        \n",
              "  <svg xmlns=\"http://www.w3.org/2000/svg\" height=\"24px\"viewBox=\"0 0 24 24\"\n",
              "       width=\"24px\">\n",
              "    <path d=\"M0 0h24v24H0V0z\" fill=\"none\"/>\n",
              "    <path d=\"M18.56 5.44l.94 2.06.94-2.06 2.06-.94-2.06-.94-.94-2.06-.94 2.06-2.06.94zm-11 1L8.5 8.5l.94-2.06 2.06-.94-2.06-.94L8.5 2.5l-.94 2.06-2.06.94zm10 10l.94 2.06.94-2.06 2.06-.94-2.06-.94-.94-2.06-.94 2.06-2.06.94z\"/><path d=\"M17.41 7.96l-1.37-1.37c-.4-.4-.92-.59-1.43-.59-.52 0-1.04.2-1.43.59L10.3 9.45l-7.72 7.72c-.78.78-.78 2.05 0 2.83L4 21.41c.39.39.9.59 1.41.59.51 0 1.02-.2 1.41-.59l7.78-7.78 2.81-2.81c.8-.78.8-2.07 0-2.86zM5.41 20L4 18.59l7.72-7.72 1.47 1.35L5.41 20z\"/>\n",
              "  </svg>\n",
              "      </button>\n",
              "      \n",
              "  <style>\n",
              "    .colab-df-container {\n",
              "      display:flex;\n",
              "      flex-wrap:wrap;\n",
              "      gap: 12px;\n",
              "    }\n",
              "\n",
              "    .colab-df-convert {\n",
              "      background-color: #E8F0FE;\n",
              "      border: none;\n",
              "      border-radius: 50%;\n",
              "      cursor: pointer;\n",
              "      display: none;\n",
              "      fill: #1967D2;\n",
              "      height: 32px;\n",
              "      padding: 0 0 0 0;\n",
              "      width: 32px;\n",
              "    }\n",
              "\n",
              "    .colab-df-convert:hover {\n",
              "      background-color: #E2EBFA;\n",
              "      box-shadow: 0px 1px 2px rgba(60, 64, 67, 0.3), 0px 1px 3px 1px rgba(60, 64, 67, 0.15);\n",
              "      fill: #174EA6;\n",
              "    }\n",
              "\n",
              "    [theme=dark] .colab-df-convert {\n",
              "      background-color: #3B4455;\n",
              "      fill: #D2E3FC;\n",
              "    }\n",
              "\n",
              "    [theme=dark] .colab-df-convert:hover {\n",
              "      background-color: #434B5C;\n",
              "      box-shadow: 0px 1px 3px 1px rgba(0, 0, 0, 0.15);\n",
              "      filter: drop-shadow(0px 1px 2px rgba(0, 0, 0, 0.3));\n",
              "      fill: #FFFFFF;\n",
              "    }\n",
              "  </style>\n",
              "\n",
              "      <script>\n",
              "        const buttonEl =\n",
              "          document.querySelector('#df-b06be46b-4bac-4cc5-97ea-dc65429ec783 button.colab-df-convert');\n",
              "        buttonEl.style.display =\n",
              "          google.colab.kernel.accessAllowed ? 'block' : 'none';\n",
              "\n",
              "        async function convertToInteractive(key) {\n",
              "          const element = document.querySelector('#df-b06be46b-4bac-4cc5-97ea-dc65429ec783');\n",
              "          const dataTable =\n",
              "            await google.colab.kernel.invokeFunction('convertToInteractive',\n",
              "                                                     [key], {});\n",
              "          if (!dataTable) return;\n",
              "\n",
              "          const docLinkHtml = 'Like what you see? Visit the ' +\n",
              "            '<a target=\"_blank\" href=https://colab.research.google.com/notebooks/data_table.ipynb>data table notebook</a>'\n",
              "            + ' to learn more about interactive tables.';\n",
              "          element.innerHTML = '';\n",
              "          dataTable['output_type'] = 'display_data';\n",
              "          await google.colab.output.renderOutput(dataTable, element);\n",
              "          const docLink = document.createElement('div');\n",
              "          docLink.innerHTML = docLinkHtml;\n",
              "          element.appendChild(docLink);\n",
              "        }\n",
              "      </script>\n",
              "    </div>\n",
              "  </div>\n",
              "  "
            ]
          },
          "metadata": {},
          "execution_count": 428
        }
      ]
    },
    {
      "cell_type": "code",
      "source": [
        "dirty_NS = dirty[dirty['branch_code'] == 'NS']"
      ],
      "metadata": {
        "id": "ZoPLq7fB5PLt"
      },
      "execution_count": 429,
      "outputs": []
    },
    {
      "cell_type": "code",
      "source": [
        "# Add branch code node\n",
        "dirty_NS['NS_branch_node'] = '2455254505'"
      ],
      "metadata": {
        "colab": {
          "base_uri": "https://localhost:8080/"
        },
        "id": "k_ju1RJv5q7k",
        "outputId": "58875fe6-09e4-45d7-ce2d-0d80ab9fce2c"
      },
      "execution_count": 430,
      "outputs": [
        {
          "output_type": "stream",
          "name": "stderr",
          "text": [
            "/usr/local/lib/python3.7/dist-packages/ipykernel_launcher.py:2: SettingWithCopyWarning: \n",
            "A value is trying to be set on a copy of a slice from a DataFrame.\n",
            "Try using .loc[row_indexer,col_indexer] = value instead\n",
            "\n",
            "See the caveats in the documentation: https://pandas.pydata.org/pandas-docs/stable/user_guide/indexing.html#returning-a-view-versus-a-copy\n",
            "  \n"
          ]
        }
      ]
    },
    {
      "cell_type": "code",
      "source": [
        "# Get distance to NS branch\n",
        "\n",
        "NS_distance_list = []\n",
        "for index, row in dirty_NS.iterrows():\n",
        "  NS_distance_list.append((nx.dijkstra_path_length(G,int(row['node']),int(row['NS_branch_node']))))  \n",
        "\n",
        "NS_distance_list = [item/1000 for item in NS_distance_list]\n",
        "print(len(NS_distance_list))\n",
        "NS_distance_list[0:10]"
      ],
      "metadata": {
        "colab": {
          "base_uri": "https://localhost:8080/"
        },
        "id": "vhnlGH0b55jh",
        "outputId": "d03de2c9-b5fd-42a5-c9ee-cdcf1ea5e6ff"
      },
      "execution_count": 431,
      "outputs": [
        {
          "output_type": "stream",
          "name": "stdout",
          "text": [
            "187\n"
          ]
        },
        {
          "output_type": "execute_result",
          "data": {
            "text/plain": [
              "[8.944, 8.551, 8.582, 7.686, 10.125, 9.794, 9.797, 9.865, 9.554, 8.875]"
            ]
          },
          "metadata": {},
          "execution_count": 431
        }
      ]
    },
    {
      "cell_type": "code",
      "source": [
        "# Add new column to dataframe\n",
        "dirty_NS = dirty_NS.assign(new_calculated_distance = NS_distance_list)\n",
        "\n",
        "print(dirty_NS.shape)\n",
        "dirty_NS.head()"
      ],
      "metadata": {
        "colab": {
          "base_uri": "https://localhost:8080/",
          "height": 513
        },
        "id": "zuFG-I0Y6JKn",
        "outputId": "66324480-c74b-47ae-dab5-b4b267f49b12"
      },
      "execution_count": 432,
      "outputs": [
        {
          "output_type": "stream",
          "name": "stdout",
          "text": [
            "(187, 15)\n"
          ]
        },
        {
          "output_type": "execute_result",
          "data": {
            "text/plain": [
              "     order_id        date      time order_type branch_code  \\\n",
              "1   ORDZ07064  2021-01-19  08:30:25  Breakfast          NS   \n",
              "4   ORDC02969  2021-10-08  17:17:44     Dinner          NS   \n",
              "9   ORDI09527  2021-07-25  14:45:38      Lunch          NS   \n",
              "14  ORDZ05897  2021-02-13  09:21:07  Breakfast          NS   \n",
              "18  ORDZ06593  2021-06-03  13:04:13      Lunch          NS   \n",
              "\n",
              "                                          order_items  order_price  \\\n",
              "1                       [('Cereal', 10), ('Eggs', 9)]       389.00   \n",
              "4    [('Salmon', 5), ('Pasta', 3), ('Fish&Chips', 5)]       462.50   \n",
              "9   [('Steak', 1), ('Salad', 4), ('Burger', 1), ('...       252.80   \n",
              "14                    [('Cereal', 6), ('Pancake', 5)]       231.25   \n",
              "18  [('Fries', 3), ('Salad', 5), ('Chicken', 2), (...       459.00   \n",
              "\n",
              "    customer_lat  customer_lon  customerHasloyalty?  distance_to_customer_KM  \\\n",
              "1     -37.799833    144.939835                    1                    8.944   \n",
              "4     -37.804378    144.993297                    0                    8.551   \n",
              "9     -37.813115    144.951406                    0                    8.582   \n",
              "14    -37.813167    144.972865                    0                    7.686   \n",
              "18    -37.814246    144.935278                    0                   10.125   \n",
              "\n",
              "    delivery_fee          node NS_branch_node  new_calculated_distance  \n",
              "1      14.147243  1.371482e+08     2455254505                    8.944  \n",
              "4      14.187069  3.360747e+09     2455254505                    8.551  \n",
              "9      15.586482  1.492146e+09     2455254505                    8.582  \n",
              "14     14.196041  2.550595e+08     2455254505                    7.686  \n",
              "18     15.480441  7.099701e+08     2455254505                   10.125  "
            ],
            "text/html": [
              "\n",
              "  <div id=\"df-b89cc47d-703f-4154-9c89-92d292581a53\">\n",
              "    <div class=\"colab-df-container\">\n",
              "      <div>\n",
              "<style scoped>\n",
              "    .dataframe tbody tr th:only-of-type {\n",
              "        vertical-align: middle;\n",
              "    }\n",
              "\n",
              "    .dataframe tbody tr th {\n",
              "        vertical-align: top;\n",
              "    }\n",
              "\n",
              "    .dataframe thead th {\n",
              "        text-align: right;\n",
              "    }\n",
              "</style>\n",
              "<table border=\"1\" class=\"dataframe\">\n",
              "  <thead>\n",
              "    <tr style=\"text-align: right;\">\n",
              "      <th></th>\n",
              "      <th>order_id</th>\n",
              "      <th>date</th>\n",
              "      <th>time</th>\n",
              "      <th>order_type</th>\n",
              "      <th>branch_code</th>\n",
              "      <th>order_items</th>\n",
              "      <th>order_price</th>\n",
              "      <th>customer_lat</th>\n",
              "      <th>customer_lon</th>\n",
              "      <th>customerHasloyalty?</th>\n",
              "      <th>distance_to_customer_KM</th>\n",
              "      <th>delivery_fee</th>\n",
              "      <th>node</th>\n",
              "      <th>NS_branch_node</th>\n",
              "      <th>new_calculated_distance</th>\n",
              "    </tr>\n",
              "  </thead>\n",
              "  <tbody>\n",
              "    <tr>\n",
              "      <th>1</th>\n",
              "      <td>ORDZ07064</td>\n",
              "      <td>2021-01-19</td>\n",
              "      <td>08:30:25</td>\n",
              "      <td>Breakfast</td>\n",
              "      <td>NS</td>\n",
              "      <td>[('Cereal', 10), ('Eggs', 9)]</td>\n",
              "      <td>389.00</td>\n",
              "      <td>-37.799833</td>\n",
              "      <td>144.939835</td>\n",
              "      <td>1</td>\n",
              "      <td>8.944</td>\n",
              "      <td>14.147243</td>\n",
              "      <td>1.371482e+08</td>\n",
              "      <td>2455254505</td>\n",
              "      <td>8.944</td>\n",
              "    </tr>\n",
              "    <tr>\n",
              "      <th>4</th>\n",
              "      <td>ORDC02969</td>\n",
              "      <td>2021-10-08</td>\n",
              "      <td>17:17:44</td>\n",
              "      <td>Dinner</td>\n",
              "      <td>NS</td>\n",
              "      <td>[('Salmon', 5), ('Pasta', 3), ('Fish&amp;Chips', 5)]</td>\n",
              "      <td>462.50</td>\n",
              "      <td>-37.804378</td>\n",
              "      <td>144.993297</td>\n",
              "      <td>0</td>\n",
              "      <td>8.551</td>\n",
              "      <td>14.187069</td>\n",
              "      <td>3.360747e+09</td>\n",
              "      <td>2455254505</td>\n",
              "      <td>8.551</td>\n",
              "    </tr>\n",
              "    <tr>\n",
              "      <th>9</th>\n",
              "      <td>ORDI09527</td>\n",
              "      <td>2021-07-25</td>\n",
              "      <td>14:45:38</td>\n",
              "      <td>Lunch</td>\n",
              "      <td>NS</td>\n",
              "      <td>[('Steak', 1), ('Salad', 4), ('Burger', 1), ('...</td>\n",
              "      <td>252.80</td>\n",
              "      <td>-37.813115</td>\n",
              "      <td>144.951406</td>\n",
              "      <td>0</td>\n",
              "      <td>8.582</td>\n",
              "      <td>15.586482</td>\n",
              "      <td>1.492146e+09</td>\n",
              "      <td>2455254505</td>\n",
              "      <td>8.582</td>\n",
              "    </tr>\n",
              "    <tr>\n",
              "      <th>14</th>\n",
              "      <td>ORDZ05897</td>\n",
              "      <td>2021-02-13</td>\n",
              "      <td>09:21:07</td>\n",
              "      <td>Breakfast</td>\n",
              "      <td>NS</td>\n",
              "      <td>[('Cereal', 6), ('Pancake', 5)]</td>\n",
              "      <td>231.25</td>\n",
              "      <td>-37.813167</td>\n",
              "      <td>144.972865</td>\n",
              "      <td>0</td>\n",
              "      <td>7.686</td>\n",
              "      <td>14.196041</td>\n",
              "      <td>2.550595e+08</td>\n",
              "      <td>2455254505</td>\n",
              "      <td>7.686</td>\n",
              "    </tr>\n",
              "    <tr>\n",
              "      <th>18</th>\n",
              "      <td>ORDZ06593</td>\n",
              "      <td>2021-06-03</td>\n",
              "      <td>13:04:13</td>\n",
              "      <td>Lunch</td>\n",
              "      <td>NS</td>\n",
              "      <td>[('Fries', 3), ('Salad', 5), ('Chicken', 2), (...</td>\n",
              "      <td>459.00</td>\n",
              "      <td>-37.814246</td>\n",
              "      <td>144.935278</td>\n",
              "      <td>0</td>\n",
              "      <td>10.125</td>\n",
              "      <td>15.480441</td>\n",
              "      <td>7.099701e+08</td>\n",
              "      <td>2455254505</td>\n",
              "      <td>10.125</td>\n",
              "    </tr>\n",
              "  </tbody>\n",
              "</table>\n",
              "</div>\n",
              "      <button class=\"colab-df-convert\" onclick=\"convertToInteractive('df-b89cc47d-703f-4154-9c89-92d292581a53')\"\n",
              "              title=\"Convert this dataframe to an interactive table.\"\n",
              "              style=\"display:none;\">\n",
              "        \n",
              "  <svg xmlns=\"http://www.w3.org/2000/svg\" height=\"24px\"viewBox=\"0 0 24 24\"\n",
              "       width=\"24px\">\n",
              "    <path d=\"M0 0h24v24H0V0z\" fill=\"none\"/>\n",
              "    <path d=\"M18.56 5.44l.94 2.06.94-2.06 2.06-.94-2.06-.94-.94-2.06-.94 2.06-2.06.94zm-11 1L8.5 8.5l.94-2.06 2.06-.94-2.06-.94L8.5 2.5l-.94 2.06-2.06.94zm10 10l.94 2.06.94-2.06 2.06-.94-2.06-.94-.94-2.06-.94 2.06-2.06.94z\"/><path d=\"M17.41 7.96l-1.37-1.37c-.4-.4-.92-.59-1.43-.59-.52 0-1.04.2-1.43.59L10.3 9.45l-7.72 7.72c-.78.78-.78 2.05 0 2.83L4 21.41c.39.39.9.59 1.41.59.51 0 1.02-.2 1.41-.59l7.78-7.78 2.81-2.81c.8-.78.8-2.07 0-2.86zM5.41 20L4 18.59l7.72-7.72 1.47 1.35L5.41 20z\"/>\n",
              "  </svg>\n",
              "      </button>\n",
              "      \n",
              "  <style>\n",
              "    .colab-df-container {\n",
              "      display:flex;\n",
              "      flex-wrap:wrap;\n",
              "      gap: 12px;\n",
              "    }\n",
              "\n",
              "    .colab-df-convert {\n",
              "      background-color: #E8F0FE;\n",
              "      border: none;\n",
              "      border-radius: 50%;\n",
              "      cursor: pointer;\n",
              "      display: none;\n",
              "      fill: #1967D2;\n",
              "      height: 32px;\n",
              "      padding: 0 0 0 0;\n",
              "      width: 32px;\n",
              "    }\n",
              "\n",
              "    .colab-df-convert:hover {\n",
              "      background-color: #E2EBFA;\n",
              "      box-shadow: 0px 1px 2px rgba(60, 64, 67, 0.3), 0px 1px 3px 1px rgba(60, 64, 67, 0.15);\n",
              "      fill: #174EA6;\n",
              "    }\n",
              "\n",
              "    [theme=dark] .colab-df-convert {\n",
              "      background-color: #3B4455;\n",
              "      fill: #D2E3FC;\n",
              "    }\n",
              "\n",
              "    [theme=dark] .colab-df-convert:hover {\n",
              "      background-color: #434B5C;\n",
              "      box-shadow: 0px 1px 3px 1px rgba(0, 0, 0, 0.15);\n",
              "      filter: drop-shadow(0px 1px 2px rgba(0, 0, 0, 0.3));\n",
              "      fill: #FFFFFF;\n",
              "    }\n",
              "  </style>\n",
              "\n",
              "      <script>\n",
              "        const buttonEl =\n",
              "          document.querySelector('#df-b89cc47d-703f-4154-9c89-92d292581a53 button.colab-df-convert');\n",
              "        buttonEl.style.display =\n",
              "          google.colab.kernel.accessAllowed ? 'block' : 'none';\n",
              "\n",
              "        async function convertToInteractive(key) {\n",
              "          const element = document.querySelector('#df-b89cc47d-703f-4154-9c89-92d292581a53');\n",
              "          const dataTable =\n",
              "            await google.colab.kernel.invokeFunction('convertToInteractive',\n",
              "                                                     [key], {});\n",
              "          if (!dataTable) return;\n",
              "\n",
              "          const docLinkHtml = 'Like what you see? Visit the ' +\n",
              "            '<a target=\"_blank\" href=https://colab.research.google.com/notebooks/data_table.ipynb>data table notebook</a>'\n",
              "            + ' to learn more about interactive tables.';\n",
              "          element.innerHTML = '';\n",
              "          dataTable['output_type'] = 'display_data';\n",
              "          await google.colab.output.renderOutput(dataTable, element);\n",
              "          const docLink = document.createElement('div');\n",
              "          docLink.innerHTML = docLinkHtml;\n",
              "          element.appendChild(docLink);\n",
              "        }\n",
              "      </script>\n",
              "    </div>\n",
              "  </div>\n",
              "  "
            ]
          },
          "metadata": {},
          "execution_count": 432
        }
      ]
    },
    {
      "cell_type": "code",
      "source": [
        "# check if the two columns are the same, return 1 if true or 0 otherwise\n",
        "dirty_NS['Diff'] = np.where(dirty_NS['distance_to_customer_KM'] == dirty_NS['new_calculated_distance'] , '1', '0')\n",
        "# check how many rows are same\n",
        "dirty_NS['Diff'].value_counts()"
      ],
      "metadata": {
        "colab": {
          "base_uri": "https://localhost:8080/"
        },
        "id": "o7TuhPeh6SJc",
        "outputId": "183ec86b-d645-48be-c6c8-d62dc969aab0"
      },
      "execution_count": 433,
      "outputs": [
        {
          "output_type": "execute_result",
          "data": {
            "text/plain": [
              "1    184\n",
              "0      3\n",
              "Name: Diff, dtype: int64"
            ]
          },
          "metadata": {},
          "execution_count": 433
        }
      ]
    },
    {
      "cell_type": "code",
      "source": [
        "# Look at TP branch code\n",
        "dirty_TP = dirty[dirty['branch_code'] == 'TP']"
      ],
      "metadata": {
        "id": "FU8lHT196XOg"
      },
      "execution_count": 434,
      "outputs": []
    },
    {
      "cell_type": "code",
      "source": [
        "# Add TP branch code node to dataframe\n",
        "dirty_TP['TP_branch_node'] = '1390575046' "
      ],
      "metadata": {
        "colab": {
          "base_uri": "https://localhost:8080/"
        },
        "id": "rvpS_hET6dwt",
        "outputId": "a8823055-b2f8-474f-ab1a-fc016460b6d5"
      },
      "execution_count": 435,
      "outputs": [
        {
          "output_type": "stream",
          "name": "stderr",
          "text": [
            "/usr/local/lib/python3.7/dist-packages/ipykernel_launcher.py:2: SettingWithCopyWarning: \n",
            "A value is trying to be set on a copy of a slice from a DataFrame.\n",
            "Try using .loc[row_indexer,col_indexer] = value instead\n",
            "\n",
            "See the caveats in the documentation: https://pandas.pydata.org/pandas-docs/stable/user_guide/indexing.html#returning-a-view-versus-a-copy\n",
            "  \n"
          ]
        }
      ]
    },
    {
      "cell_type": "code",
      "source": [
        "# Get distance to TP branch\n",
        "\n",
        "TP_distance_list = []\n",
        "for index, row in dirty_TP.iterrows():\n",
        "  TP_distance_list.append((nx.dijkstra_path_length(G,int(row['node']),int(row['TP_branch_node']))))  \n",
        "\n",
        "TP_distance_list = [item/1000 for item in TP_distance_list]\n",
        "print(len(TP_distance_list))\n",
        "TP_distance_list[0:10]"
      ],
      "metadata": {
        "colab": {
          "base_uri": "https://localhost:8080/"
        },
        "id": "jYGKtJTU6lTO",
        "outputId": "13837210-9b55-496b-ef4f-1ea741e23902"
      },
      "execution_count": 436,
      "outputs": [
        {
          "output_type": "stream",
          "name": "stdout",
          "text": [
            "152\n"
          ]
        },
        {
          "output_type": "execute_result",
          "data": {
            "text/plain": [
              "[9.196, 8.202, 7.576, 10.688, 8.848, 12.817, 8.675, 8.823, 9.176, 12.196]"
            ]
          },
          "metadata": {},
          "execution_count": 436
        }
      ]
    },
    {
      "cell_type": "code",
      "source": [
        "# Add new column to dataframe\n",
        "dirty_TP = dirty_TP.assign(new_calculated_distance = TP_distance_list)\n",
        "\n",
        "print(dirty_TP.shape)\n",
        "dirty_TP.head()"
      ],
      "metadata": {
        "colab": {
          "base_uri": "https://localhost:8080/",
          "height": 461
        },
        "id": "waMz9HaI6vXw",
        "outputId": "648cec41-6060-433e-92be-2ed6582558cd"
      },
      "execution_count": 437,
      "outputs": [
        {
          "output_type": "stream",
          "name": "stdout",
          "text": [
            "(152, 15)\n"
          ]
        },
        {
          "output_type": "execute_result",
          "data": {
            "text/plain": [
              "     order_id        date      time order_type branch_code  \\\n",
              "2   ORDJ10873  2021-04-16  11:22:49  Breakfast          TP   \n",
              "3   ORDB00540  2021-04-17  11:32:57  Breakfast          TP   \n",
              "5   ORDY02742  2021-02-26  09:51:32  Breakfast          TP   \n",
              "10  ORDY01100  2021-06-28  13:54:55      Lunch          TP   \n",
              "11  ORDY04930  2021-04-15  11:22:49  Breakfast          TP   \n",
              "\n",
              "                                          order_items  order_price  \\\n",
              "2        [('Eggs', 3), ('Pancake', 3), ('Cereal', 9)]       309.75   \n",
              "3                        [('Coffee', 3), ('Eggs', 7)]       163.50   \n",
              "5                     [('Coffee', 2), ('Pancake', 9)]       211.25   \n",
              "10                      [('Burger', 9), ('Salad', 1)]       296.20   \n",
              "11  [('Coffee', 9), ('Cereal', 3), ('Pancake', 4),...       345.50   \n",
              "\n",
              "    customer_lat  customer_lon  customerHasloyalty?  distance_to_customer_KM  \\\n",
              "2     -37.824397    144.988546                    0                    9.196   \n",
              "3     -37.815964    144.972272                    0                    8.202   \n",
              "5     -37.818576    144.966991                    0                    7.576   \n",
              "10    -37.800663    144.943074                    0                   10.688   \n",
              "11    -37.819788    144.980986                    0                    8.848   \n",
              "\n",
              "    delivery_fee         node TP_branch_node  new_calculated_distance  \n",
              "2      11.626007  576860418.0     1390575046                    9.196  \n",
              "3      12.283309  576877847.0     1390575046                    8.202  \n",
              "5      10.634576  294622370.0     1390575046                    7.576  \n",
              "10     13.287810  781155495.0     1390575046                   10.688  \n",
              "11     11.517031  576824420.0     1390575046                    8.848  "
            ],
            "text/html": [
              "\n",
              "  <div id=\"df-66029885-5ed5-4deb-8473-69dafc12e906\">\n",
              "    <div class=\"colab-df-container\">\n",
              "      <div>\n",
              "<style scoped>\n",
              "    .dataframe tbody tr th:only-of-type {\n",
              "        vertical-align: middle;\n",
              "    }\n",
              "\n",
              "    .dataframe tbody tr th {\n",
              "        vertical-align: top;\n",
              "    }\n",
              "\n",
              "    .dataframe thead th {\n",
              "        text-align: right;\n",
              "    }\n",
              "</style>\n",
              "<table border=\"1\" class=\"dataframe\">\n",
              "  <thead>\n",
              "    <tr style=\"text-align: right;\">\n",
              "      <th></th>\n",
              "      <th>order_id</th>\n",
              "      <th>date</th>\n",
              "      <th>time</th>\n",
              "      <th>order_type</th>\n",
              "      <th>branch_code</th>\n",
              "      <th>order_items</th>\n",
              "      <th>order_price</th>\n",
              "      <th>customer_lat</th>\n",
              "      <th>customer_lon</th>\n",
              "      <th>customerHasloyalty?</th>\n",
              "      <th>distance_to_customer_KM</th>\n",
              "      <th>delivery_fee</th>\n",
              "      <th>node</th>\n",
              "      <th>TP_branch_node</th>\n",
              "      <th>new_calculated_distance</th>\n",
              "    </tr>\n",
              "  </thead>\n",
              "  <tbody>\n",
              "    <tr>\n",
              "      <th>2</th>\n",
              "      <td>ORDJ10873</td>\n",
              "      <td>2021-04-16</td>\n",
              "      <td>11:22:49</td>\n",
              "      <td>Breakfast</td>\n",
              "      <td>TP</td>\n",
              "      <td>[('Eggs', 3), ('Pancake', 3), ('Cereal', 9)]</td>\n",
              "      <td>309.75</td>\n",
              "      <td>-37.824397</td>\n",
              "      <td>144.988546</td>\n",
              "      <td>0</td>\n",
              "      <td>9.196</td>\n",
              "      <td>11.626007</td>\n",
              "      <td>576860418.0</td>\n",
              "      <td>1390575046</td>\n",
              "      <td>9.196</td>\n",
              "    </tr>\n",
              "    <tr>\n",
              "      <th>3</th>\n",
              "      <td>ORDB00540</td>\n",
              "      <td>2021-04-17</td>\n",
              "      <td>11:32:57</td>\n",
              "      <td>Breakfast</td>\n",
              "      <td>TP</td>\n",
              "      <td>[('Coffee', 3), ('Eggs', 7)]</td>\n",
              "      <td>163.50</td>\n",
              "      <td>-37.815964</td>\n",
              "      <td>144.972272</td>\n",
              "      <td>0</td>\n",
              "      <td>8.202</td>\n",
              "      <td>12.283309</td>\n",
              "      <td>576877847.0</td>\n",
              "      <td>1390575046</td>\n",
              "      <td>8.202</td>\n",
              "    </tr>\n",
              "    <tr>\n",
              "      <th>5</th>\n",
              "      <td>ORDY02742</td>\n",
              "      <td>2021-02-26</td>\n",
              "      <td>09:51:32</td>\n",
              "      <td>Breakfast</td>\n",
              "      <td>TP</td>\n",
              "      <td>[('Coffee', 2), ('Pancake', 9)]</td>\n",
              "      <td>211.25</td>\n",
              "      <td>-37.818576</td>\n",
              "      <td>144.966991</td>\n",
              "      <td>0</td>\n",
              "      <td>7.576</td>\n",
              "      <td>10.634576</td>\n",
              "      <td>294622370.0</td>\n",
              "      <td>1390575046</td>\n",
              "      <td>7.576</td>\n",
              "    </tr>\n",
              "    <tr>\n",
              "      <th>10</th>\n",
              "      <td>ORDY01100</td>\n",
              "      <td>2021-06-28</td>\n",
              "      <td>13:54:55</td>\n",
              "      <td>Lunch</td>\n",
              "      <td>TP</td>\n",
              "      <td>[('Burger', 9), ('Salad', 1)]</td>\n",
              "      <td>296.20</td>\n",
              "      <td>-37.800663</td>\n",
              "      <td>144.943074</td>\n",
              "      <td>0</td>\n",
              "      <td>10.688</td>\n",
              "      <td>13.287810</td>\n",
              "      <td>781155495.0</td>\n",
              "      <td>1390575046</td>\n",
              "      <td>10.688</td>\n",
              "    </tr>\n",
              "    <tr>\n",
              "      <th>11</th>\n",
              "      <td>ORDY04930</td>\n",
              "      <td>2021-04-15</td>\n",
              "      <td>11:22:49</td>\n",
              "      <td>Breakfast</td>\n",
              "      <td>TP</td>\n",
              "      <td>[('Coffee', 9), ('Cereal', 3), ('Pancake', 4),...</td>\n",
              "      <td>345.50</td>\n",
              "      <td>-37.819788</td>\n",
              "      <td>144.980986</td>\n",
              "      <td>0</td>\n",
              "      <td>8.848</td>\n",
              "      <td>11.517031</td>\n",
              "      <td>576824420.0</td>\n",
              "      <td>1390575046</td>\n",
              "      <td>8.848</td>\n",
              "    </tr>\n",
              "  </tbody>\n",
              "</table>\n",
              "</div>\n",
              "      <button class=\"colab-df-convert\" onclick=\"convertToInteractive('df-66029885-5ed5-4deb-8473-69dafc12e906')\"\n",
              "              title=\"Convert this dataframe to an interactive table.\"\n",
              "              style=\"display:none;\">\n",
              "        \n",
              "  <svg xmlns=\"http://www.w3.org/2000/svg\" height=\"24px\"viewBox=\"0 0 24 24\"\n",
              "       width=\"24px\">\n",
              "    <path d=\"M0 0h24v24H0V0z\" fill=\"none\"/>\n",
              "    <path d=\"M18.56 5.44l.94 2.06.94-2.06 2.06-.94-2.06-.94-.94-2.06-.94 2.06-2.06.94zm-11 1L8.5 8.5l.94-2.06 2.06-.94-2.06-.94L8.5 2.5l-.94 2.06-2.06.94zm10 10l.94 2.06.94-2.06 2.06-.94-2.06-.94-.94-2.06-.94 2.06-2.06.94z\"/><path d=\"M17.41 7.96l-1.37-1.37c-.4-.4-.92-.59-1.43-.59-.52 0-1.04.2-1.43.59L10.3 9.45l-7.72 7.72c-.78.78-.78 2.05 0 2.83L4 21.41c.39.39.9.59 1.41.59.51 0 1.02-.2 1.41-.59l7.78-7.78 2.81-2.81c.8-.78.8-2.07 0-2.86zM5.41 20L4 18.59l7.72-7.72 1.47 1.35L5.41 20z\"/>\n",
              "  </svg>\n",
              "      </button>\n",
              "      \n",
              "  <style>\n",
              "    .colab-df-container {\n",
              "      display:flex;\n",
              "      flex-wrap:wrap;\n",
              "      gap: 12px;\n",
              "    }\n",
              "\n",
              "    .colab-df-convert {\n",
              "      background-color: #E8F0FE;\n",
              "      border: none;\n",
              "      border-radius: 50%;\n",
              "      cursor: pointer;\n",
              "      display: none;\n",
              "      fill: #1967D2;\n",
              "      height: 32px;\n",
              "      padding: 0 0 0 0;\n",
              "      width: 32px;\n",
              "    }\n",
              "\n",
              "    .colab-df-convert:hover {\n",
              "      background-color: #E2EBFA;\n",
              "      box-shadow: 0px 1px 2px rgba(60, 64, 67, 0.3), 0px 1px 3px 1px rgba(60, 64, 67, 0.15);\n",
              "      fill: #174EA6;\n",
              "    }\n",
              "\n",
              "    [theme=dark] .colab-df-convert {\n",
              "      background-color: #3B4455;\n",
              "      fill: #D2E3FC;\n",
              "    }\n",
              "\n",
              "    [theme=dark] .colab-df-convert:hover {\n",
              "      background-color: #434B5C;\n",
              "      box-shadow: 0px 1px 3px 1px rgba(0, 0, 0, 0.15);\n",
              "      filter: drop-shadow(0px 1px 2px rgba(0, 0, 0, 0.3));\n",
              "      fill: #FFFFFF;\n",
              "    }\n",
              "  </style>\n",
              "\n",
              "      <script>\n",
              "        const buttonEl =\n",
              "          document.querySelector('#df-66029885-5ed5-4deb-8473-69dafc12e906 button.colab-df-convert');\n",
              "        buttonEl.style.display =\n",
              "          google.colab.kernel.accessAllowed ? 'block' : 'none';\n",
              "\n",
              "        async function convertToInteractive(key) {\n",
              "          const element = document.querySelector('#df-66029885-5ed5-4deb-8473-69dafc12e906');\n",
              "          const dataTable =\n",
              "            await google.colab.kernel.invokeFunction('convertToInteractive',\n",
              "                                                     [key], {});\n",
              "          if (!dataTable) return;\n",
              "\n",
              "          const docLinkHtml = 'Like what you see? Visit the ' +\n",
              "            '<a target=\"_blank\" href=https://colab.research.google.com/notebooks/data_table.ipynb>data table notebook</a>'\n",
              "            + ' to learn more about interactive tables.';\n",
              "          element.innerHTML = '';\n",
              "          dataTable['output_type'] = 'display_data';\n",
              "          await google.colab.output.renderOutput(dataTable, element);\n",
              "          const docLink = document.createElement('div');\n",
              "          docLink.innerHTML = docLinkHtml;\n",
              "          element.appendChild(docLink);\n",
              "        }\n",
              "      </script>\n",
              "    </div>\n",
              "  </div>\n",
              "  "
            ]
          },
          "metadata": {},
          "execution_count": 437
        }
      ]
    },
    {
      "cell_type": "code",
      "source": [
        "# checking if the two columns are the same value, return 1 if true and 0 otherwise\n",
        "dirty_TP['Diff'] = np.where(dirty_TP['distance_to_customer_KM'] == dirty_TP['new_calculated_distance'] , '1', '0')\n",
        "# check how many rows are same\n",
        "dirty_TP['Diff'].value_counts()"
      ],
      "metadata": {
        "colab": {
          "base_uri": "https://localhost:8080/"
        },
        "id": "smyx82K_64sS",
        "outputId": "cc5035fd-5891-4988-9c26-cce0a0db7769"
      },
      "execution_count": 438,
      "outputs": [
        {
          "output_type": "execute_result",
          "data": {
            "text/plain": [
              "1    146\n",
              "0      6\n",
              "Name: Diff, dtype: int64"
            ]
          },
          "metadata": {},
          "execution_count": 438
        }
      ]
    },
    {
      "cell_type": "code",
      "source": [
        "# Combine all separate datasets\n",
        "dirty = pd.concat([dirty_TP, dirty_BK, dirty_NS], axis=0)"
      ],
      "metadata": {
        "id": "mimWdt967BPE"
      },
      "execution_count": 439,
      "outputs": []
    },
    {
      "cell_type": "code",
      "source": [
        "# Drop any unnecessary columns\n",
        "dirty = dirty.drop(['distance_to_customer_KM', 'node', 'TP_branch_node', 'BK_branch_node', 'NS_branch_node', 'Diff'], axis=1)"
      ],
      "metadata": {
        "id": "Pg2DJ-fO7dJh"
      },
      "execution_count": 440,
      "outputs": []
    },
    {
      "cell_type": "code",
      "source": [
        "# Rename column\n",
        "dirty.rename(columns={'new_calculated_distance':'distance_to_customer_KM'}, inplace=True)"
      ],
      "metadata": {
        "id": "9jb7MgEe7Q9O"
      },
      "execution_count": 441,
      "outputs": []
    },
    {
      "cell_type": "code",
      "source": [
        "dirty = pd.concat([dirty, unfixed], axis=0)"
      ],
      "metadata": {
        "id": "Cp4mjfjj7br1"
      },
      "execution_count": 442,
      "outputs": []
    },
    {
      "cell_type": "code",
      "source": [
        "dirty = dirty.sort_index(axis=0,ascending=True)"
      ],
      "metadata": {
        "id": "sTlK9l5t8Gg7"
      },
      "execution_count": 443,
      "outputs": []
    },
    {
      "cell_type": "code",
      "source": [
        "dirty.at[113,'customer_lat'] = -37.813244\n",
        "dirty.at[146,'customer_lat'] = -37.806476\n",
        "dirty.at[268,'customer_lat'] = -37.820198\n",
        "dirty.at[433,'customer_lat'] = -37.808289"
      ],
      "metadata": {
        "id": "R2Ti2JkwqQfw"
      },
      "execution_count": 444,
      "outputs": []
    },
    {
      "cell_type": "markdown",
      "source": [
        "## 1.6 Customer Loyalty"
      ],
      "metadata": {
        "id": "JjBqIwmKsHJx"
      }
    },
    {
      "cell_type": "markdown",
      "source": [
        "Now, we want to check the customerHasloyalty? column, we can do this by predicting theundiscounted delivery fee and and checking if those are firstly correct based on the predictors then applying the discount and seeing if the final delivery price matches up. "
      ],
      "metadata": {
        "id": "QskGYTDIxAbO"
      }
    },
    {
      "cell_type": "code",
      "source": [
        "dirty['customerHasloyalty?'].value_counts()"
      ],
      "metadata": {
        "colab": {
          "base_uri": "https://localhost:8080/"
        },
        "id": "brQnw0r3-8nY",
        "outputId": "d7c3d0a4-b155-489e-c0b5-6aaf15617edd"
      },
      "execution_count": 445,
      "outputs": [
        {
          "output_type": "execute_result",
          "data": {
            "text/plain": [
              "0    469\n",
              "1     31\n",
              "Name: customerHasloyalty?, dtype: int64"
            ]
          },
          "metadata": {},
          "execution_count": 445
        }
      ]
    },
    {
      "cell_type": "code",
      "source": [
        "from datetime import datetime, time"
      ],
      "metadata": {
        "id": "jtfZ0QIb1na0"
      },
      "execution_count": 446,
      "outputs": []
    },
    {
      "cell_type": "code",
      "source": [
        "dirty['date'] = dirty['date'].apply(lambda date: pd.Series({'date': datetime.strptime(date, '%Y-%m-%d')}))"
      ],
      "metadata": {
        "id": "JBUTc3eKyVuK"
      },
      "execution_count": 447,
      "outputs": []
    },
    {
      "cell_type": "code",
      "source": [
        "# Add day to dataframe\n",
        "dirty = dirty.assign(day_of_week=dirty.date.dt.weekday)"
      ],
      "metadata": {
        "id": "ftlyHV4kyl-Q"
      },
      "execution_count": 448,
      "outputs": []
    },
    {
      "cell_type": "code",
      "source": [
        "# create new column based on day_of_week, if it's weekend assign 1 otherwise 0.\n",
        "dirty['weekend'] = dirty.apply(lambda x: 1 if x['day_of_week'] == 5 \n",
        "                                                 or x['day_of_week'] == 6 else 0, axis=1)\n",
        "print(dirty.shape)"
      ],
      "metadata": {
        "colab": {
          "base_uri": "https://localhost:8080/"
        },
        "id": "X74M8EnzyrkZ",
        "outputId": "9aeec261-81ff-49bf-cdfe-0049f1dced5a"
      },
      "execution_count": 449,
      "outputs": [
        {
          "output_type": "stream",
          "name": "stdout",
          "text": [
            "(500, 14)\n"
          ]
        }
      ]
    },
    {
      "cell_type": "code",
      "source": [
        "# Add new column based on conditions and values\n",
        "\n",
        "conditions = [\n",
        "    (dirty['time'] < '12:00:01'),\n",
        "    (dirty['time'] >= '12:00:01') & (dirty['time'] < '16:00:01'),\n",
        "    (dirty['time'] >= '16:00:01') & (dirty['time'] < '20:00:01')\n",
        "]\n",
        "\n",
        "values = [0, 1, 2]\n",
        "\n",
        "dirty['time_of_day'] = np.select(conditions, values)"
      ],
      "metadata": {
        "id": "NIBUidZry0Py"
      },
      "execution_count": 450,
      "outputs": []
    },
    {
      "cell_type": "code",
      "source": [
        "# Change column name as ? character can cause problems\n",
        "\n",
        "dirty.rename(columns={'customerHasloyalty?':'customerHasloyalty'}, inplace=True)"
      ],
      "metadata": {
        "id": "uQ5JgSaMzAVy"
      },
      "execution_count": 451,
      "outputs": []
    },
    {
      "cell_type": "code",
      "source": [
        "# Add new column for undiscounted delivery fee based on the customerHasloyalty condition\n",
        "\n",
        "conditions = [\n",
        "    (dirty['customerHasloyalty'] == int(1)),\n",
        "    (dirty['customerHasloyalty'] != int(1))\n",
        "    ]\n",
        "\n",
        "values = [2*(dirty['delivery_fee']), (dirty['delivery_fee'])]\n",
        "                                        \n",
        "dirty['undiscounted_delivery_fee'] = np.select(conditions, values)"
      ],
      "metadata": {
        "id": "dFMjy1jBzEbl"
      },
      "execution_count": 452,
      "outputs": []
    },
    {
      "cell_type": "markdown",
      "source": [
        "Run the regresion models built in the missing dataframe"
      ],
      "metadata": {
        "id": "l4wRgVyvu7Wr"
      }
    },
    {
      "cell_type": "code",
      "source": [
        "dirty_NS = dirty[dirty['branch_code'] == 'NS']"
      ],
      "metadata": {
        "id": "H4EJ1lyvzObd"
      },
      "execution_count": 453,
      "outputs": []
    },
    {
      "cell_type": "code",
      "source": [
        "# Y: delivery fee is target variable\n",
        "y = dirty_NS['undiscounted_delivery_fee']\n",
        "\n",
        "# X: 3 independent variables\n",
        "x = dirty_NS[['time_of_day', 'distance_to_customer_KM', 'weekend']]\n",
        "\n",
        "# Encode categorical data\n",
        "x = pd.get_dummies(x)\n",
        "x\n"
      ],
      "metadata": {
        "colab": {
          "base_uri": "https://localhost:8080/",
          "height": 424
        },
        "id": "0PayNMU5z-Ad",
        "outputId": "31c0c018-1f83-4393-9b5c-31186e2d6f33"
      },
      "execution_count": 454,
      "outputs": [
        {
          "output_type": "execute_result",
          "data": {
            "text/plain": [
              "     time_of_day  distance_to_customer_KM  weekend\n",
              "1              0                    8.944        0\n",
              "4              2                    8.551        0\n",
              "9              1                    8.582        1\n",
              "14             0                    7.686        1\n",
              "18             1                   10.125        0\n",
              "..           ...                      ...      ...\n",
              "486            1                    9.805        0\n",
              "488            2                    7.639        1\n",
              "490            2                   11.646        0\n",
              "491            1                    9.563        0\n",
              "494            2                    7.542        1\n",
              "\n",
              "[189 rows x 3 columns]"
            ],
            "text/html": [
              "\n",
              "  <div id=\"df-83859076-40ec-44bb-afa1-a68135e54801\">\n",
              "    <div class=\"colab-df-container\">\n",
              "      <div>\n",
              "<style scoped>\n",
              "    .dataframe tbody tr th:only-of-type {\n",
              "        vertical-align: middle;\n",
              "    }\n",
              "\n",
              "    .dataframe tbody tr th {\n",
              "        vertical-align: top;\n",
              "    }\n",
              "\n",
              "    .dataframe thead th {\n",
              "        text-align: right;\n",
              "    }\n",
              "</style>\n",
              "<table border=\"1\" class=\"dataframe\">\n",
              "  <thead>\n",
              "    <tr style=\"text-align: right;\">\n",
              "      <th></th>\n",
              "      <th>time_of_day</th>\n",
              "      <th>distance_to_customer_KM</th>\n",
              "      <th>weekend</th>\n",
              "    </tr>\n",
              "  </thead>\n",
              "  <tbody>\n",
              "    <tr>\n",
              "      <th>1</th>\n",
              "      <td>0</td>\n",
              "      <td>8.944</td>\n",
              "      <td>0</td>\n",
              "    </tr>\n",
              "    <tr>\n",
              "      <th>4</th>\n",
              "      <td>2</td>\n",
              "      <td>8.551</td>\n",
              "      <td>0</td>\n",
              "    </tr>\n",
              "    <tr>\n",
              "      <th>9</th>\n",
              "      <td>1</td>\n",
              "      <td>8.582</td>\n",
              "      <td>1</td>\n",
              "    </tr>\n",
              "    <tr>\n",
              "      <th>14</th>\n",
              "      <td>0</td>\n",
              "      <td>7.686</td>\n",
              "      <td>1</td>\n",
              "    </tr>\n",
              "    <tr>\n",
              "      <th>18</th>\n",
              "      <td>1</td>\n",
              "      <td>10.125</td>\n",
              "      <td>0</td>\n",
              "    </tr>\n",
              "    <tr>\n",
              "      <th>...</th>\n",
              "      <td>...</td>\n",
              "      <td>...</td>\n",
              "      <td>...</td>\n",
              "    </tr>\n",
              "    <tr>\n",
              "      <th>486</th>\n",
              "      <td>1</td>\n",
              "      <td>9.805</td>\n",
              "      <td>0</td>\n",
              "    </tr>\n",
              "    <tr>\n",
              "      <th>488</th>\n",
              "      <td>2</td>\n",
              "      <td>7.639</td>\n",
              "      <td>1</td>\n",
              "    </tr>\n",
              "    <tr>\n",
              "      <th>490</th>\n",
              "      <td>2</td>\n",
              "      <td>11.646</td>\n",
              "      <td>0</td>\n",
              "    </tr>\n",
              "    <tr>\n",
              "      <th>491</th>\n",
              "      <td>1</td>\n",
              "      <td>9.563</td>\n",
              "      <td>0</td>\n",
              "    </tr>\n",
              "    <tr>\n",
              "      <th>494</th>\n",
              "      <td>2</td>\n",
              "      <td>7.542</td>\n",
              "      <td>1</td>\n",
              "    </tr>\n",
              "  </tbody>\n",
              "</table>\n",
              "<p>189 rows × 3 columns</p>\n",
              "</div>\n",
              "      <button class=\"colab-df-convert\" onclick=\"convertToInteractive('df-83859076-40ec-44bb-afa1-a68135e54801')\"\n",
              "              title=\"Convert this dataframe to an interactive table.\"\n",
              "              style=\"display:none;\">\n",
              "        \n",
              "  <svg xmlns=\"http://www.w3.org/2000/svg\" height=\"24px\"viewBox=\"0 0 24 24\"\n",
              "       width=\"24px\">\n",
              "    <path d=\"M0 0h24v24H0V0z\" fill=\"none\"/>\n",
              "    <path d=\"M18.56 5.44l.94 2.06.94-2.06 2.06-.94-2.06-.94-.94-2.06-.94 2.06-2.06.94zm-11 1L8.5 8.5l.94-2.06 2.06-.94-2.06-.94L8.5 2.5l-.94 2.06-2.06.94zm10 10l.94 2.06.94-2.06 2.06-.94-2.06-.94-.94-2.06-.94 2.06-2.06.94z\"/><path d=\"M17.41 7.96l-1.37-1.37c-.4-.4-.92-.59-1.43-.59-.52 0-1.04.2-1.43.59L10.3 9.45l-7.72 7.72c-.78.78-.78 2.05 0 2.83L4 21.41c.39.39.9.59 1.41.59.51 0 1.02-.2 1.41-.59l7.78-7.78 2.81-2.81c.8-.78.8-2.07 0-2.86zM5.41 20L4 18.59l7.72-7.72 1.47 1.35L5.41 20z\"/>\n",
              "  </svg>\n",
              "      </button>\n",
              "      \n",
              "  <style>\n",
              "    .colab-df-container {\n",
              "      display:flex;\n",
              "      flex-wrap:wrap;\n",
              "      gap: 12px;\n",
              "    }\n",
              "\n",
              "    .colab-df-convert {\n",
              "      background-color: #E8F0FE;\n",
              "      border: none;\n",
              "      border-radius: 50%;\n",
              "      cursor: pointer;\n",
              "      display: none;\n",
              "      fill: #1967D2;\n",
              "      height: 32px;\n",
              "      padding: 0 0 0 0;\n",
              "      width: 32px;\n",
              "    }\n",
              "\n",
              "    .colab-df-convert:hover {\n",
              "      background-color: #E2EBFA;\n",
              "      box-shadow: 0px 1px 2px rgba(60, 64, 67, 0.3), 0px 1px 3px 1px rgba(60, 64, 67, 0.15);\n",
              "      fill: #174EA6;\n",
              "    }\n",
              "\n",
              "    [theme=dark] .colab-df-convert {\n",
              "      background-color: #3B4455;\n",
              "      fill: #D2E3FC;\n",
              "    }\n",
              "\n",
              "    [theme=dark] .colab-df-convert:hover {\n",
              "      background-color: #434B5C;\n",
              "      box-shadow: 0px 1px 3px 1px rgba(0, 0, 0, 0.15);\n",
              "      filter: drop-shadow(0px 1px 2px rgba(0, 0, 0, 0.3));\n",
              "      fill: #FFFFFF;\n",
              "    }\n",
              "  </style>\n",
              "\n",
              "      <script>\n",
              "        const buttonEl =\n",
              "          document.querySelector('#df-83859076-40ec-44bb-afa1-a68135e54801 button.colab-df-convert');\n",
              "        buttonEl.style.display =\n",
              "          google.colab.kernel.accessAllowed ? 'block' : 'none';\n",
              "\n",
              "        async function convertToInteractive(key) {\n",
              "          const element = document.querySelector('#df-83859076-40ec-44bb-afa1-a68135e54801');\n",
              "          const dataTable =\n",
              "            await google.colab.kernel.invokeFunction('convertToInteractive',\n",
              "                                                     [key], {});\n",
              "          if (!dataTable) return;\n",
              "\n",
              "          const docLinkHtml = 'Like what you see? Visit the ' +\n",
              "            '<a target=\"_blank\" href=https://colab.research.google.com/notebooks/data_table.ipynb>data table notebook</a>'\n",
              "            + ' to learn more about interactive tables.';\n",
              "          element.innerHTML = '';\n",
              "          dataTable['output_type'] = 'display_data';\n",
              "          await google.colab.output.renderOutput(dataTable, element);\n",
              "          const docLink = document.createElement('div');\n",
              "          docLink.innerHTML = docLinkHtml;\n",
              "          element.appendChild(docLink);\n",
              "        }\n",
              "      </script>\n",
              "    </div>\n",
              "  </div>\n",
              "  "
            ]
          },
          "metadata": {},
          "execution_count": 454
        }
      ]
    },
    {
      "cell_type": "markdown",
      "source": [
        "We can use the linear regression model used in the missing data frame to train our current dataframe, we can then find the residual values to veerify if the customerloyalty column is correct "
      ],
      "metadata": {
        "id": "J0XzygVCdt7w"
      }
    },
    {
      "cell_type": "code",
      "source": [
        "from sklearn.linear_model import LinearRegression\n",
        "from sklearn import linear_model\n",
        "from sklearn.model_selection import train_test_split"
      ],
      "metadata": {
        "id": "4G3N8EmH0Fir"
      },
      "execution_count": 455,
      "outputs": []
    },
    {
      "cell_type": "code",
      "source": [
        "def linear_regression_model(x, y, training_target = 0.5, max_iter = 1000):\n",
        "    #adjusted R2\n",
        "    r_2 = 0\n",
        "    iteration = 1\n",
        "    # using a linear regression model\n",
        "    linear_reg = linear_model.LinearRegression()\n",
        "    \n",
        "    while(r_2 < training_target and iteration < max_iter):\n",
        "        # splitting train, test dataset 80% and 20%\n",
        "        x_train, x_test, y_train, y_test = train_test_split(x, y, test_size = .2)\n",
        "        # fitting the linear regression\n",
        "        linear_reg.fit(x_train, y_train)\n",
        "        \n",
        "        # looping the model\n",
        "        r_2 = linear_reg.score(x_test, y_test)\n",
        "        iteration += 1\n",
        "        \n",
        "    # evaluate the model by Adjusted R2\n",
        "    print(\"Training R2 \" + str(linear_reg.score(x_train, y_train)))\n",
        "    print(\"Testing R2 \" + str(linear_reg.score(x_test, y_test)))\n",
        "    \n",
        "    return linear_reg"
      ],
      "metadata": {
        "id": "v5QVgdGP0Hwv"
      },
      "execution_count": 456,
      "outputs": []
    },
    {
      "cell_type": "code",
      "source": [
        "# fit the model prediction\n",
        "def linear_prediction_model(linear_reg, x):\n",
        "    predict_variables = pd.get_dummies(x)\n",
        "    predict_delivery_fee = linear_reg.predict(predict_variables)\n",
        "    # set 6 decimals for delivery charge same as original data\n",
        "    predict_delivery_fee = np.around(predict_delivery_fee, decimals = 6)\n",
        "    \n",
        "    return predict_delivery_fee"
      ],
      "metadata": {
        "id": "aeu4ITC50P5n"
      },
      "execution_count": 457,
      "outputs": []
    },
    {
      "cell_type": "code",
      "source": [
        "# delivery fee and other variables\n",
        "linear_reg = linear_regression_model(x, y)\n",
        "predict_variables = dirty_NS[['time_of_day', 'distance_to_customer_KM', 'weekend']]\n",
        "# predict new calculated delivery fee\n",
        "predict_delivery_fee = linear_prediction_model(linear_reg, predict_variables)\n",
        "# add a new column in the dataframe\n",
        "dirty_NS['predict_delivery_fee'] = predict_delivery_fee\n",
        "\n",
        "print(dirty_NS.shape)"
      ],
      "metadata": {
        "colab": {
          "base_uri": "https://localhost:8080/"
        },
        "id": "4QVX2vFO0SOq",
        "outputId": "4b3b8ef4-9aeb-49bd-a5d4-ee959747e76e"
      },
      "execution_count": 458,
      "outputs": [
        {
          "output_type": "stream",
          "name": "stdout",
          "text": [
            "Training R2 0.45444344285186067\n",
            "Testing R2 0.9376762283345242\n",
            "(189, 17)\n"
          ]
        },
        {
          "output_type": "stream",
          "name": "stderr",
          "text": [
            "/usr/local/lib/python3.7/dist-packages/ipykernel_launcher.py:7: SettingWithCopyWarning: \n",
            "A value is trying to be set on a copy of a slice from a DataFrame.\n",
            "Try using .loc[row_indexer,col_indexer] = value instead\n",
            "\n",
            "See the caveats in the documentation: https://pandas.pydata.org/pandas-docs/stable/user_guide/indexing.html#returning-a-view-versus-a-copy\n",
            "  import sys\n"
          ]
        }
      ]
    },
    {
      "cell_type": "markdown",
      "source": [
        "Once we get the residual values, if the residuals are significantly large or signicantly small (negative) we can change the assigned customer loyalty value. If the residual is large change the value from 1 to 0 and if the residual's negative is large, change from 0 to 1"
      ],
      "metadata": {
        "id": "N9a4Ho-jfWcD"
      }
    },
    {
      "cell_type": "code",
      "source": [
        "# Get residuals based on difference between true and predicted values\n",
        "dirty_NS['residual'] = dirty_NS.apply(lambda x: (x['undiscounted_delivery_fee']-x['predict_delivery_fee']), axis=1)"
      ],
      "metadata": {
        "colab": {
          "base_uri": "https://localhost:8080/"
        },
        "id": "UhTFcC1E0jkC",
        "outputId": "e0e3cc32-a8dd-46aa-e6b8-17635652632d"
      },
      "execution_count": 459,
      "outputs": [
        {
          "output_type": "stream",
          "name": "stderr",
          "text": [
            "/usr/local/lib/python3.7/dist-packages/ipykernel_launcher.py:2: SettingWithCopyWarning: \n",
            "A value is trying to be set on a copy of a slice from a DataFrame.\n",
            "Try using .loc[row_indexer,col_indexer] = value instead\n",
            "\n",
            "See the caveats in the documentation: https://pandas.pydata.org/pandas-docs/stable/user_guide/indexing.html#returning-a-view-versus-a-copy\n",
            "  \n"
          ]
        }
      ]
    },
    {
      "cell_type": "code",
      "source": [
        "dirty_NS.residual.describe()"
      ],
      "metadata": {
        "colab": {
          "base_uri": "https://localhost:8080/"
        },
        "id": "-CBjAfBV0uy_",
        "outputId": "6a53141a-61ef-44f2-d6de-22651f1cb1d1"
      },
      "execution_count": 460,
      "outputs": [
        {
          "output_type": "execute_result",
          "data": {
            "text/plain": [
              "count    189.000000\n",
              "mean      -0.032688\n",
              "std        1.355248\n",
              "min       -2.080589\n",
              "25%       -0.443496\n",
              "50%       -0.174379\n",
              "75%        0.146415\n",
              "max       13.813453\n",
              "Name: residual, dtype: float64"
            ]
          },
          "metadata": {},
          "execution_count": 460
        }
      ]
    },
    {
      "cell_type": "code",
      "source": [
        "dirty_NS.customerHasloyalty.value_counts()"
      ],
      "metadata": {
        "colab": {
          "base_uri": "https://localhost:8080/"
        },
        "id": "qF4eBLan1dti",
        "outputId": "18d0a808-1388-4256-e4bf-322e44938592"
      },
      "execution_count": 461,
      "outputs": [
        {
          "output_type": "execute_result",
          "data": {
            "text/plain": [
              "0    180\n",
              "1      9\n",
              "Name: customerHasloyalty, dtype: int64"
            ]
          },
          "metadata": {},
          "execution_count": 461
        }
      ]
    },
    {
      "cell_type": "code",
      "source": [
        "dirty_NS.loc[dirty_NS['residual'] > 5]"
      ],
      "metadata": {
        "colab": {
          "base_uri": "https://localhost:8080/",
          "height": 245
        },
        "id": "iA4QQ_b_16L-",
        "outputId": "50912338-131b-4d06-cd25-d76ee577d736"
      },
      "execution_count": 462,
      "outputs": [
        {
          "output_type": "execute_result",
          "data": {
            "text/plain": [
              "      order_id       date      time order_type branch_code  \\\n",
              "1    ORDZ07064 2021-01-19  08:30:25  Breakfast          NS   \n",
              "282  ORDC02854 2021-03-17  10:21:58  Breakfast          NS   \n",
              "\n",
              "                                     order_items  order_price  customer_lat  \\\n",
              "1                  [('Cereal', 10), ('Eggs', 9)]        389.0    -37.799833   \n",
              "282  [('Coffee', 7), ('Eggs', 8), ('Cereal', 1)]        226.5    -37.798632   \n",
              "\n",
              "     customer_lon  customerHasloyalty  delivery_fee  distance_to_customer_KM  \\\n",
              "1      144.939835                   1     14.147243                    8.944   \n",
              "282    144.966580                   1     11.497666                    6.597   \n",
              "\n",
              "     day_of_week  weekend  time_of_day  undiscounted_delivery_fee  \\\n",
              "1              1        0            0                  28.294486   \n",
              "282            2        0            0                  22.995332   \n",
              "\n",
              "     predict_delivery_fee   residual  \n",
              "1               14.481033  13.813453  \n",
              "282             12.458810  10.536522  "
            ],
            "text/html": [
              "\n",
              "  <div id=\"df-dc6a297c-2fa5-4347-9b67-8d3f553c1c41\">\n",
              "    <div class=\"colab-df-container\">\n",
              "      <div>\n",
              "<style scoped>\n",
              "    .dataframe tbody tr th:only-of-type {\n",
              "        vertical-align: middle;\n",
              "    }\n",
              "\n",
              "    .dataframe tbody tr th {\n",
              "        vertical-align: top;\n",
              "    }\n",
              "\n",
              "    .dataframe thead th {\n",
              "        text-align: right;\n",
              "    }\n",
              "</style>\n",
              "<table border=\"1\" class=\"dataframe\">\n",
              "  <thead>\n",
              "    <tr style=\"text-align: right;\">\n",
              "      <th></th>\n",
              "      <th>order_id</th>\n",
              "      <th>date</th>\n",
              "      <th>time</th>\n",
              "      <th>order_type</th>\n",
              "      <th>branch_code</th>\n",
              "      <th>order_items</th>\n",
              "      <th>order_price</th>\n",
              "      <th>customer_lat</th>\n",
              "      <th>customer_lon</th>\n",
              "      <th>customerHasloyalty</th>\n",
              "      <th>delivery_fee</th>\n",
              "      <th>distance_to_customer_KM</th>\n",
              "      <th>day_of_week</th>\n",
              "      <th>weekend</th>\n",
              "      <th>time_of_day</th>\n",
              "      <th>undiscounted_delivery_fee</th>\n",
              "      <th>predict_delivery_fee</th>\n",
              "      <th>residual</th>\n",
              "    </tr>\n",
              "  </thead>\n",
              "  <tbody>\n",
              "    <tr>\n",
              "      <th>1</th>\n",
              "      <td>ORDZ07064</td>\n",
              "      <td>2021-01-19</td>\n",
              "      <td>08:30:25</td>\n",
              "      <td>Breakfast</td>\n",
              "      <td>NS</td>\n",
              "      <td>[('Cereal', 10), ('Eggs', 9)]</td>\n",
              "      <td>389.0</td>\n",
              "      <td>-37.799833</td>\n",
              "      <td>144.939835</td>\n",
              "      <td>1</td>\n",
              "      <td>14.147243</td>\n",
              "      <td>8.944</td>\n",
              "      <td>1</td>\n",
              "      <td>0</td>\n",
              "      <td>0</td>\n",
              "      <td>28.294486</td>\n",
              "      <td>14.481033</td>\n",
              "      <td>13.813453</td>\n",
              "    </tr>\n",
              "    <tr>\n",
              "      <th>282</th>\n",
              "      <td>ORDC02854</td>\n",
              "      <td>2021-03-17</td>\n",
              "      <td>10:21:58</td>\n",
              "      <td>Breakfast</td>\n",
              "      <td>NS</td>\n",
              "      <td>[('Coffee', 7), ('Eggs', 8), ('Cereal', 1)]</td>\n",
              "      <td>226.5</td>\n",
              "      <td>-37.798632</td>\n",
              "      <td>144.966580</td>\n",
              "      <td>1</td>\n",
              "      <td>11.497666</td>\n",
              "      <td>6.597</td>\n",
              "      <td>2</td>\n",
              "      <td>0</td>\n",
              "      <td>0</td>\n",
              "      <td>22.995332</td>\n",
              "      <td>12.458810</td>\n",
              "      <td>10.536522</td>\n",
              "    </tr>\n",
              "  </tbody>\n",
              "</table>\n",
              "</div>\n",
              "      <button class=\"colab-df-convert\" onclick=\"convertToInteractive('df-dc6a297c-2fa5-4347-9b67-8d3f553c1c41')\"\n",
              "              title=\"Convert this dataframe to an interactive table.\"\n",
              "              style=\"display:none;\">\n",
              "        \n",
              "  <svg xmlns=\"http://www.w3.org/2000/svg\" height=\"24px\"viewBox=\"0 0 24 24\"\n",
              "       width=\"24px\">\n",
              "    <path d=\"M0 0h24v24H0V0z\" fill=\"none\"/>\n",
              "    <path d=\"M18.56 5.44l.94 2.06.94-2.06 2.06-.94-2.06-.94-.94-2.06-.94 2.06-2.06.94zm-11 1L8.5 8.5l.94-2.06 2.06-.94-2.06-.94L8.5 2.5l-.94 2.06-2.06.94zm10 10l.94 2.06.94-2.06 2.06-.94-2.06-.94-.94-2.06-.94 2.06-2.06.94z\"/><path d=\"M17.41 7.96l-1.37-1.37c-.4-.4-.92-.59-1.43-.59-.52 0-1.04.2-1.43.59L10.3 9.45l-7.72 7.72c-.78.78-.78 2.05 0 2.83L4 21.41c.39.39.9.59 1.41.59.51 0 1.02-.2 1.41-.59l7.78-7.78 2.81-2.81c.8-.78.8-2.07 0-2.86zM5.41 20L4 18.59l7.72-7.72 1.47 1.35L5.41 20z\"/>\n",
              "  </svg>\n",
              "      </button>\n",
              "      \n",
              "  <style>\n",
              "    .colab-df-container {\n",
              "      display:flex;\n",
              "      flex-wrap:wrap;\n",
              "      gap: 12px;\n",
              "    }\n",
              "\n",
              "    .colab-df-convert {\n",
              "      background-color: #E8F0FE;\n",
              "      border: none;\n",
              "      border-radius: 50%;\n",
              "      cursor: pointer;\n",
              "      display: none;\n",
              "      fill: #1967D2;\n",
              "      height: 32px;\n",
              "      padding: 0 0 0 0;\n",
              "      width: 32px;\n",
              "    }\n",
              "\n",
              "    .colab-df-convert:hover {\n",
              "      background-color: #E2EBFA;\n",
              "      box-shadow: 0px 1px 2px rgba(60, 64, 67, 0.3), 0px 1px 3px 1px rgba(60, 64, 67, 0.15);\n",
              "      fill: #174EA6;\n",
              "    }\n",
              "\n",
              "    [theme=dark] .colab-df-convert {\n",
              "      background-color: #3B4455;\n",
              "      fill: #D2E3FC;\n",
              "    }\n",
              "\n",
              "    [theme=dark] .colab-df-convert:hover {\n",
              "      background-color: #434B5C;\n",
              "      box-shadow: 0px 1px 3px 1px rgba(0, 0, 0, 0.15);\n",
              "      filter: drop-shadow(0px 1px 2px rgba(0, 0, 0, 0.3));\n",
              "      fill: #FFFFFF;\n",
              "    }\n",
              "  </style>\n",
              "\n",
              "      <script>\n",
              "        const buttonEl =\n",
              "          document.querySelector('#df-dc6a297c-2fa5-4347-9b67-8d3f553c1c41 button.colab-df-convert');\n",
              "        buttonEl.style.display =\n",
              "          google.colab.kernel.accessAllowed ? 'block' : 'none';\n",
              "\n",
              "        async function convertToInteractive(key) {\n",
              "          const element = document.querySelector('#df-dc6a297c-2fa5-4347-9b67-8d3f553c1c41');\n",
              "          const dataTable =\n",
              "            await google.colab.kernel.invokeFunction('convertToInteractive',\n",
              "                                                     [key], {});\n",
              "          if (!dataTable) return;\n",
              "\n",
              "          const docLinkHtml = 'Like what you see? Visit the ' +\n",
              "            '<a target=\"_blank\" href=https://colab.research.google.com/notebooks/data_table.ipynb>data table notebook</a>'\n",
              "            + ' to learn more about interactive tables.';\n",
              "          element.innerHTML = '';\n",
              "          dataTable['output_type'] = 'display_data';\n",
              "          await google.colab.output.renderOutput(dataTable, element);\n",
              "          const docLink = document.createElement('div');\n",
              "          docLink.innerHTML = docLinkHtml;\n",
              "          element.appendChild(docLink);\n",
              "        }\n",
              "      </script>\n",
              "    </div>\n",
              "  </div>\n",
              "  "
            ]
          },
          "metadata": {},
          "execution_count": 462
        }
      ]
    },
    {
      "cell_type": "code",
      "source": [
        "# Change customerHasloyalty based on residual value\n",
        "dirty_NS.loc[dirty_NS['residual'] > 5, 'customerHasloyalty'] = 0"
      ],
      "metadata": {
        "colab": {
          "base_uri": "https://localhost:8080/"
        },
        "id": "B8vzz6uM1V-O",
        "outputId": "6f3cc529-0559-4145-d48f-411d4bc10f37"
      },
      "execution_count": 463,
      "outputs": [
        {
          "output_type": "stream",
          "name": "stderr",
          "text": [
            "/usr/local/lib/python3.7/dist-packages/pandas/core/indexing.py:1817: SettingWithCopyWarning: \n",
            "A value is trying to be set on a copy of a slice from a DataFrame.\n",
            "Try using .loc[row_indexer,col_indexer] = value instead\n",
            "\n",
            "See the caveats in the documentation: https://pandas.pydata.org/pandas-docs/stable/user_guide/indexing.html#returning-a-view-versus-a-copy\n",
            "  self._setitem_single_column(loc, value, pi)\n"
          ]
        }
      ]
    },
    {
      "cell_type": "code",
      "source": [
        "dirty_NS.loc[dirty_NS['residual'] < -5, 'customerHasloyalty'] = 1"
      ],
      "metadata": {
        "id": "PdXxKgnM3RA-"
      },
      "execution_count": 464,
      "outputs": []
    },
    {
      "cell_type": "code",
      "source": [
        "dirty_NS.customerHasloyalty.value_counts()"
      ],
      "metadata": {
        "colab": {
          "base_uri": "https://localhost:8080/"
        },
        "id": "4kOzHoJX13qZ",
        "outputId": "866ef054-d02c-4b80-c49f-048a96ac41a1"
      },
      "execution_count": 465,
      "outputs": [
        {
          "output_type": "execute_result",
          "data": {
            "text/plain": [
              "0    182\n",
              "1      7\n",
              "Name: customerHasloyalty, dtype: int64"
            ]
          },
          "metadata": {},
          "execution_count": 465
        }
      ]
    },
    {
      "cell_type": "markdown",
      "source": [
        "We can then repeat the same process for the other two branches"
      ],
      "metadata": {
        "id": "tSF1KjSgfv2L"
      }
    },
    {
      "cell_type": "code",
      "source": [
        "dirty_TP = dirty[dirty['branch_code'] == 'TP']"
      ],
      "metadata": {
        "id": "pH_ic2gA3UqR"
      },
      "execution_count": 466,
      "outputs": []
    },
    {
      "cell_type": "code",
      "source": [
        "# Y: delivery fee is target variable\n",
        "y = dirty_TP['undiscounted_delivery_fee']\n",
        "\n",
        "# X: 3 independent variables\n",
        "x = dirty_TP[['time_of_day', 'distance_to_customer_KM', 'weekend']]\n",
        "\n",
        "# Encode categorical data\n",
        "x = pd.get_dummies(x)\n",
        "x"
      ],
      "metadata": {
        "colab": {
          "base_uri": "https://localhost:8080/",
          "height": 424
        },
        "id": "37500HlG3d56",
        "outputId": "ef8f20ed-20e9-4a71-9e27-2fa7a5908f8c"
      },
      "execution_count": 467,
      "outputs": [
        {
          "output_type": "execute_result",
          "data": {
            "text/plain": [
              "     time_of_day  distance_to_customer_KM  weekend\n",
              "2              0                    9.196        0\n",
              "3              0                    8.202        1\n",
              "5              0                    7.576        0\n",
              "10             1                   10.688        0\n",
              "11             0                    8.848        0\n",
              "..           ...                      ...      ...\n",
              "478            1                   11.301        0\n",
              "484            2                   11.775        0\n",
              "487            2                    8.354        0\n",
              "493            1                    8.483        1\n",
              "499            0                   12.577        0\n",
              "\n",
              "[153 rows x 3 columns]"
            ],
            "text/html": [
              "\n",
              "  <div id=\"df-28618b64-10b6-4846-8880-bb73a37ebf4e\">\n",
              "    <div class=\"colab-df-container\">\n",
              "      <div>\n",
              "<style scoped>\n",
              "    .dataframe tbody tr th:only-of-type {\n",
              "        vertical-align: middle;\n",
              "    }\n",
              "\n",
              "    .dataframe tbody tr th {\n",
              "        vertical-align: top;\n",
              "    }\n",
              "\n",
              "    .dataframe thead th {\n",
              "        text-align: right;\n",
              "    }\n",
              "</style>\n",
              "<table border=\"1\" class=\"dataframe\">\n",
              "  <thead>\n",
              "    <tr style=\"text-align: right;\">\n",
              "      <th></th>\n",
              "      <th>time_of_day</th>\n",
              "      <th>distance_to_customer_KM</th>\n",
              "      <th>weekend</th>\n",
              "    </tr>\n",
              "  </thead>\n",
              "  <tbody>\n",
              "    <tr>\n",
              "      <th>2</th>\n",
              "      <td>0</td>\n",
              "      <td>9.196</td>\n",
              "      <td>0</td>\n",
              "    </tr>\n",
              "    <tr>\n",
              "      <th>3</th>\n",
              "      <td>0</td>\n",
              "      <td>8.202</td>\n",
              "      <td>1</td>\n",
              "    </tr>\n",
              "    <tr>\n",
              "      <th>5</th>\n",
              "      <td>0</td>\n",
              "      <td>7.576</td>\n",
              "      <td>0</td>\n",
              "    </tr>\n",
              "    <tr>\n",
              "      <th>10</th>\n",
              "      <td>1</td>\n",
              "      <td>10.688</td>\n",
              "      <td>0</td>\n",
              "    </tr>\n",
              "    <tr>\n",
              "      <th>11</th>\n",
              "      <td>0</td>\n",
              "      <td>8.848</td>\n",
              "      <td>0</td>\n",
              "    </tr>\n",
              "    <tr>\n",
              "      <th>...</th>\n",
              "      <td>...</td>\n",
              "      <td>...</td>\n",
              "      <td>...</td>\n",
              "    </tr>\n",
              "    <tr>\n",
              "      <th>478</th>\n",
              "      <td>1</td>\n",
              "      <td>11.301</td>\n",
              "      <td>0</td>\n",
              "    </tr>\n",
              "    <tr>\n",
              "      <th>484</th>\n",
              "      <td>2</td>\n",
              "      <td>11.775</td>\n",
              "      <td>0</td>\n",
              "    </tr>\n",
              "    <tr>\n",
              "      <th>487</th>\n",
              "      <td>2</td>\n",
              "      <td>8.354</td>\n",
              "      <td>0</td>\n",
              "    </tr>\n",
              "    <tr>\n",
              "      <th>493</th>\n",
              "      <td>1</td>\n",
              "      <td>8.483</td>\n",
              "      <td>1</td>\n",
              "    </tr>\n",
              "    <tr>\n",
              "      <th>499</th>\n",
              "      <td>0</td>\n",
              "      <td>12.577</td>\n",
              "      <td>0</td>\n",
              "    </tr>\n",
              "  </tbody>\n",
              "</table>\n",
              "<p>153 rows × 3 columns</p>\n",
              "</div>\n",
              "      <button class=\"colab-df-convert\" onclick=\"convertToInteractive('df-28618b64-10b6-4846-8880-bb73a37ebf4e')\"\n",
              "              title=\"Convert this dataframe to an interactive table.\"\n",
              "              style=\"display:none;\">\n",
              "        \n",
              "  <svg xmlns=\"http://www.w3.org/2000/svg\" height=\"24px\"viewBox=\"0 0 24 24\"\n",
              "       width=\"24px\">\n",
              "    <path d=\"M0 0h24v24H0V0z\" fill=\"none\"/>\n",
              "    <path d=\"M18.56 5.44l.94 2.06.94-2.06 2.06-.94-2.06-.94-.94-2.06-.94 2.06-2.06.94zm-11 1L8.5 8.5l.94-2.06 2.06-.94-2.06-.94L8.5 2.5l-.94 2.06-2.06.94zm10 10l.94 2.06.94-2.06 2.06-.94-2.06-.94-.94-2.06-.94 2.06-2.06.94z\"/><path d=\"M17.41 7.96l-1.37-1.37c-.4-.4-.92-.59-1.43-.59-.52 0-1.04.2-1.43.59L10.3 9.45l-7.72 7.72c-.78.78-.78 2.05 0 2.83L4 21.41c.39.39.9.59 1.41.59.51 0 1.02-.2 1.41-.59l7.78-7.78 2.81-2.81c.8-.78.8-2.07 0-2.86zM5.41 20L4 18.59l7.72-7.72 1.47 1.35L5.41 20z\"/>\n",
              "  </svg>\n",
              "      </button>\n",
              "      \n",
              "  <style>\n",
              "    .colab-df-container {\n",
              "      display:flex;\n",
              "      flex-wrap:wrap;\n",
              "      gap: 12px;\n",
              "    }\n",
              "\n",
              "    .colab-df-convert {\n",
              "      background-color: #E8F0FE;\n",
              "      border: none;\n",
              "      border-radius: 50%;\n",
              "      cursor: pointer;\n",
              "      display: none;\n",
              "      fill: #1967D2;\n",
              "      height: 32px;\n",
              "      padding: 0 0 0 0;\n",
              "      width: 32px;\n",
              "    }\n",
              "\n",
              "    .colab-df-convert:hover {\n",
              "      background-color: #E2EBFA;\n",
              "      box-shadow: 0px 1px 2px rgba(60, 64, 67, 0.3), 0px 1px 3px 1px rgba(60, 64, 67, 0.15);\n",
              "      fill: #174EA6;\n",
              "    }\n",
              "\n",
              "    [theme=dark] .colab-df-convert {\n",
              "      background-color: #3B4455;\n",
              "      fill: #D2E3FC;\n",
              "    }\n",
              "\n",
              "    [theme=dark] .colab-df-convert:hover {\n",
              "      background-color: #434B5C;\n",
              "      box-shadow: 0px 1px 3px 1px rgba(0, 0, 0, 0.15);\n",
              "      filter: drop-shadow(0px 1px 2px rgba(0, 0, 0, 0.3));\n",
              "      fill: #FFFFFF;\n",
              "    }\n",
              "  </style>\n",
              "\n",
              "      <script>\n",
              "        const buttonEl =\n",
              "          document.querySelector('#df-28618b64-10b6-4846-8880-bb73a37ebf4e button.colab-df-convert');\n",
              "        buttonEl.style.display =\n",
              "          google.colab.kernel.accessAllowed ? 'block' : 'none';\n",
              "\n",
              "        async function convertToInteractive(key) {\n",
              "          const element = document.querySelector('#df-28618b64-10b6-4846-8880-bb73a37ebf4e');\n",
              "          const dataTable =\n",
              "            await google.colab.kernel.invokeFunction('convertToInteractive',\n",
              "                                                     [key], {});\n",
              "          if (!dataTable) return;\n",
              "\n",
              "          const docLinkHtml = 'Like what you see? Visit the ' +\n",
              "            '<a target=\"_blank\" href=https://colab.research.google.com/notebooks/data_table.ipynb>data table notebook</a>'\n",
              "            + ' to learn more about interactive tables.';\n",
              "          element.innerHTML = '';\n",
              "          dataTable['output_type'] = 'display_data';\n",
              "          await google.colab.output.renderOutput(dataTable, element);\n",
              "          const docLink = document.createElement('div');\n",
              "          docLink.innerHTML = docLinkHtml;\n",
              "          element.appendChild(docLink);\n",
              "        }\n",
              "      </script>\n",
              "    </div>\n",
              "  </div>\n",
              "  "
            ]
          },
          "metadata": {},
          "execution_count": 467
        }
      ]
    },
    {
      "cell_type": "code",
      "source": [
        "# delivery fee and other variables\n",
        "linear_reg = linear_regression_model(x, y)\n",
        "predict_variables = dirty_TP[['time_of_day', 'distance_to_customer_KM', 'weekend']]\n",
        "# predict new calculated delivery fee\n",
        "predict_delivery_fee = linear_prediction_model(linear_reg, predict_variables)\n",
        "# add the column to the dataframe\n",
        "dirty_TP['predict_delivery_fee'] = predict_delivery_fee\n",
        "\n",
        "print(dirty_TP.shape)"
      ],
      "metadata": {
        "colab": {
          "base_uri": "https://localhost:8080/"
        },
        "id": "vtGh4e4B3k2J",
        "outputId": "0c2660bd-7ab0-4d8e-cec3-cae4328b27d2"
      },
      "execution_count": 468,
      "outputs": [
        {
          "output_type": "stream",
          "name": "stdout",
          "text": [
            "Training R2 0.23800660973148013\n",
            "Testing R2 0.5633091936731571\n",
            "(153, 17)\n"
          ]
        },
        {
          "output_type": "stream",
          "name": "stderr",
          "text": [
            "/usr/local/lib/python3.7/dist-packages/ipykernel_launcher.py:7: SettingWithCopyWarning: \n",
            "A value is trying to be set on a copy of a slice from a DataFrame.\n",
            "Try using .loc[row_indexer,col_indexer] = value instead\n",
            "\n",
            "See the caveats in the documentation: https://pandas.pydata.org/pandas-docs/stable/user_guide/indexing.html#returning-a-view-versus-a-copy\n",
            "  import sys\n"
          ]
        }
      ]
    },
    {
      "cell_type": "code",
      "source": [
        "# Get residuals based on difference between true and predicted values \n",
        "dirty_TP['residual'] = dirty_TP.apply(lambda x: (x['undiscounted_delivery_fee']-x['predict_delivery_fee']), axis=1)"
      ],
      "metadata": {
        "colab": {
          "base_uri": "https://localhost:8080/"
        },
        "id": "9FzaGJHv3x8U",
        "outputId": "92eed90c-1258-49f9-fea7-eeaa22fee3bc"
      },
      "execution_count": 469,
      "outputs": [
        {
          "output_type": "stream",
          "name": "stderr",
          "text": [
            "/usr/local/lib/python3.7/dist-packages/ipykernel_launcher.py:2: SettingWithCopyWarning: \n",
            "A value is trying to be set on a copy of a slice from a DataFrame.\n",
            "Try using .loc[row_indexer,col_indexer] = value instead\n",
            "\n",
            "See the caveats in the documentation: https://pandas.pydata.org/pandas-docs/stable/user_guide/indexing.html#returning-a-view-versus-a-copy\n",
            "  \n"
          ]
        }
      ]
    },
    {
      "cell_type": "code",
      "source": [
        "dirty_TP.residual.describe()"
      ],
      "metadata": {
        "colab": {
          "base_uri": "https://localhost:8080/"
        },
        "id": "jvyrKiU730rl",
        "outputId": "56eca276-c244-463a-c704-9899f43f8b52"
      },
      "execution_count": 470,
      "outputs": [
        {
          "output_type": "execute_result",
          "data": {
            "text/plain": [
              "count    153.000000\n",
              "mean      -0.096133\n",
              "std        2.115219\n",
              "min       -1.710599\n",
              "25%       -0.880138\n",
              "50%       -0.457480\n",
              "75%        0.098144\n",
              "max       13.876606\n",
              "Name: residual, dtype: float64"
            ]
          },
          "metadata": {},
          "execution_count": 470
        }
      ]
    },
    {
      "cell_type": "code",
      "source": [
        "dirty_TP.customerHasloyalty.value_counts()"
      ],
      "metadata": {
        "colab": {
          "base_uri": "https://localhost:8080/"
        },
        "id": "NLvZ6DsC5ChV",
        "outputId": "0f667877-eb65-4aa4-975b-54cb5b9b6037"
      },
      "execution_count": 471,
      "outputs": [
        {
          "output_type": "execute_result",
          "data": {
            "text/plain": [
              "0    136\n",
              "1     17\n",
              "Name: customerHasloyalty, dtype: int64"
            ]
          },
          "metadata": {},
          "execution_count": 471
        }
      ]
    },
    {
      "cell_type": "code",
      "source": [
        "dirty_TP.loc[dirty_TP['residual'] > 5]"
      ],
      "metadata": {
        "colab": {
          "base_uri": "https://localhost:8080/",
          "height": 395
        },
        "id": "oCdJmBEf35RW",
        "outputId": "e4fc937f-cec5-4501-e204-050087e1ab64"
      },
      "execution_count": 472,
      "outputs": [
        {
          "output_type": "execute_result",
          "data": {
            "text/plain": [
              "      order_id       date      time order_type branch_code  \\\n",
              "88   ORDJ02380 2021-12-07  19:19:26     Dinner          TP   \n",
              "126  ORDB01321 2021-08-19  15:36:20      Lunch          TP   \n",
              "317  ORDY06569 2021-08-10  15:16:03      Lunch          TP   \n",
              "374  ORDJ00120 2021-09-11  16:16:54     Dinner          TP   \n",
              "\n",
              "                                           order_items  order_price  \\\n",
              "88   [('Fish&Chips', 9), ('Pasta', 10), ('Shrimp', ...        808.0   \n",
              "126  [('Fries', 3), ('Salad', 7), ('Steak', 2), ('C...        527.4   \n",
              "317        [('Burger', 5), ('Salad', 7), ('Fries', 7)]        359.4   \n",
              "374                      [('Pasta', 2), ('Salmon', 3)]        178.0   \n",
              "\n",
              "     customer_lat  customer_lon  customerHasloyalty  delivery_fee  \\\n",
              "88     -37.812174    144.962199                   1     12.428945   \n",
              "126    -37.817601    144.959031                   1     11.714488   \n",
              "317    -37.802116    144.966204                   1     13.703708   \n",
              "374    -37.822064    144.974007                   1     13.845351   \n",
              "\n",
              "     distance_to_customer_KM  day_of_week  weekend  time_of_day  \\\n",
              "88                     8.270            1        0            2   \n",
              "126                    7.953            3        0            1   \n",
              "317                    9.633            1        0            1   \n",
              "374                    8.192            5        1            2   \n",
              "\n",
              "     undiscounted_delivery_fee  predict_delivery_fee   residual  \n",
              "88                   24.857890             13.819727  11.038163  \n",
              "126                  23.428976             12.539561  10.889415  \n",
              "317                  27.407416             13.530810  13.876606  \n",
              "374                  27.690703             15.145826  12.544877  "
            ],
            "text/html": [
              "\n",
              "  <div id=\"df-3c4fee02-986f-4ea5-868b-6341a0b234ca\">\n",
              "    <div class=\"colab-df-container\">\n",
              "      <div>\n",
              "<style scoped>\n",
              "    .dataframe tbody tr th:only-of-type {\n",
              "        vertical-align: middle;\n",
              "    }\n",
              "\n",
              "    .dataframe tbody tr th {\n",
              "        vertical-align: top;\n",
              "    }\n",
              "\n",
              "    .dataframe thead th {\n",
              "        text-align: right;\n",
              "    }\n",
              "</style>\n",
              "<table border=\"1\" class=\"dataframe\">\n",
              "  <thead>\n",
              "    <tr style=\"text-align: right;\">\n",
              "      <th></th>\n",
              "      <th>order_id</th>\n",
              "      <th>date</th>\n",
              "      <th>time</th>\n",
              "      <th>order_type</th>\n",
              "      <th>branch_code</th>\n",
              "      <th>order_items</th>\n",
              "      <th>order_price</th>\n",
              "      <th>customer_lat</th>\n",
              "      <th>customer_lon</th>\n",
              "      <th>customerHasloyalty</th>\n",
              "      <th>delivery_fee</th>\n",
              "      <th>distance_to_customer_KM</th>\n",
              "      <th>day_of_week</th>\n",
              "      <th>weekend</th>\n",
              "      <th>time_of_day</th>\n",
              "      <th>undiscounted_delivery_fee</th>\n",
              "      <th>predict_delivery_fee</th>\n",
              "      <th>residual</th>\n",
              "    </tr>\n",
              "  </thead>\n",
              "  <tbody>\n",
              "    <tr>\n",
              "      <th>88</th>\n",
              "      <td>ORDJ02380</td>\n",
              "      <td>2021-12-07</td>\n",
              "      <td>19:19:26</td>\n",
              "      <td>Dinner</td>\n",
              "      <td>TP</td>\n",
              "      <td>[('Fish&amp;Chips', 9), ('Pasta', 10), ('Shrimp', ...</td>\n",
              "      <td>808.0</td>\n",
              "      <td>-37.812174</td>\n",
              "      <td>144.962199</td>\n",
              "      <td>1</td>\n",
              "      <td>12.428945</td>\n",
              "      <td>8.270</td>\n",
              "      <td>1</td>\n",
              "      <td>0</td>\n",
              "      <td>2</td>\n",
              "      <td>24.857890</td>\n",
              "      <td>13.819727</td>\n",
              "      <td>11.038163</td>\n",
              "    </tr>\n",
              "    <tr>\n",
              "      <th>126</th>\n",
              "      <td>ORDB01321</td>\n",
              "      <td>2021-08-19</td>\n",
              "      <td>15:36:20</td>\n",
              "      <td>Lunch</td>\n",
              "      <td>TP</td>\n",
              "      <td>[('Fries', 3), ('Salad', 7), ('Steak', 2), ('C...</td>\n",
              "      <td>527.4</td>\n",
              "      <td>-37.817601</td>\n",
              "      <td>144.959031</td>\n",
              "      <td>1</td>\n",
              "      <td>11.714488</td>\n",
              "      <td>7.953</td>\n",
              "      <td>3</td>\n",
              "      <td>0</td>\n",
              "      <td>1</td>\n",
              "      <td>23.428976</td>\n",
              "      <td>12.539561</td>\n",
              "      <td>10.889415</td>\n",
              "    </tr>\n",
              "    <tr>\n",
              "      <th>317</th>\n",
              "      <td>ORDY06569</td>\n",
              "      <td>2021-08-10</td>\n",
              "      <td>15:16:03</td>\n",
              "      <td>Lunch</td>\n",
              "      <td>TP</td>\n",
              "      <td>[('Burger', 5), ('Salad', 7), ('Fries', 7)]</td>\n",
              "      <td>359.4</td>\n",
              "      <td>-37.802116</td>\n",
              "      <td>144.966204</td>\n",
              "      <td>1</td>\n",
              "      <td>13.703708</td>\n",
              "      <td>9.633</td>\n",
              "      <td>1</td>\n",
              "      <td>0</td>\n",
              "      <td>1</td>\n",
              "      <td>27.407416</td>\n",
              "      <td>13.530810</td>\n",
              "      <td>13.876606</td>\n",
              "    </tr>\n",
              "    <tr>\n",
              "      <th>374</th>\n",
              "      <td>ORDJ00120</td>\n",
              "      <td>2021-09-11</td>\n",
              "      <td>16:16:54</td>\n",
              "      <td>Dinner</td>\n",
              "      <td>TP</td>\n",
              "      <td>[('Pasta', 2), ('Salmon', 3)]</td>\n",
              "      <td>178.0</td>\n",
              "      <td>-37.822064</td>\n",
              "      <td>144.974007</td>\n",
              "      <td>1</td>\n",
              "      <td>13.845351</td>\n",
              "      <td>8.192</td>\n",
              "      <td>5</td>\n",
              "      <td>1</td>\n",
              "      <td>2</td>\n",
              "      <td>27.690703</td>\n",
              "      <td>15.145826</td>\n",
              "      <td>12.544877</td>\n",
              "    </tr>\n",
              "  </tbody>\n",
              "</table>\n",
              "</div>\n",
              "      <button class=\"colab-df-convert\" onclick=\"convertToInteractive('df-3c4fee02-986f-4ea5-868b-6341a0b234ca')\"\n",
              "              title=\"Convert this dataframe to an interactive table.\"\n",
              "              style=\"display:none;\">\n",
              "        \n",
              "  <svg xmlns=\"http://www.w3.org/2000/svg\" height=\"24px\"viewBox=\"0 0 24 24\"\n",
              "       width=\"24px\">\n",
              "    <path d=\"M0 0h24v24H0V0z\" fill=\"none\"/>\n",
              "    <path d=\"M18.56 5.44l.94 2.06.94-2.06 2.06-.94-2.06-.94-.94-2.06-.94 2.06-2.06.94zm-11 1L8.5 8.5l.94-2.06 2.06-.94-2.06-.94L8.5 2.5l-.94 2.06-2.06.94zm10 10l.94 2.06.94-2.06 2.06-.94-2.06-.94-.94-2.06-.94 2.06-2.06.94z\"/><path d=\"M17.41 7.96l-1.37-1.37c-.4-.4-.92-.59-1.43-.59-.52 0-1.04.2-1.43.59L10.3 9.45l-7.72 7.72c-.78.78-.78 2.05 0 2.83L4 21.41c.39.39.9.59 1.41.59.51 0 1.02-.2 1.41-.59l7.78-7.78 2.81-2.81c.8-.78.8-2.07 0-2.86zM5.41 20L4 18.59l7.72-7.72 1.47 1.35L5.41 20z\"/>\n",
              "  </svg>\n",
              "      </button>\n",
              "      \n",
              "  <style>\n",
              "    .colab-df-container {\n",
              "      display:flex;\n",
              "      flex-wrap:wrap;\n",
              "      gap: 12px;\n",
              "    }\n",
              "\n",
              "    .colab-df-convert {\n",
              "      background-color: #E8F0FE;\n",
              "      border: none;\n",
              "      border-radius: 50%;\n",
              "      cursor: pointer;\n",
              "      display: none;\n",
              "      fill: #1967D2;\n",
              "      height: 32px;\n",
              "      padding: 0 0 0 0;\n",
              "      width: 32px;\n",
              "    }\n",
              "\n",
              "    .colab-df-convert:hover {\n",
              "      background-color: #E2EBFA;\n",
              "      box-shadow: 0px 1px 2px rgba(60, 64, 67, 0.3), 0px 1px 3px 1px rgba(60, 64, 67, 0.15);\n",
              "      fill: #174EA6;\n",
              "    }\n",
              "\n",
              "    [theme=dark] .colab-df-convert {\n",
              "      background-color: #3B4455;\n",
              "      fill: #D2E3FC;\n",
              "    }\n",
              "\n",
              "    [theme=dark] .colab-df-convert:hover {\n",
              "      background-color: #434B5C;\n",
              "      box-shadow: 0px 1px 3px 1px rgba(0, 0, 0, 0.15);\n",
              "      filter: drop-shadow(0px 1px 2px rgba(0, 0, 0, 0.3));\n",
              "      fill: #FFFFFF;\n",
              "    }\n",
              "  </style>\n",
              "\n",
              "      <script>\n",
              "        const buttonEl =\n",
              "          document.querySelector('#df-3c4fee02-986f-4ea5-868b-6341a0b234ca button.colab-df-convert');\n",
              "        buttonEl.style.display =\n",
              "          google.colab.kernel.accessAllowed ? 'block' : 'none';\n",
              "\n",
              "        async function convertToInteractive(key) {\n",
              "          const element = document.querySelector('#df-3c4fee02-986f-4ea5-868b-6341a0b234ca');\n",
              "          const dataTable =\n",
              "            await google.colab.kernel.invokeFunction('convertToInteractive',\n",
              "                                                     [key], {});\n",
              "          if (!dataTable) return;\n",
              "\n",
              "          const docLinkHtml = 'Like what you see? Visit the ' +\n",
              "            '<a target=\"_blank\" href=https://colab.research.google.com/notebooks/data_table.ipynb>data table notebook</a>'\n",
              "            + ' to learn more about interactive tables.';\n",
              "          element.innerHTML = '';\n",
              "          dataTable['output_type'] = 'display_data';\n",
              "          await google.colab.output.renderOutput(dataTable, element);\n",
              "          const docLink = document.createElement('div');\n",
              "          docLink.innerHTML = docLinkHtml;\n",
              "          element.appendChild(docLink);\n",
              "        }\n",
              "      </script>\n",
              "    </div>\n",
              "  </div>\n",
              "  "
            ]
          },
          "metadata": {},
          "execution_count": 472
        }
      ]
    },
    {
      "cell_type": "code",
      "source": [
        "# Change customerhasloyalty based on residual values\n",
        "dirty_TP.loc[dirty_TP['residual'] > 5, 'customerHasloyalty'] = 0"
      ],
      "metadata": {
        "colab": {
          "base_uri": "https://localhost:8080/"
        },
        "id": "KXwUd22S5GiJ",
        "outputId": "66d46c36-2650-4625-83a6-6e3310c79867"
      },
      "execution_count": 473,
      "outputs": [
        {
          "output_type": "stream",
          "name": "stderr",
          "text": [
            "/usr/local/lib/python3.7/dist-packages/pandas/core/indexing.py:1817: SettingWithCopyWarning: \n",
            "A value is trying to be set on a copy of a slice from a DataFrame.\n",
            "Try using .loc[row_indexer,col_indexer] = value instead\n",
            "\n",
            "See the caveats in the documentation: https://pandas.pydata.org/pandas-docs/stable/user_guide/indexing.html#returning-a-view-versus-a-copy\n",
            "  self._setitem_single_column(loc, value, pi)\n"
          ]
        }
      ]
    },
    {
      "cell_type": "code",
      "source": [
        "dirty_TP.customerHasloyalty.value_counts()"
      ],
      "metadata": {
        "colab": {
          "base_uri": "https://localhost:8080/"
        },
        "id": "RT8ck_jJ5OVF",
        "outputId": "2826339e-6b39-46f3-a1c1-2ccf17f182c1"
      },
      "execution_count": 474,
      "outputs": [
        {
          "output_type": "execute_result",
          "data": {
            "text/plain": [
              "0    140\n",
              "1     13\n",
              "Name: customerHasloyalty, dtype: int64"
            ]
          },
          "metadata": {},
          "execution_count": 474
        }
      ]
    },
    {
      "cell_type": "markdown",
      "source": [
        "Do the same process to the final branch"
      ],
      "metadata": {
        "id": "JCizv0Ydva_P"
      }
    },
    {
      "cell_type": "code",
      "source": [
        "dirty_BK = dirty[dirty['branch_code'] == 'BK']"
      ],
      "metadata": {
        "id": "_wlW2NdA5RLn"
      },
      "execution_count": 475,
      "outputs": []
    },
    {
      "cell_type": "code",
      "source": [
        "# Y: delivery fee is target variable\n",
        "y = dirty_BK['undiscounted_delivery_fee']\n",
        "\n",
        "# X: 3 independent variables\n",
        "x = dirty_BK[['time_of_day', 'distance_to_customer_KM', 'weekend']]\n",
        "\n",
        "# Encode categorical data\n",
        "x = pd.get_dummies(x)\n",
        "x"
      ],
      "metadata": {
        "colab": {
          "base_uri": "https://localhost:8080/",
          "height": 424
        },
        "id": "XDAg7xNO5Zg9",
        "outputId": "63e56deb-ec0e-4437-fc0e-478a0cf88110"
      },
      "execution_count": 476,
      "outputs": [
        {
          "output_type": "execute_result",
          "data": {
            "text/plain": [
              "     time_of_day  distance_to_customer_KM  weekend\n",
              "0              2                    7.446        0\n",
              "6              0                    6.913        0\n",
              "7              2                    5.307        1\n",
              "8              0                    7.862        0\n",
              "12             2                    7.278        1\n",
              "..           ...                      ...      ...\n",
              "492            1                    7.242        0\n",
              "495            1                    8.209        1\n",
              "496            2                    7.254        0\n",
              "497            1                   10.563        0\n",
              "498            1                    4.025        1\n",
              "\n",
              "[158 rows x 3 columns]"
            ],
            "text/html": [
              "\n",
              "  <div id=\"df-0edd5a9d-1836-4c28-acdb-dbf46ca60584\">\n",
              "    <div class=\"colab-df-container\">\n",
              "      <div>\n",
              "<style scoped>\n",
              "    .dataframe tbody tr th:only-of-type {\n",
              "        vertical-align: middle;\n",
              "    }\n",
              "\n",
              "    .dataframe tbody tr th {\n",
              "        vertical-align: top;\n",
              "    }\n",
              "\n",
              "    .dataframe thead th {\n",
              "        text-align: right;\n",
              "    }\n",
              "</style>\n",
              "<table border=\"1\" class=\"dataframe\">\n",
              "  <thead>\n",
              "    <tr style=\"text-align: right;\">\n",
              "      <th></th>\n",
              "      <th>time_of_day</th>\n",
              "      <th>distance_to_customer_KM</th>\n",
              "      <th>weekend</th>\n",
              "    </tr>\n",
              "  </thead>\n",
              "  <tbody>\n",
              "    <tr>\n",
              "      <th>0</th>\n",
              "      <td>2</td>\n",
              "      <td>7.446</td>\n",
              "      <td>0</td>\n",
              "    </tr>\n",
              "    <tr>\n",
              "      <th>6</th>\n",
              "      <td>0</td>\n",
              "      <td>6.913</td>\n",
              "      <td>0</td>\n",
              "    </tr>\n",
              "    <tr>\n",
              "      <th>7</th>\n",
              "      <td>2</td>\n",
              "      <td>5.307</td>\n",
              "      <td>1</td>\n",
              "    </tr>\n",
              "    <tr>\n",
              "      <th>8</th>\n",
              "      <td>0</td>\n",
              "      <td>7.862</td>\n",
              "      <td>0</td>\n",
              "    </tr>\n",
              "    <tr>\n",
              "      <th>12</th>\n",
              "      <td>2</td>\n",
              "      <td>7.278</td>\n",
              "      <td>1</td>\n",
              "    </tr>\n",
              "    <tr>\n",
              "      <th>...</th>\n",
              "      <td>...</td>\n",
              "      <td>...</td>\n",
              "      <td>...</td>\n",
              "    </tr>\n",
              "    <tr>\n",
              "      <th>492</th>\n",
              "      <td>1</td>\n",
              "      <td>7.242</td>\n",
              "      <td>0</td>\n",
              "    </tr>\n",
              "    <tr>\n",
              "      <th>495</th>\n",
              "      <td>1</td>\n",
              "      <td>8.209</td>\n",
              "      <td>1</td>\n",
              "    </tr>\n",
              "    <tr>\n",
              "      <th>496</th>\n",
              "      <td>2</td>\n",
              "      <td>7.254</td>\n",
              "      <td>0</td>\n",
              "    </tr>\n",
              "    <tr>\n",
              "      <th>497</th>\n",
              "      <td>1</td>\n",
              "      <td>10.563</td>\n",
              "      <td>0</td>\n",
              "    </tr>\n",
              "    <tr>\n",
              "      <th>498</th>\n",
              "      <td>1</td>\n",
              "      <td>4.025</td>\n",
              "      <td>1</td>\n",
              "    </tr>\n",
              "  </tbody>\n",
              "</table>\n",
              "<p>158 rows × 3 columns</p>\n",
              "</div>\n",
              "      <button class=\"colab-df-convert\" onclick=\"convertToInteractive('df-0edd5a9d-1836-4c28-acdb-dbf46ca60584')\"\n",
              "              title=\"Convert this dataframe to an interactive table.\"\n",
              "              style=\"display:none;\">\n",
              "        \n",
              "  <svg xmlns=\"http://www.w3.org/2000/svg\" height=\"24px\"viewBox=\"0 0 24 24\"\n",
              "       width=\"24px\">\n",
              "    <path d=\"M0 0h24v24H0V0z\" fill=\"none\"/>\n",
              "    <path d=\"M18.56 5.44l.94 2.06.94-2.06 2.06-.94-2.06-.94-.94-2.06-.94 2.06-2.06.94zm-11 1L8.5 8.5l.94-2.06 2.06-.94-2.06-.94L8.5 2.5l-.94 2.06-2.06.94zm10 10l.94 2.06.94-2.06 2.06-.94-2.06-.94-.94-2.06-.94 2.06-2.06.94z\"/><path d=\"M17.41 7.96l-1.37-1.37c-.4-.4-.92-.59-1.43-.59-.52 0-1.04.2-1.43.59L10.3 9.45l-7.72 7.72c-.78.78-.78 2.05 0 2.83L4 21.41c.39.39.9.59 1.41.59.51 0 1.02-.2 1.41-.59l7.78-7.78 2.81-2.81c.8-.78.8-2.07 0-2.86zM5.41 20L4 18.59l7.72-7.72 1.47 1.35L5.41 20z\"/>\n",
              "  </svg>\n",
              "      </button>\n",
              "      \n",
              "  <style>\n",
              "    .colab-df-container {\n",
              "      display:flex;\n",
              "      flex-wrap:wrap;\n",
              "      gap: 12px;\n",
              "    }\n",
              "\n",
              "    .colab-df-convert {\n",
              "      background-color: #E8F0FE;\n",
              "      border: none;\n",
              "      border-radius: 50%;\n",
              "      cursor: pointer;\n",
              "      display: none;\n",
              "      fill: #1967D2;\n",
              "      height: 32px;\n",
              "      padding: 0 0 0 0;\n",
              "      width: 32px;\n",
              "    }\n",
              "\n",
              "    .colab-df-convert:hover {\n",
              "      background-color: #E2EBFA;\n",
              "      box-shadow: 0px 1px 2px rgba(60, 64, 67, 0.3), 0px 1px 3px 1px rgba(60, 64, 67, 0.15);\n",
              "      fill: #174EA6;\n",
              "    }\n",
              "\n",
              "    [theme=dark] .colab-df-convert {\n",
              "      background-color: #3B4455;\n",
              "      fill: #D2E3FC;\n",
              "    }\n",
              "\n",
              "    [theme=dark] .colab-df-convert:hover {\n",
              "      background-color: #434B5C;\n",
              "      box-shadow: 0px 1px 3px 1px rgba(0, 0, 0, 0.15);\n",
              "      filter: drop-shadow(0px 1px 2px rgba(0, 0, 0, 0.3));\n",
              "      fill: #FFFFFF;\n",
              "    }\n",
              "  </style>\n",
              "\n",
              "      <script>\n",
              "        const buttonEl =\n",
              "          document.querySelector('#df-0edd5a9d-1836-4c28-acdb-dbf46ca60584 button.colab-df-convert');\n",
              "        buttonEl.style.display =\n",
              "          google.colab.kernel.accessAllowed ? 'block' : 'none';\n",
              "\n",
              "        async function convertToInteractive(key) {\n",
              "          const element = document.querySelector('#df-0edd5a9d-1836-4c28-acdb-dbf46ca60584');\n",
              "          const dataTable =\n",
              "            await google.colab.kernel.invokeFunction('convertToInteractive',\n",
              "                                                     [key], {});\n",
              "          if (!dataTable) return;\n",
              "\n",
              "          const docLinkHtml = 'Like what you see? Visit the ' +\n",
              "            '<a target=\"_blank\" href=https://colab.research.google.com/notebooks/data_table.ipynb>data table notebook</a>'\n",
              "            + ' to learn more about interactive tables.';\n",
              "          element.innerHTML = '';\n",
              "          dataTable['output_type'] = 'display_data';\n",
              "          await google.colab.output.renderOutput(dataTable, element);\n",
              "          const docLink = document.createElement('div');\n",
              "          docLink.innerHTML = docLinkHtml;\n",
              "          element.appendChild(docLink);\n",
              "        }\n",
              "      </script>\n",
              "    </div>\n",
              "  </div>\n",
              "  "
            ]
          },
          "metadata": {},
          "execution_count": 476
        }
      ]
    },
    {
      "cell_type": "code",
      "source": [
        "# delivery fee and other variables\n",
        "linear_reg = linear_regression_model(x, y)\n",
        "predict_variables = dirty_BK[['time_of_day', 'distance_to_customer_KM', 'weekend']]\n",
        "# predict new calculated delivery fee\n",
        "predict_delivery_fee = linear_prediction_model(linear_reg, predict_variables)\n",
        "# add the new column to the dataframe\n",
        "dirty_BK['predict_delivery_fee'] = predict_delivery_fee\n",
        "\n",
        "print(dirty_BK.shape)"
      ],
      "metadata": {
        "colab": {
          "base_uri": "https://localhost:8080/"
        },
        "id": "8NHD6BBB5fiv",
        "outputId": "13978268-d238-4bd8-a7c8-a560c80e9387"
      },
      "execution_count": 477,
      "outputs": [
        {
          "output_type": "stream",
          "name": "stdout",
          "text": [
            "Training R2 0.7483433993535\n",
            "Testing R2 0.9745863421715171\n",
            "(158, 17)\n"
          ]
        },
        {
          "output_type": "stream",
          "name": "stderr",
          "text": [
            "/usr/local/lib/python3.7/dist-packages/ipykernel_launcher.py:7: SettingWithCopyWarning: \n",
            "A value is trying to be set on a copy of a slice from a DataFrame.\n",
            "Try using .loc[row_indexer,col_indexer] = value instead\n",
            "\n",
            "See the caveats in the documentation: https://pandas.pydata.org/pandas-docs/stable/user_guide/indexing.html#returning-a-view-versus-a-copy\n",
            "  import sys\n"
          ]
        }
      ]
    },
    {
      "cell_type": "code",
      "source": [
        "# Get residuals based on the difference between true and predicted values\n",
        "dirty_BK['residual'] = dirty_BK.apply(lambda x: (x['undiscounted_delivery_fee']-x['predict_delivery_fee']), axis=1)"
      ],
      "metadata": {
        "colab": {
          "base_uri": "https://localhost:8080/"
        },
        "id": "ljzf0GRI5pNr",
        "outputId": "aa5ffd78-b2c3-4200-aa86-cd7ed475320c"
      },
      "execution_count": 478,
      "outputs": [
        {
          "output_type": "stream",
          "name": "stderr",
          "text": [
            "/usr/local/lib/python3.7/dist-packages/ipykernel_launcher.py:2: SettingWithCopyWarning: \n",
            "A value is trying to be set on a copy of a slice from a DataFrame.\n",
            "Try using .loc[row_indexer,col_indexer] = value instead\n",
            "\n",
            "See the caveats in the documentation: https://pandas.pydata.org/pandas-docs/stable/user_guide/indexing.html#returning-a-view-versus-a-copy\n",
            "  \n"
          ]
        }
      ]
    },
    {
      "cell_type": "code",
      "source": [
        "dirty_BK.residual.describe()"
      ],
      "metadata": {
        "colab": {
          "base_uri": "https://localhost:8080/"
        },
        "id": "7sJwd8Cn5vxH",
        "outputId": "143ebcad-979a-4cfb-e56a-e71a5aa23c22"
      },
      "execution_count": 479,
      "outputs": [
        {
          "output_type": "execute_result",
          "data": {
            "text/plain": [
              "count    158.000000\n",
              "mean      -0.031232\n",
              "std        1.170270\n",
              "min       -2.680195\n",
              "25%       -0.413722\n",
              "50%       -0.148950\n",
              "75%        0.132431\n",
              "max       12.343527\n",
              "Name: residual, dtype: float64"
            ]
          },
          "metadata": {},
          "execution_count": 479
        }
      ]
    },
    {
      "cell_type": "code",
      "source": [
        "dirty_BK.customerHasloyalty.value_counts()"
      ],
      "metadata": {
        "colab": {
          "base_uri": "https://localhost:8080/"
        },
        "id": "7mYcEe7i51iM",
        "outputId": "26b4806f-32dc-40ea-ad61-d78fc755245c"
      },
      "execution_count": 480,
      "outputs": [
        {
          "output_type": "execute_result",
          "data": {
            "text/plain": [
              "0    153\n",
              "1      5\n",
              "Name: customerHasloyalty, dtype: int64"
            ]
          },
          "metadata": {},
          "execution_count": 480
        }
      ]
    },
    {
      "cell_type": "code",
      "source": [
        "# Change customerHasloyalty based on resiudal values\n",
        "dirty_BK.loc[dirty_BK['residual'] > 5, 'customerHasloyalty'] = 0"
      ],
      "metadata": {
        "colab": {
          "base_uri": "https://localhost:8080/"
        },
        "id": "a2zW6gq56EAW",
        "outputId": "499531e7-6382-4293-e02a-ab6b6901eab9"
      },
      "execution_count": 481,
      "outputs": [
        {
          "output_type": "stream",
          "name": "stderr",
          "text": [
            "/usr/local/lib/python3.7/dist-packages/pandas/core/indexing.py:1817: SettingWithCopyWarning: \n",
            "A value is trying to be set on a copy of a slice from a DataFrame.\n",
            "Try using .loc[row_indexer,col_indexer] = value instead\n",
            "\n",
            "See the caveats in the documentation: https://pandas.pydata.org/pandas-docs/stable/user_guide/indexing.html#returning-a-view-versus-a-copy\n",
            "  self._setitem_single_column(loc, value, pi)\n"
          ]
        }
      ]
    },
    {
      "cell_type": "code",
      "source": [
        "dirty_BK.customerHasloyalty.value_counts()"
      ],
      "metadata": {
        "colab": {
          "base_uri": "https://localhost:8080/"
        },
        "id": "cW20s7Rt6Jtt",
        "outputId": "f64aa056-891b-4651-afc8-bed4f2995be8"
      },
      "execution_count": 482,
      "outputs": [
        {
          "output_type": "execute_result",
          "data": {
            "text/plain": [
              "0    154\n",
              "1      4\n",
              "Name: customerHasloyalty, dtype: int64"
            ]
          },
          "metadata": {},
          "execution_count": 482
        }
      ]
    },
    {
      "cell_type": "code",
      "source": [
        "# Combine datasets and reindex rows\n",
        "dirty = pd.concat([dirty_TP, dirty_BK, dirty_NS], axis=0)\n",
        "dirty = dirty.sort_index(axis=0,ascending=True)"
      ],
      "metadata": {
        "id": "22S8IYZW6XWF"
      },
      "execution_count": 483,
      "outputs": []
    },
    {
      "cell_type": "code",
      "source": [
        "dirty.customerHasloyalty.value_counts()"
      ],
      "metadata": {
        "colab": {
          "base_uri": "https://localhost:8080/"
        },
        "id": "isU0GnZu6rTm",
        "outputId": "7f416ba4-9c14-4633-c8d3-08054295bb8b"
      },
      "execution_count": 484,
      "outputs": [
        {
          "output_type": "execute_result",
          "data": {
            "text/plain": [
              "0    476\n",
              "1     24\n",
              "Name: customerHasloyalty, dtype: int64"
            ]
          },
          "metadata": {},
          "execution_count": 484
        }
      ]
    },
    {
      "cell_type": "markdown",
      "metadata": {
        "id": "NdGLOfTN3Kjy"
      },
      "source": [
        "## 1.7 Order Items & Order Price"
      ]
    },
    {
      "cell_type": "markdown",
      "metadata": {
        "id": "tIW8z0Tg_md2"
      },
      "source": [
        "For the order items, we are told that the quantity of these items are correct, however we need to check the items themselves. We are also told that only certain items are served at each meal, thus we should be able to match certain meals to certain items"
      ]
    },
    {
      "cell_type": "code",
      "source": [
        "import json"
      ],
      "metadata": {
        "id": "FZPzIn6-j2ud"
      },
      "execution_count": 485,
      "outputs": []
    },
    {
      "cell_type": "code",
      "source": [
        "def fix_order_items(order):\n",
        "    #when order of order list start with these special characterics\n",
        "    #replace them them \"\" or []\n",
        "    order_list = (\n",
        "        order\n",
        "        .replace(\"'\", '\"')\n",
        "        .replace('(', '[')\n",
        "        .replace(')', ']'))\n",
        "    #json format for prefering dict()\n",
        "    food_list = json.loads(order_list)\n",
        "    #change food: quantity into dict()\n",
        "    food_list = dict(food_list)\n",
        "    return food_list"
      ],
      "metadata": {
        "id": "IGQ3TMElj1LF"
      },
      "execution_count": 486,
      "outputs": []
    },
    {
      "cell_type": "code",
      "source": [
        "def find_price(file_name, restaurant):\n",
        "    #read dataset\n",
        "    df = pd.read_csv(file_name)\n",
        "    df = df[df['order_type'] == restaurant]\n",
        "    # only need need shoppin card data for applying `fix_order_items` column\n",
        "    df['order_items'] = df['order_items'].map(fix_order_items)\n",
        "    \n",
        "    # create food list with int type\n",
        "    food_list = pd.DataFrame(\n",
        "        df['order_items'].tolist(),\n",
        "        dtype=int)\n",
        "    \n",
        "    #for matrix need to fill nan values by 0,\n",
        "    #not all foods are ordered in every order\n",
        "    food_list.fillna(0, inplace=True)\n",
        "    \n",
        "    #order_prices read by matrix format with numpy array\n",
        "    price_list = np.array(df['order_price'])\n",
        "\n",
        "    # np.linalg.lstsq equationfor finding each food price\n",
        "    equation = np.linalg.lstsq(food_list, price_list, rcond=None)\n",
        "    #each food and their price zippend and listed\n",
        "    food_price = list(zip(food_list, equation[0]))\n",
        "\n",
        "    return food_price  \n",
        "\n",
        "food_price_dic = {}\n",
        "\n",
        "#validate the function with missing dataset\n",
        "for order_type in dirty['order_type'].unique().tolist():\n",
        "    predict_price = find_price('/content/drive/Shareddrives/FIT5196-s2-2022/A2/input_data/28746511_missing_data.csv', order_type)\n",
        "\n",
        "    print(order_type)\n",
        "    print(\"-----------------------\")\n",
        "    \n",
        "    print(predict_price)\n",
        "    print(\"-----------------------\")\n",
        "    \n",
        "    for index, item in predict_price:\n",
        "      food_price_dic[index] = round(item, 2)\n"
      ],
      "metadata": {
        "colab": {
          "base_uri": "https://localhost:8080/"
        },
        "id": "pManpl0vhYIE",
        "outputId": "0ab143e4-cd3d-45ec-9b5b-49741b08b772"
      },
      "execution_count": 487,
      "outputs": [
        {
          "output_type": "stream",
          "name": "stdout",
          "text": [
            "Dinner\n",
            "-----------------------\n",
            "[('Shrimp', 54.00000000000002), ('Fish&Chips', 35.000000000000014), ('Salmon', 41.00000000000003), ('Pasta', 27.50000000000002)]\n",
            "-----------------------\n",
            "Breakfast\n",
            "-----------------------\n",
            "[('Cereal', 19.99999999999998), ('Coffee', 5.4999999999999964), ('Pancake', 22.250000000000007), ('Eggs', 20.999999999999993)]\n",
            "-----------------------\n",
            "Lunch\n",
            "-----------------------\n",
            "[('Chicken', 32.0), ('Steak', 45.00000000000004), ('Burger', 31.00000000000002), ('Salad', 17.200000000000045), ('Fries', 12.000000000000012)]\n",
            "-----------------------\n"
          ]
        }
      ]
    },
    {
      "cell_type": "code",
      "source": [
        "food_price_dic"
      ],
      "metadata": {
        "colab": {
          "base_uri": "https://localhost:8080/"
        },
        "id": "GWlA9b7Kf8bz",
        "outputId": "820e558a-6b7b-4b20-80e5-a3176d9f45ff"
      },
      "execution_count": 488,
      "outputs": [
        {
          "output_type": "execute_result",
          "data": {
            "text/plain": [
              "{'Shrimp': 54.0,\n",
              " 'Fish&Chips': 35.0,\n",
              " 'Salmon': 41.0,\n",
              " 'Pasta': 27.5,\n",
              " 'Cereal': 20.0,\n",
              " 'Coffee': 5.5,\n",
              " 'Pancake': 22.25,\n",
              " 'Eggs': 21.0,\n",
              " 'Chicken': 32.0,\n",
              " 'Steak': 45.0,\n",
              " 'Burger': 31.0,\n",
              " 'Salad': 17.2,\n",
              " 'Fries': 12.0}"
            ]
          },
          "metadata": {},
          "execution_count": 488
        }
      ]
    },
    {
      "cell_type": "code",
      "source": [
        "dirty_dinner = dirty[dirty['order_type'] == 'Dinner']"
      ],
      "metadata": {
        "id": "ImKyBHfAEhwH"
      },
      "execution_count": 489,
      "outputs": []
    },
    {
      "cell_type": "code",
      "source": [
        "test = (dirty_dinner['order_items'])"
      ],
      "metadata": {
        "id": "6VO4YnjLLQJk"
      },
      "execution_count": 490,
      "outputs": []
    },
    {
      "cell_type": "code",
      "source": [
        "mylist = ' '.join(test)"
      ],
      "metadata": {
        "id": "DbaUK8vWRnoy"
      },
      "execution_count": 491,
      "outputs": []
    },
    {
      "cell_type": "code",
      "source": [
        "mylist = mylist.replace('[','')\n",
        "mylist = mylist.replace(']','')\n",
        "mylist = mylist.replace('(','')\n",
        "mylist = mylist.replace(')','')\n",
        "mylist = mylist.replace(',','')\n",
        "mylist = mylist.split(' ')"
      ],
      "metadata": {
        "id": "8ANhIauIRyqG"
      },
      "execution_count": 492,
      "outputs": []
    },
    {
      "cell_type": "code",
      "source": [
        "mylist = mylist[0::2]"
      ],
      "metadata": {
        "id": "gim21cJLNop6"
      },
      "execution_count": 493,
      "outputs": []
    },
    {
      "cell_type": "code",
      "source": [
        "def countOccurrence(a):\n",
        "  k = {}\n",
        "  for j in a:\n",
        "    if j in k:\n",
        "      k[j] +=1\n",
        "    else:\n",
        "      k[j] =1\n",
        "  return k\n",
        "\n",
        "print(countOccurrence(mylist))"
      ],
      "metadata": {
        "colab": {
          "base_uri": "https://localhost:8080/"
        },
        "id": "56AkBqQxer7S",
        "outputId": "02d8c7d7-31e0-4ff2-8ee3-d8108c556025"
      },
      "execution_count": 494,
      "outputs": [
        {
          "output_type": "stream",
          "name": "stdout",
          "text": [
            "{\"'Fish&Chips'\": 123, \"'Salmon'\": 125, \"'Shrimp'\": 116, \"'Pasta'\": 123, \"'Fries'\": 1, \"'Pancake'\": 1}\n"
          ]
        }
      ]
    },
    {
      "cell_type": "code",
      "source": [
        "dirty_dinner.loc[dirty_dinner['order_items'].str.contains(\"Fries\")]"
      ],
      "metadata": {
        "colab": {
          "base_uri": "https://localhost:8080/",
          "height": 197
        },
        "id": "3dv5NgXNq7Ov",
        "outputId": "f848620c-5c73-4a4a-b0a4-87955adf7fe4"
      },
      "execution_count": 495,
      "outputs": [
        {
          "output_type": "execute_result",
          "data": {
            "text/plain": [
              "      order_id       date      time order_type branch_code  \\\n",
              "230  ORDA00788 2021-12-28  20:00:00     Dinner          BK   \n",
              "\n",
              "                                           order_items  order_price  \\\n",
              "230  [('Pasta', 5), ('Fries', 4), ('Salmon', 9), ('...        827.5   \n",
              "\n",
              "     customer_lat  customer_lon  customerHasloyalty  delivery_fee  \\\n",
              "230     -37.82325     144.95973                   0      15.42561   \n",
              "\n",
              "     distance_to_customer_KM  day_of_week  weekend  time_of_day  \\\n",
              "230                    8.517            1        0            2   \n",
              "\n",
              "     undiscounted_delivery_fee  predict_delivery_fee  residual  \n",
              "230                   15.42561             15.398292  0.027318  "
            ],
            "text/html": [
              "\n",
              "  <div id=\"df-27b24114-6f5d-411a-91b0-e2a292fef896\">\n",
              "    <div class=\"colab-df-container\">\n",
              "      <div>\n",
              "<style scoped>\n",
              "    .dataframe tbody tr th:only-of-type {\n",
              "        vertical-align: middle;\n",
              "    }\n",
              "\n",
              "    .dataframe tbody tr th {\n",
              "        vertical-align: top;\n",
              "    }\n",
              "\n",
              "    .dataframe thead th {\n",
              "        text-align: right;\n",
              "    }\n",
              "</style>\n",
              "<table border=\"1\" class=\"dataframe\">\n",
              "  <thead>\n",
              "    <tr style=\"text-align: right;\">\n",
              "      <th></th>\n",
              "      <th>order_id</th>\n",
              "      <th>date</th>\n",
              "      <th>time</th>\n",
              "      <th>order_type</th>\n",
              "      <th>branch_code</th>\n",
              "      <th>order_items</th>\n",
              "      <th>order_price</th>\n",
              "      <th>customer_lat</th>\n",
              "      <th>customer_lon</th>\n",
              "      <th>customerHasloyalty</th>\n",
              "      <th>delivery_fee</th>\n",
              "      <th>distance_to_customer_KM</th>\n",
              "      <th>day_of_week</th>\n",
              "      <th>weekend</th>\n",
              "      <th>time_of_day</th>\n",
              "      <th>undiscounted_delivery_fee</th>\n",
              "      <th>predict_delivery_fee</th>\n",
              "      <th>residual</th>\n",
              "    </tr>\n",
              "  </thead>\n",
              "  <tbody>\n",
              "    <tr>\n",
              "      <th>230</th>\n",
              "      <td>ORDA00788</td>\n",
              "      <td>2021-12-28</td>\n",
              "      <td>20:00:00</td>\n",
              "      <td>Dinner</td>\n",
              "      <td>BK</td>\n",
              "      <td>[('Pasta', 5), ('Fries', 4), ('Salmon', 9), ('...</td>\n",
              "      <td>827.5</td>\n",
              "      <td>-37.82325</td>\n",
              "      <td>144.95973</td>\n",
              "      <td>0</td>\n",
              "      <td>15.42561</td>\n",
              "      <td>8.517</td>\n",
              "      <td>1</td>\n",
              "      <td>0</td>\n",
              "      <td>2</td>\n",
              "      <td>15.42561</td>\n",
              "      <td>15.398292</td>\n",
              "      <td>0.027318</td>\n",
              "    </tr>\n",
              "  </tbody>\n",
              "</table>\n",
              "</div>\n",
              "      <button class=\"colab-df-convert\" onclick=\"convertToInteractive('df-27b24114-6f5d-411a-91b0-e2a292fef896')\"\n",
              "              title=\"Convert this dataframe to an interactive table.\"\n",
              "              style=\"display:none;\">\n",
              "        \n",
              "  <svg xmlns=\"http://www.w3.org/2000/svg\" height=\"24px\"viewBox=\"0 0 24 24\"\n",
              "       width=\"24px\">\n",
              "    <path d=\"M0 0h24v24H0V0z\" fill=\"none\"/>\n",
              "    <path d=\"M18.56 5.44l.94 2.06.94-2.06 2.06-.94-2.06-.94-.94-2.06-.94 2.06-2.06.94zm-11 1L8.5 8.5l.94-2.06 2.06-.94-2.06-.94L8.5 2.5l-.94 2.06-2.06.94zm10 10l.94 2.06.94-2.06 2.06-.94-2.06-.94-.94-2.06-.94 2.06-2.06.94z\"/><path d=\"M17.41 7.96l-1.37-1.37c-.4-.4-.92-.59-1.43-.59-.52 0-1.04.2-1.43.59L10.3 9.45l-7.72 7.72c-.78.78-.78 2.05 0 2.83L4 21.41c.39.39.9.59 1.41.59.51 0 1.02-.2 1.41-.59l7.78-7.78 2.81-2.81c.8-.78.8-2.07 0-2.86zM5.41 20L4 18.59l7.72-7.72 1.47 1.35L5.41 20z\"/>\n",
              "  </svg>\n",
              "      </button>\n",
              "      \n",
              "  <style>\n",
              "    .colab-df-container {\n",
              "      display:flex;\n",
              "      flex-wrap:wrap;\n",
              "      gap: 12px;\n",
              "    }\n",
              "\n",
              "    .colab-df-convert {\n",
              "      background-color: #E8F0FE;\n",
              "      border: none;\n",
              "      border-radius: 50%;\n",
              "      cursor: pointer;\n",
              "      display: none;\n",
              "      fill: #1967D2;\n",
              "      height: 32px;\n",
              "      padding: 0 0 0 0;\n",
              "      width: 32px;\n",
              "    }\n",
              "\n",
              "    .colab-df-convert:hover {\n",
              "      background-color: #E2EBFA;\n",
              "      box-shadow: 0px 1px 2px rgba(60, 64, 67, 0.3), 0px 1px 3px 1px rgba(60, 64, 67, 0.15);\n",
              "      fill: #174EA6;\n",
              "    }\n",
              "\n",
              "    [theme=dark] .colab-df-convert {\n",
              "      background-color: #3B4455;\n",
              "      fill: #D2E3FC;\n",
              "    }\n",
              "\n",
              "    [theme=dark] .colab-df-convert:hover {\n",
              "      background-color: #434B5C;\n",
              "      box-shadow: 0px 1px 3px 1px rgba(0, 0, 0, 0.15);\n",
              "      filter: drop-shadow(0px 1px 2px rgba(0, 0, 0, 0.3));\n",
              "      fill: #FFFFFF;\n",
              "    }\n",
              "  </style>\n",
              "\n",
              "      <script>\n",
              "        const buttonEl =\n",
              "          document.querySelector('#df-27b24114-6f5d-411a-91b0-e2a292fef896 button.colab-df-convert');\n",
              "        buttonEl.style.display =\n",
              "          google.colab.kernel.accessAllowed ? 'block' : 'none';\n",
              "\n",
              "        async function convertToInteractive(key) {\n",
              "          const element = document.querySelector('#df-27b24114-6f5d-411a-91b0-e2a292fef896');\n",
              "          const dataTable =\n",
              "            await google.colab.kernel.invokeFunction('convertToInteractive',\n",
              "                                                     [key], {});\n",
              "          if (!dataTable) return;\n",
              "\n",
              "          const docLinkHtml = 'Like what you see? Visit the ' +\n",
              "            '<a target=\"_blank\" href=https://colab.research.google.com/notebooks/data_table.ipynb>data table notebook</a>'\n",
              "            + ' to learn more about interactive tables.';\n",
              "          element.innerHTML = '';\n",
              "          dataTable['output_type'] = 'display_data';\n",
              "          await google.colab.output.renderOutput(dataTable, element);\n",
              "          const docLink = document.createElement('div');\n",
              "          docLink.innerHTML = docLinkHtml;\n",
              "          element.appendChild(docLink);\n",
              "        }\n",
              "      </script>\n",
              "    </div>\n",
              "  </div>\n",
              "  "
            ]
          },
          "metadata": {},
          "execution_count": 495
        }
      ]
    },
    {
      "cell_type": "code",
      "source": [
        "dirty.at[230,'order_items']"
      ],
      "metadata": {
        "colab": {
          "base_uri": "https://localhost:8080/",
          "height": 35
        },
        "id": "rF1Xvr18xWnP",
        "outputId": "2f155465-ccda-4673-b4a2-387eaf819e3f"
      },
      "execution_count": 496,
      "outputs": [
        {
          "output_type": "execute_result",
          "data": {
            "text/plain": [
              "\"[('Pasta', 5), ('Fries', 4), ('Salmon', 9), ('Fish&Chips', 3)]\""
            ],
            "application/vnd.google.colaboratory.intrinsic+json": {
              "type": "string"
            }
          },
          "metadata": {},
          "execution_count": 496
        }
      ]
    },
    {
      "cell_type": "code",
      "source": [
        "(827.5 - 27.5*5 - 9*41 - 3*35)/4"
      ],
      "metadata": {
        "colab": {
          "base_uri": "https://localhost:8080/"
        },
        "id": "JwfZLDHAvDZX",
        "outputId": "bc84a32d-3f3c-4f21-c4bd-139c6f1260ae"
      },
      "execution_count": 497,
      "outputs": [
        {
          "output_type": "execute_result",
          "data": {
            "text/plain": [
              "54.0"
            ]
          },
          "metadata": {},
          "execution_count": 497
        }
      ]
    },
    {
      "cell_type": "code",
      "source": [
        "dirty.at[230,'order_items'] = \"[('Pasta', 5), ('Shrimp', 4), ('Salmon', 9), ('Fish&Chips', 3)]\""
      ],
      "metadata": {
        "id": "RfmqbEwTxkrd"
      },
      "execution_count": 498,
      "outputs": []
    },
    {
      "cell_type": "code",
      "source": [
        "dirty_dinner.loc[dirty_dinner['order_items'].str.contains(\"Pancake\")]"
      ],
      "metadata": {
        "colab": {
          "base_uri": "https://localhost:8080/",
          "height": 197
        },
        "id": "wxMvSh52rbUC",
        "outputId": "ea4279ae-5d6e-4da8-f7f6-795d1963a417"
      },
      "execution_count": 499,
      "outputs": [
        {
          "output_type": "execute_result",
          "data": {
            "text/plain": [
              "      order_id       date      time order_type branch_code  \\\n",
              "284  ORDJ10254 2021-12-29  20:00:00     Dinner          TP   \n",
              "\n",
              "                                           order_items  order_price  \\\n",
              "284  [('Salmon', 9), ('Fish&Chips', 1), ('Shrimp', ...        893.0   \n",
              "\n",
              "     customer_lat  customer_lon  customerHasloyalty  delivery_fee  \\\n",
              "284    -37.808795    144.982587                   0     13.824818   \n",
              "\n",
              "     distance_to_customer_KM  day_of_week  weekend  time_of_day  \\\n",
              "284                    9.681            2        0            2   \n",
              "\n",
              "     undiscounted_delivery_fee  predict_delivery_fee  residual  \n",
              "284                  13.824818             14.652259 -0.827441  "
            ],
            "text/html": [
              "\n",
              "  <div id=\"df-36dac796-f8b0-4611-9a5e-6690c7f468f0\">\n",
              "    <div class=\"colab-df-container\">\n",
              "      <div>\n",
              "<style scoped>\n",
              "    .dataframe tbody tr th:only-of-type {\n",
              "        vertical-align: middle;\n",
              "    }\n",
              "\n",
              "    .dataframe tbody tr th {\n",
              "        vertical-align: top;\n",
              "    }\n",
              "\n",
              "    .dataframe thead th {\n",
              "        text-align: right;\n",
              "    }\n",
              "</style>\n",
              "<table border=\"1\" class=\"dataframe\">\n",
              "  <thead>\n",
              "    <tr style=\"text-align: right;\">\n",
              "      <th></th>\n",
              "      <th>order_id</th>\n",
              "      <th>date</th>\n",
              "      <th>time</th>\n",
              "      <th>order_type</th>\n",
              "      <th>branch_code</th>\n",
              "      <th>order_items</th>\n",
              "      <th>order_price</th>\n",
              "      <th>customer_lat</th>\n",
              "      <th>customer_lon</th>\n",
              "      <th>customerHasloyalty</th>\n",
              "      <th>delivery_fee</th>\n",
              "      <th>distance_to_customer_KM</th>\n",
              "      <th>day_of_week</th>\n",
              "      <th>weekend</th>\n",
              "      <th>time_of_day</th>\n",
              "      <th>undiscounted_delivery_fee</th>\n",
              "      <th>predict_delivery_fee</th>\n",
              "      <th>residual</th>\n",
              "    </tr>\n",
              "  </thead>\n",
              "  <tbody>\n",
              "    <tr>\n",
              "      <th>284</th>\n",
              "      <td>ORDJ10254</td>\n",
              "      <td>2021-12-29</td>\n",
              "      <td>20:00:00</td>\n",
              "      <td>Dinner</td>\n",
              "      <td>TP</td>\n",
              "      <td>[('Salmon', 9), ('Fish&amp;Chips', 1), ('Shrimp', ...</td>\n",
              "      <td>893.0</td>\n",
              "      <td>-37.808795</td>\n",
              "      <td>144.982587</td>\n",
              "      <td>0</td>\n",
              "      <td>13.824818</td>\n",
              "      <td>9.681</td>\n",
              "      <td>2</td>\n",
              "      <td>0</td>\n",
              "      <td>2</td>\n",
              "      <td>13.824818</td>\n",
              "      <td>14.652259</td>\n",
              "      <td>-0.827441</td>\n",
              "    </tr>\n",
              "  </tbody>\n",
              "</table>\n",
              "</div>\n",
              "      <button class=\"colab-df-convert\" onclick=\"convertToInteractive('df-36dac796-f8b0-4611-9a5e-6690c7f468f0')\"\n",
              "              title=\"Convert this dataframe to an interactive table.\"\n",
              "              style=\"display:none;\">\n",
              "        \n",
              "  <svg xmlns=\"http://www.w3.org/2000/svg\" height=\"24px\"viewBox=\"0 0 24 24\"\n",
              "       width=\"24px\">\n",
              "    <path d=\"M0 0h24v24H0V0z\" fill=\"none\"/>\n",
              "    <path d=\"M18.56 5.44l.94 2.06.94-2.06 2.06-.94-2.06-.94-.94-2.06-.94 2.06-2.06.94zm-11 1L8.5 8.5l.94-2.06 2.06-.94-2.06-.94L8.5 2.5l-.94 2.06-2.06.94zm10 10l.94 2.06.94-2.06 2.06-.94-2.06-.94-.94-2.06-.94 2.06-2.06.94z\"/><path d=\"M17.41 7.96l-1.37-1.37c-.4-.4-.92-.59-1.43-.59-.52 0-1.04.2-1.43.59L10.3 9.45l-7.72 7.72c-.78.78-.78 2.05 0 2.83L4 21.41c.39.39.9.59 1.41.59.51 0 1.02-.2 1.41-.59l7.78-7.78 2.81-2.81c.8-.78.8-2.07 0-2.86zM5.41 20L4 18.59l7.72-7.72 1.47 1.35L5.41 20z\"/>\n",
              "  </svg>\n",
              "      </button>\n",
              "      \n",
              "  <style>\n",
              "    .colab-df-container {\n",
              "      display:flex;\n",
              "      flex-wrap:wrap;\n",
              "      gap: 12px;\n",
              "    }\n",
              "\n",
              "    .colab-df-convert {\n",
              "      background-color: #E8F0FE;\n",
              "      border: none;\n",
              "      border-radius: 50%;\n",
              "      cursor: pointer;\n",
              "      display: none;\n",
              "      fill: #1967D2;\n",
              "      height: 32px;\n",
              "      padding: 0 0 0 0;\n",
              "      width: 32px;\n",
              "    }\n",
              "\n",
              "    .colab-df-convert:hover {\n",
              "      background-color: #E2EBFA;\n",
              "      box-shadow: 0px 1px 2px rgba(60, 64, 67, 0.3), 0px 1px 3px 1px rgba(60, 64, 67, 0.15);\n",
              "      fill: #174EA6;\n",
              "    }\n",
              "\n",
              "    [theme=dark] .colab-df-convert {\n",
              "      background-color: #3B4455;\n",
              "      fill: #D2E3FC;\n",
              "    }\n",
              "\n",
              "    [theme=dark] .colab-df-convert:hover {\n",
              "      background-color: #434B5C;\n",
              "      box-shadow: 0px 1px 3px 1px rgba(0, 0, 0, 0.15);\n",
              "      filter: drop-shadow(0px 1px 2px rgba(0, 0, 0, 0.3));\n",
              "      fill: #FFFFFF;\n",
              "    }\n",
              "  </style>\n",
              "\n",
              "      <script>\n",
              "        const buttonEl =\n",
              "          document.querySelector('#df-36dac796-f8b0-4611-9a5e-6690c7f468f0 button.colab-df-convert');\n",
              "        buttonEl.style.display =\n",
              "          google.colab.kernel.accessAllowed ? 'block' : 'none';\n",
              "\n",
              "        async function convertToInteractive(key) {\n",
              "          const element = document.querySelector('#df-36dac796-f8b0-4611-9a5e-6690c7f468f0');\n",
              "          const dataTable =\n",
              "            await google.colab.kernel.invokeFunction('convertToInteractive',\n",
              "                                                     [key], {});\n",
              "          if (!dataTable) return;\n",
              "\n",
              "          const docLinkHtml = 'Like what you see? Visit the ' +\n",
              "            '<a target=\"_blank\" href=https://colab.research.google.com/notebooks/data_table.ipynb>data table notebook</a>'\n",
              "            + ' to learn more about interactive tables.';\n",
              "          element.innerHTML = '';\n",
              "          dataTable['output_type'] = 'display_data';\n",
              "          await google.colab.output.renderOutput(dataTable, element);\n",
              "          const docLink = document.createElement('div');\n",
              "          docLink.innerHTML = docLinkHtml;\n",
              "          element.appendChild(docLink);\n",
              "        }\n",
              "      </script>\n",
              "    </div>\n",
              "  </div>\n",
              "  "
            ]
          },
          "metadata": {},
          "execution_count": 499
        }
      ]
    },
    {
      "cell_type": "code",
      "source": [
        "dirty.at[284,'order_items']"
      ],
      "metadata": {
        "colab": {
          "base_uri": "https://localhost:8080/",
          "height": 35
        },
        "id": "wx6qtScdxvlH",
        "outputId": "4fdb5e8f-7b32-4489-ef62-e349a34964d8"
      },
      "execution_count": 500,
      "outputs": [
        {
          "output_type": "execute_result",
          "data": {
            "text/plain": [
              "\"[('Salmon', 9), ('Fish&Chips', 1), ('Shrimp', 6), ('Pancake', 6)]\""
            ],
            "application/vnd.google.colaboratory.intrinsic+json": {
              "type": "string"
            }
          },
          "metadata": {},
          "execution_count": 500
        }
      ]
    },
    {
      "cell_type": "code",
      "source": [
        "dirty.at[284,'order_items'] = \"[('Salmon', 9), ('Fish&Chips', 1), ('Shrimp', 6), ('Pasta', 6)]\""
      ],
      "metadata": {
        "id": "9h5GTDLcxyuq"
      },
      "execution_count": 501,
      "outputs": []
    },
    {
      "cell_type": "code",
      "source": [
        "dirty_lunch = dirty[dirty['order_type'] == 'Lunch']"
      ],
      "metadata": {
        "id": "Nsox7Sv3fGAn"
      },
      "execution_count": 502,
      "outputs": []
    },
    {
      "cell_type": "code",
      "source": [
        "lunch = (dirty_lunch['order_items'])"
      ],
      "metadata": {
        "id": "UndsYqi0fJ14"
      },
      "execution_count": 503,
      "outputs": []
    },
    {
      "cell_type": "code",
      "source": [
        "lunch_list = ' '.join(lunch)"
      ],
      "metadata": {
        "id": "g1gAltltfRcC"
      },
      "execution_count": 504,
      "outputs": []
    },
    {
      "cell_type": "code",
      "source": [
        "lunch_list = lunch_list.replace('[','')\n",
        "lunch_list = lunch_list.replace(']','')\n",
        "lunch_list = lunch_list.replace('(','')\n",
        "lunch_list = lunch_list.replace(')','')\n",
        "lunch_list = lunch_list.replace(',','')\n",
        "lunch_list = lunch_list.split(' ')"
      ],
      "metadata": {
        "id": "RyOu76Z-fUmx"
      },
      "execution_count": 505,
      "outputs": []
    },
    {
      "cell_type": "code",
      "source": [
        "lunch_list = lunch_list[0::2]"
      ],
      "metadata": {
        "id": "Fwigie-Nfz4O"
      },
      "execution_count": 506,
      "outputs": []
    },
    {
      "cell_type": "code",
      "source": [
        "print(countOccurrence(lunch_list))"
      ],
      "metadata": {
        "colab": {
          "base_uri": "https://localhost:8080/"
        },
        "id": "ML9qSRbzfgzN",
        "outputId": "9532525c-d34f-4740-8c6d-9a21fda540e1"
      },
      "execution_count": 507,
      "outputs": [
        {
          "output_type": "stream",
          "name": "stdout",
          "text": [
            "{\"'Steak'\": 109, \"'Salad'\": 110, \"'Burger'\": 113, \"'Fries'\": 109, \"'Chicken'\": 107, \"'Shrimp'\": 1, \"'Pancake'\": 2, \"'Fish&Chips'\": 1}\n"
          ]
        }
      ]
    },
    {
      "cell_type": "code",
      "source": [
        "dirty_lunch.loc[dirty_lunch['order_items'].str.contains(\"Pancake\")]"
      ],
      "metadata": {
        "colab": {
          "base_uri": "https://localhost:8080/",
          "height": 298
        },
        "id": "fNZdqNxor9qh",
        "outputId": "a2e0955d-0033-4d95-90b2-926bc2ca846d"
      },
      "execution_count": 508,
      "outputs": [
        {
          "output_type": "execute_result",
          "data": {
            "text/plain": [
              "      order_id       date      time order_type branch_code  \\\n",
              "263  ORDK05877 2021-06-20  13:34:38      Lunch          BK   \n",
              "467  ORDJ02136 2021-08-22  15:46:28      Lunch          TP   \n",
              "\n",
              "                                        order_items  order_price  \\\n",
              "263  [('Chicken', 6), ('Fries', 2), ('Pancake', 8)]        576.0   \n",
              "467   [('Pancake', 2), ('Burger', 8), ('Fries', 4)]        330.4   \n",
              "\n",
              "     customer_lat  customer_lon  customerHasloyalty  delivery_fee  \\\n",
              "263    -37.806426    144.961039                   0     16.473984   \n",
              "467    -37.805491    144.973646                   0     14.249179   \n",
              "\n",
              "     distance_to_customer_KM  day_of_week  weekend  time_of_day  \\\n",
              "263                    7.605            6        1            1   \n",
              "467                    9.517            6        1            1   \n",
              "\n",
              "     undiscounted_delivery_fee  predict_delivery_fee  residual  \n",
              "263                  16.473984             16.012490  0.461494  \n",
              "467                  14.249179             14.834488 -0.585309  "
            ],
            "text/html": [
              "\n",
              "  <div id=\"df-9d5680c7-96a3-4bde-ab5e-ceb0cc95e23e\">\n",
              "    <div class=\"colab-df-container\">\n",
              "      <div>\n",
              "<style scoped>\n",
              "    .dataframe tbody tr th:only-of-type {\n",
              "        vertical-align: middle;\n",
              "    }\n",
              "\n",
              "    .dataframe tbody tr th {\n",
              "        vertical-align: top;\n",
              "    }\n",
              "\n",
              "    .dataframe thead th {\n",
              "        text-align: right;\n",
              "    }\n",
              "</style>\n",
              "<table border=\"1\" class=\"dataframe\">\n",
              "  <thead>\n",
              "    <tr style=\"text-align: right;\">\n",
              "      <th></th>\n",
              "      <th>order_id</th>\n",
              "      <th>date</th>\n",
              "      <th>time</th>\n",
              "      <th>order_type</th>\n",
              "      <th>branch_code</th>\n",
              "      <th>order_items</th>\n",
              "      <th>order_price</th>\n",
              "      <th>customer_lat</th>\n",
              "      <th>customer_lon</th>\n",
              "      <th>customerHasloyalty</th>\n",
              "      <th>delivery_fee</th>\n",
              "      <th>distance_to_customer_KM</th>\n",
              "      <th>day_of_week</th>\n",
              "      <th>weekend</th>\n",
              "      <th>time_of_day</th>\n",
              "      <th>undiscounted_delivery_fee</th>\n",
              "      <th>predict_delivery_fee</th>\n",
              "      <th>residual</th>\n",
              "    </tr>\n",
              "  </thead>\n",
              "  <tbody>\n",
              "    <tr>\n",
              "      <th>263</th>\n",
              "      <td>ORDK05877</td>\n",
              "      <td>2021-06-20</td>\n",
              "      <td>13:34:38</td>\n",
              "      <td>Lunch</td>\n",
              "      <td>BK</td>\n",
              "      <td>[('Chicken', 6), ('Fries', 2), ('Pancake', 8)]</td>\n",
              "      <td>576.0</td>\n",
              "      <td>-37.806426</td>\n",
              "      <td>144.961039</td>\n",
              "      <td>0</td>\n",
              "      <td>16.473984</td>\n",
              "      <td>7.605</td>\n",
              "      <td>6</td>\n",
              "      <td>1</td>\n",
              "      <td>1</td>\n",
              "      <td>16.473984</td>\n",
              "      <td>16.012490</td>\n",
              "      <td>0.461494</td>\n",
              "    </tr>\n",
              "    <tr>\n",
              "      <th>467</th>\n",
              "      <td>ORDJ02136</td>\n",
              "      <td>2021-08-22</td>\n",
              "      <td>15:46:28</td>\n",
              "      <td>Lunch</td>\n",
              "      <td>TP</td>\n",
              "      <td>[('Pancake', 2), ('Burger', 8), ('Fries', 4)]</td>\n",
              "      <td>330.4</td>\n",
              "      <td>-37.805491</td>\n",
              "      <td>144.973646</td>\n",
              "      <td>0</td>\n",
              "      <td>14.249179</td>\n",
              "      <td>9.517</td>\n",
              "      <td>6</td>\n",
              "      <td>1</td>\n",
              "      <td>1</td>\n",
              "      <td>14.249179</td>\n",
              "      <td>14.834488</td>\n",
              "      <td>-0.585309</td>\n",
              "    </tr>\n",
              "  </tbody>\n",
              "</table>\n",
              "</div>\n",
              "      <button class=\"colab-df-convert\" onclick=\"convertToInteractive('df-9d5680c7-96a3-4bde-ab5e-ceb0cc95e23e')\"\n",
              "              title=\"Convert this dataframe to an interactive table.\"\n",
              "              style=\"display:none;\">\n",
              "        \n",
              "  <svg xmlns=\"http://www.w3.org/2000/svg\" height=\"24px\"viewBox=\"0 0 24 24\"\n",
              "       width=\"24px\">\n",
              "    <path d=\"M0 0h24v24H0V0z\" fill=\"none\"/>\n",
              "    <path d=\"M18.56 5.44l.94 2.06.94-2.06 2.06-.94-2.06-.94-.94-2.06-.94 2.06-2.06.94zm-11 1L8.5 8.5l.94-2.06 2.06-.94-2.06-.94L8.5 2.5l-.94 2.06-2.06.94zm10 10l.94 2.06.94-2.06 2.06-.94-2.06-.94-.94-2.06-.94 2.06-2.06.94z\"/><path d=\"M17.41 7.96l-1.37-1.37c-.4-.4-.92-.59-1.43-.59-.52 0-1.04.2-1.43.59L10.3 9.45l-7.72 7.72c-.78.78-.78 2.05 0 2.83L4 21.41c.39.39.9.59 1.41.59.51 0 1.02-.2 1.41-.59l7.78-7.78 2.81-2.81c.8-.78.8-2.07 0-2.86zM5.41 20L4 18.59l7.72-7.72 1.47 1.35L5.41 20z\"/>\n",
              "  </svg>\n",
              "      </button>\n",
              "      \n",
              "  <style>\n",
              "    .colab-df-container {\n",
              "      display:flex;\n",
              "      flex-wrap:wrap;\n",
              "      gap: 12px;\n",
              "    }\n",
              "\n",
              "    .colab-df-convert {\n",
              "      background-color: #E8F0FE;\n",
              "      border: none;\n",
              "      border-radius: 50%;\n",
              "      cursor: pointer;\n",
              "      display: none;\n",
              "      fill: #1967D2;\n",
              "      height: 32px;\n",
              "      padding: 0 0 0 0;\n",
              "      width: 32px;\n",
              "    }\n",
              "\n",
              "    .colab-df-convert:hover {\n",
              "      background-color: #E2EBFA;\n",
              "      box-shadow: 0px 1px 2px rgba(60, 64, 67, 0.3), 0px 1px 3px 1px rgba(60, 64, 67, 0.15);\n",
              "      fill: #174EA6;\n",
              "    }\n",
              "\n",
              "    [theme=dark] .colab-df-convert {\n",
              "      background-color: #3B4455;\n",
              "      fill: #D2E3FC;\n",
              "    }\n",
              "\n",
              "    [theme=dark] .colab-df-convert:hover {\n",
              "      background-color: #434B5C;\n",
              "      box-shadow: 0px 1px 3px 1px rgba(0, 0, 0, 0.15);\n",
              "      filter: drop-shadow(0px 1px 2px rgba(0, 0, 0, 0.3));\n",
              "      fill: #FFFFFF;\n",
              "    }\n",
              "  </style>\n",
              "\n",
              "      <script>\n",
              "        const buttonEl =\n",
              "          document.querySelector('#df-9d5680c7-96a3-4bde-ab5e-ceb0cc95e23e button.colab-df-convert');\n",
              "        buttonEl.style.display =\n",
              "          google.colab.kernel.accessAllowed ? 'block' : 'none';\n",
              "\n",
              "        async function convertToInteractive(key) {\n",
              "          const element = document.querySelector('#df-9d5680c7-96a3-4bde-ab5e-ceb0cc95e23e');\n",
              "          const dataTable =\n",
              "            await google.colab.kernel.invokeFunction('convertToInteractive',\n",
              "                                                     [key], {});\n",
              "          if (!dataTable) return;\n",
              "\n",
              "          const docLinkHtml = 'Like what you see? Visit the ' +\n",
              "            '<a target=\"_blank\" href=https://colab.research.google.com/notebooks/data_table.ipynb>data table notebook</a>'\n",
              "            + ' to learn more about interactive tables.';\n",
              "          element.innerHTML = '';\n",
              "          dataTable['output_type'] = 'display_data';\n",
              "          await google.colab.output.renderOutput(dataTable, element);\n",
              "          const docLink = document.createElement('div');\n",
              "          docLink.innerHTML = docLinkHtml;\n",
              "          element.appendChild(docLink);\n",
              "        }\n",
              "      </script>\n",
              "    </div>\n",
              "  </div>\n",
              "  "
            ]
          },
          "metadata": {},
          "execution_count": 508
        }
      ]
    },
    {
      "cell_type": "code",
      "source": [
        "(576 - 6*32 - 2*12)/8 "
      ],
      "metadata": {
        "colab": {
          "base_uri": "https://localhost:8080/"
        },
        "id": "woUsC_yjwr7p",
        "outputId": "fe3bbbba-025f-411f-c1e9-52281d89176e"
      },
      "execution_count": 509,
      "outputs": [
        {
          "output_type": "execute_result",
          "data": {
            "text/plain": [
              "45.0"
            ]
          },
          "metadata": {},
          "execution_count": 509
        }
      ]
    },
    {
      "cell_type": "code",
      "source": [
        "dirty.at[263,'order_items'] = \"[('Chicken', 6), ('Fries', 2), ('Steak', 8)]\""
      ],
      "metadata": {
        "id": "p2YRzcKKw154"
      },
      "execution_count": 510,
      "outputs": []
    },
    {
      "cell_type": "code",
      "source": [
        "(330.4\t- 4*12 - 8*31)/2"
      ],
      "metadata": {
        "colab": {
          "base_uri": "https://localhost:8080/"
        },
        "id": "jcDT-HmVw9e3",
        "outputId": "eac2be79-3507-47fc-aa58-459bcea3284a"
      },
      "execution_count": 511,
      "outputs": [
        {
          "output_type": "execute_result",
          "data": {
            "text/plain": [
              "17.19999999999999"
            ]
          },
          "metadata": {},
          "execution_count": 511
        }
      ]
    },
    {
      "cell_type": "code",
      "source": [
        "dirty.at[467,'order_items'] = \"[('Salad', 2), ('Burger', 8), ('Fries', 4)]\""
      ],
      "metadata": {
        "id": "8N0pU5CbxHcS"
      },
      "execution_count": 512,
      "outputs": []
    },
    {
      "cell_type": "code",
      "source": [
        "dirty_lunch.loc[dirty_lunch['order_items'].str.contains(\"Shrimp\")]"
      ],
      "metadata": {
        "colab": {
          "base_uri": "https://localhost:8080/",
          "height": 162
        },
        "id": "j9CEJXrKsBv9",
        "outputId": "9dc1e3a8-6a5a-4232-e63c-c22ba8728647"
      },
      "execution_count": 513,
      "outputs": [
        {
          "output_type": "execute_result",
          "data": {
            "text/plain": [
              "      order_id       date      time order_type branch_code  \\\n",
              "124  ORDA06541 2021-05-18  12:33:48      Lunch          BK   \n",
              "\n",
              "                       order_items  order_price  customer_lat  customer_lon  \\\n",
              "124  [('Shrimp', 4), ('Salad', 9)]        202.8    -37.799078    144.985447   \n",
              "\n",
              "     customerHasloyalty  delivery_fee  distance_to_customer_KM  day_of_week  \\\n",
              "124                   0     11.869211                    6.447            1   \n",
              "\n",
              "     weekend  time_of_day  undiscounted_delivery_fee  predict_delivery_fee  \\\n",
              "124        0            1                  11.869211             12.474199   \n",
              "\n",
              "     residual  \n",
              "124 -0.604988  "
            ],
            "text/html": [
              "\n",
              "  <div id=\"df-1d409cce-3017-4227-8dd1-12c69b9c2c5a\">\n",
              "    <div class=\"colab-df-container\">\n",
              "      <div>\n",
              "<style scoped>\n",
              "    .dataframe tbody tr th:only-of-type {\n",
              "        vertical-align: middle;\n",
              "    }\n",
              "\n",
              "    .dataframe tbody tr th {\n",
              "        vertical-align: top;\n",
              "    }\n",
              "\n",
              "    .dataframe thead th {\n",
              "        text-align: right;\n",
              "    }\n",
              "</style>\n",
              "<table border=\"1\" class=\"dataframe\">\n",
              "  <thead>\n",
              "    <tr style=\"text-align: right;\">\n",
              "      <th></th>\n",
              "      <th>order_id</th>\n",
              "      <th>date</th>\n",
              "      <th>time</th>\n",
              "      <th>order_type</th>\n",
              "      <th>branch_code</th>\n",
              "      <th>order_items</th>\n",
              "      <th>order_price</th>\n",
              "      <th>customer_lat</th>\n",
              "      <th>customer_lon</th>\n",
              "      <th>customerHasloyalty</th>\n",
              "      <th>delivery_fee</th>\n",
              "      <th>distance_to_customer_KM</th>\n",
              "      <th>day_of_week</th>\n",
              "      <th>weekend</th>\n",
              "      <th>time_of_day</th>\n",
              "      <th>undiscounted_delivery_fee</th>\n",
              "      <th>predict_delivery_fee</th>\n",
              "      <th>residual</th>\n",
              "    </tr>\n",
              "  </thead>\n",
              "  <tbody>\n",
              "    <tr>\n",
              "      <th>124</th>\n",
              "      <td>ORDA06541</td>\n",
              "      <td>2021-05-18</td>\n",
              "      <td>12:33:48</td>\n",
              "      <td>Lunch</td>\n",
              "      <td>BK</td>\n",
              "      <td>[('Shrimp', 4), ('Salad', 9)]</td>\n",
              "      <td>202.8</td>\n",
              "      <td>-37.799078</td>\n",
              "      <td>144.985447</td>\n",
              "      <td>0</td>\n",
              "      <td>11.869211</td>\n",
              "      <td>6.447</td>\n",
              "      <td>1</td>\n",
              "      <td>0</td>\n",
              "      <td>1</td>\n",
              "      <td>11.869211</td>\n",
              "      <td>12.474199</td>\n",
              "      <td>-0.604988</td>\n",
              "    </tr>\n",
              "  </tbody>\n",
              "</table>\n",
              "</div>\n",
              "      <button class=\"colab-df-convert\" onclick=\"convertToInteractive('df-1d409cce-3017-4227-8dd1-12c69b9c2c5a')\"\n",
              "              title=\"Convert this dataframe to an interactive table.\"\n",
              "              style=\"display:none;\">\n",
              "        \n",
              "  <svg xmlns=\"http://www.w3.org/2000/svg\" height=\"24px\"viewBox=\"0 0 24 24\"\n",
              "       width=\"24px\">\n",
              "    <path d=\"M0 0h24v24H0V0z\" fill=\"none\"/>\n",
              "    <path d=\"M18.56 5.44l.94 2.06.94-2.06 2.06-.94-2.06-.94-.94-2.06-.94 2.06-2.06.94zm-11 1L8.5 8.5l.94-2.06 2.06-.94-2.06-.94L8.5 2.5l-.94 2.06-2.06.94zm10 10l.94 2.06.94-2.06 2.06-.94-2.06-.94-.94-2.06-.94 2.06-2.06.94z\"/><path d=\"M17.41 7.96l-1.37-1.37c-.4-.4-.92-.59-1.43-.59-.52 0-1.04.2-1.43.59L10.3 9.45l-7.72 7.72c-.78.78-.78 2.05 0 2.83L4 21.41c.39.39.9.59 1.41.59.51 0 1.02-.2 1.41-.59l7.78-7.78 2.81-2.81c.8-.78.8-2.07 0-2.86zM5.41 20L4 18.59l7.72-7.72 1.47 1.35L5.41 20z\"/>\n",
              "  </svg>\n",
              "      </button>\n",
              "      \n",
              "  <style>\n",
              "    .colab-df-container {\n",
              "      display:flex;\n",
              "      flex-wrap:wrap;\n",
              "      gap: 12px;\n",
              "    }\n",
              "\n",
              "    .colab-df-convert {\n",
              "      background-color: #E8F0FE;\n",
              "      border: none;\n",
              "      border-radius: 50%;\n",
              "      cursor: pointer;\n",
              "      display: none;\n",
              "      fill: #1967D2;\n",
              "      height: 32px;\n",
              "      padding: 0 0 0 0;\n",
              "      width: 32px;\n",
              "    }\n",
              "\n",
              "    .colab-df-convert:hover {\n",
              "      background-color: #E2EBFA;\n",
              "      box-shadow: 0px 1px 2px rgba(60, 64, 67, 0.3), 0px 1px 3px 1px rgba(60, 64, 67, 0.15);\n",
              "      fill: #174EA6;\n",
              "    }\n",
              "\n",
              "    [theme=dark] .colab-df-convert {\n",
              "      background-color: #3B4455;\n",
              "      fill: #D2E3FC;\n",
              "    }\n",
              "\n",
              "    [theme=dark] .colab-df-convert:hover {\n",
              "      background-color: #434B5C;\n",
              "      box-shadow: 0px 1px 3px 1px rgba(0, 0, 0, 0.15);\n",
              "      filter: drop-shadow(0px 1px 2px rgba(0, 0, 0, 0.3));\n",
              "      fill: #FFFFFF;\n",
              "    }\n",
              "  </style>\n",
              "\n",
              "      <script>\n",
              "        const buttonEl =\n",
              "          document.querySelector('#df-1d409cce-3017-4227-8dd1-12c69b9c2c5a button.colab-df-convert');\n",
              "        buttonEl.style.display =\n",
              "          google.colab.kernel.accessAllowed ? 'block' : 'none';\n",
              "\n",
              "        async function convertToInteractive(key) {\n",
              "          const element = document.querySelector('#df-1d409cce-3017-4227-8dd1-12c69b9c2c5a');\n",
              "          const dataTable =\n",
              "            await google.colab.kernel.invokeFunction('convertToInteractive',\n",
              "                                                     [key], {});\n",
              "          if (!dataTable) return;\n",
              "\n",
              "          const docLinkHtml = 'Like what you see? Visit the ' +\n",
              "            '<a target=\"_blank\" href=https://colab.research.google.com/notebooks/data_table.ipynb>data table notebook</a>'\n",
              "            + ' to learn more about interactive tables.';\n",
              "          element.innerHTML = '';\n",
              "          dataTable['output_type'] = 'display_data';\n",
              "          await google.colab.output.renderOutput(dataTable, element);\n",
              "          const docLink = document.createElement('div');\n",
              "          docLink.innerHTML = docLinkHtml;\n",
              "          element.appendChild(docLink);\n",
              "        }\n",
              "      </script>\n",
              "    </div>\n",
              "  </div>\n",
              "  "
            ]
          },
          "metadata": {},
          "execution_count": 513
        }
      ]
    },
    {
      "cell_type": "code",
      "source": [
        "(202.8 - 9*17.2)/4 "
      ],
      "metadata": {
        "colab": {
          "base_uri": "https://localhost:8080/"
        },
        "id": "hL3Ky3MLwWQd",
        "outputId": "aaba02e4-519c-4a97-d08a-9b27f0e449de"
      },
      "execution_count": 514,
      "outputs": [
        {
          "output_type": "execute_result",
          "data": {
            "text/plain": [
              "12.000000000000007"
            ]
          },
          "metadata": {},
          "execution_count": 514
        }
      ]
    },
    {
      "cell_type": "code",
      "source": [
        "dirty.at[124,'order_items'] = \"[('Fries', 4), ('Salad', 9)]\""
      ],
      "metadata": {
        "id": "8djAM0Zowgpe"
      },
      "execution_count": 515,
      "outputs": []
    },
    {
      "cell_type": "code",
      "source": [
        "dirty_lunch.loc[dirty_lunch['order_items'].str.contains(\"Fish&Chips\")]"
      ],
      "metadata": {
        "colab": {
          "base_uri": "https://localhost:8080/",
          "height": 197
        },
        "id": "q_vGw-8dsEsy",
        "outputId": "4e42e306-eeb4-44b2-b235-cd0fb28e6536"
      },
      "execution_count": 516,
      "outputs": [
        {
          "output_type": "execute_result",
          "data": {
            "text/plain": [
              "      order_id       date      time order_type branch_code  \\\n",
              "425  ORDI09055 2021-07-21  14:35:29      Lunch          NS   \n",
              "\n",
              "                                           order_items  order_price  \\\n",
              "425  [('Fries', 3), ('Burger', 6), ('Chicken', 4), ...        733.8   \n",
              "\n",
              "     customer_lat  customer_lon  customerHasloyalty  delivery_fee  \\\n",
              "425    -37.816173    145.007404                   0     16.535984   \n",
              "\n",
              "     distance_to_customer_KM  day_of_week  weekend  time_of_day  \\\n",
              "425                   10.645            2        0            1   \n",
              "\n",
              "     undiscounted_delivery_fee  predict_delivery_fee  residual  \n",
              "425                  16.535984             16.165976  0.370008  "
            ],
            "text/html": [
              "\n",
              "  <div id=\"df-b2c4a45a-6b4f-49a8-9745-ddcca76184ea\">\n",
              "    <div class=\"colab-df-container\">\n",
              "      <div>\n",
              "<style scoped>\n",
              "    .dataframe tbody tr th:only-of-type {\n",
              "        vertical-align: middle;\n",
              "    }\n",
              "\n",
              "    .dataframe tbody tr th {\n",
              "        vertical-align: top;\n",
              "    }\n",
              "\n",
              "    .dataframe thead th {\n",
              "        text-align: right;\n",
              "    }\n",
              "</style>\n",
              "<table border=\"1\" class=\"dataframe\">\n",
              "  <thead>\n",
              "    <tr style=\"text-align: right;\">\n",
              "      <th></th>\n",
              "      <th>order_id</th>\n",
              "      <th>date</th>\n",
              "      <th>time</th>\n",
              "      <th>order_type</th>\n",
              "      <th>branch_code</th>\n",
              "      <th>order_items</th>\n",
              "      <th>order_price</th>\n",
              "      <th>customer_lat</th>\n",
              "      <th>customer_lon</th>\n",
              "      <th>customerHasloyalty</th>\n",
              "      <th>delivery_fee</th>\n",
              "      <th>distance_to_customer_KM</th>\n",
              "      <th>day_of_week</th>\n",
              "      <th>weekend</th>\n",
              "      <th>time_of_day</th>\n",
              "      <th>undiscounted_delivery_fee</th>\n",
              "      <th>predict_delivery_fee</th>\n",
              "      <th>residual</th>\n",
              "    </tr>\n",
              "  </thead>\n",
              "  <tbody>\n",
              "    <tr>\n",
              "      <th>425</th>\n",
              "      <td>ORDI09055</td>\n",
              "      <td>2021-07-21</td>\n",
              "      <td>14:35:29</td>\n",
              "      <td>Lunch</td>\n",
              "      <td>NS</td>\n",
              "      <td>[('Fries', 3), ('Burger', 6), ('Chicken', 4), ...</td>\n",
              "      <td>733.8</td>\n",
              "      <td>-37.816173</td>\n",
              "      <td>145.007404</td>\n",
              "      <td>0</td>\n",
              "      <td>16.535984</td>\n",
              "      <td>10.645</td>\n",
              "      <td>2</td>\n",
              "      <td>0</td>\n",
              "      <td>1</td>\n",
              "      <td>16.535984</td>\n",
              "      <td>16.165976</td>\n",
              "      <td>0.370008</td>\n",
              "    </tr>\n",
              "  </tbody>\n",
              "</table>\n",
              "</div>\n",
              "      <button class=\"colab-df-convert\" onclick=\"convertToInteractive('df-b2c4a45a-6b4f-49a8-9745-ddcca76184ea')\"\n",
              "              title=\"Convert this dataframe to an interactive table.\"\n",
              "              style=\"display:none;\">\n",
              "        \n",
              "  <svg xmlns=\"http://www.w3.org/2000/svg\" height=\"24px\"viewBox=\"0 0 24 24\"\n",
              "       width=\"24px\">\n",
              "    <path d=\"M0 0h24v24H0V0z\" fill=\"none\"/>\n",
              "    <path d=\"M18.56 5.44l.94 2.06.94-2.06 2.06-.94-2.06-.94-.94-2.06-.94 2.06-2.06.94zm-11 1L8.5 8.5l.94-2.06 2.06-.94-2.06-.94L8.5 2.5l-.94 2.06-2.06.94zm10 10l.94 2.06.94-2.06 2.06-.94-2.06-.94-.94-2.06-.94 2.06-2.06.94z\"/><path d=\"M17.41 7.96l-1.37-1.37c-.4-.4-.92-.59-1.43-.59-.52 0-1.04.2-1.43.59L10.3 9.45l-7.72 7.72c-.78.78-.78 2.05 0 2.83L4 21.41c.39.39.9.59 1.41.59.51 0 1.02-.2 1.41-.59l7.78-7.78 2.81-2.81c.8-.78.8-2.07 0-2.86zM5.41 20L4 18.59l7.72-7.72 1.47 1.35L5.41 20z\"/>\n",
              "  </svg>\n",
              "      </button>\n",
              "      \n",
              "  <style>\n",
              "    .colab-df-container {\n",
              "      display:flex;\n",
              "      flex-wrap:wrap;\n",
              "      gap: 12px;\n",
              "    }\n",
              "\n",
              "    .colab-df-convert {\n",
              "      background-color: #E8F0FE;\n",
              "      border: none;\n",
              "      border-radius: 50%;\n",
              "      cursor: pointer;\n",
              "      display: none;\n",
              "      fill: #1967D2;\n",
              "      height: 32px;\n",
              "      padding: 0 0 0 0;\n",
              "      width: 32px;\n",
              "    }\n",
              "\n",
              "    .colab-df-convert:hover {\n",
              "      background-color: #E2EBFA;\n",
              "      box-shadow: 0px 1px 2px rgba(60, 64, 67, 0.3), 0px 1px 3px 1px rgba(60, 64, 67, 0.15);\n",
              "      fill: #174EA6;\n",
              "    }\n",
              "\n",
              "    [theme=dark] .colab-df-convert {\n",
              "      background-color: #3B4455;\n",
              "      fill: #D2E3FC;\n",
              "    }\n",
              "\n",
              "    [theme=dark] .colab-df-convert:hover {\n",
              "      background-color: #434B5C;\n",
              "      box-shadow: 0px 1px 3px 1px rgba(0, 0, 0, 0.15);\n",
              "      filter: drop-shadow(0px 1px 2px rgba(0, 0, 0, 0.3));\n",
              "      fill: #FFFFFF;\n",
              "    }\n",
              "  </style>\n",
              "\n",
              "      <script>\n",
              "        const buttonEl =\n",
              "          document.querySelector('#df-b2c4a45a-6b4f-49a8-9745-ddcca76184ea button.colab-df-convert');\n",
              "        buttonEl.style.display =\n",
              "          google.colab.kernel.accessAllowed ? 'block' : 'none';\n",
              "\n",
              "        async function convertToInteractive(key) {\n",
              "          const element = document.querySelector('#df-b2c4a45a-6b4f-49a8-9745-ddcca76184ea');\n",
              "          const dataTable =\n",
              "            await google.colab.kernel.invokeFunction('convertToInteractive',\n",
              "                                                     [key], {});\n",
              "          if (!dataTable) return;\n",
              "\n",
              "          const docLinkHtml = 'Like what you see? Visit the ' +\n",
              "            '<a target=\"_blank\" href=https://colab.research.google.com/notebooks/data_table.ipynb>data table notebook</a>'\n",
              "            + ' to learn more about interactive tables.';\n",
              "          element.innerHTML = '';\n",
              "          dataTable['output_type'] = 'display_data';\n",
              "          await google.colab.output.renderOutput(dataTable, element);\n",
              "          const docLink = document.createElement('div');\n",
              "          docLink.innerHTML = docLinkHtml;\n",
              "          element.appendChild(docLink);\n",
              "        }\n",
              "      </script>\n",
              "    </div>\n",
              "  </div>\n",
              "  "
            ]
          },
          "metadata": {},
          "execution_count": 516
        }
      ]
    },
    {
      "cell_type": "code",
      "source": [
        "dirty.at[425,'order_items']"
      ],
      "metadata": {
        "colab": {
          "base_uri": "https://localhost:8080/",
          "height": 35
        },
        "id": "KtXHmZQZve89",
        "outputId": "b9d3add8-a42b-4584-ec2b-0cfc52fdaf39"
      },
      "execution_count": 517,
      "outputs": [
        {
          "output_type": "execute_result",
          "data": {
            "text/plain": [
              "\"[('Fries', 3), ('Burger', 6), ('Chicken', 4), ('Salad', 4), ('Fish&Chips', 7)]\""
            ],
            "application/vnd.google.colaboratory.intrinsic+json": {
              "type": "string"
            }
          },
          "metadata": {},
          "execution_count": 517
        }
      ]
    },
    {
      "cell_type": "code",
      "source": [
        "(733.8\t- 3*12 - 6*31 - 4*17.2 - 4*32 )/7 "
      ],
      "metadata": {
        "colab": {
          "base_uri": "https://localhost:8080/"
        },
        "id": "bY1gs4HpvjDW",
        "outputId": "c922d94d-f8d8-4c11-b57e-829865fa9362"
      },
      "execution_count": 518,
      "outputs": [
        {
          "output_type": "execute_result",
          "data": {
            "text/plain": [
              "44.99999999999999"
            ]
          },
          "metadata": {},
          "execution_count": 518
        }
      ]
    },
    {
      "cell_type": "code",
      "source": [
        "dirty.at[425,'order_items'] = \"[('Fries', 3), ('Burger', 6), ('Chicken', 4), ('Salad', 4), ('Steak', 7)]\""
      ],
      "metadata": {
        "id": "POWW9-BTwFyB"
      },
      "execution_count": 519,
      "outputs": []
    },
    {
      "cell_type": "code",
      "source": [
        "dirty_breakfast = dirty[dirty['order_type'] == 'Breakfast']"
      ],
      "metadata": {
        "id": "DeNiOEnngJVX"
      },
      "execution_count": 520,
      "outputs": []
    },
    {
      "cell_type": "code",
      "source": [
        "breakfast = (dirty_breakfast['order_items'])"
      ],
      "metadata": {
        "id": "JJTIb3VAgOnp"
      },
      "execution_count": 521,
      "outputs": []
    },
    {
      "cell_type": "code",
      "source": [
        "break_list = ' '.join(breakfast)"
      ],
      "metadata": {
        "id": "mIlOOP2BgSuC"
      },
      "execution_count": 522,
      "outputs": []
    },
    {
      "cell_type": "code",
      "source": [
        "break_list = break_list.replace('[','')\n",
        "break_list = break_list.replace(']','')\n",
        "break_list = break_list.replace('(','')\n",
        "break_list = break_list.replace(')','')\n",
        "break_list = break_list.replace(',','')\n",
        "break_list = break_list.split(' ')"
      ],
      "metadata": {
        "id": "2-qGObbPgX9j"
      },
      "execution_count": 523,
      "outputs": []
    },
    {
      "cell_type": "code",
      "source": [
        "break_list = break_list[0::2]"
      ],
      "metadata": {
        "id": "LlPvbAaxgh-n"
      },
      "execution_count": 524,
      "outputs": []
    },
    {
      "cell_type": "code",
      "source": [
        "print(countOccurrence(break_list))"
      ],
      "metadata": {
        "colab": {
          "base_uri": "https://localhost:8080/"
        },
        "id": "gecCLe7Ygmkm",
        "outputId": "ecb70ed5-75c9-4590-b4bb-cab87c777d13"
      },
      "execution_count": 525,
      "outputs": [
        {
          "output_type": "stream",
          "name": "stdout",
          "text": [
            "{\"'Cereal'\": 128, \"'Eggs'\": 132, \"'Pancake'\": 135, \"'Coffee'\": 139, \"'Fish&Chips'\": 1}\n"
          ]
        }
      ]
    },
    {
      "cell_type": "code",
      "source": [
        "dirty_breakfast.loc[dirty_breakfast['order_items'].str.contains(\"Fish&Chips\")]"
      ],
      "metadata": {
        "colab": {
          "base_uri": "https://localhost:8080/",
          "height": 179
        },
        "id": "eEfp3LSLsKc6",
        "outputId": "29783a48-9ddd-43ef-e289-3fb210ce45c2"
      },
      "execution_count": 526,
      "outputs": [
        {
          "output_type": "execute_result",
          "data": {
            "text/plain": [
              "      order_id       date      time order_type branch_code  \\\n",
              "117  ORDI08604 2021-02-05  09:10:59  Breakfast          NS   \n",
              "\n",
              "                                          order_items  order_price  \\\n",
              "117  [('Fish&Chips', 9), ('Pancake', 5), ('Eggs', 3)]       223.75   \n",
              "\n",
              "     customer_lat  customer_lon  customerHasloyalty  delivery_fee  \\\n",
              "117    -37.815162    144.971453                   0     13.013555   \n",
              "\n",
              "     distance_to_customer_KM  day_of_week  weekend  time_of_day  \\\n",
              "117                    7.816            4        0            0   \n",
              "\n",
              "     undiscounted_delivery_fee  predict_delivery_fee  residual  \n",
              "117                  13.013555             13.509125  -0.49557  "
            ],
            "text/html": [
              "\n",
              "  <div id=\"df-a4b6cf78-8817-44b7-bbf3-7ebba71b46a1\">\n",
              "    <div class=\"colab-df-container\">\n",
              "      <div>\n",
              "<style scoped>\n",
              "    .dataframe tbody tr th:only-of-type {\n",
              "        vertical-align: middle;\n",
              "    }\n",
              "\n",
              "    .dataframe tbody tr th {\n",
              "        vertical-align: top;\n",
              "    }\n",
              "\n",
              "    .dataframe thead th {\n",
              "        text-align: right;\n",
              "    }\n",
              "</style>\n",
              "<table border=\"1\" class=\"dataframe\">\n",
              "  <thead>\n",
              "    <tr style=\"text-align: right;\">\n",
              "      <th></th>\n",
              "      <th>order_id</th>\n",
              "      <th>date</th>\n",
              "      <th>time</th>\n",
              "      <th>order_type</th>\n",
              "      <th>branch_code</th>\n",
              "      <th>order_items</th>\n",
              "      <th>order_price</th>\n",
              "      <th>customer_lat</th>\n",
              "      <th>customer_lon</th>\n",
              "      <th>customerHasloyalty</th>\n",
              "      <th>delivery_fee</th>\n",
              "      <th>distance_to_customer_KM</th>\n",
              "      <th>day_of_week</th>\n",
              "      <th>weekend</th>\n",
              "      <th>time_of_day</th>\n",
              "      <th>undiscounted_delivery_fee</th>\n",
              "      <th>predict_delivery_fee</th>\n",
              "      <th>residual</th>\n",
              "    </tr>\n",
              "  </thead>\n",
              "  <tbody>\n",
              "    <tr>\n",
              "      <th>117</th>\n",
              "      <td>ORDI08604</td>\n",
              "      <td>2021-02-05</td>\n",
              "      <td>09:10:59</td>\n",
              "      <td>Breakfast</td>\n",
              "      <td>NS</td>\n",
              "      <td>[('Fish&amp;Chips', 9), ('Pancake', 5), ('Eggs', 3)]</td>\n",
              "      <td>223.75</td>\n",
              "      <td>-37.815162</td>\n",
              "      <td>144.971453</td>\n",
              "      <td>0</td>\n",
              "      <td>13.013555</td>\n",
              "      <td>7.816</td>\n",
              "      <td>4</td>\n",
              "      <td>0</td>\n",
              "      <td>0</td>\n",
              "      <td>13.013555</td>\n",
              "      <td>13.509125</td>\n",
              "      <td>-0.49557</td>\n",
              "    </tr>\n",
              "  </tbody>\n",
              "</table>\n",
              "</div>\n",
              "      <button class=\"colab-df-convert\" onclick=\"convertToInteractive('df-a4b6cf78-8817-44b7-bbf3-7ebba71b46a1')\"\n",
              "              title=\"Convert this dataframe to an interactive table.\"\n",
              "              style=\"display:none;\">\n",
              "        \n",
              "  <svg xmlns=\"http://www.w3.org/2000/svg\" height=\"24px\"viewBox=\"0 0 24 24\"\n",
              "       width=\"24px\">\n",
              "    <path d=\"M0 0h24v24H0V0z\" fill=\"none\"/>\n",
              "    <path d=\"M18.56 5.44l.94 2.06.94-2.06 2.06-.94-2.06-.94-.94-2.06-.94 2.06-2.06.94zm-11 1L8.5 8.5l.94-2.06 2.06-.94-2.06-.94L8.5 2.5l-.94 2.06-2.06.94zm10 10l.94 2.06.94-2.06 2.06-.94-2.06-.94-.94-2.06-.94 2.06-2.06.94z\"/><path d=\"M17.41 7.96l-1.37-1.37c-.4-.4-.92-.59-1.43-.59-.52 0-1.04.2-1.43.59L10.3 9.45l-7.72 7.72c-.78.78-.78 2.05 0 2.83L4 21.41c.39.39.9.59 1.41.59.51 0 1.02-.2 1.41-.59l7.78-7.78 2.81-2.81c.8-.78.8-2.07 0-2.86zM5.41 20L4 18.59l7.72-7.72 1.47 1.35L5.41 20z\"/>\n",
              "  </svg>\n",
              "      </button>\n",
              "      \n",
              "  <style>\n",
              "    .colab-df-container {\n",
              "      display:flex;\n",
              "      flex-wrap:wrap;\n",
              "      gap: 12px;\n",
              "    }\n",
              "\n",
              "    .colab-df-convert {\n",
              "      background-color: #E8F0FE;\n",
              "      border: none;\n",
              "      border-radius: 50%;\n",
              "      cursor: pointer;\n",
              "      display: none;\n",
              "      fill: #1967D2;\n",
              "      height: 32px;\n",
              "      padding: 0 0 0 0;\n",
              "      width: 32px;\n",
              "    }\n",
              "\n",
              "    .colab-df-convert:hover {\n",
              "      background-color: #E2EBFA;\n",
              "      box-shadow: 0px 1px 2px rgba(60, 64, 67, 0.3), 0px 1px 3px 1px rgba(60, 64, 67, 0.15);\n",
              "      fill: #174EA6;\n",
              "    }\n",
              "\n",
              "    [theme=dark] .colab-df-convert {\n",
              "      background-color: #3B4455;\n",
              "      fill: #D2E3FC;\n",
              "    }\n",
              "\n",
              "    [theme=dark] .colab-df-convert:hover {\n",
              "      background-color: #434B5C;\n",
              "      box-shadow: 0px 1px 3px 1px rgba(0, 0, 0, 0.15);\n",
              "      filter: drop-shadow(0px 1px 2px rgba(0, 0, 0, 0.3));\n",
              "      fill: #FFFFFF;\n",
              "    }\n",
              "  </style>\n",
              "\n",
              "      <script>\n",
              "        const buttonEl =\n",
              "          document.querySelector('#df-a4b6cf78-8817-44b7-bbf3-7ebba71b46a1 button.colab-df-convert');\n",
              "        buttonEl.style.display =\n",
              "          google.colab.kernel.accessAllowed ? 'block' : 'none';\n",
              "\n",
              "        async function convertToInteractive(key) {\n",
              "          const element = document.querySelector('#df-a4b6cf78-8817-44b7-bbf3-7ebba71b46a1');\n",
              "          const dataTable =\n",
              "            await google.colab.kernel.invokeFunction('convertToInteractive',\n",
              "                                                     [key], {});\n",
              "          if (!dataTable) return;\n",
              "\n",
              "          const docLinkHtml = 'Like what you see? Visit the ' +\n",
              "            '<a target=\"_blank\" href=https://colab.research.google.com/notebooks/data_table.ipynb>data table notebook</a>'\n",
              "            + ' to learn more about interactive tables.';\n",
              "          element.innerHTML = '';\n",
              "          dataTable['output_type'] = 'display_data';\n",
              "          await google.colab.output.renderOutput(dataTable, element);\n",
              "          const docLink = document.createElement('div');\n",
              "          docLink.innerHTML = docLinkHtml;\n",
              "          element.appendChild(docLink);\n",
              "        }\n",
              "      </script>\n",
              "    </div>\n",
              "  </div>\n",
              "  "
            ]
          },
          "metadata": {},
          "execution_count": 526
        }
      ]
    },
    {
      "cell_type": "code",
      "source": [
        "dirty.at[117,'order_items'] = \"[('Coffee', 9), ('Pancake', 5), ('Eggs', 3)]\""
      ],
      "metadata": {
        "id": "h1i8D06Kskap"
      },
      "execution_count": 527,
      "outputs": []
    },
    {
      "cell_type": "markdown",
      "source": [
        "From these 3 lists we can see that there are slight inconsistencies with the data, we know that meals can only be serves at one time of the day, thus, we need to find out which meals need replacing"
      ],
      "metadata": {
        "id": "gQPisW2ThAev"
      }
    },
    {
      "cell_type": "code",
      "source": [
        "# converting shopping_cart values to list type for order_items column\n",
        "dirty['order_items'] = [eval(order) for order in dirty['order_items']]\n",
        "dirty.head()"
      ],
      "metadata": {
        "colab": {
          "base_uri": "https://localhost:8080/",
          "height": 444
        },
        "id": "JwxAFt8XkJ4X",
        "outputId": "b2222e6f-9e9c-44dc-cff6-90cf6a7c630d"
      },
      "execution_count": 528,
      "outputs": [
        {
          "output_type": "execute_result",
          "data": {
            "text/plain": [
              "    order_id       date      time order_type branch_code  \\\n",
              "0  ORDA07117 2021-09-09  16:16:54     Dinner          BK   \n",
              "1  ORDZ07064 2021-01-19  08:30:25  Breakfast          NS   \n",
              "2  ORDJ10873 2021-04-16  11:22:49  Breakfast          TP   \n",
              "3  ORDB00540 2021-04-17  11:32:57  Breakfast          TP   \n",
              "4  ORDC02969 2021-10-08  17:17:44     Dinner          NS   \n",
              "\n",
              "                                    order_items  order_price  customer_lat  \\\n",
              "0  [(Fish&Chips, 3), (Salmon, 10), (Shrimp, 9)]      1001.00    -37.822204   \n",
              "1                     [(Cereal, 10), (Eggs, 9)]       389.00    -37.799833   \n",
              "2        [(Eggs, 3), (Pancake, 3), (Cereal, 9)]       309.75    -37.824397   \n",
              "3                      [(Coffee, 3), (Eggs, 7)]       163.50    -37.815964   \n",
              "4    [(Salmon, 5), (Pasta, 3), (Fish&Chips, 5)]       462.50    -37.804378   \n",
              "\n",
              "   customer_lon  customerHasloyalty  delivery_fee  distance_to_customer_KM  \\\n",
              "0    144.975708                   0     14.696441                    7.446   \n",
              "1    144.939835                   0     14.147243                    8.944   \n",
              "2    144.988546                   0     11.626007                    9.196   \n",
              "3    144.972272                   0     12.283309                    8.202   \n",
              "4    144.993297                   0     14.187069                    8.551   \n",
              "\n",
              "   day_of_week  weekend  time_of_day  undiscounted_delivery_fee  \\\n",
              "0            3        0            2                  14.696441   \n",
              "1            1        0            0                  28.294486   \n",
              "2            4        0            0                  11.626007   \n",
              "3            5        1            0                  12.283309   \n",
              "4            4        0            2                  14.187069   \n",
              "\n",
              "   predict_delivery_fee   residual  \n",
              "0             14.338156   0.358285  \n",
              "1             14.481033  13.813453  \n",
              "2             12.179841  -0.553834  \n",
              "3             12.965473  -0.682164  \n",
              "4             14.581069  -0.394000  "
            ],
            "text/html": [
              "\n",
              "  <div id=\"df-0efd5189-46d1-4ce8-bd85-350de649951d\">\n",
              "    <div class=\"colab-df-container\">\n",
              "      <div>\n",
              "<style scoped>\n",
              "    .dataframe tbody tr th:only-of-type {\n",
              "        vertical-align: middle;\n",
              "    }\n",
              "\n",
              "    .dataframe tbody tr th {\n",
              "        vertical-align: top;\n",
              "    }\n",
              "\n",
              "    .dataframe thead th {\n",
              "        text-align: right;\n",
              "    }\n",
              "</style>\n",
              "<table border=\"1\" class=\"dataframe\">\n",
              "  <thead>\n",
              "    <tr style=\"text-align: right;\">\n",
              "      <th></th>\n",
              "      <th>order_id</th>\n",
              "      <th>date</th>\n",
              "      <th>time</th>\n",
              "      <th>order_type</th>\n",
              "      <th>branch_code</th>\n",
              "      <th>order_items</th>\n",
              "      <th>order_price</th>\n",
              "      <th>customer_lat</th>\n",
              "      <th>customer_lon</th>\n",
              "      <th>customerHasloyalty</th>\n",
              "      <th>delivery_fee</th>\n",
              "      <th>distance_to_customer_KM</th>\n",
              "      <th>day_of_week</th>\n",
              "      <th>weekend</th>\n",
              "      <th>time_of_day</th>\n",
              "      <th>undiscounted_delivery_fee</th>\n",
              "      <th>predict_delivery_fee</th>\n",
              "      <th>residual</th>\n",
              "    </tr>\n",
              "  </thead>\n",
              "  <tbody>\n",
              "    <tr>\n",
              "      <th>0</th>\n",
              "      <td>ORDA07117</td>\n",
              "      <td>2021-09-09</td>\n",
              "      <td>16:16:54</td>\n",
              "      <td>Dinner</td>\n",
              "      <td>BK</td>\n",
              "      <td>[(Fish&amp;Chips, 3), (Salmon, 10), (Shrimp, 9)]</td>\n",
              "      <td>1001.00</td>\n",
              "      <td>-37.822204</td>\n",
              "      <td>144.975708</td>\n",
              "      <td>0</td>\n",
              "      <td>14.696441</td>\n",
              "      <td>7.446</td>\n",
              "      <td>3</td>\n",
              "      <td>0</td>\n",
              "      <td>2</td>\n",
              "      <td>14.696441</td>\n",
              "      <td>14.338156</td>\n",
              "      <td>0.358285</td>\n",
              "    </tr>\n",
              "    <tr>\n",
              "      <th>1</th>\n",
              "      <td>ORDZ07064</td>\n",
              "      <td>2021-01-19</td>\n",
              "      <td>08:30:25</td>\n",
              "      <td>Breakfast</td>\n",
              "      <td>NS</td>\n",
              "      <td>[(Cereal, 10), (Eggs, 9)]</td>\n",
              "      <td>389.00</td>\n",
              "      <td>-37.799833</td>\n",
              "      <td>144.939835</td>\n",
              "      <td>0</td>\n",
              "      <td>14.147243</td>\n",
              "      <td>8.944</td>\n",
              "      <td>1</td>\n",
              "      <td>0</td>\n",
              "      <td>0</td>\n",
              "      <td>28.294486</td>\n",
              "      <td>14.481033</td>\n",
              "      <td>13.813453</td>\n",
              "    </tr>\n",
              "    <tr>\n",
              "      <th>2</th>\n",
              "      <td>ORDJ10873</td>\n",
              "      <td>2021-04-16</td>\n",
              "      <td>11:22:49</td>\n",
              "      <td>Breakfast</td>\n",
              "      <td>TP</td>\n",
              "      <td>[(Eggs, 3), (Pancake, 3), (Cereal, 9)]</td>\n",
              "      <td>309.75</td>\n",
              "      <td>-37.824397</td>\n",
              "      <td>144.988546</td>\n",
              "      <td>0</td>\n",
              "      <td>11.626007</td>\n",
              "      <td>9.196</td>\n",
              "      <td>4</td>\n",
              "      <td>0</td>\n",
              "      <td>0</td>\n",
              "      <td>11.626007</td>\n",
              "      <td>12.179841</td>\n",
              "      <td>-0.553834</td>\n",
              "    </tr>\n",
              "    <tr>\n",
              "      <th>3</th>\n",
              "      <td>ORDB00540</td>\n",
              "      <td>2021-04-17</td>\n",
              "      <td>11:32:57</td>\n",
              "      <td>Breakfast</td>\n",
              "      <td>TP</td>\n",
              "      <td>[(Coffee, 3), (Eggs, 7)]</td>\n",
              "      <td>163.50</td>\n",
              "      <td>-37.815964</td>\n",
              "      <td>144.972272</td>\n",
              "      <td>0</td>\n",
              "      <td>12.283309</td>\n",
              "      <td>8.202</td>\n",
              "      <td>5</td>\n",
              "      <td>1</td>\n",
              "      <td>0</td>\n",
              "      <td>12.283309</td>\n",
              "      <td>12.965473</td>\n",
              "      <td>-0.682164</td>\n",
              "    </tr>\n",
              "    <tr>\n",
              "      <th>4</th>\n",
              "      <td>ORDC02969</td>\n",
              "      <td>2021-10-08</td>\n",
              "      <td>17:17:44</td>\n",
              "      <td>Dinner</td>\n",
              "      <td>NS</td>\n",
              "      <td>[(Salmon, 5), (Pasta, 3), (Fish&amp;Chips, 5)]</td>\n",
              "      <td>462.50</td>\n",
              "      <td>-37.804378</td>\n",
              "      <td>144.993297</td>\n",
              "      <td>0</td>\n",
              "      <td>14.187069</td>\n",
              "      <td>8.551</td>\n",
              "      <td>4</td>\n",
              "      <td>0</td>\n",
              "      <td>2</td>\n",
              "      <td>14.187069</td>\n",
              "      <td>14.581069</td>\n",
              "      <td>-0.394000</td>\n",
              "    </tr>\n",
              "  </tbody>\n",
              "</table>\n",
              "</div>\n",
              "      <button class=\"colab-df-convert\" onclick=\"convertToInteractive('df-0efd5189-46d1-4ce8-bd85-350de649951d')\"\n",
              "              title=\"Convert this dataframe to an interactive table.\"\n",
              "              style=\"display:none;\">\n",
              "        \n",
              "  <svg xmlns=\"http://www.w3.org/2000/svg\" height=\"24px\"viewBox=\"0 0 24 24\"\n",
              "       width=\"24px\">\n",
              "    <path d=\"M0 0h24v24H0V0z\" fill=\"none\"/>\n",
              "    <path d=\"M18.56 5.44l.94 2.06.94-2.06 2.06-.94-2.06-.94-.94-2.06-.94 2.06-2.06.94zm-11 1L8.5 8.5l.94-2.06 2.06-.94-2.06-.94L8.5 2.5l-.94 2.06-2.06.94zm10 10l.94 2.06.94-2.06 2.06-.94-2.06-.94-.94-2.06-.94 2.06-2.06.94z\"/><path d=\"M17.41 7.96l-1.37-1.37c-.4-.4-.92-.59-1.43-.59-.52 0-1.04.2-1.43.59L10.3 9.45l-7.72 7.72c-.78.78-.78 2.05 0 2.83L4 21.41c.39.39.9.59 1.41.59.51 0 1.02-.2 1.41-.59l7.78-7.78 2.81-2.81c.8-.78.8-2.07 0-2.86zM5.41 20L4 18.59l7.72-7.72 1.47 1.35L5.41 20z\"/>\n",
              "  </svg>\n",
              "      </button>\n",
              "      \n",
              "  <style>\n",
              "    .colab-df-container {\n",
              "      display:flex;\n",
              "      flex-wrap:wrap;\n",
              "      gap: 12px;\n",
              "    }\n",
              "\n",
              "    .colab-df-convert {\n",
              "      background-color: #E8F0FE;\n",
              "      border: none;\n",
              "      border-radius: 50%;\n",
              "      cursor: pointer;\n",
              "      display: none;\n",
              "      fill: #1967D2;\n",
              "      height: 32px;\n",
              "      padding: 0 0 0 0;\n",
              "      width: 32px;\n",
              "    }\n",
              "\n",
              "    .colab-df-convert:hover {\n",
              "      background-color: #E2EBFA;\n",
              "      box-shadow: 0px 1px 2px rgba(60, 64, 67, 0.3), 0px 1px 3px 1px rgba(60, 64, 67, 0.15);\n",
              "      fill: #174EA6;\n",
              "    }\n",
              "\n",
              "    [theme=dark] .colab-df-convert {\n",
              "      background-color: #3B4455;\n",
              "      fill: #D2E3FC;\n",
              "    }\n",
              "\n",
              "    [theme=dark] .colab-df-convert:hover {\n",
              "      background-color: #434B5C;\n",
              "      box-shadow: 0px 1px 3px 1px rgba(0, 0, 0, 0.15);\n",
              "      filter: drop-shadow(0px 1px 2px rgba(0, 0, 0, 0.3));\n",
              "      fill: #FFFFFF;\n",
              "    }\n",
              "  </style>\n",
              "\n",
              "      <script>\n",
              "        const buttonEl =\n",
              "          document.querySelector('#df-0efd5189-46d1-4ce8-bd85-350de649951d button.colab-df-convert');\n",
              "        buttonEl.style.display =\n",
              "          google.colab.kernel.accessAllowed ? 'block' : 'none';\n",
              "\n",
              "        async function convertToInteractive(key) {\n",
              "          const element = document.querySelector('#df-0efd5189-46d1-4ce8-bd85-350de649951d');\n",
              "          const dataTable =\n",
              "            await google.colab.kernel.invokeFunction('convertToInteractive',\n",
              "                                                     [key], {});\n",
              "          if (!dataTable) return;\n",
              "\n",
              "          const docLinkHtml = 'Like what you see? Visit the ' +\n",
              "            '<a target=\"_blank\" href=https://colab.research.google.com/notebooks/data_table.ipynb>data table notebook</a>'\n",
              "            + ' to learn more about interactive tables.';\n",
              "          element.innerHTML = '';\n",
              "          dataTable['output_type'] = 'display_data';\n",
              "          await google.colab.output.renderOutput(dataTable, element);\n",
              "          const docLink = document.createElement('div');\n",
              "          docLink.innerHTML = docLinkHtml;\n",
              "          element.appendChild(docLink);\n",
              "        }\n",
              "      </script>\n",
              "    </div>\n",
              "  </div>\n",
              "  "
            ]
          },
          "metadata": {},
          "execution_count": 528
        }
      ]
    },
    {
      "cell_type": "code",
      "source": [
        "calculated_price = []\n",
        "# nested for loop for finding the list of calculated prices based on the order\n",
        "for index, row in dirty.iterrows():\n",
        "    new_price = 0\n",
        "    for i in range(len(row.order_items)):\n",
        "        new_price += row.order_items[i][1]*food_price_dic[row.order_items[i][0]]\n",
        "    calculated_price.append(round(new_price, 2))\n",
        "\n",
        "print(len(calculated_price))\n",
        "print(calculated_price[0:5])"
      ],
      "metadata": {
        "colab": {
          "base_uri": "https://localhost:8080/"
        },
        "id": "DN8LbJaekUD_",
        "outputId": "99c5d820-7a39-4624-99b2-aba127edeec3"
      },
      "execution_count": 529,
      "outputs": [
        {
          "output_type": "stream",
          "name": "stdout",
          "text": [
            "500\n",
            "[1001.0, 389.0, 309.75, 163.5, 462.5]\n"
          ]
        }
      ]
    },
    {
      "cell_type": "code",
      "source": [
        "dirty = dirty.assign(calculated_price = calculated_price)\n",
        "\n",
        "print(dirty.shape)\n",
        "dirty.head()"
      ],
      "metadata": {
        "colab": {
          "base_uri": "https://localhost:8080/",
          "height": 461
        },
        "id": "e07P0atNoumF",
        "outputId": "6e5343a4-4583-4f83-d2e7-a11e48195a36"
      },
      "execution_count": 530,
      "outputs": [
        {
          "output_type": "stream",
          "name": "stdout",
          "text": [
            "(500, 19)\n"
          ]
        },
        {
          "output_type": "execute_result",
          "data": {
            "text/plain": [
              "    order_id       date      time order_type branch_code  \\\n",
              "0  ORDA07117 2021-09-09  16:16:54     Dinner          BK   \n",
              "1  ORDZ07064 2021-01-19  08:30:25  Breakfast          NS   \n",
              "2  ORDJ10873 2021-04-16  11:22:49  Breakfast          TP   \n",
              "3  ORDB00540 2021-04-17  11:32:57  Breakfast          TP   \n",
              "4  ORDC02969 2021-10-08  17:17:44     Dinner          NS   \n",
              "\n",
              "                                    order_items  order_price  customer_lat  \\\n",
              "0  [(Fish&Chips, 3), (Salmon, 10), (Shrimp, 9)]      1001.00    -37.822204   \n",
              "1                     [(Cereal, 10), (Eggs, 9)]       389.00    -37.799833   \n",
              "2        [(Eggs, 3), (Pancake, 3), (Cereal, 9)]       309.75    -37.824397   \n",
              "3                      [(Coffee, 3), (Eggs, 7)]       163.50    -37.815964   \n",
              "4    [(Salmon, 5), (Pasta, 3), (Fish&Chips, 5)]       462.50    -37.804378   \n",
              "\n",
              "   customer_lon  customerHasloyalty  delivery_fee  distance_to_customer_KM  \\\n",
              "0    144.975708                   0     14.696441                    7.446   \n",
              "1    144.939835                   0     14.147243                    8.944   \n",
              "2    144.988546                   0     11.626007                    9.196   \n",
              "3    144.972272                   0     12.283309                    8.202   \n",
              "4    144.993297                   0     14.187069                    8.551   \n",
              "\n",
              "   day_of_week  weekend  time_of_day  undiscounted_delivery_fee  \\\n",
              "0            3        0            2                  14.696441   \n",
              "1            1        0            0                  28.294486   \n",
              "2            4        0            0                  11.626007   \n",
              "3            5        1            0                  12.283309   \n",
              "4            4        0            2                  14.187069   \n",
              "\n",
              "   predict_delivery_fee   residual  calculated_price  \n",
              "0             14.338156   0.358285           1001.00  \n",
              "1             14.481033  13.813453            389.00  \n",
              "2             12.179841  -0.553834            309.75  \n",
              "3             12.965473  -0.682164            163.50  \n",
              "4             14.581069  -0.394000            462.50  "
            ],
            "text/html": [
              "\n",
              "  <div id=\"df-bf55b493-f74a-4de2-a2a8-3e1184b82b08\">\n",
              "    <div class=\"colab-df-container\">\n",
              "      <div>\n",
              "<style scoped>\n",
              "    .dataframe tbody tr th:only-of-type {\n",
              "        vertical-align: middle;\n",
              "    }\n",
              "\n",
              "    .dataframe tbody tr th {\n",
              "        vertical-align: top;\n",
              "    }\n",
              "\n",
              "    .dataframe thead th {\n",
              "        text-align: right;\n",
              "    }\n",
              "</style>\n",
              "<table border=\"1\" class=\"dataframe\">\n",
              "  <thead>\n",
              "    <tr style=\"text-align: right;\">\n",
              "      <th></th>\n",
              "      <th>order_id</th>\n",
              "      <th>date</th>\n",
              "      <th>time</th>\n",
              "      <th>order_type</th>\n",
              "      <th>branch_code</th>\n",
              "      <th>order_items</th>\n",
              "      <th>order_price</th>\n",
              "      <th>customer_lat</th>\n",
              "      <th>customer_lon</th>\n",
              "      <th>customerHasloyalty</th>\n",
              "      <th>delivery_fee</th>\n",
              "      <th>distance_to_customer_KM</th>\n",
              "      <th>day_of_week</th>\n",
              "      <th>weekend</th>\n",
              "      <th>time_of_day</th>\n",
              "      <th>undiscounted_delivery_fee</th>\n",
              "      <th>predict_delivery_fee</th>\n",
              "      <th>residual</th>\n",
              "      <th>calculated_price</th>\n",
              "    </tr>\n",
              "  </thead>\n",
              "  <tbody>\n",
              "    <tr>\n",
              "      <th>0</th>\n",
              "      <td>ORDA07117</td>\n",
              "      <td>2021-09-09</td>\n",
              "      <td>16:16:54</td>\n",
              "      <td>Dinner</td>\n",
              "      <td>BK</td>\n",
              "      <td>[(Fish&amp;Chips, 3), (Salmon, 10), (Shrimp, 9)]</td>\n",
              "      <td>1001.00</td>\n",
              "      <td>-37.822204</td>\n",
              "      <td>144.975708</td>\n",
              "      <td>0</td>\n",
              "      <td>14.696441</td>\n",
              "      <td>7.446</td>\n",
              "      <td>3</td>\n",
              "      <td>0</td>\n",
              "      <td>2</td>\n",
              "      <td>14.696441</td>\n",
              "      <td>14.338156</td>\n",
              "      <td>0.358285</td>\n",
              "      <td>1001.00</td>\n",
              "    </tr>\n",
              "    <tr>\n",
              "      <th>1</th>\n",
              "      <td>ORDZ07064</td>\n",
              "      <td>2021-01-19</td>\n",
              "      <td>08:30:25</td>\n",
              "      <td>Breakfast</td>\n",
              "      <td>NS</td>\n",
              "      <td>[(Cereal, 10), (Eggs, 9)]</td>\n",
              "      <td>389.00</td>\n",
              "      <td>-37.799833</td>\n",
              "      <td>144.939835</td>\n",
              "      <td>0</td>\n",
              "      <td>14.147243</td>\n",
              "      <td>8.944</td>\n",
              "      <td>1</td>\n",
              "      <td>0</td>\n",
              "      <td>0</td>\n",
              "      <td>28.294486</td>\n",
              "      <td>14.481033</td>\n",
              "      <td>13.813453</td>\n",
              "      <td>389.00</td>\n",
              "    </tr>\n",
              "    <tr>\n",
              "      <th>2</th>\n",
              "      <td>ORDJ10873</td>\n",
              "      <td>2021-04-16</td>\n",
              "      <td>11:22:49</td>\n",
              "      <td>Breakfast</td>\n",
              "      <td>TP</td>\n",
              "      <td>[(Eggs, 3), (Pancake, 3), (Cereal, 9)]</td>\n",
              "      <td>309.75</td>\n",
              "      <td>-37.824397</td>\n",
              "      <td>144.988546</td>\n",
              "      <td>0</td>\n",
              "      <td>11.626007</td>\n",
              "      <td>9.196</td>\n",
              "      <td>4</td>\n",
              "      <td>0</td>\n",
              "      <td>0</td>\n",
              "      <td>11.626007</td>\n",
              "      <td>12.179841</td>\n",
              "      <td>-0.553834</td>\n",
              "      <td>309.75</td>\n",
              "    </tr>\n",
              "    <tr>\n",
              "      <th>3</th>\n",
              "      <td>ORDB00540</td>\n",
              "      <td>2021-04-17</td>\n",
              "      <td>11:32:57</td>\n",
              "      <td>Breakfast</td>\n",
              "      <td>TP</td>\n",
              "      <td>[(Coffee, 3), (Eggs, 7)]</td>\n",
              "      <td>163.50</td>\n",
              "      <td>-37.815964</td>\n",
              "      <td>144.972272</td>\n",
              "      <td>0</td>\n",
              "      <td>12.283309</td>\n",
              "      <td>8.202</td>\n",
              "      <td>5</td>\n",
              "      <td>1</td>\n",
              "      <td>0</td>\n",
              "      <td>12.283309</td>\n",
              "      <td>12.965473</td>\n",
              "      <td>-0.682164</td>\n",
              "      <td>163.50</td>\n",
              "    </tr>\n",
              "    <tr>\n",
              "      <th>4</th>\n",
              "      <td>ORDC02969</td>\n",
              "      <td>2021-10-08</td>\n",
              "      <td>17:17:44</td>\n",
              "      <td>Dinner</td>\n",
              "      <td>NS</td>\n",
              "      <td>[(Salmon, 5), (Pasta, 3), (Fish&amp;Chips, 5)]</td>\n",
              "      <td>462.50</td>\n",
              "      <td>-37.804378</td>\n",
              "      <td>144.993297</td>\n",
              "      <td>0</td>\n",
              "      <td>14.187069</td>\n",
              "      <td>8.551</td>\n",
              "      <td>4</td>\n",
              "      <td>0</td>\n",
              "      <td>2</td>\n",
              "      <td>14.187069</td>\n",
              "      <td>14.581069</td>\n",
              "      <td>-0.394000</td>\n",
              "      <td>462.50</td>\n",
              "    </tr>\n",
              "  </tbody>\n",
              "</table>\n",
              "</div>\n",
              "      <button class=\"colab-df-convert\" onclick=\"convertToInteractive('df-bf55b493-f74a-4de2-a2a8-3e1184b82b08')\"\n",
              "              title=\"Convert this dataframe to an interactive table.\"\n",
              "              style=\"display:none;\">\n",
              "        \n",
              "  <svg xmlns=\"http://www.w3.org/2000/svg\" height=\"24px\"viewBox=\"0 0 24 24\"\n",
              "       width=\"24px\">\n",
              "    <path d=\"M0 0h24v24H0V0z\" fill=\"none\"/>\n",
              "    <path d=\"M18.56 5.44l.94 2.06.94-2.06 2.06-.94-2.06-.94-.94-2.06-.94 2.06-2.06.94zm-11 1L8.5 8.5l.94-2.06 2.06-.94-2.06-.94L8.5 2.5l-.94 2.06-2.06.94zm10 10l.94 2.06.94-2.06 2.06-.94-2.06-.94-.94-2.06-.94 2.06-2.06.94z\"/><path d=\"M17.41 7.96l-1.37-1.37c-.4-.4-.92-.59-1.43-.59-.52 0-1.04.2-1.43.59L10.3 9.45l-7.72 7.72c-.78.78-.78 2.05 0 2.83L4 21.41c.39.39.9.59 1.41.59.51 0 1.02-.2 1.41-.59l7.78-7.78 2.81-2.81c.8-.78.8-2.07 0-2.86zM5.41 20L4 18.59l7.72-7.72 1.47 1.35L5.41 20z\"/>\n",
              "  </svg>\n",
              "      </button>\n",
              "      \n",
              "  <style>\n",
              "    .colab-df-container {\n",
              "      display:flex;\n",
              "      flex-wrap:wrap;\n",
              "      gap: 12px;\n",
              "    }\n",
              "\n",
              "    .colab-df-convert {\n",
              "      background-color: #E8F0FE;\n",
              "      border: none;\n",
              "      border-radius: 50%;\n",
              "      cursor: pointer;\n",
              "      display: none;\n",
              "      fill: #1967D2;\n",
              "      height: 32px;\n",
              "      padding: 0 0 0 0;\n",
              "      width: 32px;\n",
              "    }\n",
              "\n",
              "    .colab-df-convert:hover {\n",
              "      background-color: #E2EBFA;\n",
              "      box-shadow: 0px 1px 2px rgba(60, 64, 67, 0.3), 0px 1px 3px 1px rgba(60, 64, 67, 0.15);\n",
              "      fill: #174EA6;\n",
              "    }\n",
              "\n",
              "    [theme=dark] .colab-df-convert {\n",
              "      background-color: #3B4455;\n",
              "      fill: #D2E3FC;\n",
              "    }\n",
              "\n",
              "    [theme=dark] .colab-df-convert:hover {\n",
              "      background-color: #434B5C;\n",
              "      box-shadow: 0px 1px 3px 1px rgba(0, 0, 0, 0.15);\n",
              "      filter: drop-shadow(0px 1px 2px rgba(0, 0, 0, 0.3));\n",
              "      fill: #FFFFFF;\n",
              "    }\n",
              "  </style>\n",
              "\n",
              "      <script>\n",
              "        const buttonEl =\n",
              "          document.querySelector('#df-bf55b493-f74a-4de2-a2a8-3e1184b82b08 button.colab-df-convert');\n",
              "        buttonEl.style.display =\n",
              "          google.colab.kernel.accessAllowed ? 'block' : 'none';\n",
              "\n",
              "        async function convertToInteractive(key) {\n",
              "          const element = document.querySelector('#df-bf55b493-f74a-4de2-a2a8-3e1184b82b08');\n",
              "          const dataTable =\n",
              "            await google.colab.kernel.invokeFunction('convertToInteractive',\n",
              "                                                     [key], {});\n",
              "          if (!dataTable) return;\n",
              "\n",
              "          const docLinkHtml = 'Like what you see? Visit the ' +\n",
              "            '<a target=\"_blank\" href=https://colab.research.google.com/notebooks/data_table.ipynb>data table notebook</a>'\n",
              "            + ' to learn more about interactive tables.';\n",
              "          element.innerHTML = '';\n",
              "          dataTable['output_type'] = 'display_data';\n",
              "          await google.colab.output.renderOutput(dataTable, element);\n",
              "          const docLink = document.createElement('div');\n",
              "          docLink.innerHTML = docLinkHtml;\n",
              "          element.appendChild(docLink);\n",
              "        }\n",
              "      </script>\n",
              "    </div>\n",
              "  </div>\n",
              "  "
            ]
          },
          "metadata": {},
          "execution_count": 530
        }
      ]
    },
    {
      "cell_type": "code",
      "source": [
        "# check if the two columns are the same\n",
        "dirty['Diff'] = np.where(dirty['order_price']==dirty['calculated_price'] , '1', '0')\n",
        "dirty['Diff'].value_counts()"
      ],
      "metadata": {
        "colab": {
          "base_uri": "https://localhost:8080/"
        },
        "id": "ZbSCjkS9pCfg",
        "outputId": "84852bf2-9b11-486a-fa87-d6d6231a957a"
      },
      "execution_count": 531,
      "outputs": [
        {
          "output_type": "execute_result",
          "data": {
            "text/plain": [
              "1    493\n",
              "0      7\n",
              "Name: Diff, dtype: int64"
            ]
          },
          "metadata": {},
          "execution_count": 531
        }
      ]
    },
    {
      "cell_type": "code",
      "source": [
        "order_diff = dirty[dirty['Diff'] == '0']"
      ],
      "metadata": {
        "id": "tupO4qccppIU"
      },
      "execution_count": 532,
      "outputs": []
    },
    {
      "cell_type": "code",
      "source": [
        "order_diff"
      ],
      "metadata": {
        "colab": {
          "base_uri": "https://localhost:8080/",
          "height": 611
        },
        "id": "v6g1awkxp5iT",
        "outputId": "ff6114c3-5fcf-46d5-c380-7ff8f837c962"
      },
      "execution_count": 533,
      "outputs": [
        {
          "output_type": "execute_result",
          "data": {
            "text/plain": [
              "      order_id       date      time order_type branch_code  \\\n",
              "39   ORDX07828 2021-10-30  17:58:18     Dinner          BK   \n",
              "103  ORDI08862 2021-02-03  09:00:50  Breakfast          NS   \n",
              "185  ORDX06923 2021-05-08  12:13:31      Lunch          BK   \n",
              "196  ORDY06946 2021-09-28  16:57:27     Dinner          TP   \n",
              "255  ORDY07444 2021-02-18  09:31:16  Breakfast          TP   \n",
              "343  ORDZ09532 2021-10-08  17:17:44     Dinner          NS   \n",
              "375  ORDC07415 2021-06-10  13:14:21      Lunch          NS   \n",
              "\n",
              "                                           order_items  order_price  \\\n",
              "39                           [(Salmon, 9), (Pasta, 3)]       893.00   \n",
              "103                        [(Pancake, 5), (Coffee, 7)]        72.00   \n",
              "185  [(Steak, 1), (Chicken, 7), (Burger, 9), (Salad...       202.00   \n",
              "196  [(Shrimp, 2), (Fish&Chips, 6), (Salmon, 5), (P...       546.00   \n",
              "255            [(Pancake, 1), (Coffee, 3), (Eggs, 10)]       474.00   \n",
              "343            [(Salmon, 3), (Shrimp, 10), (Pasta, 8)]       368.25   \n",
              "375              [(Salad, 8), (Fries, 1), (Burger, 1)]       788.50   \n",
              "\n",
              "     customer_lat  customer_lon  customerHasloyalty  delivery_fee  \\\n",
              "39     -37.808732    144.947367                   0     18.501714   \n",
              "103    -37.822532    144.963989                   0     14.611816   \n",
              "185    -37.823231    144.955812                   0     17.199488   \n",
              "196    -37.802503    144.967428                   0     14.081886   \n",
              "255    -37.822323    144.933451                   0     12.568826   \n",
              "343    -37.807236    144.959469                   0     13.508915   \n",
              "375    -37.819407    145.014630                   0     17.294700   \n",
              "\n",
              "     distance_to_customer_KM  day_of_week  weekend  time_of_day  \\\n",
              "39                     9.041            5        1            2   \n",
              "103                    9.112            2        0            0   \n",
              "185                    8.782            5        1            1   \n",
              "196                    9.666            1        0            2   \n",
              "255                   10.139            3        0            0   \n",
              "343                    7.666            4        0            2   \n",
              "375                   11.474            3        0            1   \n",
              "\n",
              "     undiscounted_delivery_fee  predict_delivery_fee  residual  \\\n",
              "39                   18.501714             18.309014  0.192700   \n",
              "103                  14.611816             14.625785 -0.013969   \n",
              "185                  17.199488             17.177551  0.021937   \n",
              "196                  14.081886             14.643408 -0.561522   \n",
              "255                  12.568826             12.736238 -0.167412   \n",
              "343                  13.508915             13.818535 -0.309620   \n",
              "375                  17.294700             16.880259  0.414441   \n",
              "\n",
              "     calculated_price Diff  \n",
              "39             451.50    0  \n",
              "103            149.75    0  \n",
              "185            630.40    0  \n",
              "196            743.00    0  \n",
              "255            248.75    0  \n",
              "343            883.00    0  \n",
              "375            180.60    0  "
            ],
            "text/html": [
              "\n",
              "  <div id=\"df-4f937520-4e82-4e90-8901-2dd31ff4a1dc\">\n",
              "    <div class=\"colab-df-container\">\n",
              "      <div>\n",
              "<style scoped>\n",
              "    .dataframe tbody tr th:only-of-type {\n",
              "        vertical-align: middle;\n",
              "    }\n",
              "\n",
              "    .dataframe tbody tr th {\n",
              "        vertical-align: top;\n",
              "    }\n",
              "\n",
              "    .dataframe thead th {\n",
              "        text-align: right;\n",
              "    }\n",
              "</style>\n",
              "<table border=\"1\" class=\"dataframe\">\n",
              "  <thead>\n",
              "    <tr style=\"text-align: right;\">\n",
              "      <th></th>\n",
              "      <th>order_id</th>\n",
              "      <th>date</th>\n",
              "      <th>time</th>\n",
              "      <th>order_type</th>\n",
              "      <th>branch_code</th>\n",
              "      <th>order_items</th>\n",
              "      <th>order_price</th>\n",
              "      <th>customer_lat</th>\n",
              "      <th>customer_lon</th>\n",
              "      <th>customerHasloyalty</th>\n",
              "      <th>delivery_fee</th>\n",
              "      <th>distance_to_customer_KM</th>\n",
              "      <th>day_of_week</th>\n",
              "      <th>weekend</th>\n",
              "      <th>time_of_day</th>\n",
              "      <th>undiscounted_delivery_fee</th>\n",
              "      <th>predict_delivery_fee</th>\n",
              "      <th>residual</th>\n",
              "      <th>calculated_price</th>\n",
              "      <th>Diff</th>\n",
              "    </tr>\n",
              "  </thead>\n",
              "  <tbody>\n",
              "    <tr>\n",
              "      <th>39</th>\n",
              "      <td>ORDX07828</td>\n",
              "      <td>2021-10-30</td>\n",
              "      <td>17:58:18</td>\n",
              "      <td>Dinner</td>\n",
              "      <td>BK</td>\n",
              "      <td>[(Salmon, 9), (Pasta, 3)]</td>\n",
              "      <td>893.00</td>\n",
              "      <td>-37.808732</td>\n",
              "      <td>144.947367</td>\n",
              "      <td>0</td>\n",
              "      <td>18.501714</td>\n",
              "      <td>9.041</td>\n",
              "      <td>5</td>\n",
              "      <td>1</td>\n",
              "      <td>2</td>\n",
              "      <td>18.501714</td>\n",
              "      <td>18.309014</td>\n",
              "      <td>0.192700</td>\n",
              "      <td>451.50</td>\n",
              "      <td>0</td>\n",
              "    </tr>\n",
              "    <tr>\n",
              "      <th>103</th>\n",
              "      <td>ORDI08862</td>\n",
              "      <td>2021-02-03</td>\n",
              "      <td>09:00:50</td>\n",
              "      <td>Breakfast</td>\n",
              "      <td>NS</td>\n",
              "      <td>[(Pancake, 5), (Coffee, 7)]</td>\n",
              "      <td>72.00</td>\n",
              "      <td>-37.822532</td>\n",
              "      <td>144.963989</td>\n",
              "      <td>0</td>\n",
              "      <td>14.611816</td>\n",
              "      <td>9.112</td>\n",
              "      <td>2</td>\n",
              "      <td>0</td>\n",
              "      <td>0</td>\n",
              "      <td>14.611816</td>\n",
              "      <td>14.625785</td>\n",
              "      <td>-0.013969</td>\n",
              "      <td>149.75</td>\n",
              "      <td>0</td>\n",
              "    </tr>\n",
              "    <tr>\n",
              "      <th>185</th>\n",
              "      <td>ORDX06923</td>\n",
              "      <td>2021-05-08</td>\n",
              "      <td>12:13:31</td>\n",
              "      <td>Lunch</td>\n",
              "      <td>BK</td>\n",
              "      <td>[(Steak, 1), (Chicken, 7), (Burger, 9), (Salad...</td>\n",
              "      <td>202.00</td>\n",
              "      <td>-37.823231</td>\n",
              "      <td>144.955812</td>\n",
              "      <td>0</td>\n",
              "      <td>17.199488</td>\n",
              "      <td>8.782</td>\n",
              "      <td>5</td>\n",
              "      <td>1</td>\n",
              "      <td>1</td>\n",
              "      <td>17.199488</td>\n",
              "      <td>17.177551</td>\n",
              "      <td>0.021937</td>\n",
              "      <td>630.40</td>\n",
              "      <td>0</td>\n",
              "    </tr>\n",
              "    <tr>\n",
              "      <th>196</th>\n",
              "      <td>ORDY06946</td>\n",
              "      <td>2021-09-28</td>\n",
              "      <td>16:57:27</td>\n",
              "      <td>Dinner</td>\n",
              "      <td>TP</td>\n",
              "      <td>[(Shrimp, 2), (Fish&amp;Chips, 6), (Salmon, 5), (P...</td>\n",
              "      <td>546.00</td>\n",
              "      <td>-37.802503</td>\n",
              "      <td>144.967428</td>\n",
              "      <td>0</td>\n",
              "      <td>14.081886</td>\n",
              "      <td>9.666</td>\n",
              "      <td>1</td>\n",
              "      <td>0</td>\n",
              "      <td>2</td>\n",
              "      <td>14.081886</td>\n",
              "      <td>14.643408</td>\n",
              "      <td>-0.561522</td>\n",
              "      <td>743.00</td>\n",
              "      <td>0</td>\n",
              "    </tr>\n",
              "    <tr>\n",
              "      <th>255</th>\n",
              "      <td>ORDY07444</td>\n",
              "      <td>2021-02-18</td>\n",
              "      <td>09:31:16</td>\n",
              "      <td>Breakfast</td>\n",
              "      <td>TP</td>\n",
              "      <td>[(Pancake, 1), (Coffee, 3), (Eggs, 10)]</td>\n",
              "      <td>474.00</td>\n",
              "      <td>-37.822323</td>\n",
              "      <td>144.933451</td>\n",
              "      <td>0</td>\n",
              "      <td>12.568826</td>\n",
              "      <td>10.139</td>\n",
              "      <td>3</td>\n",
              "      <td>0</td>\n",
              "      <td>0</td>\n",
              "      <td>12.568826</td>\n",
              "      <td>12.736238</td>\n",
              "      <td>-0.167412</td>\n",
              "      <td>248.75</td>\n",
              "      <td>0</td>\n",
              "    </tr>\n",
              "    <tr>\n",
              "      <th>343</th>\n",
              "      <td>ORDZ09532</td>\n",
              "      <td>2021-10-08</td>\n",
              "      <td>17:17:44</td>\n",
              "      <td>Dinner</td>\n",
              "      <td>NS</td>\n",
              "      <td>[(Salmon, 3), (Shrimp, 10), (Pasta, 8)]</td>\n",
              "      <td>368.25</td>\n",
              "      <td>-37.807236</td>\n",
              "      <td>144.959469</td>\n",
              "      <td>0</td>\n",
              "      <td>13.508915</td>\n",
              "      <td>7.666</td>\n",
              "      <td>4</td>\n",
              "      <td>0</td>\n",
              "      <td>2</td>\n",
              "      <td>13.508915</td>\n",
              "      <td>13.818535</td>\n",
              "      <td>-0.309620</td>\n",
              "      <td>883.00</td>\n",
              "      <td>0</td>\n",
              "    </tr>\n",
              "    <tr>\n",
              "      <th>375</th>\n",
              "      <td>ORDC07415</td>\n",
              "      <td>2021-06-10</td>\n",
              "      <td>13:14:21</td>\n",
              "      <td>Lunch</td>\n",
              "      <td>NS</td>\n",
              "      <td>[(Salad, 8), (Fries, 1), (Burger, 1)]</td>\n",
              "      <td>788.50</td>\n",
              "      <td>-37.819407</td>\n",
              "      <td>145.014630</td>\n",
              "      <td>0</td>\n",
              "      <td>17.294700</td>\n",
              "      <td>11.474</td>\n",
              "      <td>3</td>\n",
              "      <td>0</td>\n",
              "      <td>1</td>\n",
              "      <td>17.294700</td>\n",
              "      <td>16.880259</td>\n",
              "      <td>0.414441</td>\n",
              "      <td>180.60</td>\n",
              "      <td>0</td>\n",
              "    </tr>\n",
              "  </tbody>\n",
              "</table>\n",
              "</div>\n",
              "      <button class=\"colab-df-convert\" onclick=\"convertToInteractive('df-4f937520-4e82-4e90-8901-2dd31ff4a1dc')\"\n",
              "              title=\"Convert this dataframe to an interactive table.\"\n",
              "              style=\"display:none;\">\n",
              "        \n",
              "  <svg xmlns=\"http://www.w3.org/2000/svg\" height=\"24px\"viewBox=\"0 0 24 24\"\n",
              "       width=\"24px\">\n",
              "    <path d=\"M0 0h24v24H0V0z\" fill=\"none\"/>\n",
              "    <path d=\"M18.56 5.44l.94 2.06.94-2.06 2.06-.94-2.06-.94-.94-2.06-.94 2.06-2.06.94zm-11 1L8.5 8.5l.94-2.06 2.06-.94-2.06-.94L8.5 2.5l-.94 2.06-2.06.94zm10 10l.94 2.06.94-2.06 2.06-.94-2.06-.94-.94-2.06-.94 2.06-2.06.94z\"/><path d=\"M17.41 7.96l-1.37-1.37c-.4-.4-.92-.59-1.43-.59-.52 0-1.04.2-1.43.59L10.3 9.45l-7.72 7.72c-.78.78-.78 2.05 0 2.83L4 21.41c.39.39.9.59 1.41.59.51 0 1.02-.2 1.41-.59l7.78-7.78 2.81-2.81c.8-.78.8-2.07 0-2.86zM5.41 20L4 18.59l7.72-7.72 1.47 1.35L5.41 20z\"/>\n",
              "  </svg>\n",
              "      </button>\n",
              "      \n",
              "  <style>\n",
              "    .colab-df-container {\n",
              "      display:flex;\n",
              "      flex-wrap:wrap;\n",
              "      gap: 12px;\n",
              "    }\n",
              "\n",
              "    .colab-df-convert {\n",
              "      background-color: #E8F0FE;\n",
              "      border: none;\n",
              "      border-radius: 50%;\n",
              "      cursor: pointer;\n",
              "      display: none;\n",
              "      fill: #1967D2;\n",
              "      height: 32px;\n",
              "      padding: 0 0 0 0;\n",
              "      width: 32px;\n",
              "    }\n",
              "\n",
              "    .colab-df-convert:hover {\n",
              "      background-color: #E2EBFA;\n",
              "      box-shadow: 0px 1px 2px rgba(60, 64, 67, 0.3), 0px 1px 3px 1px rgba(60, 64, 67, 0.15);\n",
              "      fill: #174EA6;\n",
              "    }\n",
              "\n",
              "    [theme=dark] .colab-df-convert {\n",
              "      background-color: #3B4455;\n",
              "      fill: #D2E3FC;\n",
              "    }\n",
              "\n",
              "    [theme=dark] .colab-df-convert:hover {\n",
              "      background-color: #434B5C;\n",
              "      box-shadow: 0px 1px 3px 1px rgba(0, 0, 0, 0.15);\n",
              "      filter: drop-shadow(0px 1px 2px rgba(0, 0, 0, 0.3));\n",
              "      fill: #FFFFFF;\n",
              "    }\n",
              "  </style>\n",
              "\n",
              "      <script>\n",
              "        const buttonEl =\n",
              "          document.querySelector('#df-4f937520-4e82-4e90-8901-2dd31ff4a1dc button.colab-df-convert');\n",
              "        buttonEl.style.display =\n",
              "          google.colab.kernel.accessAllowed ? 'block' : 'none';\n",
              "\n",
              "        async function convertToInteractive(key) {\n",
              "          const element = document.querySelector('#df-4f937520-4e82-4e90-8901-2dd31ff4a1dc');\n",
              "          const dataTable =\n",
              "            await google.colab.kernel.invokeFunction('convertToInteractive',\n",
              "                                                     [key], {});\n",
              "          if (!dataTable) return;\n",
              "\n",
              "          const docLinkHtml = 'Like what you see? Visit the ' +\n",
              "            '<a target=\"_blank\" href=https://colab.research.google.com/notebooks/data_table.ipynb>data table notebook</a>'\n",
              "            + ' to learn more about interactive tables.';\n",
              "          element.innerHTML = '';\n",
              "          dataTable['output_type'] = 'display_data';\n",
              "          await google.colab.output.renderOutput(dataTable, element);\n",
              "          const docLink = document.createElement('div');\n",
              "          docLink.innerHTML = docLinkHtml;\n",
              "          element.appendChild(docLink);\n",
              "        }\n",
              "      </script>\n",
              "    </div>\n",
              "  </div>\n",
              "  "
            ]
          },
          "metadata": {},
          "execution_count": 533
        }
      ]
    },
    {
      "cell_type": "markdown",
      "source": [
        "We can see that there are 7 columns which have incorrect calculated order prices against the original order price"
      ],
      "metadata": {
        "id": "Jew0EL98qKTg"
      }
    },
    {
      "cell_type": "code",
      "source": [
        "dirty['order_price'] = dirty['calculated_price']"
      ],
      "metadata": {
        "id": "92ZvSROgqY-G"
      },
      "execution_count": 534,
      "outputs": []
    },
    {
      "cell_type": "code",
      "source": [
        "dirty = dirty.drop(['calculated_price', 'Diff', 'day_of_week', 'weekend', 'time_of_day', 'undiscounted_delivery_fee', 'predict_delivery_fee', 'residual'], axis = 1)"
      ],
      "metadata": {
        "id": "4Nic3Foe0uYi"
      },
      "execution_count": 535,
      "outputs": []
    },
    {
      "cell_type": "code",
      "source": [
        "dirty"
      ],
      "metadata": {
        "colab": {
          "base_uri": "https://localhost:8080/",
          "height": 887
        },
        "id": "YMH7nqLJyoE1",
        "outputId": "49b9bfba-8164-4870-a50c-4356946a64da"
      },
      "execution_count": 536,
      "outputs": [
        {
          "output_type": "execute_result",
          "data": {
            "text/plain": [
              "      order_id       date      time order_type branch_code  \\\n",
              "0    ORDA07117 2021-09-09  16:16:54     Dinner          BK   \n",
              "1    ORDZ07064 2021-01-19  08:30:25  Breakfast          NS   \n",
              "2    ORDJ10873 2021-04-16  11:22:49  Breakfast          TP   \n",
              "3    ORDB00540 2021-04-17  11:32:57  Breakfast          TP   \n",
              "4    ORDC02969 2021-10-08  17:17:44     Dinner          NS   \n",
              "..         ...        ...       ...        ...         ...   \n",
              "495  ORDA02834 2021-07-11  14:15:12      Lunch          BK   \n",
              "496  ORDA01721 2021-11-23  18:49:00     Dinner          BK   \n",
              "497  ORDX05750 2021-06-04  13:04:13      Lunch          BK   \n",
              "498  ORDX10826 2021-07-18  14:35:29      Lunch          BK   \n",
              "499  ORDJ09303 2021-04-05  11:02:32  Breakfast          TP   \n",
              "\n",
              "                                           order_items  order_price  \\\n",
              "0         [(Fish&Chips, 3), (Salmon, 10), (Shrimp, 9)]      1001.00   \n",
              "1                            [(Cereal, 10), (Eggs, 9)]       389.00   \n",
              "2               [(Eggs, 3), (Pancake, 3), (Cereal, 9)]       309.75   \n",
              "3                             [(Coffee, 3), (Eggs, 7)]       163.50   \n",
              "4           [(Salmon, 5), (Pasta, 3), (Fish&Chips, 5)]       462.50   \n",
              "..                                                 ...          ...   \n",
              "495  [(Burger, 9), (Chicken, 10), (Fries, 7), (Sala...       820.60   \n",
              "496                         [(Shrimp, 5), (Salmon, 1)]       311.00   \n",
              "497  [(Salad, 7), (Steak, 7), (Fries, 9), (Burger, ...       734.40   \n",
              "498  [(Chicken, 8), (Salad, 4), (Burger, 10), (Frie...       979.80   \n",
              "499  [(Pancake, 9), (Coffee, 5), (Cereal, 7), (Eggs...       388.75   \n",
              "\n",
              "     customer_lat  customer_lon  customerHasloyalty  delivery_fee  \\\n",
              "0      -37.822204    144.975708                   0     14.696441   \n",
              "1      -37.799833    144.939835                   0     14.147243   \n",
              "2      -37.824397    144.988546                   0     11.626007   \n",
              "3      -37.815964    144.972272                   0     12.283309   \n",
              "4      -37.804378    144.993297                   0     14.187069   \n",
              "..            ...           ...                 ...           ...   \n",
              "495    -37.802059    144.957004                   0     16.538886   \n",
              "496    -37.821000    144.976720                   0     13.529690   \n",
              "497    -37.817088    144.932764                   0     16.105944   \n",
              "498    -37.817893    145.008265                   0     11.981232   \n",
              "499    -37.801975    145.011237                   0     14.867167   \n",
              "\n",
              "     distance_to_customer_KM  \n",
              "0                      7.446  \n",
              "1                      8.944  \n",
              "2                      9.196  \n",
              "3                      8.202  \n",
              "4                      8.551  \n",
              "..                       ...  \n",
              "495                    8.209  \n",
              "496                    7.254  \n",
              "497                   10.563  \n",
              "498                    4.025  \n",
              "499                   12.577  \n",
              "\n",
              "[500 rows x 12 columns]"
            ],
            "text/html": [
              "\n",
              "  <div id=\"df-a1e13567-9644-4987-9329-5a8831731e57\">\n",
              "    <div class=\"colab-df-container\">\n",
              "      <div>\n",
              "<style scoped>\n",
              "    .dataframe tbody tr th:only-of-type {\n",
              "        vertical-align: middle;\n",
              "    }\n",
              "\n",
              "    .dataframe tbody tr th {\n",
              "        vertical-align: top;\n",
              "    }\n",
              "\n",
              "    .dataframe thead th {\n",
              "        text-align: right;\n",
              "    }\n",
              "</style>\n",
              "<table border=\"1\" class=\"dataframe\">\n",
              "  <thead>\n",
              "    <tr style=\"text-align: right;\">\n",
              "      <th></th>\n",
              "      <th>order_id</th>\n",
              "      <th>date</th>\n",
              "      <th>time</th>\n",
              "      <th>order_type</th>\n",
              "      <th>branch_code</th>\n",
              "      <th>order_items</th>\n",
              "      <th>order_price</th>\n",
              "      <th>customer_lat</th>\n",
              "      <th>customer_lon</th>\n",
              "      <th>customerHasloyalty</th>\n",
              "      <th>delivery_fee</th>\n",
              "      <th>distance_to_customer_KM</th>\n",
              "    </tr>\n",
              "  </thead>\n",
              "  <tbody>\n",
              "    <tr>\n",
              "      <th>0</th>\n",
              "      <td>ORDA07117</td>\n",
              "      <td>2021-09-09</td>\n",
              "      <td>16:16:54</td>\n",
              "      <td>Dinner</td>\n",
              "      <td>BK</td>\n",
              "      <td>[(Fish&amp;Chips, 3), (Salmon, 10), (Shrimp, 9)]</td>\n",
              "      <td>1001.00</td>\n",
              "      <td>-37.822204</td>\n",
              "      <td>144.975708</td>\n",
              "      <td>0</td>\n",
              "      <td>14.696441</td>\n",
              "      <td>7.446</td>\n",
              "    </tr>\n",
              "    <tr>\n",
              "      <th>1</th>\n",
              "      <td>ORDZ07064</td>\n",
              "      <td>2021-01-19</td>\n",
              "      <td>08:30:25</td>\n",
              "      <td>Breakfast</td>\n",
              "      <td>NS</td>\n",
              "      <td>[(Cereal, 10), (Eggs, 9)]</td>\n",
              "      <td>389.00</td>\n",
              "      <td>-37.799833</td>\n",
              "      <td>144.939835</td>\n",
              "      <td>0</td>\n",
              "      <td>14.147243</td>\n",
              "      <td>8.944</td>\n",
              "    </tr>\n",
              "    <tr>\n",
              "      <th>2</th>\n",
              "      <td>ORDJ10873</td>\n",
              "      <td>2021-04-16</td>\n",
              "      <td>11:22:49</td>\n",
              "      <td>Breakfast</td>\n",
              "      <td>TP</td>\n",
              "      <td>[(Eggs, 3), (Pancake, 3), (Cereal, 9)]</td>\n",
              "      <td>309.75</td>\n",
              "      <td>-37.824397</td>\n",
              "      <td>144.988546</td>\n",
              "      <td>0</td>\n",
              "      <td>11.626007</td>\n",
              "      <td>9.196</td>\n",
              "    </tr>\n",
              "    <tr>\n",
              "      <th>3</th>\n",
              "      <td>ORDB00540</td>\n",
              "      <td>2021-04-17</td>\n",
              "      <td>11:32:57</td>\n",
              "      <td>Breakfast</td>\n",
              "      <td>TP</td>\n",
              "      <td>[(Coffee, 3), (Eggs, 7)]</td>\n",
              "      <td>163.50</td>\n",
              "      <td>-37.815964</td>\n",
              "      <td>144.972272</td>\n",
              "      <td>0</td>\n",
              "      <td>12.283309</td>\n",
              "      <td>8.202</td>\n",
              "    </tr>\n",
              "    <tr>\n",
              "      <th>4</th>\n",
              "      <td>ORDC02969</td>\n",
              "      <td>2021-10-08</td>\n",
              "      <td>17:17:44</td>\n",
              "      <td>Dinner</td>\n",
              "      <td>NS</td>\n",
              "      <td>[(Salmon, 5), (Pasta, 3), (Fish&amp;Chips, 5)]</td>\n",
              "      <td>462.50</td>\n",
              "      <td>-37.804378</td>\n",
              "      <td>144.993297</td>\n",
              "      <td>0</td>\n",
              "      <td>14.187069</td>\n",
              "      <td>8.551</td>\n",
              "    </tr>\n",
              "    <tr>\n",
              "      <th>...</th>\n",
              "      <td>...</td>\n",
              "      <td>...</td>\n",
              "      <td>...</td>\n",
              "      <td>...</td>\n",
              "      <td>...</td>\n",
              "      <td>...</td>\n",
              "      <td>...</td>\n",
              "      <td>...</td>\n",
              "      <td>...</td>\n",
              "      <td>...</td>\n",
              "      <td>...</td>\n",
              "      <td>...</td>\n",
              "    </tr>\n",
              "    <tr>\n",
              "      <th>495</th>\n",
              "      <td>ORDA02834</td>\n",
              "      <td>2021-07-11</td>\n",
              "      <td>14:15:12</td>\n",
              "      <td>Lunch</td>\n",
              "      <td>BK</td>\n",
              "      <td>[(Burger, 9), (Chicken, 10), (Fries, 7), (Sala...</td>\n",
              "      <td>820.60</td>\n",
              "      <td>-37.802059</td>\n",
              "      <td>144.957004</td>\n",
              "      <td>0</td>\n",
              "      <td>16.538886</td>\n",
              "      <td>8.209</td>\n",
              "    </tr>\n",
              "    <tr>\n",
              "      <th>496</th>\n",
              "      <td>ORDA01721</td>\n",
              "      <td>2021-11-23</td>\n",
              "      <td>18:49:00</td>\n",
              "      <td>Dinner</td>\n",
              "      <td>BK</td>\n",
              "      <td>[(Shrimp, 5), (Salmon, 1)]</td>\n",
              "      <td>311.00</td>\n",
              "      <td>-37.821000</td>\n",
              "      <td>144.976720</td>\n",
              "      <td>0</td>\n",
              "      <td>13.529690</td>\n",
              "      <td>7.254</td>\n",
              "    </tr>\n",
              "    <tr>\n",
              "      <th>497</th>\n",
              "      <td>ORDX05750</td>\n",
              "      <td>2021-06-04</td>\n",
              "      <td>13:04:13</td>\n",
              "      <td>Lunch</td>\n",
              "      <td>BK</td>\n",
              "      <td>[(Salad, 7), (Steak, 7), (Fries, 9), (Burger, ...</td>\n",
              "      <td>734.40</td>\n",
              "      <td>-37.817088</td>\n",
              "      <td>144.932764</td>\n",
              "      <td>0</td>\n",
              "      <td>16.105944</td>\n",
              "      <td>10.563</td>\n",
              "    </tr>\n",
              "    <tr>\n",
              "      <th>498</th>\n",
              "      <td>ORDX10826</td>\n",
              "      <td>2021-07-18</td>\n",
              "      <td>14:35:29</td>\n",
              "      <td>Lunch</td>\n",
              "      <td>BK</td>\n",
              "      <td>[(Chicken, 8), (Salad, 4), (Burger, 10), (Frie...</td>\n",
              "      <td>979.80</td>\n",
              "      <td>-37.817893</td>\n",
              "      <td>145.008265</td>\n",
              "      <td>0</td>\n",
              "      <td>11.981232</td>\n",
              "      <td>4.025</td>\n",
              "    </tr>\n",
              "    <tr>\n",
              "      <th>499</th>\n",
              "      <td>ORDJ09303</td>\n",
              "      <td>2021-04-05</td>\n",
              "      <td>11:02:32</td>\n",
              "      <td>Breakfast</td>\n",
              "      <td>TP</td>\n",
              "      <td>[(Pancake, 9), (Coffee, 5), (Cereal, 7), (Eggs...</td>\n",
              "      <td>388.75</td>\n",
              "      <td>-37.801975</td>\n",
              "      <td>145.011237</td>\n",
              "      <td>0</td>\n",
              "      <td>14.867167</td>\n",
              "      <td>12.577</td>\n",
              "    </tr>\n",
              "  </tbody>\n",
              "</table>\n",
              "<p>500 rows × 12 columns</p>\n",
              "</div>\n",
              "      <button class=\"colab-df-convert\" onclick=\"convertToInteractive('df-a1e13567-9644-4987-9329-5a8831731e57')\"\n",
              "              title=\"Convert this dataframe to an interactive table.\"\n",
              "              style=\"display:none;\">\n",
              "        \n",
              "  <svg xmlns=\"http://www.w3.org/2000/svg\" height=\"24px\"viewBox=\"0 0 24 24\"\n",
              "       width=\"24px\">\n",
              "    <path d=\"M0 0h24v24H0V0z\" fill=\"none\"/>\n",
              "    <path d=\"M18.56 5.44l.94 2.06.94-2.06 2.06-.94-2.06-.94-.94-2.06-.94 2.06-2.06.94zm-11 1L8.5 8.5l.94-2.06 2.06-.94-2.06-.94L8.5 2.5l-.94 2.06-2.06.94zm10 10l.94 2.06.94-2.06 2.06-.94-2.06-.94-.94-2.06-.94 2.06-2.06.94z\"/><path d=\"M17.41 7.96l-1.37-1.37c-.4-.4-.92-.59-1.43-.59-.52 0-1.04.2-1.43.59L10.3 9.45l-7.72 7.72c-.78.78-.78 2.05 0 2.83L4 21.41c.39.39.9.59 1.41.59.51 0 1.02-.2 1.41-.59l7.78-7.78 2.81-2.81c.8-.78.8-2.07 0-2.86zM5.41 20L4 18.59l7.72-7.72 1.47 1.35L5.41 20z\"/>\n",
              "  </svg>\n",
              "      </button>\n",
              "      \n",
              "  <style>\n",
              "    .colab-df-container {\n",
              "      display:flex;\n",
              "      flex-wrap:wrap;\n",
              "      gap: 12px;\n",
              "    }\n",
              "\n",
              "    .colab-df-convert {\n",
              "      background-color: #E8F0FE;\n",
              "      border: none;\n",
              "      border-radius: 50%;\n",
              "      cursor: pointer;\n",
              "      display: none;\n",
              "      fill: #1967D2;\n",
              "      height: 32px;\n",
              "      padding: 0 0 0 0;\n",
              "      width: 32px;\n",
              "    }\n",
              "\n",
              "    .colab-df-convert:hover {\n",
              "      background-color: #E2EBFA;\n",
              "      box-shadow: 0px 1px 2px rgba(60, 64, 67, 0.3), 0px 1px 3px 1px rgba(60, 64, 67, 0.15);\n",
              "      fill: #174EA6;\n",
              "    }\n",
              "\n",
              "    [theme=dark] .colab-df-convert {\n",
              "      background-color: #3B4455;\n",
              "      fill: #D2E3FC;\n",
              "    }\n",
              "\n",
              "    [theme=dark] .colab-df-convert:hover {\n",
              "      background-color: #434B5C;\n",
              "      box-shadow: 0px 1px 3px 1px rgba(0, 0, 0, 0.15);\n",
              "      filter: drop-shadow(0px 1px 2px rgba(0, 0, 0, 0.3));\n",
              "      fill: #FFFFFF;\n",
              "    }\n",
              "  </style>\n",
              "\n",
              "      <script>\n",
              "        const buttonEl =\n",
              "          document.querySelector('#df-a1e13567-9644-4987-9329-5a8831731e57 button.colab-df-convert');\n",
              "        buttonEl.style.display =\n",
              "          google.colab.kernel.accessAllowed ? 'block' : 'none';\n",
              "\n",
              "        async function convertToInteractive(key) {\n",
              "          const element = document.querySelector('#df-a1e13567-9644-4987-9329-5a8831731e57');\n",
              "          const dataTable =\n",
              "            await google.colab.kernel.invokeFunction('convertToInteractive',\n",
              "                                                     [key], {});\n",
              "          if (!dataTable) return;\n",
              "\n",
              "          const docLinkHtml = 'Like what you see? Visit the ' +\n",
              "            '<a target=\"_blank\" href=https://colab.research.google.com/notebooks/data_table.ipynb>data table notebook</a>'\n",
              "            + ' to learn more about interactive tables.';\n",
              "          element.innerHTML = '';\n",
              "          dataTable['output_type'] = 'display_data';\n",
              "          await google.colab.output.renderOutput(dataTable, element);\n",
              "          const docLink = document.createElement('div');\n",
              "          docLink.innerHTML = docLinkHtml;\n",
              "          element.appendChild(docLink);\n",
              "        }\n",
              "      </script>\n",
              "    </div>\n",
              "  </div>\n",
              "  "
            ]
          },
          "metadata": {},
          "execution_count": 536
        }
      ]
    },
    {
      "cell_type": "markdown",
      "source": [
        "### 2. Save Output File"
      ],
      "metadata": {
        "id": "nTNW5LefsRlz"
      }
    },
    {
      "cell_type": "code",
      "source": [
        "# use to_csv() method\n",
        "dirty.to_csv(\"28746511_dirty_data_solution.csv\", index = False)"
      ],
      "metadata": {
        "id": "hKmiTjSL1CZ8"
      },
      "execution_count": 537,
      "outputs": []
    },
    {
      "cell_type": "markdown",
      "metadata": {
        "id": "h9yRPSa0RT5_"
      },
      "source": [
        "# Part 2. Looking at the Missing File"
      ]
    },
    {
      "cell_type": "markdown",
      "metadata": {
        "id": "Ew3u3bPhSi8i"
      },
      "source": [
        "With the missing file, we are looking to impute the missing values, we can assume that the rest of the file is correct and error-free and the only errors are the missing values"
      ]
    },
    {
      "cell_type": "code",
      "execution_count": 538,
      "metadata": {
        "colab": {
          "base_uri": "https://localhost:8080/",
          "height": 878
        },
        "id": "Z4w4PfyhRnZ3",
        "outputId": "d7fcd136-d514-4294-a67a-5012bc6a0fae"
      },
      "outputs": [
        {
          "output_type": "stream",
          "name": "stdout",
          "text": [
            "(500, 12)\n"
          ]
        },
        {
          "output_type": "execute_result",
          "data": {
            "text/plain": [
              "    order_id        date      time order_type branch_code  \\\n",
              "0  ORDC05007  2021-05-03  12:03:22      Lunch          NS   \n",
              "1  ORDK04281  2021-04-18  11:32:57  Breakfast          BK   \n",
              "2  ORDX05801  2021-09-12  16:27:02     Dinner          BK   \n",
              "3  ORDI04007  2021-05-30  12:54:05      Lunch          NS   \n",
              "4  ORDJ08853  2021-10-24  17:48:10     Dinner          TP   \n",
              "5  ORDX09853  2021-05-17  12:23:39      Lunch          BK   \n",
              "6  ORDX06581  2021-01-09  08:10:08  Breakfast          BK   \n",
              "7  ORDI05972  2021-11-07  18:18:35     Dinner          NS   \n",
              "8  ORDX00523  2021-05-30  12:54:05      Lunch          BK   \n",
              "9  ORDA01921  2021-08-24  15:46:28      Lunch          BK   \n",
              "\n",
              "                                         order_items  order_price  \\\n",
              "0  [('Chicken', 6), ('Steak', 6), ('Burger', 7), ...       833.80   \n",
              "1     [('Cereal', 4), ('Coffee', 3), ('Pancake', 3)]       163.25   \n",
              "2  [('Shrimp', 5), ('Fish&Chips', 10), ('Salmon',...       839.00   \n",
              "3  [('Fries', 1), ('Burger', 3), ('Steak', 8), ('...       482.20   \n",
              "4  [('Pasta', 9), ('Shrimp', 6), ('Salmon', 6), (...      1062.50   \n",
              "5     [('Steak', 10), ('Chicken', 7), ('Salad', 10)]       846.00   \n",
              "6                     [('Cereal', 9), ('Coffee', 6)]       213.00   \n",
              "7  [('Fish&Chips', 9), ('Shrimp', 6), ('Salmon', ...      1132.00   \n",
              "8  [('Salad', 5), ('Burger', 10), ('Chicken', 9),...      1035.00   \n",
              "9        [('Fries', 6), ('Burger', 8), ('Salad', 9)]       474.80   \n",
              "\n",
              "   customer_lat  customer_lon  customerHasloyalty?  distance_to_customer_KM  \\\n",
              "0    -37.812154    144.973932                    0                    7.626   \n",
              "1    -37.820035    144.980254                    0                    7.132   \n",
              "2    -37.817093    144.988818                    0                    5.771   \n",
              "3    -37.804481    144.936400                    0                    9.784   \n",
              "4    -37.817328    144.990782                    0                    9.849   \n",
              "5    -37.803654    144.955463                    0                    8.202   \n",
              "6    -37.821138    144.983117                    1                    6.614   \n",
              "7    -37.818750    144.953250                    0                    9.226   \n",
              "8    -37.804982    144.936597                    0                    9.896   \n",
              "9    -37.811180    145.007099                    0                    3.502   \n",
              "\n",
              "   delivery_fee  \n",
              "0           NaN  \n",
              "1     15.042097  \n",
              "2     14.724766  \n",
              "3     17.016719  \n",
              "4     15.615511  \n",
              "5     14.403394  \n",
              "6      7.013474  \n",
              "7     16.435626  \n",
              "8     18.462907  \n",
              "9      9.302501  "
            ],
            "text/html": [
              "\n",
              "  <div id=\"df-7591034a-747d-4a05-907e-5a384c94bf2b\">\n",
              "    <div class=\"colab-df-container\">\n",
              "      <div>\n",
              "<style scoped>\n",
              "    .dataframe tbody tr th:only-of-type {\n",
              "        vertical-align: middle;\n",
              "    }\n",
              "\n",
              "    .dataframe tbody tr th {\n",
              "        vertical-align: top;\n",
              "    }\n",
              "\n",
              "    .dataframe thead th {\n",
              "        text-align: right;\n",
              "    }\n",
              "</style>\n",
              "<table border=\"1\" class=\"dataframe\">\n",
              "  <thead>\n",
              "    <tr style=\"text-align: right;\">\n",
              "      <th></th>\n",
              "      <th>order_id</th>\n",
              "      <th>date</th>\n",
              "      <th>time</th>\n",
              "      <th>order_type</th>\n",
              "      <th>branch_code</th>\n",
              "      <th>order_items</th>\n",
              "      <th>order_price</th>\n",
              "      <th>customer_lat</th>\n",
              "      <th>customer_lon</th>\n",
              "      <th>customerHasloyalty?</th>\n",
              "      <th>distance_to_customer_KM</th>\n",
              "      <th>delivery_fee</th>\n",
              "    </tr>\n",
              "  </thead>\n",
              "  <tbody>\n",
              "    <tr>\n",
              "      <th>0</th>\n",
              "      <td>ORDC05007</td>\n",
              "      <td>2021-05-03</td>\n",
              "      <td>12:03:22</td>\n",
              "      <td>Lunch</td>\n",
              "      <td>NS</td>\n",
              "      <td>[('Chicken', 6), ('Steak', 6), ('Burger', 7), ...</td>\n",
              "      <td>833.80</td>\n",
              "      <td>-37.812154</td>\n",
              "      <td>144.973932</td>\n",
              "      <td>0</td>\n",
              "      <td>7.626</td>\n",
              "      <td>NaN</td>\n",
              "    </tr>\n",
              "    <tr>\n",
              "      <th>1</th>\n",
              "      <td>ORDK04281</td>\n",
              "      <td>2021-04-18</td>\n",
              "      <td>11:32:57</td>\n",
              "      <td>Breakfast</td>\n",
              "      <td>BK</td>\n",
              "      <td>[('Cereal', 4), ('Coffee', 3), ('Pancake', 3)]</td>\n",
              "      <td>163.25</td>\n",
              "      <td>-37.820035</td>\n",
              "      <td>144.980254</td>\n",
              "      <td>0</td>\n",
              "      <td>7.132</td>\n",
              "      <td>15.042097</td>\n",
              "    </tr>\n",
              "    <tr>\n",
              "      <th>2</th>\n",
              "      <td>ORDX05801</td>\n",
              "      <td>2021-09-12</td>\n",
              "      <td>16:27:02</td>\n",
              "      <td>Dinner</td>\n",
              "      <td>BK</td>\n",
              "      <td>[('Shrimp', 5), ('Fish&amp;Chips', 10), ('Salmon',...</td>\n",
              "      <td>839.00</td>\n",
              "      <td>-37.817093</td>\n",
              "      <td>144.988818</td>\n",
              "      <td>0</td>\n",
              "      <td>5.771</td>\n",
              "      <td>14.724766</td>\n",
              "    </tr>\n",
              "    <tr>\n",
              "      <th>3</th>\n",
              "      <td>ORDI04007</td>\n",
              "      <td>2021-05-30</td>\n",
              "      <td>12:54:05</td>\n",
              "      <td>Lunch</td>\n",
              "      <td>NS</td>\n",
              "      <td>[('Fries', 1), ('Burger', 3), ('Steak', 8), ('...</td>\n",
              "      <td>482.20</td>\n",
              "      <td>-37.804481</td>\n",
              "      <td>144.936400</td>\n",
              "      <td>0</td>\n",
              "      <td>9.784</td>\n",
              "      <td>17.016719</td>\n",
              "    </tr>\n",
              "    <tr>\n",
              "      <th>4</th>\n",
              "      <td>ORDJ08853</td>\n",
              "      <td>2021-10-24</td>\n",
              "      <td>17:48:10</td>\n",
              "      <td>Dinner</td>\n",
              "      <td>TP</td>\n",
              "      <td>[('Pasta', 9), ('Shrimp', 6), ('Salmon', 6), (...</td>\n",
              "      <td>1062.50</td>\n",
              "      <td>-37.817328</td>\n",
              "      <td>144.990782</td>\n",
              "      <td>0</td>\n",
              "      <td>9.849</td>\n",
              "      <td>15.615511</td>\n",
              "    </tr>\n",
              "    <tr>\n",
              "      <th>5</th>\n",
              "      <td>ORDX09853</td>\n",
              "      <td>2021-05-17</td>\n",
              "      <td>12:23:39</td>\n",
              "      <td>Lunch</td>\n",
              "      <td>BK</td>\n",
              "      <td>[('Steak', 10), ('Chicken', 7), ('Salad', 10)]</td>\n",
              "      <td>846.00</td>\n",
              "      <td>-37.803654</td>\n",
              "      <td>144.955463</td>\n",
              "      <td>0</td>\n",
              "      <td>8.202</td>\n",
              "      <td>14.403394</td>\n",
              "    </tr>\n",
              "    <tr>\n",
              "      <th>6</th>\n",
              "      <td>ORDX06581</td>\n",
              "      <td>2021-01-09</td>\n",
              "      <td>08:10:08</td>\n",
              "      <td>Breakfast</td>\n",
              "      <td>BK</td>\n",
              "      <td>[('Cereal', 9), ('Coffee', 6)]</td>\n",
              "      <td>213.00</td>\n",
              "      <td>-37.821138</td>\n",
              "      <td>144.983117</td>\n",
              "      <td>1</td>\n",
              "      <td>6.614</td>\n",
              "      <td>7.013474</td>\n",
              "    </tr>\n",
              "    <tr>\n",
              "      <th>7</th>\n",
              "      <td>ORDI05972</td>\n",
              "      <td>2021-11-07</td>\n",
              "      <td>18:18:35</td>\n",
              "      <td>Dinner</td>\n",
              "      <td>NS</td>\n",
              "      <td>[('Fish&amp;Chips', 9), ('Shrimp', 6), ('Salmon', ...</td>\n",
              "      <td>1132.00</td>\n",
              "      <td>-37.818750</td>\n",
              "      <td>144.953250</td>\n",
              "      <td>0</td>\n",
              "      <td>9.226</td>\n",
              "      <td>16.435626</td>\n",
              "    </tr>\n",
              "    <tr>\n",
              "      <th>8</th>\n",
              "      <td>ORDX00523</td>\n",
              "      <td>2021-05-30</td>\n",
              "      <td>12:54:05</td>\n",
              "      <td>Lunch</td>\n",
              "      <td>BK</td>\n",
              "      <td>[('Salad', 5), ('Burger', 10), ('Chicken', 9),...</td>\n",
              "      <td>1035.00</td>\n",
              "      <td>-37.804982</td>\n",
              "      <td>144.936597</td>\n",
              "      <td>0</td>\n",
              "      <td>9.896</td>\n",
              "      <td>18.462907</td>\n",
              "    </tr>\n",
              "    <tr>\n",
              "      <th>9</th>\n",
              "      <td>ORDA01921</td>\n",
              "      <td>2021-08-24</td>\n",
              "      <td>15:46:28</td>\n",
              "      <td>Lunch</td>\n",
              "      <td>BK</td>\n",
              "      <td>[('Fries', 6), ('Burger', 8), ('Salad', 9)]</td>\n",
              "      <td>474.80</td>\n",
              "      <td>-37.811180</td>\n",
              "      <td>145.007099</td>\n",
              "      <td>0</td>\n",
              "      <td>3.502</td>\n",
              "      <td>9.302501</td>\n",
              "    </tr>\n",
              "  </tbody>\n",
              "</table>\n",
              "</div>\n",
              "      <button class=\"colab-df-convert\" onclick=\"convertToInteractive('df-7591034a-747d-4a05-907e-5a384c94bf2b')\"\n",
              "              title=\"Convert this dataframe to an interactive table.\"\n",
              "              style=\"display:none;\">\n",
              "        \n",
              "  <svg xmlns=\"http://www.w3.org/2000/svg\" height=\"24px\"viewBox=\"0 0 24 24\"\n",
              "       width=\"24px\">\n",
              "    <path d=\"M0 0h24v24H0V0z\" fill=\"none\"/>\n",
              "    <path d=\"M18.56 5.44l.94 2.06.94-2.06 2.06-.94-2.06-.94-.94-2.06-.94 2.06-2.06.94zm-11 1L8.5 8.5l.94-2.06 2.06-.94-2.06-.94L8.5 2.5l-.94 2.06-2.06.94zm10 10l.94 2.06.94-2.06 2.06-.94-2.06-.94-.94-2.06-.94 2.06-2.06.94z\"/><path d=\"M17.41 7.96l-1.37-1.37c-.4-.4-.92-.59-1.43-.59-.52 0-1.04.2-1.43.59L10.3 9.45l-7.72 7.72c-.78.78-.78 2.05 0 2.83L4 21.41c.39.39.9.59 1.41.59.51 0 1.02-.2 1.41-.59l7.78-7.78 2.81-2.81c.8-.78.8-2.07 0-2.86zM5.41 20L4 18.59l7.72-7.72 1.47 1.35L5.41 20z\"/>\n",
              "  </svg>\n",
              "      </button>\n",
              "      \n",
              "  <style>\n",
              "    .colab-df-container {\n",
              "      display:flex;\n",
              "      flex-wrap:wrap;\n",
              "      gap: 12px;\n",
              "    }\n",
              "\n",
              "    .colab-df-convert {\n",
              "      background-color: #E8F0FE;\n",
              "      border: none;\n",
              "      border-radius: 50%;\n",
              "      cursor: pointer;\n",
              "      display: none;\n",
              "      fill: #1967D2;\n",
              "      height: 32px;\n",
              "      padding: 0 0 0 0;\n",
              "      width: 32px;\n",
              "    }\n",
              "\n",
              "    .colab-df-convert:hover {\n",
              "      background-color: #E2EBFA;\n",
              "      box-shadow: 0px 1px 2px rgba(60, 64, 67, 0.3), 0px 1px 3px 1px rgba(60, 64, 67, 0.15);\n",
              "      fill: #174EA6;\n",
              "    }\n",
              "\n",
              "    [theme=dark] .colab-df-convert {\n",
              "      background-color: #3B4455;\n",
              "      fill: #D2E3FC;\n",
              "    }\n",
              "\n",
              "    [theme=dark] .colab-df-convert:hover {\n",
              "      background-color: #434B5C;\n",
              "      box-shadow: 0px 1px 3px 1px rgba(0, 0, 0, 0.15);\n",
              "      filter: drop-shadow(0px 1px 2px rgba(0, 0, 0, 0.3));\n",
              "      fill: #FFFFFF;\n",
              "    }\n",
              "  </style>\n",
              "\n",
              "      <script>\n",
              "        const buttonEl =\n",
              "          document.querySelector('#df-7591034a-747d-4a05-907e-5a384c94bf2b button.colab-df-convert');\n",
              "        buttonEl.style.display =\n",
              "          google.colab.kernel.accessAllowed ? 'block' : 'none';\n",
              "\n",
              "        async function convertToInteractive(key) {\n",
              "          const element = document.querySelector('#df-7591034a-747d-4a05-907e-5a384c94bf2b');\n",
              "          const dataTable =\n",
              "            await google.colab.kernel.invokeFunction('convertToInteractive',\n",
              "                                                     [key], {});\n",
              "          if (!dataTable) return;\n",
              "\n",
              "          const docLinkHtml = 'Like what you see? Visit the ' +\n",
              "            '<a target=\"_blank\" href=https://colab.research.google.com/notebooks/data_table.ipynb>data table notebook</a>'\n",
              "            + ' to learn more about interactive tables.';\n",
              "          element.innerHTML = '';\n",
              "          dataTable['output_type'] = 'display_data';\n",
              "          await google.colab.output.renderOutput(dataTable, element);\n",
              "          const docLink = document.createElement('div');\n",
              "          docLink.innerHTML = docLinkHtml;\n",
              "          element.appendChild(docLink);\n",
              "        }\n",
              "      </script>\n",
              "    </div>\n",
              "  </div>\n",
              "  "
            ]
          },
          "metadata": {},
          "execution_count": 538
        }
      ],
      "source": [
        "# Load the missing file and take a look at the dataset\n",
        "\n",
        "missing = pd.read_csv('/content/drive/Shareddrives/FIT5196-s2-2022/A2/input_data/28746511_missing_data.csv')\n",
        "\n",
        "print(missing.shape)\n",
        "\n",
        "missing.head(10)"
      ]
    },
    {
      "cell_type": "code",
      "execution_count": 539,
      "metadata": {
        "colab": {
          "base_uri": "https://localhost:8080/"
        },
        "id": "HGVaZ-k2R042",
        "outputId": "006eaf15-30de-416d-dc6c-425b8aff6c34"
      },
      "outputs": [
        {
          "output_type": "stream",
          "name": "stdout",
          "text": [
            "<class 'pandas.core.frame.DataFrame'>\n",
            "RangeIndex: 500 entries, 0 to 499\n",
            "Data columns (total 12 columns):\n",
            " #   Column                   Non-Null Count  Dtype  \n",
            "---  ------                   --------------  -----  \n",
            " 0   order_id                 500 non-null    object \n",
            " 1   date                     500 non-null    object \n",
            " 2   time                     500 non-null    object \n",
            " 3   order_type               500 non-null    object \n",
            " 4   branch_code              450 non-null    object \n",
            " 5   order_items              500 non-null    object \n",
            " 6   order_price              500 non-null    float64\n",
            " 7   customer_lat             500 non-null    float64\n",
            " 8   customer_lon             500 non-null    float64\n",
            " 9   customerHasloyalty?      500 non-null    int64  \n",
            " 10  distance_to_customer_KM  500 non-null    float64\n",
            " 11  delivery_fee             400 non-null    float64\n",
            "dtypes: float64(5), int64(1), object(6)\n",
            "memory usage: 47.0+ KB\n"
          ]
        }
      ],
      "source": [
        "missing.info()"
      ]
    },
    {
      "cell_type": "markdown",
      "metadata": {
        "id": "NoB85nyMSJMs"
      },
      "source": [
        "Based on the info, we can see that there are 50 missing branch_code items and 100 missing delivery_fee items"
      ]
    },
    {
      "cell_type": "code",
      "execution_count": 540,
      "metadata": {
        "colab": {
          "base_uri": "https://localhost:8080/",
          "height": 300
        },
        "id": "TZqBr6WNSSa4",
        "outputId": "a1ea994d-3344-41f2-8bb9-bdef70085fd7"
      },
      "outputs": [
        {
          "output_type": "execute_result",
          "data": {
            "text/plain": [
              "       order_price  customer_lat  customer_lon  customerHasloyalty?  \\\n",
              "count   500.000000    500.000000    500.000000           500.000000   \n",
              "mean    492.173900    -37.812449    144.965446             0.056000   \n",
              "std     273.873716      0.007919      0.021711             0.230152   \n",
              "min      32.000000    -37.832570    144.909436             0.000000   \n",
              "25%     277.875000    -37.818881    144.949330             0.000000   \n",
              "50%     444.500000    -37.812703    144.963600             0.000000   \n",
              "75%     689.100000    -37.805501    144.982227             0.000000   \n",
              "max    1344.000000    -37.788265    145.016014             1.000000   \n",
              "\n",
              "       distance_to_customer_KM  delivery_fee  \n",
              "count               500.000000    400.000000  \n",
              "mean                  8.824692     13.946289  \n",
              "std                   1.585780      2.627943  \n",
              "min                   3.502000      5.398197  \n",
              "25%                   7.928000     12.593657  \n",
              "50%                   8.998500     14.025192  \n",
              "75%                   9.864250     15.452151  \n",
              "max                  15.186000     21.813512  "
            ],
            "text/html": [
              "\n",
              "  <div id=\"df-07b66bb5-b751-4fa8-9e5d-bdef3a5a6108\">\n",
              "    <div class=\"colab-df-container\">\n",
              "      <div>\n",
              "<style scoped>\n",
              "    .dataframe tbody tr th:only-of-type {\n",
              "        vertical-align: middle;\n",
              "    }\n",
              "\n",
              "    .dataframe tbody tr th {\n",
              "        vertical-align: top;\n",
              "    }\n",
              "\n",
              "    .dataframe thead th {\n",
              "        text-align: right;\n",
              "    }\n",
              "</style>\n",
              "<table border=\"1\" class=\"dataframe\">\n",
              "  <thead>\n",
              "    <tr style=\"text-align: right;\">\n",
              "      <th></th>\n",
              "      <th>order_price</th>\n",
              "      <th>customer_lat</th>\n",
              "      <th>customer_lon</th>\n",
              "      <th>customerHasloyalty?</th>\n",
              "      <th>distance_to_customer_KM</th>\n",
              "      <th>delivery_fee</th>\n",
              "    </tr>\n",
              "  </thead>\n",
              "  <tbody>\n",
              "    <tr>\n",
              "      <th>count</th>\n",
              "      <td>500.000000</td>\n",
              "      <td>500.000000</td>\n",
              "      <td>500.000000</td>\n",
              "      <td>500.000000</td>\n",
              "      <td>500.000000</td>\n",
              "      <td>400.000000</td>\n",
              "    </tr>\n",
              "    <tr>\n",
              "      <th>mean</th>\n",
              "      <td>492.173900</td>\n",
              "      <td>-37.812449</td>\n",
              "      <td>144.965446</td>\n",
              "      <td>0.056000</td>\n",
              "      <td>8.824692</td>\n",
              "      <td>13.946289</td>\n",
              "    </tr>\n",
              "    <tr>\n",
              "      <th>std</th>\n",
              "      <td>273.873716</td>\n",
              "      <td>0.007919</td>\n",
              "      <td>0.021711</td>\n",
              "      <td>0.230152</td>\n",
              "      <td>1.585780</td>\n",
              "      <td>2.627943</td>\n",
              "    </tr>\n",
              "    <tr>\n",
              "      <th>min</th>\n",
              "      <td>32.000000</td>\n",
              "      <td>-37.832570</td>\n",
              "      <td>144.909436</td>\n",
              "      <td>0.000000</td>\n",
              "      <td>3.502000</td>\n",
              "      <td>5.398197</td>\n",
              "    </tr>\n",
              "    <tr>\n",
              "      <th>25%</th>\n",
              "      <td>277.875000</td>\n",
              "      <td>-37.818881</td>\n",
              "      <td>144.949330</td>\n",
              "      <td>0.000000</td>\n",
              "      <td>7.928000</td>\n",
              "      <td>12.593657</td>\n",
              "    </tr>\n",
              "    <tr>\n",
              "      <th>50%</th>\n",
              "      <td>444.500000</td>\n",
              "      <td>-37.812703</td>\n",
              "      <td>144.963600</td>\n",
              "      <td>0.000000</td>\n",
              "      <td>8.998500</td>\n",
              "      <td>14.025192</td>\n",
              "    </tr>\n",
              "    <tr>\n",
              "      <th>75%</th>\n",
              "      <td>689.100000</td>\n",
              "      <td>-37.805501</td>\n",
              "      <td>144.982227</td>\n",
              "      <td>0.000000</td>\n",
              "      <td>9.864250</td>\n",
              "      <td>15.452151</td>\n",
              "    </tr>\n",
              "    <tr>\n",
              "      <th>max</th>\n",
              "      <td>1344.000000</td>\n",
              "      <td>-37.788265</td>\n",
              "      <td>145.016014</td>\n",
              "      <td>1.000000</td>\n",
              "      <td>15.186000</td>\n",
              "      <td>21.813512</td>\n",
              "    </tr>\n",
              "  </tbody>\n",
              "</table>\n",
              "</div>\n",
              "      <button class=\"colab-df-convert\" onclick=\"convertToInteractive('df-07b66bb5-b751-4fa8-9e5d-bdef3a5a6108')\"\n",
              "              title=\"Convert this dataframe to an interactive table.\"\n",
              "              style=\"display:none;\">\n",
              "        \n",
              "  <svg xmlns=\"http://www.w3.org/2000/svg\" height=\"24px\"viewBox=\"0 0 24 24\"\n",
              "       width=\"24px\">\n",
              "    <path d=\"M0 0h24v24H0V0z\" fill=\"none\"/>\n",
              "    <path d=\"M18.56 5.44l.94 2.06.94-2.06 2.06-.94-2.06-.94-.94-2.06-.94 2.06-2.06.94zm-11 1L8.5 8.5l.94-2.06 2.06-.94-2.06-.94L8.5 2.5l-.94 2.06-2.06.94zm10 10l.94 2.06.94-2.06 2.06-.94-2.06-.94-.94-2.06-.94 2.06-2.06.94z\"/><path d=\"M17.41 7.96l-1.37-1.37c-.4-.4-.92-.59-1.43-.59-.52 0-1.04.2-1.43.59L10.3 9.45l-7.72 7.72c-.78.78-.78 2.05 0 2.83L4 21.41c.39.39.9.59 1.41.59.51 0 1.02-.2 1.41-.59l7.78-7.78 2.81-2.81c.8-.78.8-2.07 0-2.86zM5.41 20L4 18.59l7.72-7.72 1.47 1.35L5.41 20z\"/>\n",
              "  </svg>\n",
              "      </button>\n",
              "      \n",
              "  <style>\n",
              "    .colab-df-container {\n",
              "      display:flex;\n",
              "      flex-wrap:wrap;\n",
              "      gap: 12px;\n",
              "    }\n",
              "\n",
              "    .colab-df-convert {\n",
              "      background-color: #E8F0FE;\n",
              "      border: none;\n",
              "      border-radius: 50%;\n",
              "      cursor: pointer;\n",
              "      display: none;\n",
              "      fill: #1967D2;\n",
              "      height: 32px;\n",
              "      padding: 0 0 0 0;\n",
              "      width: 32px;\n",
              "    }\n",
              "\n",
              "    .colab-df-convert:hover {\n",
              "      background-color: #E2EBFA;\n",
              "      box-shadow: 0px 1px 2px rgba(60, 64, 67, 0.3), 0px 1px 3px 1px rgba(60, 64, 67, 0.15);\n",
              "      fill: #174EA6;\n",
              "    }\n",
              "\n",
              "    [theme=dark] .colab-df-convert {\n",
              "      background-color: #3B4455;\n",
              "      fill: #D2E3FC;\n",
              "    }\n",
              "\n",
              "    [theme=dark] .colab-df-convert:hover {\n",
              "      background-color: #434B5C;\n",
              "      box-shadow: 0px 1px 3px 1px rgba(0, 0, 0, 0.15);\n",
              "      filter: drop-shadow(0px 1px 2px rgba(0, 0, 0, 0.3));\n",
              "      fill: #FFFFFF;\n",
              "    }\n",
              "  </style>\n",
              "\n",
              "      <script>\n",
              "        const buttonEl =\n",
              "          document.querySelector('#df-07b66bb5-b751-4fa8-9e5d-bdef3a5a6108 button.colab-df-convert');\n",
              "        buttonEl.style.display =\n",
              "          google.colab.kernel.accessAllowed ? 'block' : 'none';\n",
              "\n",
              "        async function convertToInteractive(key) {\n",
              "          const element = document.querySelector('#df-07b66bb5-b751-4fa8-9e5d-bdef3a5a6108');\n",
              "          const dataTable =\n",
              "            await google.colab.kernel.invokeFunction('convertToInteractive',\n",
              "                                                     [key], {});\n",
              "          if (!dataTable) return;\n",
              "\n",
              "          const docLinkHtml = 'Like what you see? Visit the ' +\n",
              "            '<a target=\"_blank\" href=https://colab.research.google.com/notebooks/data_table.ipynb>data table notebook</a>'\n",
              "            + ' to learn more about interactive tables.';\n",
              "          element.innerHTML = '';\n",
              "          dataTable['output_type'] = 'display_data';\n",
              "          await google.colab.output.renderOutput(dataTable, element);\n",
              "          const docLink = document.createElement('div');\n",
              "          docLink.innerHTML = docLinkHtml;\n",
              "          element.appendChild(docLink);\n",
              "        }\n",
              "      </script>\n",
              "    </div>\n",
              "  </div>\n",
              "  "
            ]
          },
          "metadata": {},
          "execution_count": 540
        }
      ],
      "source": [
        "missing.describe()"
      ]
    },
    {
      "cell_type": "code",
      "execution_count": 541,
      "metadata": {
        "colab": {
          "base_uri": "https://localhost:8080/",
          "height": 175
        },
        "id": "T2xuGpevS3rK",
        "outputId": "134a0b57-9340-411f-edc8-9d224328955c"
      },
      "outputs": [
        {
          "output_type": "execute_result",
          "data": {
            "text/plain": [
              "         order_id        date      time order_type branch_code  \\\n",
              "count         500         500       500        500         450   \n",
              "unique        500         273        72          3           3   \n",
              "top     ORDC05007  2021-05-17  12:23:39      Lunch          BK   \n",
              "freq            1           7        13        172         163   \n",
              "\n",
              "                              order_items  \n",
              "count                                 500  \n",
              "unique                                498  \n",
              "top     [('Pasta', 9), ('Fish&Chips', 7)]  \n",
              "freq                                    2  "
            ],
            "text/html": [
              "\n",
              "  <div id=\"df-8ca83e07-a935-43ab-9c9f-dfd4fcab58c6\">\n",
              "    <div class=\"colab-df-container\">\n",
              "      <div>\n",
              "<style scoped>\n",
              "    .dataframe tbody tr th:only-of-type {\n",
              "        vertical-align: middle;\n",
              "    }\n",
              "\n",
              "    .dataframe tbody tr th {\n",
              "        vertical-align: top;\n",
              "    }\n",
              "\n",
              "    .dataframe thead th {\n",
              "        text-align: right;\n",
              "    }\n",
              "</style>\n",
              "<table border=\"1\" class=\"dataframe\">\n",
              "  <thead>\n",
              "    <tr style=\"text-align: right;\">\n",
              "      <th></th>\n",
              "      <th>order_id</th>\n",
              "      <th>date</th>\n",
              "      <th>time</th>\n",
              "      <th>order_type</th>\n",
              "      <th>branch_code</th>\n",
              "      <th>order_items</th>\n",
              "    </tr>\n",
              "  </thead>\n",
              "  <tbody>\n",
              "    <tr>\n",
              "      <th>count</th>\n",
              "      <td>500</td>\n",
              "      <td>500</td>\n",
              "      <td>500</td>\n",
              "      <td>500</td>\n",
              "      <td>450</td>\n",
              "      <td>500</td>\n",
              "    </tr>\n",
              "    <tr>\n",
              "      <th>unique</th>\n",
              "      <td>500</td>\n",
              "      <td>273</td>\n",
              "      <td>72</td>\n",
              "      <td>3</td>\n",
              "      <td>3</td>\n",
              "      <td>498</td>\n",
              "    </tr>\n",
              "    <tr>\n",
              "      <th>top</th>\n",
              "      <td>ORDC05007</td>\n",
              "      <td>2021-05-17</td>\n",
              "      <td>12:23:39</td>\n",
              "      <td>Lunch</td>\n",
              "      <td>BK</td>\n",
              "      <td>[('Pasta', 9), ('Fish&amp;Chips', 7)]</td>\n",
              "    </tr>\n",
              "    <tr>\n",
              "      <th>freq</th>\n",
              "      <td>1</td>\n",
              "      <td>7</td>\n",
              "      <td>13</td>\n",
              "      <td>172</td>\n",
              "      <td>163</td>\n",
              "      <td>2</td>\n",
              "    </tr>\n",
              "  </tbody>\n",
              "</table>\n",
              "</div>\n",
              "      <button class=\"colab-df-convert\" onclick=\"convertToInteractive('df-8ca83e07-a935-43ab-9c9f-dfd4fcab58c6')\"\n",
              "              title=\"Convert this dataframe to an interactive table.\"\n",
              "              style=\"display:none;\">\n",
              "        \n",
              "  <svg xmlns=\"http://www.w3.org/2000/svg\" height=\"24px\"viewBox=\"0 0 24 24\"\n",
              "       width=\"24px\">\n",
              "    <path d=\"M0 0h24v24H0V0z\" fill=\"none\"/>\n",
              "    <path d=\"M18.56 5.44l.94 2.06.94-2.06 2.06-.94-2.06-.94-.94-2.06-.94 2.06-2.06.94zm-11 1L8.5 8.5l.94-2.06 2.06-.94-2.06-.94L8.5 2.5l-.94 2.06-2.06.94zm10 10l.94 2.06.94-2.06 2.06-.94-2.06-.94-.94-2.06-.94 2.06-2.06.94z\"/><path d=\"M17.41 7.96l-1.37-1.37c-.4-.4-.92-.59-1.43-.59-.52 0-1.04.2-1.43.59L10.3 9.45l-7.72 7.72c-.78.78-.78 2.05 0 2.83L4 21.41c.39.39.9.59 1.41.59.51 0 1.02-.2 1.41-.59l7.78-7.78 2.81-2.81c.8-.78.8-2.07 0-2.86zM5.41 20L4 18.59l7.72-7.72 1.47 1.35L5.41 20z\"/>\n",
              "  </svg>\n",
              "      </button>\n",
              "      \n",
              "  <style>\n",
              "    .colab-df-container {\n",
              "      display:flex;\n",
              "      flex-wrap:wrap;\n",
              "      gap: 12px;\n",
              "    }\n",
              "\n",
              "    .colab-df-convert {\n",
              "      background-color: #E8F0FE;\n",
              "      border: none;\n",
              "      border-radius: 50%;\n",
              "      cursor: pointer;\n",
              "      display: none;\n",
              "      fill: #1967D2;\n",
              "      height: 32px;\n",
              "      padding: 0 0 0 0;\n",
              "      width: 32px;\n",
              "    }\n",
              "\n",
              "    .colab-df-convert:hover {\n",
              "      background-color: #E2EBFA;\n",
              "      box-shadow: 0px 1px 2px rgba(60, 64, 67, 0.3), 0px 1px 3px 1px rgba(60, 64, 67, 0.15);\n",
              "      fill: #174EA6;\n",
              "    }\n",
              "\n",
              "    [theme=dark] .colab-df-convert {\n",
              "      background-color: #3B4455;\n",
              "      fill: #D2E3FC;\n",
              "    }\n",
              "\n",
              "    [theme=dark] .colab-df-convert:hover {\n",
              "      background-color: #434B5C;\n",
              "      box-shadow: 0px 1px 3px 1px rgba(0, 0, 0, 0.15);\n",
              "      filter: drop-shadow(0px 1px 2px rgba(0, 0, 0, 0.3));\n",
              "      fill: #FFFFFF;\n",
              "    }\n",
              "  </style>\n",
              "\n",
              "      <script>\n",
              "        const buttonEl =\n",
              "          document.querySelector('#df-8ca83e07-a935-43ab-9c9f-dfd4fcab58c6 button.colab-df-convert');\n",
              "        buttonEl.style.display =\n",
              "          google.colab.kernel.accessAllowed ? 'block' : 'none';\n",
              "\n",
              "        async function convertToInteractive(key) {\n",
              "          const element = document.querySelector('#df-8ca83e07-a935-43ab-9c9f-dfd4fcab58c6');\n",
              "          const dataTable =\n",
              "            await google.colab.kernel.invokeFunction('convertToInteractive',\n",
              "                                                     [key], {});\n",
              "          if (!dataTable) return;\n",
              "\n",
              "          const docLinkHtml = 'Like what you see? Visit the ' +\n",
              "            '<a target=\"_blank\" href=https://colab.research.google.com/notebooks/data_table.ipynb>data table notebook</a>'\n",
              "            + ' to learn more about interactive tables.';\n",
              "          element.innerHTML = '';\n",
              "          dataTable['output_type'] = 'display_data';\n",
              "          await google.colab.output.renderOutput(dataTable, element);\n",
              "          const docLink = document.createElement('div');\n",
              "          docLink.innerHTML = docLinkHtml;\n",
              "          element.appendChild(docLink);\n",
              "        }\n",
              "      </script>\n",
              "    </div>\n",
              "  </div>\n",
              "  "
            ]
          },
          "metadata": {},
          "execution_count": 541
        }
      ],
      "source": [
        "missing.describe(include=['O'])"
      ]
    },
    {
      "cell_type": "code",
      "execution_count": 542,
      "metadata": {
        "colab": {
          "base_uri": "https://localhost:8080/"
        },
        "id": "2OvI_JkSS5_f",
        "outputId": "03249c67-eaca-45df-f062-7ac65750be95"
      },
      "outputs": [
        {
          "output_type": "execute_result",
          "data": {
            "text/plain": [
              "order_id                     0\n",
              "date                         0\n",
              "time                         0\n",
              "order_type                   0\n",
              "branch_code                 50\n",
              "order_items                  0\n",
              "order_price                  0\n",
              "customer_lat                 0\n",
              "customer_lon                 0\n",
              "customerHasloyalty?          0\n",
              "distance_to_customer_KM      0\n",
              "delivery_fee               100\n",
              "dtype: int64"
            ]
          },
          "metadata": {},
          "execution_count": 542
        }
      ],
      "source": [
        "missing.isnull().sum()"
      ]
    },
    {
      "cell_type": "markdown",
      "metadata": {
        "id": "VuQ2WmMOS8qD"
      },
      "source": [
        "The isnull() function reiterates what we saw with the info, that there 50 missing branch_code items and 100 missing deliery_fee items that need to be imputed"
      ]
    },
    {
      "cell_type": "markdown",
      "metadata": {
        "id": "-O4n9d6uTqzo"
      },
      "source": [
        "### 2.1 Branch Code"
      ]
    },
    {
      "cell_type": "markdown",
      "metadata": {
        "id": "4Qc0UzyLTumj"
      },
      "source": [
        "The first column we can look at is Branch Code, we know that there are 3 possible codes and we know that the distance_to_customer_KM column is the shortest distance from the branch to the customer, thus we can use this column along with the customers longitude and latitude to find out the branch_code"
      ]
    },
    {
      "cell_type": "code",
      "execution_count": 543,
      "metadata": {
        "colab": {
          "base_uri": "https://localhost:8080/",
          "height": 206
        },
        "id": "AXmhvSgNgQBZ",
        "outputId": "2b4e5e0f-3caa-4128-d488-8460f73cac6d"
      },
      "outputs": [
        {
          "output_type": "execute_result",
          "data": {
            "text/plain": [
              "        node        lat         lon\n",
              "0  711327755 -37.807675  144.955873\n",
              "1  711327756 -37.807094  144.955978\n",
              "2  711327759 -37.807301  144.957817\n",
              "3  711327760 -37.807885  144.957719\n",
              "4  777781264 -37.805221  144.952173"
            ],
            "text/html": [
              "\n",
              "  <div id=\"df-3b8ca682-eae7-4c29-9379-9ea7c5ba7ed4\">\n",
              "    <div class=\"colab-df-container\">\n",
              "      <div>\n",
              "<style scoped>\n",
              "    .dataframe tbody tr th:only-of-type {\n",
              "        vertical-align: middle;\n",
              "    }\n",
              "\n",
              "    .dataframe tbody tr th {\n",
              "        vertical-align: top;\n",
              "    }\n",
              "\n",
              "    .dataframe thead th {\n",
              "        text-align: right;\n",
              "    }\n",
              "</style>\n",
              "<table border=\"1\" class=\"dataframe\">\n",
              "  <thead>\n",
              "    <tr style=\"text-align: right;\">\n",
              "      <th></th>\n",
              "      <th>node</th>\n",
              "      <th>lat</th>\n",
              "      <th>lon</th>\n",
              "    </tr>\n",
              "  </thead>\n",
              "  <tbody>\n",
              "    <tr>\n",
              "      <th>0</th>\n",
              "      <td>711327755</td>\n",
              "      <td>-37.807675</td>\n",
              "      <td>144.955873</td>\n",
              "    </tr>\n",
              "    <tr>\n",
              "      <th>1</th>\n",
              "      <td>711327756</td>\n",
              "      <td>-37.807094</td>\n",
              "      <td>144.955978</td>\n",
              "    </tr>\n",
              "    <tr>\n",
              "      <th>2</th>\n",
              "      <td>711327759</td>\n",
              "      <td>-37.807301</td>\n",
              "      <td>144.957817</td>\n",
              "    </tr>\n",
              "    <tr>\n",
              "      <th>3</th>\n",
              "      <td>711327760</td>\n",
              "      <td>-37.807885</td>\n",
              "      <td>144.957719</td>\n",
              "    </tr>\n",
              "    <tr>\n",
              "      <th>4</th>\n",
              "      <td>777781264</td>\n",
              "      <td>-37.805221</td>\n",
              "      <td>144.952173</td>\n",
              "    </tr>\n",
              "  </tbody>\n",
              "</table>\n",
              "</div>\n",
              "      <button class=\"colab-df-convert\" onclick=\"convertToInteractive('df-3b8ca682-eae7-4c29-9379-9ea7c5ba7ed4')\"\n",
              "              title=\"Convert this dataframe to an interactive table.\"\n",
              "              style=\"display:none;\">\n",
              "        \n",
              "  <svg xmlns=\"http://www.w3.org/2000/svg\" height=\"24px\"viewBox=\"0 0 24 24\"\n",
              "       width=\"24px\">\n",
              "    <path d=\"M0 0h24v24H0V0z\" fill=\"none\"/>\n",
              "    <path d=\"M18.56 5.44l.94 2.06.94-2.06 2.06-.94-2.06-.94-.94-2.06-.94 2.06-2.06.94zm-11 1L8.5 8.5l.94-2.06 2.06-.94-2.06-.94L8.5 2.5l-.94 2.06-2.06.94zm10 10l.94 2.06.94-2.06 2.06-.94-2.06-.94-.94-2.06-.94 2.06-2.06.94z\"/><path d=\"M17.41 7.96l-1.37-1.37c-.4-.4-.92-.59-1.43-.59-.52 0-1.04.2-1.43.59L10.3 9.45l-7.72 7.72c-.78.78-.78 2.05 0 2.83L4 21.41c.39.39.9.59 1.41.59.51 0 1.02-.2 1.41-.59l7.78-7.78 2.81-2.81c.8-.78.8-2.07 0-2.86zM5.41 20L4 18.59l7.72-7.72 1.47 1.35L5.41 20z\"/>\n",
              "  </svg>\n",
              "      </button>\n",
              "      \n",
              "  <style>\n",
              "    .colab-df-container {\n",
              "      display:flex;\n",
              "      flex-wrap:wrap;\n",
              "      gap: 12px;\n",
              "    }\n",
              "\n",
              "    .colab-df-convert {\n",
              "      background-color: #E8F0FE;\n",
              "      border: none;\n",
              "      border-radius: 50%;\n",
              "      cursor: pointer;\n",
              "      display: none;\n",
              "      fill: #1967D2;\n",
              "      height: 32px;\n",
              "      padding: 0 0 0 0;\n",
              "      width: 32px;\n",
              "    }\n",
              "\n",
              "    .colab-df-convert:hover {\n",
              "      background-color: #E2EBFA;\n",
              "      box-shadow: 0px 1px 2px rgba(60, 64, 67, 0.3), 0px 1px 3px 1px rgba(60, 64, 67, 0.15);\n",
              "      fill: #174EA6;\n",
              "    }\n",
              "\n",
              "    [theme=dark] .colab-df-convert {\n",
              "      background-color: #3B4455;\n",
              "      fill: #D2E3FC;\n",
              "    }\n",
              "\n",
              "    [theme=dark] .colab-df-convert:hover {\n",
              "      background-color: #434B5C;\n",
              "      box-shadow: 0px 1px 3px 1px rgba(0, 0, 0, 0.15);\n",
              "      filter: drop-shadow(0px 1px 2px rgba(0, 0, 0, 0.3));\n",
              "      fill: #FFFFFF;\n",
              "    }\n",
              "  </style>\n",
              "\n",
              "      <script>\n",
              "        const buttonEl =\n",
              "          document.querySelector('#df-3b8ca682-eae7-4c29-9379-9ea7c5ba7ed4 button.colab-df-convert');\n",
              "        buttonEl.style.display =\n",
              "          google.colab.kernel.accessAllowed ? 'block' : 'none';\n",
              "\n",
              "        async function convertToInteractive(key) {\n",
              "          const element = document.querySelector('#df-3b8ca682-eae7-4c29-9379-9ea7c5ba7ed4');\n",
              "          const dataTable =\n",
              "            await google.colab.kernel.invokeFunction('convertToInteractive',\n",
              "                                                     [key], {});\n",
              "          if (!dataTable) return;\n",
              "\n",
              "          const docLinkHtml = 'Like what you see? Visit the ' +\n",
              "            '<a target=\"_blank\" href=https://colab.research.google.com/notebooks/data_table.ipynb>data table notebook</a>'\n",
              "            + ' to learn more about interactive tables.';\n",
              "          element.innerHTML = '';\n",
              "          dataTable['output_type'] = 'display_data';\n",
              "          await google.colab.output.renderOutput(dataTable, element);\n",
              "          const docLink = document.createElement('div');\n",
              "          docLink.innerHTML = docLinkHtml;\n",
              "          element.appendChild(docLink);\n",
              "        }\n",
              "      </script>\n",
              "    </div>\n",
              "  </div>\n",
              "  "
            ]
          },
          "metadata": {},
          "execution_count": 543
        }
      ],
      "source": [
        "# Get nodes from shared file\n",
        "nodes = pd.read_csv(\"/content/drive/Shareddrives/FIT5196-s2-2022/A2/supplementary_files/nodes.csv\")\n",
        "nodes.head()"
      ]
    },
    {
      "cell_type": "code",
      "execution_count": 544,
      "metadata": {
        "colab": {
          "base_uri": "https://localhost:8080/",
          "height": 143
        },
        "id": "FYBgZyEITJ07",
        "outputId": "1783da1e-37d7-4b60-edad-05ec961359e3"
      },
      "outputs": [
        {
          "output_type": "execute_result",
          "data": {
            "text/plain": [
              "  branch_code branch_name  branch_lat  branch_lon\n",
              "0          NS   Nickolson  -37.773803  144.983647\n",
              "1          TP    Thompson  -37.861835  144.905716\n",
              "2          BK      Bakers  -37.815834  145.046450"
            ],
            "text/html": [
              "\n",
              "  <div id=\"df-7f252f40-4ae8-4374-bf74-f735a4ecd0c8\">\n",
              "    <div class=\"colab-df-container\">\n",
              "      <div>\n",
              "<style scoped>\n",
              "    .dataframe tbody tr th:only-of-type {\n",
              "        vertical-align: middle;\n",
              "    }\n",
              "\n",
              "    .dataframe tbody tr th {\n",
              "        vertical-align: top;\n",
              "    }\n",
              "\n",
              "    .dataframe thead th {\n",
              "        text-align: right;\n",
              "    }\n",
              "</style>\n",
              "<table border=\"1\" class=\"dataframe\">\n",
              "  <thead>\n",
              "    <tr style=\"text-align: right;\">\n",
              "      <th></th>\n",
              "      <th>branch_code</th>\n",
              "      <th>branch_name</th>\n",
              "      <th>branch_lat</th>\n",
              "      <th>branch_lon</th>\n",
              "    </tr>\n",
              "  </thead>\n",
              "  <tbody>\n",
              "    <tr>\n",
              "      <th>0</th>\n",
              "      <td>NS</td>\n",
              "      <td>Nickolson</td>\n",
              "      <td>-37.773803</td>\n",
              "      <td>144.983647</td>\n",
              "    </tr>\n",
              "    <tr>\n",
              "      <th>1</th>\n",
              "      <td>TP</td>\n",
              "      <td>Thompson</td>\n",
              "      <td>-37.861835</td>\n",
              "      <td>144.905716</td>\n",
              "    </tr>\n",
              "    <tr>\n",
              "      <th>2</th>\n",
              "      <td>BK</td>\n",
              "      <td>Bakers</td>\n",
              "      <td>-37.815834</td>\n",
              "      <td>145.046450</td>\n",
              "    </tr>\n",
              "  </tbody>\n",
              "</table>\n",
              "</div>\n",
              "      <button class=\"colab-df-convert\" onclick=\"convertToInteractive('df-7f252f40-4ae8-4374-bf74-f735a4ecd0c8')\"\n",
              "              title=\"Convert this dataframe to an interactive table.\"\n",
              "              style=\"display:none;\">\n",
              "        \n",
              "  <svg xmlns=\"http://www.w3.org/2000/svg\" height=\"24px\"viewBox=\"0 0 24 24\"\n",
              "       width=\"24px\">\n",
              "    <path d=\"M0 0h24v24H0V0z\" fill=\"none\"/>\n",
              "    <path d=\"M18.56 5.44l.94 2.06.94-2.06 2.06-.94-2.06-.94-.94-2.06-.94 2.06-2.06.94zm-11 1L8.5 8.5l.94-2.06 2.06-.94-2.06-.94L8.5 2.5l-.94 2.06-2.06.94zm10 10l.94 2.06.94-2.06 2.06-.94-2.06-.94-.94-2.06-.94 2.06-2.06.94z\"/><path d=\"M17.41 7.96l-1.37-1.37c-.4-.4-.92-.59-1.43-.59-.52 0-1.04.2-1.43.59L10.3 9.45l-7.72 7.72c-.78.78-.78 2.05 0 2.83L4 21.41c.39.39.9.59 1.41.59.51 0 1.02-.2 1.41-.59l7.78-7.78 2.81-2.81c.8-.78.8-2.07 0-2.86zM5.41 20L4 18.59l7.72-7.72 1.47 1.35L5.41 20z\"/>\n",
              "  </svg>\n",
              "      </button>\n",
              "      \n",
              "  <style>\n",
              "    .colab-df-container {\n",
              "      display:flex;\n",
              "      flex-wrap:wrap;\n",
              "      gap: 12px;\n",
              "    }\n",
              "\n",
              "    .colab-df-convert {\n",
              "      background-color: #E8F0FE;\n",
              "      border: none;\n",
              "      border-radius: 50%;\n",
              "      cursor: pointer;\n",
              "      display: none;\n",
              "      fill: #1967D2;\n",
              "      height: 32px;\n",
              "      padding: 0 0 0 0;\n",
              "      width: 32px;\n",
              "    }\n",
              "\n",
              "    .colab-df-convert:hover {\n",
              "      background-color: #E2EBFA;\n",
              "      box-shadow: 0px 1px 2px rgba(60, 64, 67, 0.3), 0px 1px 3px 1px rgba(60, 64, 67, 0.15);\n",
              "      fill: #174EA6;\n",
              "    }\n",
              "\n",
              "    [theme=dark] .colab-df-convert {\n",
              "      background-color: #3B4455;\n",
              "      fill: #D2E3FC;\n",
              "    }\n",
              "\n",
              "    [theme=dark] .colab-df-convert:hover {\n",
              "      background-color: #434B5C;\n",
              "      box-shadow: 0px 1px 3px 1px rgba(0, 0, 0, 0.15);\n",
              "      filter: drop-shadow(0px 1px 2px rgba(0, 0, 0, 0.3));\n",
              "      fill: #FFFFFF;\n",
              "    }\n",
              "  </style>\n",
              "\n",
              "      <script>\n",
              "        const buttonEl =\n",
              "          document.querySelector('#df-7f252f40-4ae8-4374-bf74-f735a4ecd0c8 button.colab-df-convert');\n",
              "        buttonEl.style.display =\n",
              "          google.colab.kernel.accessAllowed ? 'block' : 'none';\n",
              "\n",
              "        async function convertToInteractive(key) {\n",
              "          const element = document.querySelector('#df-7f252f40-4ae8-4374-bf74-f735a4ecd0c8');\n",
              "          const dataTable =\n",
              "            await google.colab.kernel.invokeFunction('convertToInteractive',\n",
              "                                                     [key], {});\n",
              "          if (!dataTable) return;\n",
              "\n",
              "          const docLinkHtml = 'Like what you see? Visit the ' +\n",
              "            '<a target=\"_blank\" href=https://colab.research.google.com/notebooks/data_table.ipynb>data table notebook</a>'\n",
              "            + ' to learn more about interactive tables.';\n",
              "          element.innerHTML = '';\n",
              "          dataTable['output_type'] = 'display_data';\n",
              "          await google.colab.output.renderOutput(dataTable, element);\n",
              "          const docLink = document.createElement('div');\n",
              "          docLink.innerHTML = docLinkHtml;\n",
              "          element.appendChild(docLink);\n",
              "        }\n",
              "      </script>\n",
              "    </div>\n",
              "  </div>\n",
              "  "
            ]
          },
          "metadata": {},
          "execution_count": 544
        }
      ],
      "source": [
        "# Get the branches files from the shared drive\n",
        "branches = pd.read_csv(\"/content/drive/Shareddrives/FIT5196-s2-2022/A2/supplementary_files/branches.csv\")\n",
        "branches.head()"
      ]
    },
    {
      "cell_type": "code",
      "execution_count": 545,
      "metadata": {
        "colab": {
          "base_uri": "https://localhost:8080/",
          "height": 161
        },
        "id": "W0GXW8I1BfrR",
        "outputId": "22023720-f780-4f9e-fa7b-a134f8df2148"
      },
      "outputs": [
        {
          "output_type": "stream",
          "name": "stdout",
          "text": [
            "(3, 7)\n"
          ]
        },
        {
          "output_type": "execute_result",
          "data": {
            "text/plain": [
              "  branch_code branch_name  branch_lat  branch_lon        node        lat  \\\n",
              "0          NS   Nickolson  -37.773803  144.983647  2455254505 -37.773803   \n",
              "1          TP    Thompson  -37.861835  144.905716  1390575046 -37.861835   \n",
              "2          BK      Bakers  -37.815834  145.046450  1889485053 -37.815834   \n",
              "\n",
              "          lon  \n",
              "0  144.983647  \n",
              "1  144.905716  \n",
              "2  145.046450  "
            ],
            "text/html": [
              "\n",
              "  <div id=\"df-4898a321-e79f-487f-aa88-26a4c61fc350\">\n",
              "    <div class=\"colab-df-container\">\n",
              "      <div>\n",
              "<style scoped>\n",
              "    .dataframe tbody tr th:only-of-type {\n",
              "        vertical-align: middle;\n",
              "    }\n",
              "\n",
              "    .dataframe tbody tr th {\n",
              "        vertical-align: top;\n",
              "    }\n",
              "\n",
              "    .dataframe thead th {\n",
              "        text-align: right;\n",
              "    }\n",
              "</style>\n",
              "<table border=\"1\" class=\"dataframe\">\n",
              "  <thead>\n",
              "    <tr style=\"text-align: right;\">\n",
              "      <th></th>\n",
              "      <th>branch_code</th>\n",
              "      <th>branch_name</th>\n",
              "      <th>branch_lat</th>\n",
              "      <th>branch_lon</th>\n",
              "      <th>node</th>\n",
              "      <th>lat</th>\n",
              "      <th>lon</th>\n",
              "    </tr>\n",
              "  </thead>\n",
              "  <tbody>\n",
              "    <tr>\n",
              "      <th>0</th>\n",
              "      <td>NS</td>\n",
              "      <td>Nickolson</td>\n",
              "      <td>-37.773803</td>\n",
              "      <td>144.983647</td>\n",
              "      <td>2455254505</td>\n",
              "      <td>-37.773803</td>\n",
              "      <td>144.983647</td>\n",
              "    </tr>\n",
              "    <tr>\n",
              "      <th>1</th>\n",
              "      <td>TP</td>\n",
              "      <td>Thompson</td>\n",
              "      <td>-37.861835</td>\n",
              "      <td>144.905716</td>\n",
              "      <td>1390575046</td>\n",
              "      <td>-37.861835</td>\n",
              "      <td>144.905716</td>\n",
              "    </tr>\n",
              "    <tr>\n",
              "      <th>2</th>\n",
              "      <td>BK</td>\n",
              "      <td>Bakers</td>\n",
              "      <td>-37.815834</td>\n",
              "      <td>145.046450</td>\n",
              "      <td>1889485053</td>\n",
              "      <td>-37.815834</td>\n",
              "      <td>145.046450</td>\n",
              "    </tr>\n",
              "  </tbody>\n",
              "</table>\n",
              "</div>\n",
              "      <button class=\"colab-df-convert\" onclick=\"convertToInteractive('df-4898a321-e79f-487f-aa88-26a4c61fc350')\"\n",
              "              title=\"Convert this dataframe to an interactive table.\"\n",
              "              style=\"display:none;\">\n",
              "        \n",
              "  <svg xmlns=\"http://www.w3.org/2000/svg\" height=\"24px\"viewBox=\"0 0 24 24\"\n",
              "       width=\"24px\">\n",
              "    <path d=\"M0 0h24v24H0V0z\" fill=\"none\"/>\n",
              "    <path d=\"M18.56 5.44l.94 2.06.94-2.06 2.06-.94-2.06-.94-.94-2.06-.94 2.06-2.06.94zm-11 1L8.5 8.5l.94-2.06 2.06-.94-2.06-.94L8.5 2.5l-.94 2.06-2.06.94zm10 10l.94 2.06.94-2.06 2.06-.94-2.06-.94-.94-2.06-.94 2.06-2.06.94z\"/><path d=\"M17.41 7.96l-1.37-1.37c-.4-.4-.92-.59-1.43-.59-.52 0-1.04.2-1.43.59L10.3 9.45l-7.72 7.72c-.78.78-.78 2.05 0 2.83L4 21.41c.39.39.9.59 1.41.59.51 0 1.02-.2 1.41-.59l7.78-7.78 2.81-2.81c.8-.78.8-2.07 0-2.86zM5.41 20L4 18.59l7.72-7.72 1.47 1.35L5.41 20z\"/>\n",
              "  </svg>\n",
              "      </button>\n",
              "      \n",
              "  <style>\n",
              "    .colab-df-container {\n",
              "      display:flex;\n",
              "      flex-wrap:wrap;\n",
              "      gap: 12px;\n",
              "    }\n",
              "\n",
              "    .colab-df-convert {\n",
              "      background-color: #E8F0FE;\n",
              "      border: none;\n",
              "      border-radius: 50%;\n",
              "      cursor: pointer;\n",
              "      display: none;\n",
              "      fill: #1967D2;\n",
              "      height: 32px;\n",
              "      padding: 0 0 0 0;\n",
              "      width: 32px;\n",
              "    }\n",
              "\n",
              "    .colab-df-convert:hover {\n",
              "      background-color: #E2EBFA;\n",
              "      box-shadow: 0px 1px 2px rgba(60, 64, 67, 0.3), 0px 1px 3px 1px rgba(60, 64, 67, 0.15);\n",
              "      fill: #174EA6;\n",
              "    }\n",
              "\n",
              "    [theme=dark] .colab-df-convert {\n",
              "      background-color: #3B4455;\n",
              "      fill: #D2E3FC;\n",
              "    }\n",
              "\n",
              "    [theme=dark] .colab-df-convert:hover {\n",
              "      background-color: #434B5C;\n",
              "      box-shadow: 0px 1px 3px 1px rgba(0, 0, 0, 0.15);\n",
              "      filter: drop-shadow(0px 1px 2px rgba(0, 0, 0, 0.3));\n",
              "      fill: #FFFFFF;\n",
              "    }\n",
              "  </style>\n",
              "\n",
              "      <script>\n",
              "        const buttonEl =\n",
              "          document.querySelector('#df-4898a321-e79f-487f-aa88-26a4c61fc350 button.colab-df-convert');\n",
              "        buttonEl.style.display =\n",
              "          google.colab.kernel.accessAllowed ? 'block' : 'none';\n",
              "\n",
              "        async function convertToInteractive(key) {\n",
              "          const element = document.querySelector('#df-4898a321-e79f-487f-aa88-26a4c61fc350');\n",
              "          const dataTable =\n",
              "            await google.colab.kernel.invokeFunction('convertToInteractive',\n",
              "                                                     [key], {});\n",
              "          if (!dataTable) return;\n",
              "\n",
              "          const docLinkHtml = 'Like what you see? Visit the ' +\n",
              "            '<a target=\"_blank\" href=https://colab.research.google.com/notebooks/data_table.ipynb>data table notebook</a>'\n",
              "            + ' to learn more about interactive tables.';\n",
              "          element.innerHTML = '';\n",
              "          dataTable['output_type'] = 'display_data';\n",
              "          await google.colab.output.renderOutput(dataTable, element);\n",
              "          const docLink = document.createElement('div');\n",
              "          docLink.innerHTML = docLinkHtml;\n",
              "          element.appendChild(docLink);\n",
              "        }\n",
              "      </script>\n",
              "    </div>\n",
              "  </div>\n",
              "  "
            ]
          },
          "metadata": {},
          "execution_count": 545
        }
      ],
      "source": [
        "# Merge branches and nodes\n",
        "branches = pd.merge(branches, nodes, how='left'\n",
        "                       , left_on=['branch_lat','branch_lon'], right_on=['lat','lon'])\n",
        "print(branches.shape)\n",
        "branches.head()"
      ]
    },
    {
      "cell_type": "code",
      "execution_count": 546,
      "metadata": {
        "colab": {
          "base_uri": "https://localhost:8080/",
          "height": 143
        },
        "id": "m3R3NwK1BvI1",
        "outputId": "1780f951-d559-4c93-ce99-b5e9d54afdf5"
      },
      "outputs": [
        {
          "output_type": "execute_result",
          "data": {
            "text/plain": [
              "  branch_code branch_name  branch_lat  branch_lon  branch_node\n",
              "0          NS   Nickolson  -37.773803  144.983647   2455254505\n",
              "1          TP    Thompson  -37.861835  144.905716   1390575046\n",
              "2          BK      Bakers  -37.815834  145.046450   1889485053"
            ],
            "text/html": [
              "\n",
              "  <div id=\"df-27f5d788-4c77-47ac-a490-16f76b6ee044\">\n",
              "    <div class=\"colab-df-container\">\n",
              "      <div>\n",
              "<style scoped>\n",
              "    .dataframe tbody tr th:only-of-type {\n",
              "        vertical-align: middle;\n",
              "    }\n",
              "\n",
              "    .dataframe tbody tr th {\n",
              "        vertical-align: top;\n",
              "    }\n",
              "\n",
              "    .dataframe thead th {\n",
              "        text-align: right;\n",
              "    }\n",
              "</style>\n",
              "<table border=\"1\" class=\"dataframe\">\n",
              "  <thead>\n",
              "    <tr style=\"text-align: right;\">\n",
              "      <th></th>\n",
              "      <th>branch_code</th>\n",
              "      <th>branch_name</th>\n",
              "      <th>branch_lat</th>\n",
              "      <th>branch_lon</th>\n",
              "      <th>branch_node</th>\n",
              "    </tr>\n",
              "  </thead>\n",
              "  <tbody>\n",
              "    <tr>\n",
              "      <th>0</th>\n",
              "      <td>NS</td>\n",
              "      <td>Nickolson</td>\n",
              "      <td>-37.773803</td>\n",
              "      <td>144.983647</td>\n",
              "      <td>2455254505</td>\n",
              "    </tr>\n",
              "    <tr>\n",
              "      <th>1</th>\n",
              "      <td>TP</td>\n",
              "      <td>Thompson</td>\n",
              "      <td>-37.861835</td>\n",
              "      <td>144.905716</td>\n",
              "      <td>1390575046</td>\n",
              "    </tr>\n",
              "    <tr>\n",
              "      <th>2</th>\n",
              "      <td>BK</td>\n",
              "      <td>Bakers</td>\n",
              "      <td>-37.815834</td>\n",
              "      <td>145.046450</td>\n",
              "      <td>1889485053</td>\n",
              "    </tr>\n",
              "  </tbody>\n",
              "</table>\n",
              "</div>\n",
              "      <button class=\"colab-df-convert\" onclick=\"convertToInteractive('df-27f5d788-4c77-47ac-a490-16f76b6ee044')\"\n",
              "              title=\"Convert this dataframe to an interactive table.\"\n",
              "              style=\"display:none;\">\n",
              "        \n",
              "  <svg xmlns=\"http://www.w3.org/2000/svg\" height=\"24px\"viewBox=\"0 0 24 24\"\n",
              "       width=\"24px\">\n",
              "    <path d=\"M0 0h24v24H0V0z\" fill=\"none\"/>\n",
              "    <path d=\"M18.56 5.44l.94 2.06.94-2.06 2.06-.94-2.06-.94-.94-2.06-.94 2.06-2.06.94zm-11 1L8.5 8.5l.94-2.06 2.06-.94-2.06-.94L8.5 2.5l-.94 2.06-2.06.94zm10 10l.94 2.06.94-2.06 2.06-.94-2.06-.94-.94-2.06-.94 2.06-2.06.94z\"/><path d=\"M17.41 7.96l-1.37-1.37c-.4-.4-.92-.59-1.43-.59-.52 0-1.04.2-1.43.59L10.3 9.45l-7.72 7.72c-.78.78-.78 2.05 0 2.83L4 21.41c.39.39.9.59 1.41.59.51 0 1.02-.2 1.41-.59l7.78-7.78 2.81-2.81c.8-.78.8-2.07 0-2.86zM5.41 20L4 18.59l7.72-7.72 1.47 1.35L5.41 20z\"/>\n",
              "  </svg>\n",
              "      </button>\n",
              "      \n",
              "  <style>\n",
              "    .colab-df-container {\n",
              "      display:flex;\n",
              "      flex-wrap:wrap;\n",
              "      gap: 12px;\n",
              "    }\n",
              "\n",
              "    .colab-df-convert {\n",
              "      background-color: #E8F0FE;\n",
              "      border: none;\n",
              "      border-radius: 50%;\n",
              "      cursor: pointer;\n",
              "      display: none;\n",
              "      fill: #1967D2;\n",
              "      height: 32px;\n",
              "      padding: 0 0 0 0;\n",
              "      width: 32px;\n",
              "    }\n",
              "\n",
              "    .colab-df-convert:hover {\n",
              "      background-color: #E2EBFA;\n",
              "      box-shadow: 0px 1px 2px rgba(60, 64, 67, 0.3), 0px 1px 3px 1px rgba(60, 64, 67, 0.15);\n",
              "      fill: #174EA6;\n",
              "    }\n",
              "\n",
              "    [theme=dark] .colab-df-convert {\n",
              "      background-color: #3B4455;\n",
              "      fill: #D2E3FC;\n",
              "    }\n",
              "\n",
              "    [theme=dark] .colab-df-convert:hover {\n",
              "      background-color: #434B5C;\n",
              "      box-shadow: 0px 1px 3px 1px rgba(0, 0, 0, 0.15);\n",
              "      filter: drop-shadow(0px 1px 2px rgba(0, 0, 0, 0.3));\n",
              "      fill: #FFFFFF;\n",
              "    }\n",
              "  </style>\n",
              "\n",
              "      <script>\n",
              "        const buttonEl =\n",
              "          document.querySelector('#df-27f5d788-4c77-47ac-a490-16f76b6ee044 button.colab-df-convert');\n",
              "        buttonEl.style.display =\n",
              "          google.colab.kernel.accessAllowed ? 'block' : 'none';\n",
              "\n",
              "        async function convertToInteractive(key) {\n",
              "          const element = document.querySelector('#df-27f5d788-4c77-47ac-a490-16f76b6ee044');\n",
              "          const dataTable =\n",
              "            await google.colab.kernel.invokeFunction('convertToInteractive',\n",
              "                                                     [key], {});\n",
              "          if (!dataTable) return;\n",
              "\n",
              "          const docLinkHtml = 'Like what you see? Visit the ' +\n",
              "            '<a target=\"_blank\" href=https://colab.research.google.com/notebooks/data_table.ipynb>data table notebook</a>'\n",
              "            + ' to learn more about interactive tables.';\n",
              "          element.innerHTML = '';\n",
              "          dataTable['output_type'] = 'display_data';\n",
              "          await google.colab.output.renderOutput(dataTable, element);\n",
              "          const docLink = document.createElement('div');\n",
              "          docLink.innerHTML = docLinkHtml;\n",
              "          element.appendChild(docLink);\n",
              "        }\n",
              "      </script>\n",
              "    </div>\n",
              "  </div>\n",
              "  "
            ]
          },
          "metadata": {},
          "execution_count": 546
        }
      ],
      "source": [
        "# Drop unnecessary columns\n",
        "branches = branches.drop('lat', axis=1)\n",
        "branches = branches.drop('lon', axis=1)\n",
        "branches.rename(columns={'node':'branch_node'}, inplace=True)\n",
        "branches.head()"
      ]
    },
    {
      "cell_type": "code",
      "execution_count": 547,
      "metadata": {
        "colab": {
          "base_uri": "https://localhost:8080/",
          "height": 206
        },
        "id": "_ahZZyGBgZmN",
        "outputId": "18b0a8e6-78c3-441b-c29c-3a02b1fabce6"
      },
      "outputs": [
        {
          "output_type": "execute_result",
          "data": {
            "text/plain": [
              "   Unnamed: 0          u          v  distance(m)  street type  speed(km/h)\n",
              "0           0  711327755  711332946         58.0            1         15.0\n",
              "1           2  711327755   55725841         15.0            2         20.0\n",
              "2           3  711327755  711327760        165.0            1         15.0\n",
              "3           4  711327756  703557073          4.0            0         10.0\n",
              "4           5  711327756  711332946          8.0            1         15.0"
            ],
            "text/html": [
              "\n",
              "  <div id=\"df-26b3242d-776f-4884-aeb5-fb41f7f69fb7\">\n",
              "    <div class=\"colab-df-container\">\n",
              "      <div>\n",
              "<style scoped>\n",
              "    .dataframe tbody tr th:only-of-type {\n",
              "        vertical-align: middle;\n",
              "    }\n",
              "\n",
              "    .dataframe tbody tr th {\n",
              "        vertical-align: top;\n",
              "    }\n",
              "\n",
              "    .dataframe thead th {\n",
              "        text-align: right;\n",
              "    }\n",
              "</style>\n",
              "<table border=\"1\" class=\"dataframe\">\n",
              "  <thead>\n",
              "    <tr style=\"text-align: right;\">\n",
              "      <th></th>\n",
              "      <th>Unnamed: 0</th>\n",
              "      <th>u</th>\n",
              "      <th>v</th>\n",
              "      <th>distance(m)</th>\n",
              "      <th>street type</th>\n",
              "      <th>speed(km/h)</th>\n",
              "    </tr>\n",
              "  </thead>\n",
              "  <tbody>\n",
              "    <tr>\n",
              "      <th>0</th>\n",
              "      <td>0</td>\n",
              "      <td>711327755</td>\n",
              "      <td>711332946</td>\n",
              "      <td>58.0</td>\n",
              "      <td>1</td>\n",
              "      <td>15.0</td>\n",
              "    </tr>\n",
              "    <tr>\n",
              "      <th>1</th>\n",
              "      <td>2</td>\n",
              "      <td>711327755</td>\n",
              "      <td>55725841</td>\n",
              "      <td>15.0</td>\n",
              "      <td>2</td>\n",
              "      <td>20.0</td>\n",
              "    </tr>\n",
              "    <tr>\n",
              "      <th>2</th>\n",
              "      <td>3</td>\n",
              "      <td>711327755</td>\n",
              "      <td>711327760</td>\n",
              "      <td>165.0</td>\n",
              "      <td>1</td>\n",
              "      <td>15.0</td>\n",
              "    </tr>\n",
              "    <tr>\n",
              "      <th>3</th>\n",
              "      <td>4</td>\n",
              "      <td>711327756</td>\n",
              "      <td>703557073</td>\n",
              "      <td>4.0</td>\n",
              "      <td>0</td>\n",
              "      <td>10.0</td>\n",
              "    </tr>\n",
              "    <tr>\n",
              "      <th>4</th>\n",
              "      <td>5</td>\n",
              "      <td>711327756</td>\n",
              "      <td>711332946</td>\n",
              "      <td>8.0</td>\n",
              "      <td>1</td>\n",
              "      <td>15.0</td>\n",
              "    </tr>\n",
              "  </tbody>\n",
              "</table>\n",
              "</div>\n",
              "      <button class=\"colab-df-convert\" onclick=\"convertToInteractive('df-26b3242d-776f-4884-aeb5-fb41f7f69fb7')\"\n",
              "              title=\"Convert this dataframe to an interactive table.\"\n",
              "              style=\"display:none;\">\n",
              "        \n",
              "  <svg xmlns=\"http://www.w3.org/2000/svg\" height=\"24px\"viewBox=\"0 0 24 24\"\n",
              "       width=\"24px\">\n",
              "    <path d=\"M0 0h24v24H0V0z\" fill=\"none\"/>\n",
              "    <path d=\"M18.56 5.44l.94 2.06.94-2.06 2.06-.94-2.06-.94-.94-2.06-.94 2.06-2.06.94zm-11 1L8.5 8.5l.94-2.06 2.06-.94-2.06-.94L8.5 2.5l-.94 2.06-2.06.94zm10 10l.94 2.06.94-2.06 2.06-.94-2.06-.94-.94-2.06-.94 2.06-2.06.94z\"/><path d=\"M17.41 7.96l-1.37-1.37c-.4-.4-.92-.59-1.43-.59-.52 0-1.04.2-1.43.59L10.3 9.45l-7.72 7.72c-.78.78-.78 2.05 0 2.83L4 21.41c.39.39.9.59 1.41.59.51 0 1.02-.2 1.41-.59l7.78-7.78 2.81-2.81c.8-.78.8-2.07 0-2.86zM5.41 20L4 18.59l7.72-7.72 1.47 1.35L5.41 20z\"/>\n",
              "  </svg>\n",
              "      </button>\n",
              "      \n",
              "  <style>\n",
              "    .colab-df-container {\n",
              "      display:flex;\n",
              "      flex-wrap:wrap;\n",
              "      gap: 12px;\n",
              "    }\n",
              "\n",
              "    .colab-df-convert {\n",
              "      background-color: #E8F0FE;\n",
              "      border: none;\n",
              "      border-radius: 50%;\n",
              "      cursor: pointer;\n",
              "      display: none;\n",
              "      fill: #1967D2;\n",
              "      height: 32px;\n",
              "      padding: 0 0 0 0;\n",
              "      width: 32px;\n",
              "    }\n",
              "\n",
              "    .colab-df-convert:hover {\n",
              "      background-color: #E2EBFA;\n",
              "      box-shadow: 0px 1px 2px rgba(60, 64, 67, 0.3), 0px 1px 3px 1px rgba(60, 64, 67, 0.15);\n",
              "      fill: #174EA6;\n",
              "    }\n",
              "\n",
              "    [theme=dark] .colab-df-convert {\n",
              "      background-color: #3B4455;\n",
              "      fill: #D2E3FC;\n",
              "    }\n",
              "\n",
              "    [theme=dark] .colab-df-convert:hover {\n",
              "      background-color: #434B5C;\n",
              "      box-shadow: 0px 1px 3px 1px rgba(0, 0, 0, 0.15);\n",
              "      filter: drop-shadow(0px 1px 2px rgba(0, 0, 0, 0.3));\n",
              "      fill: #FFFFFF;\n",
              "    }\n",
              "  </style>\n",
              "\n",
              "      <script>\n",
              "        const buttonEl =\n",
              "          document.querySelector('#df-26b3242d-776f-4884-aeb5-fb41f7f69fb7 button.colab-df-convert');\n",
              "        buttonEl.style.display =\n",
              "          google.colab.kernel.accessAllowed ? 'block' : 'none';\n",
              "\n",
              "        async function convertToInteractive(key) {\n",
              "          const element = document.querySelector('#df-26b3242d-776f-4884-aeb5-fb41f7f69fb7');\n",
              "          const dataTable =\n",
              "            await google.colab.kernel.invokeFunction('convertToInteractive',\n",
              "                                                     [key], {});\n",
              "          if (!dataTable) return;\n",
              "\n",
              "          const docLinkHtml = 'Like what you see? Visit the ' +\n",
              "            '<a target=\"_blank\" href=https://colab.research.google.com/notebooks/data_table.ipynb>data table notebook</a>'\n",
              "            + ' to learn more about interactive tables.';\n",
              "          element.innerHTML = '';\n",
              "          dataTable['output_type'] = 'display_data';\n",
              "          await google.colab.output.renderOutput(dataTable, element);\n",
              "          const docLink = document.createElement('div');\n",
              "          docLink.innerHTML = docLinkHtml;\n",
              "          element.appendChild(docLink);\n",
              "        }\n",
              "      </script>\n",
              "    </div>\n",
              "  </div>\n",
              "  "
            ]
          },
          "metadata": {},
          "execution_count": 547
        }
      ],
      "source": [
        "# Get edges from shared file\n",
        "edges = pd.read_csv(\"/content/drive/Shareddrives/FIT5196-s2-2022/A2/supplementary_files/edges.csv\")\n",
        "edges.head()"
      ]
    },
    {
      "cell_type": "code",
      "execution_count": 548,
      "metadata": {
        "colab": {
          "base_uri": "https://localhost:8080/"
        },
        "id": "f0f5t3Ol7Jz0",
        "outputId": "495caa9e-1b1f-45e4-8be9-71a40ad595ac"
      },
      "outputs": [
        {
          "output_type": "stream",
          "name": "stdout",
          "text": [
            "(500, 15)\n"
          ]
        }
      ],
      "source": [
        "# merge missing_distance dataset with nodes by latitude and longitude columns\n",
        "missing = pd.merge(missing, nodes, how='left'\n",
        "                       , left_on=['customer_lat','customer_lon'], right_on=['lat','lon'])\n",
        "\n",
        "print(missing.shape)"
      ]
    },
    {
      "cell_type": "code",
      "execution_count": 549,
      "metadata": {
        "id": "8ldsXNnd7iu2"
      },
      "outputs": [],
      "source": [
        "# Drop redundant columns\n",
        "missing = missing.drop('lat', axis=1)\n",
        "missing = missing.drop('lon', axis=1)"
      ]
    },
    {
      "cell_type": "code",
      "execution_count": 550,
      "metadata": {
        "id": "I10I25lQBA1k"
      },
      "outputs": [],
      "source": [
        "# Add branch nodes to dataframe\n",
        "missing['NS_branch_node'] = '2455254505' \n",
        "missing['BK_branch_node'] = '1889485053' \n",
        "missing['TP_branch_node'] = '1390575046' "
      ]
    },
    {
      "cell_type": "code",
      "execution_count": 551,
      "metadata": {
        "colab": {
          "base_uri": "https://localhost:8080/"
        },
        "id": "XXqxWWIwIIYH",
        "outputId": "17b6b8d7-b0ca-46c4-e768-b76f200bab64"
      },
      "outputs": [
        {
          "output_type": "stream",
          "name": "stdout",
          "text": [
            "17117\n",
            "[711327755, 711327756, 711327759, 711327760, 777781264, 711327758, 164102232, 26476632, 26476637, 26476642]\n"
          ]
        }
      ],
      "source": [
        "# Create a list from nodes df node column\n",
        "nodes_list=list(nodes.node)\n",
        "print(len(nodes_list))\n",
        "print(nodes_list[0:10])"
      ]
    },
    {
      "cell_type": "code",
      "execution_count": 552,
      "metadata": {
        "colab": {
          "base_uri": "https://localhost:8080/"
        },
        "id": "6XoPNIzSISDN",
        "outputId": "bb9bdc8d-d81c-48cb-eb55-60e0614017d6"
      },
      "outputs": [
        {
          "output_type": "execute_result",
          "data": {
            "text/plain": [
              "17117"
            ]
          },
          "metadata": {},
          "execution_count": 552
        }
      ],
      "source": [
        "G = nx.Graph()\n",
        "# Add nodes list into the graph\n",
        "G.add_nodes_from(nodes_list)\n",
        "# Check the nodes count\n",
        "G.number_of_nodes()"
      ]
    },
    {
      "cell_type": "code",
      "execution_count": 553,
      "metadata": {
        "colab": {
          "base_uri": "https://localhost:8080/"
        },
        "id": "6i-XeRlFGPyf",
        "outputId": "4bf8207d-2ac3-4fb9-9e37-47beacd481a0"
      },
      "outputs": [
        {
          "output_type": "stream",
          "name": "stdout",
          "text": [
            "42224\n",
            "[(711327755.0, 711332946.0, {'weight': 58.0}), (711327755.0, 55725841.0, {'weight': 15.0}), (711327755.0, 711327760.0, {'weight': 165.0}), (711327756.0, 703557073.0, {'weight': 4.0}), (711327756.0, 711332946.0, {'weight': 8.0}), (711327756.0, 711331420.0, {'weight': 44.0}), (711327759.0, 711331451.0, {'weight': 8.0}), (711327759.0, 703557072.0, {'weight': 5.0}), (711327759.0, 711331434.0, {'weight': 32.0}), (711327760.0, 603633283.0, {'weight': 14.0})]\n"
          ]
        }
      ],
      "source": [
        "edges_list = []\n",
        "for index, row in edges.iterrows():\n",
        "    edges_list.append((row['u'], row['v'], {'weight':row['distance(m)']}))\n",
        "print(len(edges_list))\n",
        "print(edges_list[0:10])"
      ]
    },
    {
      "cell_type": "code",
      "execution_count": 554,
      "metadata": {
        "colab": {
          "base_uri": "https://localhost:8080/"
        },
        "id": "bt5sfdSlIZA6",
        "outputId": "43422558-f4b2-49c7-db08-9455435fe345"
      },
      "outputs": [
        {
          "output_type": "execute_result",
          "data": {
            "text/plain": [
              "25491"
            ]
          },
          "metadata": {},
          "execution_count": 554
        }
      ],
      "source": [
        "G.add_edges_from(edges_list)\n",
        "# check number of edges of the graph\n",
        "G.number_of_edges()"
      ]
    },
    {
      "cell_type": "code",
      "execution_count": 555,
      "metadata": {
        "colab": {
          "base_uri": "https://localhost:8080/"
        },
        "id": "j3UQ2i0VEW3Q",
        "outputId": "191833fc-952e-4e59-b73e-a76186459987"
      },
      "outputs": [
        {
          "output_type": "stream",
          "name": "stdout",
          "text": [
            "500\n"
          ]
        },
        {
          "output_type": "execute_result",
          "data": {
            "text/plain": [
              "[7626.0,\n",
              " 9589.0,\n",
              " 9113.0,\n",
              " 9784.0,\n",
              " 9367.0,\n",
              " 7789.0,\n",
              " 9231.0,\n",
              " 9226.0,\n",
              " 9719.0,\n",
              " 10063.0]"
            ]
          },
          "metadata": {},
          "execution_count": 555
        }
      ],
      "source": [
        "# Find the distances for the NS branch\n",
        "\n",
        "NS_distance_list = []\n",
        "for index, row in missing.iterrows():\n",
        "    NS_distance_list.append((nx.dijkstra_path_length(G,int(row['node']),int(row['NS_branch_node']))))  \n",
        "\n",
        "print(len(NS_distance_list))\n",
        "NS_distance_list[0:10]"
      ]
    },
    {
      "cell_type": "code",
      "execution_count": 556,
      "metadata": {
        "id": "rYliJgBAOGTT"
      },
      "outputs": [],
      "source": [
        "# Convert the distances to km from metres\n",
        "NS_distance_list = [item/1000 for item in NS_distance_list]"
      ]
    },
    {
      "cell_type": "code",
      "execution_count": 557,
      "metadata": {
        "id": "Sag-eji3NeXK"
      },
      "outputs": [],
      "source": [
        "# Create a new distance column\n",
        "missing['NS_distance'] = NS_distance_list "
      ]
    },
    {
      "cell_type": "code",
      "execution_count": 558,
      "metadata": {
        "colab": {
          "base_uri": "https://localhost:8080/"
        },
        "id": "fTvvz7VxNtQA",
        "outputId": "ab0e08e7-b018-40b2-b170-91986ffeb9c6"
      },
      "outputs": [
        {
          "output_type": "stream",
          "name": "stdout",
          "text": [
            "500\n"
          ]
        },
        {
          "output_type": "execute_result",
          "data": {
            "text/plain": [
              "[6.77, 7.132, 5.771, 9.961, 5.579, 8.202, 6.614, 8.813, 9.896, 3.502]"
            ]
          },
          "metadata": {},
          "execution_count": 558
        }
      ],
      "source": [
        "# Get the distances for the BK branch\n",
        "\n",
        "BK_distance_list = []\n",
        "for index, row in missing.iterrows():\n",
        "    BK_distance_list.append((nx.dijkstra_path_length(G,int(row['node']),int(row['BK_branch_node']))))  \n",
        "\n",
        "BK_distance_list = [item/1000 for item in BK_distance_list]\n",
        "print(len(BK_distance_list))\n",
        "BK_distance_list[0:10]"
      ]
    },
    {
      "cell_type": "code",
      "execution_count": 559,
      "metadata": {
        "id": "cEqnFwnEOvwd"
      },
      "outputs": [],
      "source": [
        "# Add the distances to the dataframe\n",
        "missing['BK_distance'] = BK_distance_list "
      ]
    },
    {
      "cell_type": "code",
      "execution_count": 560,
      "metadata": {
        "colab": {
          "base_uri": "https://localhost:8080/"
        },
        "id": "bMtj6jxyO45t",
        "outputId": "aeef001f-c14a-4e93-e180-d5498d2b19c4"
      },
      "outputs": [
        {
          "output_type": "stream",
          "name": "stdout",
          "text": [
            "500\n"
          ]
        },
        {
          "output_type": "execute_result",
          "data": {
            "text/plain": [
              "[8.785, 8.79, 9.606, 10.83, 9.849, 9.511, 9.086, 8.528, 10.765, 11.649]"
            ]
          },
          "metadata": {},
          "execution_count": 560
        }
      ],
      "source": [
        "# Get the TP distances\n",
        "TP_distance_list = []\n",
        "for index, row in missing.iterrows():\n",
        "    TP_distance_list.append((nx.dijkstra_path_length(G,int(row['node']),int(row['TP_branch_node']))))  \n",
        "\n",
        "TP_distance_list = [item/1000 for item in TP_distance_list]\n",
        "print(len(TP_distance_list))\n",
        "TP_distance_list[0:10]"
      ]
    },
    {
      "cell_type": "code",
      "execution_count": 561,
      "metadata": {
        "id": "I96NGFkAPFO4"
      },
      "outputs": [],
      "source": [
        "# Add to the dataframe\n",
        "missing['TP_distance'] = TP_distance_list "
      ]
    },
    {
      "cell_type": "code",
      "execution_count": 562,
      "metadata": {
        "colab": {
          "base_uri": "https://localhost:8080/"
        },
        "id": "bfxdJ7kPR3kc",
        "outputId": "a577d11a-ead0-442e-8731-553ddd94df2b"
      },
      "outputs": [
        {
          "output_type": "execute_result",
          "data": {
            "text/plain": [
              "BK    163\n",
              "TP    149\n",
              "NS    138\n",
              "Name: branch_code, dtype: int64"
            ]
          },
          "metadata": {},
          "execution_count": 562
        }
      ],
      "source": [
        "missing.branch_code.value_counts()"
      ]
    },
    {
      "cell_type": "markdown",
      "source": [
        "Now apply the appropraiate branch code to the row where the branch code is missing according to the correct distance from customer"
      ],
      "metadata": {
        "id": "SmEgnGcvhL26"
      }
    },
    {
      "cell_type": "code",
      "execution_count": 563,
      "metadata": {
        "id": "xTzlv9fySYJ0"
      },
      "outputs": [],
      "source": [
        "missing['branch_code'] = np.where((missing.distance_to_customer_KM == missing.NS_distance),'NS', missing.branch_code)"
      ]
    },
    {
      "cell_type": "code",
      "execution_count": 564,
      "metadata": {
        "id": "xbcyPw73U-3P"
      },
      "outputs": [],
      "source": [
        "missing['branch_code'] = np.where((missing.distance_to_customer_KM == missing.TP_distance),'TP', missing.branch_code)"
      ]
    },
    {
      "cell_type": "code",
      "execution_count": 565,
      "metadata": {
        "id": "z7VW100_VEen"
      },
      "outputs": [],
      "source": [
        "missing['branch_code'] = np.where((missing.distance_to_customer_KM == missing.BK_distance),'BK', missing.branch_code)"
      ]
    },
    {
      "cell_type": "code",
      "execution_count": 566,
      "metadata": {
        "colab": {
          "base_uri": "https://localhost:8080/"
        },
        "id": "Jf8tLCKbU8u9",
        "outputId": "0f4e683e-008c-47d6-e1f7-d714522442a3"
      },
      "outputs": [
        {
          "output_type": "execute_result",
          "data": {
            "text/plain": [
              "BK    179\n",
              "TP    166\n",
              "NS    155\n",
              "Name: branch_code, dtype: int64"
            ]
          },
          "metadata": {},
          "execution_count": 566
        }
      ],
      "source": [
        "missing.branch_code.value_counts()"
      ]
    },
    {
      "cell_type": "code",
      "execution_count": 567,
      "metadata": {
        "id": "sclOdsPZVOcI"
      },
      "outputs": [],
      "source": [
        "# Drop unnecessary columns\n",
        "missing = missing.drop(['node', 'NS_branch_node', 'BK_branch_node', 'TP_branch_node', 'NS_distance', 'BK_distance', 'TP_distance'], axis=1)"
      ]
    },
    {
      "cell_type": "markdown",
      "metadata": {
        "id": "SEIXe6i2V-oH"
      },
      "source": [
        "### 2.2 Delivery Fee"
      ]
    },
    {
      "cell_type": "markdown",
      "metadata": {
        "id": "81mfizVnjzN6"
      },
      "source": [
        "Delivery fee is calculated using a different method for each branch. The fee depends linearly on:\n",
        "- weekend or weekday (1 or 0)\n",
        "- time of day (morning 0, afternoon 1, evening 2)\n",
        "- distance between branch and customer\n",
        "\n",
        "Also note, if a customer has loyalty, they get a 50% discount on the delivery fee\n",
        "\n",
        "We also know that each branch has a different method in how they calculate delivery fee\n",
        "\n",
        "Thus, to impute our missing values, we first need to train our data on the values that are currently there, we also need to add a weekend column as there currently isn't one"
      ]
    },
    {
      "cell_type": "code",
      "execution_count": 568,
      "metadata": {
        "colab": {
          "base_uri": "https://localhost:8080/"
        },
        "id": "DtM0fJKSlX-2",
        "outputId": "502356c6-be4b-40fe-dbfa-ade0ef52bdba"
      },
      "outputs": [
        {
          "output_type": "stream",
          "name": "stdout",
          "text": [
            "<class 'pandas.core.frame.DataFrame'>\n",
            "Int64Index: 500 entries, 0 to 499\n",
            "Data columns (total 12 columns):\n",
            " #   Column                   Non-Null Count  Dtype  \n",
            "---  ------                   --------------  -----  \n",
            " 0   order_id                 500 non-null    object \n",
            " 1   date                     500 non-null    object \n",
            " 2   time                     500 non-null    object \n",
            " 3   order_type               500 non-null    object \n",
            " 4   branch_code              500 non-null    object \n",
            " 5   order_items              500 non-null    object \n",
            " 6   order_price              500 non-null    float64\n",
            " 7   customer_lat             500 non-null    float64\n",
            " 8   customer_lon             500 non-null    float64\n",
            " 9   customerHasloyalty?      500 non-null    int64  \n",
            " 10  distance_to_customer_KM  500 non-null    float64\n",
            " 11  delivery_fee             400 non-null    float64\n",
            "dtypes: float64(5), int64(1), object(6)\n",
            "memory usage: 50.8+ KB\n"
          ]
        }
      ],
      "source": [
        "missing.info()"
      ]
    },
    {
      "cell_type": "markdown",
      "metadata": {
        "id": "pOdW1DHAgek6"
      },
      "source": [
        "Thus, since we need to know whether the day is a weekday or weekend, we need to add a new column indicating this. Hence, we can extrapolate the day of the week from the date and apply an indicator function to show if that day is a weekend or not"
      ]
    },
    {
      "cell_type": "code",
      "execution_count": 569,
      "metadata": {
        "id": "_4MCrSCrlJgb"
      },
      "outputs": [],
      "source": [
        "from datetime import datetime, time"
      ]
    },
    {
      "cell_type": "code",
      "execution_count": 570,
      "metadata": {
        "id": "B5Sd4NSvls7S"
      },
      "outputs": [],
      "source": [
        "# Convert date to datetime\n",
        "missing['date'] = missing['date'].apply(lambda date: pd.Series({'date': datetime.strptime(date, '%Y-%m-%d')}))"
      ]
    },
    {
      "cell_type": "code",
      "execution_count": 571,
      "metadata": {
        "id": "kbrAtxihkyr2"
      },
      "outputs": [],
      "source": [
        "missing = missing.assign(day_of_week=missing.date.dt.weekday)"
      ]
    },
    {
      "cell_type": "code",
      "execution_count": 572,
      "metadata": {
        "colab": {
          "base_uri": "https://localhost:8080/",
          "height": 548
        },
        "id": "-hRCTNT_l9qI",
        "outputId": "c8d0aaa3-f703-41a7-c8c7-7aa5f2451683"
      },
      "outputs": [
        {
          "output_type": "stream",
          "name": "stdout",
          "text": [
            "(500, 14)\n"
          ]
        },
        {
          "output_type": "execute_result",
          "data": {
            "text/plain": [
              "    order_id       date      time order_type branch_code  \\\n",
              "0  ORDC05007 2021-05-03  12:03:22      Lunch          NS   \n",
              "1  ORDK04281 2021-04-18  11:32:57  Breakfast          BK   \n",
              "2  ORDX05801 2021-09-12  16:27:02     Dinner          BK   \n",
              "3  ORDI04007 2021-05-30  12:54:05      Lunch          NS   \n",
              "4  ORDJ08853 2021-10-24  17:48:10     Dinner          TP   \n",
              "\n",
              "                                         order_items  order_price  \\\n",
              "0  [('Chicken', 6), ('Steak', 6), ('Burger', 7), ...       833.80   \n",
              "1     [('Cereal', 4), ('Coffee', 3), ('Pancake', 3)]       163.25   \n",
              "2  [('Shrimp', 5), ('Fish&Chips', 10), ('Salmon',...       839.00   \n",
              "3  [('Fries', 1), ('Burger', 3), ('Steak', 8), ('...       482.20   \n",
              "4  [('Pasta', 9), ('Shrimp', 6), ('Salmon', 6), (...      1062.50   \n",
              "\n",
              "   customer_lat  customer_lon  customerHasloyalty?  distance_to_customer_KM  \\\n",
              "0    -37.812154    144.973932                    0                    7.626   \n",
              "1    -37.820035    144.980254                    0                    7.132   \n",
              "2    -37.817093    144.988818                    0                    5.771   \n",
              "3    -37.804481    144.936400                    0                    9.784   \n",
              "4    -37.817328    144.990782                    0                    9.849   \n",
              "\n",
              "   delivery_fee  day_of_week  weekend  \n",
              "0           NaN            0        0  \n",
              "1     15.042097            6        1  \n",
              "2     14.724766            6        1  \n",
              "3     17.016719            6        1  \n",
              "4     15.615511            6        1  "
            ],
            "text/html": [
              "\n",
              "  <div id=\"df-fa215314-0e73-49f7-bb8c-a4c1bc3553fd\">\n",
              "    <div class=\"colab-df-container\">\n",
              "      <div>\n",
              "<style scoped>\n",
              "    .dataframe tbody tr th:only-of-type {\n",
              "        vertical-align: middle;\n",
              "    }\n",
              "\n",
              "    .dataframe tbody tr th {\n",
              "        vertical-align: top;\n",
              "    }\n",
              "\n",
              "    .dataframe thead th {\n",
              "        text-align: right;\n",
              "    }\n",
              "</style>\n",
              "<table border=\"1\" class=\"dataframe\">\n",
              "  <thead>\n",
              "    <tr style=\"text-align: right;\">\n",
              "      <th></th>\n",
              "      <th>order_id</th>\n",
              "      <th>date</th>\n",
              "      <th>time</th>\n",
              "      <th>order_type</th>\n",
              "      <th>branch_code</th>\n",
              "      <th>order_items</th>\n",
              "      <th>order_price</th>\n",
              "      <th>customer_lat</th>\n",
              "      <th>customer_lon</th>\n",
              "      <th>customerHasloyalty?</th>\n",
              "      <th>distance_to_customer_KM</th>\n",
              "      <th>delivery_fee</th>\n",
              "      <th>day_of_week</th>\n",
              "      <th>weekend</th>\n",
              "    </tr>\n",
              "  </thead>\n",
              "  <tbody>\n",
              "    <tr>\n",
              "      <th>0</th>\n",
              "      <td>ORDC05007</td>\n",
              "      <td>2021-05-03</td>\n",
              "      <td>12:03:22</td>\n",
              "      <td>Lunch</td>\n",
              "      <td>NS</td>\n",
              "      <td>[('Chicken', 6), ('Steak', 6), ('Burger', 7), ...</td>\n",
              "      <td>833.80</td>\n",
              "      <td>-37.812154</td>\n",
              "      <td>144.973932</td>\n",
              "      <td>0</td>\n",
              "      <td>7.626</td>\n",
              "      <td>NaN</td>\n",
              "      <td>0</td>\n",
              "      <td>0</td>\n",
              "    </tr>\n",
              "    <tr>\n",
              "      <th>1</th>\n",
              "      <td>ORDK04281</td>\n",
              "      <td>2021-04-18</td>\n",
              "      <td>11:32:57</td>\n",
              "      <td>Breakfast</td>\n",
              "      <td>BK</td>\n",
              "      <td>[('Cereal', 4), ('Coffee', 3), ('Pancake', 3)]</td>\n",
              "      <td>163.25</td>\n",
              "      <td>-37.820035</td>\n",
              "      <td>144.980254</td>\n",
              "      <td>0</td>\n",
              "      <td>7.132</td>\n",
              "      <td>15.042097</td>\n",
              "      <td>6</td>\n",
              "      <td>1</td>\n",
              "    </tr>\n",
              "    <tr>\n",
              "      <th>2</th>\n",
              "      <td>ORDX05801</td>\n",
              "      <td>2021-09-12</td>\n",
              "      <td>16:27:02</td>\n",
              "      <td>Dinner</td>\n",
              "      <td>BK</td>\n",
              "      <td>[('Shrimp', 5), ('Fish&amp;Chips', 10), ('Salmon',...</td>\n",
              "      <td>839.00</td>\n",
              "      <td>-37.817093</td>\n",
              "      <td>144.988818</td>\n",
              "      <td>0</td>\n",
              "      <td>5.771</td>\n",
              "      <td>14.724766</td>\n",
              "      <td>6</td>\n",
              "      <td>1</td>\n",
              "    </tr>\n",
              "    <tr>\n",
              "      <th>3</th>\n",
              "      <td>ORDI04007</td>\n",
              "      <td>2021-05-30</td>\n",
              "      <td>12:54:05</td>\n",
              "      <td>Lunch</td>\n",
              "      <td>NS</td>\n",
              "      <td>[('Fries', 1), ('Burger', 3), ('Steak', 8), ('...</td>\n",
              "      <td>482.20</td>\n",
              "      <td>-37.804481</td>\n",
              "      <td>144.936400</td>\n",
              "      <td>0</td>\n",
              "      <td>9.784</td>\n",
              "      <td>17.016719</td>\n",
              "      <td>6</td>\n",
              "      <td>1</td>\n",
              "    </tr>\n",
              "    <tr>\n",
              "      <th>4</th>\n",
              "      <td>ORDJ08853</td>\n",
              "      <td>2021-10-24</td>\n",
              "      <td>17:48:10</td>\n",
              "      <td>Dinner</td>\n",
              "      <td>TP</td>\n",
              "      <td>[('Pasta', 9), ('Shrimp', 6), ('Salmon', 6), (...</td>\n",
              "      <td>1062.50</td>\n",
              "      <td>-37.817328</td>\n",
              "      <td>144.990782</td>\n",
              "      <td>0</td>\n",
              "      <td>9.849</td>\n",
              "      <td>15.615511</td>\n",
              "      <td>6</td>\n",
              "      <td>1</td>\n",
              "    </tr>\n",
              "  </tbody>\n",
              "</table>\n",
              "</div>\n",
              "      <button class=\"colab-df-convert\" onclick=\"convertToInteractive('df-fa215314-0e73-49f7-bb8c-a4c1bc3553fd')\"\n",
              "              title=\"Convert this dataframe to an interactive table.\"\n",
              "              style=\"display:none;\">\n",
              "        \n",
              "  <svg xmlns=\"http://www.w3.org/2000/svg\" height=\"24px\"viewBox=\"0 0 24 24\"\n",
              "       width=\"24px\">\n",
              "    <path d=\"M0 0h24v24H0V0z\" fill=\"none\"/>\n",
              "    <path d=\"M18.56 5.44l.94 2.06.94-2.06 2.06-.94-2.06-.94-.94-2.06-.94 2.06-2.06.94zm-11 1L8.5 8.5l.94-2.06 2.06-.94-2.06-.94L8.5 2.5l-.94 2.06-2.06.94zm10 10l.94 2.06.94-2.06 2.06-.94-2.06-.94-.94-2.06-.94 2.06-2.06.94z\"/><path d=\"M17.41 7.96l-1.37-1.37c-.4-.4-.92-.59-1.43-.59-.52 0-1.04.2-1.43.59L10.3 9.45l-7.72 7.72c-.78.78-.78 2.05 0 2.83L4 21.41c.39.39.9.59 1.41.59.51 0 1.02-.2 1.41-.59l7.78-7.78 2.81-2.81c.8-.78.8-2.07 0-2.86zM5.41 20L4 18.59l7.72-7.72 1.47 1.35L5.41 20z\"/>\n",
              "  </svg>\n",
              "      </button>\n",
              "      \n",
              "  <style>\n",
              "    .colab-df-container {\n",
              "      display:flex;\n",
              "      flex-wrap:wrap;\n",
              "      gap: 12px;\n",
              "    }\n",
              "\n",
              "    .colab-df-convert {\n",
              "      background-color: #E8F0FE;\n",
              "      border: none;\n",
              "      border-radius: 50%;\n",
              "      cursor: pointer;\n",
              "      display: none;\n",
              "      fill: #1967D2;\n",
              "      height: 32px;\n",
              "      padding: 0 0 0 0;\n",
              "      width: 32px;\n",
              "    }\n",
              "\n",
              "    .colab-df-convert:hover {\n",
              "      background-color: #E2EBFA;\n",
              "      box-shadow: 0px 1px 2px rgba(60, 64, 67, 0.3), 0px 1px 3px 1px rgba(60, 64, 67, 0.15);\n",
              "      fill: #174EA6;\n",
              "    }\n",
              "\n",
              "    [theme=dark] .colab-df-convert {\n",
              "      background-color: #3B4455;\n",
              "      fill: #D2E3FC;\n",
              "    }\n",
              "\n",
              "    [theme=dark] .colab-df-convert:hover {\n",
              "      background-color: #434B5C;\n",
              "      box-shadow: 0px 1px 3px 1px rgba(0, 0, 0, 0.15);\n",
              "      filter: drop-shadow(0px 1px 2px rgba(0, 0, 0, 0.3));\n",
              "      fill: #FFFFFF;\n",
              "    }\n",
              "  </style>\n",
              "\n",
              "      <script>\n",
              "        const buttonEl =\n",
              "          document.querySelector('#df-fa215314-0e73-49f7-bb8c-a4c1bc3553fd button.colab-df-convert');\n",
              "        buttonEl.style.display =\n",
              "          google.colab.kernel.accessAllowed ? 'block' : 'none';\n",
              "\n",
              "        async function convertToInteractive(key) {\n",
              "          const element = document.querySelector('#df-fa215314-0e73-49f7-bb8c-a4c1bc3553fd');\n",
              "          const dataTable =\n",
              "            await google.colab.kernel.invokeFunction('convertToInteractive',\n",
              "                                                     [key], {});\n",
              "          if (!dataTable) return;\n",
              "\n",
              "          const docLinkHtml = 'Like what you see? Visit the ' +\n",
              "            '<a target=\"_blank\" href=https://colab.research.google.com/notebooks/data_table.ipynb>data table notebook</a>'\n",
              "            + ' to learn more about interactive tables.';\n",
              "          element.innerHTML = '';\n",
              "          dataTable['output_type'] = 'display_data';\n",
              "          await google.colab.output.renderOutput(dataTable, element);\n",
              "          const docLink = document.createElement('div');\n",
              "          docLink.innerHTML = docLinkHtml;\n",
              "          element.appendChild(docLink);\n",
              "        }\n",
              "      </script>\n",
              "    </div>\n",
              "  </div>\n",
              "  "
            ]
          },
          "metadata": {},
          "execution_count": 572
        }
      ],
      "source": [
        "# Create a new column based on day_of_week, if it's weekend assign 1 otherwise 0.\n",
        "missing['weekend'] = missing.apply(lambda x: 1 if x['day_of_week'] == 5 \n",
        "                                                 or x['day_of_week'] == 6 else 0, axis=1)\n",
        "print(missing.shape)\n",
        "missing.head()"
      ]
    },
    {
      "cell_type": "code",
      "execution_count": 573,
      "metadata": {
        "colab": {
          "base_uri": "https://localhost:8080/"
        },
        "id": "crQ5o4xVg_x_",
        "outputId": "e3899ec5-aed7-4609-dd92-0fd6e343634c"
      },
      "outputs": [
        {
          "output_type": "execute_result",
          "data": {
            "text/plain": [
              "5    81\n",
              "4    76\n",
              "0    75\n",
              "6    73\n",
              "3    68\n",
              "1    67\n",
              "2    60\n",
              "Name: day_of_week, dtype: int64"
            ]
          },
          "metadata": {},
          "execution_count": 573
        }
      ],
      "source": [
        "missing['day_of_week'].value_counts()"
      ]
    },
    {
      "cell_type": "code",
      "execution_count": 574,
      "metadata": {
        "colab": {
          "base_uri": "https://localhost:8080/"
        },
        "id": "OWX79m9_mJk4",
        "outputId": "9116eb82-f071-4803-bcb6-0de33a152d29"
      },
      "outputs": [
        {
          "output_type": "execute_result",
          "data": {
            "text/plain": [
              "0    346\n",
              "1    154\n",
              "Name: weekend, dtype: int64"
            ]
          },
          "metadata": {},
          "execution_count": 574
        }
      ],
      "source": [
        "missing['weekend'].value_counts()"
      ]
    },
    {
      "cell_type": "markdown",
      "metadata": {
        "id": "H-eQRZmMlIHF"
      },
      "source": [
        "Now we want to get the time of day, mapping morning to 0, afternoon to 1 and evening to 2"
      ]
    },
    {
      "cell_type": "code",
      "execution_count": 575,
      "metadata": {
        "id": "atqsHDWoxu52"
      },
      "outputs": [],
      "source": [
        "# Create a new column based on the conditions to get the time of day\n",
        "\n",
        "conditions = [\n",
        "    (missing['time'] < '12:00:01'),\n",
        "    (missing['time'] >= '12:00:01') & (missing['time'] < '16:00:01'),\n",
        "    (missing['time'] >= '16:00:01') & (missing['time'] < '20:00:01')\n",
        "]\n",
        "\n",
        "values = [0, 1, 2]\n",
        "\n",
        "missing['time_of_day'] = np.select(conditions, values)"
      ]
    },
    {
      "cell_type": "code",
      "execution_count": 576,
      "metadata": {
        "colab": {
          "base_uri": "https://localhost:8080/"
        },
        "id": "C4MmpxRJyltc",
        "outputId": "ef105a49-705c-4946-dfad-74fe23e4a45b"
      },
      "outputs": [
        {
          "output_type": "execute_result",
          "data": {
            "text/plain": [
              "1    172\n",
              "0    169\n",
              "2    159\n",
              "Name: time_of_day, dtype: int64"
            ]
          },
          "metadata": {},
          "execution_count": 576
        }
      ],
      "source": [
        "missing.time_of_day.value_counts()"
      ]
    },
    {
      "cell_type": "code",
      "execution_count": 577,
      "metadata": {
        "id": "hI5uXFlYuEUc"
      },
      "outputs": [],
      "source": [
        "# change the column as there are issue with the ? character\n",
        "missing.rename(columns={'customerHasloyalty?':'customerHasloyalty'}, inplace=True)"
      ]
    },
    {
      "cell_type": "markdown",
      "metadata": {
        "id": "U5d82fz7hIjf"
      },
      "source": [
        "We also want to apply our regression model on the undiscounted delivery fee and apply the customer discount after the fact, thus we can double the delivery fee of anyone who currently has a customer loyalty applied to their delivery fee"
      ]
    },
    {
      "cell_type": "code",
      "execution_count": 578,
      "metadata": {
        "id": "3blzJl6uwOg2"
      },
      "outputs": [],
      "source": [
        "# Add a new column for the undiscounted delivery fee which is the delivery*2 if the customer has a loyalty otherwise it stays the same\n",
        "\n",
        "conditions = [\n",
        "    (missing['customerHasloyalty'] == int(1)),\n",
        "    (missing['customerHasloyalty'] != int(1))\n",
        "    ]\n",
        "\n",
        "values = [2*(missing['delivery_fee']), (missing['delivery_fee'])]\n",
        "                                        \n",
        "missing['undiscounted_delivery_fee'] = np.select(conditions, values)"
      ]
    },
    {
      "cell_type": "code",
      "execution_count": 579,
      "metadata": {
        "id": "q1IQWxDAWB-b"
      },
      "outputs": [],
      "source": [
        "missing_delivery_fee = missing.copy()"
      ]
    },
    {
      "cell_type": "markdown",
      "metadata": {
        "id": "TuEnoeqphfY4"
      },
      "source": [
        "Now we want to split our data based on the branch code and apply our regression models to each of them"
      ]
    },
    {
      "cell_type": "markdown",
      "metadata": {
        "id": "mJXzHQPRh3hR"
      },
      "source": [
        "#### 2.2.1 NS Branch"
      ]
    },
    {
      "cell_type": "code",
      "execution_count": 580,
      "metadata": {
        "id": "hAycspa3hmIR"
      },
      "outputs": [],
      "source": [
        "missing_NS = missing_delivery_fee[missing_delivery_fee['branch_code'] == 'NS']"
      ]
    },
    {
      "cell_type": "code",
      "execution_count": 581,
      "metadata": {
        "colab": {
          "base_uri": "https://localhost:8080/",
          "height": 424
        },
        "id": "RzXk_tNFmdJK",
        "outputId": "a80e0a38-697f-4cc6-dba5-700210c94e74"
      },
      "outputs": [
        {
          "output_type": "execute_result",
          "data": {
            "text/plain": [
              "     time_of_day  distance_to_customer_KM  weekend\n",
              "3              1                    9.784        1\n",
              "7              2                    9.226        1\n",
              "11             2                    7.414        0\n",
              "15             0                   10.454        0\n",
              "17             1                    9.184        0\n",
              "..           ...                      ...      ...\n",
              "482            1                   10.124        0\n",
              "483            0                    9.378        0\n",
              "485            2                    8.694        0\n",
              "497            1                    9.491        0\n",
              "498            0                    7.399        0\n",
              "\n",
              "[122 rows x 3 columns]"
            ],
            "text/html": [
              "\n",
              "  <div id=\"df-2c6dafa0-3b11-46c2-8483-265147e3001b\">\n",
              "    <div class=\"colab-df-container\">\n",
              "      <div>\n",
              "<style scoped>\n",
              "    .dataframe tbody tr th:only-of-type {\n",
              "        vertical-align: middle;\n",
              "    }\n",
              "\n",
              "    .dataframe tbody tr th {\n",
              "        vertical-align: top;\n",
              "    }\n",
              "\n",
              "    .dataframe thead th {\n",
              "        text-align: right;\n",
              "    }\n",
              "</style>\n",
              "<table border=\"1\" class=\"dataframe\">\n",
              "  <thead>\n",
              "    <tr style=\"text-align: right;\">\n",
              "      <th></th>\n",
              "      <th>time_of_day</th>\n",
              "      <th>distance_to_customer_KM</th>\n",
              "      <th>weekend</th>\n",
              "    </tr>\n",
              "  </thead>\n",
              "  <tbody>\n",
              "    <tr>\n",
              "      <th>3</th>\n",
              "      <td>1</td>\n",
              "      <td>9.784</td>\n",
              "      <td>1</td>\n",
              "    </tr>\n",
              "    <tr>\n",
              "      <th>7</th>\n",
              "      <td>2</td>\n",
              "      <td>9.226</td>\n",
              "      <td>1</td>\n",
              "    </tr>\n",
              "    <tr>\n",
              "      <th>11</th>\n",
              "      <td>2</td>\n",
              "      <td>7.414</td>\n",
              "      <td>0</td>\n",
              "    </tr>\n",
              "    <tr>\n",
              "      <th>15</th>\n",
              "      <td>0</td>\n",
              "      <td>10.454</td>\n",
              "      <td>0</td>\n",
              "    </tr>\n",
              "    <tr>\n",
              "      <th>17</th>\n",
              "      <td>1</td>\n",
              "      <td>9.184</td>\n",
              "      <td>0</td>\n",
              "    </tr>\n",
              "    <tr>\n",
              "      <th>...</th>\n",
              "      <td>...</td>\n",
              "      <td>...</td>\n",
              "      <td>...</td>\n",
              "    </tr>\n",
              "    <tr>\n",
              "      <th>482</th>\n",
              "      <td>1</td>\n",
              "      <td>10.124</td>\n",
              "      <td>0</td>\n",
              "    </tr>\n",
              "    <tr>\n",
              "      <th>483</th>\n",
              "      <td>0</td>\n",
              "      <td>9.378</td>\n",
              "      <td>0</td>\n",
              "    </tr>\n",
              "    <tr>\n",
              "      <th>485</th>\n",
              "      <td>2</td>\n",
              "      <td>8.694</td>\n",
              "      <td>0</td>\n",
              "    </tr>\n",
              "    <tr>\n",
              "      <th>497</th>\n",
              "      <td>1</td>\n",
              "      <td>9.491</td>\n",
              "      <td>0</td>\n",
              "    </tr>\n",
              "    <tr>\n",
              "      <th>498</th>\n",
              "      <td>0</td>\n",
              "      <td>7.399</td>\n",
              "      <td>0</td>\n",
              "    </tr>\n",
              "  </tbody>\n",
              "</table>\n",
              "<p>122 rows × 3 columns</p>\n",
              "</div>\n",
              "      <button class=\"colab-df-convert\" onclick=\"convertToInteractive('df-2c6dafa0-3b11-46c2-8483-265147e3001b')\"\n",
              "              title=\"Convert this dataframe to an interactive table.\"\n",
              "              style=\"display:none;\">\n",
              "        \n",
              "  <svg xmlns=\"http://www.w3.org/2000/svg\" height=\"24px\"viewBox=\"0 0 24 24\"\n",
              "       width=\"24px\">\n",
              "    <path d=\"M0 0h24v24H0V0z\" fill=\"none\"/>\n",
              "    <path d=\"M18.56 5.44l.94 2.06.94-2.06 2.06-.94-2.06-.94-.94-2.06-.94 2.06-2.06.94zm-11 1L8.5 8.5l.94-2.06 2.06-.94-2.06-.94L8.5 2.5l-.94 2.06-2.06.94zm10 10l.94 2.06.94-2.06 2.06-.94-2.06-.94-.94-2.06-.94 2.06-2.06.94z\"/><path d=\"M17.41 7.96l-1.37-1.37c-.4-.4-.92-.59-1.43-.59-.52 0-1.04.2-1.43.59L10.3 9.45l-7.72 7.72c-.78.78-.78 2.05 0 2.83L4 21.41c.39.39.9.59 1.41.59.51 0 1.02-.2 1.41-.59l7.78-7.78 2.81-2.81c.8-.78.8-2.07 0-2.86zM5.41 20L4 18.59l7.72-7.72 1.47 1.35L5.41 20z\"/>\n",
              "  </svg>\n",
              "      </button>\n",
              "      \n",
              "  <style>\n",
              "    .colab-df-container {\n",
              "      display:flex;\n",
              "      flex-wrap:wrap;\n",
              "      gap: 12px;\n",
              "    }\n",
              "\n",
              "    .colab-df-convert {\n",
              "      background-color: #E8F0FE;\n",
              "      border: none;\n",
              "      border-radius: 50%;\n",
              "      cursor: pointer;\n",
              "      display: none;\n",
              "      fill: #1967D2;\n",
              "      height: 32px;\n",
              "      padding: 0 0 0 0;\n",
              "      width: 32px;\n",
              "    }\n",
              "\n",
              "    .colab-df-convert:hover {\n",
              "      background-color: #E2EBFA;\n",
              "      box-shadow: 0px 1px 2px rgba(60, 64, 67, 0.3), 0px 1px 3px 1px rgba(60, 64, 67, 0.15);\n",
              "      fill: #174EA6;\n",
              "    }\n",
              "\n",
              "    [theme=dark] .colab-df-convert {\n",
              "      background-color: #3B4455;\n",
              "      fill: #D2E3FC;\n",
              "    }\n",
              "\n",
              "    [theme=dark] .colab-df-convert:hover {\n",
              "      background-color: #434B5C;\n",
              "      box-shadow: 0px 1px 3px 1px rgba(0, 0, 0, 0.15);\n",
              "      filter: drop-shadow(0px 1px 2px rgba(0, 0, 0, 0.3));\n",
              "      fill: #FFFFFF;\n",
              "    }\n",
              "  </style>\n",
              "\n",
              "      <script>\n",
              "        const buttonEl =\n",
              "          document.querySelector('#df-2c6dafa0-3b11-46c2-8483-265147e3001b button.colab-df-convert');\n",
              "        buttonEl.style.display =\n",
              "          google.colab.kernel.accessAllowed ? 'block' : 'none';\n",
              "\n",
              "        async function convertToInteractive(key) {\n",
              "          const element = document.querySelector('#df-2c6dafa0-3b11-46c2-8483-265147e3001b');\n",
              "          const dataTable =\n",
              "            await google.colab.kernel.invokeFunction('convertToInteractive',\n",
              "                                                     [key], {});\n",
              "          if (!dataTable) return;\n",
              "\n",
              "          const docLinkHtml = 'Like what you see? Visit the ' +\n",
              "            '<a target=\"_blank\" href=https://colab.research.google.com/notebooks/data_table.ipynb>data table notebook</a>'\n",
              "            + ' to learn more about interactive tables.';\n",
              "          element.innerHTML = '';\n",
              "          dataTable['output_type'] = 'display_data';\n",
              "          await google.colab.output.renderOutput(dataTable, element);\n",
              "          const docLink = document.createElement('div');\n",
              "          docLink.innerHTML = docLinkHtml;\n",
              "          element.appendChild(docLink);\n",
              "        }\n",
              "      </script>\n",
              "    </div>\n",
              "  </div>\n",
              "  "
            ]
          },
          "metadata": {},
          "execution_count": 581
        }
      ],
      "source": [
        "# remove all the null values\n",
        "missing_train_NS = missing_NS[missing_NS['delivery_fee'].notnull()]\n",
        "\n",
        "# Y: delivery fee is target variable\n",
        "y = missing_train_NS['undiscounted_delivery_fee']\n",
        "\n",
        "#X: 3 independent variables\n",
        "x = missing_train_NS[['time_of_day', 'distance_to_customer_KM', 'weekend']]\n",
        "\n",
        "# Encode the categorical data\n",
        "x = pd.get_dummies(x)\n",
        "x"
      ]
    },
    {
      "cell_type": "code",
      "execution_count": 582,
      "metadata": {
        "id": "2pfO6l_6nEo-"
      },
      "outputs": [],
      "source": [
        "from sklearn.linear_model import LinearRegression\n",
        "from sklearn import linear_model\n",
        "from sklearn.model_selection import train_test_split"
      ]
    },
    {
      "cell_type": "markdown",
      "source": [
        "Train the regression model"
      ],
      "metadata": {
        "id": "IqvZdJ0iiC17"
      }
    },
    {
      "cell_type": "code",
      "execution_count": 583,
      "metadata": {
        "id": "-GLKV4epzgyB"
      },
      "outputs": [],
      "source": [
        "# the function takes the independent and dependent variables\n",
        "# max_iter is optional threshold, lets just set it to 1000\n",
        "def linear_regression_model(x, y, training_target = 0.5, max_iter = 1000):\n",
        "    #adjusted R2\n",
        "    r_2 = 0\n",
        "    iteration = 1\n",
        "    # using a linear regression model\n",
        "    linear_reg = linear_model.LinearRegression()\n",
        "    \n",
        "    while(r_2 < training_target and iteration < max_iter):\n",
        "        # splitting train, test dataset 80% and 20%\n",
        "        x_train, x_test, y_train, y_test = train_test_split(x, y, test_size = .2)\n",
        "        # fit the linear regression\n",
        "        linear_reg.fit(x_train, y_train)\n",
        "        \n",
        "        # loop the model\n",
        "        r_2 = linear_reg.score(x_test, y_test)\n",
        "        iteration += 1\n",
        "        \n",
        "    # evaluate the model by Adjusted R2\n",
        "    print(\"Training R2 \" + str(linear_reg.score(x_train, y_train)))\n",
        "    print(\"Testing R2 \" + str(linear_reg.score(x_test, y_test)))\n",
        "    \n",
        "    return linear_reg"
      ]
    },
    {
      "cell_type": "code",
      "execution_count": 584,
      "metadata": {
        "id": "3toD8jMIz83i"
      },
      "outputs": [],
      "source": [
        "# Make the prediction based on the model\n",
        "def linear_prediction_model(linear_reg, x):\n",
        "    predict_variables = pd.get_dummies(x)\n",
        "    predict_delivery_fee = linear_reg.predict(predict_variables)\n",
        "    # set 6 decimals for delivery charge same as original data\n",
        "    predict_delivery_fee = np.around(predict_delivery_fee, decimals = 6)\n",
        "    \n",
        "    return predict_delivery_fee"
      ]
    },
    {
      "cell_type": "code",
      "execution_count": 585,
      "metadata": {
        "colab": {
          "base_uri": "https://localhost:8080/",
          "height": 652
        },
        "id": "XzlVqnhIz_AD",
        "outputId": "cc81e07b-a21a-4ba2-e2e7-f27b192b0c06"
      },
      "outputs": [
        {
          "output_type": "stream",
          "name": "stdout",
          "text": [
            "Training R2 0.9606249799809499\n",
            "Testing R2 0.973640402843532\n",
            "(155, 17)\n"
          ]
        },
        {
          "output_type": "stream",
          "name": "stderr",
          "text": [
            "/usr/local/lib/python3.7/dist-packages/ipykernel_launcher.py:7: SettingWithCopyWarning: \n",
            "A value is trying to be set on a copy of a slice from a DataFrame.\n",
            "Try using .loc[row_indexer,col_indexer] = value instead\n",
            "\n",
            "See the caveats in the documentation: https://pandas.pydata.org/pandas-docs/stable/user_guide/indexing.html#returning-a-view-versus-a-copy\n",
            "  import sys\n"
          ]
        },
        {
          "output_type": "execute_result",
          "data": {
            "text/plain": [
              "     order_id       date      time order_type branch_code  \\\n",
              "0   ORDC05007 2021-05-03  12:03:22      Lunch          NS   \n",
              "3   ORDI04007 2021-05-30  12:54:05      Lunch          NS   \n",
              "7   ORDI05972 2021-11-07  18:18:35     Dinner          NS   \n",
              "10  ORDI02891 2021-12-02  19:09:17     Dinner          NS   \n",
              "11  ORDI06541 2021-12-10  19:19:26     Dinner          NS   \n",
              "\n",
              "                                          order_items  order_price  \\\n",
              "0   [('Chicken', 6), ('Steak', 6), ('Burger', 7), ...        833.8   \n",
              "3   [('Fries', 1), ('Burger', 3), ('Steak', 8), ('...        482.2   \n",
              "7   [('Fish&Chips', 9), ('Shrimp', 6), ('Salmon', ...       1132.0   \n",
              "10  [('Fish&Chips', 7), ('Shrimp', 3), ('Salmon', ...        859.5   \n",
              "11                     [('Shrimp', 8), ('Salmon', 5)]        637.0   \n",
              "\n",
              "    customer_lat  customer_lon  customerHasloyalty  distance_to_customer_KM  \\\n",
              "0     -37.812154    144.973932                   0                    7.626   \n",
              "3     -37.804481    144.936400                   0                    9.784   \n",
              "7     -37.818750    144.953250                   0                    9.226   \n",
              "10    -37.815461    144.940522                   0                    9.694   \n",
              "11    -37.809675    144.964029                   0                    7.414   \n",
              "\n",
              "    delivery_fee  day_of_week  weekend  time_of_day  \\\n",
              "0            NaN            0        0            1   \n",
              "3      17.016719            6        1            1   \n",
              "7      16.435626            6        1            2   \n",
              "10           NaN            3        0            2   \n",
              "11     13.519730            4        0            2   \n",
              "\n",
              "    undiscounted_delivery_fee  predict_delivery_fee  \n",
              "0                         NaN             13.200692  \n",
              "3                   17.016719             17.334452  \n",
              "7                   16.435626             17.248393  \n",
              "10                        NaN             15.646578  \n",
              "11                  13.519730             13.448240  "
            ],
            "text/html": [
              "\n",
              "  <div id=\"df-7edeb5fe-e78c-4542-8993-973e77fcca10\">\n",
              "    <div class=\"colab-df-container\">\n",
              "      <div>\n",
              "<style scoped>\n",
              "    .dataframe tbody tr th:only-of-type {\n",
              "        vertical-align: middle;\n",
              "    }\n",
              "\n",
              "    .dataframe tbody tr th {\n",
              "        vertical-align: top;\n",
              "    }\n",
              "\n",
              "    .dataframe thead th {\n",
              "        text-align: right;\n",
              "    }\n",
              "</style>\n",
              "<table border=\"1\" class=\"dataframe\">\n",
              "  <thead>\n",
              "    <tr style=\"text-align: right;\">\n",
              "      <th></th>\n",
              "      <th>order_id</th>\n",
              "      <th>date</th>\n",
              "      <th>time</th>\n",
              "      <th>order_type</th>\n",
              "      <th>branch_code</th>\n",
              "      <th>order_items</th>\n",
              "      <th>order_price</th>\n",
              "      <th>customer_lat</th>\n",
              "      <th>customer_lon</th>\n",
              "      <th>customerHasloyalty</th>\n",
              "      <th>distance_to_customer_KM</th>\n",
              "      <th>delivery_fee</th>\n",
              "      <th>day_of_week</th>\n",
              "      <th>weekend</th>\n",
              "      <th>time_of_day</th>\n",
              "      <th>undiscounted_delivery_fee</th>\n",
              "      <th>predict_delivery_fee</th>\n",
              "    </tr>\n",
              "  </thead>\n",
              "  <tbody>\n",
              "    <tr>\n",
              "      <th>0</th>\n",
              "      <td>ORDC05007</td>\n",
              "      <td>2021-05-03</td>\n",
              "      <td>12:03:22</td>\n",
              "      <td>Lunch</td>\n",
              "      <td>NS</td>\n",
              "      <td>[('Chicken', 6), ('Steak', 6), ('Burger', 7), ...</td>\n",
              "      <td>833.8</td>\n",
              "      <td>-37.812154</td>\n",
              "      <td>144.973932</td>\n",
              "      <td>0</td>\n",
              "      <td>7.626</td>\n",
              "      <td>NaN</td>\n",
              "      <td>0</td>\n",
              "      <td>0</td>\n",
              "      <td>1</td>\n",
              "      <td>NaN</td>\n",
              "      <td>13.200692</td>\n",
              "    </tr>\n",
              "    <tr>\n",
              "      <th>3</th>\n",
              "      <td>ORDI04007</td>\n",
              "      <td>2021-05-30</td>\n",
              "      <td>12:54:05</td>\n",
              "      <td>Lunch</td>\n",
              "      <td>NS</td>\n",
              "      <td>[('Fries', 1), ('Burger', 3), ('Steak', 8), ('...</td>\n",
              "      <td>482.2</td>\n",
              "      <td>-37.804481</td>\n",
              "      <td>144.936400</td>\n",
              "      <td>0</td>\n",
              "      <td>9.784</td>\n",
              "      <td>17.016719</td>\n",
              "      <td>6</td>\n",
              "      <td>1</td>\n",
              "      <td>1</td>\n",
              "      <td>17.016719</td>\n",
              "      <td>17.334452</td>\n",
              "    </tr>\n",
              "    <tr>\n",
              "      <th>7</th>\n",
              "      <td>ORDI05972</td>\n",
              "      <td>2021-11-07</td>\n",
              "      <td>18:18:35</td>\n",
              "      <td>Dinner</td>\n",
              "      <td>NS</td>\n",
              "      <td>[('Fish&amp;Chips', 9), ('Shrimp', 6), ('Salmon', ...</td>\n",
              "      <td>1132.0</td>\n",
              "      <td>-37.818750</td>\n",
              "      <td>144.953250</td>\n",
              "      <td>0</td>\n",
              "      <td>9.226</td>\n",
              "      <td>16.435626</td>\n",
              "      <td>6</td>\n",
              "      <td>1</td>\n",
              "      <td>2</td>\n",
              "      <td>16.435626</td>\n",
              "      <td>17.248393</td>\n",
              "    </tr>\n",
              "    <tr>\n",
              "      <th>10</th>\n",
              "      <td>ORDI02891</td>\n",
              "      <td>2021-12-02</td>\n",
              "      <td>19:09:17</td>\n",
              "      <td>Dinner</td>\n",
              "      <td>NS</td>\n",
              "      <td>[('Fish&amp;Chips', 7), ('Shrimp', 3), ('Salmon', ...</td>\n",
              "      <td>859.5</td>\n",
              "      <td>-37.815461</td>\n",
              "      <td>144.940522</td>\n",
              "      <td>0</td>\n",
              "      <td>9.694</td>\n",
              "      <td>NaN</td>\n",
              "      <td>3</td>\n",
              "      <td>0</td>\n",
              "      <td>2</td>\n",
              "      <td>NaN</td>\n",
              "      <td>15.646578</td>\n",
              "    </tr>\n",
              "    <tr>\n",
              "      <th>11</th>\n",
              "      <td>ORDI06541</td>\n",
              "      <td>2021-12-10</td>\n",
              "      <td>19:19:26</td>\n",
              "      <td>Dinner</td>\n",
              "      <td>NS</td>\n",
              "      <td>[('Shrimp', 8), ('Salmon', 5)]</td>\n",
              "      <td>637.0</td>\n",
              "      <td>-37.809675</td>\n",
              "      <td>144.964029</td>\n",
              "      <td>0</td>\n",
              "      <td>7.414</td>\n",
              "      <td>13.519730</td>\n",
              "      <td>4</td>\n",
              "      <td>0</td>\n",
              "      <td>2</td>\n",
              "      <td>13.519730</td>\n",
              "      <td>13.448240</td>\n",
              "    </tr>\n",
              "  </tbody>\n",
              "</table>\n",
              "</div>\n",
              "      <button class=\"colab-df-convert\" onclick=\"convertToInteractive('df-7edeb5fe-e78c-4542-8993-973e77fcca10')\"\n",
              "              title=\"Convert this dataframe to an interactive table.\"\n",
              "              style=\"display:none;\">\n",
              "        \n",
              "  <svg xmlns=\"http://www.w3.org/2000/svg\" height=\"24px\"viewBox=\"0 0 24 24\"\n",
              "       width=\"24px\">\n",
              "    <path d=\"M0 0h24v24H0V0z\" fill=\"none\"/>\n",
              "    <path d=\"M18.56 5.44l.94 2.06.94-2.06 2.06-.94-2.06-.94-.94-2.06-.94 2.06-2.06.94zm-11 1L8.5 8.5l.94-2.06 2.06-.94-2.06-.94L8.5 2.5l-.94 2.06-2.06.94zm10 10l.94 2.06.94-2.06 2.06-.94-2.06-.94-.94-2.06-.94 2.06-2.06.94z\"/><path d=\"M17.41 7.96l-1.37-1.37c-.4-.4-.92-.59-1.43-.59-.52 0-1.04.2-1.43.59L10.3 9.45l-7.72 7.72c-.78.78-.78 2.05 0 2.83L4 21.41c.39.39.9.59 1.41.59.51 0 1.02-.2 1.41-.59l7.78-7.78 2.81-2.81c.8-.78.8-2.07 0-2.86zM5.41 20L4 18.59l7.72-7.72 1.47 1.35L5.41 20z\"/>\n",
              "  </svg>\n",
              "      </button>\n",
              "      \n",
              "  <style>\n",
              "    .colab-df-container {\n",
              "      display:flex;\n",
              "      flex-wrap:wrap;\n",
              "      gap: 12px;\n",
              "    }\n",
              "\n",
              "    .colab-df-convert {\n",
              "      background-color: #E8F0FE;\n",
              "      border: none;\n",
              "      border-radius: 50%;\n",
              "      cursor: pointer;\n",
              "      display: none;\n",
              "      fill: #1967D2;\n",
              "      height: 32px;\n",
              "      padding: 0 0 0 0;\n",
              "      width: 32px;\n",
              "    }\n",
              "\n",
              "    .colab-df-convert:hover {\n",
              "      background-color: #E2EBFA;\n",
              "      box-shadow: 0px 1px 2px rgba(60, 64, 67, 0.3), 0px 1px 3px 1px rgba(60, 64, 67, 0.15);\n",
              "      fill: #174EA6;\n",
              "    }\n",
              "\n",
              "    [theme=dark] .colab-df-convert {\n",
              "      background-color: #3B4455;\n",
              "      fill: #D2E3FC;\n",
              "    }\n",
              "\n",
              "    [theme=dark] .colab-df-convert:hover {\n",
              "      background-color: #434B5C;\n",
              "      box-shadow: 0px 1px 3px 1px rgba(0, 0, 0, 0.15);\n",
              "      filter: drop-shadow(0px 1px 2px rgba(0, 0, 0, 0.3));\n",
              "      fill: #FFFFFF;\n",
              "    }\n",
              "  </style>\n",
              "\n",
              "      <script>\n",
              "        const buttonEl =\n",
              "          document.querySelector('#df-7edeb5fe-e78c-4542-8993-973e77fcca10 button.colab-df-convert');\n",
              "        buttonEl.style.display =\n",
              "          google.colab.kernel.accessAllowed ? 'block' : 'none';\n",
              "\n",
              "        async function convertToInteractive(key) {\n",
              "          const element = document.querySelector('#df-7edeb5fe-e78c-4542-8993-973e77fcca10');\n",
              "          const dataTable =\n",
              "            await google.colab.kernel.invokeFunction('convertToInteractive',\n",
              "                                                     [key], {});\n",
              "          if (!dataTable) return;\n",
              "\n",
              "          const docLinkHtml = 'Like what you see? Visit the ' +\n",
              "            '<a target=\"_blank\" href=https://colab.research.google.com/notebooks/data_table.ipynb>data table notebook</a>'\n",
              "            + ' to learn more about interactive tables.';\n",
              "          element.innerHTML = '';\n",
              "          dataTable['output_type'] = 'display_data';\n",
              "          await google.colab.output.renderOutput(dataTable, element);\n",
              "          const docLink = document.createElement('div');\n",
              "          docLink.innerHTML = docLinkHtml;\n",
              "          element.appendChild(docLink);\n",
              "        }\n",
              "      </script>\n",
              "    </div>\n",
              "  </div>\n",
              "  "
            ]
          },
          "metadata": {},
          "execution_count": 585
        }
      ],
      "source": [
        "# delivery fee and the other variables\n",
        "linear_reg = linear_regression_model(x, y)\n",
        "predict_variables = missing_NS[['time_of_day', 'distance_to_customer_KM', 'weekend']]\n",
        "# predict new calculated delivery fee\n",
        "predict_delivery_fee = linear_prediction_model(linear_reg, predict_variables)\n",
        "# add a new column to the dataframe\n",
        "missing_NS['predict_delivery_fee'] = predict_delivery_fee\n",
        "\n",
        "print(missing_NS.shape)\n",
        "missing_NS.head()"
      ]
    },
    {
      "cell_type": "markdown",
      "metadata": {
        "id": "UotfwVmd1Ovv"
      },
      "source": [
        "Impute the missing delivery fees"
      ]
    },
    {
      "cell_type": "code",
      "execution_count": 586,
      "metadata": {
        "colab": {
          "base_uri": "https://localhost:8080/"
        },
        "id": "3bQvYTZ31UWf",
        "outputId": "32487861-7da8-40b9-be6a-cddee8ef623a"
      },
      "outputs": [
        {
          "output_type": "stream",
          "name": "stdout",
          "text": [
            "(155, 17)\n"
          ]
        },
        {
          "output_type": "stream",
          "name": "stderr",
          "text": [
            "/usr/local/lib/python3.7/dist-packages/pandas/core/generic.py:6392: SettingWithCopyWarning: \n",
            "A value is trying to be set on a copy of a slice from a DataFrame\n",
            "\n",
            "See the caveats in the documentation: https://pandas.pydata.org/pandas-docs/stable/user_guide/indexing.html#returning-a-view-versus-a-copy\n",
            "  return self._update_inplace(result)\n"
          ]
        }
      ],
      "source": [
        "missing_NS['undiscounted_delivery_fee'].fillna(value = missing_NS['predict_delivery_fee'], inplace=True)\n",
        "\n",
        "print(missing_NS.shape)"
      ]
    },
    {
      "cell_type": "markdown",
      "source": [
        "Do the same thing for the other two branches"
      ],
      "metadata": {
        "id": "PjM7yZBJicvs"
      }
    },
    {
      "cell_type": "markdown",
      "metadata": {
        "id": "5pwfi9XC831-"
      },
      "source": [
        "#### 2.2.2 TP Branch"
      ]
    },
    {
      "cell_type": "code",
      "execution_count": 587,
      "metadata": {
        "id": "RkO1brxp89OE"
      },
      "outputs": [],
      "source": [
        "missing_TP = missing_delivery_fee[missing_delivery_fee['branch_code'] == 'TP']"
      ]
    },
    {
      "cell_type": "code",
      "execution_count": 588,
      "metadata": {
        "colab": {
          "base_uri": "https://localhost:8080/",
          "height": 424
        },
        "id": "cW3S51059FBK",
        "outputId": "6a4fb1ea-d358-40e2-8271-3a7df4df85ba"
      },
      "outputs": [
        {
          "output_type": "execute_result",
          "data": {
            "text/plain": [
              "     time_of_day  distance_to_customer_KM  weekend\n",
              "4              2                    9.849        1\n",
              "12             1                    8.495        0\n",
              "13             0                   10.131        1\n",
              "16             0                   10.243        0\n",
              "23             2                    8.496        0\n",
              "..           ...                      ...      ...\n",
              "472            2                    9.720        1\n",
              "484            2                   10.044        0\n",
              "489            0                   11.346        1\n",
              "491            2                    9.401        0\n",
              "499            1                    8.219        0\n",
              "\n",
              "[131 rows x 3 columns]"
            ],
            "text/html": [
              "\n",
              "  <div id=\"df-90dbf703-db68-45d7-9862-fa491707dc0e\">\n",
              "    <div class=\"colab-df-container\">\n",
              "      <div>\n",
              "<style scoped>\n",
              "    .dataframe tbody tr th:only-of-type {\n",
              "        vertical-align: middle;\n",
              "    }\n",
              "\n",
              "    .dataframe tbody tr th {\n",
              "        vertical-align: top;\n",
              "    }\n",
              "\n",
              "    .dataframe thead th {\n",
              "        text-align: right;\n",
              "    }\n",
              "</style>\n",
              "<table border=\"1\" class=\"dataframe\">\n",
              "  <thead>\n",
              "    <tr style=\"text-align: right;\">\n",
              "      <th></th>\n",
              "      <th>time_of_day</th>\n",
              "      <th>distance_to_customer_KM</th>\n",
              "      <th>weekend</th>\n",
              "    </tr>\n",
              "  </thead>\n",
              "  <tbody>\n",
              "    <tr>\n",
              "      <th>4</th>\n",
              "      <td>2</td>\n",
              "      <td>9.849</td>\n",
              "      <td>1</td>\n",
              "    </tr>\n",
              "    <tr>\n",
              "      <th>12</th>\n",
              "      <td>1</td>\n",
              "      <td>8.495</td>\n",
              "      <td>0</td>\n",
              "    </tr>\n",
              "    <tr>\n",
              "      <th>13</th>\n",
              "      <td>0</td>\n",
              "      <td>10.131</td>\n",
              "      <td>1</td>\n",
              "    </tr>\n",
              "    <tr>\n",
              "      <th>16</th>\n",
              "      <td>0</td>\n",
              "      <td>10.243</td>\n",
              "      <td>0</td>\n",
              "    </tr>\n",
              "    <tr>\n",
              "      <th>23</th>\n",
              "      <td>2</td>\n",
              "      <td>8.496</td>\n",
              "      <td>0</td>\n",
              "    </tr>\n",
              "    <tr>\n",
              "      <th>...</th>\n",
              "      <td>...</td>\n",
              "      <td>...</td>\n",
              "      <td>...</td>\n",
              "    </tr>\n",
              "    <tr>\n",
              "      <th>472</th>\n",
              "      <td>2</td>\n",
              "      <td>9.720</td>\n",
              "      <td>1</td>\n",
              "    </tr>\n",
              "    <tr>\n",
              "      <th>484</th>\n",
              "      <td>2</td>\n",
              "      <td>10.044</td>\n",
              "      <td>0</td>\n",
              "    </tr>\n",
              "    <tr>\n",
              "      <th>489</th>\n",
              "      <td>0</td>\n",
              "      <td>11.346</td>\n",
              "      <td>1</td>\n",
              "    </tr>\n",
              "    <tr>\n",
              "      <th>491</th>\n",
              "      <td>2</td>\n",
              "      <td>9.401</td>\n",
              "      <td>0</td>\n",
              "    </tr>\n",
              "    <tr>\n",
              "      <th>499</th>\n",
              "      <td>1</td>\n",
              "      <td>8.219</td>\n",
              "      <td>0</td>\n",
              "    </tr>\n",
              "  </tbody>\n",
              "</table>\n",
              "<p>131 rows × 3 columns</p>\n",
              "</div>\n",
              "      <button class=\"colab-df-convert\" onclick=\"convertToInteractive('df-90dbf703-db68-45d7-9862-fa491707dc0e')\"\n",
              "              title=\"Convert this dataframe to an interactive table.\"\n",
              "              style=\"display:none;\">\n",
              "        \n",
              "  <svg xmlns=\"http://www.w3.org/2000/svg\" height=\"24px\"viewBox=\"0 0 24 24\"\n",
              "       width=\"24px\">\n",
              "    <path d=\"M0 0h24v24H0V0z\" fill=\"none\"/>\n",
              "    <path d=\"M18.56 5.44l.94 2.06.94-2.06 2.06-.94-2.06-.94-.94-2.06-.94 2.06-2.06.94zm-11 1L8.5 8.5l.94-2.06 2.06-.94-2.06-.94L8.5 2.5l-.94 2.06-2.06.94zm10 10l.94 2.06.94-2.06 2.06-.94-2.06-.94-.94-2.06-.94 2.06-2.06.94z\"/><path d=\"M17.41 7.96l-1.37-1.37c-.4-.4-.92-.59-1.43-.59-.52 0-1.04.2-1.43.59L10.3 9.45l-7.72 7.72c-.78.78-.78 2.05 0 2.83L4 21.41c.39.39.9.59 1.41.59.51 0 1.02-.2 1.41-.59l7.78-7.78 2.81-2.81c.8-.78.8-2.07 0-2.86zM5.41 20L4 18.59l7.72-7.72 1.47 1.35L5.41 20z\"/>\n",
              "  </svg>\n",
              "      </button>\n",
              "      \n",
              "  <style>\n",
              "    .colab-df-container {\n",
              "      display:flex;\n",
              "      flex-wrap:wrap;\n",
              "      gap: 12px;\n",
              "    }\n",
              "\n",
              "    .colab-df-convert {\n",
              "      background-color: #E8F0FE;\n",
              "      border: none;\n",
              "      border-radius: 50%;\n",
              "      cursor: pointer;\n",
              "      display: none;\n",
              "      fill: #1967D2;\n",
              "      height: 32px;\n",
              "      padding: 0 0 0 0;\n",
              "      width: 32px;\n",
              "    }\n",
              "\n",
              "    .colab-df-convert:hover {\n",
              "      background-color: #E2EBFA;\n",
              "      box-shadow: 0px 1px 2px rgba(60, 64, 67, 0.3), 0px 1px 3px 1px rgba(60, 64, 67, 0.15);\n",
              "      fill: #174EA6;\n",
              "    }\n",
              "\n",
              "    [theme=dark] .colab-df-convert {\n",
              "      background-color: #3B4455;\n",
              "      fill: #D2E3FC;\n",
              "    }\n",
              "\n",
              "    [theme=dark] .colab-df-convert:hover {\n",
              "      background-color: #434B5C;\n",
              "      box-shadow: 0px 1px 3px 1px rgba(0, 0, 0, 0.15);\n",
              "      filter: drop-shadow(0px 1px 2px rgba(0, 0, 0, 0.3));\n",
              "      fill: #FFFFFF;\n",
              "    }\n",
              "  </style>\n",
              "\n",
              "      <script>\n",
              "        const buttonEl =\n",
              "          document.querySelector('#df-90dbf703-db68-45d7-9862-fa491707dc0e button.colab-df-convert');\n",
              "        buttonEl.style.display =\n",
              "          google.colab.kernel.accessAllowed ? 'block' : 'none';\n",
              "\n",
              "        async function convertToInteractive(key) {\n",
              "          const element = document.querySelector('#df-90dbf703-db68-45d7-9862-fa491707dc0e');\n",
              "          const dataTable =\n",
              "            await google.colab.kernel.invokeFunction('convertToInteractive',\n",
              "                                                     [key], {});\n",
              "          if (!dataTable) return;\n",
              "\n",
              "          const docLinkHtml = 'Like what you see? Visit the ' +\n",
              "            '<a target=\"_blank\" href=https://colab.research.google.com/notebooks/data_table.ipynb>data table notebook</a>'\n",
              "            + ' to learn more about interactive tables.';\n",
              "          element.innerHTML = '';\n",
              "          dataTable['output_type'] = 'display_data';\n",
              "          await google.colab.output.renderOutput(dataTable, element);\n",
              "          const docLink = document.createElement('div');\n",
              "          docLink.innerHTML = docLinkHtml;\n",
              "          element.appendChild(docLink);\n",
              "        }\n",
              "      </script>\n",
              "    </div>\n",
              "  </div>\n",
              "  "
            ]
          },
          "metadata": {},
          "execution_count": 588
        }
      ],
      "source": [
        "# Make a dataframe without the null values\n",
        "missing_train_TP = missing_TP[missing_TP['delivery_fee'].notnull()]\n",
        "\n",
        "# Y: delivery fee is target variable\n",
        "y = missing_train_TP['undiscounted_delivery_fee']\n",
        "\n",
        "#X: 3 independent variables\n",
        "x = missing_train_TP[['time_of_day', 'distance_to_customer_KM', 'weekend']]\n",
        "\n",
        "# Encode categorical data\n",
        "x = pd.get_dummies(x)\n",
        "x"
      ]
    },
    {
      "cell_type": "code",
      "execution_count": 589,
      "metadata": {
        "colab": {
          "base_uri": "https://localhost:8080/",
          "height": 669
        },
        "id": "OOGokvfQ9Rvm",
        "outputId": "e6dd3cdf-e8c2-4a15-ff1a-d72c2a8adb0b"
      },
      "outputs": [
        {
          "output_type": "stream",
          "name": "stdout",
          "text": [
            "Training R2 0.9502179416683608\n",
            "Testing R2 0.8979551269112271\n",
            "(166, 17)\n"
          ]
        },
        {
          "output_type": "stream",
          "name": "stderr",
          "text": [
            "/usr/local/lib/python3.7/dist-packages/ipykernel_launcher.py:7: SettingWithCopyWarning: \n",
            "A value is trying to be set on a copy of a slice from a DataFrame.\n",
            "Try using .loc[row_indexer,col_indexer] = value instead\n",
            "\n",
            "See the caveats in the documentation: https://pandas.pydata.org/pandas-docs/stable/user_guide/indexing.html#returning-a-view-versus-a-copy\n",
            "  import sys\n"
          ]
        },
        {
          "output_type": "execute_result",
          "data": {
            "text/plain": [
              "     order_id       date      time order_type branch_code  \\\n",
              "4   ORDJ08853 2021-10-24  17:48:10     Dinner          TP   \n",
              "12  ORDY08807 2021-05-14  12:23:39      Lunch          TP   \n",
              "13  ORDJ08202 2021-01-02  08:00:00  Breakfast          TP   \n",
              "16  ORDY02361 2021-04-09  11:12:40  Breakfast          TP   \n",
              "22  ORDJ05040 2021-05-17  12:23:39      Lunch          TP   \n",
              "\n",
              "                                          order_items  order_price  \\\n",
              "4   [('Pasta', 9), ('Shrimp', 6), ('Salmon', 6), (...      1062.50   \n",
              "12  [('Salad', 5), ('Chicken', 8), ('Fries', 7), (...       457.00   \n",
              "13  [('Coffee', 5), ('Cereal', 6), ('Pancake', 7),...       387.25   \n",
              "16    [('Coffee', 10), ('Cereal', 9), ('Pancake', 2)]       279.50   \n",
              "22                      [('Burger', 4), ('Salad', 2)]       158.40   \n",
              "\n",
              "    customer_lat  customer_lon  customerHasloyalty  distance_to_customer_KM  \\\n",
              "4     -37.817328    144.990782                   0                    9.849   \n",
              "12    -37.813190    144.966306                   0                    8.495   \n",
              "13    -37.800566    144.976512                   1                   10.131   \n",
              "16    -37.810778    144.939145                   0                   10.243   \n",
              "22    -37.815799    144.963695                   0                    7.925   \n",
              "\n",
              "    delivery_fee  day_of_week  weekend  time_of_day  \\\n",
              "4      15.615511            6        1            2   \n",
              "12     12.195645            4        0            1   \n",
              "13      6.947563            5        1            0   \n",
              "16     12.175499            4        0            0   \n",
              "22           NaN            0        0            1   \n",
              "\n",
              "    undiscounted_delivery_fee  predict_delivery_fee  \n",
              "4                   15.615511             15.447045  \n",
              "12                  12.195645             11.904937  \n",
              "13                  13.895125             14.160116  \n",
              "16                  12.175499             12.644185  \n",
              "22                        NaN             11.414492  "
            ],
            "text/html": [
              "\n",
              "  <div id=\"df-03e708b0-edde-406f-8588-030aca67bca4\">\n",
              "    <div class=\"colab-df-container\">\n",
              "      <div>\n",
              "<style scoped>\n",
              "    .dataframe tbody tr th:only-of-type {\n",
              "        vertical-align: middle;\n",
              "    }\n",
              "\n",
              "    .dataframe tbody tr th {\n",
              "        vertical-align: top;\n",
              "    }\n",
              "\n",
              "    .dataframe thead th {\n",
              "        text-align: right;\n",
              "    }\n",
              "</style>\n",
              "<table border=\"1\" class=\"dataframe\">\n",
              "  <thead>\n",
              "    <tr style=\"text-align: right;\">\n",
              "      <th></th>\n",
              "      <th>order_id</th>\n",
              "      <th>date</th>\n",
              "      <th>time</th>\n",
              "      <th>order_type</th>\n",
              "      <th>branch_code</th>\n",
              "      <th>order_items</th>\n",
              "      <th>order_price</th>\n",
              "      <th>customer_lat</th>\n",
              "      <th>customer_lon</th>\n",
              "      <th>customerHasloyalty</th>\n",
              "      <th>distance_to_customer_KM</th>\n",
              "      <th>delivery_fee</th>\n",
              "      <th>day_of_week</th>\n",
              "      <th>weekend</th>\n",
              "      <th>time_of_day</th>\n",
              "      <th>undiscounted_delivery_fee</th>\n",
              "      <th>predict_delivery_fee</th>\n",
              "    </tr>\n",
              "  </thead>\n",
              "  <tbody>\n",
              "    <tr>\n",
              "      <th>4</th>\n",
              "      <td>ORDJ08853</td>\n",
              "      <td>2021-10-24</td>\n",
              "      <td>17:48:10</td>\n",
              "      <td>Dinner</td>\n",
              "      <td>TP</td>\n",
              "      <td>[('Pasta', 9), ('Shrimp', 6), ('Salmon', 6), (...</td>\n",
              "      <td>1062.50</td>\n",
              "      <td>-37.817328</td>\n",
              "      <td>144.990782</td>\n",
              "      <td>0</td>\n",
              "      <td>9.849</td>\n",
              "      <td>15.615511</td>\n",
              "      <td>6</td>\n",
              "      <td>1</td>\n",
              "      <td>2</td>\n",
              "      <td>15.615511</td>\n",
              "      <td>15.447045</td>\n",
              "    </tr>\n",
              "    <tr>\n",
              "      <th>12</th>\n",
              "      <td>ORDY08807</td>\n",
              "      <td>2021-05-14</td>\n",
              "      <td>12:23:39</td>\n",
              "      <td>Lunch</td>\n",
              "      <td>TP</td>\n",
              "      <td>[('Salad', 5), ('Chicken', 8), ('Fries', 7), (...</td>\n",
              "      <td>457.00</td>\n",
              "      <td>-37.813190</td>\n",
              "      <td>144.966306</td>\n",
              "      <td>0</td>\n",
              "      <td>8.495</td>\n",
              "      <td>12.195645</td>\n",
              "      <td>4</td>\n",
              "      <td>0</td>\n",
              "      <td>1</td>\n",
              "      <td>12.195645</td>\n",
              "      <td>11.904937</td>\n",
              "    </tr>\n",
              "    <tr>\n",
              "      <th>13</th>\n",
              "      <td>ORDJ08202</td>\n",
              "      <td>2021-01-02</td>\n",
              "      <td>08:00:00</td>\n",
              "      <td>Breakfast</td>\n",
              "      <td>TP</td>\n",
              "      <td>[('Coffee', 5), ('Cereal', 6), ('Pancake', 7),...</td>\n",
              "      <td>387.25</td>\n",
              "      <td>-37.800566</td>\n",
              "      <td>144.976512</td>\n",
              "      <td>1</td>\n",
              "      <td>10.131</td>\n",
              "      <td>6.947563</td>\n",
              "      <td>5</td>\n",
              "      <td>1</td>\n",
              "      <td>0</td>\n",
              "      <td>13.895125</td>\n",
              "      <td>14.160116</td>\n",
              "    </tr>\n",
              "    <tr>\n",
              "      <th>16</th>\n",
              "      <td>ORDY02361</td>\n",
              "      <td>2021-04-09</td>\n",
              "      <td>11:12:40</td>\n",
              "      <td>Breakfast</td>\n",
              "      <td>TP</td>\n",
              "      <td>[('Coffee', 10), ('Cereal', 9), ('Pancake', 2)]</td>\n",
              "      <td>279.50</td>\n",
              "      <td>-37.810778</td>\n",
              "      <td>144.939145</td>\n",
              "      <td>0</td>\n",
              "      <td>10.243</td>\n",
              "      <td>12.175499</td>\n",
              "      <td>4</td>\n",
              "      <td>0</td>\n",
              "      <td>0</td>\n",
              "      <td>12.175499</td>\n",
              "      <td>12.644185</td>\n",
              "    </tr>\n",
              "    <tr>\n",
              "      <th>22</th>\n",
              "      <td>ORDJ05040</td>\n",
              "      <td>2021-05-17</td>\n",
              "      <td>12:23:39</td>\n",
              "      <td>Lunch</td>\n",
              "      <td>TP</td>\n",
              "      <td>[('Burger', 4), ('Salad', 2)]</td>\n",
              "      <td>158.40</td>\n",
              "      <td>-37.815799</td>\n",
              "      <td>144.963695</td>\n",
              "      <td>0</td>\n",
              "      <td>7.925</td>\n",
              "      <td>NaN</td>\n",
              "      <td>0</td>\n",
              "      <td>0</td>\n",
              "      <td>1</td>\n",
              "      <td>NaN</td>\n",
              "      <td>11.414492</td>\n",
              "    </tr>\n",
              "  </tbody>\n",
              "</table>\n",
              "</div>\n",
              "      <button class=\"colab-df-convert\" onclick=\"convertToInteractive('df-03e708b0-edde-406f-8588-030aca67bca4')\"\n",
              "              title=\"Convert this dataframe to an interactive table.\"\n",
              "              style=\"display:none;\">\n",
              "        \n",
              "  <svg xmlns=\"http://www.w3.org/2000/svg\" height=\"24px\"viewBox=\"0 0 24 24\"\n",
              "       width=\"24px\">\n",
              "    <path d=\"M0 0h24v24H0V0z\" fill=\"none\"/>\n",
              "    <path d=\"M18.56 5.44l.94 2.06.94-2.06 2.06-.94-2.06-.94-.94-2.06-.94 2.06-2.06.94zm-11 1L8.5 8.5l.94-2.06 2.06-.94-2.06-.94L8.5 2.5l-.94 2.06-2.06.94zm10 10l.94 2.06.94-2.06 2.06-.94-2.06-.94-.94-2.06-.94 2.06-2.06.94z\"/><path d=\"M17.41 7.96l-1.37-1.37c-.4-.4-.92-.59-1.43-.59-.52 0-1.04.2-1.43.59L10.3 9.45l-7.72 7.72c-.78.78-.78 2.05 0 2.83L4 21.41c.39.39.9.59 1.41.59.51 0 1.02-.2 1.41-.59l7.78-7.78 2.81-2.81c.8-.78.8-2.07 0-2.86zM5.41 20L4 18.59l7.72-7.72 1.47 1.35L5.41 20z\"/>\n",
              "  </svg>\n",
              "      </button>\n",
              "      \n",
              "  <style>\n",
              "    .colab-df-container {\n",
              "      display:flex;\n",
              "      flex-wrap:wrap;\n",
              "      gap: 12px;\n",
              "    }\n",
              "\n",
              "    .colab-df-convert {\n",
              "      background-color: #E8F0FE;\n",
              "      border: none;\n",
              "      border-radius: 50%;\n",
              "      cursor: pointer;\n",
              "      display: none;\n",
              "      fill: #1967D2;\n",
              "      height: 32px;\n",
              "      padding: 0 0 0 0;\n",
              "      width: 32px;\n",
              "    }\n",
              "\n",
              "    .colab-df-convert:hover {\n",
              "      background-color: #E2EBFA;\n",
              "      box-shadow: 0px 1px 2px rgba(60, 64, 67, 0.3), 0px 1px 3px 1px rgba(60, 64, 67, 0.15);\n",
              "      fill: #174EA6;\n",
              "    }\n",
              "\n",
              "    [theme=dark] .colab-df-convert {\n",
              "      background-color: #3B4455;\n",
              "      fill: #D2E3FC;\n",
              "    }\n",
              "\n",
              "    [theme=dark] .colab-df-convert:hover {\n",
              "      background-color: #434B5C;\n",
              "      box-shadow: 0px 1px 3px 1px rgba(0, 0, 0, 0.15);\n",
              "      filter: drop-shadow(0px 1px 2px rgba(0, 0, 0, 0.3));\n",
              "      fill: #FFFFFF;\n",
              "    }\n",
              "  </style>\n",
              "\n",
              "      <script>\n",
              "        const buttonEl =\n",
              "          document.querySelector('#df-03e708b0-edde-406f-8588-030aca67bca4 button.colab-df-convert');\n",
              "        buttonEl.style.display =\n",
              "          google.colab.kernel.accessAllowed ? 'block' : 'none';\n",
              "\n",
              "        async function convertToInteractive(key) {\n",
              "          const element = document.querySelector('#df-03e708b0-edde-406f-8588-030aca67bca4');\n",
              "          const dataTable =\n",
              "            await google.colab.kernel.invokeFunction('convertToInteractive',\n",
              "                                                     [key], {});\n",
              "          if (!dataTable) return;\n",
              "\n",
              "          const docLinkHtml = 'Like what you see? Visit the ' +\n",
              "            '<a target=\"_blank\" href=https://colab.research.google.com/notebooks/data_table.ipynb>data table notebook</a>'\n",
              "            + ' to learn more about interactive tables.';\n",
              "          element.innerHTML = '';\n",
              "          dataTable['output_type'] = 'display_data';\n",
              "          await google.colab.output.renderOutput(dataTable, element);\n",
              "          const docLink = document.createElement('div');\n",
              "          docLink.innerHTML = docLinkHtml;\n",
              "          element.appendChild(docLink);\n",
              "        }\n",
              "      </script>\n",
              "    </div>\n",
              "  </div>\n",
              "  "
            ]
          },
          "metadata": {},
          "execution_count": 589
        }
      ],
      "source": [
        "# delivery fee and the other variables\n",
        "linear_reg = linear_regression_model(x, y)\n",
        "predict_variables = missing_TP[['time_of_day', 'distance_to_customer_KM', 'weekend']]\n",
        "# predict new calculated delivery fee\n",
        "predict_delivery_fee = linear_prediction_model(linear_reg, predict_variables)\n",
        "# add the column to the dataframe\n",
        "missing_TP['predict_delivery_fee'] = predict_delivery_fee\n",
        "\n",
        "print(missing_TP.shape)\n",
        "missing_TP.head()"
      ]
    },
    {
      "cell_type": "code",
      "execution_count": 590,
      "metadata": {
        "colab": {
          "base_uri": "https://localhost:8080/"
        },
        "id": "0dmk2BEb9jSk",
        "outputId": "7dfe6e7b-c07e-4335-da72-584b19ce20ec"
      },
      "outputs": [
        {
          "output_type": "stream",
          "name": "stdout",
          "text": [
            "(166, 17)\n"
          ]
        },
        {
          "output_type": "stream",
          "name": "stderr",
          "text": [
            "/usr/local/lib/python3.7/dist-packages/pandas/core/generic.py:6392: SettingWithCopyWarning: \n",
            "A value is trying to be set on a copy of a slice from a DataFrame\n",
            "\n",
            "See the caveats in the documentation: https://pandas.pydata.org/pandas-docs/stable/user_guide/indexing.html#returning-a-view-versus-a-copy\n",
            "  return self._update_inplace(result)\n"
          ]
        }
      ],
      "source": [
        "missing_TP['undiscounted_delivery_fee'].fillna(value = missing_TP['predict_delivery_fee'], inplace=True)\n",
        "\n",
        "print(missing_TP.shape)"
      ]
    },
    {
      "cell_type": "markdown",
      "metadata": {
        "id": "wsnvUuQK90PP"
      },
      "source": [
        "#### 2.2.3 BK Branch Code"
      ]
    },
    {
      "cell_type": "code",
      "execution_count": 591,
      "metadata": {
        "id": "Oyy7R8LT98Uk"
      },
      "outputs": [],
      "source": [
        "missing_BK = missing_delivery_fee[missing_delivery_fee['branch_code'] == 'BK']"
      ]
    },
    {
      "cell_type": "code",
      "execution_count": 592,
      "metadata": {
        "colab": {
          "base_uri": "https://localhost:8080/",
          "height": 424
        },
        "id": "Rx2JXwui-Coc",
        "outputId": "67c4bb3a-2496-421f-fdfb-362bda8641ec"
      },
      "outputs": [
        {
          "output_type": "execute_result",
          "data": {
            "text/plain": [
              "     time_of_day  distance_to_customer_KM  weekend\n",
              "1              0                    7.132        1\n",
              "2              2                    5.771        1\n",
              "5              1                    8.202        0\n",
              "6              0                    6.614        1\n",
              "8              1                    9.896        1\n",
              "..           ...                      ...      ...\n",
              "488            1                    9.670        0\n",
              "490            1                    7.563        1\n",
              "492            0                    6.481        0\n",
              "494            0                    9.014        0\n",
              "496            1                    7.562        1\n",
              "\n",
              "[147 rows x 3 columns]"
            ],
            "text/html": [
              "\n",
              "  <div id=\"df-ab44ec16-a1fd-4da1-9bf9-830c41c4bea6\">\n",
              "    <div class=\"colab-df-container\">\n",
              "      <div>\n",
              "<style scoped>\n",
              "    .dataframe tbody tr th:only-of-type {\n",
              "        vertical-align: middle;\n",
              "    }\n",
              "\n",
              "    .dataframe tbody tr th {\n",
              "        vertical-align: top;\n",
              "    }\n",
              "\n",
              "    .dataframe thead th {\n",
              "        text-align: right;\n",
              "    }\n",
              "</style>\n",
              "<table border=\"1\" class=\"dataframe\">\n",
              "  <thead>\n",
              "    <tr style=\"text-align: right;\">\n",
              "      <th></th>\n",
              "      <th>time_of_day</th>\n",
              "      <th>distance_to_customer_KM</th>\n",
              "      <th>weekend</th>\n",
              "    </tr>\n",
              "  </thead>\n",
              "  <tbody>\n",
              "    <tr>\n",
              "      <th>1</th>\n",
              "      <td>0</td>\n",
              "      <td>7.132</td>\n",
              "      <td>1</td>\n",
              "    </tr>\n",
              "    <tr>\n",
              "      <th>2</th>\n",
              "      <td>2</td>\n",
              "      <td>5.771</td>\n",
              "      <td>1</td>\n",
              "    </tr>\n",
              "    <tr>\n",
              "      <th>5</th>\n",
              "      <td>1</td>\n",
              "      <td>8.202</td>\n",
              "      <td>0</td>\n",
              "    </tr>\n",
              "    <tr>\n",
              "      <th>6</th>\n",
              "      <td>0</td>\n",
              "      <td>6.614</td>\n",
              "      <td>1</td>\n",
              "    </tr>\n",
              "    <tr>\n",
              "      <th>8</th>\n",
              "      <td>1</td>\n",
              "      <td>9.896</td>\n",
              "      <td>1</td>\n",
              "    </tr>\n",
              "    <tr>\n",
              "      <th>...</th>\n",
              "      <td>...</td>\n",
              "      <td>...</td>\n",
              "      <td>...</td>\n",
              "    </tr>\n",
              "    <tr>\n",
              "      <th>488</th>\n",
              "      <td>1</td>\n",
              "      <td>9.670</td>\n",
              "      <td>0</td>\n",
              "    </tr>\n",
              "    <tr>\n",
              "      <th>490</th>\n",
              "      <td>1</td>\n",
              "      <td>7.563</td>\n",
              "      <td>1</td>\n",
              "    </tr>\n",
              "    <tr>\n",
              "      <th>492</th>\n",
              "      <td>0</td>\n",
              "      <td>6.481</td>\n",
              "      <td>0</td>\n",
              "    </tr>\n",
              "    <tr>\n",
              "      <th>494</th>\n",
              "      <td>0</td>\n",
              "      <td>9.014</td>\n",
              "      <td>0</td>\n",
              "    </tr>\n",
              "    <tr>\n",
              "      <th>496</th>\n",
              "      <td>1</td>\n",
              "      <td>7.562</td>\n",
              "      <td>1</td>\n",
              "    </tr>\n",
              "  </tbody>\n",
              "</table>\n",
              "<p>147 rows × 3 columns</p>\n",
              "</div>\n",
              "      <button class=\"colab-df-convert\" onclick=\"convertToInteractive('df-ab44ec16-a1fd-4da1-9bf9-830c41c4bea6')\"\n",
              "              title=\"Convert this dataframe to an interactive table.\"\n",
              "              style=\"display:none;\">\n",
              "        \n",
              "  <svg xmlns=\"http://www.w3.org/2000/svg\" height=\"24px\"viewBox=\"0 0 24 24\"\n",
              "       width=\"24px\">\n",
              "    <path d=\"M0 0h24v24H0V0z\" fill=\"none\"/>\n",
              "    <path d=\"M18.56 5.44l.94 2.06.94-2.06 2.06-.94-2.06-.94-.94-2.06-.94 2.06-2.06.94zm-11 1L8.5 8.5l.94-2.06 2.06-.94-2.06-.94L8.5 2.5l-.94 2.06-2.06.94zm10 10l.94 2.06.94-2.06 2.06-.94-2.06-.94-.94-2.06-.94 2.06-2.06.94z\"/><path d=\"M17.41 7.96l-1.37-1.37c-.4-.4-.92-.59-1.43-.59-.52 0-1.04.2-1.43.59L10.3 9.45l-7.72 7.72c-.78.78-.78 2.05 0 2.83L4 21.41c.39.39.9.59 1.41.59.51 0 1.02-.2 1.41-.59l7.78-7.78 2.81-2.81c.8-.78.8-2.07 0-2.86zM5.41 20L4 18.59l7.72-7.72 1.47 1.35L5.41 20z\"/>\n",
              "  </svg>\n",
              "      </button>\n",
              "      \n",
              "  <style>\n",
              "    .colab-df-container {\n",
              "      display:flex;\n",
              "      flex-wrap:wrap;\n",
              "      gap: 12px;\n",
              "    }\n",
              "\n",
              "    .colab-df-convert {\n",
              "      background-color: #E8F0FE;\n",
              "      border: none;\n",
              "      border-radius: 50%;\n",
              "      cursor: pointer;\n",
              "      display: none;\n",
              "      fill: #1967D2;\n",
              "      height: 32px;\n",
              "      padding: 0 0 0 0;\n",
              "      width: 32px;\n",
              "    }\n",
              "\n",
              "    .colab-df-convert:hover {\n",
              "      background-color: #E2EBFA;\n",
              "      box-shadow: 0px 1px 2px rgba(60, 64, 67, 0.3), 0px 1px 3px 1px rgba(60, 64, 67, 0.15);\n",
              "      fill: #174EA6;\n",
              "    }\n",
              "\n",
              "    [theme=dark] .colab-df-convert {\n",
              "      background-color: #3B4455;\n",
              "      fill: #D2E3FC;\n",
              "    }\n",
              "\n",
              "    [theme=dark] .colab-df-convert:hover {\n",
              "      background-color: #434B5C;\n",
              "      box-shadow: 0px 1px 3px 1px rgba(0, 0, 0, 0.15);\n",
              "      filter: drop-shadow(0px 1px 2px rgba(0, 0, 0, 0.3));\n",
              "      fill: #FFFFFF;\n",
              "    }\n",
              "  </style>\n",
              "\n",
              "      <script>\n",
              "        const buttonEl =\n",
              "          document.querySelector('#df-ab44ec16-a1fd-4da1-9bf9-830c41c4bea6 button.colab-df-convert');\n",
              "        buttonEl.style.display =\n",
              "          google.colab.kernel.accessAllowed ? 'block' : 'none';\n",
              "\n",
              "        async function convertToInteractive(key) {\n",
              "          const element = document.querySelector('#df-ab44ec16-a1fd-4da1-9bf9-830c41c4bea6');\n",
              "          const dataTable =\n",
              "            await google.colab.kernel.invokeFunction('convertToInteractive',\n",
              "                                                     [key], {});\n",
              "          if (!dataTable) return;\n",
              "\n",
              "          const docLinkHtml = 'Like what you see? Visit the ' +\n",
              "            '<a target=\"_blank\" href=https://colab.research.google.com/notebooks/data_table.ipynb>data table notebook</a>'\n",
              "            + ' to learn more about interactive tables.';\n",
              "          element.innerHTML = '';\n",
              "          dataTable['output_type'] = 'display_data';\n",
              "          await google.colab.output.renderOutput(dataTable, element);\n",
              "          const docLink = document.createElement('div');\n",
              "          docLink.innerHTML = docLinkHtml;\n",
              "          element.appendChild(docLink);\n",
              "        }\n",
              "      </script>\n",
              "    </div>\n",
              "  </div>\n",
              "  "
            ]
          },
          "metadata": {},
          "execution_count": 592
        }
      ],
      "source": [
        "# Make a dataframe without the null values\n",
        "missing_train_BK = missing_BK[missing_BK['delivery_fee'].notnull()]\n",
        "\n",
        "# Y: delivery fee is the target variable\n",
        "y = missing_train_BK['undiscounted_delivery_fee']\n",
        "\n",
        "# X: 3 independent variables\n",
        "x = missing_train_BK[['time_of_day', 'distance_to_customer_KM', 'weekend']]\n",
        "\n",
        "# Encode categorical data\n",
        "x = pd.get_dummies(x)\n",
        "x"
      ]
    },
    {
      "cell_type": "code",
      "execution_count": 593,
      "metadata": {
        "colab": {
          "base_uri": "https://localhost:8080/",
          "height": 635
        },
        "id": "dCFEU0RW-LVM",
        "outputId": "6d5ed687-b4d0-42c8-f386-f9c7d81f53f2"
      },
      "outputs": [
        {
          "output_type": "stream",
          "name": "stdout",
          "text": [
            "Training R2 0.9785029830702051\n",
            "Testing R2 0.9842416799297341\n",
            "(179, 17)\n"
          ]
        },
        {
          "output_type": "stream",
          "name": "stderr",
          "text": [
            "/usr/local/lib/python3.7/dist-packages/ipykernel_launcher.py:7: SettingWithCopyWarning: \n",
            "A value is trying to be set on a copy of a slice from a DataFrame.\n",
            "Try using .loc[row_indexer,col_indexer] = value instead\n",
            "\n",
            "See the caveats in the documentation: https://pandas.pydata.org/pandas-docs/stable/user_guide/indexing.html#returning-a-view-versus-a-copy\n",
            "  import sys\n"
          ]
        },
        {
          "output_type": "execute_result",
          "data": {
            "text/plain": [
              "    order_id       date      time order_type branch_code  \\\n",
              "1  ORDK04281 2021-04-18  11:32:57  Breakfast          BK   \n",
              "2  ORDX05801 2021-09-12  16:27:02     Dinner          BK   \n",
              "5  ORDX09853 2021-05-17  12:23:39      Lunch          BK   \n",
              "6  ORDX06581 2021-01-09  08:10:08  Breakfast          BK   \n",
              "8  ORDX00523 2021-05-30  12:54:05      Lunch          BK   \n",
              "\n",
              "                                         order_items  order_price  \\\n",
              "1     [('Cereal', 4), ('Coffee', 3), ('Pancake', 3)]       163.25   \n",
              "2  [('Shrimp', 5), ('Fish&Chips', 10), ('Salmon',...       839.00   \n",
              "5     [('Steak', 10), ('Chicken', 7), ('Salad', 10)]       846.00   \n",
              "6                     [('Cereal', 9), ('Coffee', 6)]       213.00   \n",
              "8  [('Salad', 5), ('Burger', 10), ('Chicken', 9),...      1035.00   \n",
              "\n",
              "   customer_lat  customer_lon  customerHasloyalty  distance_to_customer_KM  \\\n",
              "1    -37.820035    144.980254                   0                    7.132   \n",
              "2    -37.817093    144.988818                   0                    5.771   \n",
              "5    -37.803654    144.955463                   0                    8.202   \n",
              "6    -37.821138    144.983117                   1                    6.614   \n",
              "8    -37.804982    144.936597                   0                    9.896   \n",
              "\n",
              "   delivery_fee  day_of_week  weekend  time_of_day  undiscounted_delivery_fee  \\\n",
              "1     15.042097            6        1            0                  15.042097   \n",
              "2     14.724766            6        1            2                  14.724766   \n",
              "5     14.403394            0        0            1                  14.403394   \n",
              "6      7.013474            5        1            0                  14.026948   \n",
              "8     18.462907            6        1            1                  18.462907   \n",
              "\n",
              "   predict_delivery_fee  \n",
              "1             14.657225  \n",
              "2             15.072356  \n",
              "5             14.138002  \n",
              "6             14.113946  \n",
              "8             18.477386  "
            ],
            "text/html": [
              "\n",
              "  <div id=\"df-90c57771-ea90-4830-8264-7ccf11bf3a03\">\n",
              "    <div class=\"colab-df-container\">\n",
              "      <div>\n",
              "<style scoped>\n",
              "    .dataframe tbody tr th:only-of-type {\n",
              "        vertical-align: middle;\n",
              "    }\n",
              "\n",
              "    .dataframe tbody tr th {\n",
              "        vertical-align: top;\n",
              "    }\n",
              "\n",
              "    .dataframe thead th {\n",
              "        text-align: right;\n",
              "    }\n",
              "</style>\n",
              "<table border=\"1\" class=\"dataframe\">\n",
              "  <thead>\n",
              "    <tr style=\"text-align: right;\">\n",
              "      <th></th>\n",
              "      <th>order_id</th>\n",
              "      <th>date</th>\n",
              "      <th>time</th>\n",
              "      <th>order_type</th>\n",
              "      <th>branch_code</th>\n",
              "      <th>order_items</th>\n",
              "      <th>order_price</th>\n",
              "      <th>customer_lat</th>\n",
              "      <th>customer_lon</th>\n",
              "      <th>customerHasloyalty</th>\n",
              "      <th>distance_to_customer_KM</th>\n",
              "      <th>delivery_fee</th>\n",
              "      <th>day_of_week</th>\n",
              "      <th>weekend</th>\n",
              "      <th>time_of_day</th>\n",
              "      <th>undiscounted_delivery_fee</th>\n",
              "      <th>predict_delivery_fee</th>\n",
              "    </tr>\n",
              "  </thead>\n",
              "  <tbody>\n",
              "    <tr>\n",
              "      <th>1</th>\n",
              "      <td>ORDK04281</td>\n",
              "      <td>2021-04-18</td>\n",
              "      <td>11:32:57</td>\n",
              "      <td>Breakfast</td>\n",
              "      <td>BK</td>\n",
              "      <td>[('Cereal', 4), ('Coffee', 3), ('Pancake', 3)]</td>\n",
              "      <td>163.25</td>\n",
              "      <td>-37.820035</td>\n",
              "      <td>144.980254</td>\n",
              "      <td>0</td>\n",
              "      <td>7.132</td>\n",
              "      <td>15.042097</td>\n",
              "      <td>6</td>\n",
              "      <td>1</td>\n",
              "      <td>0</td>\n",
              "      <td>15.042097</td>\n",
              "      <td>14.657225</td>\n",
              "    </tr>\n",
              "    <tr>\n",
              "      <th>2</th>\n",
              "      <td>ORDX05801</td>\n",
              "      <td>2021-09-12</td>\n",
              "      <td>16:27:02</td>\n",
              "      <td>Dinner</td>\n",
              "      <td>BK</td>\n",
              "      <td>[('Shrimp', 5), ('Fish&amp;Chips', 10), ('Salmon',...</td>\n",
              "      <td>839.00</td>\n",
              "      <td>-37.817093</td>\n",
              "      <td>144.988818</td>\n",
              "      <td>0</td>\n",
              "      <td>5.771</td>\n",
              "      <td>14.724766</td>\n",
              "      <td>6</td>\n",
              "      <td>1</td>\n",
              "      <td>2</td>\n",
              "      <td>14.724766</td>\n",
              "      <td>15.072356</td>\n",
              "    </tr>\n",
              "    <tr>\n",
              "      <th>5</th>\n",
              "      <td>ORDX09853</td>\n",
              "      <td>2021-05-17</td>\n",
              "      <td>12:23:39</td>\n",
              "      <td>Lunch</td>\n",
              "      <td>BK</td>\n",
              "      <td>[('Steak', 10), ('Chicken', 7), ('Salad', 10)]</td>\n",
              "      <td>846.00</td>\n",
              "      <td>-37.803654</td>\n",
              "      <td>144.955463</td>\n",
              "      <td>0</td>\n",
              "      <td>8.202</td>\n",
              "      <td>14.403394</td>\n",
              "      <td>0</td>\n",
              "      <td>0</td>\n",
              "      <td>1</td>\n",
              "      <td>14.403394</td>\n",
              "      <td>14.138002</td>\n",
              "    </tr>\n",
              "    <tr>\n",
              "      <th>6</th>\n",
              "      <td>ORDX06581</td>\n",
              "      <td>2021-01-09</td>\n",
              "      <td>08:10:08</td>\n",
              "      <td>Breakfast</td>\n",
              "      <td>BK</td>\n",
              "      <td>[('Cereal', 9), ('Coffee', 6)]</td>\n",
              "      <td>213.00</td>\n",
              "      <td>-37.821138</td>\n",
              "      <td>144.983117</td>\n",
              "      <td>1</td>\n",
              "      <td>6.614</td>\n",
              "      <td>7.013474</td>\n",
              "      <td>5</td>\n",
              "      <td>1</td>\n",
              "      <td>0</td>\n",
              "      <td>14.026948</td>\n",
              "      <td>14.113946</td>\n",
              "    </tr>\n",
              "    <tr>\n",
              "      <th>8</th>\n",
              "      <td>ORDX00523</td>\n",
              "      <td>2021-05-30</td>\n",
              "      <td>12:54:05</td>\n",
              "      <td>Lunch</td>\n",
              "      <td>BK</td>\n",
              "      <td>[('Salad', 5), ('Burger', 10), ('Chicken', 9),...</td>\n",
              "      <td>1035.00</td>\n",
              "      <td>-37.804982</td>\n",
              "      <td>144.936597</td>\n",
              "      <td>0</td>\n",
              "      <td>9.896</td>\n",
              "      <td>18.462907</td>\n",
              "      <td>6</td>\n",
              "      <td>1</td>\n",
              "      <td>1</td>\n",
              "      <td>18.462907</td>\n",
              "      <td>18.477386</td>\n",
              "    </tr>\n",
              "  </tbody>\n",
              "</table>\n",
              "</div>\n",
              "      <button class=\"colab-df-convert\" onclick=\"convertToInteractive('df-90c57771-ea90-4830-8264-7ccf11bf3a03')\"\n",
              "              title=\"Convert this dataframe to an interactive table.\"\n",
              "              style=\"display:none;\">\n",
              "        \n",
              "  <svg xmlns=\"http://www.w3.org/2000/svg\" height=\"24px\"viewBox=\"0 0 24 24\"\n",
              "       width=\"24px\">\n",
              "    <path d=\"M0 0h24v24H0V0z\" fill=\"none\"/>\n",
              "    <path d=\"M18.56 5.44l.94 2.06.94-2.06 2.06-.94-2.06-.94-.94-2.06-.94 2.06-2.06.94zm-11 1L8.5 8.5l.94-2.06 2.06-.94-2.06-.94L8.5 2.5l-.94 2.06-2.06.94zm10 10l.94 2.06.94-2.06 2.06-.94-2.06-.94-.94-2.06-.94 2.06-2.06.94z\"/><path d=\"M17.41 7.96l-1.37-1.37c-.4-.4-.92-.59-1.43-.59-.52 0-1.04.2-1.43.59L10.3 9.45l-7.72 7.72c-.78.78-.78 2.05 0 2.83L4 21.41c.39.39.9.59 1.41.59.51 0 1.02-.2 1.41-.59l7.78-7.78 2.81-2.81c.8-.78.8-2.07 0-2.86zM5.41 20L4 18.59l7.72-7.72 1.47 1.35L5.41 20z\"/>\n",
              "  </svg>\n",
              "      </button>\n",
              "      \n",
              "  <style>\n",
              "    .colab-df-container {\n",
              "      display:flex;\n",
              "      flex-wrap:wrap;\n",
              "      gap: 12px;\n",
              "    }\n",
              "\n",
              "    .colab-df-convert {\n",
              "      background-color: #E8F0FE;\n",
              "      border: none;\n",
              "      border-radius: 50%;\n",
              "      cursor: pointer;\n",
              "      display: none;\n",
              "      fill: #1967D2;\n",
              "      height: 32px;\n",
              "      padding: 0 0 0 0;\n",
              "      width: 32px;\n",
              "    }\n",
              "\n",
              "    .colab-df-convert:hover {\n",
              "      background-color: #E2EBFA;\n",
              "      box-shadow: 0px 1px 2px rgba(60, 64, 67, 0.3), 0px 1px 3px 1px rgba(60, 64, 67, 0.15);\n",
              "      fill: #174EA6;\n",
              "    }\n",
              "\n",
              "    [theme=dark] .colab-df-convert {\n",
              "      background-color: #3B4455;\n",
              "      fill: #D2E3FC;\n",
              "    }\n",
              "\n",
              "    [theme=dark] .colab-df-convert:hover {\n",
              "      background-color: #434B5C;\n",
              "      box-shadow: 0px 1px 3px 1px rgba(0, 0, 0, 0.15);\n",
              "      filter: drop-shadow(0px 1px 2px rgba(0, 0, 0, 0.3));\n",
              "      fill: #FFFFFF;\n",
              "    }\n",
              "  </style>\n",
              "\n",
              "      <script>\n",
              "        const buttonEl =\n",
              "          document.querySelector('#df-90c57771-ea90-4830-8264-7ccf11bf3a03 button.colab-df-convert');\n",
              "        buttonEl.style.display =\n",
              "          google.colab.kernel.accessAllowed ? 'block' : 'none';\n",
              "\n",
              "        async function convertToInteractive(key) {\n",
              "          const element = document.querySelector('#df-90c57771-ea90-4830-8264-7ccf11bf3a03');\n",
              "          const dataTable =\n",
              "            await google.colab.kernel.invokeFunction('convertToInteractive',\n",
              "                                                     [key], {});\n",
              "          if (!dataTable) return;\n",
              "\n",
              "          const docLinkHtml = 'Like what you see? Visit the ' +\n",
              "            '<a target=\"_blank\" href=https://colab.research.google.com/notebooks/data_table.ipynb>data table notebook</a>'\n",
              "            + ' to learn more about interactive tables.';\n",
              "          element.innerHTML = '';\n",
              "          dataTable['output_type'] = 'display_data';\n",
              "          await google.colab.output.renderOutput(dataTable, element);\n",
              "          const docLink = document.createElement('div');\n",
              "          docLink.innerHTML = docLinkHtml;\n",
              "          element.appendChild(docLink);\n",
              "        }\n",
              "      </script>\n",
              "    </div>\n",
              "  </div>\n",
              "  "
            ]
          },
          "metadata": {},
          "execution_count": 593
        }
      ],
      "source": [
        "# delivery fee and the other variables\n",
        "linear_reg = linear_regression_model(x, y)\n",
        "predict_variables = missing_BK[['time_of_day', 'distance_to_customer_KM', 'weekend']]\n",
        "# predict new calculated delivery fee\n",
        "predict_delivery_fee = linear_prediction_model(linear_reg, predict_variables)\n",
        "# add the column to the dataframe\n",
        "missing_BK['predict_delivery_fee'] = predict_delivery_fee\n",
        "\n",
        "print(missing_BK.shape)\n",
        "missing_BK.head()"
      ]
    },
    {
      "cell_type": "code",
      "execution_count": 594,
      "metadata": {
        "colab": {
          "base_uri": "https://localhost:8080/"
        },
        "id": "QehOuEEj-XmE",
        "outputId": "122efcae-8ef8-44a2-d93b-e2dce8d645fd"
      },
      "outputs": [
        {
          "output_type": "stream",
          "name": "stdout",
          "text": [
            "(179, 17)\n"
          ]
        },
        {
          "output_type": "stream",
          "name": "stderr",
          "text": [
            "/usr/local/lib/python3.7/dist-packages/pandas/core/generic.py:6392: SettingWithCopyWarning: \n",
            "A value is trying to be set on a copy of a slice from a DataFrame\n",
            "\n",
            "See the caveats in the documentation: https://pandas.pydata.org/pandas-docs/stable/user_guide/indexing.html#returning-a-view-versus-a-copy\n",
            "  return self._update_inplace(result)\n"
          ]
        }
      ],
      "source": [
        "# replace NA values with the predicted values\n",
        "missing_BK['undiscounted_delivery_fee'].fillna(value = missing_BK['predict_delivery_fee'], inplace=True)\n",
        "\n",
        "print(missing_BK.shape)"
      ]
    },
    {
      "cell_type": "markdown",
      "metadata": {
        "id": "1bLmZ5YEBNw0"
      },
      "source": [
        "#### 2.2.4 Combine dataframes and apply loyalty"
      ]
    },
    {
      "cell_type": "markdown",
      "metadata": {
        "id": "8Ggj6Bdp-gPu"
      },
      "source": [
        "Now that we have imputed all our undiscounted delivery fee, we can join these dataframes back together"
      ]
    },
    {
      "cell_type": "code",
      "execution_count": 595,
      "metadata": {
        "id": "OiYf6qSp-24Z"
      },
      "outputs": [],
      "source": [
        "# Combine dataframes and reindex rows\n",
        "final = pd.concat([missing_TP, missing_BK, missing_NS], axis=0)\n",
        "final = final.sort_index(axis=0,ascending=True)"
      ]
    },
    {
      "cell_type": "markdown",
      "metadata": {
        "id": "09v4nC-Y2rJW"
      },
      "source": [
        "Now apply the discount if the customer has loyalty"
      ]
    },
    {
      "cell_type": "code",
      "execution_count": 596,
      "metadata": {
        "id": "j_PXwLyB2qbV"
      },
      "outputs": [],
      "source": [
        "# Apply the condition to get the final delivery fee\n",
        "\n",
        "conditions = [\n",
        "    (final['customerHasloyalty'] == int(1)),\n",
        "    (final['customerHasloyalty'] != int(1))\n",
        "    ]\n",
        "\n",
        "values = [(final['undiscounted_delivery_fee']/2), (final['undiscounted_delivery_fee'])]\n",
        "                                        \n",
        "final['new_delivery_fee'] = np.select(conditions, values)"
      ]
    },
    {
      "cell_type": "code",
      "execution_count": 597,
      "metadata": {
        "id": "aMuMaYPc3joD"
      },
      "outputs": [],
      "source": [
        "# Drop unnecessary columns\n",
        "final = final.drop(['delivery_fee', 'day_of_week', 'weekend', 'undiscounted_delivery_fee', 'predict_delivery_fee', 'time_of_day'], axis=1)"
      ]
    },
    {
      "cell_type": "code",
      "execution_count": 598,
      "metadata": {
        "id": "GnQRgvCc4H5p"
      },
      "outputs": [],
      "source": [
        "final.rename(columns={'new_delivery_fee':'delivery_fee'}, inplace=True)"
      ]
    },
    {
      "cell_type": "markdown",
      "metadata": {
        "id": "4y9LLCbI4mZD"
      },
      "source": [
        "### 2.3 Save the Missing Data Solution File"
      ]
    },
    {
      "cell_type": "markdown",
      "metadata": {
        "id": "_taW58zh4MXO"
      },
      "source": [
        "Save the output file to csv"
      ]
    },
    {
      "cell_type": "code",
      "execution_count": 599,
      "metadata": {
        "id": "JoEWEK_E4c_9"
      },
      "outputs": [],
      "source": [
        "# use to_csv() method\n",
        "final.to_csv(\"28746511_missing_data_solution.csv\", index = False)"
      ]
    },
    {
      "cell_type": "markdown",
      "metadata": {
        "id": "ukQIn-qO5__5"
      },
      "source": [
        "# Part 3. Looking at the Outlier File"
      ]
    },
    {
      "cell_type": "markdown",
      "metadata": {
        "id": "f3cL80M76iz4"
      },
      "source": [
        "In the outlier file, we are looking to detect outliers and remove all the outlier rows in the dataset. Once again we are assuming each of the rows are now error-free and the only issue in the dataset are outliers"
      ]
    },
    {
      "cell_type": "code",
      "execution_count": 600,
      "metadata": {
        "colab": {
          "base_uri": "https://localhost:8080/",
          "height": 861
        },
        "id": "LXoSPath6yEo",
        "outputId": "997eaecb-1bf2-4671-e570-9052b3a2f962"
      },
      "outputs": [
        {
          "output_type": "stream",
          "name": "stdout",
          "text": [
            "(500, 12)\n"
          ]
        },
        {
          "output_type": "execute_result",
          "data": {
            "text/plain": [
              "    order_id        date      time order_type branch_code  \\\n",
              "0  ORDZ03316  2021-01-21  08:40:33  Breakfast          NS   \n",
              "1  ORDY01629  2021-05-23  12:43:56      Lunch          TP   \n",
              "2  ORDX09323  2021-12-14  19:29:34     Dinner          BK   \n",
              "3  ORDI04623  2021-06-19  13:34:38      Lunch          NS   \n",
              "4  ORDC04856  2021-09-07  16:16:54     Dinner          NS   \n",
              "5  ORDY01768  2021-01-05  08:00:00  Breakfast          TP   \n",
              "6  ORDX09409  2021-06-20  13:34:38      Lunch          BK   \n",
              "7  ORDZ08502  2021-06-03  13:04:13      Lunch          NS   \n",
              "8  ORDB10961  2021-11-09  18:18:35     Dinner          TP   \n",
              "9  ORDX09723  2021-04-04  11:02:32  Breakfast          BK   \n",
              "\n",
              "                                         order_items  order_price  \\\n",
              "0                      [('Pancake', 2), ('Eggs', 8)]       212.50   \n",
              "1  [('Steak', 2), ('Burger', 1), ('Salad', 8), ('...       366.60   \n",
              "2                [('Salmon', 7), ('Fish&Chips', 10)]       637.00   \n",
              "3        [('Burger', 7), ('Salad', 7), ('Fries', 7)]       421.40   \n",
              "4   [('Pasta', 6), ('Fish&Chips', 6), ('Shrimp', 4)]       591.00   \n",
              "5     [('Pancake', 2), ('Cereal', 5), ('Coffee', 2)]       155.50   \n",
              "6  [('Salad', 1), ('Chicken', 9), ('Fries', 3), (...       791.20   \n",
              "7                     [('Steak', 4), ('Chicken', 1)]       212.00   \n",
              "8  [('Pasta', 7), ('Fish&Chips', 10), ('Salmon', ...       719.50   \n",
              "9  [('Coffee', 8), ('Pancake', 1), ('Cereal', 3),...       168.25   \n",
              "\n",
              "   customer_lat  customer_lon  customerHasloyalty?  distance_to_customer_KM  \\\n",
              "0    -37.799752    145.009384                    0                   10.020   \n",
              "1    -37.815340    144.940552                    0                   10.083   \n",
              "2    -37.814701    144.969144                    0                    7.277   \n",
              "3    -37.806452    144.959563                    0                    7.642   \n",
              "4    -37.825537    144.976460                    0                    9.429   \n",
              "5    -37.806842    144.954220                    1                    9.258   \n",
              "6    -37.804184    144.958548                    0                    7.914   \n",
              "7    -37.814317    144.935907                    0                   10.067   \n",
              "8    -37.803972    144.950015                    0                    9.989   \n",
              "9    -37.823320    144.935196                    0                   10.644   \n",
              "\n",
              "   delivery_fee  \n",
              "0     14.717922  \n",
              "1     14.446898  \n",
              "2     13.769445  \n",
              "3     14.825338  \n",
              "4     15.939789  \n",
              "5      6.256160  \n",
              "6     16.590822  \n",
              "7     15.891486  \n",
              "8     13.682100  \n",
              "9     18.058146  "
            ],
            "text/html": [
              "\n",
              "  <div id=\"df-22cf04e8-92df-4aea-b9a6-7893e5046235\">\n",
              "    <div class=\"colab-df-container\">\n",
              "      <div>\n",
              "<style scoped>\n",
              "    .dataframe tbody tr th:only-of-type {\n",
              "        vertical-align: middle;\n",
              "    }\n",
              "\n",
              "    .dataframe tbody tr th {\n",
              "        vertical-align: top;\n",
              "    }\n",
              "\n",
              "    .dataframe thead th {\n",
              "        text-align: right;\n",
              "    }\n",
              "</style>\n",
              "<table border=\"1\" class=\"dataframe\">\n",
              "  <thead>\n",
              "    <tr style=\"text-align: right;\">\n",
              "      <th></th>\n",
              "      <th>order_id</th>\n",
              "      <th>date</th>\n",
              "      <th>time</th>\n",
              "      <th>order_type</th>\n",
              "      <th>branch_code</th>\n",
              "      <th>order_items</th>\n",
              "      <th>order_price</th>\n",
              "      <th>customer_lat</th>\n",
              "      <th>customer_lon</th>\n",
              "      <th>customerHasloyalty?</th>\n",
              "      <th>distance_to_customer_KM</th>\n",
              "      <th>delivery_fee</th>\n",
              "    </tr>\n",
              "  </thead>\n",
              "  <tbody>\n",
              "    <tr>\n",
              "      <th>0</th>\n",
              "      <td>ORDZ03316</td>\n",
              "      <td>2021-01-21</td>\n",
              "      <td>08:40:33</td>\n",
              "      <td>Breakfast</td>\n",
              "      <td>NS</td>\n",
              "      <td>[('Pancake', 2), ('Eggs', 8)]</td>\n",
              "      <td>212.50</td>\n",
              "      <td>-37.799752</td>\n",
              "      <td>145.009384</td>\n",
              "      <td>0</td>\n",
              "      <td>10.020</td>\n",
              "      <td>14.717922</td>\n",
              "    </tr>\n",
              "    <tr>\n",
              "      <th>1</th>\n",
              "      <td>ORDY01629</td>\n",
              "      <td>2021-05-23</td>\n",
              "      <td>12:43:56</td>\n",
              "      <td>Lunch</td>\n",
              "      <td>TP</td>\n",
              "      <td>[('Steak', 2), ('Burger', 1), ('Salad', 8), ('...</td>\n",
              "      <td>366.60</td>\n",
              "      <td>-37.815340</td>\n",
              "      <td>144.940552</td>\n",
              "      <td>0</td>\n",
              "      <td>10.083</td>\n",
              "      <td>14.446898</td>\n",
              "    </tr>\n",
              "    <tr>\n",
              "      <th>2</th>\n",
              "      <td>ORDX09323</td>\n",
              "      <td>2021-12-14</td>\n",
              "      <td>19:29:34</td>\n",
              "      <td>Dinner</td>\n",
              "      <td>BK</td>\n",
              "      <td>[('Salmon', 7), ('Fish&amp;Chips', 10)]</td>\n",
              "      <td>637.00</td>\n",
              "      <td>-37.814701</td>\n",
              "      <td>144.969144</td>\n",
              "      <td>0</td>\n",
              "      <td>7.277</td>\n",
              "      <td>13.769445</td>\n",
              "    </tr>\n",
              "    <tr>\n",
              "      <th>3</th>\n",
              "      <td>ORDI04623</td>\n",
              "      <td>2021-06-19</td>\n",
              "      <td>13:34:38</td>\n",
              "      <td>Lunch</td>\n",
              "      <td>NS</td>\n",
              "      <td>[('Burger', 7), ('Salad', 7), ('Fries', 7)]</td>\n",
              "      <td>421.40</td>\n",
              "      <td>-37.806452</td>\n",
              "      <td>144.959563</td>\n",
              "      <td>0</td>\n",
              "      <td>7.642</td>\n",
              "      <td>14.825338</td>\n",
              "    </tr>\n",
              "    <tr>\n",
              "      <th>4</th>\n",
              "      <td>ORDC04856</td>\n",
              "      <td>2021-09-07</td>\n",
              "      <td>16:16:54</td>\n",
              "      <td>Dinner</td>\n",
              "      <td>NS</td>\n",
              "      <td>[('Pasta', 6), ('Fish&amp;Chips', 6), ('Shrimp', 4)]</td>\n",
              "      <td>591.00</td>\n",
              "      <td>-37.825537</td>\n",
              "      <td>144.976460</td>\n",
              "      <td>0</td>\n",
              "      <td>9.429</td>\n",
              "      <td>15.939789</td>\n",
              "    </tr>\n",
              "    <tr>\n",
              "      <th>5</th>\n",
              "      <td>ORDY01768</td>\n",
              "      <td>2021-01-05</td>\n",
              "      <td>08:00:00</td>\n",
              "      <td>Breakfast</td>\n",
              "      <td>TP</td>\n",
              "      <td>[('Pancake', 2), ('Cereal', 5), ('Coffee', 2)]</td>\n",
              "      <td>155.50</td>\n",
              "      <td>-37.806842</td>\n",
              "      <td>144.954220</td>\n",
              "      <td>1</td>\n",
              "      <td>9.258</td>\n",
              "      <td>6.256160</td>\n",
              "    </tr>\n",
              "    <tr>\n",
              "      <th>6</th>\n",
              "      <td>ORDX09409</td>\n",
              "      <td>2021-06-20</td>\n",
              "      <td>13:34:38</td>\n",
              "      <td>Lunch</td>\n",
              "      <td>BK</td>\n",
              "      <td>[('Salad', 1), ('Chicken', 9), ('Fries', 3), (...</td>\n",
              "      <td>791.20</td>\n",
              "      <td>-37.804184</td>\n",
              "      <td>144.958548</td>\n",
              "      <td>0</td>\n",
              "      <td>7.914</td>\n",
              "      <td>16.590822</td>\n",
              "    </tr>\n",
              "    <tr>\n",
              "      <th>7</th>\n",
              "      <td>ORDZ08502</td>\n",
              "      <td>2021-06-03</td>\n",
              "      <td>13:04:13</td>\n",
              "      <td>Lunch</td>\n",
              "      <td>NS</td>\n",
              "      <td>[('Steak', 4), ('Chicken', 1)]</td>\n",
              "      <td>212.00</td>\n",
              "      <td>-37.814317</td>\n",
              "      <td>144.935907</td>\n",
              "      <td>0</td>\n",
              "      <td>10.067</td>\n",
              "      <td>15.891486</td>\n",
              "    </tr>\n",
              "    <tr>\n",
              "      <th>8</th>\n",
              "      <td>ORDB10961</td>\n",
              "      <td>2021-11-09</td>\n",
              "      <td>18:18:35</td>\n",
              "      <td>Dinner</td>\n",
              "      <td>TP</td>\n",
              "      <td>[('Pasta', 7), ('Fish&amp;Chips', 10), ('Salmon', ...</td>\n",
              "      <td>719.50</td>\n",
              "      <td>-37.803972</td>\n",
              "      <td>144.950015</td>\n",
              "      <td>0</td>\n",
              "      <td>9.989</td>\n",
              "      <td>13.682100</td>\n",
              "    </tr>\n",
              "    <tr>\n",
              "      <th>9</th>\n",
              "      <td>ORDX09723</td>\n",
              "      <td>2021-04-04</td>\n",
              "      <td>11:02:32</td>\n",
              "      <td>Breakfast</td>\n",
              "      <td>BK</td>\n",
              "      <td>[('Coffee', 8), ('Pancake', 1), ('Cereal', 3),...</td>\n",
              "      <td>168.25</td>\n",
              "      <td>-37.823320</td>\n",
              "      <td>144.935196</td>\n",
              "      <td>0</td>\n",
              "      <td>10.644</td>\n",
              "      <td>18.058146</td>\n",
              "    </tr>\n",
              "  </tbody>\n",
              "</table>\n",
              "</div>\n",
              "      <button class=\"colab-df-convert\" onclick=\"convertToInteractive('df-22cf04e8-92df-4aea-b9a6-7893e5046235')\"\n",
              "              title=\"Convert this dataframe to an interactive table.\"\n",
              "              style=\"display:none;\">\n",
              "        \n",
              "  <svg xmlns=\"http://www.w3.org/2000/svg\" height=\"24px\"viewBox=\"0 0 24 24\"\n",
              "       width=\"24px\">\n",
              "    <path d=\"M0 0h24v24H0V0z\" fill=\"none\"/>\n",
              "    <path d=\"M18.56 5.44l.94 2.06.94-2.06 2.06-.94-2.06-.94-.94-2.06-.94 2.06-2.06.94zm-11 1L8.5 8.5l.94-2.06 2.06-.94-2.06-.94L8.5 2.5l-.94 2.06-2.06.94zm10 10l.94 2.06.94-2.06 2.06-.94-2.06-.94-.94-2.06-.94 2.06-2.06.94z\"/><path d=\"M17.41 7.96l-1.37-1.37c-.4-.4-.92-.59-1.43-.59-.52 0-1.04.2-1.43.59L10.3 9.45l-7.72 7.72c-.78.78-.78 2.05 0 2.83L4 21.41c.39.39.9.59 1.41.59.51 0 1.02-.2 1.41-.59l7.78-7.78 2.81-2.81c.8-.78.8-2.07 0-2.86zM5.41 20L4 18.59l7.72-7.72 1.47 1.35L5.41 20z\"/>\n",
              "  </svg>\n",
              "      </button>\n",
              "      \n",
              "  <style>\n",
              "    .colab-df-container {\n",
              "      display:flex;\n",
              "      flex-wrap:wrap;\n",
              "      gap: 12px;\n",
              "    }\n",
              "\n",
              "    .colab-df-convert {\n",
              "      background-color: #E8F0FE;\n",
              "      border: none;\n",
              "      border-radius: 50%;\n",
              "      cursor: pointer;\n",
              "      display: none;\n",
              "      fill: #1967D2;\n",
              "      height: 32px;\n",
              "      padding: 0 0 0 0;\n",
              "      width: 32px;\n",
              "    }\n",
              "\n",
              "    .colab-df-convert:hover {\n",
              "      background-color: #E2EBFA;\n",
              "      box-shadow: 0px 1px 2px rgba(60, 64, 67, 0.3), 0px 1px 3px 1px rgba(60, 64, 67, 0.15);\n",
              "      fill: #174EA6;\n",
              "    }\n",
              "\n",
              "    [theme=dark] .colab-df-convert {\n",
              "      background-color: #3B4455;\n",
              "      fill: #D2E3FC;\n",
              "    }\n",
              "\n",
              "    [theme=dark] .colab-df-convert:hover {\n",
              "      background-color: #434B5C;\n",
              "      box-shadow: 0px 1px 3px 1px rgba(0, 0, 0, 0.15);\n",
              "      filter: drop-shadow(0px 1px 2px rgba(0, 0, 0, 0.3));\n",
              "      fill: #FFFFFF;\n",
              "    }\n",
              "  </style>\n",
              "\n",
              "      <script>\n",
              "        const buttonEl =\n",
              "          document.querySelector('#df-22cf04e8-92df-4aea-b9a6-7893e5046235 button.colab-df-convert');\n",
              "        buttonEl.style.display =\n",
              "          google.colab.kernel.accessAllowed ? 'block' : 'none';\n",
              "\n",
              "        async function convertToInteractive(key) {\n",
              "          const element = document.querySelector('#df-22cf04e8-92df-4aea-b9a6-7893e5046235');\n",
              "          const dataTable =\n",
              "            await google.colab.kernel.invokeFunction('convertToInteractive',\n",
              "                                                     [key], {});\n",
              "          if (!dataTable) return;\n",
              "\n",
              "          const docLinkHtml = 'Like what you see? Visit the ' +\n",
              "            '<a target=\"_blank\" href=https://colab.research.google.com/notebooks/data_table.ipynb>data table notebook</a>'\n",
              "            + ' to learn more about interactive tables.';\n",
              "          element.innerHTML = '';\n",
              "          dataTable['output_type'] = 'display_data';\n",
              "          await google.colab.output.renderOutput(dataTable, element);\n",
              "          const docLink = document.createElement('div');\n",
              "          docLink.innerHTML = docLinkHtml;\n",
              "          element.appendChild(docLink);\n",
              "        }\n",
              "      </script>\n",
              "    </div>\n",
              "  </div>\n",
              "  "
            ]
          },
          "metadata": {},
          "execution_count": 600
        }
      ],
      "source": [
        "# Load the outlier file and take a look at the dataset\n",
        "\n",
        "outlier = pd.read_csv('/content/drive/Shareddrives/FIT5196-s2-2022/A2/input_data/28746511_outlier_data.csv')\n",
        "\n",
        "print(outlier.shape)\n",
        "\n",
        "outlier.head(10)"
      ]
    },
    {
      "cell_type": "code",
      "execution_count": 601,
      "metadata": {
        "colab": {
          "base_uri": "https://localhost:8080/"
        },
        "id": "TC4V66t16-SL",
        "outputId": "997c224e-ac14-4e8c-c8e9-c47a3a865c3e"
      },
      "outputs": [
        {
          "output_type": "stream",
          "name": "stdout",
          "text": [
            "<class 'pandas.core.frame.DataFrame'>\n",
            "RangeIndex: 500 entries, 0 to 499\n",
            "Data columns (total 12 columns):\n",
            " #   Column                   Non-Null Count  Dtype  \n",
            "---  ------                   --------------  -----  \n",
            " 0   order_id                 500 non-null    object \n",
            " 1   date                     500 non-null    object \n",
            " 2   time                     500 non-null    object \n",
            " 3   order_type               500 non-null    object \n",
            " 4   branch_code              500 non-null    object \n",
            " 5   order_items              500 non-null    object \n",
            " 6   order_price              500 non-null    float64\n",
            " 7   customer_lat             500 non-null    float64\n",
            " 8   customer_lon             500 non-null    float64\n",
            " 9   customerHasloyalty?      500 non-null    int64  \n",
            " 10  distance_to_customer_KM  500 non-null    float64\n",
            " 11  delivery_fee             500 non-null    float64\n",
            "dtypes: float64(5), int64(1), object(6)\n",
            "memory usage: 47.0+ KB\n"
          ]
        }
      ],
      "source": [
        "outlier.info()"
      ]
    },
    {
      "cell_type": "code",
      "execution_count": 602,
      "metadata": {
        "colab": {
          "base_uri": "https://localhost:8080/",
          "height": 300
        },
        "id": "jdxQCRIU7Ayw",
        "outputId": "8cc0b67f-377a-429d-ef6f-0b0b833675ff"
      },
      "outputs": [
        {
          "output_type": "execute_result",
          "data": {
            "text/plain": [
              "       order_price  customer_lat  customer_lon  customerHasloyalty?  \\\n",
              "count   500.000000    500.000000    500.000000           500.000000   \n",
              "mean    466.067700    -37.812617    144.966994             0.046000   \n",
              "std     256.845853      0.007597      0.020553             0.209695   \n",
              "min      43.000000    -37.835050    144.925964             0.000000   \n",
              "25%     275.562500    -37.818804    144.952887             0.000000   \n",
              "50%     414.300000    -37.812542    144.963896             0.000000   \n",
              "75%     639.500000    -37.806669    144.980923             0.000000   \n",
              "max    1397.000000    -37.792631    145.015418             1.000000   \n",
              "\n",
              "       distance_to_customer_KM  delivery_fee  \n",
              "count               500.000000    500.000000  \n",
              "mean                  8.758828     13.878765  \n",
              "std                   1.573661      3.166443  \n",
              "min                   3.698000      3.489699  \n",
              "25%                   7.834000     12.501062  \n",
              "50%                   8.804000     13.975781  \n",
              "75%                   9.802000     15.439272  \n",
              "max                  12.793000     27.634265  "
            ],
            "text/html": [
              "\n",
              "  <div id=\"df-11414d3e-04cd-4056-a2c6-d6c3657f3ad6\">\n",
              "    <div class=\"colab-df-container\">\n",
              "      <div>\n",
              "<style scoped>\n",
              "    .dataframe tbody tr th:only-of-type {\n",
              "        vertical-align: middle;\n",
              "    }\n",
              "\n",
              "    .dataframe tbody tr th {\n",
              "        vertical-align: top;\n",
              "    }\n",
              "\n",
              "    .dataframe thead th {\n",
              "        text-align: right;\n",
              "    }\n",
              "</style>\n",
              "<table border=\"1\" class=\"dataframe\">\n",
              "  <thead>\n",
              "    <tr style=\"text-align: right;\">\n",
              "      <th></th>\n",
              "      <th>order_price</th>\n",
              "      <th>customer_lat</th>\n",
              "      <th>customer_lon</th>\n",
              "      <th>customerHasloyalty?</th>\n",
              "      <th>distance_to_customer_KM</th>\n",
              "      <th>delivery_fee</th>\n",
              "    </tr>\n",
              "  </thead>\n",
              "  <tbody>\n",
              "    <tr>\n",
              "      <th>count</th>\n",
              "      <td>500.000000</td>\n",
              "      <td>500.000000</td>\n",
              "      <td>500.000000</td>\n",
              "      <td>500.000000</td>\n",
              "      <td>500.000000</td>\n",
              "      <td>500.000000</td>\n",
              "    </tr>\n",
              "    <tr>\n",
              "      <th>mean</th>\n",
              "      <td>466.067700</td>\n",
              "      <td>-37.812617</td>\n",
              "      <td>144.966994</td>\n",
              "      <td>0.046000</td>\n",
              "      <td>8.758828</td>\n",
              "      <td>13.878765</td>\n",
              "    </tr>\n",
              "    <tr>\n",
              "      <th>std</th>\n",
              "      <td>256.845853</td>\n",
              "      <td>0.007597</td>\n",
              "      <td>0.020553</td>\n",
              "      <td>0.209695</td>\n",
              "      <td>1.573661</td>\n",
              "      <td>3.166443</td>\n",
              "    </tr>\n",
              "    <tr>\n",
              "      <th>min</th>\n",
              "      <td>43.000000</td>\n",
              "      <td>-37.835050</td>\n",
              "      <td>144.925964</td>\n",
              "      <td>0.000000</td>\n",
              "      <td>3.698000</td>\n",
              "      <td>3.489699</td>\n",
              "    </tr>\n",
              "    <tr>\n",
              "      <th>25%</th>\n",
              "      <td>275.562500</td>\n",
              "      <td>-37.818804</td>\n",
              "      <td>144.952887</td>\n",
              "      <td>0.000000</td>\n",
              "      <td>7.834000</td>\n",
              "      <td>12.501062</td>\n",
              "    </tr>\n",
              "    <tr>\n",
              "      <th>50%</th>\n",
              "      <td>414.300000</td>\n",
              "      <td>-37.812542</td>\n",
              "      <td>144.963896</td>\n",
              "      <td>0.000000</td>\n",
              "      <td>8.804000</td>\n",
              "      <td>13.975781</td>\n",
              "    </tr>\n",
              "    <tr>\n",
              "      <th>75%</th>\n",
              "      <td>639.500000</td>\n",
              "      <td>-37.806669</td>\n",
              "      <td>144.980923</td>\n",
              "      <td>0.000000</td>\n",
              "      <td>9.802000</td>\n",
              "      <td>15.439272</td>\n",
              "    </tr>\n",
              "    <tr>\n",
              "      <th>max</th>\n",
              "      <td>1397.000000</td>\n",
              "      <td>-37.792631</td>\n",
              "      <td>145.015418</td>\n",
              "      <td>1.000000</td>\n",
              "      <td>12.793000</td>\n",
              "      <td>27.634265</td>\n",
              "    </tr>\n",
              "  </tbody>\n",
              "</table>\n",
              "</div>\n",
              "      <button class=\"colab-df-convert\" onclick=\"convertToInteractive('df-11414d3e-04cd-4056-a2c6-d6c3657f3ad6')\"\n",
              "              title=\"Convert this dataframe to an interactive table.\"\n",
              "              style=\"display:none;\">\n",
              "        \n",
              "  <svg xmlns=\"http://www.w3.org/2000/svg\" height=\"24px\"viewBox=\"0 0 24 24\"\n",
              "       width=\"24px\">\n",
              "    <path d=\"M0 0h24v24H0V0z\" fill=\"none\"/>\n",
              "    <path d=\"M18.56 5.44l.94 2.06.94-2.06 2.06-.94-2.06-.94-.94-2.06-.94 2.06-2.06.94zm-11 1L8.5 8.5l.94-2.06 2.06-.94-2.06-.94L8.5 2.5l-.94 2.06-2.06.94zm10 10l.94 2.06.94-2.06 2.06-.94-2.06-.94-.94-2.06-.94 2.06-2.06.94z\"/><path d=\"M17.41 7.96l-1.37-1.37c-.4-.4-.92-.59-1.43-.59-.52 0-1.04.2-1.43.59L10.3 9.45l-7.72 7.72c-.78.78-.78 2.05 0 2.83L4 21.41c.39.39.9.59 1.41.59.51 0 1.02-.2 1.41-.59l7.78-7.78 2.81-2.81c.8-.78.8-2.07 0-2.86zM5.41 20L4 18.59l7.72-7.72 1.47 1.35L5.41 20z\"/>\n",
              "  </svg>\n",
              "      </button>\n",
              "      \n",
              "  <style>\n",
              "    .colab-df-container {\n",
              "      display:flex;\n",
              "      flex-wrap:wrap;\n",
              "      gap: 12px;\n",
              "    }\n",
              "\n",
              "    .colab-df-convert {\n",
              "      background-color: #E8F0FE;\n",
              "      border: none;\n",
              "      border-radius: 50%;\n",
              "      cursor: pointer;\n",
              "      display: none;\n",
              "      fill: #1967D2;\n",
              "      height: 32px;\n",
              "      padding: 0 0 0 0;\n",
              "      width: 32px;\n",
              "    }\n",
              "\n",
              "    .colab-df-convert:hover {\n",
              "      background-color: #E2EBFA;\n",
              "      box-shadow: 0px 1px 2px rgba(60, 64, 67, 0.3), 0px 1px 3px 1px rgba(60, 64, 67, 0.15);\n",
              "      fill: #174EA6;\n",
              "    }\n",
              "\n",
              "    [theme=dark] .colab-df-convert {\n",
              "      background-color: #3B4455;\n",
              "      fill: #D2E3FC;\n",
              "    }\n",
              "\n",
              "    [theme=dark] .colab-df-convert:hover {\n",
              "      background-color: #434B5C;\n",
              "      box-shadow: 0px 1px 3px 1px rgba(0, 0, 0, 0.15);\n",
              "      filter: drop-shadow(0px 1px 2px rgba(0, 0, 0, 0.3));\n",
              "      fill: #FFFFFF;\n",
              "    }\n",
              "  </style>\n",
              "\n",
              "      <script>\n",
              "        const buttonEl =\n",
              "          document.querySelector('#df-11414d3e-04cd-4056-a2c6-d6c3657f3ad6 button.colab-df-convert');\n",
              "        buttonEl.style.display =\n",
              "          google.colab.kernel.accessAllowed ? 'block' : 'none';\n",
              "\n",
              "        async function convertToInteractive(key) {\n",
              "          const element = document.querySelector('#df-11414d3e-04cd-4056-a2c6-d6c3657f3ad6');\n",
              "          const dataTable =\n",
              "            await google.colab.kernel.invokeFunction('convertToInteractive',\n",
              "                                                     [key], {});\n",
              "          if (!dataTable) return;\n",
              "\n",
              "          const docLinkHtml = 'Like what you see? Visit the ' +\n",
              "            '<a target=\"_blank\" href=https://colab.research.google.com/notebooks/data_table.ipynb>data table notebook</a>'\n",
              "            + ' to learn more about interactive tables.';\n",
              "          element.innerHTML = '';\n",
              "          dataTable['output_type'] = 'display_data';\n",
              "          await google.colab.output.renderOutput(dataTable, element);\n",
              "          const docLink = document.createElement('div');\n",
              "          docLink.innerHTML = docLinkHtml;\n",
              "          element.appendChild(docLink);\n",
              "        }\n",
              "      </script>\n",
              "    </div>\n",
              "  </div>\n",
              "  "
            ]
          },
          "metadata": {},
          "execution_count": 602
        }
      ],
      "source": [
        "outlier.describe()"
      ]
    },
    {
      "cell_type": "code",
      "execution_count": 603,
      "metadata": {
        "colab": {
          "base_uri": "https://localhost:8080/",
          "height": 175
        },
        "id": "g0__L4na7Fa6",
        "outputId": "6d0133ca-f763-4ff8-ae4e-7f357fd92b22"
      },
      "outputs": [
        {
          "output_type": "execute_result",
          "data": {
            "text/plain": [
              "         order_id        date      time order_type branch_code  \\\n",
              "count         500         500       500        500         500   \n",
              "unique        500         279        72          3           3   \n",
              "top     ORDZ03316  2021-12-07  11:43:05  Breakfast          TP   \n",
              "freq            1           6        13        178         175   \n",
              "\n",
              "                               order_items  \n",
              "count                                  500  \n",
              "unique                                 497  \n",
              "top     [('Fish&Chips', 3), ('Salmon', 5)]  \n",
              "freq                                     2  "
            ],
            "text/html": [
              "\n",
              "  <div id=\"df-45dd6205-34f2-4f9c-b2f1-ad927e2a4c9b\">\n",
              "    <div class=\"colab-df-container\">\n",
              "      <div>\n",
              "<style scoped>\n",
              "    .dataframe tbody tr th:only-of-type {\n",
              "        vertical-align: middle;\n",
              "    }\n",
              "\n",
              "    .dataframe tbody tr th {\n",
              "        vertical-align: top;\n",
              "    }\n",
              "\n",
              "    .dataframe thead th {\n",
              "        text-align: right;\n",
              "    }\n",
              "</style>\n",
              "<table border=\"1\" class=\"dataframe\">\n",
              "  <thead>\n",
              "    <tr style=\"text-align: right;\">\n",
              "      <th></th>\n",
              "      <th>order_id</th>\n",
              "      <th>date</th>\n",
              "      <th>time</th>\n",
              "      <th>order_type</th>\n",
              "      <th>branch_code</th>\n",
              "      <th>order_items</th>\n",
              "    </tr>\n",
              "  </thead>\n",
              "  <tbody>\n",
              "    <tr>\n",
              "      <th>count</th>\n",
              "      <td>500</td>\n",
              "      <td>500</td>\n",
              "      <td>500</td>\n",
              "      <td>500</td>\n",
              "      <td>500</td>\n",
              "      <td>500</td>\n",
              "    </tr>\n",
              "    <tr>\n",
              "      <th>unique</th>\n",
              "      <td>500</td>\n",
              "      <td>279</td>\n",
              "      <td>72</td>\n",
              "      <td>3</td>\n",
              "      <td>3</td>\n",
              "      <td>497</td>\n",
              "    </tr>\n",
              "    <tr>\n",
              "      <th>top</th>\n",
              "      <td>ORDZ03316</td>\n",
              "      <td>2021-12-07</td>\n",
              "      <td>11:43:05</td>\n",
              "      <td>Breakfast</td>\n",
              "      <td>TP</td>\n",
              "      <td>[('Fish&amp;Chips', 3), ('Salmon', 5)]</td>\n",
              "    </tr>\n",
              "    <tr>\n",
              "      <th>freq</th>\n",
              "      <td>1</td>\n",
              "      <td>6</td>\n",
              "      <td>13</td>\n",
              "      <td>178</td>\n",
              "      <td>175</td>\n",
              "      <td>2</td>\n",
              "    </tr>\n",
              "  </tbody>\n",
              "</table>\n",
              "</div>\n",
              "      <button class=\"colab-df-convert\" onclick=\"convertToInteractive('df-45dd6205-34f2-4f9c-b2f1-ad927e2a4c9b')\"\n",
              "              title=\"Convert this dataframe to an interactive table.\"\n",
              "              style=\"display:none;\">\n",
              "        \n",
              "  <svg xmlns=\"http://www.w3.org/2000/svg\" height=\"24px\"viewBox=\"0 0 24 24\"\n",
              "       width=\"24px\">\n",
              "    <path d=\"M0 0h24v24H0V0z\" fill=\"none\"/>\n",
              "    <path d=\"M18.56 5.44l.94 2.06.94-2.06 2.06-.94-2.06-.94-.94-2.06-.94 2.06-2.06.94zm-11 1L8.5 8.5l.94-2.06 2.06-.94-2.06-.94L8.5 2.5l-.94 2.06-2.06.94zm10 10l.94 2.06.94-2.06 2.06-.94-2.06-.94-.94-2.06-.94 2.06-2.06.94z\"/><path d=\"M17.41 7.96l-1.37-1.37c-.4-.4-.92-.59-1.43-.59-.52 0-1.04.2-1.43.59L10.3 9.45l-7.72 7.72c-.78.78-.78 2.05 0 2.83L4 21.41c.39.39.9.59 1.41.59.51 0 1.02-.2 1.41-.59l7.78-7.78 2.81-2.81c.8-.78.8-2.07 0-2.86zM5.41 20L4 18.59l7.72-7.72 1.47 1.35L5.41 20z\"/>\n",
              "  </svg>\n",
              "      </button>\n",
              "      \n",
              "  <style>\n",
              "    .colab-df-container {\n",
              "      display:flex;\n",
              "      flex-wrap:wrap;\n",
              "      gap: 12px;\n",
              "    }\n",
              "\n",
              "    .colab-df-convert {\n",
              "      background-color: #E8F0FE;\n",
              "      border: none;\n",
              "      border-radius: 50%;\n",
              "      cursor: pointer;\n",
              "      display: none;\n",
              "      fill: #1967D2;\n",
              "      height: 32px;\n",
              "      padding: 0 0 0 0;\n",
              "      width: 32px;\n",
              "    }\n",
              "\n",
              "    .colab-df-convert:hover {\n",
              "      background-color: #E2EBFA;\n",
              "      box-shadow: 0px 1px 2px rgba(60, 64, 67, 0.3), 0px 1px 3px 1px rgba(60, 64, 67, 0.15);\n",
              "      fill: #174EA6;\n",
              "    }\n",
              "\n",
              "    [theme=dark] .colab-df-convert {\n",
              "      background-color: #3B4455;\n",
              "      fill: #D2E3FC;\n",
              "    }\n",
              "\n",
              "    [theme=dark] .colab-df-convert:hover {\n",
              "      background-color: #434B5C;\n",
              "      box-shadow: 0px 1px 3px 1px rgba(0, 0, 0, 0.15);\n",
              "      filter: drop-shadow(0px 1px 2px rgba(0, 0, 0, 0.3));\n",
              "      fill: #FFFFFF;\n",
              "    }\n",
              "  </style>\n",
              "\n",
              "      <script>\n",
              "        const buttonEl =\n",
              "          document.querySelector('#df-45dd6205-34f2-4f9c-b2f1-ad927e2a4c9b button.colab-df-convert');\n",
              "        buttonEl.style.display =\n",
              "          google.colab.kernel.accessAllowed ? 'block' : 'none';\n",
              "\n",
              "        async function convertToInteractive(key) {\n",
              "          const element = document.querySelector('#df-45dd6205-34f2-4f9c-b2f1-ad927e2a4c9b');\n",
              "          const dataTable =\n",
              "            await google.colab.kernel.invokeFunction('convertToInteractive',\n",
              "                                                     [key], {});\n",
              "          if (!dataTable) return;\n",
              "\n",
              "          const docLinkHtml = 'Like what you see? Visit the ' +\n",
              "            '<a target=\"_blank\" href=https://colab.research.google.com/notebooks/data_table.ipynb>data table notebook</a>'\n",
              "            + ' to learn more about interactive tables.';\n",
              "          element.innerHTML = '';\n",
              "          dataTable['output_type'] = 'display_data';\n",
              "          await google.colab.output.renderOutput(dataTable, element);\n",
              "          const docLink = document.createElement('div');\n",
              "          docLink.innerHTML = docLinkHtml;\n",
              "          element.appendChild(docLink);\n",
              "        }\n",
              "      </script>\n",
              "    </div>\n",
              "  </div>\n",
              "  "
            ]
          },
          "metadata": {},
          "execution_count": 603
        }
      ],
      "source": [
        "outlier.describe(include=['O'])"
      ]
    },
    {
      "cell_type": "markdown",
      "source": [
        "### 3.1 EDA"
      ],
      "metadata": {
        "id": "nXZLQwHevBnc"
      }
    },
    {
      "cell_type": "code",
      "execution_count": 604,
      "metadata": {
        "colab": {
          "base_uri": "https://localhost:8080/",
          "height": 266
        },
        "id": "8s6m_Yf8saZ1",
        "outputId": "6fea1efb-625f-467a-8e4e-77a6c9b6cc16"
      },
      "outputs": [
        {
          "output_type": "display_data",
          "data": {
            "text/plain": [
              "<Figure size 432x288 with 1 Axes>"
            ],
            "image/png": "[encoded data removed]"
          },
          "metadata": {
            "needs_background": "light"
          }
        }
      ],
      "source": [
        "# Lets take a look at all our variables using boxplots \n",
        "\n",
        "import matplotlib.pyplot as plt\n",
        "%matplotlib inline\n",
        "\n",
        "bp = outlier.boxplot()"
      ]
    },
    {
      "cell_type": "markdown",
      "metadata": {
        "id": "6zeAjAC3se2a"
      },
      "source": [
        "We can see that there are only outliers in the order_price, distance_to_customer_KM and delivery_fee variables. So we can have a look at each of these boxplots individually before taking any other steps"
      ]
    },
    {
      "cell_type": "code",
      "execution_count": 605,
      "metadata": {
        "colab": {
          "base_uri": "https://localhost:8080/",
          "height": 266
        },
        "id": "q_gIZYAjtBYa",
        "outputId": "894719df-d15f-4858-ae7c-20bae988087a"
      },
      "outputs": [
        {
          "output_type": "display_data",
          "data": {
            "text/plain": [
              "<Figure size 432x288 with 1 Axes>"
            ],
            "image/png": "[encoded data removed]"
          },
          "metadata": {
            "needs_background": "light"
          }
        }
      ],
      "source": [
        "# Boxplot for price\n",
        "\n",
        "bp = outlier.boxplot(column = 'order_price')"
      ]
    },
    {
      "cell_type": "code",
      "execution_count": 606,
      "metadata": {
        "colab": {
          "base_uri": "https://localhost:8080/",
          "height": 266
        },
        "id": "rnkXf9wQtGJM",
        "outputId": "fab759e2-1de7-4168-cbb8-cc56f87775ac"
      },
      "outputs": [
        {
          "output_type": "display_data",
          "data": {
            "text/plain": [
              "<Figure size 432x288 with 1 Axes>"
            ],
            "image/png": "[encoded data removed]"
          },
          "metadata": {
            "needs_background": "light"
          }
        }
      ],
      "source": [
        "# Boxplot for distance_to_customer_KM\n",
        "\n",
        "bp = outlier.boxplot(column = 'distance_to_customer_KM')"
      ]
    },
    {
      "cell_type": "code",
      "execution_count": 607,
      "metadata": {
        "colab": {
          "base_uri": "https://localhost:8080/",
          "height": 266
        },
        "id": "PJC-efihtWmt",
        "outputId": "ec909235-b929-48ac-a45c-4e5ee9920d34"
      },
      "outputs": [
        {
          "output_type": "display_data",
          "data": {
            "text/plain": [
              "<Figure size 432x288 with 1 Axes>"
            ],
            "image/png": "[encoded data removed]"
          },
          "metadata": {
            "needs_background": "light"
          }
        }
      ],
      "source": [
        "# Boxplot for delivery_fee\n",
        "\n",
        "bp = outlier.boxplot(column = 'delivery_fee')"
      ]
    },
    {
      "cell_type": "markdown",
      "metadata": {
        "id": "Zz5QAhkKxIST"
      },
      "source": [
        "We can see that delivery fee looks to contain the most amount of outliers, so we can attempt to amend this issue and see if it reduces the outliers from the other two variables\n",
        "\n",
        "Thus, we can now take a deeper dive into the delivery_fee variable"
      ]
    },
    {
      "cell_type": "code",
      "execution_count": 608,
      "metadata": {
        "colab": {
          "base_uri": "https://localhost:8080/",
          "height": 357
        },
        "id": "lv7q-mRvtfQ0",
        "outputId": "6382d497-6bdb-4761-a61b-687fca9b69ea"
      },
      "outputs": [
        {
          "output_type": "stream",
          "name": "stderr",
          "text": [
            "/usr/local/lib/python3.7/dist-packages/matplotlib/cbook/__init__.py:1376: VisibleDeprecationWarning: Creating an ndarray from ragged nested sequences (which is a list-or-tuple of lists-or-tuples-or ndarrays with different lengths or shapes) is deprecated. If you meant to do this, you must specify 'dtype=object' when creating the ndarray.\n",
            "  X = np.atleast_1d(X.T if isinstance(X, np.ndarray) else np.asarray(X))\n"
          ]
        },
        {
          "output_type": "display_data",
          "data": {
            "text/plain": [
              "<Figure size 432x288 with 1 Axes>"
            ],
            "image/png": "[encoded data removed]"
          },
          "metadata": {
            "needs_background": "light"
          }
        }
      ],
      "source": [
        "# Determining delivery_fee by the order_type\n",
        "\n",
        "bp2 = outlier.boxplot(column = 'delivery_fee', by = 'order_type')"
      ]
    },
    {
      "cell_type": "code",
      "execution_count": 609,
      "metadata": {
        "colab": {
          "base_uri": "https://localhost:8080/",
          "height": 356
        },
        "id": "a6bbRB9KyD11",
        "outputId": "fdb0927f-efc6-4cbd-9b79-9f8325d1a087"
      },
      "outputs": [
        {
          "output_type": "stream",
          "name": "stderr",
          "text": [
            "/usr/local/lib/python3.7/dist-packages/matplotlib/cbook/__init__.py:1376: VisibleDeprecationWarning: Creating an ndarray from ragged nested sequences (which is a list-or-tuple of lists-or-tuples-or ndarrays with different lengths or shapes) is deprecated. If you meant to do this, you must specify 'dtype=object' when creating the ndarray.\n",
            "  X = np.atleast_1d(X.T if isinstance(X, np.ndarray) else np.asarray(X))\n"
          ]
        },
        {
          "output_type": "display_data",
          "data": {
            "text/plain": [
              "<Figure size 432x288 with 1 Axes>"
            ],
            "image/png": "[encoded data removed]"
          },
          "metadata": {
            "needs_background": "light"
          }
        }
      ],
      "source": [
        "# Determining delivery_fee by customerHasloyalty? \n",
        "\n",
        "bp2 = outlier.boxplot(column = 'delivery_fee', by = 'customerHasloyalty?')"
      ]
    },
    {
      "cell_type": "markdown",
      "metadata": {
        "id": "RIz9nRV1HrNb"
      },
      "source": [
        "Now that we have had a look at some of the outliers, we can now go about removing them. We can join the previous dataset to this one, re-train the model to get a predicted delivery_fee, look at the residuals and apply the 1.5 IQR rule to remove the outliers from our outlier dataset"
      ]
    },
    {
      "cell_type": "markdown",
      "source": [
        "### 3.2 Combine Datasets and Data Preparation"
      ],
      "metadata": {
        "id": "vlIwTn9cvEY9"
      }
    },
    {
      "cell_type": "markdown",
      "source": [
        "We want to prepare the data for the regression model we are going to  apply on it\n",
        "\n",
        "We want to add a weekend column to the dataset"
      ],
      "metadata": {
        "id": "Y1n4ftYpociG"
      }
    },
    {
      "cell_type": "code",
      "execution_count": 610,
      "metadata": {
        "id": "cRUDjuncShQl"
      },
      "outputs": [],
      "source": [
        "# Rename column as the ? character can cause issues\n",
        "outlier.rename(columns={'customerHasloyalty?':'customerHasloyalty'}, inplace=True)"
      ]
    },
    {
      "cell_type": "code",
      "source": [
        "# Change the date datatype to datetime\n",
        "outlier['date'] = outlier['date'].apply(lambda date: pd.Series({'date': datetime.strptime(date, '%Y-%m-%d')}))"
      ],
      "metadata": {
        "id": "-6CCHQAIsjcR"
      },
      "execution_count": 611,
      "outputs": []
    },
    {
      "cell_type": "markdown",
      "source": [
        "Combine the outlier dataset with the missing dataset, so we can run the regression model on even more data as to train the model better"
      ],
      "metadata": {
        "id": "kjxJZJPMpZah"
      }
    },
    {
      "cell_type": "code",
      "execution_count": 612,
      "metadata": {
        "id": "_TxaKskbyQ6H"
      },
      "outputs": [],
      "source": [
        "# Combine the missing dataframe with the outlier one\n",
        "outlier2 = pd.concat([outlier, final], axis=0)"
      ]
    },
    {
      "cell_type": "code",
      "execution_count": 613,
      "metadata": {
        "id": "TyHLsi8HSHQ6"
      },
      "outputs": [],
      "source": [
        "# Reset the index\n",
        "outlier2 = outlier2.reset_index(drop=True)"
      ]
    },
    {
      "cell_type": "code",
      "execution_count": 614,
      "metadata": {
        "id": "NTRoCmZXO0Wc"
      },
      "outputs": [],
      "source": [
        "# Add the day of the week based on the date\n",
        "outlier2 = outlier2.assign(day_of_week=outlier2.date.dt.weekday)"
      ]
    },
    {
      "cell_type": "code",
      "execution_count": 615,
      "metadata": {
        "id": "2MtNlbCXO9bb"
      },
      "outputs": [],
      "source": [
        "# Add the weekend column \n",
        "outlier2['weekend'] = outlier2.apply(lambda x: 1 if x['day_of_week'] == 5 \n",
        "                                                 or x['day_of_week'] == 6 else 0, axis=1)"
      ]
    },
    {
      "cell_type": "markdown",
      "source": [
        "Now we can add the time of day, which is also needed for the regression model"
      ],
      "metadata": {
        "id": "khMHCYneo8qE"
      }
    },
    {
      "cell_type": "code",
      "execution_count": 616,
      "metadata": {
        "id": "zACX1DkLRvbf"
      },
      "outputs": [],
      "source": [
        "# Add the time of day based on the conditions\n",
        "\n",
        "conditions = [\n",
        "    (outlier2['time'] < '12:00:01'),\n",
        "    (outlier2['time'] >= '12:00:01') & (outlier2['time'] < '16:00:01'),\n",
        "    (outlier2['time'] >= '16:00:01') & (outlier2['time'] < '20:00:01')\n",
        "]\n",
        "\n",
        "values = [0, 1, 2]\n",
        "\n",
        "outlier2['time_of_day'] = np.select(conditions, values)"
      ]
    },
    {
      "cell_type": "markdown",
      "source": [
        "We want to apply our regression model on the undiscounted delivery fee, so we can multiply the delivery fee by 2 if the customer is apart of the loyalty program"
      ],
      "metadata": {
        "id": "kCxYSE45pFmw"
      }
    },
    {
      "cell_type": "code",
      "execution_count": 617,
      "metadata": {
        "id": "93_vm69ETcok"
      },
      "outputs": [],
      "source": [
        "# Add the undiscounted delivery fee based on the customerHasloyalty column\n",
        "\n",
        "conditions = [\n",
        "    (outlier2['customerHasloyalty'] == int(1)),\n",
        "    (outlier2['customerHasloyalty'] != int(1))\n",
        "    ]\n",
        "\n",
        "values = [2*(outlier2['delivery_fee']), (outlier2['delivery_fee'])]\n",
        "                                        \n",
        "outlier2['undiscounted_delivery_fee'] = np.select(conditions, values)"
      ]
    },
    {
      "cell_type": "markdown",
      "source": [
        "### 3.3 Run Linear Regression on Combined Dataset for each branch"
      ],
      "metadata": {
        "id": "oMFDxUwQyDMs"
      }
    },
    {
      "cell_type": "markdown",
      "source": [
        "As each branch has a different way to calculate the delivery fee, we can do each branch individually, remove the outliers from each of the individual branch datasets, then combine the overall results"
      ],
      "metadata": {
        "id": "Wn5XFk-tpml5"
      }
    },
    {
      "cell_type": "markdown",
      "source": [
        "We can do similar regression models as we have done recently in the other datasets and use the same functions to build, train and make predicitons"
      ],
      "metadata": {
        "id": "zO66WOTCqDbx"
      }
    },
    {
      "cell_type": "code",
      "source": [
        "outlier_TP = outlier2[outlier2['branch_code'] == 'TP']"
      ],
      "metadata": {
        "id": "dNGrfYiB7VJI"
      },
      "execution_count": 618,
      "outputs": []
    },
    {
      "cell_type": "code",
      "source": [
        "# Y: delivery fee is the target variable\n",
        "y = outlier_TP['undiscounted_delivery_fee']\n",
        "\n",
        "#X: 3 independent variables\n",
        "x = outlier_TP[['time_of_day', 'distance_to_customer_KM', 'weekend']]\n",
        "\n",
        "# Encode categorical data\n",
        "x = pd.get_dummies(x)\n",
        "x"
      ],
      "metadata": {
        "colab": {
          "base_uri": "https://localhost:8080/",
          "height": 424
        },
        "id": "O8mRunkjvWyW",
        "outputId": "750a4fc5-1467-497a-b924-acfbce93a47e"
      },
      "execution_count": 619,
      "outputs": [
        {
          "output_type": "execute_result",
          "data": {
            "text/plain": [
              "     time_of_day  distance_to_customer_KM  weekend\n",
              "1              1                   10.083        1\n",
              "5              0                    9.258        0\n",
              "8              2                    9.989        0\n",
              "15             0                   11.396        0\n",
              "20             1                    9.857        1\n",
              "..           ...                      ...      ...\n",
              "984            2                   10.044        0\n",
              "989            0                   11.346        1\n",
              "991            2                    9.401        0\n",
              "995            2                   11.578        1\n",
              "999            1                    8.219        0\n",
              "\n",
              "[341 rows x 3 columns]"
            ],
            "text/html": [
              "\n",
              "  <div id=\"df-9e059f90-a397-46b6-81e1-d2d1656fd194\">\n",
              "    <div class=\"colab-df-container\">\n",
              "      <div>\n",
              "<style scoped>\n",
              "    .dataframe tbody tr th:only-of-type {\n",
              "        vertical-align: middle;\n",
              "    }\n",
              "\n",
              "    .dataframe tbody tr th {\n",
              "        vertical-align: top;\n",
              "    }\n",
              "\n",
              "    .dataframe thead th {\n",
              "        text-align: right;\n",
              "    }\n",
              "</style>\n",
              "<table border=\"1\" class=\"dataframe\">\n",
              "  <thead>\n",
              "    <tr style=\"text-align: right;\">\n",
              "      <th></th>\n",
              "      <th>time_of_day</th>\n",
              "      <th>distance_to_customer_KM</th>\n",
              "      <th>weekend</th>\n",
              "    </tr>\n",
              "  </thead>\n",
              "  <tbody>\n",
              "    <tr>\n",
              "      <th>1</th>\n",
              "      <td>1</td>\n",
              "      <td>10.083</td>\n",
              "      <td>1</td>\n",
              "    </tr>\n",
              "    <tr>\n",
              "      <th>5</th>\n",
              "      <td>0</td>\n",
              "      <td>9.258</td>\n",
              "      <td>0</td>\n",
              "    </tr>\n",
              "    <tr>\n",
              "      <th>8</th>\n",
              "      <td>2</td>\n",
              "      <td>9.989</td>\n",
              "      <td>0</td>\n",
              "    </tr>\n",
              "    <tr>\n",
              "      <th>15</th>\n",
              "      <td>0</td>\n",
              "      <td>11.396</td>\n",
              "      <td>0</td>\n",
              "    </tr>\n",
              "    <tr>\n",
              "      <th>20</th>\n",
              "      <td>1</td>\n",
              "      <td>9.857</td>\n",
              "      <td>1</td>\n",
              "    </tr>\n",
              "    <tr>\n",
              "      <th>...</th>\n",
              "      <td>...</td>\n",
              "      <td>...</td>\n",
              "      <td>...</td>\n",
              "    </tr>\n",
              "    <tr>\n",
              "      <th>984</th>\n",
              "      <td>2</td>\n",
              "      <td>10.044</td>\n",
              "      <td>0</td>\n",
              "    </tr>\n",
              "    <tr>\n",
              "      <th>989</th>\n",
              "      <td>0</td>\n",
              "      <td>11.346</td>\n",
              "      <td>1</td>\n",
              "    </tr>\n",
              "    <tr>\n",
              "      <th>991</th>\n",
              "      <td>2</td>\n",
              "      <td>9.401</td>\n",
              "      <td>0</td>\n",
              "    </tr>\n",
              "    <tr>\n",
              "      <th>995</th>\n",
              "      <td>2</td>\n",
              "      <td>11.578</td>\n",
              "      <td>1</td>\n",
              "    </tr>\n",
              "    <tr>\n",
              "      <th>999</th>\n",
              "      <td>1</td>\n",
              "      <td>8.219</td>\n",
              "      <td>0</td>\n",
              "    </tr>\n",
              "  </tbody>\n",
              "</table>\n",
              "<p>341 rows × 3 columns</p>\n",
              "</div>\n",
              "      <button class=\"colab-df-convert\" onclick=\"convertToInteractive('df-9e059f90-a397-46b6-81e1-d2d1656fd194')\"\n",
              "              title=\"Convert this dataframe to an interactive table.\"\n",
              "              style=\"display:none;\">\n",
              "        \n",
              "  <svg xmlns=\"http://www.w3.org/2000/svg\" height=\"24px\"viewBox=\"0 0 24 24\"\n",
              "       width=\"24px\">\n",
              "    <path d=\"M0 0h24v24H0V0z\" fill=\"none\"/>\n",
              "    <path d=\"M18.56 5.44l.94 2.06.94-2.06 2.06-.94-2.06-.94-.94-2.06-.94 2.06-2.06.94zm-11 1L8.5 8.5l.94-2.06 2.06-.94-2.06-.94L8.5 2.5l-.94 2.06-2.06.94zm10 10l.94 2.06.94-2.06 2.06-.94-2.06-.94-.94-2.06-.94 2.06-2.06.94z\"/><path d=\"M17.41 7.96l-1.37-1.37c-.4-.4-.92-.59-1.43-.59-.52 0-1.04.2-1.43.59L10.3 9.45l-7.72 7.72c-.78.78-.78 2.05 0 2.83L4 21.41c.39.39.9.59 1.41.59.51 0 1.02-.2 1.41-.59l7.78-7.78 2.81-2.81c.8-.78.8-2.07 0-2.86zM5.41 20L4 18.59l7.72-7.72 1.47 1.35L5.41 20z\"/>\n",
              "  </svg>\n",
              "      </button>\n",
              "      \n",
              "  <style>\n",
              "    .colab-df-container {\n",
              "      display:flex;\n",
              "      flex-wrap:wrap;\n",
              "      gap: 12px;\n",
              "    }\n",
              "\n",
              "    .colab-df-convert {\n",
              "      background-color: #E8F0FE;\n",
              "      border: none;\n",
              "      border-radius: 50%;\n",
              "      cursor: pointer;\n",
              "      display: none;\n",
              "      fill: #1967D2;\n",
              "      height: 32px;\n",
              "      padding: 0 0 0 0;\n",
              "      width: 32px;\n",
              "    }\n",
              "\n",
              "    .colab-df-convert:hover {\n",
              "      background-color: #E2EBFA;\n",
              "      box-shadow: 0px 1px 2px rgba(60, 64, 67, 0.3), 0px 1px 3px 1px rgba(60, 64, 67, 0.15);\n",
              "      fill: #174EA6;\n",
              "    }\n",
              "\n",
              "    [theme=dark] .colab-df-convert {\n",
              "      background-color: #3B4455;\n",
              "      fill: #D2E3FC;\n",
              "    }\n",
              "\n",
              "    [theme=dark] .colab-df-convert:hover {\n",
              "      background-color: #434B5C;\n",
              "      box-shadow: 0px 1px 3px 1px rgba(0, 0, 0, 0.15);\n",
              "      filter: drop-shadow(0px 1px 2px rgba(0, 0, 0, 0.3));\n",
              "      fill: #FFFFFF;\n",
              "    }\n",
              "  </style>\n",
              "\n",
              "      <script>\n",
              "        const buttonEl =\n",
              "          document.querySelector('#df-9e059f90-a397-46b6-81e1-d2d1656fd194 button.colab-df-convert');\n",
              "        buttonEl.style.display =\n",
              "          google.colab.kernel.accessAllowed ? 'block' : 'none';\n",
              "\n",
              "        async function convertToInteractive(key) {\n",
              "          const element = document.querySelector('#df-9e059f90-a397-46b6-81e1-d2d1656fd194');\n",
              "          const dataTable =\n",
              "            await google.colab.kernel.invokeFunction('convertToInteractive',\n",
              "                                                     [key], {});\n",
              "          if (!dataTable) return;\n",
              "\n",
              "          const docLinkHtml = 'Like what you see? Visit the ' +\n",
              "            '<a target=\"_blank\" href=https://colab.research.google.com/notebooks/data_table.ipynb>data table notebook</a>'\n",
              "            + ' to learn more about interactive tables.';\n",
              "          element.innerHTML = '';\n",
              "          dataTable['output_type'] = 'display_data';\n",
              "          await google.colab.output.renderOutput(dataTable, element);\n",
              "          const docLink = document.createElement('div');\n",
              "          docLink.innerHTML = docLinkHtml;\n",
              "          element.appendChild(docLink);\n",
              "        }\n",
              "      </script>\n",
              "    </div>\n",
              "  </div>\n",
              "  "
            ]
          },
          "metadata": {},
          "execution_count": 619
        }
      ]
    },
    {
      "cell_type": "code",
      "source": [
        "def linear_regression_model(x, y, training_target = 0.5, max_iter = 1000):\n",
        "    #adjusted R2\n",
        "    r_2 = 0\n",
        "    iteration = 1\n",
        "    # using a linear regression model\n",
        "    linear_reg = linear_model.LinearRegression()\n",
        "    \n",
        "    while(r_2 < training_target and iteration < max_iter):\n",
        "        # splitting train, test dataset 80% and 20%\n",
        "        x_train, x_test, y_train, y_test = train_test_split(x, y, test_size = .2)\n",
        "        # fit the linear regression model\n",
        "        linear_reg.fit(x_train, y_train)\n",
        "        \n",
        "        # loop the model\n",
        "        r_2 = linear_reg.score(x_test, y_test)\n",
        "        iteration += 1\n",
        "        \n",
        "    # evaluate the model by Adjusted R2\n",
        "    print(\"Training R2 \" + str(linear_reg.score(x_train, y_train)))\n",
        "    print(\"Testing R2 \" + str(linear_reg.score(x_test, y_test)))\n",
        "    \n",
        "    return linear_reg\n"
      ],
      "metadata": {
        "id": "12vhwjgKvyWY"
      },
      "execution_count": 620,
      "outputs": []
    },
    {
      "cell_type": "code",
      "source": [
        "def linear_prediction_model(linear_reg, x):\n",
        "    predict_variables = pd.get_dummies(x)\n",
        "    predict_delivery_fee = linear_reg.predict(predict_variables)\n",
        "    # set 6 decimals for delivery charge same as original data\n",
        "    predict_delivery_fee = np.around(predict_delivery_fee, decimals = 6)\n",
        "    \n",
        "    return predict_delivery_fee"
      ],
      "metadata": {
        "id": "GUV8YI0ev2BV"
      },
      "execution_count": 621,
      "outputs": []
    },
    {
      "cell_type": "code",
      "source": [
        "# delivery fee and the other variables\n",
        "linear_reg = linear_regression_model(x, y)\n",
        "predict_variables = outlier_TP[['time_of_day', 'distance_to_customer_KM', 'weekend']]\n",
        "# predict new calculated delivery fee\n",
        "predict_delivery_fee = linear_prediction_model(linear_reg, predict_variables)\n",
        "# add the column to the dataframe\n",
        "outlier_TP['predicted_delivery_fee'] = predict_delivery_fee\n",
        "\n",
        "print(outlier_TP.shape)"
      ],
      "metadata": {
        "colab": {
          "base_uri": "https://localhost:8080/"
        },
        "id": "alX7qKH7v5Fd",
        "outputId": "ae1ecac3-64a5-4f78-8db8-e65ef9d81f59"
      },
      "execution_count": 622,
      "outputs": [
        {
          "output_type": "stream",
          "name": "stdout",
          "text": [
            "Training R2 0.45787116351047574\n",
            "Testing R2 0.9725506792407025\n",
            "(341, 17)\n"
          ]
        },
        {
          "output_type": "stream",
          "name": "stderr",
          "text": [
            "/usr/local/lib/python3.7/dist-packages/ipykernel_launcher.py:7: SettingWithCopyWarning: \n",
            "A value is trying to be set on a copy of a slice from a DataFrame.\n",
            "Try using .loc[row_indexer,col_indexer] = value instead\n",
            "\n",
            "See the caveats in the documentation: https://pandas.pydata.org/pandas-docs/stable/user_guide/indexing.html#returning-a-view-versus-a-copy\n",
            "  import sys\n"
          ]
        }
      ]
    },
    {
      "cell_type": "markdown",
      "source": [
        "We can see that our results aren't that great for the TP branch in the combined dataset, lets look at another branch "
      ],
      "metadata": {
        "id": "uYV8d07ywSlb"
      }
    },
    {
      "cell_type": "code",
      "source": [
        "outlier_BK = outlier2[outlier2['branch_code'] == 'BK']"
      ],
      "metadata": {
        "id": "sKnqqVlE77v-"
      },
      "execution_count": 623,
      "outputs": []
    },
    {
      "cell_type": "code",
      "source": [
        "# Y: delivery fee is target variable\n",
        "y = outlier_BK['undiscounted_delivery_fee']\n",
        "\n",
        "# X: 3 independent variables\n",
        "x = outlier_BK[['time_of_day', 'distance_to_customer_KM', 'weekend']]\n",
        "\n",
        "# Encode categorical data\n",
        "x = pd.get_dummies(x)\n",
        "x"
      ],
      "metadata": {
        "colab": {
          "base_uri": "https://localhost:8080/",
          "height": 424
        },
        "id": "07E5N9km7_rd",
        "outputId": "5f52e46b-0097-406f-d04e-de75a5cdd4a5"
      },
      "execution_count": 624,
      "outputs": [
        {
          "output_type": "execute_result",
          "data": {
            "text/plain": [
              "     time_of_day  distance_to_customer_KM  weekend\n",
              "2              2                    7.277        0\n",
              "6              1                    7.914        1\n",
              "9              0                   10.644        1\n",
              "11             1                    4.946        1\n",
              "12             1                    7.215        0\n",
              "..           ...                      ...      ...\n",
              "990            1                    7.563        1\n",
              "992            0                    6.481        0\n",
              "993            2                   10.384        1\n",
              "994            0                    9.014        0\n",
              "996            1                    7.562        1\n",
              "\n",
              "[341 rows x 3 columns]"
            ],
            "text/html": [
              "\n",
              "  <div id=\"df-f811d6e7-6210-44d3-9106-8f1c9377e2e0\">\n",
              "    <div class=\"colab-df-container\">\n",
              "      <div>\n",
              "<style scoped>\n",
              "    .dataframe tbody tr th:only-of-type {\n",
              "        vertical-align: middle;\n",
              "    }\n",
              "\n",
              "    .dataframe tbody tr th {\n",
              "        vertical-align: top;\n",
              "    }\n",
              "\n",
              "    .dataframe thead th {\n",
              "        text-align: right;\n",
              "    }\n",
              "</style>\n",
              "<table border=\"1\" class=\"dataframe\">\n",
              "  <thead>\n",
              "    <tr style=\"text-align: right;\">\n",
              "      <th></th>\n",
              "      <th>time_of_day</th>\n",
              "      <th>distance_to_customer_KM</th>\n",
              "      <th>weekend</th>\n",
              "    </tr>\n",
              "  </thead>\n",
              "  <tbody>\n",
              "    <tr>\n",
              "      <th>2</th>\n",
              "      <td>2</td>\n",
              "      <td>7.277</td>\n",
              "      <td>0</td>\n",
              "    </tr>\n",
              "    <tr>\n",
              "      <th>6</th>\n",
              "      <td>1</td>\n",
              "      <td>7.914</td>\n",
              "      <td>1</td>\n",
              "    </tr>\n",
              "    <tr>\n",
              "      <th>9</th>\n",
              "      <td>0</td>\n",
              "      <td>10.644</td>\n",
              "      <td>1</td>\n",
              "    </tr>\n",
              "    <tr>\n",
              "      <th>11</th>\n",
              "      <td>1</td>\n",
              "      <td>4.946</td>\n",
              "      <td>1</td>\n",
              "    </tr>\n",
              "    <tr>\n",
              "      <th>12</th>\n",
              "      <td>1</td>\n",
              "      <td>7.215</td>\n",
              "      <td>0</td>\n",
              "    </tr>\n",
              "    <tr>\n",
              "      <th>...</th>\n",
              "      <td>...</td>\n",
              "      <td>...</td>\n",
              "      <td>...</td>\n",
              "    </tr>\n",
              "    <tr>\n",
              "      <th>990</th>\n",
              "      <td>1</td>\n",
              "      <td>7.563</td>\n",
              "      <td>1</td>\n",
              "    </tr>\n",
              "    <tr>\n",
              "      <th>992</th>\n",
              "      <td>0</td>\n",
              "      <td>6.481</td>\n",
              "      <td>0</td>\n",
              "    </tr>\n",
              "    <tr>\n",
              "      <th>993</th>\n",
              "      <td>2</td>\n",
              "      <td>10.384</td>\n",
              "      <td>1</td>\n",
              "    </tr>\n",
              "    <tr>\n",
              "      <th>994</th>\n",
              "      <td>0</td>\n",
              "      <td>9.014</td>\n",
              "      <td>0</td>\n",
              "    </tr>\n",
              "    <tr>\n",
              "      <th>996</th>\n",
              "      <td>1</td>\n",
              "      <td>7.562</td>\n",
              "      <td>1</td>\n",
              "    </tr>\n",
              "  </tbody>\n",
              "</table>\n",
              "<p>341 rows × 3 columns</p>\n",
              "</div>\n",
              "      <button class=\"colab-df-convert\" onclick=\"convertToInteractive('df-f811d6e7-6210-44d3-9106-8f1c9377e2e0')\"\n",
              "              title=\"Convert this dataframe to an interactive table.\"\n",
              "              style=\"display:none;\">\n",
              "        \n",
              "  <svg xmlns=\"http://www.w3.org/2000/svg\" height=\"24px\"viewBox=\"0 0 24 24\"\n",
              "       width=\"24px\">\n",
              "    <path d=\"M0 0h24v24H0V0z\" fill=\"none\"/>\n",
              "    <path d=\"M18.56 5.44l.94 2.06.94-2.06 2.06-.94-2.06-.94-.94-2.06-.94 2.06-2.06.94zm-11 1L8.5 8.5l.94-2.06 2.06-.94-2.06-.94L8.5 2.5l-.94 2.06-2.06.94zm10 10l.94 2.06.94-2.06 2.06-.94-2.06-.94-.94-2.06-.94 2.06-2.06.94z\"/><path d=\"M17.41 7.96l-1.37-1.37c-.4-.4-.92-.59-1.43-.59-.52 0-1.04.2-1.43.59L10.3 9.45l-7.72 7.72c-.78.78-.78 2.05 0 2.83L4 21.41c.39.39.9.59 1.41.59.51 0 1.02-.2 1.41-.59l7.78-7.78 2.81-2.81c.8-.78.8-2.07 0-2.86zM5.41 20L4 18.59l7.72-7.72 1.47 1.35L5.41 20z\"/>\n",
              "  </svg>\n",
              "      </button>\n",
              "      \n",
              "  <style>\n",
              "    .colab-df-container {\n",
              "      display:flex;\n",
              "      flex-wrap:wrap;\n",
              "      gap: 12px;\n",
              "    }\n",
              "\n",
              "    .colab-df-convert {\n",
              "      background-color: #E8F0FE;\n",
              "      border: none;\n",
              "      border-radius: 50%;\n",
              "      cursor: pointer;\n",
              "      display: none;\n",
              "      fill: #1967D2;\n",
              "      height: 32px;\n",
              "      padding: 0 0 0 0;\n",
              "      width: 32px;\n",
              "    }\n",
              "\n",
              "    .colab-df-convert:hover {\n",
              "      background-color: #E2EBFA;\n",
              "      box-shadow: 0px 1px 2px rgba(60, 64, 67, 0.3), 0px 1px 3px 1px rgba(60, 64, 67, 0.15);\n",
              "      fill: #174EA6;\n",
              "    }\n",
              "\n",
              "    [theme=dark] .colab-df-convert {\n",
              "      background-color: #3B4455;\n",
              "      fill: #D2E3FC;\n",
              "    }\n",
              "\n",
              "    [theme=dark] .colab-df-convert:hover {\n",
              "      background-color: #434B5C;\n",
              "      box-shadow: 0px 1px 3px 1px rgba(0, 0, 0, 0.15);\n",
              "      filter: drop-shadow(0px 1px 2px rgba(0, 0, 0, 0.3));\n",
              "      fill: #FFFFFF;\n",
              "    }\n",
              "  </style>\n",
              "\n",
              "      <script>\n",
              "        const buttonEl =\n",
              "          document.querySelector('#df-f811d6e7-6210-44d3-9106-8f1c9377e2e0 button.colab-df-convert');\n",
              "        buttonEl.style.display =\n",
              "          google.colab.kernel.accessAllowed ? 'block' : 'none';\n",
              "\n",
              "        async function convertToInteractive(key) {\n",
              "          const element = document.querySelector('#df-f811d6e7-6210-44d3-9106-8f1c9377e2e0');\n",
              "          const dataTable =\n",
              "            await google.colab.kernel.invokeFunction('convertToInteractive',\n",
              "                                                     [key], {});\n",
              "          if (!dataTable) return;\n",
              "\n",
              "          const docLinkHtml = 'Like what you see? Visit the ' +\n",
              "            '<a target=\"_blank\" href=https://colab.research.google.com/notebooks/data_table.ipynb>data table notebook</a>'\n",
              "            + ' to learn more about interactive tables.';\n",
              "          element.innerHTML = '';\n",
              "          dataTable['output_type'] = 'display_data';\n",
              "          await google.colab.output.renderOutput(dataTable, element);\n",
              "          const docLink = document.createElement('div');\n",
              "          docLink.innerHTML = docLinkHtml;\n",
              "          element.appendChild(docLink);\n",
              "        }\n",
              "      </script>\n",
              "    </div>\n",
              "  </div>\n",
              "  "
            ]
          },
          "metadata": {},
          "execution_count": 624
        }
      ]
    },
    {
      "cell_type": "code",
      "source": [
        "# delivery fee and the other variables\n",
        "linear_reg = linear_regression_model(x, y)\n",
        "predict_variables = outlier_BK[['time_of_day', 'distance_to_customer_KM', 'weekend']]\n",
        "# predict new calculated delivery fee\n",
        "predict_delivery_fee = linear_prediction_model(linear_reg, predict_variables)\n",
        "# add the column to the dataframe\n",
        "outlier_BK['predicted_delivery_fee'] = predict_delivery_fee\n",
        "\n",
        "print(outlier_BK.shape)\n",
        "outlier_BK.head()"
      ],
      "metadata": {
        "colab": {
          "base_uri": "https://localhost:8080/",
          "height": 600
        },
        "id": "5KJrexzf8Hri",
        "outputId": "8e6dc1f5-a0a3-463c-f20e-2e0355f32189"
      },
      "execution_count": 625,
      "outputs": [
        {
          "output_type": "stream",
          "name": "stdout",
          "text": [
            "Training R2 0.741799030167251\n",
            "Testing R2 0.7209655106284747\n",
            "(341, 17)\n"
          ]
        },
        {
          "output_type": "stream",
          "name": "stderr",
          "text": [
            "/usr/local/lib/python3.7/dist-packages/ipykernel_launcher.py:7: SettingWithCopyWarning: \n",
            "A value is trying to be set on a copy of a slice from a DataFrame.\n",
            "Try using .loc[row_indexer,col_indexer] = value instead\n",
            "\n",
            "See the caveats in the documentation: https://pandas.pydata.org/pandas-docs/stable/user_guide/indexing.html#returning-a-view-versus-a-copy\n",
            "  import sys\n"
          ]
        },
        {
          "output_type": "execute_result",
          "data": {
            "text/plain": [
              "     order_id       date      time order_type branch_code  \\\n",
              "2   ORDX09323 2021-12-14  19:29:34     Dinner          BK   \n",
              "6   ORDX09409 2021-06-20  13:34:38      Lunch          BK   \n",
              "9   ORDX09723 2021-04-04  11:02:32  Breakfast          BK   \n",
              "11  ORDA07081 2021-06-27  13:44:47      Lunch          BK   \n",
              "12  ORDA06535 2021-08-09  15:16:03      Lunch          BK   \n",
              "\n",
              "                                          order_items  order_price  \\\n",
              "2                 [('Salmon', 7), ('Fish&Chips', 10)]       637.00   \n",
              "6   [('Salad', 1), ('Chicken', 9), ('Fries', 3), (...       791.20   \n",
              "9   [('Coffee', 8), ('Pancake', 1), ('Cereal', 3),...       168.25   \n",
              "11                      [('Steak', 3), ('Salad', 10)]       307.00   \n",
              "12        [('Fries', 2), ('Burger', 7), ('Salad', 9)]       395.80   \n",
              "\n",
              "    customer_lat  customer_lon  customerHasloyalty  distance_to_customer_KM  \\\n",
              "2     -37.814701    144.969144                   0                    7.277   \n",
              "6     -37.804184    144.958548                   0                    7.914   \n",
              "9     -37.823320    144.935196                   0                   10.644   \n",
              "11    -37.815846    145.015418                   0                    4.946   \n",
              "12    -37.805046    144.967249                   0                    7.215   \n",
              "\n",
              "    delivery_fee  day_of_week  weekend  time_of_day  \\\n",
              "2      13.769445            1        0            2   \n",
              "6      16.590822            6        1            1   \n",
              "9      18.058146            6        1            0   \n",
              "11     13.285429            6        1            1   \n",
              "12     13.275110            0        0            1   \n",
              "\n",
              "    undiscounted_delivery_fee  predicted_delivery_fee  \n",
              "2                   13.769445               14.275873  \n",
              "6                   16.590822               16.447622  \n",
              "9                   18.058146               18.125336  \n",
              "11                  13.285429               13.430234  \n",
              "12                  13.275110               13.115128  "
            ],
            "text/html": [
              "\n",
              "  <div id=\"df-eccdb2b2-925d-46fd-b159-ff2493ad253d\">\n",
              "    <div class=\"colab-df-container\">\n",
              "      <div>\n",
              "<style scoped>\n",
              "    .dataframe tbody tr th:only-of-type {\n",
              "        vertical-align: middle;\n",
              "    }\n",
              "\n",
              "    .dataframe tbody tr th {\n",
              "        vertical-align: top;\n",
              "    }\n",
              "\n",
              "    .dataframe thead th {\n",
              "        text-align: right;\n",
              "    }\n",
              "</style>\n",
              "<table border=\"1\" class=\"dataframe\">\n",
              "  <thead>\n",
              "    <tr style=\"text-align: right;\">\n",
              "      <th></th>\n",
              "      <th>order_id</th>\n",
              "      <th>date</th>\n",
              "      <th>time</th>\n",
              "      <th>order_type</th>\n",
              "      <th>branch_code</th>\n",
              "      <th>order_items</th>\n",
              "      <th>order_price</th>\n",
              "      <th>customer_lat</th>\n",
              "      <th>customer_lon</th>\n",
              "      <th>customerHasloyalty</th>\n",
              "      <th>distance_to_customer_KM</th>\n",
              "      <th>delivery_fee</th>\n",
              "      <th>day_of_week</th>\n",
              "      <th>weekend</th>\n",
              "      <th>time_of_day</th>\n",
              "      <th>undiscounted_delivery_fee</th>\n",
              "      <th>predicted_delivery_fee</th>\n",
              "    </tr>\n",
              "  </thead>\n",
              "  <tbody>\n",
              "    <tr>\n",
              "      <th>2</th>\n",
              "      <td>ORDX09323</td>\n",
              "      <td>2021-12-14</td>\n",
              "      <td>19:29:34</td>\n",
              "      <td>Dinner</td>\n",
              "      <td>BK</td>\n",
              "      <td>[('Salmon', 7), ('Fish&amp;Chips', 10)]</td>\n",
              "      <td>637.00</td>\n",
              "      <td>-37.814701</td>\n",
              "      <td>144.969144</td>\n",
              "      <td>0</td>\n",
              "      <td>7.277</td>\n",
              "      <td>13.769445</td>\n",
              "      <td>1</td>\n",
              "      <td>0</td>\n",
              "      <td>2</td>\n",
              "      <td>13.769445</td>\n",
              "      <td>14.275873</td>\n",
              "    </tr>\n",
              "    <tr>\n",
              "      <th>6</th>\n",
              "      <td>ORDX09409</td>\n",
              "      <td>2021-06-20</td>\n",
              "      <td>13:34:38</td>\n",
              "      <td>Lunch</td>\n",
              "      <td>BK</td>\n",
              "      <td>[('Salad', 1), ('Chicken', 9), ('Fries', 3), (...</td>\n",
              "      <td>791.20</td>\n",
              "      <td>-37.804184</td>\n",
              "      <td>144.958548</td>\n",
              "      <td>0</td>\n",
              "      <td>7.914</td>\n",
              "      <td>16.590822</td>\n",
              "      <td>6</td>\n",
              "      <td>1</td>\n",
              "      <td>1</td>\n",
              "      <td>16.590822</td>\n",
              "      <td>16.447622</td>\n",
              "    </tr>\n",
              "    <tr>\n",
              "      <th>9</th>\n",
              "      <td>ORDX09723</td>\n",
              "      <td>2021-04-04</td>\n",
              "      <td>11:02:32</td>\n",
              "      <td>Breakfast</td>\n",
              "      <td>BK</td>\n",
              "      <td>[('Coffee', 8), ('Pancake', 1), ('Cereal', 3),...</td>\n",
              "      <td>168.25</td>\n",
              "      <td>-37.823320</td>\n",
              "      <td>144.935196</td>\n",
              "      <td>0</td>\n",
              "      <td>10.644</td>\n",
              "      <td>18.058146</td>\n",
              "      <td>6</td>\n",
              "      <td>1</td>\n",
              "      <td>0</td>\n",
              "      <td>18.058146</td>\n",
              "      <td>18.125336</td>\n",
              "    </tr>\n",
              "    <tr>\n",
              "      <th>11</th>\n",
              "      <td>ORDA07081</td>\n",
              "      <td>2021-06-27</td>\n",
              "      <td>13:44:47</td>\n",
              "      <td>Lunch</td>\n",
              "      <td>BK</td>\n",
              "      <td>[('Steak', 3), ('Salad', 10)]</td>\n",
              "      <td>307.00</td>\n",
              "      <td>-37.815846</td>\n",
              "      <td>145.015418</td>\n",
              "      <td>0</td>\n",
              "      <td>4.946</td>\n",
              "      <td>13.285429</td>\n",
              "      <td>6</td>\n",
              "      <td>1</td>\n",
              "      <td>1</td>\n",
              "      <td>13.285429</td>\n",
              "      <td>13.430234</td>\n",
              "    </tr>\n",
              "    <tr>\n",
              "      <th>12</th>\n",
              "      <td>ORDA06535</td>\n",
              "      <td>2021-08-09</td>\n",
              "      <td>15:16:03</td>\n",
              "      <td>Lunch</td>\n",
              "      <td>BK</td>\n",
              "      <td>[('Fries', 2), ('Burger', 7), ('Salad', 9)]</td>\n",
              "      <td>395.80</td>\n",
              "      <td>-37.805046</td>\n",
              "      <td>144.967249</td>\n",
              "      <td>0</td>\n",
              "      <td>7.215</td>\n",
              "      <td>13.275110</td>\n",
              "      <td>0</td>\n",
              "      <td>0</td>\n",
              "      <td>1</td>\n",
              "      <td>13.275110</td>\n",
              "      <td>13.115128</td>\n",
              "    </tr>\n",
              "  </tbody>\n",
              "</table>\n",
              "</div>\n",
              "      <button class=\"colab-df-convert\" onclick=\"convertToInteractive('df-eccdb2b2-925d-46fd-b159-ff2493ad253d')\"\n",
              "              title=\"Convert this dataframe to an interactive table.\"\n",
              "              style=\"display:none;\">\n",
              "        \n",
              "  <svg xmlns=\"http://www.w3.org/2000/svg\" height=\"24px\"viewBox=\"0 0 24 24\"\n",
              "       width=\"24px\">\n",
              "    <path d=\"M0 0h24v24H0V0z\" fill=\"none\"/>\n",
              "    <path d=\"M18.56 5.44l.94 2.06.94-2.06 2.06-.94-2.06-.94-.94-2.06-.94 2.06-2.06.94zm-11 1L8.5 8.5l.94-2.06 2.06-.94-2.06-.94L8.5 2.5l-.94 2.06-2.06.94zm10 10l.94 2.06.94-2.06 2.06-.94-2.06-.94-.94-2.06-.94 2.06-2.06.94z\"/><path d=\"M17.41 7.96l-1.37-1.37c-.4-.4-.92-.59-1.43-.59-.52 0-1.04.2-1.43.59L10.3 9.45l-7.72 7.72c-.78.78-.78 2.05 0 2.83L4 21.41c.39.39.9.59 1.41.59.51 0 1.02-.2 1.41-.59l7.78-7.78 2.81-2.81c.8-.78.8-2.07 0-2.86zM5.41 20L4 18.59l7.72-7.72 1.47 1.35L5.41 20z\"/>\n",
              "  </svg>\n",
              "      </button>\n",
              "      \n",
              "  <style>\n",
              "    .colab-df-container {\n",
              "      display:flex;\n",
              "      flex-wrap:wrap;\n",
              "      gap: 12px;\n",
              "    }\n",
              "\n",
              "    .colab-df-convert {\n",
              "      background-color: #E8F0FE;\n",
              "      border: none;\n",
              "      border-radius: 50%;\n",
              "      cursor: pointer;\n",
              "      display: none;\n",
              "      fill: #1967D2;\n",
              "      height: 32px;\n",
              "      padding: 0 0 0 0;\n",
              "      width: 32px;\n",
              "    }\n",
              "\n",
              "    .colab-df-convert:hover {\n",
              "      background-color: #E2EBFA;\n",
              "      box-shadow: 0px 1px 2px rgba(60, 64, 67, 0.3), 0px 1px 3px 1px rgba(60, 64, 67, 0.15);\n",
              "      fill: #174EA6;\n",
              "    }\n",
              "\n",
              "    [theme=dark] .colab-df-convert {\n",
              "      background-color: #3B4455;\n",
              "      fill: #D2E3FC;\n",
              "    }\n",
              "\n",
              "    [theme=dark] .colab-df-convert:hover {\n",
              "      background-color: #434B5C;\n",
              "      box-shadow: 0px 1px 3px 1px rgba(0, 0, 0, 0.15);\n",
              "      filter: drop-shadow(0px 1px 2px rgba(0, 0, 0, 0.3));\n",
              "      fill: #FFFFFF;\n",
              "    }\n",
              "  </style>\n",
              "\n",
              "      <script>\n",
              "        const buttonEl =\n",
              "          document.querySelector('#df-eccdb2b2-925d-46fd-b159-ff2493ad253d button.colab-df-convert');\n",
              "        buttonEl.style.display =\n",
              "          google.colab.kernel.accessAllowed ? 'block' : 'none';\n",
              "\n",
              "        async function convertToInteractive(key) {\n",
              "          const element = document.querySelector('#df-eccdb2b2-925d-46fd-b159-ff2493ad253d');\n",
              "          const dataTable =\n",
              "            await google.colab.kernel.invokeFunction('convertToInteractive',\n",
              "                                                     [key], {});\n",
              "          if (!dataTable) return;\n",
              "\n",
              "          const docLinkHtml = 'Like what you see? Visit the ' +\n",
              "            '<a target=\"_blank\" href=https://colab.research.google.com/notebooks/data_table.ipynb>data table notebook</a>'\n",
              "            + ' to learn more about interactive tables.';\n",
              "          element.innerHTML = '';\n",
              "          dataTable['output_type'] = 'display_data';\n",
              "          await google.colab.output.renderOutput(dataTable, element);\n",
              "          const docLink = document.createElement('div');\n",
              "          docLink.innerHTML = docLinkHtml;\n",
              "          element.appendChild(docLink);\n",
              "        }\n",
              "      </script>\n",
              "    </div>\n",
              "  </div>\n",
              "  "
            ]
          },
          "metadata": {},
          "execution_count": 625
        }
      ]
    },
    {
      "cell_type": "markdown",
      "source": [
        "The results for the second branch continue to look average, now onto the last branch "
      ],
      "metadata": {
        "id": "5iMakqli-XPg"
      }
    },
    {
      "cell_type": "code",
      "source": [
        "outlier_NS = outlier2[outlier2['branch_code'] == 'NS']"
      ],
      "metadata": {
        "id": "zjq2pksg8PVf"
      },
      "execution_count": 626,
      "outputs": []
    },
    {
      "cell_type": "code",
      "source": [
        "# Y: delivery fee is target variable\n",
        "y = outlier_NS['undiscounted_delivery_fee']\n",
        "\n",
        "# X: 3 independent variables\n",
        "x = outlier_NS[['time_of_day', 'distance_to_customer_KM', 'weekend']]\n",
        "\n",
        "# Encode categorical data\n",
        "x = pd.get_dummies(x)\n",
        "x"
      ],
      "metadata": {
        "colab": {
          "base_uri": "https://localhost:8080/",
          "height": 424
        },
        "id": "SFgXEI2M8Wix",
        "outputId": "3296f0f7-374e-4da8-ca65-1b3965be0996"
      },
      "execution_count": 627,
      "outputs": [
        {
          "output_type": "execute_result",
          "data": {
            "text/plain": [
              "     time_of_day  distance_to_customer_KM  weekend\n",
              "0              0                   10.020        0\n",
              "3              1                    7.642        1\n",
              "4              2                    9.429        0\n",
              "7              1                   10.067        0\n",
              "10             2                    8.008        0\n",
              "..           ...                      ...      ...\n",
              "982            1                   10.124        0\n",
              "983            0                    9.378        0\n",
              "985            2                    8.694        0\n",
              "997            1                    9.491        0\n",
              "998            0                    7.399        0\n",
              "\n",
              "[318 rows x 3 columns]"
            ],
            "text/html": [
              "\n",
              "  <div id=\"df-e48f0e54-db75-47c4-b785-71ea553d8376\">\n",
              "    <div class=\"colab-df-container\">\n",
              "      <div>\n",
              "<style scoped>\n",
              "    .dataframe tbody tr th:only-of-type {\n",
              "        vertical-align: middle;\n",
              "    }\n",
              "\n",
              "    .dataframe tbody tr th {\n",
              "        vertical-align: top;\n",
              "    }\n",
              "\n",
              "    .dataframe thead th {\n",
              "        text-align: right;\n",
              "    }\n",
              "</style>\n",
              "<table border=\"1\" class=\"dataframe\">\n",
              "  <thead>\n",
              "    <tr style=\"text-align: right;\">\n",
              "      <th></th>\n",
              "      <th>time_of_day</th>\n",
              "      <th>distance_to_customer_KM</th>\n",
              "      <th>weekend</th>\n",
              "    </tr>\n",
              "  </thead>\n",
              "  <tbody>\n",
              "    <tr>\n",
              "      <th>0</th>\n",
              "      <td>0</td>\n",
              "      <td>10.020</td>\n",
              "      <td>0</td>\n",
              "    </tr>\n",
              "    <tr>\n",
              "      <th>3</th>\n",
              "      <td>1</td>\n",
              "      <td>7.642</td>\n",
              "      <td>1</td>\n",
              "    </tr>\n",
              "    <tr>\n",
              "      <th>4</th>\n",
              "      <td>2</td>\n",
              "      <td>9.429</td>\n",
              "      <td>0</td>\n",
              "    </tr>\n",
              "    <tr>\n",
              "      <th>7</th>\n",
              "      <td>1</td>\n",
              "      <td>10.067</td>\n",
              "      <td>0</td>\n",
              "    </tr>\n",
              "    <tr>\n",
              "      <th>10</th>\n",
              "      <td>2</td>\n",
              "      <td>8.008</td>\n",
              "      <td>0</td>\n",
              "    </tr>\n",
              "    <tr>\n",
              "      <th>...</th>\n",
              "      <td>...</td>\n",
              "      <td>...</td>\n",
              "      <td>...</td>\n",
              "    </tr>\n",
              "    <tr>\n",
              "      <th>982</th>\n",
              "      <td>1</td>\n",
              "      <td>10.124</td>\n",
              "      <td>0</td>\n",
              "    </tr>\n",
              "    <tr>\n",
              "      <th>983</th>\n",
              "      <td>0</td>\n",
              "      <td>9.378</td>\n",
              "      <td>0</td>\n",
              "    </tr>\n",
              "    <tr>\n",
              "      <th>985</th>\n",
              "      <td>2</td>\n",
              "      <td>8.694</td>\n",
              "      <td>0</td>\n",
              "    </tr>\n",
              "    <tr>\n",
              "      <th>997</th>\n",
              "      <td>1</td>\n",
              "      <td>9.491</td>\n",
              "      <td>0</td>\n",
              "    </tr>\n",
              "    <tr>\n",
              "      <th>998</th>\n",
              "      <td>0</td>\n",
              "      <td>7.399</td>\n",
              "      <td>0</td>\n",
              "    </tr>\n",
              "  </tbody>\n",
              "</table>\n",
              "<p>318 rows × 3 columns</p>\n",
              "</div>\n",
              "      <button class=\"colab-df-convert\" onclick=\"convertToInteractive('df-e48f0e54-db75-47c4-b785-71ea553d8376')\"\n",
              "              title=\"Convert this dataframe to an interactive table.\"\n",
              "              style=\"display:none;\">\n",
              "        \n",
              "  <svg xmlns=\"http://www.w3.org/2000/svg\" height=\"24px\"viewBox=\"0 0 24 24\"\n",
              "       width=\"24px\">\n",
              "    <path d=\"M0 0h24v24H0V0z\" fill=\"none\"/>\n",
              "    <path d=\"M18.56 5.44l.94 2.06.94-2.06 2.06-.94-2.06-.94-.94-2.06-.94 2.06-2.06.94zm-11 1L8.5 8.5l.94-2.06 2.06-.94-2.06-.94L8.5 2.5l-.94 2.06-2.06.94zm10 10l.94 2.06.94-2.06 2.06-.94-2.06-.94-.94-2.06-.94 2.06-2.06.94z\"/><path d=\"M17.41 7.96l-1.37-1.37c-.4-.4-.92-.59-1.43-.59-.52 0-1.04.2-1.43.59L10.3 9.45l-7.72 7.72c-.78.78-.78 2.05 0 2.83L4 21.41c.39.39.9.59 1.41.59.51 0 1.02-.2 1.41-.59l7.78-7.78 2.81-2.81c.8-.78.8-2.07 0-2.86zM5.41 20L4 18.59l7.72-7.72 1.47 1.35L5.41 20z\"/>\n",
              "  </svg>\n",
              "      </button>\n",
              "      \n",
              "  <style>\n",
              "    .colab-df-container {\n",
              "      display:flex;\n",
              "      flex-wrap:wrap;\n",
              "      gap: 12px;\n",
              "    }\n",
              "\n",
              "    .colab-df-convert {\n",
              "      background-color: #E8F0FE;\n",
              "      border: none;\n",
              "      border-radius: 50%;\n",
              "      cursor: pointer;\n",
              "      display: none;\n",
              "      fill: #1967D2;\n",
              "      height: 32px;\n",
              "      padding: 0 0 0 0;\n",
              "      width: 32px;\n",
              "    }\n",
              "\n",
              "    .colab-df-convert:hover {\n",
              "      background-color: #E2EBFA;\n",
              "      box-shadow: 0px 1px 2px rgba(60, 64, 67, 0.3), 0px 1px 3px 1px rgba(60, 64, 67, 0.15);\n",
              "      fill: #174EA6;\n",
              "    }\n",
              "\n",
              "    [theme=dark] .colab-df-convert {\n",
              "      background-color: #3B4455;\n",
              "      fill: #D2E3FC;\n",
              "    }\n",
              "\n",
              "    [theme=dark] .colab-df-convert:hover {\n",
              "      background-color: #434B5C;\n",
              "      box-shadow: 0px 1px 3px 1px rgba(0, 0, 0, 0.15);\n",
              "      filter: drop-shadow(0px 1px 2px rgba(0, 0, 0, 0.3));\n",
              "      fill: #FFFFFF;\n",
              "    }\n",
              "  </style>\n",
              "\n",
              "      <script>\n",
              "        const buttonEl =\n",
              "          document.querySelector('#df-e48f0e54-db75-47c4-b785-71ea553d8376 button.colab-df-convert');\n",
              "        buttonEl.style.display =\n",
              "          google.colab.kernel.accessAllowed ? 'block' : 'none';\n",
              "\n",
              "        async function convertToInteractive(key) {\n",
              "          const element = document.querySelector('#df-e48f0e54-db75-47c4-b785-71ea553d8376');\n",
              "          const dataTable =\n",
              "            await google.colab.kernel.invokeFunction('convertToInteractive',\n",
              "                                                     [key], {});\n",
              "          if (!dataTable) return;\n",
              "\n",
              "          const docLinkHtml = 'Like what you see? Visit the ' +\n",
              "            '<a target=\"_blank\" href=https://colab.research.google.com/notebooks/data_table.ipynb>data table notebook</a>'\n",
              "            + ' to learn more about interactive tables.';\n",
              "          element.innerHTML = '';\n",
              "          dataTable['output_type'] = 'display_data';\n",
              "          await google.colab.output.renderOutput(dataTable, element);\n",
              "          const docLink = document.createElement('div');\n",
              "          docLink.innerHTML = docLinkHtml;\n",
              "          element.appendChild(docLink);\n",
              "        }\n",
              "      </script>\n",
              "    </div>\n",
              "  </div>\n",
              "  "
            ]
          },
          "metadata": {},
          "execution_count": 627
        }
      ]
    },
    {
      "cell_type": "code",
      "source": [
        "# delivery fee and the other variables\n",
        "linear_reg = linear_regression_model(x, y)\n",
        "predict_variables = outlier_NS[['time_of_day', 'distance_to_customer_KM', 'weekend']]\n",
        "# predict new calculated delivery fee\n",
        "predict_delivery_fee = linear_prediction_model(linear_reg, predict_variables)\n",
        "# add the column to the dataframe\n",
        "outlier_NS['predicted_delivery_fee'] = predict_delivery_fee\n",
        "\n",
        "print(outlier_NS.shape)\n",
        "outlier_NS.head()"
      ],
      "metadata": {
        "colab": {
          "base_uri": "https://localhost:8080/",
          "height": 600
        },
        "id": "m1PCe3Ru8afd",
        "outputId": "5eb2769f-4207-46f0-99b7-9e6075976264"
      },
      "execution_count": 628,
      "outputs": [
        {
          "output_type": "stream",
          "name": "stdout",
          "text": [
            "Training R2 0.4898851460832764\n",
            "Testing R2 0.6473779257524256\n",
            "(318, 17)\n"
          ]
        },
        {
          "output_type": "stream",
          "name": "stderr",
          "text": [
            "/usr/local/lib/python3.7/dist-packages/ipykernel_launcher.py:7: SettingWithCopyWarning: \n",
            "A value is trying to be set on a copy of a slice from a DataFrame.\n",
            "Try using .loc[row_indexer,col_indexer] = value instead\n",
            "\n",
            "See the caveats in the documentation: https://pandas.pydata.org/pandas-docs/stable/user_guide/indexing.html#returning-a-view-versus-a-copy\n",
            "  import sys\n"
          ]
        },
        {
          "output_type": "execute_result",
          "data": {
            "text/plain": [
              "     order_id       date      time order_type branch_code  \\\n",
              "0   ORDZ03316 2021-01-21  08:40:33  Breakfast          NS   \n",
              "3   ORDI04623 2021-06-19  13:34:38      Lunch          NS   \n",
              "4   ORDC04856 2021-09-07  16:16:54     Dinner          NS   \n",
              "7   ORDZ08502 2021-06-03  13:04:13      Lunch          NS   \n",
              "10  ORDI06391 2021-10-04  17:07:36     Dinner          NS   \n",
              "\n",
              "                                          order_items  order_price  \\\n",
              "0                       [('Pancake', 2), ('Eggs', 8)]        212.5   \n",
              "3         [('Burger', 7), ('Salad', 7), ('Fries', 7)]        421.4   \n",
              "4    [('Pasta', 6), ('Fish&Chips', 6), ('Shrimp', 4)]        591.0   \n",
              "7                      [('Steak', 4), ('Chicken', 1)]        212.0   \n",
              "10  [('Fish&Chips', 4), ('Shrimp', 3), ('Salmon', 1)]        343.0   \n",
              "\n",
              "    customer_lat  customer_lon  customerHasloyalty  distance_to_customer_KM  \\\n",
              "0     -37.799752    145.009384                   0                   10.020   \n",
              "3     -37.806452    144.959563                   0                    7.642   \n",
              "4     -37.825537    144.976460                   0                    9.429   \n",
              "7     -37.814317    144.935907                   0                   10.067   \n",
              "10    -37.804258    144.954309                   0                    8.008   \n",
              "\n",
              "    delivery_fee  day_of_week  weekend  time_of_day  \\\n",
              "0      14.717922            3        0            0   \n",
              "3      14.825338            5        1            1   \n",
              "4      15.939789            1        0            2   \n",
              "7      15.891486            3        0            1   \n",
              "10     14.116387            0        0            2   \n",
              "\n",
              "    undiscounted_delivery_fee  predicted_delivery_fee  \n",
              "0                   14.717922               15.018940  \n",
              "3                   14.825338               15.366780  \n",
              "4                   15.939789               15.569503  \n",
              "7                   15.891486               15.632737  \n",
              "10                  14.116387               14.165036  "
            ],
            "text/html": [
              "\n",
              "  <div id=\"df-6977a04d-e664-4031-a8c6-d9f7d597f335\">\n",
              "    <div class=\"colab-df-container\">\n",
              "      <div>\n",
              "<style scoped>\n",
              "    .dataframe tbody tr th:only-of-type {\n",
              "        vertical-align: middle;\n",
              "    }\n",
              "\n",
              "    .dataframe tbody tr th {\n",
              "        vertical-align: top;\n",
              "    }\n",
              "\n",
              "    .dataframe thead th {\n",
              "        text-align: right;\n",
              "    }\n",
              "</style>\n",
              "<table border=\"1\" class=\"dataframe\">\n",
              "  <thead>\n",
              "    <tr style=\"text-align: right;\">\n",
              "      <th></th>\n",
              "      <th>order_id</th>\n",
              "      <th>date</th>\n",
              "      <th>time</th>\n",
              "      <th>order_type</th>\n",
              "      <th>branch_code</th>\n",
              "      <th>order_items</th>\n",
              "      <th>order_price</th>\n",
              "      <th>customer_lat</th>\n",
              "      <th>customer_lon</th>\n",
              "      <th>customerHasloyalty</th>\n",
              "      <th>distance_to_customer_KM</th>\n",
              "      <th>delivery_fee</th>\n",
              "      <th>day_of_week</th>\n",
              "      <th>weekend</th>\n",
              "      <th>time_of_day</th>\n",
              "      <th>undiscounted_delivery_fee</th>\n",
              "      <th>predicted_delivery_fee</th>\n",
              "    </tr>\n",
              "  </thead>\n",
              "  <tbody>\n",
              "    <tr>\n",
              "      <th>0</th>\n",
              "      <td>ORDZ03316</td>\n",
              "      <td>2021-01-21</td>\n",
              "      <td>08:40:33</td>\n",
              "      <td>Breakfast</td>\n",
              "      <td>NS</td>\n",
              "      <td>[('Pancake', 2), ('Eggs', 8)]</td>\n",
              "      <td>212.5</td>\n",
              "      <td>-37.799752</td>\n",
              "      <td>145.009384</td>\n",
              "      <td>0</td>\n",
              "      <td>10.020</td>\n",
              "      <td>14.717922</td>\n",
              "      <td>3</td>\n",
              "      <td>0</td>\n",
              "      <td>0</td>\n",
              "      <td>14.717922</td>\n",
              "      <td>15.018940</td>\n",
              "    </tr>\n",
              "    <tr>\n",
              "      <th>3</th>\n",
              "      <td>ORDI04623</td>\n",
              "      <td>2021-06-19</td>\n",
              "      <td>13:34:38</td>\n",
              "      <td>Lunch</td>\n",
              "      <td>NS</td>\n",
              "      <td>[('Burger', 7), ('Salad', 7), ('Fries', 7)]</td>\n",
              "      <td>421.4</td>\n",
              "      <td>-37.806452</td>\n",
              "      <td>144.959563</td>\n",
              "      <td>0</td>\n",
              "      <td>7.642</td>\n",
              "      <td>14.825338</td>\n",
              "      <td>5</td>\n",
              "      <td>1</td>\n",
              "      <td>1</td>\n",
              "      <td>14.825338</td>\n",
              "      <td>15.366780</td>\n",
              "    </tr>\n",
              "    <tr>\n",
              "      <th>4</th>\n",
              "      <td>ORDC04856</td>\n",
              "      <td>2021-09-07</td>\n",
              "      <td>16:16:54</td>\n",
              "      <td>Dinner</td>\n",
              "      <td>NS</td>\n",
              "      <td>[('Pasta', 6), ('Fish&amp;Chips', 6), ('Shrimp', 4)]</td>\n",
              "      <td>591.0</td>\n",
              "      <td>-37.825537</td>\n",
              "      <td>144.976460</td>\n",
              "      <td>0</td>\n",
              "      <td>9.429</td>\n",
              "      <td>15.939789</td>\n",
              "      <td>1</td>\n",
              "      <td>0</td>\n",
              "      <td>2</td>\n",
              "      <td>15.939789</td>\n",
              "      <td>15.569503</td>\n",
              "    </tr>\n",
              "    <tr>\n",
              "      <th>7</th>\n",
              "      <td>ORDZ08502</td>\n",
              "      <td>2021-06-03</td>\n",
              "      <td>13:04:13</td>\n",
              "      <td>Lunch</td>\n",
              "      <td>NS</td>\n",
              "      <td>[('Steak', 4), ('Chicken', 1)]</td>\n",
              "      <td>212.0</td>\n",
              "      <td>-37.814317</td>\n",
              "      <td>144.935907</td>\n",
              "      <td>0</td>\n",
              "      <td>10.067</td>\n",
              "      <td>15.891486</td>\n",
              "      <td>3</td>\n",
              "      <td>0</td>\n",
              "      <td>1</td>\n",
              "      <td>15.891486</td>\n",
              "      <td>15.632737</td>\n",
              "    </tr>\n",
              "    <tr>\n",
              "      <th>10</th>\n",
              "      <td>ORDI06391</td>\n",
              "      <td>2021-10-04</td>\n",
              "      <td>17:07:36</td>\n",
              "      <td>Dinner</td>\n",
              "      <td>NS</td>\n",
              "      <td>[('Fish&amp;Chips', 4), ('Shrimp', 3), ('Salmon', 1)]</td>\n",
              "      <td>343.0</td>\n",
              "      <td>-37.804258</td>\n",
              "      <td>144.954309</td>\n",
              "      <td>0</td>\n",
              "      <td>8.008</td>\n",
              "      <td>14.116387</td>\n",
              "      <td>0</td>\n",
              "      <td>0</td>\n",
              "      <td>2</td>\n",
              "      <td>14.116387</td>\n",
              "      <td>14.165036</td>\n",
              "    </tr>\n",
              "  </tbody>\n",
              "</table>\n",
              "</div>\n",
              "      <button class=\"colab-df-convert\" onclick=\"convertToInteractive('df-6977a04d-e664-4031-a8c6-d9f7d597f335')\"\n",
              "              title=\"Convert this dataframe to an interactive table.\"\n",
              "              style=\"display:none;\">\n",
              "        \n",
              "  <svg xmlns=\"http://www.w3.org/2000/svg\" height=\"24px\"viewBox=\"0 0 24 24\"\n",
              "       width=\"24px\">\n",
              "    <path d=\"M0 0h24v24H0V0z\" fill=\"none\"/>\n",
              "    <path d=\"M18.56 5.44l.94 2.06.94-2.06 2.06-.94-2.06-.94-.94-2.06-.94 2.06-2.06.94zm-11 1L8.5 8.5l.94-2.06 2.06-.94-2.06-.94L8.5 2.5l-.94 2.06-2.06.94zm10 10l.94 2.06.94-2.06 2.06-.94-2.06-.94-.94-2.06-.94 2.06-2.06.94z\"/><path d=\"M17.41 7.96l-1.37-1.37c-.4-.4-.92-.59-1.43-.59-.52 0-1.04.2-1.43.59L10.3 9.45l-7.72 7.72c-.78.78-.78 2.05 0 2.83L4 21.41c.39.39.9.59 1.41.59.51 0 1.02-.2 1.41-.59l7.78-7.78 2.81-2.81c.8-.78.8-2.07 0-2.86zM5.41 20L4 18.59l7.72-7.72 1.47 1.35L5.41 20z\"/>\n",
              "  </svg>\n",
              "      </button>\n",
              "      \n",
              "  <style>\n",
              "    .colab-df-container {\n",
              "      display:flex;\n",
              "      flex-wrap:wrap;\n",
              "      gap: 12px;\n",
              "    }\n",
              "\n",
              "    .colab-df-convert {\n",
              "      background-color: #E8F0FE;\n",
              "      border: none;\n",
              "      border-radius: 50%;\n",
              "      cursor: pointer;\n",
              "      display: none;\n",
              "      fill: #1967D2;\n",
              "      height: 32px;\n",
              "      padding: 0 0 0 0;\n",
              "      width: 32px;\n",
              "    }\n",
              "\n",
              "    .colab-df-convert:hover {\n",
              "      background-color: #E2EBFA;\n",
              "      box-shadow: 0px 1px 2px rgba(60, 64, 67, 0.3), 0px 1px 3px 1px rgba(60, 64, 67, 0.15);\n",
              "      fill: #174EA6;\n",
              "    }\n",
              "\n",
              "    [theme=dark] .colab-df-convert {\n",
              "      background-color: #3B4455;\n",
              "      fill: #D2E3FC;\n",
              "    }\n",
              "\n",
              "    [theme=dark] .colab-df-convert:hover {\n",
              "      background-color: #434B5C;\n",
              "      box-shadow: 0px 1px 3px 1px rgba(0, 0, 0, 0.15);\n",
              "      filter: drop-shadow(0px 1px 2px rgba(0, 0, 0, 0.3));\n",
              "      fill: #FFFFFF;\n",
              "    }\n",
              "  </style>\n",
              "\n",
              "      <script>\n",
              "        const buttonEl =\n",
              "          document.querySelector('#df-6977a04d-e664-4031-a8c6-d9f7d597f335 button.colab-df-convert');\n",
              "        buttonEl.style.display =\n",
              "          google.colab.kernel.accessAllowed ? 'block' : 'none';\n",
              "\n",
              "        async function convertToInteractive(key) {\n",
              "          const element = document.querySelector('#df-6977a04d-e664-4031-a8c6-d9f7d597f335');\n",
              "          const dataTable =\n",
              "            await google.colab.kernel.invokeFunction('convertToInteractive',\n",
              "                                                     [key], {});\n",
              "          if (!dataTable) return;\n",
              "\n",
              "          const docLinkHtml = 'Like what you see? Visit the ' +\n",
              "            '<a target=\"_blank\" href=https://colab.research.google.com/notebooks/data_table.ipynb>data table notebook</a>'\n",
              "            + ' to learn more about interactive tables.';\n",
              "          element.innerHTML = '';\n",
              "          dataTable['output_type'] = 'display_data';\n",
              "          await google.colab.output.renderOutput(dataTable, element);\n",
              "          const docLink = document.createElement('div');\n",
              "          docLink.innerHTML = docLinkHtml;\n",
              "          element.appendChild(docLink);\n",
              "        }\n",
              "      </script>\n",
              "    </div>\n",
              "  </div>\n",
              "  "
            ]
          },
          "metadata": {},
          "execution_count": 628
        }
      ]
    },
    {
      "cell_type": "markdown",
      "source": [
        "We can see that all 3 predict the undiscounted deleivery fee not that well, so we can remove the outliers from each set indiviudally and see if the models are improved"
      ],
      "metadata": {
        "id": "lqCAUr8u8lXt"
      }
    },
    {
      "cell_type": "markdown",
      "source": [
        "### 3.4 Remove Outliers"
      ],
      "metadata": {
        "id": "Wqf3rkn53CMi"
      }
    },
    {
      "cell_type": "markdown",
      "source": [
        "We can once again use the residuals, we can calculate the residuals by looking at the difference between the true value and the predicted value. We can then apply the 1.5IQR on the residuals, if a residual is outside the specified range then we can remove it from the dataset"
      ],
      "metadata": {
        "id": "VsCIw7f3qqv-"
      }
    },
    {
      "cell_type": "markdown",
      "source": [
        "#### 3.4.1 TP Branch"
      ],
      "metadata": {
        "id": "oJJ1b6CC_3dp"
      }
    },
    {
      "cell_type": "code",
      "source": [
        "# Get the residuals based on the difference between true and predicted values\n",
        "outlier_TP['residual'] = outlier_TP.apply(lambda x: (x['undiscounted_delivery_fee']-x['predicted_delivery_fee']), axis=1)"
      ],
      "metadata": {
        "colab": {
          "base_uri": "https://localhost:8080/"
        },
        "id": "ggZwxVHlwgQp",
        "outputId": "5d3eb8a2-6bb4-4c0c-9020-af4dc1159c68"
      },
      "execution_count": 629,
      "outputs": [
        {
          "output_type": "stream",
          "name": "stderr",
          "text": [
            "/usr/local/lib/python3.7/dist-packages/ipykernel_launcher.py:2: SettingWithCopyWarning: \n",
            "A value is trying to be set on a copy of a slice from a DataFrame.\n",
            "Try using .loc[row_indexer,col_indexer] = value instead\n",
            "\n",
            "See the caveats in the documentation: https://pandas.pydata.org/pandas-docs/stable/user_guide/indexing.html#returning-a-view-versus-a-copy\n",
            "  \n"
          ]
        }
      ]
    },
    {
      "cell_type": "code",
      "source": [
        "# Boxplot for the residuals\n",
        "outlier_TP.boxplot(column='residual')"
      ],
      "metadata": {
        "colab": {
          "base_uri": "https://localhost:8080/",
          "height": 286
        },
        "id": "VhyIO3y7w9pV",
        "outputId": "827aab68-a683-462c-d4d1-fbf4c1b44722"
      },
      "execution_count": 630,
      "outputs": [
        {
          "output_type": "execute_result",
          "data": {
            "text/plain": [
              "<matplotlib.axes._subplots.AxesSubplot at 0x7f8af544d850>"
            ]
          },
          "metadata": {},
          "execution_count": 630
        },
        {
          "output_type": "display_data",
          "data": {
            "text/plain": [
              "<Figure size 432x288 with 1 Axes>"
            ],
            "image/png": "[encoded data removed]"
          },
          "metadata": {
            "needs_background": "light"
          }
        }
      ]
    },
    {
      "cell_type": "code",
      "source": [
        "outlier_TP.residual.describe()"
      ],
      "metadata": {
        "colab": {
          "base_uri": "https://localhost:8080/"
        },
        "id": "T-YntsE8xYpz",
        "outputId": "8da39a25-c877-4361-f5f7-667a5ec5eded"
      },
      "execution_count": 631,
      "outputs": [
        {
          "output_type": "execute_result",
          "data": {
            "text/plain": [
              "count    341.000000\n",
              "mean       0.018019\n",
              "std        1.279233\n",
              "min       -7.536143\n",
              "25%       -0.110986\n",
              "50%        0.038025\n",
              "75%        0.252629\n",
              "max        7.315917\n",
              "Name: residual, dtype: float64"
            ]
          },
          "metadata": {},
          "execution_count": 631
        }
      ]
    },
    {
      "cell_type": "code",
      "source": [
        "# Create lower and upper bounds based on the 1.5*IQR rule\n",
        "lower_bound = outlier_TP.residual.quantile(0.25) - 1.5*(outlier_TP.residual.quantile(0.75) - outlier_TP.residual.quantile(0.25))"
      ],
      "metadata": {
        "id": "1dlx16Yf3AEu"
      },
      "execution_count": 632,
      "outputs": []
    },
    {
      "cell_type": "code",
      "source": [
        "upper_bound = outlier_TP.residual.quantile(0.75) + 1.5*(outlier_TP.residual.quantile(0.75) - outlier_TP.residual.quantile(0.25))"
      ],
      "metadata": {
        "id": "PBrxyAsI31cu"
      },
      "execution_count": 633,
      "outputs": []
    },
    {
      "cell_type": "markdown",
      "source": [
        "Now we can remove rows that have a residual either above the upper_bound or below the lower_bound"
      ],
      "metadata": {
        "id": "RGzD6ZcCrPrv"
      }
    },
    {
      "cell_type": "code",
      "source": [
        "outlier_TP[outlier_TP['residual'] > upper_bound]"
      ],
      "metadata": {
        "colab": {
          "base_uri": "https://localhost:8080/",
          "height": 645
        },
        "id": "nz6wly3u4FZF",
        "outputId": "e40b6a37-6529-4202-fa5f-d23c971e118c"
      },
      "execution_count": 634,
      "outputs": [
        {
          "output_type": "execute_result",
          "data": {
            "text/plain": [
              "      order_id       date      time order_type branch_code  \\\n",
              "49   ORDJ10261 2021-01-13  08:20:16  Breakfast          TP   \n",
              "203  ORDB02280 2021-04-03  11:02:32  Breakfast          TP   \n",
              "207  ORDB01892 2021-01-22  08:40:33  Breakfast          TP   \n",
              "251  ORDY03405 2021-11-07  18:18:35     Dinner          TP   \n",
              "416  ORDB01948 2021-11-09  18:18:35     Dinner          TP   \n",
              "425  ORDJ09118 2021-01-10  08:10:08  Breakfast          TP   \n",
              "489  ORDB02855 2021-12-27  20:00:00     Dinner          TP   \n",
              "\n",
              "                                           order_items  order_price  \\\n",
              "49       [('Eggs', 2), ('Cereal', 10), ('Pancake', 6)]       375.50   \n",
              "203  [('Cereal', 10), ('Coffee', 4), ('Pancake', 8)...       526.00   \n",
              "207                       [('Eggs', 4), ('Cereal', 2)]       124.00   \n",
              "251                  [('Pasta', 6), ('Fish&Chips', 3)]       270.00   \n",
              "416   [('Pasta', 2), ('Fish&Chips', 3), ('Salmon', 5)]       365.00   \n",
              "425  [('Eggs', 6), ('Pancake', 9), ('Coffee', 9), (...       455.75   \n",
              "489       [('Pasta', 8), ('Salmon', 4), ('Shrimp', 7)]       762.00   \n",
              "\n",
              "     customer_lat  customer_lon  customerHasloyalty  distance_to_customer_KM  \\\n",
              "49     -37.798836    144.935802                   1                   11.339   \n",
              "203    -37.805284    144.985923                   0                   10.227   \n",
              "207    -37.819445    144.971727                   0                    7.586   \n",
              "251    -37.819263    144.952693                   0                    8.560   \n",
              "416    -37.803960    144.949915                   0                    9.979   \n",
              "425    -37.811549    144.945817                   1                    9.884   \n",
              "489    -37.820492    144.951171                   0                    8.642   \n",
              "\n",
              "     delivery_fee  day_of_week  weekend  time_of_day  \\\n",
              "49       9.648933            2        0            0   \n",
              "203     21.225479            5        1            0   \n",
              "207     11.358277            4        0            0   \n",
              "251     21.463856            6        1            2   \n",
              "416     21.035395            1        0            2   \n",
              "425      7.408200            6        1            0   \n",
              "489     18.284851            0        0            2   \n",
              "\n",
              "     undiscounted_delivery_fee  predicted_delivery_fee  residual  \n",
              "49                   19.297866               13.650264  5.647602  \n",
              "203                  21.225479               14.187577  7.037902  \n",
              "207                  11.358277               10.356371  1.001907  \n",
              "251                  21.463856               14.147939  7.315917  \n",
              "416                  21.035395               13.880071  7.155324  \n",
              "425                  14.816399               13.886537  0.929862  \n",
              "489                  18.284851               12.706627  5.578224  "
            ],
            "text/html": [
              "\n",
              "  <div id=\"df-f71c029d-4014-4b10-a356-d4a4f09303bc\">\n",
              "    <div class=\"colab-df-container\">\n",
              "      <div>\n",
              "<style scoped>\n",
              "    .dataframe tbody tr th:only-of-type {\n",
              "        vertical-align: middle;\n",
              "    }\n",
              "\n",
              "    .dataframe tbody tr th {\n",
              "        vertical-align: top;\n",
              "    }\n",
              "\n",
              "    .dataframe thead th {\n",
              "        text-align: right;\n",
              "    }\n",
              "</style>\n",
              "<table border=\"1\" class=\"dataframe\">\n",
              "  <thead>\n",
              "    <tr style=\"text-align: right;\">\n",
              "      <th></th>\n",
              "      <th>order_id</th>\n",
              "      <th>date</th>\n",
              "      <th>time</th>\n",
              "      <th>order_type</th>\n",
              "      <th>branch_code</th>\n",
              "      <th>order_items</th>\n",
              "      <th>order_price</th>\n",
              "      <th>customer_lat</th>\n",
              "      <th>customer_lon</th>\n",
              "      <th>customerHasloyalty</th>\n",
              "      <th>distance_to_customer_KM</th>\n",
              "      <th>delivery_fee</th>\n",
              "      <th>day_of_week</th>\n",
              "      <th>weekend</th>\n",
              "      <th>time_of_day</th>\n",
              "      <th>undiscounted_delivery_fee</th>\n",
              "      <th>predicted_delivery_fee</th>\n",
              "      <th>residual</th>\n",
              "    </tr>\n",
              "  </thead>\n",
              "  <tbody>\n",
              "    <tr>\n",
              "      <th>49</th>\n",
              "      <td>ORDJ10261</td>\n",
              "      <td>2021-01-13</td>\n",
              "      <td>08:20:16</td>\n",
              "      <td>Breakfast</td>\n",
              "      <td>TP</td>\n",
              "      <td>[('Eggs', 2), ('Cereal', 10), ('Pancake', 6)]</td>\n",
              "      <td>375.50</td>\n",
              "      <td>-37.798836</td>\n",
              "      <td>144.935802</td>\n",
              "      <td>1</td>\n",
              "      <td>11.339</td>\n",
              "      <td>9.648933</td>\n",
              "      <td>2</td>\n",
              "      <td>0</td>\n",
              "      <td>0</td>\n",
              "      <td>19.297866</td>\n",
              "      <td>13.650264</td>\n",
              "      <td>5.647602</td>\n",
              "    </tr>\n",
              "    <tr>\n",
              "      <th>203</th>\n",
              "      <td>ORDB02280</td>\n",
              "      <td>2021-04-03</td>\n",
              "      <td>11:02:32</td>\n",
              "      <td>Breakfast</td>\n",
              "      <td>TP</td>\n",
              "      <td>[('Cereal', 10), ('Coffee', 4), ('Pancake', 8)...</td>\n",
              "      <td>526.00</td>\n",
              "      <td>-37.805284</td>\n",
              "      <td>144.985923</td>\n",
              "      <td>0</td>\n",
              "      <td>10.227</td>\n",
              "      <td>21.225479</td>\n",
              "      <td>5</td>\n",
              "      <td>1</td>\n",
              "      <td>0</td>\n",
              "      <td>21.225479</td>\n",
              "      <td>14.187577</td>\n",
              "      <td>7.037902</td>\n",
              "    </tr>\n",
              "    <tr>\n",
              "      <th>207</th>\n",
              "      <td>ORDB01892</td>\n",
              "      <td>2021-01-22</td>\n",
              "      <td>08:40:33</td>\n",
              "      <td>Breakfast</td>\n",
              "      <td>TP</td>\n",
              "      <td>[('Eggs', 4), ('Cereal', 2)]</td>\n",
              "      <td>124.00</td>\n",
              "      <td>-37.819445</td>\n",
              "      <td>144.971727</td>\n",
              "      <td>0</td>\n",
              "      <td>7.586</td>\n",
              "      <td>11.358277</td>\n",
              "      <td>4</td>\n",
              "      <td>0</td>\n",
              "      <td>0</td>\n",
              "      <td>11.358277</td>\n",
              "      <td>10.356371</td>\n",
              "      <td>1.001907</td>\n",
              "    </tr>\n",
              "    <tr>\n",
              "      <th>251</th>\n",
              "      <td>ORDY03405</td>\n",
              "      <td>2021-11-07</td>\n",
              "      <td>18:18:35</td>\n",
              "      <td>Dinner</td>\n",
              "      <td>TP</td>\n",
              "      <td>[('Pasta', 6), ('Fish&amp;Chips', 3)]</td>\n",
              "      <td>270.00</td>\n",
              "      <td>-37.819263</td>\n",
              "      <td>144.952693</td>\n",
              "      <td>0</td>\n",
              "      <td>8.560</td>\n",
              "      <td>21.463856</td>\n",
              "      <td>6</td>\n",
              "      <td>1</td>\n",
              "      <td>2</td>\n",
              "      <td>21.463856</td>\n",
              "      <td>14.147939</td>\n",
              "      <td>7.315917</td>\n",
              "    </tr>\n",
              "    <tr>\n",
              "      <th>416</th>\n",
              "      <td>ORDB01948</td>\n",
              "      <td>2021-11-09</td>\n",
              "      <td>18:18:35</td>\n",
              "      <td>Dinner</td>\n",
              "      <td>TP</td>\n",
              "      <td>[('Pasta', 2), ('Fish&amp;Chips', 3), ('Salmon', 5)]</td>\n",
              "      <td>365.00</td>\n",
              "      <td>-37.803960</td>\n",
              "      <td>144.949915</td>\n",
              "      <td>0</td>\n",
              "      <td>9.979</td>\n",
              "      <td>21.035395</td>\n",
              "      <td>1</td>\n",
              "      <td>0</td>\n",
              "      <td>2</td>\n",
              "      <td>21.035395</td>\n",
              "      <td>13.880071</td>\n",
              "      <td>7.155324</td>\n",
              "    </tr>\n",
              "    <tr>\n",
              "      <th>425</th>\n",
              "      <td>ORDJ09118</td>\n",
              "      <td>2021-01-10</td>\n",
              "      <td>08:10:08</td>\n",
              "      <td>Breakfast</td>\n",
              "      <td>TP</td>\n",
              "      <td>[('Eggs', 6), ('Pancake', 9), ('Coffee', 9), (...</td>\n",
              "      <td>455.75</td>\n",
              "      <td>-37.811549</td>\n",
              "      <td>144.945817</td>\n",
              "      <td>1</td>\n",
              "      <td>9.884</td>\n",
              "      <td>7.408200</td>\n",
              "      <td>6</td>\n",
              "      <td>1</td>\n",
              "      <td>0</td>\n",
              "      <td>14.816399</td>\n",
              "      <td>13.886537</td>\n",
              "      <td>0.929862</td>\n",
              "    </tr>\n",
              "    <tr>\n",
              "      <th>489</th>\n",
              "      <td>ORDB02855</td>\n",
              "      <td>2021-12-27</td>\n",
              "      <td>20:00:00</td>\n",
              "      <td>Dinner</td>\n",
              "      <td>TP</td>\n",
              "      <td>[('Pasta', 8), ('Salmon', 4), ('Shrimp', 7)]</td>\n",
              "      <td>762.00</td>\n",
              "      <td>-37.820492</td>\n",
              "      <td>144.951171</td>\n",
              "      <td>0</td>\n",
              "      <td>8.642</td>\n",
              "      <td>18.284851</td>\n",
              "      <td>0</td>\n",
              "      <td>0</td>\n",
              "      <td>2</td>\n",
              "      <td>18.284851</td>\n",
              "      <td>12.706627</td>\n",
              "      <td>5.578224</td>\n",
              "    </tr>\n",
              "  </tbody>\n",
              "</table>\n",
              "</div>\n",
              "      <button class=\"colab-df-convert\" onclick=\"convertToInteractive('df-f71c029d-4014-4b10-a356-d4a4f09303bc')\"\n",
              "              title=\"Convert this dataframe to an interactive table.\"\n",
              "              style=\"display:none;\">\n",
              "        \n",
              "  <svg xmlns=\"http://www.w3.org/2000/svg\" height=\"24px\"viewBox=\"0 0 24 24\"\n",
              "       width=\"24px\">\n",
              "    <path d=\"M0 0h24v24H0V0z\" fill=\"none\"/>\n",
              "    <path d=\"M18.56 5.44l.94 2.06.94-2.06 2.06-.94-2.06-.94-.94-2.06-.94 2.06-2.06.94zm-11 1L8.5 8.5l.94-2.06 2.06-.94-2.06-.94L8.5 2.5l-.94 2.06-2.06.94zm10 10l.94 2.06.94-2.06 2.06-.94-2.06-.94-.94-2.06-.94 2.06-2.06.94z\"/><path d=\"M17.41 7.96l-1.37-1.37c-.4-.4-.92-.59-1.43-.59-.52 0-1.04.2-1.43.59L10.3 9.45l-7.72 7.72c-.78.78-.78 2.05 0 2.83L4 21.41c.39.39.9.59 1.41.59.51 0 1.02-.2 1.41-.59l7.78-7.78 2.81-2.81c.8-.78.8-2.07 0-2.86zM5.41 20L4 18.59l7.72-7.72 1.47 1.35L5.41 20z\"/>\n",
              "  </svg>\n",
              "      </button>\n",
              "      \n",
              "  <style>\n",
              "    .colab-df-container {\n",
              "      display:flex;\n",
              "      flex-wrap:wrap;\n",
              "      gap: 12px;\n",
              "    }\n",
              "\n",
              "    .colab-df-convert {\n",
              "      background-color: #E8F0FE;\n",
              "      border: none;\n",
              "      border-radius: 50%;\n",
              "      cursor: pointer;\n",
              "      display: none;\n",
              "      fill: #1967D2;\n",
              "      height: 32px;\n",
              "      padding: 0 0 0 0;\n",
              "      width: 32px;\n",
              "    }\n",
              "\n",
              "    .colab-df-convert:hover {\n",
              "      background-color: #E2EBFA;\n",
              "      box-shadow: 0px 1px 2px rgba(60, 64, 67, 0.3), 0px 1px 3px 1px rgba(60, 64, 67, 0.15);\n",
              "      fill: #174EA6;\n",
              "    }\n",
              "\n",
              "    [theme=dark] .colab-df-convert {\n",
              "      background-color: #3B4455;\n",
              "      fill: #D2E3FC;\n",
              "    }\n",
              "\n",
              "    [theme=dark] .colab-df-convert:hover {\n",
              "      background-color: #434B5C;\n",
              "      box-shadow: 0px 1px 3px 1px rgba(0, 0, 0, 0.15);\n",
              "      filter: drop-shadow(0px 1px 2px rgba(0, 0, 0, 0.3));\n",
              "      fill: #FFFFFF;\n",
              "    }\n",
              "  </style>\n",
              "\n",
              "      <script>\n",
              "        const buttonEl =\n",
              "          document.querySelector('#df-f71c029d-4014-4b10-a356-d4a4f09303bc button.colab-df-convert');\n",
              "        buttonEl.style.display =\n",
              "          google.colab.kernel.accessAllowed ? 'block' : 'none';\n",
              "\n",
              "        async function convertToInteractive(key) {\n",
              "          const element = document.querySelector('#df-f71c029d-4014-4b10-a356-d4a4f09303bc');\n",
              "          const dataTable =\n",
              "            await google.colab.kernel.invokeFunction('convertToInteractive',\n",
              "                                                     [key], {});\n",
              "          if (!dataTable) return;\n",
              "\n",
              "          const docLinkHtml = 'Like what you see? Visit the ' +\n",
              "            '<a target=\"_blank\" href=https://colab.research.google.com/notebooks/data_table.ipynb>data table notebook</a>'\n",
              "            + ' to learn more about interactive tables.';\n",
              "          element.innerHTML = '';\n",
              "          dataTable['output_type'] = 'display_data';\n",
              "          await google.colab.output.renderOutput(dataTable, element);\n",
              "          const docLink = document.createElement('div');\n",
              "          docLink.innerHTML = docLinkHtml;\n",
              "          element.appendChild(docLink);\n",
              "        }\n",
              "      </script>\n",
              "    </div>\n",
              "  </div>\n",
              "  "
            ]
          },
          "metadata": {},
          "execution_count": 634
        }
      ]
    },
    {
      "cell_type": "code",
      "source": [
        "outlier_TP[outlier_TP['residual'] > upper_bound].shape"
      ],
      "metadata": {
        "colab": {
          "base_uri": "https://localhost:8080/"
        },
        "id": "SOGJxK9a4k-p",
        "outputId": "daf0f92e-05eb-412c-f6ef-4e6d5c1c27d5"
      },
      "execution_count": 635,
      "outputs": [
        {
          "output_type": "execute_result",
          "data": {
            "text/plain": [
              "(7, 18)"
            ]
          },
          "metadata": {},
          "execution_count": 635
        }
      ]
    },
    {
      "cell_type": "code",
      "source": [
        "outlier_TP[outlier_TP['residual'] < lower_bound]"
      ],
      "metadata": {
        "colab": {
          "base_uri": "https://localhost:8080/",
          "height": 941
        },
        "id": "RnOHJo-H4xAc",
        "outputId": "cb09a358-1e7b-4bf8-e7d7-32e8119c334b"
      },
      "execution_count": 636,
      "outputs": [
        {
          "output_type": "execute_result",
          "data": {
            "text/plain": [
              "      order_id       date      time order_type branch_code  \\\n",
              "101  ORDB01724 2021-05-02  12:03:22      Lunch          TP   \n",
              "118  ORDY06535 2021-07-17  14:25:21      Lunch          TP   \n",
              "147  ORDY00241 2021-02-28  09:51:32  Breakfast          TP   \n",
              "188  ORDB01350 2021-08-26  15:46:28      Lunch          TP   \n",
              "235  ORDJ07735 2021-12-06  19:19:26     Dinner          TP   \n",
              "335  ORDB01503 2021-01-07  08:10:08  Breakfast          TP   \n",
              "415  ORDJ10874 2021-11-12  18:28:43     Dinner          TP   \n",
              "435  ORDY05479 2021-05-09  12:13:31      Lunch          TP   \n",
              "471  ORDB05334 2021-09-03  16:06:45     Dinner          TP   \n",
              "787  ORDJ10123 2021-01-12  08:20:16  Breakfast          TP   \n",
              "829  ORDY10761 2021-01-04  08:00:00  Breakfast          TP   \n",
              "991  ORDY04212 2021-12-28  20:00:00     Dinner          TP   \n",
              "\n",
              "                                           order_items  order_price  \\\n",
              "101                    [('Burger', 7), ('Chicken', 5)]        377.0   \n",
              "118  [('Salad', 7), ('Steak', 1), ('Chicken', 2), (...        322.4   \n",
              "147                     [('Cereal', 2), ('Coffee', 1)]         45.5   \n",
              "188                    [('Chicken', 2), ('Burger', 2)]        126.0   \n",
              "235  [('Fish&Chips', 5), ('Pasta', 2), ('Salmon', 8...        774.0   \n",
              "335  [('Eggs', 7), ('Pancake', 6), ('Cereal', 10), ...        508.0   \n",
              "415                  [('Pasta', 7), ('Fish&Chips', 8)]        472.5   \n",
              "435        [('Fries', 7), ('Burger', 8), ('Steak', 4)]        512.0   \n",
              "471  [('Fish&Chips', 2), ('Salmon', 2), ('Shrimp', 9)]        638.0   \n",
              "787                    [('Pancake', 2), ('Cereal', 7)]        184.5   \n",
              "829       [('Cereal', 6), ('Pancake', 6), ('Eggs', 7)]        400.5   \n",
              "991  [('Salmon', 4), ('Pasta', 2), ('Shrimp', 3), (...        626.0   \n",
              "\n",
              "     customer_lat  customer_lon  customerHasloyalty  distance_to_customer_KM  \\\n",
              "101    -37.805026    144.983680                   0                   10.152   \n",
              "118    -37.823893    144.984162                   0                    8.798   \n",
              "147    -37.822332    144.955342                   0                    8.222   \n",
              "188    -37.822707    145.014073                   0                   11.891   \n",
              "235    -37.814579    144.953850                   0                    8.706   \n",
              "335    -37.825297    144.947053                   1                    8.873   \n",
              "415    -37.800061    144.961166                   0                    9.746   \n",
              "435    -37.825099    144.956903                   0                    8.089   \n",
              "471    -37.817576    144.967141                   0                    7.724   \n",
              "787    -37.809787    144.931847                   1                   10.968   \n",
              "829    -37.805988    144.957084                   1                    9.188   \n",
              "991    -37.803123    144.963575                   0                    9.401   \n",
              "\n",
              "     delivery_fee  day_of_week  weekend  time_of_day  \\\n",
              "101      7.396220            6        1            1   \n",
              "118     12.791975            5        1            1   \n",
              "147      6.284596            6        1            0   \n",
              "188      7.310313            3        0            1   \n",
              "235      6.358821            0        0            2   \n",
              "335      5.386380            3        0            0   \n",
              "415      6.926858            4        0            2   \n",
              "435      6.741875            6        1            1   \n",
              "471      6.140315            4        0            2   \n",
              "787      6.310007            1        0            0   \n",
              "829      5.398197            0        0            0   \n",
              "991     12.685602            1        0            2   \n",
              "\n",
              "     undiscounted_delivery_fee  predicted_delivery_fee  residual  \n",
              "101                   7.396220               14.833471 -7.437251  \n",
              "118                  12.791975               13.645106 -0.853131  \n",
              "147                   6.284596               12.427850 -6.143254  \n",
              "188                   7.310313               14.846456 -7.536143  \n",
              "235                   6.358821               12.762798 -6.403977  \n",
              "335                  10.772759               11.485932 -0.713173  \n",
              "415                   6.926858               13.675574 -6.748716  \n",
              "435                   6.741875               13.022838 -6.280963  \n",
              "471                   6.140315               11.900926 -5.760611  \n",
              "787                  12.620014               13.324649 -0.704635  \n",
              "829                  10.796393               11.762397 -0.966004  \n",
              "991                  12.685602               13.372778 -0.687176  "
            ],
            "text/html": [
              "\n",
              "  <div id=\"df-3aee4339-7cfc-44c4-a814-949bc399e14e\">\n",
              "    <div class=\"colab-df-container\">\n",
              "      <div>\n",
              "<style scoped>\n",
              "    .dataframe tbody tr th:only-of-type {\n",
              "        vertical-align: middle;\n",
              "    }\n",
              "\n",
              "    .dataframe tbody tr th {\n",
              "        vertical-align: top;\n",
              "    }\n",
              "\n",
              "    .dataframe thead th {\n",
              "        text-align: right;\n",
              "    }\n",
              "</style>\n",
              "<table border=\"1\" class=\"dataframe\">\n",
              "  <thead>\n",
              "    <tr style=\"text-align: right;\">\n",
              "      <th></th>\n",
              "      <th>order_id</th>\n",
              "      <th>date</th>\n",
              "      <th>time</th>\n",
              "      <th>order_type</th>\n",
              "      <th>branch_code</th>\n",
              "      <th>order_items</th>\n",
              "      <th>order_price</th>\n",
              "      <th>customer_lat</th>\n",
              "      <th>customer_lon</th>\n",
              "      <th>customerHasloyalty</th>\n",
              "      <th>distance_to_customer_KM</th>\n",
              "      <th>delivery_fee</th>\n",
              "      <th>day_of_week</th>\n",
              "      <th>weekend</th>\n",
              "      <th>time_of_day</th>\n",
              "      <th>undiscounted_delivery_fee</th>\n",
              "      <th>predicted_delivery_fee</th>\n",
              "      <th>residual</th>\n",
              "    </tr>\n",
              "  </thead>\n",
              "  <tbody>\n",
              "    <tr>\n",
              "      <th>101</th>\n",
              "      <td>ORDB01724</td>\n",
              "      <td>2021-05-02</td>\n",
              "      <td>12:03:22</td>\n",
              "      <td>Lunch</td>\n",
              "      <td>TP</td>\n",
              "      <td>[('Burger', 7), ('Chicken', 5)]</td>\n",
              "      <td>377.0</td>\n",
              "      <td>-37.805026</td>\n",
              "      <td>144.983680</td>\n",
              "      <td>0</td>\n",
              "      <td>10.152</td>\n",
              "      <td>7.396220</td>\n",
              "      <td>6</td>\n",
              "      <td>1</td>\n",
              "      <td>1</td>\n",
              "      <td>7.396220</td>\n",
              "      <td>14.833471</td>\n",
              "      <td>-7.437251</td>\n",
              "    </tr>\n",
              "    <tr>\n",
              "      <th>118</th>\n",
              "      <td>ORDY06535</td>\n",
              "      <td>2021-07-17</td>\n",
              "      <td>14:25:21</td>\n",
              "      <td>Lunch</td>\n",
              "      <td>TP</td>\n",
              "      <td>[('Salad', 7), ('Steak', 1), ('Chicken', 2), (...</td>\n",
              "      <td>322.4</td>\n",
              "      <td>-37.823893</td>\n",
              "      <td>144.984162</td>\n",
              "      <td>0</td>\n",
              "      <td>8.798</td>\n",
              "      <td>12.791975</td>\n",
              "      <td>5</td>\n",
              "      <td>1</td>\n",
              "      <td>1</td>\n",
              "      <td>12.791975</td>\n",
              "      <td>13.645106</td>\n",
              "      <td>-0.853131</td>\n",
              "    </tr>\n",
              "    <tr>\n",
              "      <th>147</th>\n",
              "      <td>ORDY00241</td>\n",
              "      <td>2021-02-28</td>\n",
              "      <td>09:51:32</td>\n",
              "      <td>Breakfast</td>\n",
              "      <td>TP</td>\n",
              "      <td>[('Cereal', 2), ('Coffee', 1)]</td>\n",
              "      <td>45.5</td>\n",
              "      <td>-37.822332</td>\n",
              "      <td>144.955342</td>\n",
              "      <td>0</td>\n",
              "      <td>8.222</td>\n",
              "      <td>6.284596</td>\n",
              "      <td>6</td>\n",
              "      <td>1</td>\n",
              "      <td>0</td>\n",
              "      <td>6.284596</td>\n",
              "      <td>12.427850</td>\n",
              "      <td>-6.143254</td>\n",
              "    </tr>\n",
              "    <tr>\n",
              "      <th>188</th>\n",
              "      <td>ORDB01350</td>\n",
              "      <td>2021-08-26</td>\n",
              "      <td>15:46:28</td>\n",
              "      <td>Lunch</td>\n",
              "      <td>TP</td>\n",
              "      <td>[('Chicken', 2), ('Burger', 2)]</td>\n",
              "      <td>126.0</td>\n",
              "      <td>-37.822707</td>\n",
              "      <td>145.014073</td>\n",
              "      <td>0</td>\n",
              "      <td>11.891</td>\n",
              "      <td>7.310313</td>\n",
              "      <td>3</td>\n",
              "      <td>0</td>\n",
              "      <td>1</td>\n",
              "      <td>7.310313</td>\n",
              "      <td>14.846456</td>\n",
              "      <td>-7.536143</td>\n",
              "    </tr>\n",
              "    <tr>\n",
              "      <th>235</th>\n",
              "      <td>ORDJ07735</td>\n",
              "      <td>2021-12-06</td>\n",
              "      <td>19:19:26</td>\n",
              "      <td>Dinner</td>\n",
              "      <td>TP</td>\n",
              "      <td>[('Fish&amp;Chips', 5), ('Pasta', 2), ('Salmon', 8...</td>\n",
              "      <td>774.0</td>\n",
              "      <td>-37.814579</td>\n",
              "      <td>144.953850</td>\n",
              "      <td>0</td>\n",
              "      <td>8.706</td>\n",
              "      <td>6.358821</td>\n",
              "      <td>0</td>\n",
              "      <td>0</td>\n",
              "      <td>2</td>\n",
              "      <td>6.358821</td>\n",
              "      <td>12.762798</td>\n",
              "      <td>-6.403977</td>\n",
              "    </tr>\n",
              "    <tr>\n",
              "      <th>335</th>\n",
              "      <td>ORDB01503</td>\n",
              "      <td>2021-01-07</td>\n",
              "      <td>08:10:08</td>\n",
              "      <td>Breakfast</td>\n",
              "      <td>TP</td>\n",
              "      <td>[('Eggs', 7), ('Pancake', 6), ('Cereal', 10), ...</td>\n",
              "      <td>508.0</td>\n",
              "      <td>-37.825297</td>\n",
              "      <td>144.947053</td>\n",
              "      <td>1</td>\n",
              "      <td>8.873</td>\n",
              "      <td>5.386380</td>\n",
              "      <td>3</td>\n",
              "      <td>0</td>\n",
              "      <td>0</td>\n",
              "      <td>10.772759</td>\n",
              "      <td>11.485932</td>\n",
              "      <td>-0.713173</td>\n",
              "    </tr>\n",
              "    <tr>\n",
              "      <th>415</th>\n",
              "      <td>ORDJ10874</td>\n",
              "      <td>2021-11-12</td>\n",
              "      <td>18:28:43</td>\n",
              "      <td>Dinner</td>\n",
              "      <td>TP</td>\n",
              "      <td>[('Pasta', 7), ('Fish&amp;Chips', 8)]</td>\n",
              "      <td>472.5</td>\n",
              "      <td>-37.800061</td>\n",
              "      <td>144.961166</td>\n",
              "      <td>0</td>\n",
              "      <td>9.746</td>\n",
              "      <td>6.926858</td>\n",
              "      <td>4</td>\n",
              "      <td>0</td>\n",
              "      <td>2</td>\n",
              "      <td>6.926858</td>\n",
              "      <td>13.675574</td>\n",
              "      <td>-6.748716</td>\n",
              "    </tr>\n",
              "    <tr>\n",
              "      <th>435</th>\n",
              "      <td>ORDY05479</td>\n",
              "      <td>2021-05-09</td>\n",
              "      <td>12:13:31</td>\n",
              "      <td>Lunch</td>\n",
              "      <td>TP</td>\n",
              "      <td>[('Fries', 7), ('Burger', 8), ('Steak', 4)]</td>\n",
              "      <td>512.0</td>\n",
              "      <td>-37.825099</td>\n",
              "      <td>144.956903</td>\n",
              "      <td>0</td>\n",
              "      <td>8.089</td>\n",
              "      <td>6.741875</td>\n",
              "      <td>6</td>\n",
              "      <td>1</td>\n",
              "      <td>1</td>\n",
              "      <td>6.741875</td>\n",
              "      <td>13.022838</td>\n",
              "      <td>-6.280963</td>\n",
              "    </tr>\n",
              "    <tr>\n",
              "      <th>471</th>\n",
              "      <td>ORDB05334</td>\n",
              "      <td>2021-09-03</td>\n",
              "      <td>16:06:45</td>\n",
              "      <td>Dinner</td>\n",
              "      <td>TP</td>\n",
              "      <td>[('Fish&amp;Chips', 2), ('Salmon', 2), ('Shrimp', 9)]</td>\n",
              "      <td>638.0</td>\n",
              "      <td>-37.817576</td>\n",
              "      <td>144.967141</td>\n",
              "      <td>0</td>\n",
              "      <td>7.724</td>\n",
              "      <td>6.140315</td>\n",
              "      <td>4</td>\n",
              "      <td>0</td>\n",
              "      <td>2</td>\n",
              "      <td>6.140315</td>\n",
              "      <td>11.900926</td>\n",
              "      <td>-5.760611</td>\n",
              "    </tr>\n",
              "    <tr>\n",
              "      <th>787</th>\n",
              "      <td>ORDJ10123</td>\n",
              "      <td>2021-01-12</td>\n",
              "      <td>08:20:16</td>\n",
              "      <td>Breakfast</td>\n",
              "      <td>TP</td>\n",
              "      <td>[('Pancake', 2), ('Cereal', 7)]</td>\n",
              "      <td>184.5</td>\n",
              "      <td>-37.809787</td>\n",
              "      <td>144.931847</td>\n",
              "      <td>1</td>\n",
              "      <td>10.968</td>\n",
              "      <td>6.310007</td>\n",
              "      <td>1</td>\n",
              "      <td>0</td>\n",
              "      <td>0</td>\n",
              "      <td>12.620014</td>\n",
              "      <td>13.324649</td>\n",
              "      <td>-0.704635</td>\n",
              "    </tr>\n",
              "    <tr>\n",
              "      <th>829</th>\n",
              "      <td>ORDY10761</td>\n",
              "      <td>2021-01-04</td>\n",
              "      <td>08:00:00</td>\n",
              "      <td>Breakfast</td>\n",
              "      <td>TP</td>\n",
              "      <td>[('Cereal', 6), ('Pancake', 6), ('Eggs', 7)]</td>\n",
              "      <td>400.5</td>\n",
              "      <td>-37.805988</td>\n",
              "      <td>144.957084</td>\n",
              "      <td>1</td>\n",
              "      <td>9.188</td>\n",
              "      <td>5.398197</td>\n",
              "      <td>0</td>\n",
              "      <td>0</td>\n",
              "      <td>0</td>\n",
              "      <td>10.796393</td>\n",
              "      <td>11.762397</td>\n",
              "      <td>-0.966004</td>\n",
              "    </tr>\n",
              "    <tr>\n",
              "      <th>991</th>\n",
              "      <td>ORDY04212</td>\n",
              "      <td>2021-12-28</td>\n",
              "      <td>20:00:00</td>\n",
              "      <td>Dinner</td>\n",
              "      <td>TP</td>\n",
              "      <td>[('Salmon', 4), ('Pasta', 2), ('Shrimp', 3), (...</td>\n",
              "      <td>626.0</td>\n",
              "      <td>-37.803123</td>\n",
              "      <td>144.963575</td>\n",
              "      <td>0</td>\n",
              "      <td>9.401</td>\n",
              "      <td>12.685602</td>\n",
              "      <td>1</td>\n",
              "      <td>0</td>\n",
              "      <td>2</td>\n",
              "      <td>12.685602</td>\n",
              "      <td>13.372778</td>\n",
              "      <td>-0.687176</td>\n",
              "    </tr>\n",
              "  </tbody>\n",
              "</table>\n",
              "</div>\n",
              "      <button class=\"colab-df-convert\" onclick=\"convertToInteractive('df-3aee4339-7cfc-44c4-a814-949bc399e14e')\"\n",
              "              title=\"Convert this dataframe to an interactive table.\"\n",
              "              style=\"display:none;\">\n",
              "        \n",
              "  <svg xmlns=\"http://www.w3.org/2000/svg\" height=\"24px\"viewBox=\"0 0 24 24\"\n",
              "       width=\"24px\">\n",
              "    <path d=\"M0 0h24v24H0V0z\" fill=\"none\"/>\n",
              "    <path d=\"M18.56 5.44l.94 2.06.94-2.06 2.06-.94-2.06-.94-.94-2.06-.94 2.06-2.06.94zm-11 1L8.5 8.5l.94-2.06 2.06-.94-2.06-.94L8.5 2.5l-.94 2.06-2.06.94zm10 10l.94 2.06.94-2.06 2.06-.94-2.06-.94-.94-2.06-.94 2.06-2.06.94z\"/><path d=\"M17.41 7.96l-1.37-1.37c-.4-.4-.92-.59-1.43-.59-.52 0-1.04.2-1.43.59L10.3 9.45l-7.72 7.72c-.78.78-.78 2.05 0 2.83L4 21.41c.39.39.9.59 1.41.59.51 0 1.02-.2 1.41-.59l7.78-7.78 2.81-2.81c.8-.78.8-2.07 0-2.86zM5.41 20L4 18.59l7.72-7.72 1.47 1.35L5.41 20z\"/>\n",
              "  </svg>\n",
              "      </button>\n",
              "      \n",
              "  <style>\n",
              "    .colab-df-container {\n",
              "      display:flex;\n",
              "      flex-wrap:wrap;\n",
              "      gap: 12px;\n",
              "    }\n",
              "\n",
              "    .colab-df-convert {\n",
              "      background-color: #E8F0FE;\n",
              "      border: none;\n",
              "      border-radius: 50%;\n",
              "      cursor: pointer;\n",
              "      display: none;\n",
              "      fill: #1967D2;\n",
              "      height: 32px;\n",
              "      padding: 0 0 0 0;\n",
              "      width: 32px;\n",
              "    }\n",
              "\n",
              "    .colab-df-convert:hover {\n",
              "      background-color: #E2EBFA;\n",
              "      box-shadow: 0px 1px 2px rgba(60, 64, 67, 0.3), 0px 1px 3px 1px rgba(60, 64, 67, 0.15);\n",
              "      fill: #174EA6;\n",
              "    }\n",
              "\n",
              "    [theme=dark] .colab-df-convert {\n",
              "      background-color: #3B4455;\n",
              "      fill: #D2E3FC;\n",
              "    }\n",
              "\n",
              "    [theme=dark] .colab-df-convert:hover {\n",
              "      background-color: #434B5C;\n",
              "      box-shadow: 0px 1px 3px 1px rgba(0, 0, 0, 0.15);\n",
              "      filter: drop-shadow(0px 1px 2px rgba(0, 0, 0, 0.3));\n",
              "      fill: #FFFFFF;\n",
              "    }\n",
              "  </style>\n",
              "\n",
              "      <script>\n",
              "        const buttonEl =\n",
              "          document.querySelector('#df-3aee4339-7cfc-44c4-a814-949bc399e14e button.colab-df-convert');\n",
              "        buttonEl.style.display =\n",
              "          google.colab.kernel.accessAllowed ? 'block' : 'none';\n",
              "\n",
              "        async function convertToInteractive(key) {\n",
              "          const element = document.querySelector('#df-3aee4339-7cfc-44c4-a814-949bc399e14e');\n",
              "          const dataTable =\n",
              "            await google.colab.kernel.invokeFunction('convertToInteractive',\n",
              "                                                     [key], {});\n",
              "          if (!dataTable) return;\n",
              "\n",
              "          const docLinkHtml = 'Like what you see? Visit the ' +\n",
              "            '<a target=\"_blank\" href=https://colab.research.google.com/notebooks/data_table.ipynb>data table notebook</a>'\n",
              "            + ' to learn more about interactive tables.';\n",
              "          element.innerHTML = '';\n",
              "          dataTable['output_type'] = 'display_data';\n",
              "          await google.colab.output.renderOutput(dataTable, element);\n",
              "          const docLink = document.createElement('div');\n",
              "          docLink.innerHTML = docLinkHtml;\n",
              "          element.appendChild(docLink);\n",
              "        }\n",
              "      </script>\n",
              "    </div>\n",
              "  </div>\n",
              "  "
            ]
          },
          "metadata": {},
          "execution_count": 636
        }
      ]
    },
    {
      "cell_type": "code",
      "source": [
        "outlier_TP[outlier_TP['residual'] < lower_bound].shape"
      ],
      "metadata": {
        "colab": {
          "base_uri": "https://localhost:8080/"
        },
        "id": "6AnznP1q42G8",
        "outputId": "164412d9-c4d9-447b-cb33-f18056f714c0"
      },
      "execution_count": 637,
      "outputs": [
        {
          "output_type": "execute_result",
          "data": {
            "text/plain": [
              "(12, 18)"
            ]
          },
          "metadata": {},
          "execution_count": 637
        }
      ]
    },
    {
      "cell_type": "markdown",
      "source": [
        "Now we can remove these outliers and check the model again"
      ],
      "metadata": {
        "id": "e_qzHibxyAfJ"
      }
    },
    {
      "cell_type": "code",
      "source": [
        "outlier_TP = outlier_TP[outlier_TP['residual'] < upper_bound]\n",
        "#need to fit model again, so drop the column\n",
        "outlier_TP = outlier_TP[outlier_TP['residual'] > lower_bound]\n",
        "\n",
        "print(outlier_TP.shape)"
      ],
      "metadata": {
        "colab": {
          "base_uri": "https://localhost:8080/"
        },
        "id": "nx9PVfXw5LwW",
        "outputId": "6c851c84-0a51-4c20-9387-48b124198250"
      },
      "execution_count": 638,
      "outputs": [
        {
          "output_type": "stream",
          "name": "stdout",
          "text": [
            "(322, 18)\n"
          ]
        }
      ]
    },
    {
      "cell_type": "markdown",
      "source": [
        "Fit the model again"
      ],
      "metadata": {
        "id": "B9_ZMZ_Q5r8a"
      }
    },
    {
      "cell_type": "code",
      "source": [
        "# Y: delivery fee is target variable\n",
        "y = outlier_TP['undiscounted_delivery_fee']\n",
        "\n",
        "# X: 3 independent variables\n",
        "x = outlier_TP[['time_of_day', 'distance_to_customer_KM', 'weekend']]\n",
        "\n",
        "# Encode categorical data\n",
        "x = pd.get_dummies(x)\n",
        "x"
      ],
      "metadata": {
        "colab": {
          "base_uri": "https://localhost:8080/",
          "height": 424
        },
        "id": "TCJZ8IBU5tfm",
        "outputId": "74e71ad4-c8c4-429c-ff3c-f199c8b9caa0"
      },
      "execution_count": 639,
      "outputs": [
        {
          "output_type": "execute_result",
          "data": {
            "text/plain": [
              "     time_of_day  distance_to_customer_KM  weekend\n",
              "1              1                   10.083        1\n",
              "5              0                    9.258        0\n",
              "8              2                    9.989        0\n",
              "15             0                   11.396        0\n",
              "20             1                    9.857        1\n",
              "..           ...                      ...      ...\n",
              "972            2                    9.720        1\n",
              "984            2                   10.044        0\n",
              "989            0                   11.346        1\n",
              "995            2                   11.578        1\n",
              "999            1                    8.219        0\n",
              "\n",
              "[322 rows x 3 columns]"
            ],
            "text/html": [
              "\n",
              "  <div id=\"df-e8e11db9-b133-49f4-ac33-5a368a84b0f8\">\n",
              "    <div class=\"colab-df-container\">\n",
              "      <div>\n",
              "<style scoped>\n",
              "    .dataframe tbody tr th:only-of-type {\n",
              "        vertical-align: middle;\n",
              "    }\n",
              "\n",
              "    .dataframe tbody tr th {\n",
              "        vertical-align: top;\n",
              "    }\n",
              "\n",
              "    .dataframe thead th {\n",
              "        text-align: right;\n",
              "    }\n",
              "</style>\n",
              "<table border=\"1\" class=\"dataframe\">\n",
              "  <thead>\n",
              "    <tr style=\"text-align: right;\">\n",
              "      <th></th>\n",
              "      <th>time_of_day</th>\n",
              "      <th>distance_to_customer_KM</th>\n",
              "      <th>weekend</th>\n",
              "    </tr>\n",
              "  </thead>\n",
              "  <tbody>\n",
              "    <tr>\n",
              "      <th>1</th>\n",
              "      <td>1</td>\n",
              "      <td>10.083</td>\n",
              "      <td>1</td>\n",
              "    </tr>\n",
              "    <tr>\n",
              "      <th>5</th>\n",
              "      <td>0</td>\n",
              "      <td>9.258</td>\n",
              "      <td>0</td>\n",
              "    </tr>\n",
              "    <tr>\n",
              "      <th>8</th>\n",
              "      <td>2</td>\n",
              "      <td>9.989</td>\n",
              "      <td>0</td>\n",
              "    </tr>\n",
              "    <tr>\n",
              "      <th>15</th>\n",
              "      <td>0</td>\n",
              "      <td>11.396</td>\n",
              "      <td>0</td>\n",
              "    </tr>\n",
              "    <tr>\n",
              "      <th>20</th>\n",
              "      <td>1</td>\n",
              "      <td>9.857</td>\n",
              "      <td>1</td>\n",
              "    </tr>\n",
              "    <tr>\n",
              "      <th>...</th>\n",
              "      <td>...</td>\n",
              "      <td>...</td>\n",
              "      <td>...</td>\n",
              "    </tr>\n",
              "    <tr>\n",
              "      <th>972</th>\n",
              "      <td>2</td>\n",
              "      <td>9.720</td>\n",
              "      <td>1</td>\n",
              "    </tr>\n",
              "    <tr>\n",
              "      <th>984</th>\n",
              "      <td>2</td>\n",
              "      <td>10.044</td>\n",
              "      <td>0</td>\n",
              "    </tr>\n",
              "    <tr>\n",
              "      <th>989</th>\n",
              "      <td>0</td>\n",
              "      <td>11.346</td>\n",
              "      <td>1</td>\n",
              "    </tr>\n",
              "    <tr>\n",
              "      <th>995</th>\n",
              "      <td>2</td>\n",
              "      <td>11.578</td>\n",
              "      <td>1</td>\n",
              "    </tr>\n",
              "    <tr>\n",
              "      <th>999</th>\n",
              "      <td>1</td>\n",
              "      <td>8.219</td>\n",
              "      <td>0</td>\n",
              "    </tr>\n",
              "  </tbody>\n",
              "</table>\n",
              "<p>322 rows × 3 columns</p>\n",
              "</div>\n",
              "      <button class=\"colab-df-convert\" onclick=\"convertToInteractive('df-e8e11db9-b133-49f4-ac33-5a368a84b0f8')\"\n",
              "              title=\"Convert this dataframe to an interactive table.\"\n",
              "              style=\"display:none;\">\n",
              "        \n",
              "  <svg xmlns=\"http://www.w3.org/2000/svg\" height=\"24px\"viewBox=\"0 0 24 24\"\n",
              "       width=\"24px\">\n",
              "    <path d=\"M0 0h24v24H0V0z\" fill=\"none\"/>\n",
              "    <path d=\"M18.56 5.44l.94 2.06.94-2.06 2.06-.94-2.06-.94-.94-2.06-.94 2.06-2.06.94zm-11 1L8.5 8.5l.94-2.06 2.06-.94-2.06-.94L8.5 2.5l-.94 2.06-2.06.94zm10 10l.94 2.06.94-2.06 2.06-.94-2.06-.94-.94-2.06-.94 2.06-2.06.94z\"/><path d=\"M17.41 7.96l-1.37-1.37c-.4-.4-.92-.59-1.43-.59-.52 0-1.04.2-1.43.59L10.3 9.45l-7.72 7.72c-.78.78-.78 2.05 0 2.83L4 21.41c.39.39.9.59 1.41.59.51 0 1.02-.2 1.41-.59l7.78-7.78 2.81-2.81c.8-.78.8-2.07 0-2.86zM5.41 20L4 18.59l7.72-7.72 1.47 1.35L5.41 20z\"/>\n",
              "  </svg>\n",
              "      </button>\n",
              "      \n",
              "  <style>\n",
              "    .colab-df-container {\n",
              "      display:flex;\n",
              "      flex-wrap:wrap;\n",
              "      gap: 12px;\n",
              "    }\n",
              "\n",
              "    .colab-df-convert {\n",
              "      background-color: #E8F0FE;\n",
              "      border: none;\n",
              "      border-radius: 50%;\n",
              "      cursor: pointer;\n",
              "      display: none;\n",
              "      fill: #1967D2;\n",
              "      height: 32px;\n",
              "      padding: 0 0 0 0;\n",
              "      width: 32px;\n",
              "    }\n",
              "\n",
              "    .colab-df-convert:hover {\n",
              "      background-color: #E2EBFA;\n",
              "      box-shadow: 0px 1px 2px rgba(60, 64, 67, 0.3), 0px 1px 3px 1px rgba(60, 64, 67, 0.15);\n",
              "      fill: #174EA6;\n",
              "    }\n",
              "\n",
              "    [theme=dark] .colab-df-convert {\n",
              "      background-color: #3B4455;\n",
              "      fill: #D2E3FC;\n",
              "    }\n",
              "\n",
              "    [theme=dark] .colab-df-convert:hover {\n",
              "      background-color: #434B5C;\n",
              "      box-shadow: 0px 1px 3px 1px rgba(0, 0, 0, 0.15);\n",
              "      filter: drop-shadow(0px 1px 2px rgba(0, 0, 0, 0.3));\n",
              "      fill: #FFFFFF;\n",
              "    }\n",
              "  </style>\n",
              "\n",
              "      <script>\n",
              "        const buttonEl =\n",
              "          document.querySelector('#df-e8e11db9-b133-49f4-ac33-5a368a84b0f8 button.colab-df-convert');\n",
              "        buttonEl.style.display =\n",
              "          google.colab.kernel.accessAllowed ? 'block' : 'none';\n",
              "\n",
              "        async function convertToInteractive(key) {\n",
              "          const element = document.querySelector('#df-e8e11db9-b133-49f4-ac33-5a368a84b0f8');\n",
              "          const dataTable =\n",
              "            await google.colab.kernel.invokeFunction('convertToInteractive',\n",
              "                                                     [key], {});\n",
              "          if (!dataTable) return;\n",
              "\n",
              "          const docLinkHtml = 'Like what you see? Visit the ' +\n",
              "            '<a target=\"_blank\" href=https://colab.research.google.com/notebooks/data_table.ipynb>data table notebook</a>'\n",
              "            + ' to learn more about interactive tables.';\n",
              "          element.innerHTML = '';\n",
              "          dataTable['output_type'] = 'display_data';\n",
              "          await google.colab.output.renderOutput(dataTable, element);\n",
              "          const docLink = document.createElement('div');\n",
              "          docLink.innerHTML = docLinkHtml;\n",
              "          element.appendChild(docLink);\n",
              "        }\n",
              "      </script>\n",
              "    </div>\n",
              "  </div>\n",
              "  "
            ]
          },
          "metadata": {},
          "execution_count": 639
        }
      ]
    },
    {
      "cell_type": "code",
      "source": [
        "# delivery fee and the other variables\n",
        "linear_reg = linear_regression_model(x, y)\n",
        "predict_variables = outlier_TP[['time_of_day', 'distance_to_customer_KM', 'weekend']]\n",
        "# predict new calculated delivery fee\n",
        "predict_delivery_fee = linear_prediction_model(linear_reg, predict_variables)\n",
        "# add the column to the dataframe\n",
        "outlier_TP['undiscounted_delivery_fee'] = predict_delivery_fee"
      ],
      "metadata": {
        "colab": {
          "base_uri": "https://localhost:8080/"
        },
        "id": "iZV8PJFY51r4",
        "outputId": "f981fde2-177e-4445-99cb-03391e7f4fed"
      },
      "execution_count": 640,
      "outputs": [
        {
          "output_type": "stream",
          "name": "stdout",
          "text": [
            "Training R2 0.9654401031610355\n",
            "Testing R2 0.9479802632718567\n"
          ]
        }
      ]
    },
    {
      "cell_type": "markdown",
      "source": [
        "We can see for the TP Branch Code, that our R^2 value has now risen to 0.96 which is much better than it was previously, now we can do the same for the other 2 branches and see if we get similar results"
      ],
      "metadata": {
        "id": "IaEqSFxq_kBz"
      }
    },
    {
      "cell_type": "markdown",
      "source": [
        "#### 3.4.2 BK Branch"
      ],
      "metadata": {
        "id": "g4cFy-A8_xka"
      }
    },
    {
      "cell_type": "code",
      "source": [
        "# Get residuals based on the difference between true and predicted values\n",
        "outlier_BK['residual'] = outlier_BK.apply(lambda x: (x['undiscounted_delivery_fee']-x['predicted_delivery_fee']), axis=1)"
      ],
      "metadata": {
        "colab": {
          "base_uri": "https://localhost:8080/"
        },
        "id": "3affW8az__lA",
        "outputId": "46108b7d-076f-46e4-87af-d0898bbd4b24"
      },
      "execution_count": 641,
      "outputs": [
        {
          "output_type": "stream",
          "name": "stderr",
          "text": [
            "/usr/local/lib/python3.7/dist-packages/ipykernel_launcher.py:2: SettingWithCopyWarning: \n",
            "A value is trying to be set on a copy of a slice from a DataFrame.\n",
            "Try using .loc[row_indexer,col_indexer] = value instead\n",
            "\n",
            "See the caveats in the documentation: https://pandas.pydata.org/pandas-docs/stable/user_guide/indexing.html#returning-a-view-versus-a-copy\n",
            "  \n"
          ]
        }
      ]
    },
    {
      "cell_type": "code",
      "source": [
        "# Boxplot for residuals\n",
        "outlier_BK.boxplot(column='residual')"
      ],
      "metadata": {
        "colab": {
          "base_uri": "https://localhost:8080/",
          "height": 282
        },
        "id": "Zwk-jmm6ANSU",
        "outputId": "726df742-4296-47aa-8f58-8d81fca6525c"
      },
      "execution_count": 642,
      "outputs": [
        {
          "output_type": "execute_result",
          "data": {
            "text/plain": [
              "<matplotlib.axes._subplots.AxesSubplot at 0x7f8af44aea50>"
            ]
          },
          "metadata": {},
          "execution_count": 642
        },
        {
          "output_type": "display_data",
          "data": {
            "text/plain": [
              "<Figure size 432x288 with 1 Axes>"
            ],
            "image/png": "[encoded data removed]"
          },
          "metadata": {
            "needs_background": "light"
          }
        }
      ]
    },
    {
      "cell_type": "code",
      "source": [
        "outlier_BK.residual.describe()"
      ],
      "metadata": {
        "colab": {
          "base_uri": "https://localhost:8080/"
        },
        "id": "rXZm7J-VAQtX",
        "outputId": "fa0b8c68-7cb9-4c3b-dbe8-2b690a912261"
      },
      "execution_count": 643,
      "outputs": [
        {
          "output_type": "execute_result",
          "data": {
            "text/plain": [
              "count    341.000000\n",
              "mean      -0.039085\n",
              "std        1.410899\n",
              "min       -7.929899\n",
              "25%       -0.248336\n",
              "50%       -0.008070\n",
              "75%        0.184231\n",
              "max        8.983584\n",
              "Name: residual, dtype: float64"
            ]
          },
          "metadata": {},
          "execution_count": 643
        }
      ]
    },
    {
      "cell_type": "code",
      "source": [
        "# Create lower and upper bounds\n",
        "lower_boundBK = outlier_BK.residual.quantile(0.25) - 1.5*(outlier_BK.residual.quantile(0.75) - outlier_BK.residual.quantile(0.25))"
      ],
      "metadata": {
        "id": "QoPk0khDAXlX"
      },
      "execution_count": 644,
      "outputs": []
    },
    {
      "cell_type": "code",
      "source": [
        "upper_boundBK = outlier_BK.residual.quantile(0.75) + 1.5*(outlier_BK.residual.quantile(0.75) - outlier_BK.residual.quantile(0.25))"
      ],
      "metadata": {
        "id": "B0N4dUxwAhVh"
      },
      "execution_count": 645,
      "outputs": []
    },
    {
      "cell_type": "code",
      "source": [
        "# Remove outliers\n",
        "outlier_BK = outlier_BK[outlier_BK['residual'] < upper_boundBK]\n",
        "outlier_BK = outlier_BK[outlier_BK['residual'] > lower_boundBK]\n",
        "\n",
        "print(outlier_BK.shape)"
      ],
      "metadata": {
        "colab": {
          "base_uri": "https://localhost:8080/"
        },
        "id": "KODXuzOtAnEp",
        "outputId": "2383fbba-3164-412c-c3d3-bb146c52155f"
      },
      "execution_count": 646,
      "outputs": [
        {
          "output_type": "stream",
          "name": "stdout",
          "text": [
            "(321, 18)\n"
          ]
        }
      ]
    },
    {
      "cell_type": "markdown",
      "source": [
        "Re-run the model "
      ],
      "metadata": {
        "id": "ykkTSLVtrzWA"
      }
    },
    {
      "cell_type": "code",
      "source": [
        "# Y: delivery fee is target variable\n",
        "y = outlier_BK['undiscounted_delivery_fee']\n",
        "\n",
        "# X: 3 independent variables\n",
        "x = outlier_BK[['time_of_day', 'distance_to_customer_KM', 'weekend']]\n",
        "\n",
        "# Encode categorical data\n",
        "x = pd.get_dummies(x)\n",
        "x"
      ],
      "metadata": {
        "colab": {
          "base_uri": "https://localhost:8080/",
          "height": 424
        },
        "id": "NRev4Bc8A0Vi",
        "outputId": "38651db0-7502-4b55-d13d-46e7bdff7e10"
      },
      "execution_count": 647,
      "outputs": [
        {
          "output_type": "execute_result",
          "data": {
            "text/plain": [
              "     time_of_day  distance_to_customer_KM  weekend\n",
              "2              2                    7.277        0\n",
              "6              1                    7.914        1\n",
              "9              0                   10.644        1\n",
              "11             1                    4.946        1\n",
              "12             1                    7.215        0\n",
              "..           ...                      ...      ...\n",
              "990            1                    7.563        1\n",
              "992            0                    6.481        0\n",
              "993            2                   10.384        1\n",
              "994            0                    9.014        0\n",
              "996            1                    7.562        1\n",
              "\n",
              "[321 rows x 3 columns]"
            ],
            "text/html": [
              "\n",
              "  <div id=\"df-b7cf8d3b-b636-424d-bd51-cebf25c02fdd\">\n",
              "    <div class=\"colab-df-container\">\n",
              "      <div>\n",
              "<style scoped>\n",
              "    .dataframe tbody tr th:only-of-type {\n",
              "        vertical-align: middle;\n",
              "    }\n",
              "\n",
              "    .dataframe tbody tr th {\n",
              "        vertical-align: top;\n",
              "    }\n",
              "\n",
              "    .dataframe thead th {\n",
              "        text-align: right;\n",
              "    }\n",
              "</style>\n",
              "<table border=\"1\" class=\"dataframe\">\n",
              "  <thead>\n",
              "    <tr style=\"text-align: right;\">\n",
              "      <th></th>\n",
              "      <th>time_of_day</th>\n",
              "      <th>distance_to_customer_KM</th>\n",
              "      <th>weekend</th>\n",
              "    </tr>\n",
              "  </thead>\n",
              "  <tbody>\n",
              "    <tr>\n",
              "      <th>2</th>\n",
              "      <td>2</td>\n",
              "      <td>7.277</td>\n",
              "      <td>0</td>\n",
              "    </tr>\n",
              "    <tr>\n",
              "      <th>6</th>\n",
              "      <td>1</td>\n",
              "      <td>7.914</td>\n",
              "      <td>1</td>\n",
              "    </tr>\n",
              "    <tr>\n",
              "      <th>9</th>\n",
              "      <td>0</td>\n",
              "      <td>10.644</td>\n",
              "      <td>1</td>\n",
              "    </tr>\n",
              "    <tr>\n",
              "      <th>11</th>\n",
              "      <td>1</td>\n",
              "      <td>4.946</td>\n",
              "      <td>1</td>\n",
              "    </tr>\n",
              "    <tr>\n",
              "      <th>12</th>\n",
              "      <td>1</td>\n",
              "      <td>7.215</td>\n",
              "      <td>0</td>\n",
              "    </tr>\n",
              "    <tr>\n",
              "      <th>...</th>\n",
              "      <td>...</td>\n",
              "      <td>...</td>\n",
              "      <td>...</td>\n",
              "    </tr>\n",
              "    <tr>\n",
              "      <th>990</th>\n",
              "      <td>1</td>\n",
              "      <td>7.563</td>\n",
              "      <td>1</td>\n",
              "    </tr>\n",
              "    <tr>\n",
              "      <th>992</th>\n",
              "      <td>0</td>\n",
              "      <td>6.481</td>\n",
              "      <td>0</td>\n",
              "    </tr>\n",
              "    <tr>\n",
              "      <th>993</th>\n",
              "      <td>2</td>\n",
              "      <td>10.384</td>\n",
              "      <td>1</td>\n",
              "    </tr>\n",
              "    <tr>\n",
              "      <th>994</th>\n",
              "      <td>0</td>\n",
              "      <td>9.014</td>\n",
              "      <td>0</td>\n",
              "    </tr>\n",
              "    <tr>\n",
              "      <th>996</th>\n",
              "      <td>1</td>\n",
              "      <td>7.562</td>\n",
              "      <td>1</td>\n",
              "    </tr>\n",
              "  </tbody>\n",
              "</table>\n",
              "<p>321 rows × 3 columns</p>\n",
              "</div>\n",
              "      <button class=\"colab-df-convert\" onclick=\"convertToInteractive('df-b7cf8d3b-b636-424d-bd51-cebf25c02fdd')\"\n",
              "              title=\"Convert this dataframe to an interactive table.\"\n",
              "              style=\"display:none;\">\n",
              "        \n",
              "  <svg xmlns=\"http://www.w3.org/2000/svg\" height=\"24px\"viewBox=\"0 0 24 24\"\n",
              "       width=\"24px\">\n",
              "    <path d=\"M0 0h24v24H0V0z\" fill=\"none\"/>\n",
              "    <path d=\"M18.56 5.44l.94 2.06.94-2.06 2.06-.94-2.06-.94-.94-2.06-.94 2.06-2.06.94zm-11 1L8.5 8.5l.94-2.06 2.06-.94-2.06-.94L8.5 2.5l-.94 2.06-2.06.94zm10 10l.94 2.06.94-2.06 2.06-.94-2.06-.94-.94-2.06-.94 2.06-2.06.94z\"/><path d=\"M17.41 7.96l-1.37-1.37c-.4-.4-.92-.59-1.43-.59-.52 0-1.04.2-1.43.59L10.3 9.45l-7.72 7.72c-.78.78-.78 2.05 0 2.83L4 21.41c.39.39.9.59 1.41.59.51 0 1.02-.2 1.41-.59l7.78-7.78 2.81-2.81c.8-.78.8-2.07 0-2.86zM5.41 20L4 18.59l7.72-7.72 1.47 1.35L5.41 20z\"/>\n",
              "  </svg>\n",
              "      </button>\n",
              "      \n",
              "  <style>\n",
              "    .colab-df-container {\n",
              "      display:flex;\n",
              "      flex-wrap:wrap;\n",
              "      gap: 12px;\n",
              "    }\n",
              "\n",
              "    .colab-df-convert {\n",
              "      background-color: #E8F0FE;\n",
              "      border: none;\n",
              "      border-radius: 50%;\n",
              "      cursor: pointer;\n",
              "      display: none;\n",
              "      fill: #1967D2;\n",
              "      height: 32px;\n",
              "      padding: 0 0 0 0;\n",
              "      width: 32px;\n",
              "    }\n",
              "\n",
              "    .colab-df-convert:hover {\n",
              "      background-color: #E2EBFA;\n",
              "      box-shadow: 0px 1px 2px rgba(60, 64, 67, 0.3), 0px 1px 3px 1px rgba(60, 64, 67, 0.15);\n",
              "      fill: #174EA6;\n",
              "    }\n",
              "\n",
              "    [theme=dark] .colab-df-convert {\n",
              "      background-color: #3B4455;\n",
              "      fill: #D2E3FC;\n",
              "    }\n",
              "\n",
              "    [theme=dark] .colab-df-convert:hover {\n",
              "      background-color: #434B5C;\n",
              "      box-shadow: 0px 1px 3px 1px rgba(0, 0, 0, 0.15);\n",
              "      filter: drop-shadow(0px 1px 2px rgba(0, 0, 0, 0.3));\n",
              "      fill: #FFFFFF;\n",
              "    }\n",
              "  </style>\n",
              "\n",
              "      <script>\n",
              "        const buttonEl =\n",
              "          document.querySelector('#df-b7cf8d3b-b636-424d-bd51-cebf25c02fdd button.colab-df-convert');\n",
              "        buttonEl.style.display =\n",
              "          google.colab.kernel.accessAllowed ? 'block' : 'none';\n",
              "\n",
              "        async function convertToInteractive(key) {\n",
              "          const element = document.querySelector('#df-b7cf8d3b-b636-424d-bd51-cebf25c02fdd');\n",
              "          const dataTable =\n",
              "            await google.colab.kernel.invokeFunction('convertToInteractive',\n",
              "                                                     [key], {});\n",
              "          if (!dataTable) return;\n",
              "\n",
              "          const docLinkHtml = 'Like what you see? Visit the ' +\n",
              "            '<a target=\"_blank\" href=https://colab.research.google.com/notebooks/data_table.ipynb>data table notebook</a>'\n",
              "            + ' to learn more about interactive tables.';\n",
              "          element.innerHTML = '';\n",
              "          dataTable['output_type'] = 'display_data';\n",
              "          await google.colab.output.renderOutput(dataTable, element);\n",
              "          const docLink = document.createElement('div');\n",
              "          docLink.innerHTML = docLinkHtml;\n",
              "          element.appendChild(docLink);\n",
              "        }\n",
              "      </script>\n",
              "    </div>\n",
              "  </div>\n",
              "  "
            ]
          },
          "metadata": {},
          "execution_count": 647
        }
      ]
    },
    {
      "cell_type": "code",
      "source": [
        "# delivery fee and the other variables\n",
        "linear_reg = linear_regression_model(x, y)\n",
        "predict_variables = outlier_BK[['time_of_day', 'distance_to_customer_KM', 'weekend']]\n",
        "# predict new calculated delivery fee\n",
        "predict_delivery_fee = linear_prediction_model(linear_reg, predict_variables)\n",
        "# add the new column to the dataframe\n",
        "outlier_BK['undiscounted_delivery_fee'] = predict_delivery_fee"
      ],
      "metadata": {
        "colab": {
          "base_uri": "https://localhost:8080/"
        },
        "id": "VfQvSBB8A5Cc",
        "outputId": "21d28c6f-70f1-4cf1-8c44-d5e5b6c10930"
      },
      "execution_count": 648,
      "outputs": [
        {
          "output_type": "stream",
          "name": "stdout",
          "text": [
            "Training R2 0.9869100136293225\n",
            "Testing R2 0.9853046102760916\n"
          ]
        }
      ]
    },
    {
      "cell_type": "markdown",
      "source": [
        "Now, look at the final branch"
      ],
      "metadata": {
        "id": "ekF1le9Ir_Er"
      }
    },
    {
      "cell_type": "markdown",
      "source": [
        "#### 3.4.3 NS Branch"
      ],
      "metadata": {
        "id": "_0vGCfqRBA-p"
      }
    },
    {
      "cell_type": "code",
      "source": [
        "# Get residuals based on the difference between true and predicted values\n",
        "outlier_NS['residual'] = outlier_NS.apply(lambda x: (x['undiscounted_delivery_fee']-x['predicted_delivery_fee']), axis=1)"
      ],
      "metadata": {
        "colab": {
          "base_uri": "https://localhost:8080/"
        },
        "id": "wSpI5jRlBDEo",
        "outputId": "7edcf283-59e9-4355-d0c1-29316cf7b814"
      },
      "execution_count": 649,
      "outputs": [
        {
          "output_type": "stream",
          "name": "stderr",
          "text": [
            "/usr/local/lib/python3.7/dist-packages/ipykernel_launcher.py:2: SettingWithCopyWarning: \n",
            "A value is trying to be set on a copy of a slice from a DataFrame.\n",
            "Try using .loc[row_indexer,col_indexer] = value instead\n",
            "\n",
            "See the caveats in the documentation: https://pandas.pydata.org/pandas-docs/stable/user_guide/indexing.html#returning-a-view-versus-a-copy\n",
            "  \n"
          ]
        }
      ]
    },
    {
      "cell_type": "code",
      "source": [
        "# Boxplot of the residuals\n",
        "outlier_NS.boxplot(column='residual')"
      ],
      "metadata": {
        "colab": {
          "base_uri": "https://localhost:8080/",
          "height": 282
        },
        "id": "PH80RyjGBPOp",
        "outputId": "9def09d3-c9f5-4a0b-e693-572e25cd5706"
      },
      "execution_count": 650,
      "outputs": [
        {
          "output_type": "execute_result",
          "data": {
            "text/plain": [
              "<matplotlib.axes._subplots.AxesSubplot at 0x7f8af44b5890>"
            ]
          },
          "metadata": {},
          "execution_count": 650
        },
        {
          "output_type": "display_data",
          "data": {
            "text/plain": [
              "<Figure size 432x288 with 1 Axes>"
            ],
            "image/png": "[encoded data removed]"
          },
          "metadata": {
            "needs_background": "light"
          }
        }
      ]
    },
    {
      "cell_type": "code",
      "source": [
        "outlier_NS.residual.describe()"
      ],
      "metadata": {
        "colab": {
          "base_uri": "https://localhost:8080/"
        },
        "id": "nbJU-k9NBSgX",
        "outputId": "09511c66-4324-49c8-d497-9cda3d114c41"
      },
      "execution_count": 651,
      "outputs": [
        {
          "output_type": "execute_result",
          "data": {
            "text/plain": [
              "count    318.000000\n",
              "mean      -0.032428\n",
              "std        1.615669\n",
              "min       -8.906697\n",
              "25%       -0.296315\n",
              "50%       -0.117966\n",
              "75%        0.117542\n",
              "max        8.473613\n",
              "Name: residual, dtype: float64"
            ]
          },
          "metadata": {},
          "execution_count": 651
        }
      ]
    },
    {
      "cell_type": "code",
      "source": [
        "# Create the upper and lower bounds\n",
        "lower_boundNS = outlier_NS.residual.quantile(0.25) - 1.5*(outlier_NS.residual.quantile(0.75) - outlier_NS.residual.quantile(0.25))\n",
        "upper_boundNS = outlier_NS.residual.quantile(0.75) + 1.5*(outlier_NS.residual.quantile(0.75) - outlier_NS.residual.quantile(0.25))"
      ],
      "metadata": {
        "id": "Dy7MoDpqBVw-"
      },
      "execution_count": 652,
      "outputs": []
    },
    {
      "cell_type": "code",
      "source": [
        "# Remove outliers\n",
        "outlier_NS = outlier_NS[outlier_NS['residual'] < upper_boundNS]\n",
        "outlier_NS = outlier_NS[outlier_NS['residual'] > lower_boundNS]\n",
        "\n",
        "print(outlier_NS.shape)"
      ],
      "metadata": {
        "colab": {
          "base_uri": "https://localhost:8080/"
        },
        "id": "H1OB5ZVKBf4W",
        "outputId": "bcbbc643-aa29-489e-b30e-8e4af4d1ced6"
      },
      "execution_count": 653,
      "outputs": [
        {
          "output_type": "stream",
          "name": "stdout",
          "text": [
            "(296, 18)\n"
          ]
        }
      ]
    },
    {
      "cell_type": "markdown",
      "source": [
        "Re-train the model"
      ],
      "metadata": {
        "id": "qQn3KrIAsQBi"
      }
    },
    {
      "cell_type": "code",
      "source": [
        "# Y: delivery fee is target variable\n",
        "y = outlier_NS['undiscounted_delivery_fee']\n",
        "\n",
        "# X: 3 independent variables\n",
        "x = outlier_NS[['time_of_day', 'distance_to_customer_KM', 'weekend']]\n",
        "\n",
        "# Encode categorical data\n",
        "x = pd.get_dummies(x)\n",
        "x"
      ],
      "metadata": {
        "colab": {
          "base_uri": "https://localhost:8080/",
          "height": 424
        },
        "id": "feq9NnMqBqQ8",
        "outputId": "c96cd9fb-c4fe-45e5-974f-bd68b0c65a30"
      },
      "execution_count": 654,
      "outputs": [
        {
          "output_type": "execute_result",
          "data": {
            "text/plain": [
              "     time_of_day  distance_to_customer_KM  weekend\n",
              "0              0                   10.020        0\n",
              "3              1                    7.642        1\n",
              "4              2                    9.429        0\n",
              "7              1                   10.067        0\n",
              "10             2                    8.008        0\n",
              "..           ...                      ...      ...\n",
              "982            1                   10.124        0\n",
              "983            0                    9.378        0\n",
              "985            2                    8.694        0\n",
              "997            1                    9.491        0\n",
              "998            0                    7.399        0\n",
              "\n",
              "[296 rows x 3 columns]"
            ],
            "text/html": [
              "\n",
              "  <div id=\"df-420b1d65-7ff8-4b82-bec3-44d5752c5427\">\n",
              "    <div class=\"colab-df-container\">\n",
              "      <div>\n",
              "<style scoped>\n",
              "    .dataframe tbody tr th:only-of-type {\n",
              "        vertical-align: middle;\n",
              "    }\n",
              "\n",
              "    .dataframe tbody tr th {\n",
              "        vertical-align: top;\n",
              "    }\n",
              "\n",
              "    .dataframe thead th {\n",
              "        text-align: right;\n",
              "    }\n",
              "</style>\n",
              "<table border=\"1\" class=\"dataframe\">\n",
              "  <thead>\n",
              "    <tr style=\"text-align: right;\">\n",
              "      <th></th>\n",
              "      <th>time_of_day</th>\n",
              "      <th>distance_to_customer_KM</th>\n",
              "      <th>weekend</th>\n",
              "    </tr>\n",
              "  </thead>\n",
              "  <tbody>\n",
              "    <tr>\n",
              "      <th>0</th>\n",
              "      <td>0</td>\n",
              "      <td>10.020</td>\n",
              "      <td>0</td>\n",
              "    </tr>\n",
              "    <tr>\n",
              "      <th>3</th>\n",
              "      <td>1</td>\n",
              "      <td>7.642</td>\n",
              "      <td>1</td>\n",
              "    </tr>\n",
              "    <tr>\n",
              "      <th>4</th>\n",
              "      <td>2</td>\n",
              "      <td>9.429</td>\n",
              "      <td>0</td>\n",
              "    </tr>\n",
              "    <tr>\n",
              "      <th>7</th>\n",
              "      <td>1</td>\n",
              "      <td>10.067</td>\n",
              "      <td>0</td>\n",
              "    </tr>\n",
              "    <tr>\n",
              "      <th>10</th>\n",
              "      <td>2</td>\n",
              "      <td>8.008</td>\n",
              "      <td>0</td>\n",
              "    </tr>\n",
              "    <tr>\n",
              "      <th>...</th>\n",
              "      <td>...</td>\n",
              "      <td>...</td>\n",
              "      <td>...</td>\n",
              "    </tr>\n",
              "    <tr>\n",
              "      <th>982</th>\n",
              "      <td>1</td>\n",
              "      <td>10.124</td>\n",
              "      <td>0</td>\n",
              "    </tr>\n",
              "    <tr>\n",
              "      <th>983</th>\n",
              "      <td>0</td>\n",
              "      <td>9.378</td>\n",
              "      <td>0</td>\n",
              "    </tr>\n",
              "    <tr>\n",
              "      <th>985</th>\n",
              "      <td>2</td>\n",
              "      <td>8.694</td>\n",
              "      <td>0</td>\n",
              "    </tr>\n",
              "    <tr>\n",
              "      <th>997</th>\n",
              "      <td>1</td>\n",
              "      <td>9.491</td>\n",
              "      <td>0</td>\n",
              "    </tr>\n",
              "    <tr>\n",
              "      <th>998</th>\n",
              "      <td>0</td>\n",
              "      <td>7.399</td>\n",
              "      <td>0</td>\n",
              "    </tr>\n",
              "  </tbody>\n",
              "</table>\n",
              "<p>296 rows × 3 columns</p>\n",
              "</div>\n",
              "      <button class=\"colab-df-convert\" onclick=\"convertToInteractive('df-420b1d65-7ff8-4b82-bec3-44d5752c5427')\"\n",
              "              title=\"Convert this dataframe to an interactive table.\"\n",
              "              style=\"display:none;\">\n",
              "        \n",
              "  <svg xmlns=\"http://www.w3.org/2000/svg\" height=\"24px\"viewBox=\"0 0 24 24\"\n",
              "       width=\"24px\">\n",
              "    <path d=\"M0 0h24v24H0V0z\" fill=\"none\"/>\n",
              "    <path d=\"M18.56 5.44l.94 2.06.94-2.06 2.06-.94-2.06-.94-.94-2.06-.94 2.06-2.06.94zm-11 1L8.5 8.5l.94-2.06 2.06-.94-2.06-.94L8.5 2.5l-.94 2.06-2.06.94zm10 10l.94 2.06.94-2.06 2.06-.94-2.06-.94-.94-2.06-.94 2.06-2.06.94z\"/><path d=\"M17.41 7.96l-1.37-1.37c-.4-.4-.92-.59-1.43-.59-.52 0-1.04.2-1.43.59L10.3 9.45l-7.72 7.72c-.78.78-.78 2.05 0 2.83L4 21.41c.39.39.9.59 1.41.59.51 0 1.02-.2 1.41-.59l7.78-7.78 2.81-2.81c.8-.78.8-2.07 0-2.86zM5.41 20L4 18.59l7.72-7.72 1.47 1.35L5.41 20z\"/>\n",
              "  </svg>\n",
              "      </button>\n",
              "      \n",
              "  <style>\n",
              "    .colab-df-container {\n",
              "      display:flex;\n",
              "      flex-wrap:wrap;\n",
              "      gap: 12px;\n",
              "    }\n",
              "\n",
              "    .colab-df-convert {\n",
              "      background-color: #E8F0FE;\n",
              "      border: none;\n",
              "      border-radius: 50%;\n",
              "      cursor: pointer;\n",
              "      display: none;\n",
              "      fill: #1967D2;\n",
              "      height: 32px;\n",
              "      padding: 0 0 0 0;\n",
              "      width: 32px;\n",
              "    }\n",
              "\n",
              "    .colab-df-convert:hover {\n",
              "      background-color: #E2EBFA;\n",
              "      box-shadow: 0px 1px 2px rgba(60, 64, 67, 0.3), 0px 1px 3px 1px rgba(60, 64, 67, 0.15);\n",
              "      fill: #174EA6;\n",
              "    }\n",
              "\n",
              "    [theme=dark] .colab-df-convert {\n",
              "      background-color: #3B4455;\n",
              "      fill: #D2E3FC;\n",
              "    }\n",
              "\n",
              "    [theme=dark] .colab-df-convert:hover {\n",
              "      background-color: #434B5C;\n",
              "      box-shadow: 0px 1px 3px 1px rgba(0, 0, 0, 0.15);\n",
              "      filter: drop-shadow(0px 1px 2px rgba(0, 0, 0, 0.3));\n",
              "      fill: #FFFFFF;\n",
              "    }\n",
              "  </style>\n",
              "\n",
              "      <script>\n",
              "        const buttonEl =\n",
              "          document.querySelector('#df-420b1d65-7ff8-4b82-bec3-44d5752c5427 button.colab-df-convert');\n",
              "        buttonEl.style.display =\n",
              "          google.colab.kernel.accessAllowed ? 'block' : 'none';\n",
              "\n",
              "        async function convertToInteractive(key) {\n",
              "          const element = document.querySelector('#df-420b1d65-7ff8-4b82-bec3-44d5752c5427');\n",
              "          const dataTable =\n",
              "            await google.colab.kernel.invokeFunction('convertToInteractive',\n",
              "                                                     [key], {});\n",
              "          if (!dataTable) return;\n",
              "\n",
              "          const docLinkHtml = 'Like what you see? Visit the ' +\n",
              "            '<a target=\"_blank\" href=https://colab.research.google.com/notebooks/data_table.ipynb>data table notebook</a>'\n",
              "            + ' to learn more about interactive tables.';\n",
              "          element.innerHTML = '';\n",
              "          dataTable['output_type'] = 'display_data';\n",
              "          await google.colab.output.renderOutput(dataTable, element);\n",
              "          const docLink = document.createElement('div');\n",
              "          docLink.innerHTML = docLinkHtml;\n",
              "          element.appendChild(docLink);\n",
              "        }\n",
              "      </script>\n",
              "    </div>\n",
              "  </div>\n",
              "  "
            ]
          },
          "metadata": {},
          "execution_count": 654
        }
      ]
    },
    {
      "cell_type": "code",
      "source": [
        "# delivery fee and the other variables\n",
        "linear_reg = linear_regression_model(x, y)\n",
        "predict_variables = outlier_NS[['time_of_day', 'distance_to_customer_KM', 'weekend']]\n",
        "# predict new calculated delivery fee\n",
        "predict_delivery_fee = linear_prediction_model(linear_reg, predict_variables)\n",
        "# add the column to the dataframe\n",
        "outlier_NS['undiscounted_delivery_fee'] = predict_delivery_fee"
      ],
      "metadata": {
        "colab": {
          "base_uri": "https://localhost:8080/"
        },
        "id": "1hACMWV9Buug",
        "outputId": "55f3aba9-b1af-4efa-cbc6-a895a40f73c1"
      },
      "execution_count": 655,
      "outputs": [
        {
          "output_type": "stream",
          "name": "stdout",
          "text": [
            "Training R2 0.9736323488104133\n",
            "Testing R2 0.9684875662321822\n"
          ]
        }
      ]
    },
    {
      "cell_type": "markdown",
      "source": [
        "Now each of the branch models perform significantly better with the outliers removed as opposed to having them in each dataset."
      ],
      "metadata": {
        "id": "nURYbaESBy3u"
      }
    },
    {
      "cell_type": "markdown",
      "source": [
        "### 3.5 Combine Data and remove the Missing Dataset"
      ],
      "metadata": {
        "id": "9p2O781uB8N6"
      }
    },
    {
      "cell_type": "code",
      "source": [
        "# Combine the 3 branches\n",
        "outlier_final = pd.concat([outlier_TP, outlier_BK, outlier_NS], axis=0)"
      ],
      "metadata": {
        "id": "L77TI22ZCAID"
      },
      "execution_count": 656,
      "outputs": []
    },
    {
      "cell_type": "code",
      "source": [
        "outlier_final.shape"
      ],
      "metadata": {
        "colab": {
          "base_uri": "https://localhost:8080/"
        },
        "id": "MMBfKKVeCLP0",
        "outputId": "bd97748e-cfc8-45ac-f58b-d741b5ac242c"
      },
      "execution_count": 657,
      "outputs": [
        {
          "output_type": "execute_result",
          "data": {
            "text/plain": [
              "(939, 18)"
            ]
          },
          "metadata": {},
          "execution_count": 657
        }
      ]
    },
    {
      "cell_type": "markdown",
      "source": [
        "We can see that there have been 53 rows removed from our combined dataset"
      ],
      "metadata": {
        "id": "20mCI1U1CXqL"
      }
    },
    {
      "cell_type": "code",
      "source": [
        "# Reindex rows\n",
        "outlier_final = outlier_final.sort_index(axis=0,ascending=True)"
      ],
      "metadata": {
        "id": "MG-XTkFUCORa"
      },
      "execution_count": 658,
      "outputs": []
    },
    {
      "cell_type": "markdown",
      "source": [
        "Only keep the outlier dataset and remove the missing dataset"
      ],
      "metadata": {
        "id": "Cww7-FJ-sgtv"
      }
    },
    {
      "cell_type": "code",
      "source": [
        "outlier_final = outlier_final[:452]"
      ],
      "metadata": {
        "id": "mE6hLgTSCcnM"
      },
      "execution_count": 659,
      "outputs": []
    },
    {
      "cell_type": "markdown",
      "source": [
        "And we can see that 48 rows have been dropped for the outlier dataset specifically"
      ],
      "metadata": {
        "id": "USUuK48WDte0"
      }
    },
    {
      "cell_type": "code",
      "source": [
        "# Drop the unnecessary columns\n",
        "outlier_final = outlier_final.drop(['day_of_week', 'weekend', 'undiscounted_delivery_fee', 'predicted_delivery_fee', 'time_of_day', 'residual'], axis=1)"
      ],
      "metadata": {
        "id": "s44b9F9eE1O_"
      },
      "execution_count": 660,
      "outputs": []
    },
    {
      "cell_type": "code",
      "source": [
        "outlier_final.shape"
      ],
      "metadata": {
        "colab": {
          "base_uri": "https://localhost:8080/"
        },
        "id": "4gho7AeFDxsu",
        "outputId": "a4f39fa2-6ae8-43ef-8010-dad305eed779"
      },
      "execution_count": 661,
      "outputs": [
        {
          "output_type": "execute_result",
          "data": {
            "text/plain": [
              "(452, 12)"
            ]
          },
          "metadata": {},
          "execution_count": 661
        }
      ]
    },
    {
      "cell_type": "markdown",
      "source": [
        "### 3.6 Save Output File"
      ],
      "metadata": {
        "id": "xwo1J2GcFEEA"
      }
    },
    {
      "cell_type": "code",
      "source": [
        "# use to_csv() method\n",
        "outlier_final.to_csv(\"28746511_outlier_data_solution.csv\", index = False)"
      ],
      "metadata": {
        "id": "VzECDhWzFGUL"
      },
      "execution_count": 662,
      "outputs": []
    }
  ],
  "metadata": {
    "colab": {
      "collapsed_sections": [],
      "provenance": []
    },
    "kernelspec": {
      "display_name": "Python 3",
      "name": "python3"
    },
    "language_info": {
      "name": "python"
    }
  },
  "nbformat": 4,
  "nbformat_minor": 0
}